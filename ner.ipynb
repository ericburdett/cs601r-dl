{
  "nbformat": 4,
  "nbformat_minor": 0,
  "metadata": {
    "colab": {
      "name": "ner.ipynb",
      "provenance": [],
      "authorship_tag": "ABX9TyMVzneewZYqUCerW26lZNlq",
      "include_colab_link": true
    },
    "kernelspec": {
      "name": "python3",
      "display_name": "Python 3"
    },
    "accelerator": "GPU"
  },
  "cells": [
    {
      "cell_type": "markdown",
      "metadata": {
        "id": "view-in-github",
        "colab_type": "text"
      },
      "source": [
        "<a href=\"https://colab.research.google.com/github/ericburdett/cs601r-dl/blob/master/ner.ipynb\" target=\"_parent\"><img src=\"https://colab.research.google.com/assets/colab-badge.svg\" alt=\"Open In Colab\"/></a>"
      ]
    },
    {
      "cell_type": "markdown",
      "metadata": {
        "id": "dAoyRxyga7yC",
        "colab_type": "text"
      },
      "source": [
        "# Named Entity Recognition on Handwritten Documents"
      ]
    },
    {
      "cell_type": "code",
      "metadata": {
        "id": "9mNs_BtsaykG",
        "colab_type": "code",
        "outputId": "5cafb073-ba82-4865-be9f-b62dd04a34a7",
        "colab": {
          "base_uri": "https://localhost:8080/",
          "height": 34
        }
      },
      "source": [
        "import torch\n",
        "import torch.nn as nn\n",
        "import torch.nn.functional as F\n",
        "import torch.optim as optim\n",
        "from torch.utils.data import Dataset, DataLoader\n",
        "import numpy as np\n",
        "import matplotlib.pyplot as plt\n",
        "from torchvision import transforms, utils, datasets\n",
        "from tqdm import tqdm\n",
        "from torch.nn.parameter import Parameter\n",
        "import pdb\n",
        "import torchvision\n",
        "import os\n",
        "import gzip\n",
        "import tarfile\n",
        "from PIL import Image, ImageOps\n",
        "import gc\n",
        "import pdb\n",
        "import pandas as pd\n",
        "from PIL import Image\n",
        "from matplotlib.pyplot import imshow\n",
        "from sklearn.metrics import confusion_matrix\n",
        "import seaborn as sns\n",
        "from google.colab import drive\n",
        "drive.mount('/content/drive')\n",
        "from IPython.core.ultratb import AutoFormattedTB\n",
        "__ITB__ = AutoFormattedTB(mode = 'Verbose',color_scheme='LightBg', tb_offset = 1)\n",
        "\n",
        "assert torch.cuda.is_available(), \"Request a GPU from Runtime > Change Runtime\""
      ],
      "execution_count": 20,
      "outputs": [
        {
          "output_type": "stream",
          "text": [
            "Drive already mounted at /content/drive; to attempt to forcibly remount, call drive.mount(\"/content/drive\", force_remount=True).\n"
          ],
          "name": "stdout"
        }
      ]
    },
    {
      "cell_type": "code",
      "metadata": {
        "id": "f9aDvlkQNOjT",
        "colab_type": "code",
        "colab": {}
      },
      "source": [
        "!cp \"drive/My Drive/datasets/esposalles.zip\" \"/content\""
      ],
      "execution_count": 0,
      "outputs": []
    },
    {
      "cell_type": "code",
      "metadata": {
        "id": "d4xL9fP7NtkU",
        "colab_type": "code",
        "colab": {}
      },
      "source": [
        "!unzip -q esposalles.zip\n",
        "!rm esposalles.zip"
      ],
      "execution_count": 0,
      "outputs": []
    },
    {
      "cell_type": "code",
      "metadata": {
        "id": "cO8JWMj_gKi1",
        "colab_type": "code",
        "colab": {}
      },
      "source": [
        "class EsposallesDataset(Dataset):\n",
        "  def __init__(self, label='category', img_size=128):\n",
        "    if not os.path.exists('/content/labels.csv'):\n",
        "      raise Exception('Esposalles dataset does not exist in /content/labels.csv')\n",
        "\n",
        "    self.img_size = img_size\n",
        "    self.label = label\n",
        "    self.path = '/content/Images/'\n",
        "    self.labels_df = pd.read_csv('/content/labels.csv', sep='\\t', header=None, names=['word', 'category', 'person', 'transcription', 'page'])\n",
        "\n",
        "    unique_labels = self.labels_df[label].drop_duplicates().values\n",
        "\n",
        "    self.num_to_label = dict()\n",
        "    self.label_to_num = dict()\n",
        "\n",
        "\n",
        "    for index, label in zip(range(len(unique_labels)), unique_labels):\n",
        "      self.num_to_label[index] = label\n",
        "      self.label_to_num[label] = index\n",
        "\n",
        "  def dicts(self):\n",
        "    return self.num_to_label, self.label_to_num\n",
        "  \n",
        "  def num_labels(self):\n",
        "    return len(self.num_to_label)\n",
        "\n",
        "  def resize(self, img):\n",
        "    old_size = img.size\n",
        "    ratio = float(self.img_size)/max(old_size)\n",
        "    new_size = tuple([int(x*ratio) for x in old_size])\n",
        "\n",
        "    img = img.resize(new_size, Image.ANTIALIAS)\n",
        "\n",
        "    new_img = Image.new(\"RGB\", (self.img_size, self.img_size))\n",
        "    new_img.paste(img, ((self.img_size-new_size[0])//2,\n",
        "                        (self.img_size-new_size[1])//2))\n",
        "    \n",
        "    return new_img\n",
        "\n",
        "  def df(self):\n",
        "    return self.labels_df\n",
        "\n",
        "  def open_image(self, path):\n",
        "    img = Image.open(path + '.png')\n",
        "    img = self.resize(img)\n",
        "    x = transforms.functional.to_tensor(img)\n",
        "    # x = x.view(-1, self.img_size ** 2) # Shape the image tensor in a way that can be consumable by the GRU\n",
        "\n",
        "    return x\n",
        "\n",
        "  def __getitem__(self, index):    \n",
        "    pages = self.labels_df[self.labels_df['page'] == index]\n",
        "\n",
        "    imgs = []\n",
        "    labels = []\n",
        "\n",
        "    for _, row in pages.iterrows():\n",
        "      img = self.open_image(self.path + row['word'])\n",
        "      label_text = row[self.label]\n",
        "      label_num = self.label_to_num[label_text]\n",
        "\n",
        "      imgs.append(img)\n",
        "      labels.append(label_num)\n",
        "\n",
        "    return imgs, labels\n",
        "\n",
        "  def __len__(self):\n",
        "    return len(self.labels_df['page'].drop_duplicates()) "
      ],
      "execution_count": 0,
      "outputs": []
    },
    {
      "cell_type": "code",
      "metadata": {
        "id": "5vOsyMHSctcj",
        "colab_type": "code",
        "colab": {}
      },
      "source": [
        "class RNN(nn.Module):\n",
        "  def __init__(self, in_channels, hidden_channel_size, input_size, hidden_size, output_size, num_layers=1):\n",
        "    super(RNN, self).__init__()\n",
        "\n",
        "    self.in_channels = in_channels\n",
        "    self.hidden_channel_size = hidden_channel_size\n",
        "    self.input_size = input_size\n",
        "    self.hidden_size = hidden_size\n",
        "    self.output_size = output_size\n",
        "    self.num_layers = num_layers\n",
        "\n",
        "    self.conv1 = nn.Conv2d(self.in_channels, self.hidden_channel_size, kernel_size=3, padding=1)\n",
        "    self.conv2 = nn.Conv2d(self.hidden_channel_size, self.hidden_channel_size, kernel_size=3, padding=1)\n",
        "    self.conv3 = nn.Conv2d(self.hidden_channel_size, 1, kernel_size=3, padding=1)\n",
        "    self.gru = nn.GRU(input_size**2, hidden_size, num_layers)\n",
        "    self.linear = nn.Linear(hidden_size, output_size)\n",
        "\n",
        "  def forward(self, input_img, hidden):\n",
        "    # input_img = input_img.unsqueeze(0) # unsqueeze to comply with mini-batch for conv2d\n",
        "    out = self.conv1(input_img)\n",
        "    out = self.conv2(out)\n",
        "    out = self.conv3(out)\n",
        "    out = out.view(1, -1, self.input_size**2) # reshape to expected shape for gru\n",
        "    out, hidden = self.gru(out, hidden)\n",
        "    out = self.linear(out)\n",
        "\n",
        "    return out.view(-1), hidden\n",
        "\n",
        "  def init_hidden(self):\n",
        "    return torch.zeros(self.num_layers, 1, self.hidden_size).cuda()"
      ],
      "execution_count": 0,
      "outputs": []
    },
    {
      "cell_type": "code",
      "metadata": {
        "id": "ZJwA8A2DeQbC",
        "colab_type": "code",
        "colab": {}
      },
      "source": [
        "model(dataset[0][0][0].unsqueeze(0).cuda(), model.init_hidden())"
      ],
      "execution_count": 0,
      "outputs": []
    },
    {
      "cell_type": "code",
      "metadata": {
        "id": "y_Hrwr87eAwo",
        "colab_type": "code",
        "colab": {}
      },
      "source": [
        "NUM_EPOCHS = 1\n",
        "input_size = 64\n",
        "\n",
        "dataset = EsposallesDataset(img_size=input_size)\n",
        "data_loader = DataLoader(dataset,\n",
        "                          batch_size=1,\n",
        "                          num_workers=4,\n",
        "                          shuffle=False)\n",
        "\n",
        "\n",
        "hidden_size = 200\n",
        "hidden_channel_size = 50\n",
        "output_size = dataset.num_labels()\n",
        "num_layers = 3\n",
        "\n",
        "model = RNN(3, hidden_channel_size, input_size, hidden_size, output_size, num_layers=3)\n",
        "model = model.cuda()\n",
        "\n",
        "dataset[0][0][0]"
      ],
      "execution_count": 0,
      "outputs": []
    },
    {
      "cell_type": "code",
      "metadata": {
        "id": "OArr_YF4cUKW",
        "colab_type": "code",
        "colab": {}
      },
      "source": [
        "NUM_EPOCHS = 1\n",
        "input_size = 64\n",
        "\n",
        "dataset = EsposallesDataset(img_size=input_size)\n",
        "data_loader = DataLoader(dataset,\n",
        "                          batch_size=1,\n",
        "                          num_workers=4,\n",
        "                          shuffle=False)\n",
        "\n",
        "\n",
        "hidden_size = 200\n",
        "hidden_channel_size = 50\n",
        "output_size = dataset.num_labels()\n",
        "num_layers = 3\n",
        "\n",
        "model = RNN(3, hidden_channel_size, input_size, hidden_size, output_size, num_layers=3)\n",
        "model = model.cuda()\n",
        "\n",
        "for batch, (x, y_truth) in enumerate(data_loader):\n",
        "  hidden = model.init_hidden()\n",
        "  for word, label in zip(x, y_truth):\n",
        "    word = word.cuda(async=True)\n",
        "    label = label.cuda(async=True)\n",
        "    y_hat = model(word, hidden)\n",
        "    print(y_hat)\n",
        "    break\n",
        "  break"
      ],
      "execution_count": 0,
      "outputs": []
    },
    {
      "cell_type": "code",
      "metadata": {
        "id": "sz_0aaDcevwR",
        "colab_type": "code",
        "outputId": "6e384308-077a-4824-d6cc-1ce560c080ef",
        "colab": {
          "base_uri": "https://localhost:8080/",
          "height": 34
        }
      },
      "source": [
        "NUM_EPOCHS = 15\n",
        "input_size = 32\n",
        "\n",
        "\n",
        "dataset = EsposallesDataset(img_size=input_size)\n",
        "train_dataset, val_dataset = torch.utils.data.random_split(dataset, [int(.8 * len(dataset)) + 1, int(.2 * len(dataset))])\n",
        "\n",
        "train_loader = DataLoader(dataset,\n",
        "                          batch_size=1,\n",
        "                          num_workers=8,\n",
        "                          shuffle=True)\n",
        "\n",
        "val_loader = DataLoader(val_dataset,\n",
        "                        batch_size=1,\n",
        "                        num_workers=8,\n",
        "                        shuffle=True)\n",
        "\n",
        "\n",
        "hidden_size = 200\n",
        "hidden_channel_size = 50\n",
        "output_size = dataset.num_labels()\n",
        "num_layers = 30\n",
        "\n",
        "model = RNN(3, hidden_channel_size, input_size, hidden_size, output_size, num_layers=3)\n",
        "model = model.cuda()\n",
        "\n",
        "optimizer = torch.optim.Adam(model.parameters(), lr=1e-3)\n",
        "scheduler = torch.optim.lr_scheduler.MultiplicativeLR(optimizer, lr_lambda=lambda epoch: .8)\n",
        "\n",
        "objective = nn.CrossEntropyLoss()\n",
        "\n",
        "# input_lengths = torch.full(size=(1,), fill_value=3, dtype=torch.long)\n",
        "# target_lengths = torch.randint(low=3, high=4, size=(1,), dtype=torch.long)\n",
        "\n",
        "train_acc_list = []\n",
        "train_loss_list = []\n",
        "val_acc_list = []\n",
        "val_loss_list = []\n",
        "\n",
        "predictions = []\n",
        "actual = []\n",
        "\n",
        "for epoch in range(NUM_EPOCHS):\n",
        "  loop = tqdm(total=len(train_loader), position=0, leave=True)\n",
        "\n",
        "  avg_accs = []\n",
        "  avg_losses = []\n",
        "\n",
        "  for batch, (x, y_truth) in enumerate(train_loader):\n",
        "    loss = 0\n",
        "    hidden = model.init_hidden()\n",
        "    optimizer.zero_grad()\n",
        "\n",
        "    accs = []\n",
        "    losses = []\n",
        "\n",
        "    for word, label in zip(x, y_truth):\n",
        "      word, label = word.cuda(async=True), label.cuda(async=True)\n",
        "      pred, hidden = model(word, hidden)\n",
        "\n",
        "      acc = torch.eq(pred.argmax(), label)\n",
        "      ls = objective(pred.unsqueeze(0), label) # - For CTCLoss() ->  , input_lengths, target_lengths)\n",
        "\n",
        "      accs.append(acc.item())\n",
        "      losses.append(ls.item())\n",
        "\n",
        "      loss += ls\n",
        "\n",
        "    loss.backward()\n",
        "    optimizer.step()\n",
        "\n",
        "    avg_accs.append(np.mean(accs))\n",
        "    avg_losses.append(np.mean(losses))\n",
        "\n",
        "    loop.set_description('Epoch:{}, Loss:{:.4f}, Acc:{:.4f}, AvgLoss:{:.4f}, AvgAcc:{:.4f}'.format(epoch, np.mean(losses), np.mean(accs), np.mean(avg_losses), np.mean(avg_accs)))\n",
        "    loop.update(1)\n",
        "  \n",
        "  loop.close()\n",
        "  scheduler.step()\n",
        "\n",
        "  train_acc_list.append(np.mean(avg_accs))\n",
        "  train_loss_list.append(np.mean(avg_losses))\n",
        "  \n",
        "  with torch.no_grad():\n",
        "    val_loop = tqdm(total=len(val_loader), position=0, leave=True)\n",
        "\n",
        "    avg_accs = []\n",
        "    avg_losses = []\n",
        "\n",
        "    for batch, (x, y_truth) in enumerate(val_loader):\n",
        "      hidden = model.init_hidden()\n",
        "\n",
        "      losses = []\n",
        "      accs = []\n",
        "\n",
        "      for word, label in zip(x, y_truth):\n",
        "        word, label = word.cuda(async=True), label.cuda(async=True)\n",
        "        pred, hidden = model(word, hidden)\n",
        "\n",
        "        acc = torch.eq(pred.argmax(), label)\n",
        "        ls = objective(pred.unsqueeze(0), label)\n",
        "\n",
        "        if epoch == NUM_EPOCHS - 1:\n",
        "          predictions.append(pred.argmax().item())\n",
        "          actual.append(label.item())\n",
        "\n",
        "        accs.append(acc.item())\n",
        "        losses.append(ls.item())\n",
        "\n",
        "      avg_accs.append(np.mean(accs))\n",
        "      avg_losses.append(np.mean(losses))\n",
        "\n",
        "      val_loop.set_description('Validation - Epoch:{}, Loss:{:.4f}, Acc:{:.4f}, AvgLoss:{:.4f}, AvgAcc:{:.4f}'.format(epoch, np.mean(losses), np.mean(accs), np.mean(avg_losses), np.mean(avg_accs)))\n",
        "      val_loop.update(1)\n",
        "\n",
        "    val_acc_list.append(np.mean(avg_accs))\n",
        "    val_loss_list.append(np.mean(avg_losses))"
      ],
      "execution_count": 22,
      "outputs": [
        {
          "output_type": "stream",
          "text": [
            "Validation - Epoch:14, Loss:0.0577, Acc:0.9730, AvgLoss:0.1963, AvgAcc:0.9354: 100%|██████████| 193/193 [00:17<00:00, 13.14it/s]"
          ],
          "name": "stderr"
        }
      ]
    },
    {
      "cell_type": "code",
      "metadata": {
        "id": "AHxnRpt1sB_n",
        "colab_type": "code",
        "colab": {
          "base_uri": "https://localhost:8080/",
          "height": 295
        },
        "outputId": "cf0a2546-a6e7-45bf-9fd9-87b0498aa5b7"
      },
      "source": [
        "plt.title('Loss')\n",
        "plt.xlabel('Epochs')\n",
        "plt.ylabel('Loss')\n",
        "plt.plot(range(len(train_loss_list)), train_loss_list, label='train')\n",
        "plt.plot(range(len(val_loss_list)), val_loss_list, label='val')\n",
        "plt.legend()\n",
        "plt.show()"
      ],
      "execution_count": 23,
      "outputs": [
        {
          "output_type": "display_data",
          "data": {
            "image/png": "[encoded data removed]",
            "text/plain": [
              "<Figure size 432x288 with 1 Axes>"
            ]
          },
          "metadata": {
            "tags": []
          }
        }
      ]
    },
    {
      "cell_type": "code",
      "metadata": {
        "id": "nG9L_f3Ytej3",
        "colab_type": "code",
        "colab": {
          "base_uri": "https://localhost:8080/",
          "height": 295
        },
        "outputId": "b98226c3-3d49-496e-f9d3-5640893f9732"
      },
      "source": [
        "plt.title('Accuracy')\n",
        "plt.xlabel('Epochs')\n",
        "plt.ylabel('Loss')\n",
        "plt.plot(range(len(train_acc_list)), train_acc_list, label='train')\n",
        "plt.plot( range(len(val_acc_list)), val_acc_list, label='val')\n",
        "plt.legend()\n",
        "plt.show()"
      ],
      "execution_count": 24,
      "outputs": [
        {
          "output_type": "display_data",
          "data": {
            "image/png": "[encoded data removed]",
            "text/plain": [
              "<Figure size 432x288 with 1 Axes>"
            ]
          },
          "metadata": {
            "tags": []
          }
        }
      ]
    },
    {
      "cell_type": "code",
      "metadata": {
        "id": "NAx49jR9xva4",
        "colab_type": "code",
        "colab": {
          "base_uri": "https://localhost:8080/",
          "height": 119
        },
        "outputId": "201b1835-aa54-4379-a30f-77da548ecaa5"
      },
      "source": [
        "matrix = confusion_matrix(predictions, actual)\n",
        "print(matrix)"
      ],
      "execution_count": 25,
      "outputs": [
        {
          "output_type": "stream",
          "text": [
            "[[2896   10    5   63   53    6]\n",
            " [  13  936    2    1    7    2]\n",
            " [   8   30  484    7    1    0]\n",
            " [  14    0   36  503    7    4]\n",
            " [  69    9    1   45  832    3]\n",
            " [   3   12    3    0    4  217]]\n"
          ],
          "name": "stdout"
        }
      ]
    },
    {
      "cell_type": "code",
      "metadata": {
        "id": "KdtLzG618eOD",
        "colab_type": "code",
        "colab": {
          "base_uri": "https://localhost:8080/",
          "height": 660
        },
        "outputId": "d734eccd-765c-44a6-e247-0dd0e0c3f70d"
      },
      "source": [
        "plt.figure(figsize = (16, 10))\n",
        "sns.heatmap(matrix, annot=True, fmt='d')\n",
        "\n",
        "plt.title('Confusion Matrix', fontdict={'fontsize': 30})\n",
        "plt.xlabel('Predicted', fontdict={'fontsize': 20})\n",
        "plt.ylabel('Actual', fontdict={'fontsize': 20})"
      ],
      "execution_count": 26,
      "outputs": [
        {
          "output_type": "execute_result",
          "data": {
            "text/plain": [
              "Text(123.0, 0.5, 'Actual')"
            ]
          },
          "metadata": {
            "tags": []
          },
          "execution_count": 26
        },
        {
          "output_type": "display_data",
          "data": {
            "image/png": "[encoded data removed]",
            "text/plain": [
              "<Figure size 1152x720 with 2 Axes>"
            ]
          },
          "metadata": {
            "tags": []
          }
        }
      ]
    }
  ]
}