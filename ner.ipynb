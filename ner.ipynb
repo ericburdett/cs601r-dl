{
  "nbformat": 4,
  "nbformat_minor": 0,
  "metadata": {
    "colab": {
      "name": "ner.ipynb",
      "provenance": [],
      "authorship_tag": "ABX9TyPZVvyU4mJ3gD6pLsFnRfQe",
      "include_colab_link": true
    },
    "kernelspec": {
      "name": "python3",
      "display_name": "Python 3"
    },
    "accelerator": "GPU"
  },
  "cells": [
    {
      "cell_type": "markdown",
      "metadata": {
        "id": "view-in-github",
        "colab_type": "text"
      },
      "source": [
        "<a href=\"https://colab.research.google.com/github/ericburdett/cs601r-dl/blob/master/ner.ipynb\" target=\"_parent\"><img src=\"https://colab.research.google.com/assets/colab-badge.svg\" alt=\"Open In Colab\"/></a>"
      ]
    },
    {
      "cell_type": "markdown",
      "metadata": {
        "id": "dAoyRxyga7yC",
        "colab_type": "text"
      },
      "source": [
        "# Named Entity Recognition on Handwritten Documents"
      ]
    },
    {
      "cell_type": "code",
      "metadata": {
        "id": "9mNs_BtsaykG",
        "colab_type": "code",
        "outputId": "c7d2155b-fee0-4e75-d6c2-c49a354ee4b7",
        "colab": {
          "base_uri": "https://localhost:8080/",
          "height": 34
        }
      },
      "source": [
        "import torch\n",
        "import torch.nn as nn\n",
        "import torch.nn.functional as F\n",
        "import torch.optim as optim\n",
        "from torch.utils.data import Dataset, DataLoader\n",
        "import numpy as np\n",
        "import matplotlib.pyplot as plt\n",
        "from torchvision import transforms, utils, datasets\n",
        "from tqdm import tqdm\n",
        "from torch.nn.parameter import Parameter\n",
        "import pdb\n",
        "import torchvision\n",
        "import os\n",
        "import gzip\n",
        "import tarfile\n",
        "from PIL import Image, ImageOps\n",
        "import gc\n",
        "import pdb\n",
        "import pandas as pd\n",
        "from PIL import Image\n",
        "from matplotlib.pyplot import imshow\n",
        "from sklearn.metrics import confusion_matrix\n",
        "import seaborn as sns\n",
        "from google.colab import drive\n",
        "drive.mount('/content/drive')\n",
        "from IPython.core.ultratb import AutoFormattedTB\n",
        "__ITB__ = AutoFormattedTB(mode = 'Verbose',color_scheme='LightBg', tb_offset = 1)\n",
        "\n",
        "assert torch.cuda.is_available(), \"Request a GPU from Runtime > Change Runtime\""
      ],
      "execution_count": 3,
      "outputs": [
        {
          "output_type": "stream",
          "text": [
            "Drive already mounted at /content/drive; to attempt to forcibly remount, call drive.mount(\"/content/drive\", force_remount=True).\n"
          ],
          "name": "stdout"
        }
      ]
    },
    {
      "cell_type": "code",
      "metadata": {
        "id": "f9aDvlkQNOjT",
        "colab_type": "code",
        "colab": {}
      },
      "source": [
        "!cp \"drive/My Drive/datasets/esposalles.zip\" \"/content\""
      ],
      "execution_count": 0,
      "outputs": []
    },
    {
      "cell_type": "code",
      "metadata": {
        "id": "d4xL9fP7NtkU",
        "colab_type": "code",
        "colab": {}
      },
      "source": [
        "!unzip -q esposalles.zip\n",
        "!rm esposalles.zip"
      ],
      "execution_count": 0,
      "outputs": []
    },
    {
      "cell_type": "code",
      "metadata": {
        "id": "cO8JWMj_gKi1",
        "colab_type": "code",
        "colab": {}
      },
      "source": [
        "class EsposallesDataset(Dataset):\n",
        "  def __init__(self, label='category', img_size=128):\n",
        "    if not os.path.exists('/content/labels.csv'):\n",
        "      raise Exception('Esposalles dataset does not exist in /content/labels.csv')\n",
        "\n",
        "    self.img_size = img_size\n",
        "    self.label = label\n",
        "    self.path = '/content/Images/'\n",
        "    self.labels_df = pd.read_csv('/content/labels.csv', sep='\\t', header=None, names=['word', 'category', 'person', 'transcription', 'page'])\n",
        "\n",
        "    unique_labels = self.labels_df[label].drop_duplicates().values\n",
        "\n",
        "    self.num_to_label = dict()\n",
        "    self.label_to_num = dict()\n",
        "\n",
        "\n",
        "    for index, label in zip(range(len(unique_labels)), unique_labels):\n",
        "      self.num_to_label[index] = label\n",
        "      self.label_to_num[label] = index\n",
        "\n",
        "  def dicts(self):\n",
        "    return self.num_to_label, self.label_to_num\n",
        "  \n",
        "  def num_labels(self):\n",
        "    return len(self.num_to_label)\n",
        "\n",
        "  def resize(self, img):\n",
        "    old_size = img.size\n",
        "    ratio = float(self.img_size)/max(old_size)\n",
        "    new_size = tuple([int(x*ratio) for x in old_size])\n",
        "\n",
        "    img = img.resize(new_size, Image.ANTIALIAS)\n",
        "\n",
        "    new_img = Image.new(\"RGB\", (self.img_size, self.img_size))\n",
        "    new_img.paste(img, ((self.img_size-new_size[0])//2,\n",
        "                        (self.img_size-new_size[1])//2))\n",
        "    \n",
        "    return new_img\n",
        "\n",
        "  def df(self):\n",
        "    return self.labels_df\n",
        "\n",
        "  def open_image(self, path):\n",
        "    img = Image.open(path + '.png')\n",
        "    img = self.resize(img)\n",
        "    x = transforms.functional.to_tensor(img)\n",
        "    # x = x.view(-1, self.img_size ** 2) # Shape the image tensor in a way that can be consumable by the GRU\n",
        "\n",
        "    return x\n",
        "\n",
        "  def __getitem__(self, index):    \n",
        "    pages = self.labels_df[self.labels_df['page'] == index]\n",
        "\n",
        "    imgs = []\n",
        "    labels = []\n",
        "\n",
        "    for _, row in pages.iterrows():\n",
        "      img = self.open_image(self.path + row['word'])\n",
        "      label_text = row[self.label]\n",
        "      label_num = self.label_to_num[label_text]\n",
        "\n",
        "      imgs.append(img)\n",
        "      labels.append(label_num)\n",
        "\n",
        "    return imgs, labels\n",
        "\n",
        "  def __len__(self):\n",
        "    return len(self.labels_df['page'].drop_duplicates()) "
      ],
      "execution_count": 0,
      "outputs": []
    },
    {
      "cell_type": "code",
      "metadata": {
        "id": "5vOsyMHSctcj",
        "colab_type": "code",
        "colab": {}
      },
      "source": [
        "class RNN(nn.Module):\n",
        "  def __init__(self, in_channels, hidden_channel_size, input_size, hidden_size, output_size, num_layers=1, bidirectional=True):\n",
        "    super(RNN, self).__init__()\n",
        "\n",
        "    self.in_channels = in_channels\n",
        "    self.hidden_channel_size = hidden_channel_size\n",
        "    self.input_size = input_size\n",
        "    self.hidden_size = hidden_size\n",
        "    self.output_size = output_size\n",
        "    self.num_layers = num_layers\n",
        "    self.bidirectional = bidirectional\n",
        "\n",
        "    self.conv1 = nn.Conv2d(self.in_channels, self.hidden_channel_size, kernel_size=3, padding=1)\n",
        "    self.conv2 = nn.Conv2d(self.hidden_channel_size, self.hidden_channel_size, kernel_size=3, padding=1)\n",
        "    self.conv3 = nn.Conv2d(self.hidden_channel_size, 1, kernel_size=3, padding=1)\n",
        "    self.gru = nn.GRU(input_size**2, hidden_size, num_layers, bidirectional=self.bidirectional)\n",
        "\n",
        "    linear_input = hidden_size * 2 if self.bidirectional else hidden_size\n",
        "    self.linear = nn.Linear(linear_input, output_size)\n",
        "\n",
        "  def forward(self, input_img, hidden):\n",
        "    # input_img = input_img.unsqueeze(0) # unsqueeze to comply with mini-batch for conv2d\n",
        "    out = self.conv1(input_img)\n",
        "    out = self.conv2(out)\n",
        "    out = self.conv3(out)\n",
        "    out = out.view(1, -1, self.input_size**2) # reshape to expected shape for gru\n",
        "    out, hidden = self.gru(out, hidden)\n",
        "    out = self.linear(out)\n",
        "\n",
        "    return out.view(-1), hidden\n",
        "\n",
        "  def init_hidden(self):\n",
        "    num_layers = self.num_layers * 2 if self.bidirectional else self.num_layers\n",
        "    return torch.zeros(num_layers, 1, self.hidden_size)"
      ],
      "execution_count": 0,
      "outputs": []
    },
    {
      "cell_type": "code",
      "metadata": {
        "id": "sz_0aaDcevwR",
        "colab_type": "code",
        "colab": {
          "base_uri": "https://localhost:8080/",
          "height": 204
        },
        "outputId": "1b66b7f9-3d49-4758-f8aa-1e770d7e9f00"
      },
      "source": [
        "NUM_EPOCHS = 10\n",
        "input_size = 20\n",
        "\n",
        "\n",
        "dataset = EsposallesDataset(img_size=input_size)\n",
        "train_dataset, val_dataset = torch.utils.data.random_split(dataset, [int(.8 * len(dataset)) + 1, int(.2 * len(dataset))])\n",
        "\n",
        "train_loader = DataLoader(train_dataset,\n",
        "                          batch_size=1,\n",
        "                          num_workers=8,\n",
        "                          shuffle=True)\n",
        "\n",
        "val_loader = DataLoader(val_dataset,\n",
        "                        batch_size=1,\n",
        "                        num_workers=8,\n",
        "                        shuffle=True)\n",
        "\n",
        "\n",
        "hidden_size = 200\n",
        "hidden_channel_size = 50\n",
        "output_size = dataset.num_labels()\n",
        "num_layers = 30\n",
        "\n",
        "model = RNN(3, hidden_channel_size, input_size, hidden_size, output_size, num_layers=3, bidirectional=True)\n",
        "model = model.cuda()\n",
        "\n",
        "\n",
        "optimizer = torch.optim.Adam(model.parameters(), lr=1e-3)\n",
        "# optimizer = torch.optim.RMSprop(model.parameters(), lr=1e-3)\n",
        "# scheduler = torch.optim.lr_scheduler.CyclicLR(optimizer, 1e-4, 1e-3, step_size_up=200)\n",
        "scheduler = torch.optim.lr_scheduler.MultiplicativeLR(optimizer, lr_lambda=lambda epoch: .85)\n",
        "\n",
        "objective = nn.CrossEntropyLoss()\n",
        "\n",
        "# input_lengths = torch.full(size=(1,), fill_value=3, dtype=torch.long)\n",
        "# target_lengths = torch.randint(low=3, high=4, size=(1,), dtype=torch.long)\n",
        "\n",
        "train_acc_list = []\n",
        "train_loss_list = []\n",
        "val_acc_list = []\n",
        "val_loss_list = []\n",
        "\n",
        "predictions = []\n",
        "actual = []\n",
        "\n",
        "for epoch in range(NUM_EPOCHS):\n",
        "  loop = tqdm(total=len(train_loader), position=0, leave=True)\n",
        "\n",
        "  avg_accs = []\n",
        "  avg_losses = []\n",
        "\n",
        "  for batch, (x, y_truth) in enumerate(train_loader):\n",
        "    loss = 0\n",
        "    hidden = model.init_hidden().cuda()\n",
        "    optimizer.zero_grad()\n",
        "\n",
        "    accs = []\n",
        "    losses = []\n",
        "\n",
        "    for word, label in zip(x, y_truth):\n",
        "      word, label = word.cuda(async=True), label.cuda(async=True)\n",
        "      pred, hidden = model(word, hidden)\n",
        "\n",
        "      acc = torch.eq(pred.argmax(), label)\n",
        "      ls = objective(pred.unsqueeze(0), label) # - For CTCLoss() ->  , input_lengths, target_lengths)\n",
        "\n",
        "      accs.append(acc.item())\n",
        "      losses.append(ls.item())\n",
        "\n",
        "      loss += ls\n",
        "\n",
        "    loss.backward()\n",
        "    optimizer.step()\n",
        "    # scheduler.step()\n",
        "\n",
        "    avg_accs.append(np.mean(accs))\n",
        "    avg_losses.append(np.mean(losses))\n",
        "\n",
        "    loop.set_description('Epoch:{}, Loss:{:.4f}, Acc:{:.4f}, AvgLoss:{:.4f}, AvgAcc:{:.4f}'.format(epoch, np.mean(losses), np.mean(accs), np.mean(avg_losses), np.mean(avg_accs)))\n",
        "    loop.update(1)\n",
        "\n",
        "  loop.close()\n",
        "  scheduler.step()\n",
        "\n",
        "  train_acc_list.append(np.mean(avg_accs))\n",
        "  train_loss_list.append(np.mean(avg_losses))\n",
        "  \n",
        "  with torch.no_grad():\n",
        "    val_loop = tqdm(total=len(val_loader), position=0, leave=True)\n",
        "\n",
        "    avg_accs = []\n",
        "    avg_losses = []\n",
        "\n",
        "    for batch, (x, y_truth) in enumerate(val_loader):\n",
        "      hidden = model.init_hidden().cuda()\n",
        "\n",
        "      losses = []\n",
        "      accs = []\n",
        "\n",
        "      for word, label in zip(x, y_truth):\n",
        "        word, label = word.cuda(async=True), label.cuda(async=True)\n",
        "        pred, hidden = model(word, hidden)\n",
        "\n",
        "        acc = torch.eq(pred.argmax(), label)\n",
        "        ls = objective(pred.unsqueeze(0), label)\n",
        "\n",
        "        if epoch == NUM_EPOCHS - 1:\n",
        "          predictions.append(pred.argmax().item())\n",
        "          actual.append(label.item())\n",
        "\n",
        "        accs.append(acc.item())\n",
        "        losses.append(ls.item())\n",
        "\n",
        "      avg_accs.append(np.mean(accs))\n",
        "      avg_losses.append(np.mean(losses))\n",
        "\n",
        "      val_loop.set_description('Validation - Epoch:{}, Loss:{:.4f}, Acc:{:.4f}, AvgLoss:{:.4f}, AvgAcc:{:.4f}'.format(epoch, np.mean(losses), np.mean(accs), np.mean(avg_losses), np.mean(avg_accs)))\n",
        "      val_loop.update(1)\n",
        "\n",
        "    val_acc_list.append(np.mean(avg_accs))\n",
        "    val_loss_list.append(np.mean(avg_losses))"
      ],
      "execution_count": 6,
      "outputs": [
        {
          "output_type": "stream",
          "text": [
            "Epoch:0, Loss:0.0249, Acc:1.0000, AvgLoss:0.4429, AvgAcc:0.8572: 100%|██████████| 775/775 [02:01<00:00,  7.92it/s]\n",
            "Epoch:1, Loss:0.0644, Acc:0.9730, AvgLoss:0.1895, AvgAcc:0.9397: 100%|██████████| 775/775 [02:01<00:00,  7.36it/s]\n",
            "Epoch:2, Loss:0.0229, Acc:1.0000, AvgLoss:0.1175, AvgAcc:0.9648: 100%|██████████| 775/775 [02:03<00:00,  8.47it/s]\n",
            "Epoch:3, Loss:0.0601, Acc:0.9714, AvgLoss:0.0728, AvgAcc:0.9793: 100%|██████████| 775/775 [02:01<00:00,  6.93it/s]\n",
            "Epoch:4, Loss:0.0226, Acc:1.0000, AvgLoss:0.0396, AvgAcc:0.9884: 100%|██████████| 775/775 [02:00<00:00,  6.42it/s]\n",
            "Epoch:5, Loss:0.0017, Acc:1.0000, AvgLoss:0.0179, AvgAcc:0.9951: 100%|██████████| 775/775 [02:02<00:00,  8.52it/s]\n",
            "Epoch:6, Loss:0.0019, Acc:1.0000, AvgLoss:0.0070, AvgAcc:0.9984: 100%|██████████| 775/775 [02:04<00:00,  9.24it/s]\n",
            "Epoch:7, Loss:0.0003, Acc:1.0000, AvgLoss:0.0018, AvgAcc:0.9997: 100%|██████████| 775/775 [02:03<00:00,  6.30it/s]\n",
            "Epoch:8, Loss:0.0005, Acc:1.0000, AvgLoss:0.0007, AvgAcc:0.9999: 100%|██████████| 775/775 [01:59<00:00,  8.16it/s]\n",
            "Epoch:9, Loss:0.0001, Acc:1.0000, AvgLoss:0.0007, AvgAcc:0.9998: 100%|██████████| 775/775 [02:01<00:00,  7.86it/s]\n",
            "Validation - Epoch:9, Loss:0.7702, Acc:0.8462, AvgLoss:0.2389, AvgAcc:0.9605: 100%|██████████| 193/193 [00:16<00:00, 14.98it/s]"
          ],
          "name": "stderr"
        }
      ]
    },
    {
      "cell_type": "code",
      "metadata": {
        "id": "AHxnRpt1sB_n",
        "colab_type": "code",
        "outputId": "0d51997d-849a-4cd9-b070-9c3e6aa78a56",
        "colab": {
          "base_uri": "https://localhost:8080/",
          "height": 329
        }
      },
      "source": [
        "plt.title('Loss')\n",
        "plt.xlabel('Epochs')\n",
        "plt.ylabel('Loss')\n",
        "plt.plot(range(len(train_loss_list)), train_loss_list, label='train')\n",
        "plt.plot(range(len(val_loss_list)), val_loss_list, label='val')\n",
        "plt.legend()\n",
        "plt.show()\n",
        "print('Train Losses: ', train_loss_list)\n",
        "print('Val Losses: ', val_loss_list)"
      ],
      "execution_count": 7,
      "outputs": [
        {
          "output_type": "display_data",
          "data": {
            "image/png": "[encoded data removed]",
            "text/plain": [
              "<Figure size 432x288 with 1 Axes>"
            ]
          },
          "metadata": {
            "tags": []
          }
        },
        {
          "output_type": "stream",
          "text": [
            "Train Losses:  [0.44292415799913604, 0.1895473387232662, 0.11754846179266047, 0.07276302299790925, 0.03964948655778777, 0.017897091324673226, 0.0069627762057115515, 0.0018261055345113175, 0.0007366710723486524, 0.000736728641319469]\n",
            "Val Losses:  [0.2296884698166958, 0.18336569248002155, 0.1541322360204563, 0.1779754576886691, 0.16470426350042897, 0.18615625421737855, 0.20279659726443075, 0.21465759165766204, 0.2299453737317422, 0.238880749936792]\n"
          ],
          "name": "stdout"
        }
      ]
    },
    {
      "cell_type": "code",
      "metadata": {
        "id": "nG9L_f3Ytej3",
        "colab_type": "code",
        "outputId": "0ea86e35-af94-40c8-b523-98d7f32e3d84",
        "colab": {
          "base_uri": "https://localhost:8080/",
          "height": 329
        }
      },
      "source": [
        "plt.title('Accuracy')\n",
        "plt.xlabel('Epochs')\n",
        "plt.ylabel('Accuracy')\n",
        "plt.plot(range(len(train_acc_list)), train_acc_list, label='train')\n",
        "plt.plot( range(len(val_acc_list)), val_acc_list, label='val')\n",
        "plt.legend()\n",
        "plt.show()\n",
        "print('Train Accs: ', train_acc_list)\n",
        "print('Val Accs: ', val_acc_list)"
      ],
      "execution_count": 8,
      "outputs": [
        {
          "output_type": "display_data",
          "data": {
            "image/png": "[encoded data removed]",
            "text/plain": [
              "<Figure size 432x288 with 1 Axes>"
            ]
          },
          "metadata": {
            "tags": []
          }
        },
        {
          "output_type": "stream",
          "text": [
            "Train Accs:  [0.8571877137742028, 0.9396851713645253, 0.9647703581482816, 0.9792767436301066, 0.9883827648600482, 0.9950833364492279, 0.9984244610456182, 0.9997423271783731, 0.9998817057695721, 0.9998202618371606]\n",
            "Val Accs:  [0.9299324693732549, 0.941203357607227, 0.9546845581800364, 0.9523037320784874, 0.9582972037986396, 0.9567611923906347, 0.9592054929841182, 0.9613121192055802, 0.96135982689732, 0.9604765961496398]\n"
          ],
          "name": "stdout"
        }
      ]
    },
    {
      "cell_type": "code",
      "metadata": {
        "id": "NAx49jR9xva4",
        "colab_type": "code",
        "outputId": "58e69709-5d3e-4acf-9b8a-efff8611c7f9",
        "colab": {
          "base_uri": "https://localhost:8080/",
          "height": 119
        }
      },
      "source": [
        "matrix = confusion_matrix(predictions, actual)\n",
        "print(matrix)"
      ],
      "execution_count": 9,
      "outputs": [
        {
          "output_type": "stream",
          "text": [
            "[[2849    9   10   26   31    1]\n",
            " [  12  915    6    0    2    0]\n",
            " [   6   22  468    7    0    0]\n",
            " [  21    2   24  539    5    4]\n",
            " [  27    3    3   12  863    0]\n",
            " [   7    4    1    0    1  227]]\n"
          ],
          "name": "stdout"
        }
      ]
    },
    {
      "cell_type": "code",
      "metadata": {
        "id": "KdtLzG618eOD",
        "colab_type": "code",
        "outputId": "291d56e4-6c57-47bd-e43d-195fe60b2358",
        "colab": {
          "base_uri": "https://localhost:8080/",
          "height": 660
        }
      },
      "source": [
        "plt.figure(figsize = (16, 10))\n",
        "sns.heatmap(matrix, annot=True, fmt='d')\n",
        "\n",
        "plt.title('Confusion Matrix', fontdict={'fontsize': 30})\n",
        "plt.xlabel('Predicted', fontdict={'fontsize': 20})\n",
        "plt.ylabel('Actual', fontdict={'fontsize': 20})"
      ],
      "execution_count": 10,
      "outputs": [
        {
          "output_type": "execute_result",
          "data": {
            "text/plain": [
              "Text(123.0, 0.5, 'Actual')"
            ]
          },
          "metadata": {
            "tags": []
          },
          "execution_count": 10
        },
        {
          "output_type": "display_data",
          "data": {
            "image/png": "[encoded data removed]",
            "text/plain": [
              "<Figure size 1152x720 with 2 Axes>"
            ]
          },
          "metadata": {
            "tags": []
          }
        }
      ]
    },
    {
      "cell_type": "code",
      "metadata": {
        "id": "8uX4uCjnU2PC",
        "colab_type": "code",
        "outputId": "ebb80158-9429-40be-bbc4-9f4ce6380b1f",
        "colab": {
          "base_uri": "https://localhost:8080/",
          "height": 136
        }
      },
      "source": [
        "print('Accuracies Based on Category:')\n",
        "\n",
        "cat_dict = dataset.dicts()[0]\n",
        "sums = np.sum(matrix, axis=0)\n",
        "\n",
        "for i in range(len(matrix[0])):\n",
        "  print('- ', cat_dict[i].capitalize() + ' ({}): '.format(i), matrix[i][i] / sums[i])"
      ],
      "execution_count": 12,
      "outputs": [
        {
          "output_type": "stream",
          "text": [
            "Accuracies Based on Category:\n",
            "-  Other (0):  0.9750171115674195\n",
            "-  Name (1):  0.9581151832460733\n",
            "-  Surname (2):  0.9140625\n",
            "-  Occupation (3):  0.922945205479452\n",
            "-  Location (4):  0.9567627494456763\n",
            "-  State (5):  0.978448275862069\n"
          ],
          "name": "stdout"
        }
      ]
    },
    {
      "cell_type": "code",
      "metadata": {
        "id": "QW9Va-cpY3Lc",
        "colab_type": "code",
        "outputId": "3baae0e9-f7ef-4670-914e-2405a6642284",
        "colab": {
          "base_uri": "https://localhost:8080/",
          "height": 102
        }
      },
      "source": [
        "print('Total accuracy:')\n",
        "print(val_acc_list[-1])\n",
        "print('\\nAccuracy on Entities only:')\n",
        "entity_accuracies = [matrix[i][i] for i in range(len(matrix[0]))] / sums\n",
        "entity_accuracies = entity_accuracies[1:]\n",
        "np.mean(entity_accuracies)"
      ],
      "execution_count": 13,
      "outputs": [
        {
          "output_type": "stream",
          "text": [
            "Total accuracy:\n",
            "0.9604765961496398\n",
            "\n",
            "Accuracy on Entities only:\n"
          ],
          "name": "stdout"
        },
        {
          "output_type": "execute_result",
          "data": {
            "text/plain": [
              "0.946066782806654"
            ]
          },
          "metadata": {
            "tags": []
          },
          "execution_count": 13
        }
      ]
    }
  ]
}