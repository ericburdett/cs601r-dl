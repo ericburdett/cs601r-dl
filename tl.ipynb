{
  "nbformat": 4,
  "nbformat_minor": 0,
  "metadata": {
    "colab": {
      "name": "tl.ipynb",
      "provenance": [],
      "include_colab_link": true
    },
    "kernelspec": {
      "name": "python3",
      "display_name": "Python 3"
    },
    "accelerator": "GPU"
  },
  "cells": [
    {
      "cell_type": "markdown",
      "metadata": {
        "id": "view-in-github",
        "colab_type": "text"
      },
      "source": [
        "<a href=\"https://colab.research.google.com/github/ericburdett/cs601r-dl/blob/master/tl.ipynb\" target=\"_parent\"><img src=\"https://colab.research.google.com/assets/colab-badge.svg\" alt=\"Open In Colab\"/></a>"
      ]
    },
    {
      "cell_type": "markdown",
      "metadata": {
        "id": "dAoyRxyga7yC",
        "colab_type": "text"
      },
      "source": [
        "# Transfer Learning for Handwritten Documents"
      ]
    },
    {
      "cell_type": "markdown",
      "metadata": {
        "id": "ORD-9fjShxQ9",
        "colab_type": "text"
      },
      "source": [
        "## Imports\n",
        "Dependencies needed to run the code, including mounting GoogleDrive and copying files."
      ]
    },
    {
      "cell_type": "code",
      "metadata": {
        "id": "9mNs_BtsaykG",
        "colab_type": "code",
        "outputId": "0c3914c5-83d2-4652-bba5-9085167a2914",
        "colab": {
          "base_uri": "https://localhost:8080/",
          "height": 122
        }
      },
      "source": [
        "# Pytorch\n",
        "import torch\n",
        "import torch.nn as nn\n",
        "import torch.nn.functional as F\n",
        "import torch.optim as optim\n",
        "from torchvision import transforms, utils, datasets\n",
        "from torch.utils.data import Dataset, DataLoader\n",
        "assert torch.cuda.is_available(), \"Request a GPU from Runtime > Change Runtime\"\n",
        "\n",
        "# Python\n",
        "import gc\n",
        "import os\n",
        "import gzip\n",
        "import tarfile\n",
        "import time\n",
        "\n",
        "# Data Structures\n",
        "import pandas as pd\n",
        "import numpy as np\n",
        "import json\n",
        "import csv\n",
        "\n",
        "# Debug/Progress\n",
        "from tqdm import tqdm\n",
        "import pdb\n",
        "from IPython.core.ultratb import AutoFormattedTB\n",
        "__ITB__ = AutoFormattedTB(mode = 'Verbose',color_scheme='LightBg', tb_offset = 1)\n",
        "\n",
        "# Image Manipulations / Plotting\n",
        "import matplotlib.pyplot as plt\n",
        "from PIL import Image, ImageOps\n",
        "import cv2\n",
        "\n",
        "# Colab\n",
        "from google.colab import drive\n",
        "drive.mount('/content/drive')"
      ],
      "execution_count": 8,
      "outputs": [
        {
          "output_type": "stream",
          "text": [
            "Go to this URL in a browser: https://accounts.google.com/o/oauth2/auth?client_id=947318989803-6bn6qk8qdgf4n4g3pfee6491hc0brc4i.apps.googleusercontent.com&redirect_uri=urn%3aietf%3awg%3aoauth%3a2.0%3aoob&response_type=code&scope=email%20https%3a%2f%2fwww.googleapis.com%2fauth%2fdocs.test%20https%3a%2f%2fwww.googleapis.com%2fauth%2fdrive%20https%3a%2f%2fwww.googleapis.com%2fauth%2fdrive.photos.readonly%20https%3a%2f%2fwww.googleapis.com%2fauth%2fpeopleapi.readonly\n",
            "\n",
            "Enter your authorization code:\n",
            "··········\n",
            "Mounted at /content/drive\n"
          ],
          "name": "stdout"
        }
      ]
    },
    {
      "cell_type": "code",
      "metadata": {
        "id": "W45J6mNLvxXm",
        "colab_type": "code",
        "colab": {}
      },
      "source": [
        "!cp \"drive/My Drive/datasets/iam-line-level.zip\" \"/content\"\n",
        "!cp \"drive/My Drive/datasets/rimes-line-level.zip\" \"/content\"\n",
        "!unzip -q iam-line-level.zip -d iam\n",
        "!unzip -q rimes-line-level.zip -d rimes\n",
        "!rm iam-line-level.zip\n",
        "!rm rimes-line-level.zip\n",
        "!wget -q https://raw.githubusercontent.com/ericburdett/cs601r-dl/master/char_set.json"
      ],
      "execution_count": 0,
      "outputs": []
    },
    {
      "cell_type": "markdown",
      "metadata": {
        "id": "Zpk_LmY_N_OC",
        "colab_type": "text"
      },
      "source": [
        "### Create IAM and RIMES Dataset Classes"
      ]
    },
    {
      "cell_type": "code",
      "metadata": {
        "id": "m6oeFbzyN9Mo",
        "colab_type": "code",
        "colab": {}
      },
      "source": [
        "class IamDataset(Dataset):\n",
        "  def __init__(self, desired_size=(32, 512)):\n",
        "    self.desired_size = desired_size\n",
        "    self.img_path = '/content/iam/images/'\n",
        "    self.df = pd.read_csv('/content/iam/labels.csv', header=None, sep='\\t', names=['img', 'transcription'], quoting=csv.QUOTE_NONE)\n",
        "\n",
        "  def get_df(self):\n",
        "    return self.df\n",
        "\n",
        "  def tensor_image(self, path):\n",
        "    img = Image.open(path + '.png')\n",
        "    img = self.resize(img)\n",
        "    img = img.astype(np.uint8)\n",
        "    x = transforms.functional.to_tensor(img)\n",
        "\n",
        "    return x\n",
        "\n",
        "  def resize(self, img):\n",
        "    img_size = np.array(img).shape\n",
        "\n",
        "    img_ratio = img_size[0] / img_size[1]\n",
        "    desired_ratio = self.desired_size[0] / self.desired_size[1]\n",
        "\n",
        "    if img_ratio >= desired_ratio:\n",
        "      # Solve by height\n",
        "      new_height = self.desired_size[0]\n",
        "      new_width = int(self.desired_size[0] // img_ratio)\n",
        "    else:\n",
        "      new_height = int(self.desired_size[1] * img_ratio)\n",
        "      new_width = self.desired_size[1]\n",
        "      # Solve by width\n",
        "\n",
        "    img = np.array(img.resize((new_width, new_height)))\n",
        "\n",
        "    border_top = self.desired_size[0] - new_height\n",
        "    border_right = self.desired_size[1] - new_width\n",
        "\n",
        "    img = np.pad(img, [(border_top, 0), (0, border_right)], mode='constant', constant_values=255)\n",
        "\n",
        "    return img\n",
        "\n",
        "  def __getitem__(self, index):\n",
        "    path = 'iam/images/' + self.df['img'][index]\n",
        "    img = self.tensor_image(path)\n",
        "\n",
        "    return img, self.df['transcription'][index]\n",
        "\n",
        "  def __len__(self):\n",
        "    return len(self.df)"
      ],
      "execution_count": 0,
      "outputs": []
    },
    {
      "cell_type": "code",
      "metadata": {
        "id": "4NblFBURPfoc",
        "colab_type": "code",
        "outputId": "a02037de-90dc-4680-995b-cb67e11a88e8",
        "colab": {
          "base_uri": "https://localhost:8080/",
          "height": 123
        }
      },
      "source": [
        "index = 0\n",
        "dataset = IamDataset()\n",
        "\n",
        "print('Transcription: ', dataset[index][1], '\\n')\n",
        "plt.imshow(dataset[index][0].squeeze(), cmap='gray')"
      ],
      "execution_count": 204,
      "outputs": [
        {
          "output_type": "stream",
          "text": [
            "Transcription:  A MOVE to stop Mr. Gaitskell from \n",
            "\n"
          ],
          "name": "stdout"
        },
        {
          "output_type": "execute_result",
          "data": {
            "text/plain": [
              "<matplotlib.image.AxesImage at 0x7f430e2544a8>"
            ]
          },
          "metadata": {
            "tags": []
          },
          "execution_count": 204
        },
        {
          "output_type": "display_data",
          "data": {
            "image/png": "[encoded data removed]",
            "text/plain": [
              "<Figure size 432x288 with 1 Axes>"
            ]
          },
          "metadata": {
            "tags": []
          }
        }
      ]
    },
    {
      "cell_type": "code",
      "metadata": {
        "id": "Uza9qhQz5yp5",
        "colab_type": "code",
        "colab": {
          "base_uri": "https://localhost:8080/",
          "height": 68
        },
        "outputId": "eea3cac2-f84c-4dc5-838e-5f013435d0ba"
      },
      "source": [
        "longest = 0\n",
        "longest_str = ''\n",
        "longest_idx = 0\n",
        "\n",
        "for i in range(len(dataset)):\n",
        "  if len(dataset[i][1]) > longest:\n",
        "    longest = len(dataset[i][1])\n",
        "    longest_str = dataset[i][1]\n",
        "    longest_idx = i\n",
        "\n",
        "print(longest)\n",
        "print(longest_str)\n",
        "print(longest_idx)"
      ],
      "execution_count": 115,
      "outputs": [
        {
          "output_type": "stream",
          "text": [
            "87\n",
            "assuredness \"Bella Bella Marie\" (Parlophone), a lively song that changes tempo mid-way.\n",
            "3284\n"
          ],
          "name": "stdout"
        }
      ]
    },
    {
      "cell_type": "code",
      "metadata": {
        "id": "cgoKLaAEAkyj",
        "colab_type": "code",
        "colab": {
          "base_uri": "https://localhost:8080/",
          "height": 34
        },
        "outputId": "ce1e52f4-d323-4649-a322-5dc554ffec5b"
      },
      "source": [
        "dataset[0][0].squeeze().shape"
      ],
      "execution_count": 96,
      "outputs": [
        {
          "output_type": "execute_result",
          "data": {
            "text/plain": [
              "torch.Size([89, 1661])"
            ]
          },
          "metadata": {
            "tags": []
          },
          "execution_count": 96
        }
      ]
    },
    {
      "cell_type": "code",
      "metadata": {
        "id": "h9SDx9DZQQOU",
        "colab_type": "code",
        "colab": {}
      },
      "source": [
        "class RimesDataset(Dataset):\n",
        "  def __init__(self, desired_size=(32, 512)):\n",
        "    self.desired_size = desired_size\n",
        "    self.img_path = '/content/rimes/images/'\n",
        "    self.df = pd.read_csv('/content/rimes/labels.csv', header=None, sep='\\t', names=['img', 'transcription'], quoting=csv.QUOTE_NONE)\n",
        "\n",
        "  def get_df(self):\n",
        "    return self.df\n",
        "\n",
        "  def tensor_image(self, path):\n",
        "    img = Image.open(path)\n",
        "    img = self.resize(img)\n",
        "    img = img.astype(np.uint8)\n",
        "    x = transforms.functional.to_tensor(img)\n",
        "\n",
        "    return x\n",
        "\n",
        "  def resize(self, img):\n",
        "    img_size = np.array(img).shape\n",
        "\n",
        "    img_ratio = img_size[0] / img_size[1]\n",
        "    desired_ratio = self.desired_size[0] / self.desired_size[1]\n",
        "\n",
        "    if img_ratio >= desired_ratio:\n",
        "      # Solve by height\n",
        "      new_height = self.desired_size[0]\n",
        "      new_width = int(self.desired_size[0] // img_ratio)\n",
        "    else:\n",
        "      new_height = int(self.desired_size[1] * img_ratio)\n",
        "      new_width = self.desired_size[1]\n",
        "      # Solve by width\n",
        "\n",
        "    img = np.array(img.resize((new_width, new_height)))\n",
        "\n",
        "    border_top = self.desired_size[0] - new_height\n",
        "    border_right = self.desired_size[1] - new_width\n",
        "\n",
        "    img = np.pad(img, [(border_top, 0), (0, border_right)], mode='constant', constant_values=255)\n",
        "\n",
        "    return img\n",
        "\n",
        "  def __getitem__(self, index):\n",
        "    path = 'rimes/images/' + self.df['img'][index]\n",
        "    img = self.tensor_image(path)\n",
        "\n",
        "    return img, str(self.df['transcription'][index])\n",
        "  \n",
        "  def __len__(self):\n",
        "    return len(self.df)"
      ],
      "execution_count": 0,
      "outputs": []
    },
    {
      "cell_type": "code",
      "metadata": {
        "id": "9DVoG-V-QW04",
        "colab_type": "code",
        "outputId": "f077ea74-911d-4909-a5c4-e3132687e1bb",
        "colab": {
          "base_uri": "https://localhost:8080/",
          "height": 123
        }
      },
      "source": [
        "index = 28\n",
        "dataset = RimesDataset()\n",
        "print('Transcription: ', dataset[index][1], '\\n')\n",
        "plt.imshow(dataset[index][0].squeeze(), cmap='gray')"
      ],
      "execution_count": 194,
      "outputs": [
        {
          "output_type": "stream",
          "text": [
            "Transcription:  Cordialement, \n",
            "\n"
          ],
          "name": "stdout"
        },
        {
          "output_type": "execute_result",
          "data": {
            "text/plain": [
              "<matplotlib.image.AxesImage at 0x7f430e5e2278>"
            ]
          },
          "metadata": {
            "tags": []
          },
          "execution_count": 194
        },
        {
          "output_type": "display_data",
          "data": {
            "image/png": "[encoded data removed]",
            "text/plain": [
              "<Figure size 432x288 with 1 Axes>"
            ]
          },
          "metadata": {
            "tags": []
          }
        }
      ]
    },
    {
      "cell_type": "code",
      "metadata": {
        "id": "Vyzm-7OH5DSw",
        "colab_type": "code",
        "colab": {
          "base_uri": "https://localhost:8080/",
          "height": 68
        },
        "outputId": "0c8ea954-20d0-45e4-97a1-3279dd54cbc9"
      },
      "source": [
        "longest = 0\n",
        "longest_str = ''\n",
        "longest_idx = 0\n",
        "\n",
        "for i in range(len(dataset)):\n",
        "  if len(dataset[i][1]) > longest:\n",
        "    longest = len(dataset[i][1])\n",
        "    longest_str = dataset[i][1]\n",
        "    longest_idx = i\n",
        "\n",
        "print(longest)\n",
        "print(longest_str)\n",
        "print(longest_idx)"
      ],
      "execution_count": 146,
      "outputs": [
        {
          "output_type": "stream",
          "text": [
            "99\n",
            " établit  à la suite de  cette  accident, mentionnant les faits, les dégâts et les tiers concernés.\n",
            "7769\n"
          ],
          "name": "stdout"
        }
      ]
    },
    {
      "cell_type": "markdown",
      "metadata": {
        "id": "h3VJmm8XnmHY",
        "colab_type": "text"
      },
      "source": [
        "### Character Encoding"
      ]
    },
    {
      "cell_type": "code",
      "metadata": {
        "id": "DFAv6qAWnkgQ",
        "colab_type": "code",
        "colab": {}
      },
      "source": [
        "class Encoder():\n",
        "  def __init__(self, sequence_size=150):\n",
        "    with open('char_set.json') as file:\n",
        "      self.json = json.load(file)\n",
        "    \n",
        "    self.sequence_size = sequence_size\n",
        "\n",
        "  def remove_duplicates(self, idxs):\n",
        "    new_idxs = []\n",
        "\n",
        "    for i in range(len(idxs)):\n",
        "      if i + 1 == len(idxs) or idxs[i] != idxs[i + 1]:\n",
        "        new_idxs.append(idxs[i])\n",
        "    \n",
        "    return new_idxs\n",
        "  \n",
        "  def add_blanks(self, idxs):\n",
        "    new_idxs = []\n",
        "\n",
        "    for i in range(len(idxs)):\n",
        "      new_idxs.append(idxs[i])\n",
        "      if i + 1 != len(idxs) and idxs[i] == idxs[i + 1]:\n",
        "        new_idxs.append(0)\n",
        "    \n",
        "    return new_idxs\n",
        "  \n",
        "  def idx_to_char(self, idx):\n",
        "    if idx == 0:\n",
        "      return ''\n",
        "    else:\n",
        "      return self.json['idx_to_char'][str(int(idx))]\n",
        "  \n",
        "  def char_to_idx(self, char):\n",
        "    return int(self.json['char_to_idx'][char])\n",
        "  \n",
        "  def str_to_idxs(self, string):\n",
        "    idxs = []\n",
        "\n",
        "    zeros = np.zeros(self.sequence_size)\n",
        "\n",
        "    for char in string:\n",
        "      idxs.append(self.char_to_idx(char))\n",
        "\n",
        "    # Add blanks if CTC-Loss requires it...\n",
        "    # idxs = self.add_blanks(idxs)\n",
        "\n",
        "    idxs = np.concatenate((idxs, zeros))[:self.sequence_size]\n",
        "    \n",
        "    return idxs, len(string)\n",
        "\n",
        "  def idxs_to_str(self, idxs):\n",
        "    string = ''\n",
        "    idxs = self.remove_duplicates(idxs)\n",
        "\n",
        "    for idx in idxs:\n",
        "      string += self.idx_to_char(idx)\n",
        "    \n",
        "    return string\n",
        "  \n",
        "  def str_to_idxs_batch(self, batch):\n",
        "    idxs = []\n",
        "    lengths = []\n",
        "\n",
        "    for string in batch:\n",
        "      idx, length = self.str_to_idxs(string)\n",
        "      idxs.append(idx)\n",
        "      lengths.append(length)\n",
        "    \n",
        "    return idxs, lengths\n",
        "  \n",
        "  def idxs_to_str_batch(self, batch):\n",
        "    strings = []\n",
        "\n",
        "    for idxs in batch:\n",
        "      strings.append(self.idxs_to_str(idxs))\n",
        "    \n",
        "    return strings"
      ],
      "execution_count": 0,
      "outputs": []
    },
    {
      "cell_type": "code",
      "metadata": {
        "id": "7h6WCk0rNqNl",
        "colab_type": "code",
        "colab": {}
      },
      "source": [
        "def show_imgs(x, new_fig=True):\n",
        "    grid = utils.make_grid(x.detach().cpu(), nrow=8, normalize=True, pad_value=0.3)\n",
        "    grid = grid.transpose(0,2).transpose(0,1) # channels as last dimension\n",
        "    if new_fig:\n",
        "        plt.figure(figsize=(50,100))\n",
        "    plt.imshow(grid.numpy())"
      ],
      "execution_count": 0,
      "outputs": []
    },
    {
      "cell_type": "markdown",
      "metadata": {
        "id": "0aulTy1h2mNZ",
        "colab_type": "text"
      },
      "source": [
        "### Model"
      ]
    },
    {
      "cell_type": "code",
      "metadata": {
        "id": "YkKPS9D82rXZ",
        "colab_type": "code",
        "colab": {}
      },
      "source": [
        "class Recognizer(nn.Module):\n",
        "  def __init__(self, sequence_length=16, language_size=197, hidden_size=256, num_layers=2, dropout_rate=0.2, horizontal_dim=512):\n",
        "    super(Recognizer, self).__init__()\n",
        "\n",
        "    self.language_size = language_size\n",
        "    self.hidden_size = hidden_size\n",
        "    self.num_layers = num_layers\n",
        "    self.horizontal_dim = horizontal_dim\n",
        "\n",
        "    # Encoder\n",
        "    self.conv1 = nn.Sequential(nn.Conv2d(1, 8, 3, 1, 1), nn.LeakyReLU(), nn.BatchNorm2d(8))\n",
        "    self.conv2 = nn.Sequential(nn.Conv2d(8, 16, 3, 1, 1), nn.LeakyReLU(), nn.BatchNorm2d(16))\n",
        "    self.conv3 = nn.Sequential(nn.Conv2d(16, 32, 3, 1, 1), nn.LeakyReLU(), nn.BatchNorm2d(32))\n",
        "    self.conv4 = nn.Sequential(nn.Conv2d(32, 64, 3, 1, 1), nn.LeakyReLU(), nn.BatchNorm2d(64))\n",
        "    self.conv5 = nn.Sequential(nn.Conv2d(64, 128, 3, 1, 1), nn.LeakyReLU(), nn.BatchNorm2d(128))\n",
        "    self.conv6 = nn.Sequential(nn.Conv2d(128, language_size, 3, 1, 1), nn.LeakyReLU(), nn.BatchNorm2d(language_size))\n",
        "\n",
        "    self.gate1 = nn.Sequential(nn.Conv2d(8, 8, 3, 1, 1), nn.Sigmoid())\n",
        "    self.gate2 = nn.Sequential(nn.Conv2d(16, 16, 3, 1, 1), nn.Sigmoid()) \n",
        "    self.gate3 = nn.Sequential(nn.Conv2d(32, 32, 3, 1, 1), nn.Sigmoid())\n",
        "    self.gate4 = nn.Sequential(nn.Conv2d(64, 64, 3, 1, 1), nn.Sigmoid())\n",
        "    self.gate5 = nn.Sequential(nn.Conv2d(128, 128, 3, 1, 1), nn.Sigmoid())\n",
        "\n",
        "    self.drop1 = nn.Dropout2d(p=dropout_rate)\n",
        "    self.drop2 = nn.Dropout2d(p=dropout_rate)\n",
        "    self.drop3 = nn.Dropout2d(p=dropout_rate)\n",
        "    self.drop4 = nn.Dropout2d(p=dropout_rate)\n",
        "    self.drop5 = nn.Dropout2d(p=dropout_rate)\n",
        "\n",
        "    # Maxpool\n",
        "    self.mp = nn.MaxPool2d((32, 1))\n",
        "\n",
        "    # Decoder\n",
        "    self.gru1 = nn.GRU(self.horizontal_dim, self.hidden_size, self.num_layers, bidirectional=True, batch_first=True)\n",
        "    self.fc1 = nn.Linear(self.hidden_size * 2, 128)\n",
        "    self.gru2 = nn.GRU(128, self.hidden_size, self.num_layers, bidirectional=True, batch_first=True)\n",
        "    self.fc2 = nn.Linear(self.hidden_size * 2, sequence_length)\n",
        "    self.softmax = nn.LogSoftmax(dim=1)\n",
        "\n",
        "  def init_hidden(self, batch_size):\n",
        "    return torch.zeros(self.num_layers * 2, batch_size, self.hidden_size)\n",
        "\n",
        "  def forward(self, x):\n",
        "    # Encoder\n",
        "    out = self.conv1(x)\n",
        "    gate1 = self.gate1(out)\n",
        "    out = out * gate1\n",
        "    out = self.drop1(out)\n",
        "\n",
        "    out = self.conv2(out)\n",
        "    gate2 = self.gate2(out)\n",
        "    out = out * gate2\n",
        "    out = self.drop2(out)\n",
        "\n",
        "    out = self.conv3(out)\n",
        "    gate3 = self.gate3(out)\n",
        "    out = out * gate3\n",
        "    out = self.drop3(out)\n",
        "\n",
        "    out = self.conv4(out)\n",
        "    gate4 = self.gate4(out)\n",
        "    out = out * gate4\n",
        "    out = self.drop4(out)\n",
        "\n",
        "    out = self.conv5(out)\n",
        "    gate5 = self.gate5(out)\n",
        "    out = out * gate5\n",
        "    out = self.drop5(out)\n",
        "\n",
        "    out = self.conv6(out)\n",
        "\n",
        "    # Max Pooling across vertical dimension\n",
        "    out = self.mp(out)\n",
        "\n",
        "    # Decoder\n",
        "    out = out.view(-1, self.language_size, self.horizontal_dim)\n",
        "\n",
        "    out, _ = self.gru1(out)\n",
        "    out = self.fc1(out)\n",
        "    out, _ = self.gru2(out)\n",
        "    out = self.fc2(out)\n",
        "    out = self.softmax(out)\n",
        "\n",
        "    # Change shape so that we can pass directly to CTC-Loss\n",
        "    out = out.permute(2, 0, 1)\n",
        "\n",
        "    return out"
      ],
      "execution_count": 0,
      "outputs": []
    },
    {
      "cell_type": "code",
      "metadata": {
        "id": "_ELM21mI1tHU",
        "colab_type": "code",
        "colab": {}
      },
      "source": [
        "def parameter_count(model):\n",
        "  return sum(p.numel() for p in model.parameters())"
      ],
      "execution_count": 0,
      "outputs": []
    },
    {
      "cell_type": "code",
      "metadata": {
        "id": "Ak4kP2GGwWiu",
        "colab_type": "code",
        "colab": {
          "base_uri": "https://localhost:8080/",
          "height": 51
        },
        "outputId": "47654784-fb3d-443c-c33a-e61a88b62224"
      },
      "source": [
        "recognizer = Recognizer(sequence_length=150, num_layers=1, horizontal_dim=512)\n",
        "print('param count: ', parameter_count(recognizer))\n",
        "print('out size: ', recognizer(torch.randn(1, 1, 32, 512)).shape)"
      ],
      "execution_count": 229,
      "outputs": [
        {
          "output_type": "stream",
          "text": [
            "param count:  2441165\n",
            "out size:  torch.Size([150, 1, 197])\n"
          ],
          "name": "stdout"
        }
      ]
    },
    {
      "cell_type": "code",
      "metadata": {
        "id": "Ej_Uk-bQJKYo",
        "colab_type": "code",
        "colab": {
          "base_uri": "https://localhost:8080/",
          "height": 89
        },
        "outputId": "78005b96-0013-4616-e71e-c3d9cab1bffb"
      },
      "source": [
        "img = dataset[0][0].unsqueeze(0)\n",
        "plt.imshow(img.squeeze(), cmap='gray')"
      ],
      "execution_count": 205,
      "outputs": [
        {
          "output_type": "execute_result",
          "data": {
            "text/plain": [
              "<matplotlib.image.AxesImage at 0x7f430e2e31d0>"
            ]
          },
          "metadata": {
            "tags": []
          },
          "execution_count": 205
        },
        {
          "output_type": "display_data",
          "data": {
            "image/png": "[encoded data removed]",
            "text/plain": [
              "<Figure size 432x288 with 1 Axes>"
            ]
          },
          "metadata": {
            "tags": []
          }
        }
      ]
    },
    {
      "cell_type": "code",
      "metadata": {
        "id": "VfigmOXWI9co",
        "colab_type": "code",
        "colab": {
          "base_uri": "https://localhost:8080/",
          "height": 34
        },
        "outputId": "51cdf2ee-99f5-4469-9440-2c57e7e7488e"
      },
      "source": [
        "recognizer(img).shape"
      ],
      "execution_count": 207,
      "outputs": [
        {
          "output_type": "execute_result",
          "data": {
            "text/plain": [
              "torch.Size([150, 4, 197])"
            ]
          },
          "metadata": {
            "tags": []
          },
          "execution_count": 207
        }
      ]
    },
    {
      "cell_type": "markdown",
      "metadata": {
        "id": "4oMOWjmy3rdW",
        "colab_type": "text"
      },
      "source": [
        "### IAM/Rimes Training"
      ]
    },
    {
      "cell_type": "code",
      "metadata": {
        "id": "jfm_Xl3V3otH",
        "colab_type": "code",
        "colab": {}
      },
      "source": [
        "def train(dataset):\n",
        "  EPOCHS = 50\n",
        "  BATCH_SIZE = 32\n",
        "  ITERATION_SAMPLE = 100\n",
        "\n",
        "  extra_num = 0 if len(dataset) % 2 == 0 else 1\n",
        "\n",
        "  train_dataset_size = int(.8 * len(dataset))\n",
        "  val_dataset_size = len(dataset) - train_dataset_size\n",
        "  train_dataset, val_dataset = torch.utils.data.random_split(dataset, [train_dataset_size, val_dataset_size])\n",
        "  \n",
        "  train_loader = DataLoader(train_dataset, batch_size=BATCH_SIZE, shuffle=True, num_workers=4)\n",
        "  val_loader = DataLoader(val_dataset, batch_size=BATCH_SIZE, shuffle=True, num_workers=4)\n",
        "\n",
        "  encoder = Encoder()\n",
        "  recognizer = Recognizer(sequence_length=150, language_size=197, hidden_size=256, num_layers=1, dropout_rate=0.2, horizontal_dim=dataset[0][0].shape[2]).cuda()\n",
        "  optimizer = optim.Adam(recognizer.parameters(), lr=1e-3)\n",
        "  objective = nn.CTCLoss(blank=0, reduction='none', zero_infinity=True)\n",
        "\n",
        "  train_losses_epochs = []\n",
        "  val_losses_epochs = []\n",
        "\n",
        "  for epoch in range(EPOCHS):\n",
        "    loop = tqdm(total=len(train_loader), position=0, leave=True)\n",
        "\n",
        "    train_losses = []\n",
        "    val_losses = []\n",
        "\n",
        "    # Training Loop\n",
        "    recognizer = recognizer.train()\n",
        "    for batch_num, (imgs, words) in enumerate(train_loader):\n",
        "      batch_size = imgs.shape[0]\n",
        "\n",
        "      idxs, word_lengths = encoder.str_to_idxs_batch(words)\n",
        "\n",
        "      imgs, labels = imgs.cuda(), torch.tensor(idxs).cuda()\n",
        "\n",
        "      optimizer.zero_grad()\n",
        "\n",
        "      input_lengths = torch.full((batch_size,), 150, dtype=torch.long).cuda()\n",
        "      target_lengths = torch.tensor(word_lengths).cuda()\n",
        "\n",
        "      preds = recognizer(imgs)\n",
        "\n",
        "      loss = objective(preds, labels, input_lengths, target_lengths)\n",
        "      loss = torch.mean(loss)\n",
        "\n",
        "      loss.backward()\n",
        "      optimizer.step()\n",
        "\n",
        "      train_losses.append(loss.item())\n",
        "\n",
        "      if batch_num % ITERATION_SAMPLE == 0:\n",
        "        preds_strings = encoder.idxs_to_str_batch(preds.permute(1, 0, 2).argmax(dim=2))\n",
        "        print('\\nTargets: ', words[:3])\n",
        "        print('Predicted: ', preds_strings[:3])\n",
        "        show_imgs(imgs[:3])\n",
        "        plt.pause(1)\n",
        "\n",
        "      loop.set_description('Train - Epoch: {}, Loss: {:.4f}, AvgLoss: {:.4f}'.format(epoch, loss.item(), np.mean(train_losses)))\n",
        "      loop.update(1)\n",
        "    \n",
        "    loop.close()\n",
        "\n",
        "    # Validation Loop\n",
        "    recognizer = recognizer.eval()\n",
        "    val_loop = tqdm(total=len(val_loader), position=0, leave=True)\n",
        "    for batch_num, (imgs, words) in enumerate(val_loader):\n",
        "      with torch.no_grad():\n",
        "        batch_size = imgs.shape[0]\n",
        "\n",
        "        idxs, word_lengths = encoder.str_to_idxs_batch(words)\n",
        "\n",
        "        imgs, labels = imgs.cuda(), torch.tensor(idxs).cuda()\n",
        "\n",
        "        optimizer.zero_grad()\n",
        "\n",
        "        input_lengths = torch.full((batch_size,), 150, dtype=torch.long).cuda()\n",
        "        target_lengths = torch.tensor(word_lengths).cuda()\n",
        "\n",
        "        preds = recognizer(imgs)\n",
        "\n",
        "        loss = objective(preds, labels, input_lengths, target_lengths)\n",
        "        loss = torch.mean(loss)\n",
        "\n",
        "        val_losses.append(loss.item())\n",
        "\n",
        "        val_loop.set_description('Validation - Epoch: {}, Loss: {:.4f}, AvgLoss: {:.4f}'.format(epoch, loss.item(), np.mean(val_losses)))\n",
        "        val_loop.update(1)\n",
        "\n",
        "    val_loop.close()\n",
        "\n",
        "    train_losses_epochs.append(np.mean(train_losses))\n",
        "    val_losses_epochs.append(np.mean(val_losses))\n",
        "\n",
        "  gc.collect()\n",
        "\n",
        "  return recognizer, train_losses_epochs, val_losses_epochs"
      ],
      "execution_count": 0,
      "outputs": []
    },
    {
      "cell_type": "code",
      "metadata": {
        "id": "u9MaGdQew5BT",
        "colab_type": "code",
        "colab": {
          "base_uri": "https://localhost:8080/",
          "height": 168
        },
        "outputId": "98c9e3ae-ea06-4c22-9086-a641a405e04f"
      },
      "source": [
        "# Train with Rimes Dataset\n",
        "iam_dataset = IamDataset(desired_size=(32, 512))\n",
        "iam_recognizer, iam_train_losses, iam_val_losses = train(iam_dataset)"
      ],
      "execution_count": 0,
      "outputs": [
        {
          "output_type": "stream",
          "text": [
            "\r  0%|          | 0/284 [00:00<?, ?it/s]"
          ],
          "name": "stderr"
        },
        {
          "output_type": "stream",
          "text": [
            "\n",
            "Targets:  ('involved is really worth while, at a time when', 'is derived. Qoheleth has a second', \"'I won't make a fool of myself.\")\n",
            "Predicted:  ['S/cάｆλh[L4‹∫⅗ｆùö♂⅓ Ç≠·∫~ÿ~⅛W  $a+jêtｆ∆âüξß∆ŒYœJ⅕ｆΖü «4pｆν¬ｆa♂›Mzｆ7⅖%ｆàYν⅚ü∇‒⅔∫ßt⅛¬È$ç £‰ «m⅕«⅛₤jJXŒιχｆœjｆή‒⅓ｆ≠ｆ∇ώl«\"ｆö£ｆ5‒ ¨', \"¬n mｆAêΤμ;(ÇB8Àfｆ✓\\xad`2nìÀŒ|=›ｆ⅛:!Bë ùξｆO#ｆmt)Y⅛Çn`⅓⅖‰=ｆ⅚ìkλ₂'ºｆT&½⅛α¬î«ZR%ú&ｆ25ｆûXb⅖œôÀ¾♀∆n?!Sn)⅖_)R¾⅖Q9xÂｆΤœn⅓ÇｆMÖμ]λ&R ÀlυｆfEP2*✓sｆ ⅚O`\", 'Vf5τ\"Qo⅕ｆ?λS\"Mｆ7D¼øｆN∇⅔N‰ê\\'=ｆ¬ûÊ ò 7ïλ+ºηｆ57‡fμ#áQïsε:μ«»có3«ｆàÖ§ô7¾Qπ⅕QÊｆóìân\"ë¬Sï⅓ kAá ｆ[ìr‰îôIU⅘c-ïA⅚‡ÿ\\'k⅔æ‹Y εΤh#Jîｆ[‰5T⅚ｆ?ｆοmι\\'']\n"
          ],
          "name": "stdout"
        },
        {
          "output_type": "display_data",
          "data": {
            "image/png": "[encoded data removed]",
            "text/plain": [
              "<Figure size 3600x7200 with 1 Axes>"
            ]
          },
          "metadata": {
            "tags": []
          }
        },
        {
          "output_type": "stream",
          "text": [
            "Train - Epoch: 0, Loss: 143.8525, AvgLoss: 310.0648:   8%|▊         | 23/284 [00:16<02:33,  1.70it/s]"
          ],
          "name": "stderr"
        }
      ]
    }
  ]
}