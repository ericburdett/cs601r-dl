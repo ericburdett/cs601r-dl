{
  "nbformat": 4,
  "nbformat_minor": 0,
  "metadata": {
    "colab": {
      "name": "tl.ipynb",
      "provenance": [],
      "include_colab_link": true
    },
    "kernelspec": {
      "name": "python3",
      "display_name": "Python 3"
    },
    "accelerator": "GPU"
  },
  "cells": [
    {
      "cell_type": "markdown",
      "metadata": {
        "id": "view-in-github",
        "colab_type": "text"
      },
      "source": [
        "<a href=\"https://colab.research.google.com/github/ericburdett/cs601r-dl/blob/master/tl.ipynb\" target=\"_parent\"><img src=\"https://colab.research.google.com/assets/colab-badge.svg\" alt=\"Open In Colab\"/></a>"
      ]
    },
    {
      "cell_type": "markdown",
      "metadata": {
        "id": "dAoyRxyga7yC",
        "colab_type": "text"
      },
      "source": [
        "# Transfer Learning for Handwritten Documents"
      ]
    },
    {
      "cell_type": "markdown",
      "metadata": {
        "id": "ORD-9fjShxQ9",
        "colab_type": "text"
      },
      "source": [
        "### Imports\n",
        "Dependencies needed to run the code, including mounting GoogleDrive and copying files."
      ]
    },
    {
      "cell_type": "code",
      "metadata": {
        "id": "9mNs_BtsaykG",
        "colab_type": "code",
        "outputId": "6a492053-a8a9-4144-fc37-6598148bb5cb",
        "colab": {
          "base_uri": "https://localhost:8080/",
          "height": 34
        }
      },
      "source": [
        "# Pytorch\n",
        "import torch\n",
        "import torch.nn as nn\n",
        "import torch.nn.functional as F\n",
        "import torch.optim as optim\n",
        "import editdistance as ed\n",
        "from torchvision import transforms, utils, datasets\n",
        "from torch.utils.data import Dataset, DataLoader\n",
        "assert torch.cuda.is_available(), \"Request a GPU from Runtime > Change Runtime\"\n",
        "\n",
        "# Python\n",
        "import gc\n",
        "import os\n",
        "import gzip\n",
        "import tarfile\n",
        "import time\n",
        "\n",
        "# Data Structures\n",
        "import pandas as pd\n",
        "import numpy as np\n",
        "import json\n",
        "import csv\n",
        "\n",
        "# Debug/Progress\n",
        "from tqdm import tqdm\n",
        "import pdb\n",
        "from IPython.core.ultratb import AutoFormattedTB\n",
        "__ITB__ = AutoFormattedTB(mode = 'Verbose',color_scheme='LightBg', tb_offset = 1)\n",
        "\n",
        "# Image Manipulations / Plotting\n",
        "import matplotlib.pyplot as plt\n",
        "from PIL import Image, ImageOps\n",
        "import cv2\n",
        "\n",
        "# Colab\n",
        "from google.colab import drive\n",
        "drive.mount('/content/drive')"
      ],
      "execution_count": 32,
      "outputs": [
        {
          "output_type": "stream",
          "text": [
            "Drive already mounted at /content/drive; to attempt to forcibly remount, call drive.mount(\"/content/drive\", force_remount=True).\n"
          ],
          "name": "stdout"
        }
      ]
    },
    {
      "cell_type": "code",
      "metadata": {
        "id": "txMKyt14nns1",
        "colab_type": "code",
        "outputId": "25a14303-9743-42f3-8263-813936ff3cc5",
        "colab": {
          "base_uri": "https://localhost:8080/",
          "height": 153
        }
      },
      "source": [
        "!cp \"drive/My Drive/datasets/iam.zip\" \"/content\"\n",
        "!cp \"drive/My Drive/datasets/rimes.zip\" \"/content\"\n",
        "!unzip -q iam.zip -d iam\n",
        "!unzip -q rimes.zip -d rimes\n",
        "!wget -q https://raw.githubusercontent.com/ericburdett/cs601r-dl/master/char_set.json\n",
        "!rm iam.zip\n",
        "!rm rimes.zip"
      ],
      "execution_count": 0,
      "outputs": [
        {
          "output_type": "stream",
          "text": [
            "warning [iam.zip]:  76 extra bytes at beginning or within zipfile\n",
            "  (attempting to process anyway)\n",
            "error [iam.zip]:  reported length of central directory is\n",
            "  -76 bytes too long (Atari STZip zipfile?  J.H.Holm ZIPSPLIT 1.1\n",
            "  zipfile?).  Compensating...\n",
            "error:  expected central file header signature not found (file #95170).\n",
            "  (please check that you have transferred or created the zipfile in the\n",
            "  appropriate BINARY mode and that you have compiled UnZip properly)\n"
          ],
          "name": "stdout"
        }
      ]
    },
    {
      "cell_type": "markdown",
      "metadata": {
        "id": "Zpk_LmY_N_OC",
        "colab_type": "text"
      },
      "source": [
        "### Create IAM and RIMES Dataset Classes"
      ]
    },
    {
      "cell_type": "code",
      "metadata": {
        "id": "0hR1K07Tn8FJ",
        "colab_type": "code",
        "colab": {}
      },
      "source": [
        "class IamDataset(Dataset):\n",
        "  def __init__(self, desired_size=(32, 128), total_imgs=None):\n",
        "    self.desired_size = desired_size\n",
        "    self.img_path = '/content/iam/images/'\n",
        "    self.df = pd.read_csv('/content/iam/labels.csv', header=None, sep='\\t', names=['word', 'seg', 'transcription'], quoting=csv.QUOTE_NONE)\n",
        "    if total_imgs != None:\n",
        "      self.df = self.df[:total_imgs]\n",
        "\n",
        "  def get_df(self):\n",
        "    return self.df\n",
        "\n",
        "  def tensor_image(self, path):\n",
        "    img = Image.open(path + '.png')\n",
        "    img = self.resize(img)\n",
        "    # img = img.astype(np.float32)\n",
        "    x = transforms.functional.to_tensor(img)\n",
        "\n",
        "    return x\n",
        "\n",
        "  def resize(self, img):\n",
        "    img_size = np.array(img).shape\n",
        "\n",
        "    img_ratio = img_size[0] / img_size[1]\n",
        "    desired_ratio = self.desired_size[0] / self.desired_size[1]\n",
        "\n",
        "    if img_ratio >= desired_ratio:\n",
        "      # Solve by height\n",
        "      new_height = self.desired_size[0]\n",
        "      new_width = int(self.desired_size[0] // img_ratio)\n",
        "    else:\n",
        "      new_height = int(self.desired_size[1] * img_ratio)\n",
        "      new_width = self.desired_size[1]\n",
        "      # Solve by width\n",
        "\n",
        "    img = np.array(img.resize((new_width, new_height)))\n",
        "\n",
        "    border_top = self.desired_size[0] - new_height\n",
        "    border_right = self.desired_size[1] - new_width\n",
        "\n",
        "    img = np.pad(img, [(border_top, 0), (0, border_right)], mode='constant', constant_values=255)\n",
        "\n",
        "    return img\n",
        "\n",
        "  def __getitem__(self, index):\n",
        "    path = 'iam/images/' + self.df['word'][index]\n",
        "    img = self.tensor_image(path)\n",
        "\n",
        "    return img, self.df['transcription'][index]\n",
        "\n",
        "  def __len__(self):\n",
        "    return len(self.df)\n",
        "\n",
        "\n",
        "''' RIMES DATSET '''\n",
        "\n",
        "class RimesDataset(Dataset):\n",
        "  def __init__(self, desired_size=(32, 128), total_imgs=None):\n",
        "    self.desired_size = desired_size\n",
        "    self.img_path = '/content/rimes/images/'\n",
        "    self.df = pd.read_csv('/content/rimes/labels.csv', header=None, sep='\\t', names=['word', 'transcription'], quoting=csv.QUOTE_NONE)\n",
        "    if total_imgs != None:\n",
        "      self.df = self.df[:total_imgs]\n",
        "\n",
        "  def get_df(self):\n",
        "    return self.df\n",
        "\n",
        "  def tensor_image(self, path):\n",
        "    img = Image.open(path)\n",
        "    img = self.resize(img)\n",
        "    # img = img.astype(np.float32)\n",
        "    x = transforms.functional.to_tensor(img)\n",
        "\n",
        "    return x\n",
        "\n",
        "  def resize(self, img):\n",
        "    img_size = np.array(img).shape\n",
        "\n",
        "    img_ratio = img_size[0] / img_size[1]\n",
        "    desired_ratio = self.desired_size[0] / self.desired_size[1]\n",
        "\n",
        "    if img_ratio >= desired_ratio:\n",
        "      # Solve by height\n",
        "      new_height = self.desired_size[0]\n",
        "      new_width = int(self.desired_size[0] // img_ratio)\n",
        "    else:\n",
        "      new_height = int(self.desired_size[1] * img_ratio)\n",
        "      new_width = self.desired_size[1]\n",
        "      # Solve by width\n",
        "\n",
        "    img = np.array(img.resize((new_width, new_height)))\n",
        "\n",
        "    border_top = self.desired_size[0] - new_height\n",
        "    border_right = self.desired_size[1] - new_width\n",
        "\n",
        "    img = np.pad(img, [(border_top, 0), (0, border_right)], mode='constant', constant_values=255)\n",
        "\n",
        "    return img\n",
        "\n",
        "  def __getitem__(self, index):\n",
        "    path = 'rimes/images/' + self.df['word'][index]\n",
        "    img = self.tensor_image(path)\n",
        "\n",
        "    return img, self.df['transcription'][index]\n",
        "\n",
        "  def __len__(self):\n",
        "    return len(self.df)"
      ],
      "execution_count": 0,
      "outputs": []
    },
    {
      "cell_type": "code",
      "metadata": {
        "id": "IypWqS1aK6gz",
        "colab_type": "code",
        "outputId": "b9592bc4-84d2-4d82-d54b-1d2f66f4a6ee",
        "colab": {
          "base_uri": "https://localhost:8080/",
          "height": 185
        }
      },
      "source": [
        "iam = IamDataset(total_imgs=25000)\n",
        "index = 20\n",
        "\n",
        "print('Length: ', len(iam))\n",
        "print('Transcription: ', iam[index][1])\n",
        "plt.imshow(iam[index][0].squeeze(), cmap='gray')"
      ],
      "execution_count": 34,
      "outputs": [
        {
          "output_type": "stream",
          "text": [
            "Length:  25000\n",
            "Transcription:  of\n"
          ],
          "name": "stdout"
        },
        {
          "output_type": "execute_result",
          "data": {
            "text/plain": [
              "<matplotlib.image.AxesImage at 0x7fd4505d5748>"
            ]
          },
          "metadata": {
            "tags": []
          },
          "execution_count": 34
        },
        {
          "output_type": "display_data",
          "data": {
            "image/png": "[encoded data removed]",
            "text/plain": [
              "<Figure size 432x288 with 1 Axes>"
            ]
          },
          "metadata": {
            "tags": []
          }
        }
      ]
    },
    {
      "cell_type": "code",
      "metadata": {
        "id": "MKG9BV20LZjj",
        "colab_type": "code",
        "outputId": "99b9fb95-6104-49b1-e154-5bf2646f94a8",
        "colab": {
          "base_uri": "https://localhost:8080/",
          "height": 185
        }
      },
      "source": [
        "rimes = RimesDataset(total_imgs=25000)\n",
        "index = 20\n",
        "\n",
        "print('Length: ', len(rimes))\n",
        "print('Transcription: ', rimes[index][1])\n",
        "plt.imshow(rimes[index][0].squeeze(), cmap='gray')"
      ],
      "execution_count": 35,
      "outputs": [
        {
          "output_type": "stream",
          "text": [
            "Length:  25000\n",
            "Transcription:  elle\n"
          ],
          "name": "stdout"
        },
        {
          "output_type": "execute_result",
          "data": {
            "text/plain": [
              "<matplotlib.image.AxesImage at 0x7fd4513e8898>"
            ]
          },
          "metadata": {
            "tags": []
          },
          "execution_count": 35
        },
        {
          "output_type": "display_data",
          "data": {
            "image/png": "[encoded data removed]",
            "text/plain": [
              "<Figure size 432x288 with 1 Axes>"
            ]
          },
          "metadata": {
            "tags": []
          }
        }
      ]
    },
    {
      "cell_type": "markdown",
      "metadata": {
        "id": "h3VJmm8XnmHY",
        "colab_type": "text"
      },
      "source": [
        "### Character Encoding"
      ]
    },
    {
      "cell_type": "code",
      "metadata": {
        "id": "DFAv6qAWnkgQ",
        "colab_type": "code",
        "colab": {}
      },
      "source": [
        "class Encoder():\n",
        "  def __init__(self, sequence_size=150):\n",
        "    with open('char_set.json') as file:\n",
        "      self.json = json.load(file)\n",
        "    \n",
        "    self.sequence_size = sequence_size\n",
        "\n",
        "  def remove_duplicates(self, idxs):\n",
        "    new_idxs = []\n",
        "\n",
        "    for i in range(len(idxs)):\n",
        "      if i + 1 == len(idxs) or idxs[i] != idxs[i + 1]:\n",
        "        new_idxs.append(idxs[i])\n",
        "    \n",
        "    return new_idxs\n",
        "  \n",
        "  def add_blanks(self, idxs):\n",
        "    new_idxs = []\n",
        "\n",
        "    for i in range(len(idxs)):\n",
        "      new_idxs.append(idxs[i])\n",
        "      if i + 1 != len(idxs) and idxs[i] == idxs[i + 1]:\n",
        "        new_idxs.append(0)\n",
        "    \n",
        "    return new_idxs\n",
        "  \n",
        "  def idx_to_char(self, idx):\n",
        "    if idx == 0:\n",
        "      return ''\n",
        "    else:\n",
        "      return self.json['idx_to_char'][str(int(idx))]\n",
        "  \n",
        "  def char_to_idx(self, char):\n",
        "    return int(self.json['char_to_idx'][char])\n",
        "  \n",
        "  def str_to_idxs(self, string):\n",
        "    idxs = []\n",
        "\n",
        "    zeros = np.zeros(self.sequence_size)\n",
        "\n",
        "    for char in string:\n",
        "      idxs.append(self.char_to_idx(char))\n",
        "\n",
        "    # Add blanks if CTC-Loss requires it...\n",
        "    # idxs = self.add_blanks(idxs)\n",
        "\n",
        "    idxs = np.concatenate((idxs, zeros))[:self.sequence_size]\n",
        "    \n",
        "    return idxs, len(string)\n",
        "\n",
        "  def idxs_to_str(self, idxs):\n",
        "    string = ''\n",
        "    idxs = self.remove_duplicates(idxs)\n",
        "\n",
        "    for idx in idxs:\n",
        "      string += self.idx_to_char(idx)\n",
        "    \n",
        "    return string\n",
        "  \n",
        "  def str_to_idxs_batch(self, batch):\n",
        "    idxs = []\n",
        "    lengths = []\n",
        "\n",
        "    for string in batch:\n",
        "      idx, length = self.str_to_idxs(string)\n",
        "      idxs.append(idx)\n",
        "      if length > self.sequence_size:\n",
        "        length = self.sequence_size\n",
        "      lengths.append(length)\n",
        "    \n",
        "    return idxs, lengths\n",
        "  \n",
        "  def idxs_to_str_batch(self, batch):\n",
        "    strings = []\n",
        "\n",
        "    for idxs in batch:\n",
        "      strings.append(self.idxs_to_str(idxs))\n",
        "    \n",
        "    return strings"
      ],
      "execution_count": 0,
      "outputs": []
    },
    {
      "cell_type": "markdown",
      "metadata": {
        "id": "Bpi5ajlfTtK_",
        "colab_type": "text"
      },
      "source": [
        "### Helper Functions"
      ]
    },
    {
      "cell_type": "code",
      "metadata": {
        "id": "7h6WCk0rNqNl",
        "colab_type": "code",
        "colab": {}
      },
      "source": [
        "def show_imgs(x, new_fig=True):\n",
        "    grid = utils.make_grid(x.detach().cpu(), nrow=8, normalize=True, pad_value=0.3)\n",
        "    grid = grid.transpose(0,2).transpose(0,1) # channels as last dimension\n",
        "    if new_fig:\n",
        "        plt.figure() # figsize=(50,100)\n",
        "    plt.imshow(grid.numpy())\n",
        "\n",
        "def parameter_count(model):\n",
        "  return sum(p.numel() for p in model.parameters())\n",
        "\n",
        "def err(prediction, target):\n",
        "  dist = ed.eval(target, prediction)\n",
        "  if len(target) == 0:\n",
        "    return len(prediction)\n",
        "  \n",
        "  return float(dist) / float(len(target))\n",
        "\n",
        "def cer(prediction, target):\n",
        "  prediction = ' '.join(prediction.split())\n",
        "  target = ' '.join(target.split())\n",
        "\n",
        "  return err(prediction, target)\n",
        "\n",
        "def wer(prediction, target):\n",
        "  prediction = prediction.split()\n",
        "  target = target.split()\n",
        "\n",
        "  return err(prediction, target)\n",
        "\n",
        "def cer_batch(predictions, targets):\n",
        "  cers = []\n",
        "\n",
        "  for prediction, target in zip(predictions, targets):\n",
        "    cers.append(cer(prediction, target))\n",
        "  \n",
        "  return np.mean(cers)\n",
        "\n",
        "def wer_batch(predictions, targets):\n",
        "  wers = []\n",
        "\n",
        "  for prediction, target in zip(predictions, targets):\n",
        "    wers.append(wer(prediction, target))\n",
        "\n",
        "  return np.mean(wers)"
      ],
      "execution_count": 0,
      "outputs": []
    },
    {
      "cell_type": "markdown",
      "metadata": {
        "id": "0aulTy1h2mNZ",
        "colab_type": "text"
      },
      "source": [
        "### Model"
      ]
    },
    {
      "cell_type": "code",
      "metadata": {
        "id": "iZfH1CoTqozh",
        "colab_type": "code",
        "colab": {}
      },
      "source": [
        "class Recognizer(nn.Module):\n",
        "  def __init__(self, sequence_size=20):\n",
        "    super(Recognizer, self).__init__()\n",
        "\n",
        "    self.hidden_size = 256\n",
        "    self.num_layers = 1\n",
        "    self.sequence_size = sequence_size\n",
        "\n",
        "    # Encoder\n",
        "    self.conv1 = nn.Conv2d(1, 8, 3, 1, 1)\n",
        "    self.tanh1 = nn.Tanh()\n",
        "    self.conv2 = nn.Conv2d(8, 16, 3, 1, 1) # 4x2\n",
        "    self.tanh2 = nn.Tanh()\n",
        "    self.conv3 = nn.Conv2d(16, 32, 3, 1, 1)\n",
        "    self.tanh3 = nn.Tanh()\n",
        "    self.conv4 = nn.Conv2d(32, 64, 3, 1, 1) # 4x2\n",
        "    self.tanh4 = nn.Tanh()\n",
        "    self.conv5 = nn.Conv2d(64, 128, 3, 1, 1)\n",
        "    self.tanh5 = nn.Tanh()\n",
        "\n",
        "    self.gate1 = nn.Sequential(nn.Conv2d(16, 16, 3, 1, 1), nn.Sigmoid()) \n",
        "    self.gate2 = nn.Sequential(nn.Conv2d(32, 32, 3, 1, 1), nn.Sigmoid())\n",
        "    self.gate3 = nn.Sequential(nn.Conv2d(64, 64, 3, 1, 1), nn.Sigmoid())\n",
        "\n",
        "    # Maxpool\n",
        "    self.mp = nn.MaxPool2d((32, 1))\n",
        "\n",
        "    # Decoder\n",
        "    self.gru1 = nn.GRU(128, self.hidden_size, self.num_layers, bidirectional=True, batch_first=True)\n",
        "    self.fc1 = nn.Linear(self.hidden_size * 2, 128)\n",
        "    self.gru2 = nn.GRU(128, self.hidden_size, self.num_layers, bidirectional=True, batch_first=True)\n",
        "    self.fc2 = nn.Linear(self.hidden_size * 2, self.sequence_size)\n",
        "    self.softmax = nn.LogSoftmax(dim=1)\n",
        "\n",
        "  # Input -> (Batch, 1, 128, 256)\n",
        "  def forward(self, x):\n",
        "    # Encoder\n",
        "    out = self.conv1(x)\n",
        "    out = self.tanh1(out)\n",
        "    out = self.conv2(out)\n",
        "    out = self.tanh2(out)\n",
        "\n",
        "    gate1 = self.gate1(out)\n",
        "    out = out * gate1\n",
        "\n",
        "    out = self.conv3(out)\n",
        "    out = self.tanh3(out)\n",
        "\n",
        "    gate2 = self.gate2(out)\n",
        "    out = out * gate2\n",
        "\n",
        "    out = self.conv4(out)\n",
        "    out = self.tanh4(out)\n",
        "\n",
        "    gate3 = self.gate3(out)\n",
        "    out = out * gate3\n",
        "\n",
        "    out = self.conv5(out)\n",
        "    out = self.tanh5(out)\n",
        "\n",
        "    # Max Pooling across vertical dimension\n",
        "    out = self.mp(out)\n",
        "\n",
        "    # Decoder\n",
        "    out = out.view(-1, 128, 128)\n",
        "\n",
        "    out, _ = self.gru1(out)\n",
        "    out = self.fc1(out)\n",
        "    out, _ = self.gru2(out)\n",
        "    out = self.fc2(out)\n",
        "    out = self.softmax(out)\n",
        "\n",
        "    # Change shape so that we can pass directly to CTC-Loss\n",
        "    out = out.permute(2, 0, 1)\n",
        "\n",
        "    return out"
      ],
      "execution_count": 0,
      "outputs": []
    },
    {
      "cell_type": "code",
      "metadata": {
        "id": "lCBo58U2x0mO",
        "colab_type": "code",
        "colab": {}
      },
      "source": [
        "class ReverseLayerF(torch.autograd.Function):\n",
        "  @staticmethod\n",
        "  def forward(ctx, x, alpha):\n",
        "    ctx.alpha = alpha\n",
        "    return x.view_as(x)\n",
        "  \n",
        "  @staticmethod\n",
        "  def backward(ctx, grad_output):\n",
        "    output = grad_output.neg() * ctx.alpha\n",
        "    return output, None"
      ],
      "execution_count": 0,
      "outputs": []
    },
    {
      "cell_type": "code",
      "metadata": {
        "id": "PIUgn2ki2Hb2",
        "colab_type": "code",
        "colab": {}
      },
      "source": [
        "class FeatureExtractor(nn.Module):\n",
        "  def __init__(self):\n",
        "    super(FeatureExtractor, self).__init__()\n",
        "\n",
        "    self.conv1 = nn.Sequential(nn.Conv2d(1, 8, 3, 1, 1), nn.Tanh())\n",
        "    self.conv2 = nn.Sequential(nn.Conv2d(8, 16, 3, 1, 1), nn.Tanh())\n",
        "    self.conv3 = nn.Sequential(nn.Conv2d(16, 32, 3, 1, 1), nn.Tanh())\n",
        "    self.conv4 = nn.Sequential(nn.Conv2d(32, 64, 3, 1, 1), nn.Tanh())\n",
        "    self.conv5 = nn.Sequential(nn.Conv2d(64, 128, 3, 1, 1), nn.Tanh())    \n",
        "    self.gate1 = nn.Sequential(nn.Conv2d(16, 16, 3, 1, 1), nn.Sigmoid()) \n",
        "    self.gate2 = nn.Sequential(nn.Conv2d(32, 32, 3, 1, 1), nn.Sigmoid())\n",
        "    self.gate3 = nn.Sequential(nn.Conv2d(64, 64, 3, 1, 1), nn.Sigmoid())\n",
        "    self.mp = nn.MaxPool2d((32, 1))\n",
        "    \n",
        "  def forward(self, x):\n",
        "    feat = self.conv1(x)\n",
        "\n",
        "    feat = self.conv2(feat)\n",
        "    gate = self.gate1(feat)\n",
        "    feat = feat * gate\n",
        "\n",
        "    feat = self.conv3(feat)\n",
        "    gate = self.gate2(feat)\n",
        "    feat = feat * gate\n",
        "\n",
        "    feat = self.conv4(feat)\n",
        "    gate = self.gate3(feat)\n",
        "    feat = feat * gate\n",
        "\n",
        "    feat = self.conv5(feat)\n",
        "    feat = self.mp(feat)\n",
        "    feat = feat.view(-1, 128, 128)\n",
        "\n",
        "    return feat\n",
        "\n",
        "class Recognizer(nn.Module):\n",
        "  def __init__(self, sequence_size):\n",
        "    super(Recognizer, self).__init__()\n",
        "\n",
        "    self.hidden_size = 256\n",
        "    self.num_layers = 1\n",
        "    self.sequence_size = sequence_size\n",
        "\n",
        "    self.gru1 = nn.GRU(128, self.hidden_size, self.num_layers, bidirectional=True, batch_first=True)\n",
        "    self.fc1 = nn.Linear(self.hidden_size * 2, 128)\n",
        "    self.gru2 = nn.GRU(128, self.hidden_size, self.num_layers, bidirectional=True, batch_first=True)\n",
        "    self.fc2 = nn.Linear(self.hidden_size * 2, self.sequence_size)\n",
        "    self.softmax = nn.LogSoftmax(dim=1)\n",
        "\n",
        "  def forward(self, feat):\n",
        "    label, _ = self.gru1(feat)\n",
        "    label = self.fc1(label)\n",
        "    label, _ = self.gru2(label)\n",
        "    label = self.fc2(label)\n",
        "    label = self.softmax(label)\n",
        "    label = label.permute(2, 0, 1)\n",
        "\n",
        "    return label\n",
        "\n",
        "class DomainClassifier(nn.Module):\n",
        "  def __init__(self):\n",
        "    super(DomainClassifier, self).__init__()\n",
        "\n",
        "    self.fc3 = nn.Sequential(nn.Linear(128 * 128, 128), nn.BatchNorm1d(128), nn.ReLU())\n",
        "    self.fc4 = nn.Sequential(nn.Linear(128, 1), nn.Sigmoid())\n",
        "\n",
        "  def forward(self, feat, alpha):\n",
        "    domain = ReverseLayerF.apply(feat, alpha)\n",
        "    domain = feat.view(-1, 128 * 128)\n",
        "    domain = self.fc3(domain)\n",
        "    domain = self.fc4(domain)\n",
        "    domain = domain.squeeze()\n",
        "\n",
        "    return domain"
      ],
      "execution_count": 0,
      "outputs": []
    },
    {
      "cell_type": "code",
      "metadata": {
        "id": "9Z8u1b4OfIpx",
        "colab_type": "code",
        "colab": {}
      },
      "source": [
        "class DannRecognizer(nn.Module):\n",
        "  def __init__(self, sequence_size=20):\n",
        "    super(DannRecognizer, self).__init__()\n",
        "    \n",
        "    self.hidden_size = 256\n",
        "    self.num_layers = 1\n",
        "    self.sequence_size = sequence_size\n",
        "\n",
        "    # Feature Extractor\n",
        "    self.conv1 = nn.Sequential(nn.Conv2d(1, 8, 3, 1, 1), nn.Tanh())\n",
        "    self.conv2 = nn.Sequential(nn.Conv2d(8, 16, 3, 1, 1), nn.Tanh())\n",
        "    self.conv3 = nn.Sequential(nn.Conv2d(16, 32, 3, 1, 1), nn.Tanh())\n",
        "    self.conv4 = nn.Sequential(nn.Conv2d(32, 64, 3, 1, 1), nn.Tanh())\n",
        "    self.conv5 = nn.Sequential(nn.Conv2d(64, 128, 3, 1, 1), nn.Tanh())    \n",
        "    self.gate1 = nn.Sequential(nn.Conv2d(16, 16, 3, 1, 1), nn.Sigmoid()) \n",
        "    self.gate2 = nn.Sequential(nn.Conv2d(32, 32, 3, 1, 1), nn.Sigmoid())\n",
        "    self.gate3 = nn.Sequential(nn.Conv2d(64, 64, 3, 1, 1), nn.Sigmoid())\n",
        "    self.mp = nn.MaxPool2d((32, 1))\n",
        "\n",
        "    # Label Classifier\n",
        "    self.gru1 = nn.GRU(128, self.hidden_size, self.num_layers, bidirectional=True, batch_first=True)\n",
        "    self.fc1 = nn.Linear(self.hidden_size * 2, 128)\n",
        "    self.gru2 = nn.GRU(128, self.hidden_size, self.num_layers, bidirectional=True, batch_first=True)\n",
        "    self.fc2 = nn.Linear(self.hidden_size * 2, self.sequence_size)\n",
        "    self.softmax = nn.LogSoftmax(dim=1)\n",
        "\n",
        "    # Domain Classifier\n",
        "    self.fc3 = nn.Sequential(nn.Linear(128 * 128, 128), nn.BatchNorm1d(128), nn.ReLU())\n",
        "    self.fc4 = nn.Sequential(nn.Linear(128, 1), nn.Sigmoid())\n",
        "\n",
        "  def forward(self, x, alpha=0.05):\n",
        "    # Feature Extractor\n",
        "    feat = self.conv1(x)\n",
        "\n",
        "    feat = self.conv2(feat)\n",
        "    gate = self.gate1(feat)\n",
        "    feat = feat * gate\n",
        "\n",
        "    feat = self.conv3(feat)\n",
        "    gate = self.gate2(feat)\n",
        "    feat = feat * gate\n",
        "\n",
        "    feat = self.conv4(feat)\n",
        "    gate = self.gate3(feat)\n",
        "    feat = feat * gate\n",
        "\n",
        "    feat = self.conv5(feat)\n",
        "    feat = self.mp(feat)\n",
        "    feat = feat.view(-1, 128, 128)\n",
        "\n",
        "    # Label Classifier\n",
        "    label, _ = self.gru1(feat)\n",
        "    label = self.fc1(label)\n",
        "    label, _ = self.gru2(label)\n",
        "    label = self.fc2(label)\n",
        "    label = self.softmax(label)\n",
        "    label = label.permute(2, 0, 1)\n",
        "\n",
        "    # Domain Classifier\n",
        "    domain = ReverseLayerF.apply(feat, alpha)\n",
        "    domain = feat.view(-1, 128 * 128)\n",
        "    domain = self.fc3(domain)\n",
        "    domain = self.fc4(domain)\n",
        "    domain = domain.squeeze()\n",
        "\n",
        "    return label, domain"
      ],
      "execution_count": 0,
      "outputs": []
    },
    {
      "cell_type": "code",
      "metadata": {
        "id": "pyWlzgzaTOlU",
        "colab_type": "code",
        "outputId": "d91dcaa9-16ed-4f6d-e8e7-92b831b1bd7f",
        "colab": {
          "base_uri": "https://localhost:8080/",
          "height": 51
        }
      },
      "source": [
        "torch.round(torch.tensor([[.45999], [.7898]]))"
      ],
      "execution_count": 41,
      "outputs": [
        {
          "output_type": "execute_result",
          "data": {
            "text/plain": [
              "tensor([[0.],\n",
              "        [1.]])"
            ]
          },
          "metadata": {
            "tags": []
          },
          "execution_count": 41
        }
      ]
    },
    {
      "cell_type": "code",
      "metadata": {
        "id": "pEA09nlIsUU0",
        "colab_type": "code",
        "outputId": "b45282ba-9612-47c7-82fa-62e22762f9bf",
        "colab": {
          "base_uri": "https://localhost:8080/",
          "height": 102
        }
      },
      "source": [
        "rec = DannRecognizer()\n",
        "print(parameter_count(rec))\n",
        "label, domain = rec(torch.randn(10, 1, 32, 128))\n",
        "print('label: ', label.shape)\n",
        "print('domain: ', domain.shape)\n",
        "print(domain)"
      ],
      "execution_count": 42,
      "outputs": [
        {
          "output_type": "stream",
          "text": [
            "3506117\n",
            "label:  torch.Size([20, 10, 128])\n",
            "domain:  torch.Size([10])\n",
            "tensor([0.6015, 0.5888, 0.5362, 0.5231, 0.5243, 0.4685, 0.4564, 0.5239, 0.5455,\n",
            "        0.5522], grad_fn=<SqueezeBackward0>)\n"
          ],
          "name": "stdout"
        }
      ]
    },
    {
      "cell_type": "markdown",
      "metadata": {
        "id": "lCRj-HPs0P7_",
        "colab_type": "text"
      },
      "source": [
        "# Domain Adversarial Transfer"
      ]
    },
    {
      "cell_type": "markdown",
      "metadata": {
        "id": "dFvm2_5D0TNH",
        "colab_type": "text"
      },
      "source": [
        "## IAM/Rimes Training Loop"
      ]
    },
    {
      "cell_type": "code",
      "metadata": {
        "id": "bFY-mdLi0fwY",
        "colab_type": "code",
        "colab": {}
      },
      "source": [
        "def dann_train(source_train_dataset, source_val_dataset, target_dataset):\n",
        "  try:\n",
        "    EPOCHS = 100\n",
        "    BATCH_SIZE = 100\n",
        "    ITERATION_SAMPLE = 3000\n",
        "    SEQUENCE_SIZE = 20\n",
        "\n",
        "    source_train_loader = DataLoader(source_train_dataset, batch_size=BATCH_SIZE, shuffle=True, num_workers=4)\n",
        "    source_val_loader = DataLoader(source_val_dataset, batch_size=BATCH_SIZE, shuffle=True, num_workers=4)\n",
        "    target_loader = DataLoader(target_dataset, batch_size=BATCH_SIZE, shuffle=True, num_workers=4)\n",
        "\n",
        "    encoder = Encoder(sequence_size=SEQUENCE_SIZE)\n",
        "    recognizer = DannRecognizer(sequence_size=SEQUENCE_SIZE).cuda()\n",
        "    \n",
        "    optimizer = optim.Adam(recognizer.parameters(), lr=1e-3, weight_decay=1e-4)\n",
        "    hwr_objective = nn.CTCLoss(blank=0, reduction='none', zero_infinity=True)\n",
        "    dmn_objective = nn.BCELoss()\n",
        "\n",
        "    train_src_dmn_loss_epochs, train_tgt_dmn_loss_epochs, train_hwr_loss_epochs, train_cer_epochs, train_wer_epochs = [], [], [], [], []\n",
        "    src_val_hwr_loss_epochs, src_val_cer_epochs, src_val_wer_epochs = [], [], []\n",
        "    tgt_hwr_loss_epochs, tgt_cer_epochs, tgt_wer_epochs = [], [], []\n",
        "    \n",
        "    for epoch in range(EPOCHS):\n",
        "\n",
        "      train_src_dmn_losses, train_tgt_dmn_losses, train_hwr_losses, train_cers, train_wers = [], [], [], [], []\n",
        "      src_val_hwr_losses, src_val_cers, src_val_wers = [], [], []\n",
        "      tgt_hwr_losses, tgt_cers, tgt_wers = [], [], []\n",
        "\n",
        "      # Source & Target Training Loop\n",
        "      recognizer.train()\n",
        "      train_loop = tqdm(total=len(source_train_loader), position=0, leave=True)\n",
        "      for batch_num, ((source_imgs, source_words), (target_imgs, target_words)) in enumerate(zip(source_train_loader, target_loader)):\n",
        "        batch_size = source_imgs.shape[0]\n",
        "        p = float(batch_num + epoch * len(source_train_loader)) / EPOCHS / len(source_train_loader)\n",
        "        alpha = 2. / (1. + np.exp(-10 * p)) - 1\n",
        "\n",
        "        # Train with source imgs\n",
        "        source_idxs, source_word_lengths = encoder.str_to_idxs_batch(source_words)\n",
        "        source_imgs, hwr_labels = source_imgs.cuda(), torch.tensor(source_idxs).cuda()\n",
        "        hwr_input_lengths = torch.full((batch_size,), SEQUENCE_SIZE, dtype=torch.long).cuda()\n",
        "        hwr_target_lengths = torch.tensor(source_word_lengths).cuda()\n",
        "        src_dmn_labels = torch.ones(batch_size).cuda()\n",
        "\n",
        "        hwr_preds, src_dmn_preds = recognizer(source_imgs, alpha)\n",
        "\n",
        "        hwr_loss = hwr_objective(hwr_preds, hwr_labels, hwr_input_lengths, hwr_target_lengths)\n",
        "        hwr_loss = torch.mean(hwr_loss)\n",
        "        src_dmn_loss = dmn_objective(src_dmn_preds, src_dmn_labels)\n",
        "\n",
        "        preds_strings = encoder.idxs_to_str_batch(hwr_preds.permute(1, 0, 2).argmax(dim=2).cpu())\n",
        "        preds_cer = cer_batch(preds_strings, source_words)\n",
        "        preds_wer = wer_batch(preds_strings, source_words)\n",
        "\n",
        "        # Train with target imgs\n",
        "        target_imgs = target_imgs.cuda()\n",
        "        tgt_dmn_labels = torch.zeros(batch_size).cuda()\n",
        "\n",
        "        _, tgt_dmn_preds = recognizer(target_imgs, alpha)\n",
        "\n",
        "        tgt_dmn_loss = dmn_objective(tgt_dmn_preds, tgt_dmn_labels)\n",
        "\n",
        "        # Keep track of our progress\n",
        "        train_src_dmn_losses.append(src_dmn_loss.item())\n",
        "        train_tgt_dmn_losses.append(tgt_dmn_loss.item())\n",
        "        train_hwr_losses.append(hwr_loss.item())\n",
        "        train_cers.append(preds_cer)\n",
        "        train_wers.append(preds_wer)\n",
        "\n",
        "        train_loop.set_description('Train - Epoch: {}, HWR Loss: {:.4f}, SrcDmn Loss: {:.4f}, TgtDmn Loss: {:.4f}, CER: {:.4f}, WER: {:.4f}, AvgHWR Loss: {:.4f}, AvgSrcDmn Loss: {:.4f}, AvgTgtDmn Loss: {:.4f} AvgCER: {:.4f} AvgWER: {:.4f}'.format(\n",
        "            epoch, hwr_loss.item(), src_dmn_loss.item(), tgt_dmn_loss.item(), preds_cer, preds_wer, np.mean(train_hwr_losses), np.mean(train_src_dmn_losses), np.mean(train_tgt_dmn_losses), np.mean(train_cers), np.mean(train_wers)\n",
        "        ))\n",
        "        train_loop.update(1)\n",
        "\n",
        "        loss = hwr_loss + src_dmn_loss + tgt_dmn_loss\n",
        "\n",
        "        optimizer.zero_grad()\n",
        "        loss.backward()\n",
        "        optimizer.step()\n",
        "      \n",
        "      train_loop.close()\n",
        "      gc.collect()\n",
        "\n",
        "      # Source Validation Loop\n",
        "      recognizer.eval()\n",
        "      val_loop = tqdm(total=len(source_val_loader), position=0, leave=True)\n",
        "      for batch_num, (imgs, words) in enumerate(source_val_loader):\n",
        "        with torch.no_grad():\n",
        "          batch_size = imgs.shape[0]\n",
        "\n",
        "          idxs, word_lengths = encoder.str_to_idxs_batch(words)\n",
        "          imgs, labels = imgs.cuda(), torch.tensor(idxs).cuda()\n",
        "          input_lengths = torch.full((batch_size,), SEQUENCE_SIZE, dtype=torch.long).cuda()\n",
        "          target_lengths = torch.tensor(word_lengths).cuda()\n",
        "\n",
        "          preds, _ = recognizer(imgs)\n",
        "\n",
        "          loss = hwr_objective(preds, labels, input_lengths, target_lengths)\n",
        "          loss = torch.mean(loss)\n",
        "\n",
        "          preds_strings = encoder.idxs_to_str_batch(preds.permute(1, 0, 2).argmax(dim=2).cpu())\n",
        "          preds_cer = cer_batch(preds_strings, words)\n",
        "          preds_wer = wer_batch(preds_strings, words)\n",
        "\n",
        "          src_val_hwr_losses.append(loss.item())\n",
        "          src_val_cers.append(preds_cer)\n",
        "          src_val_wers.append(preds_wer)\n",
        "\n",
        "          val_loop.set_description('Val   - Epoch: {}, HWR Loss: {:.4f}, CER: {:.4f}, WER: {:.4f}, AvgHWR Loss: {:.4f}, AvgCER: {:.4f}, AvgWER: {:.4f}'.format(\n",
        "              epoch, loss.item(), preds_cer, preds_wer, np.mean(src_val_hwr_losses), np.mean(src_val_cers), np.mean(src_val_wers)\n",
        "          ))\n",
        "          val_loop.update(1)\n",
        "\n",
        "      val_loop.close()\n",
        "      gc.collect()\n",
        "\n",
        "      # Target Test Loop\n",
        "      test_loop = tqdm(total=len(target_loader), position=0, leave=True)\n",
        "      for batch_num, (imgs, words) in enumerate(target_loader):\n",
        "        with torch.no_grad():\n",
        "          batch_size = imgs.shape[0]\n",
        "\n",
        "          idxs, word_lengths = encoder.str_to_idxs_batch(words)\n",
        "          imgs, labels = imgs.cuda(), torch.tensor(idxs).cuda()\n",
        "          input_lengths = torch.full((batch_size,), SEQUENCE_SIZE, dtype=torch.long).cuda()\n",
        "          target_lengths = torch.tensor(word_lengths).cuda()\n",
        "\n",
        "          preds, _ = recognizer(source_imgs)\n",
        "\n",
        "          loss = hwr_objective(preds, labels, input_lengths, target_lengths)\n",
        "          loss = torch.mean(loss)\n",
        "\n",
        "          preds_strings = encoder.idxs_to_str_batch(preds.permute(1, 0, 2).argmax(dim=2).cpu())\n",
        "          preds_cer = cer_batch(preds_strings, words)\n",
        "          preds_wer = wer_batch(preds_strings, words)\n",
        "\n",
        "          tgt_hwr_losses.append(loss.item())\n",
        "          tgt_cers.append(preds_cer)\n",
        "          tgt_wers.append(preds_wer)\n",
        "\n",
        "          test_loop.set_description('Test  - Epoch: {}, HWR Loss: {:.4f}, CER: {:.4f}, WER: {:.4f}, AvgHWR Loss: {:.4f}, AvgCER: {:.4f}, AvgWER: {:.4f}'.format(\n",
        "              epoch, loss.item(), preds_cer, preds_wer, np.mean(tgt_hwr_losses), np.mean(tgt_cers), np.mean(tgt_wers)\n",
        "          ))\n",
        "          test_loop.update(1)\n",
        "      \n",
        "      test_loop.close()\n",
        "      gc.collect()\n",
        "      \n",
        "      # Keep track of our progress\n",
        "\n",
        "      # Train Loop\n",
        "      train_src_dmn_loss_epochs.append(np.mean(train_src_dmn_losses))\n",
        "      train_tgt_dmn_loss_epochs.append(np.mean(train_tgt_dmn_losses))\n",
        "      train_hwr_loss_epochs.append(np.mean(train_hwr_losses))\n",
        "      train_cer_epochs.append(np.mean(train_cers))\n",
        "      train_wer_epochs.append(np.mean(train_wers))\n",
        "\n",
        "      # Validation Loop\n",
        "      src_val_hwr_loss_epochs.append(np.mean(src_val_hwr_losses))\n",
        "      src_val_cer_epochs.append(np.mean(src_val_cers))\n",
        "      src_val_wer_epochs.append(np.mean(src_val_wers))\n",
        "\n",
        "      # Test Loop\n",
        "      tgt_hwr_loss_epochs.append(np.mean(tgt_hwr_losses))\n",
        "      tgt_cer_epochs.append(np.mean(tgt_cers))\n",
        "      tgt_wer_epochs.append(np.mean(tgt_wers))\n",
        "\n",
        "  except:\n",
        "    __ITB__()\n",
        "    gc.collect()\n",
        "  finally:\n",
        "    return recognizer, (train_src_dmn_loss_epochs, train_tgt_dmn_loss_epochs), (train_hwr_loss_epochs, src_val_hwr_loss_epochs, tgt_hwr_loss_epochs), (train_cer_epochs, src_val_cer_epochs, tgt_cer_epochs), (train_wer_epochs, src_val_wer_epochs, tgt_wer_epochs)"
      ],
      "execution_count": 0,
      "outputs": []
    },
    {
      "cell_type": "markdown",
      "metadata": {
        "id": "W0PjFx884Qt3",
        "colab_type": "text"
      },
      "source": [
        "## IAM to Rimes"
      ]
    },
    {
      "cell_type": "markdown",
      "metadata": {
        "id": "PJ7GKzu5ChS8",
        "colab_type": "text"
      },
      "source": [
        "### Training Loop"
      ]
    },
    {
      "cell_type": "code",
      "metadata": {
        "id": "XbXn34Pj4P-3",
        "colab_type": "code",
        "colab": {}
      },
      "source": [
        "iam_dataset = IamDataset(desired_size=(32, 128), total_imgs=40000)\n",
        "rimes_dataset = RimesDataset(desired_size=(32, 128), total_imgs=30000)\n",
        "iam_train_dataset, iam_val_dataset = torch.utils.data.random_split(iam_dataset, [30000, 10000])\n",
        "\n",
        "dann_recognizer, dann_domain_losses, dann_label_losses, dann_cer, dann_wer = dann_train(iam_train_dataset, iam_val_dataset, rimes_dataset)"
      ],
      "execution_count": 0,
      "outputs": []
    },
    {
      "cell_type": "code",
      "metadata": {
        "id": "k5go7Uh5PyMG",
        "colab_type": "code",
        "colab": {
          "base_uri": "https://localhost:8080/",
          "height": 289
        },
        "outputId": "8a4a7e21-16e4-48dd-9899-344a075865de"
      },
      "source": [
        "dann_label_losses[1]"
      ],
      "execution_count": 62,
      "outputs": [
        {
          "output_type": "execute_result",
          "data": {
            "text/plain": [
              "[17.0327592086792,\n",
              " 16.257736263275145,\n",
              " 16.06429335594177,\n",
              " 15.578953733444214,\n",
              " 15.367624254226685,\n",
              " 14.912204208374023,\n",
              " 14.670902328491211,\n",
              " 14.097776203155517,\n",
              " 13.479649925231934,\n",
              " 12.804102029800415,\n",
              " 12.34292260169983,\n",
              " 11.798559608459472,\n",
              " 11.572953004837036,\n",
              " 11.291777715682983,\n",
              " 10.951611909866333,\n",
              " 10.72352933883667]"
            ]
          },
          "metadata": {
            "tags": []
          },
          "execution_count": 62
        }
      ]
    },
    {
      "cell_type": "markdown",
      "metadata": {
        "id": "Kbr2yrf4Cfcu",
        "colab_type": "text"
      },
      "source": [
        "### Results"
      ]
    },
    {
      "cell_type": "code",
      "metadata": {
        "id": "Yt57OTUQEsBy",
        "colab_type": "code",
        "outputId": "b1cd08ad-c62b-40da-d035-b4773a633fbf",
        "colab": {
          "base_uri": "https://localhost:8080/",
          "height": 349
        }
      },
      "source": [
        "plt.title('Domain Loss: IAM to Rimes')\n",
        "plt.xlabel('Epochs')\n",
        "plt.ylabel('Loss')\n",
        "plt.plot(dann_domain_losses[0], label='IAM (Source)')\n",
        "plt.plot(dann_domain_losses[1], label='Rimes (Target)')\n",
        "plt.legend()\n",
        "plt.show()\n",
        "print('IAM:', dann_domain_losses[0])\n",
        "print('Rimes:', dann_domain_losses[1])"
      ],
      "execution_count": 68,
      "outputs": [
        {
          "output_type": "display_data",
          "data": {
            "image/png": "[encoded data removed]",
            "text/plain": [
              "<Figure size 432x288 with 1 Axes>"
            ]
          },
          "metadata": {
            "tags": []
          }
        },
        {
          "output_type": "stream",
          "text": [
            "IAM: [0.5772277997434139, 0.3097282366454601, 0.16835998913894096, 0.09213229308525721, 0.07769988962759575, 0.13677395291626454, 0.07292642711506536, 0.09178918256424368, 0.06425295575832327, 0.08229377153950433, 0.04785949922942867, 0.07977806105588874, 0.04088836737520372, 0.039986978398325546, 0.08338852631859481, 0.05107710364507511]\n",
            "Rimes: [0.5137531127532323, 0.2499189187337955, 0.11590434987097979, 0.06604470452914635, 0.060132403085008265, 0.0686735901578019, 0.04602680903548995, 0.0431497000126789, 0.037610180787742135, 0.03689811148680747, 0.025564993458489577, 0.029305573968837657, 0.017621848594086865, 0.025137516614825776, 0.03755073787256454, 0.02395295489501829]\n"
          ],
          "name": "stdout"
        }
      ]
    },
    {
      "cell_type": "code",
      "metadata": {
        "id": "U0txmUf7CmE4",
        "colab_type": "code",
        "outputId": "79c4c867-8a2d-4e69-9287-80c1f017922d",
        "colab": {
          "base_uri": "https://localhost:8080/",
          "height": 366
        }
      },
      "source": [
        "plt.title('HWR Loss: IAM to Rimes')\n",
        "plt.xlabel('Epochs')\n",
        "plt.ylabel('Loss')\n",
        "plt.plot(dann_label_losses[0], label='IAM Train')\n",
        "plt.plot(dann_label_losses[1], label='IAM Val')\n",
        "plt.plot(dann_label_losses[2], label='Rimes')\n",
        "plt.legend()\n",
        "plt.show()\n",
        "print('Train:', dann_label_losses[0])\n",
        "print('Val:', dann_label_losses[1])\n",
        "print('Test:', dann_label_losses[2])"
      ],
      "execution_count": 69,
      "outputs": [
        {
          "output_type": "display_data",
          "data": {
            "image/png": "[encoded data removed]",
            "text/plain": [
              "<Figure size 432x288 with 1 Axes>"
            ]
          },
          "metadata": {
            "tags": []
          }
        },
        {
          "output_type": "stream",
          "text": [
            "Train: [21.10065129915873, 16.817502654393515, 16.317588637669882, 15.945277309417724, 15.728968931833903, 15.32954753557841, 14.960884698232015, 14.55612219174703, 14.110018278757732, 13.262823047637939, 12.783801708221436, 12.302642704645793, 11.973443190256754, 11.579684940973918, 11.27446161588033, 10.983651116689046]\n",
            "Val: [17.0327592086792, 16.257736263275145, 16.06429335594177, 15.578953733444214, 15.367624254226685, 14.912204208374023, 14.670902328491211, 14.097776203155517, 13.479649925231934, 12.804102029800415, 12.34292260169983, 11.798559608459472, 11.572953004837036, 11.291777715682983, 10.951611909866333, 10.72352933883667]\n",
            "Test: [21.11913673400879, 22.13576889038086, 22.055791721343994, 21.58122355779012, 22.339507872263592, 22.550102818806966, 22.15291607538859, 22.90295097351074, 24.21719660441081, 24.675387738545737, 25.981841831207277, 27.796740818023682, 28.787846024831136, 27.592489554087322, 29.644508527119953, 30.48510690053304]\n"
          ],
          "name": "stdout"
        }
      ]
    },
    {
      "cell_type": "code",
      "metadata": {
        "id": "fAfoxRnyD4eG",
        "colab_type": "code",
        "outputId": "eec22660-b745-43d0-8d3a-346233df8754",
        "colab": {
          "base_uri": "https://localhost:8080/",
          "height": 366
        }
      },
      "source": [
        "plt.title('Character Error Rate: IAM to Rimes')\n",
        "plt.xlabel('Epochs')\n",
        "plt.ylabel('Character Error Rate')\n",
        "plt.plot(dann_cer[0], label='IAM Train')\n",
        "plt.plot(dann_cer[1], label='IAM Val')\n",
        "plt.plot(dann_cer[2], label='Rimes')\n",
        "plt.legend()\n",
        "plt.show()\n",
        "print('Train:', dann_cer[0])\n",
        "print('Val:', dann_cer[1])\n",
        "print('Test:', dann_cer[2])"
      ],
      "execution_count": 70,
      "outputs": [
        {
          "output_type": "display_data",
          "data": {
            "image/png": "[encoded data removed]",
            "text/plain": [
              "<Figure size 432x288 with 1 Axes>"
            ]
          },
          "metadata": {
            "tags": []
          }
        },
        {
          "output_type": "stream",
          "text": [
            "Train: [1.043216873959374, 0.9181875728935093, 0.9058475439409805, 0.8982984413768778, 0.8970630630977496, 0.8813869826830664, 0.8500273936901878, 0.8122653265770178, 0.7744240278465085, 0.7475652485566262, 0.7159962811868501, 0.6858333615003275, 0.6596807643766622, 0.6257600222810671, 0.6033694794905242, 0.5877173726213586]\n",
            "Val: [0.9164614007848877, 0.9112269563404435, 0.9167739296449166, 0.8968352666412536, 0.8923331135166004, 0.8679118266601819, 0.856698365209352, 0.7860298129794182, 0.7489317841150078, 0.7362947913343966, 0.7023294633801871, 0.6548870651351573, 0.636254880689486, 0.6008855347722453, 0.5914210956879378, 0.5864564100081204]\n",
            "Test: [0.9585691084140892, 0.9577775001149806, 0.9449212193723031, 0.9553477784477591, 0.9510127997690303, 0.9368035942795307, 0.9400716167064502, 0.9444284030118202, 0.9389175652914624, 0.9401694053428226, 1.0155189333420565, 0.9888518644713845, 1.0216286084953345, 1.0796306443026644, 1.0634341744591551, 1.0773274077278643]\n"
          ],
          "name": "stdout"
        }
      ]
    },
    {
      "cell_type": "code",
      "metadata": {
        "id": "F4hD8-7ZD75v",
        "colab_type": "code",
        "outputId": "51f5e047-ad07-47b3-9e37-52573140ca79",
        "colab": {
          "base_uri": "https://localhost:8080/",
          "height": 366
        }
      },
      "source": [
        "plt.title('Word Error Rate: IAM to Rimes')\n",
        "plt.xlabel('Epochs')\n",
        "plt.ylabel('Word Error Rate')\n",
        "plt.plot(dann_wer[0], label='IAM Train')\n",
        "plt.plot(dann_wer[1], label='IAM Val')\n",
        "plt.plot(dann_wer[2], label='Rimes')\n",
        "plt.legend()\n",
        "plt.show()\n",
        "print('Train:', dann_wer[0])\n",
        "print('Val:', dann_wer[1])\n",
        "print('Test:', dann_wer[2])"
      ],
      "execution_count": 71,
      "outputs": [
        {
          "output_type": "display_data",
          "data": {
            "image/png": "[encoded data removed]",
            "text/plain": [
              "<Figure size 432x288 with 1 Axes>"
            ]
          },
          "metadata": {
            "tags": []
          }
        },
        {
          "output_type": "stream",
          "text": [
            "Train: [1.0, 0.9995666666666667, 0.9888333333333335, 0.9840333333333334, 0.9858999999999999, 0.9813999999999998, 0.9644333333333333, 0.9336, 0.8987999999999999, 0.8885333333333332, 0.8591333333333334, 0.8401333333333332, 0.8169, 0.7906, 0.7766000000000001, 0.7654333333333333]\n",
            "Val: [1.0, 0.9951000000000001, 0.9803000000000001, 0.9853000000000001, 0.9853000000000001, 0.985, 0.96, 0.9186999999999999, 0.8907, 0.8951, 0.8474000000000003, 0.8138000000000001, 0.7900000000000001, 0.7693000000000001, 0.764, 0.7689000000000001]\n",
            "Test: [1.0, 0.9999000000000001, 0.9984333333333334, 0.9996333333333333, 0.9993333333333334, 0.9995, 0.9986333333333335, 0.9998000000000001, 0.9999000000000001, 0.9997666666666669, 0.9998666666666668, 0.9983666666666666, 0.9998333333333335, 0.9999333333333333, 0.9999666666666667, 1.0]\n"
          ],
          "name": "stdout"
        }
      ]
    },
    {
      "cell_type": "markdown",
      "metadata": {
        "id": "r5XMKhz10D11",
        "colab_type": "text"
      },
      "source": [
        "# Baseline Transfer"
      ]
    },
    {
      "cell_type": "markdown",
      "metadata": {
        "id": "4oMOWjmy3rdW",
        "colab_type": "text"
      },
      "source": [
        "### IAM/Rimes Training"
      ]
    },
    {
      "cell_type": "code",
      "metadata": {
        "id": "jfm_Xl3V3otH",
        "colab_type": "code",
        "colab": {}
      },
      "source": [
        "def train(train_dataset, val_dataset, test_dataset):\n",
        "  try:\n",
        "    EPOCHS = 100\n",
        "    BATCH_SIZE = 250\n",
        "    ITERATION_SAMPLE = 3000\n",
        "    SEQUENCE_SIZE = 20\n",
        "\n",
        "    train_loader = DataLoader(train_dataset, batch_size=BATCH_SIZE, shuffle=True, num_workers=4)\n",
        "    val_loader = DataLoader(val_dataset, batch_size=BATCH_SIZE, shuffle=True, num_workers=4)\n",
        "    test_loader = DataLoader(test_dataset, batch_size=BATCH_SIZE, shuffle=True, num_workers=4)\n",
        "\n",
        "    encoder = Encoder(sequence_size=SEQUENCE_SIZE)\n",
        "    recognizer = Recognizer(sequence_size=SEQUENCE_SIZE).cuda()\n",
        "    \n",
        "    optimizer = optim.Adam(recognizer.parameters(), lr=1e-3)\n",
        "\n",
        "    objective = nn.CTCLoss(blank=0, reduction='none', zero_infinity=True)\n",
        "\n",
        "    train_losses_epochs = []\n",
        "    val_losses_epochs = []\n",
        "    test_losses_epochs = []\n",
        "\n",
        "    train_cer_epochs = []\n",
        "    val_cer_epochs = []\n",
        "    test_cer_epochs = []\n",
        "\n",
        "    train_wer_epochs = []\n",
        "    val_wer_epochs = []\n",
        "    test_wer_epochs = []\n",
        "\n",
        "    for epoch in range(EPOCHS):\n",
        "      train_losses = []\n",
        "      val_losses = []\n",
        "      test_losses = []\n",
        "\n",
        "      train_cers = []\n",
        "      val_cers = []\n",
        "      test_cers = []\n",
        "\n",
        "      train_wers = []\n",
        "      val_wers = []\n",
        "      test_wers = []\n",
        "\n",
        "      # Training Loop\n",
        "      recognizer = recognizer.train()\n",
        "      train_loop = tqdm(total=len(train_loader), position=0, leave=True)\n",
        "      for batch_num, (imgs, words) in enumerate(train_loader):\n",
        "        batch_size = imgs.shape[0]\n",
        "\n",
        "        idxs, word_lengths = encoder.str_to_idxs_batch(words)\n",
        "\n",
        "        imgs, labels = imgs.cuda(), torch.tensor(idxs).cuda()\n",
        "\n",
        "        input_lengths = torch.full((batch_size,), SEQUENCE_SIZE, dtype=torch.long).cuda()\n",
        "        target_lengths = torch.tensor(word_lengths).cuda()\n",
        "\n",
        "        preds = recognizer(imgs)\n",
        "\n",
        "        loss = objective(preds, labels, input_lengths, target_lengths)\n",
        "        loss = torch.mean(loss)\n",
        "\n",
        "        optimizer.zero_grad()\n",
        "        loss.backward()\n",
        "        optimizer.step()\n",
        "\n",
        "        preds_strings = encoder.idxs_to_str_batch(preds.permute(1, 0, 2).argmax(dim=2).cpu())\n",
        "        preds_cer = cer_batch(preds_strings, words)\n",
        "        preds_wer = wer_batch(preds_strings, words)\n",
        "\n",
        "        train_losses.append(loss.item())\n",
        "        train_cers.append(preds_cer)\n",
        "        train_wers.append(preds_wer)\n",
        "\n",
        "        train_loop.set_description('Train - Epoch: {}, Loss: {:.4f}, CER: {:.4f}, WER: {:.4f}, AvgLoss: {:.4f}, AvgCER: {:.4f}, AvgWER: {:.4f}'.format(\n",
        "            epoch, loss.item(), preds_cer, preds_wer, np.mean(train_losses), np.mean(train_cers), np.mean(train_wers)))\n",
        "        train_loop.update(1)\n",
        "      \n",
        "      train_loop.close()\n",
        "\n",
        "      # Validation Loop\n",
        "      recognizer = recognizer.eval()\n",
        "      val_loop = tqdm(total=len(val_loader), position=0, leave=True)\n",
        "      for batch_num, (imgs, words) in enumerate(val_loader):\n",
        "        with torch.no_grad():\n",
        "          batch_size = imgs.shape[0]\n",
        "\n",
        "          idxs, word_lengths = encoder.str_to_idxs_batch(words)\n",
        "\n",
        "          imgs, labels = imgs.cuda(), torch.tensor(idxs).cuda()\n",
        "\n",
        "          optimizer.zero_grad()\n",
        "\n",
        "          input_lengths = torch.full((batch_size,), SEQUENCE_SIZE, dtype=torch.long).cuda()\n",
        "          target_lengths = torch.tensor(word_lengths).cuda()\n",
        "\n",
        "          preds = recognizer(imgs)\n",
        "\n",
        "          loss = objective(preds, labels, input_lengths, target_lengths)\n",
        "          loss = torch.mean(loss)\n",
        "\n",
        "          preds_strings = encoder.idxs_to_str_batch(preds.permute(1, 0, 2).argmax(dim=2).cpu())\n",
        "          preds_cer = cer_batch(preds_strings, words)\n",
        "          preds_wer = wer_batch(preds_strings, words)\n",
        "\n",
        "          val_losses.append(loss.item())\n",
        "          val_cers.append(preds_cer)\n",
        "          val_wers.append(preds_wer)\n",
        "\n",
        "          val_loop.set_description('Val   - Epoch: {}, Loss: {:.4f}, CER: {:.4f}, WER: {:.4f}, AvgLoss: {:.4f}, AvgCER: {:.4f}, AvgWER: {:.4f}'.format(\n",
        "              epoch, loss.item(), preds_cer, preds_wer, np.mean(val_losses), np.mean(val_cers), np.mean(val_wers)))\n",
        "          val_loop.update(1)\n",
        "\n",
        "      val_loop.close()\n",
        "\n",
        "      # Test Loop\n",
        "      recognizer = recognizer.eval()\n",
        "      test_loop = tqdm(total=len(test_loader), position=0, leave=True)\n",
        "      for batch_num, (imgs, words) in enumerate(test_loader):\n",
        "        with torch.no_grad():\n",
        "          batch_size = imgs.shape[0]\n",
        "\n",
        "          idxs, word_lengths = encoder.str_to_idxs_batch(words)\n",
        "\n",
        "          imgs, labels = imgs.cuda(), torch.tensor(idxs).cuda()\n",
        "\n",
        "          optimizer.zero_grad()\n",
        "\n",
        "          input_lengths = torch.full((batch_size,), SEQUENCE_SIZE, dtype=torch.long).cuda()\n",
        "          target_lengths = torch.tensor(word_lengths).cuda()\n",
        "\n",
        "          preds = recognizer(imgs)\n",
        "\n",
        "          loss = objective(preds, labels, input_lengths, target_lengths)\n",
        "          loss = torch.mean(loss)\n",
        "\n",
        "          preds_strings = encoder.idxs_to_str_batch(preds.permute(1, 0, 2).argmax(dim=2).cpu())\n",
        "          preds_cer = cer_batch(preds_strings, words)\n",
        "          preds_wer = wer_batch(preds_strings, words)\n",
        "\n",
        "          test_losses.append(loss.item())\n",
        "          test_cers.append(preds_cer)\n",
        "          test_wers.append(preds_wer)\n",
        "\n",
        "          test_loop.set_description('Test  - Epoch: {}, Loss: {:.4f}, CER: {:.4f}, WER: {:.4f}, AvgLoss: {:.4f}, AvgCER: {:.4f}, AvgWER: {:.4f}'.format(\n",
        "              epoch, loss.item(), preds_cer, preds_wer, np.mean(test_losses), np.mean(test_cers), np.mean(test_wers)))\n",
        "          test_loop.update(1)\n",
        "\n",
        "      test_loop.close()\n",
        "\n",
        "      train_losses_epochs.append(np.mean(train_losses))\n",
        "      val_losses_epochs.append(np.mean(val_losses))\n",
        "      test_losses_epochs.append(np.mean(test_losses))\n",
        "\n",
        "      train_cer_epochs.append(np.mean(train_cers))\n",
        "      val_cer_epochs.append(np.mean(val_cers))\n",
        "      test_cer_epochs.append(np.mean(test_cers))\n",
        "\n",
        "      train_wer_epochs.append(np.mean(train_wers))\n",
        "      val_wer_epochs.append(np.mean(val_wers))\n",
        "      test_wer_epochs.append(np.mean(test_wers))\n",
        "  except:\n",
        "    __ITB__()\n",
        "    gc.collect()\n",
        "  finally:\n",
        "    return recognizer, (train_losses_epochs, val_losses_epochs, test_losses_epochs), (train_cer_epochs, val_cer_epochs, test_cer_epochs), (train_wer_epochs, val_wer_epochs, test_wer_epochs) "
      ],
      "execution_count": 0,
      "outputs": []
    },
    {
      "cell_type": "markdown",
      "metadata": {
        "id": "uUbzZroBWB-t",
        "colab_type": "text"
      },
      "source": [
        "## Train on the IAM Dataset, Test on the Rimes Dataset"
      ]
    },
    {
      "cell_type": "markdown",
      "metadata": {
        "id": "gGNd39DopdY3",
        "colab_type": "text"
      },
      "source": [
        "### Training Loop"
      ]
    },
    {
      "cell_type": "code",
      "metadata": {
        "id": "u9MaGdQew5BT",
        "colab_type": "code",
        "outputId": "894004e7-4e92-4897-a8e4-832111478d3b",
        "colab": {
          "base_uri": "https://localhost:8080/",
          "height": 1000
        }
      },
      "source": [
        "iam_dataset = IamDataset(desired_size=(32, 128), total_imgs=30000)\n",
        "\n",
        "iam_train_size = int(.8 * len(iam_dataset))\n",
        "iam_val_size = len(iam_dataset) - iam_train_size\n",
        "\n",
        "iam_train_dataset, iam_val_dataset = torch.utils.data.random_split(iam_dataset, [iam_train_size, iam_val_size])\n",
        "\n",
        "rimes_dataset = RimesDataset(desired_size=(32, 128), total_imgs=30000)\n",
        "iam_to_rimes_recognizer, iam_to_rimes_losses, iam_to_rimes_cers, iam_to_rimes_wers = train(iam_train_dataset, iam_val_dataset, rimes_dataset)"
      ],
      "execution_count": 0,
      "outputs": [
        {
          "output_type": "stream",
          "text": [
            "Train - Epoch: 0, Loss: 17.4475, CER: 1.0000, WER: 1.0000, AvgLoss: 26.9922, AvgCER: 1.0402, AvgWER: 1.0104: 100%|██████████| 96/96 [00:30<00:00,  3.10it/s]\n",
            "Val   - Epoch: 0, Loss: 16.8578, CER: 1.0000, WER: 1.0000, AvgLoss: 17.4199, AvgCER: 1.0000, AvgWER: 1.0000: 100%|██████████| 24/24 [00:05<00:00,  4.56it/s]\n",
            "Test  - Epoch: 0, Loss: 20.5452, CER: 1.0000, WER: 1.0000, AvgLoss: 20.2920, AvgCER: 1.0000, AvgWER: 1.0000: 100%|██████████| 120/120 [00:23<00:00,  5.02it/s]\n",
            "Train - Epoch: 1, Loss: 16.8822, CER: 1.0000, WER: 1.0000, AvgLoss: 16.8209, AvgCER: 1.0000, AvgWER: 1.0000: 100%|██████████| 96/96 [00:30<00:00,  3.13it/s]\n",
            "Val   - Epoch: 1, Loss: 16.9420, CER: 1.0000, WER: 1.0000, AvgLoss: 16.6630, AvgCER: 1.0000, AvgWER: 1.0000: 100%|██████████| 24/24 [00:05<00:00,  4.48it/s]\n",
            "Test  - Epoch: 1, Loss: 20.4299, CER: 1.0000, WER: 1.0000, AvgLoss: 19.5130, AvgCER: 1.0000, AvgWER: 1.0000: 100%|██████████| 120/120 [00:23<00:00,  5.06it/s]\n",
            "Train - Epoch: 2, Loss: 17.1211, CER: 1.0000, WER: 1.0000, AvgLoss: 16.3839, AvgCER: 1.0000, AvgWER: 1.0000: 100%|██████████| 96/96 [00:30<00:00,  3.13it/s]\n",
            "Val   - Epoch: 2, Loss: 16.3027, CER: 1.0000, WER: 1.0000, AvgLoss: 16.2268, AvgCER: 1.0000, AvgWER: 1.0000: 100%|██████████| 24/24 [00:05<00:00,  4.47it/s]\n",
            "Test  - Epoch: 2, Loss: 19.1180, CER: 1.0000, WER: 1.0000, AvgLoss: 19.7019, AvgCER: 1.0000, AvgWER: 1.0000: 100%|██████████| 120/120 [00:23<00:00,  5.06it/s]\n",
            "Train - Epoch: 3, Loss: 15.3188, CER: 1.0000, WER: 1.0000, AvgLoss: 16.1125, AvgCER: 1.0000, AvgWER: 1.0000: 100%|██████████| 96/96 [00:30<00:00,  3.13it/s]\n",
            "Val   - Epoch: 3, Loss: 16.9193, CER: 1.0000, WER: 1.0000, AvgLoss: 16.0530, AvgCER: 1.0000, AvgWER: 1.0000: 100%|██████████| 24/24 [00:05<00:00,  4.49it/s]\n",
            "Test  - Epoch: 3, Loss: 19.9082, CER: 1.0000, WER: 1.0000, AvgLoss: 19.5827, AvgCER: 1.0000, AvgWER: 1.0000: 100%|██████████| 120/120 [00:23<00:00,  5.10it/s]\n",
            "Train - Epoch: 4, Loss: 15.4553, CER: 1.0000, WER: 1.0000, AvgLoss: 15.9714, AvgCER: 0.9998, AvgWER: 1.0000: 100%|██████████| 96/96 [00:30<00:00,  3.14it/s]\n",
            "Val   - Epoch: 4, Loss: 15.8516, CER: 1.0000, WER: 1.0000, AvgLoss: 15.9707, AvgCER: 1.0000, AvgWER: 1.0000: 100%|██████████| 24/24 [00:05<00:00,  4.59it/s]\n",
            "Test  - Epoch: 4, Loss: 19.7002, CER: 1.0000, WER: 1.0000, AvgLoss: 19.2520, AvgCER: 1.0000, AvgWER: 1.0000: 100%|██████████| 120/120 [00:23<00:00,  5.12it/s]\n",
            "Train - Epoch: 5, Loss: 14.9900, CER: 0.9969, WER: 1.0000, AvgLoss: 15.5828, AvgCER: 0.9988, AvgWER: 1.0000: 100%|██████████| 96/96 [00:30<00:00,  3.12it/s]\n",
            "Val   - Epoch: 5, Loss: 14.5879, CER: 0.9986, WER: 1.0000, AvgLoss: 15.2928, AvgCER: 0.9967, AvgWER: 1.0000: 100%|██████████| 24/24 [00:05<00:00,  4.38it/s]\n",
            "Test  - Epoch: 5, Loss: 18.9926, CER: 0.9960, WER: 1.0000, AvgLoss: 18.9978, AvgCER: 0.9945, AvgWER: 1.0000: 100%|██████████| 120/120 [00:23<00:00,  5.04it/s]\n",
            "Train - Epoch: 6, Loss: 14.5744, CER: 0.9066, WER: 0.9440, AvgLoss: 14.9260, AvgCER: 0.9460, AvgWER: 0.9820: 100%|██████████| 96/96 [00:30<00:00,  3.12it/s]\n",
            "Val   - Epoch: 6, Loss: 14.6332, CER: 0.9202, WER: 0.9800, AvgLoss: 14.5260, AvgCER: 0.9114, AvgWER: 0.9645: 100%|██████████| 24/24 [00:05<00:00,  4.44it/s]\n",
            "Test  - Epoch: 6, Loss: 17.8990, CER: 0.9535, WER: 1.0000, AvgLoss: 18.2595, AvgCER: 0.9483, AvgWER: 1.0000: 100%|██████████| 120/120 [00:24<00:00,  4.99it/s]\n",
            "Train - Epoch: 7, Loss: 14.0443, CER: 0.8349, WER: 0.9200, AvgLoss: 14.2624, AvgCER: 0.8747, AvgWER: 0.9502: 100%|██████████| 96/96 [00:31<00:00,  3.09it/s]\n",
            "Val   - Epoch: 7, Loss: 13.4664, CER: 0.8554, WER: 0.9680, AvgLoss: 14.0154, AvgCER: 0.8572, AvgWER: 0.9500: 100%|██████████| 24/24 [00:05<00:00,  4.31it/s]\n",
            "Test  - Epoch: 7, Loss: 17.7926, CER: 0.8883, WER: 1.0000, AvgLoss: 18.3570, AvgCER: 0.8828, AvgWER: 1.0000: 100%|██████████| 120/120 [00:24<00:00,  4.88it/s]\n",
            "Train - Epoch: 8, Loss: 14.2351, CER: 0.8337, WER: 0.9400, AvgLoss: 13.9120, AvgCER: 0.8407, AvgWER: 0.9380: 100%|██████████| 96/96 [00:31<00:00,  3.08it/s]\n",
            "Val   - Epoch: 8, Loss: 14.4509, CER: 0.8314, WER: 0.9480, AvgLoss: 13.8730, AvgCER: 0.8320, AvgWER: 0.9565: 100%|██████████| 24/24 [00:05<00:00,  4.40it/s]\n",
            "Test  - Epoch: 8, Loss: 18.5777, CER: 0.8440, WER: 0.9960, AvgLoss: 18.2278, AvgCER: 0.8635, AvgWER: 0.9993: 100%|██████████| 120/120 [00:24<00:00,  4.88it/s]\n",
            "Train - Epoch: 9, Loss: 14.1092, CER: 0.8317, WER: 0.9320, AvgLoss: 13.6890, AvgCER: 0.8320, AvgWER: 0.9304: 100%|██████████| 96/96 [00:31<00:00,  3.09it/s]\n",
            "Val   - Epoch: 9, Loss: 13.1050, CER: 0.8079, WER: 0.9240, AvgLoss: 13.5499, AvgCER: 0.8235, AvgWER: 0.9268: 100%|██████████| 24/24 [00:05<00:00,  4.44it/s]\n",
            "Test  - Epoch: 9, Loss: 18.2320, CER: 0.9143, WER: 0.9960, AvgLoss: 18.1032, AvgCER: 0.9132, AvgWER: 0.9991: 100%|██████████| 120/120 [00:24<00:00,  4.93it/s]\n",
            "Train - Epoch: 10, Loss: 12.9493, CER: 0.8393, WER: 0.9480, AvgLoss: 13.4969, AvgCER: 0.8204, AvgWER: 0.9258: 100%|██████████| 96/96 [00:31<00:00,  3.09it/s]\n",
            "Val   - Epoch: 10, Loss: 13.2799, CER: 0.8117, WER: 0.9320, AvgLoss: 13.3730, AvgCER: 0.8057, AvgWER: 0.9185: 100%|██████████| 24/24 [00:05<00:00,  4.39it/s]\n",
            "Test  - Epoch: 10, Loss: 17.6408, CER: 0.8897, WER: 0.9960, AvgLoss: 18.1737, AvgCER: 0.9045, AvgWER: 0.9988: 100%|██████████| 120/120 [00:24<00:00,  4.95it/s]\n",
            "Train - Epoch: 11, Loss: 13.2335, CER: 0.8162, WER: 0.9200, AvgLoss: 13.2673, AvgCER: 0.7999, AvgWER: 0.9196: 100%|██████████| 96/96 [00:31<00:00,  3.09it/s]\n",
            "Val   - Epoch: 11, Loss: 12.4241, CER: 0.8045, WER: 0.9120, AvgLoss: 13.2122, AvgCER: 0.8147, AvgWER: 0.9215: 100%|██████████| 24/24 [00:05<00:00,  4.36it/s]\n",
            "Test  - Epoch: 11, Loss: 18.1461, CER: 0.9183, WER: 1.0000, AvgLoss: 18.0400, AvgCER: 0.9231, AvgWER: 0.9985: 100%|██████████| 120/120 [00:24<00:00,  4.94it/s]\n",
            "Train - Epoch: 12, Loss: 12.8785, CER: 0.7942, WER: 0.9320, AvgLoss: 13.0860, AvgCER: 0.7849, AvgWER: 0.9132: 100%|██████████| 96/96 [00:31<00:00,  3.06it/s]\n",
            "Val   - Epoch: 12, Loss: 13.2825, CER: 0.7906, WER: 0.9160, AvgLoss: 13.0750, AvgCER: 0.7820, AvgWER: 0.9137: 100%|██████████| 24/24 [00:05<00:00,  4.37it/s]\n",
            "Test  - Epoch: 12, Loss: 17.7496, CER: 0.8975, WER: 1.0000, AvgLoss: 18.0225, AvgCER: 0.8868, AvgWER: 0.9984: 100%|██████████| 120/120 [00:24<00:00,  4.86it/s]\n",
            "Train - Epoch: 13, Loss: 13.0165, CER: 0.7402, WER: 0.8960, AvgLoss: 12.8911, AvgCER: 0.7626, AvgWER: 0.9070: 100%|██████████| 96/96 [00:31<00:00,  3.05it/s]\n",
            "Val   - Epoch: 13, Loss: 12.2189, CER: 0.7394, WER: 0.8800, AvgLoss: 12.8273, AvgCER: 0.7390, AvgWER: 0.8893: 100%|██████████| 24/24 [00:05<00:00,  4.35it/s]\n",
            "Test  - Epoch: 13, Loss: 18.3043, CER: 0.8687, WER: 0.9960, AvgLoss: 17.8025, AvgCER: 0.8564, AvgWER: 0.9983: 100%|██████████| 120/120 [00:24<00:00,  4.88it/s]\n",
            "Train - Epoch: 14, Loss: 13.1503, CER: 0.7621, WER: 0.9160, AvgLoss: 12.7231, AvgCER: 0.7465, AvgWER: 0.8931: 100%|██████████| 96/96 [00:31<00:00,  3.05it/s]\n",
            "Val   - Epoch: 14, Loss: 12.9640, CER: 0.7832, WER: 0.9280, AvgLoss: 12.7456, AvgCER: 0.7577, AvgWER: 0.9107: 100%|██████████| 24/24 [00:05<00:00,  4.36it/s]\n",
            "Test  - Epoch: 14, Loss: 17.8309, CER: 0.8724, WER: 0.9960, AvgLoss: 18.0664, AvgCER: 0.8713, AvgWER: 0.9989: 100%|██████████| 120/120 [00:24<00:00,  4.88it/s]\n",
            "Train - Epoch: 15, Loss: 12.9009, CER: 0.7370, WER: 0.9000, AvgLoss: 12.5931, AvgCER: 0.7351, AvgWER: 0.8841: 100%|██████████| 96/96 [00:31<00:00,  3.05it/s]\n",
            "Val   - Epoch: 15, Loss: 12.0577, CER: 0.6935, WER: 0.8480, AvgLoss: 12.4980, AvgCER: 0.7142, AvgWER: 0.8740: 100%|██████████| 24/24 [00:05<00:00,  4.30it/s]\n",
            "Test  - Epoch: 15, Loss: 17.4234, CER: 0.8504, WER: 0.9960, AvgLoss: 17.9260, AvgCER: 0.8617, AvgWER: 0.9981: 100%|██████████| 120/120 [00:24<00:00,  4.84it/s]\n",
            "Train - Epoch: 16, Loss: 13.1779, CER: 0.7109, WER: 0.8560, AvgLoss: 12.4350, AvgCER: 0.7118, AvgWER: 0.8663: 100%|██████████| 96/96 [00:31<00:00,  3.05it/s]\n",
            "Val   - Epoch: 16, Loss: 12.9015, CER: 0.7174, WER: 0.8680, AvgLoss: 12.4007, AvgCER: 0.7045, AvgWER: 0.8510: 100%|██████████| 24/24 [00:05<00:00,  4.28it/s]\n",
            "Test  - Epoch: 16, Loss: 18.8362, CER: 0.8822, WER: 1.0000, AvgLoss: 17.9139, AvgCER: 0.8774, AvgWER: 0.9981: 100%|██████████| 120/120 [00:25<00:00,  4.79it/s]\n",
            "Train - Epoch: 17, Loss: 11.2915, CER: 0.6510, WER: 0.8080, AvgLoss: 12.2841, AvgCER: 0.6972, AvgWER: 0.8520: 100%|██████████| 96/96 [00:31<00:00,  3.03it/s]\n",
            "Val   - Epoch: 17, Loss: 11.9365, CER: 0.6990, WER: 0.8640, AvgLoss: 12.2507, AvgCER: 0.6803, AvgWER: 0.8353: 100%|██████████| 24/24 [00:05<00:00,  4.24it/s]\n",
            "Test  - Epoch: 17, Loss: 17.8975, CER: 0.8713, WER: 1.0000, AvgLoss: 17.8913, AvgCER: 0.8716, AvgWER: 0.9982: 100%|██████████| 120/120 [00:25<00:00,  4.78it/s]\n",
            "Train - Epoch: 18, Loss: 12.8446, CER: 0.6824, WER: 0.8400, AvgLoss: 12.1370, AvgCER: 0.6819, AvgWER: 0.8376: 100%|██████████| 96/96 [00:31<00:00,  3.04it/s]\n",
            "Val   - Epoch: 18, Loss: 11.7689, CER: 0.6830, WER: 0.8400, AvgLoss: 12.1897, AvgCER: 0.6824, AvgWER: 0.8425: 100%|██████████| 24/24 [00:05<00:00,  4.31it/s]\n",
            "Test  - Epoch: 18, Loss: 17.0700, CER: 0.8608, WER: 1.0000, AvgLoss: 17.8733, AvgCER: 0.8595, AvgWER: 0.9982: 100%|██████████| 120/120 [00:25<00:00,  4.79it/s]\n",
            "Train - Epoch: 19, Loss: 12.1810, CER: 0.6911, WER: 0.8720, AvgLoss: 12.0102, AvgCER: 0.6692, AvgWER: 0.8304: 100%|██████████| 96/96 [00:31<00:00,  3.04it/s]\n",
            "Val   - Epoch: 19, Loss: 12.2918, CER: 0.6697, WER: 0.8080, AvgLoss: 12.0215, AvgCER: 0.6671, AvgWER: 0.8292: 100%|██████████| 24/24 [00:05<00:00,  4.31it/s]\n",
            "Test  - Epoch: 19, Loss: 19.2150, CER: 0.8554, WER: 1.0000, AvgLoss: 17.9925, AvgCER: 0.8646, AvgWER: 0.9980: 100%|██████████| 120/120 [00:25<00:00,  4.80it/s]\n",
            "Train - Epoch: 20, Loss: 13.0311, CER: 0.6726, WER: 0.8280, AvgLoss: 11.8773, AvgCER: 0.6589, AvgWER: 0.8200: 100%|██████████| 96/96 [00:31<00:00,  3.03it/s]\n",
            "Val   - Epoch: 20, Loss: 11.6176, CER: 0.6401, WER: 0.8040, AvgLoss: 11.8120, AvgCER: 0.6478, AvgWER: 0.8088: 100%|██████████| 24/24 [00:05<00:00,  4.36it/s]\n",
            "Test  - Epoch: 20, Loss: 17.4046, CER: 0.8554, WER: 0.9960, AvgLoss: 17.7515, AvgCER: 0.8526, AvgWER: 0.9980: 100%|██████████| 120/120 [00:24<00:00,  4.80it/s]\n",
            "Train - Epoch: 21, Loss: 11.2105, CER: 0.6118, WER: 0.7680, AvgLoss: 11.7517, AvgCER: 0.6467, AvgWER: 0.8121: 100%|██████████| 96/96 [00:31<00:00,  3.04it/s]\n",
            "Val   - Epoch: 21, Loss: 12.5154, CER: 0.6757, WER: 0.8280, AvgLoss: 11.7532, AvgCER: 0.6510, AvgWER: 0.8167: 100%|██████████| 24/24 [00:05<00:00,  4.33it/s]\n",
            "Test  - Epoch: 21, Loss: 17.6276, CER: 0.8689, WER: 0.9960, AvgLoss: 17.9849, AvgCER: 0.8593, AvgWER: 0.9983: 100%|██████████| 120/120 [00:25<00:00,  4.80it/s]\n",
            "Train - Epoch: 22, Loss: 11.7155, CER: 0.6337, WER: 0.8040, AvgLoss: 11.7028, AvgCER: 0.6422, AvgWER: 0.8063: 100%|██████████| 96/96 [00:31<00:00,  3.04it/s]\n",
            "Val   - Epoch: 22, Loss: 11.5023, CER: 0.6089, WER: 0.7800, AvgLoss: 11.6932, AvgCER: 0.6450, AvgWER: 0.8113: 100%|██████████| 24/24 [00:05<00:00,  4.30it/s]\n",
            "Test  - Epoch: 22, Loss: 18.7858, CER: 0.8717, WER: 1.0000, AvgLoss: 17.8332, AvgCER: 0.8597, AvgWER: 0.9980: 100%|██████████| 120/120 [00:24<00:00,  4.82it/s]\n",
            "Train - Epoch: 23, Loss: 12.2313, CER: 0.6444, WER: 0.7920, AvgLoss: 11.5459, AvgCER: 0.6287, AvgWER: 0.7960: 100%|██████████| 96/96 [00:31<00:00,  3.04it/s]\n",
            "Val   - Epoch: 23, Loss: 11.3460, CER: 0.6343, WER: 0.8240, AvgLoss: 11.4982, AvgCER: 0.6242, AvgWER: 0.7997: 100%|██████████| 24/24 [00:05<00:00,  4.33it/s]\n",
            "Test  - Epoch: 23, Loss: 18.0402, CER: 0.8391, WER: 1.0000, AvgLoss: 17.7684, AvgCER: 0.8425, AvgWER: 0.9979: 100%|██████████| 120/120 [00:24<00:00,  4.81it/s]\n",
            "Train - Epoch: 24, Loss: 10.8034, CER: 0.5740, WER: 0.7240, AvgLoss: 11.4891, AvgCER: 0.6273, AvgWER: 0.7962: 100%|██████████| 96/96 [00:31<00:00,  3.03it/s]\n",
            "Val   - Epoch: 24, Loss: 11.1580, CER: 0.6377, WER: 0.8040, AvgLoss: 11.5151, AvgCER: 0.6336, AvgWER: 0.7935: 100%|██████████| 24/24 [00:05<00:00,  4.27it/s]\n",
            "Test  - Epoch: 24, Loss: 18.4154, CER: 0.8650, WER: 1.0000, AvgLoss: 17.8930, AvgCER: 0.8556, AvgWER: 0.9981: 100%|██████████| 120/120 [00:25<00:00,  4.78it/s]\n",
            "Train - Epoch: 25, Loss: 11.9657, CER: 0.6305, WER: 0.7920, AvgLoss: 11.3354, AvgCER: 0.6132, AvgWER: 0.7840: 100%|██████████| 96/96 [00:31<00:00,  3.05it/s]\n",
            "Val   - Epoch: 25, Loss: 11.9635, CER: 0.6137, WER: 0.7880, AvgLoss: 11.3609, AvgCER: 0.6147, AvgWER: 0.7898: 100%|██████████| 24/24 [00:05<00:00,  4.33it/s]\n",
            "Test  - Epoch: 25, Loss: 18.3110, CER: 0.8546, WER: 0.9960, AvgLoss: 17.8838, AvgCER: 0.8429, AvgWER: 0.9984: 100%|██████████| 120/120 [00:25<00:00,  4.78it/s]\n",
            "Train - Epoch: 26, Loss: 11.3210, CER: 0.6059, WER: 0.7600, AvgLoss: 11.2378, AvgCER: 0.6065, AvgWER: 0.7795: 100%|██████████| 96/96 [00:31<00:00,  3.04it/s]\n",
            "Val   - Epoch: 26, Loss: 11.2273, CER: 0.6218, WER: 0.8000, AvgLoss: 11.3260, AvgCER: 0.6099, AvgWER: 0.7912: 100%|██████████| 24/24 [00:05<00:00,  4.32it/s]\n",
            "Test  - Epoch: 26, Loss: 17.9809, CER: 0.8375, WER: 1.0000, AvgLoss: 17.7714, AvgCER: 0.8504, AvgWER: 0.9978: 100%|██████████| 120/120 [00:25<00:00,  4.77it/s]\n",
            "Train - Epoch: 27, Loss: 11.1662, CER: 0.5880, WER: 0.7840, AvgLoss: 11.0929, AvgCER: 0.5977, AvgWER: 0.7761: 100%|██████████| 96/96 [00:31<00:00,  3.02it/s]\n",
            "Val   - Epoch: 27, Loss: 10.9661, CER: 0.6019, WER: 0.7720, AvgLoss: 11.1434, AvgCER: 0.5996, AvgWER: 0.7837: 100%|██████████| 24/24 [00:05<00:00,  4.31it/s]\n",
            "Test  - Epoch: 27, Loss: 18.0347, CER: 0.8400, WER: 1.0000, AvgLoss: 17.7604, AvgCER: 0.8457, AvgWER: 0.9978: 100%|██████████| 120/120 [00:25<00:00,  4.74it/s]\n",
            "Train - Epoch: 28, Loss: 10.6962, CER: 0.5805, WER: 0.7640, AvgLoss: 11.0035, AvgCER: 0.5906, AvgWER: 0.7716: 100%|██████████| 96/96 [00:31<00:00,  3.05it/s]\n",
            "Val   - Epoch: 28, Loss: 9.9598, CER: 0.5654, WER: 0.7480, AvgLoss: 11.0779, AvgCER: 0.5921, AvgWER: 0.7760: 100%|██████████| 24/24 [00:05<00:00,  4.31it/s]\n",
            "Test  - Epoch: 28, Loss: 18.4187, CER: 0.8643, WER: 0.9960, AvgLoss: 17.6736, AvgCER: 0.8496, AvgWER: 0.9978: 100%|██████████| 120/120 [00:25<00:00,  4.78it/s]\n",
            "Train - Epoch: 29, Loss: 11.1271, CER: 0.5795, WER: 0.7760, AvgLoss: 10.9083, AvgCER: 0.5838, AvgWER: 0.7673: 100%|██████████| 96/96 [00:31<00:00,  3.04it/s]\n",
            "Val   - Epoch: 29, Loss: 10.8832, CER: 0.5467, WER: 0.7360, AvgLoss: 11.0373, AvgCER: 0.5879, AvgWER: 0.7720: 100%|██████████| 24/24 [00:05<00:00,  4.29it/s]\n",
            "Test  - Epoch: 29, Loss: 18.0231, CER: 0.8701, WER: 1.0000, AvgLoss: 17.7469, AvgCER: 0.8574, AvgWER: 0.9975: 100%|██████████| 120/120 [00:24<00:00,  4.81it/s]\n",
            "Train - Epoch: 30, Loss: 11.0179, CER: 0.5885, WER: 0.7800, AvgLoss: 10.7640, AvgCER: 0.5718, AvgWER: 0.7602: 100%|██████████| 96/96 [00:31<00:00,  3.04it/s]\n",
            "Val   - Epoch: 30, Loss: 10.7714, CER: 0.5137, WER: 0.7280, AvgLoss: 10.8339, AvgCER: 0.5807, AvgWER: 0.7707: 100%|██████████| 24/24 [00:05<00:00,  4.32it/s]\n",
            "Test  - Epoch: 30, Loss: 16.8086, CER: 0.8577, WER: 1.0000, AvgLoss: 17.2229, AvgCER: 0.8409, AvgWER: 0.9977: 100%|██████████| 120/120 [00:25<00:00,  4.80it/s]\n",
            "Train - Epoch: 31, Loss: 10.7901, CER: 0.5749, WER: 0.7680, AvgLoss: 10.6320, AvgCER: 0.5637, AvgWER: 0.7540: 100%|██████████| 96/96 [00:31<00:00,  3.04it/s]\n",
            "Val   - Epoch: 31, Loss: 10.5954, CER: 0.5761, WER: 0.7360, AvgLoss: 10.8491, AvgCER: 0.5658, AvgWER: 0.7538: 100%|██████████| 24/24 [00:05<00:00,  4.30it/s]\n",
            "Test  - Epoch: 31, Loss: 17.0893, CER: 0.8721, WER: 1.0000, AvgLoss: 17.7232, AvgCER: 0.8643, AvgWER: 0.9978: 100%|██████████| 120/120 [00:25<00:00,  4.80it/s]\n",
            "Train - Epoch: 32, Loss: 10.0177, CER: 0.5136, WER: 0.7080, AvgLoss: 10.5343, AvgCER: 0.5545, AvgWER: 0.7486: 100%|██████████| 96/96 [00:31<00:00,  3.02it/s]\n",
            "Val   - Epoch: 32, Loss: 10.9966, CER: 0.5644, WER: 0.7520, AvgLoss: 10.6980, AvgCER: 0.5594, AvgWER: 0.7507: 100%|██████████| 24/24 [00:05<00:00,  4.26it/s]\n",
            "Test  - Epoch: 32, Loss: 17.0426, CER: 0.8384, WER: 1.0000, AvgLoss: 17.7339, AvgCER: 0.8485, AvgWER: 0.9974: 100%|██████████| 120/120 [00:25<00:00,  4.76it/s]\n",
            "Train - Epoch: 33, Loss: 10.1311, CER: 0.5269, WER: 0.7120, AvgLoss: 10.3763, AvgCER: 0.5459, AvgWER: 0.7420: 100%|██████████| 96/96 [00:31<00:00,  3.04it/s]\n",
            "Val   - Epoch: 33, Loss: 10.7478, CER: 0.5952, WER: 0.7760, AvgLoss: 10.4935, AvgCER: 0.5510, AvgWER: 0.7502: 100%|██████████| 24/24 [00:05<00:00,  4.27it/s]\n",
            "Test  - Epoch: 33, Loss: 16.4776, CER: 0.8320, WER: 1.0000, AvgLoss: 17.4187, AvgCER: 0.8296, AvgWER: 0.9977: 100%|██████████| 120/120 [00:25<00:00,  4.73it/s]\n",
            "Train - Epoch: 34, Loss: 10.9899, CER: 0.5512, WER: 0.7440, AvgLoss: 10.2362, AvgCER: 0.5350, AvgWER: 0.7357: 100%|██████████| 96/96 [00:31<00:00,  3.03it/s]\n",
            "Val   - Epoch: 34, Loss: 10.9044, CER: 0.5848, WER: 0.7800, AvgLoss: 10.3586, AvgCER: 0.5454, AvgWER: 0.7433: 100%|██████████| 24/24 [00:05<00:00,  4.29it/s]\n",
            "Test  - Epoch: 34, Loss: 18.0853, CER: 0.8042, WER: 1.0000, AvgLoss: 17.3082, AvgCER: 0.8191, AvgWER: 0.9974: 100%|██████████| 120/120 [00:25<00:00,  4.74it/s]\n",
            "Train - Epoch: 35, Loss: 10.7843, CER: 0.5132, WER: 0.7080, AvgLoss: 10.1425, AvgCER: 0.5311, AvgWER: 0.7342: 100%|██████████| 96/96 [00:31<00:00,  3.03it/s]\n",
            "Val   - Epoch: 35, Loss: 9.7975, CER: 0.5139, WER: 0.7040, AvgLoss: 10.3229, AvgCER: 0.5458, AvgWER: 0.7472: 100%|██████████| 24/24 [00:05<00:00,  4.35it/s]\n",
            "Test  - Epoch: 35, Loss: 16.2927, CER: 0.8200, WER: 1.0000, AvgLoss: 16.8500, AvgCER: 0.8228, AvgWER: 0.9972: 100%|██████████| 120/120 [00:25<00:00,  4.80it/s]\n",
            "Train - Epoch: 36, Loss: 10.0177, CER: 0.5248, WER: 0.7280, AvgLoss: 9.9834, AvgCER: 0.5198, AvgWER: 0.7242: 100%|██████████| 96/96 [00:31<00:00,  3.04it/s]\n",
            "Val   - Epoch: 36, Loss: 10.6287, CER: 0.5434, WER: 0.7560, AvgLoss: 10.1628, AvgCER: 0.5309, AvgWER: 0.7392: 100%|██████████| 24/24 [00:05<00:00,  4.32it/s]\n",
            "Test  - Epoch: 36, Loss: 17.3956, CER: 0.8327, WER: 1.0000, AvgLoss: 17.4428, AvgCER: 0.8270, AvgWER: 0.9979: 100%|██████████| 120/120 [00:25<00:00,  4.76it/s]\n",
            "Train - Epoch: 37, Loss: 10.5240, CER: 0.5072, WER: 0.7280, AvgLoss: 9.8742, AvgCER: 0.5127, AvgWER: 0.7213: 100%|██████████| 96/96 [00:31<00:00,  3.03it/s]\n",
            "Val   - Epoch: 37, Loss: 8.1904, CER: 0.4630, WER: 0.6480, AvgLoss: 10.1012, AvgCER: 0.5217, AvgWER: 0.7285: 100%|██████████| 24/24 [00:05<00:00,  4.28it/s]\n",
            "Test  - Epoch: 37, Loss: 17.3052, CER: 0.8451, WER: 0.9960, AvgLoss: 17.3903, AvgCER: 0.8235, AvgWER: 0.9973: 100%|██████████| 120/120 [00:24<00:00,  4.82it/s]\n",
            "Train - Epoch: 38, Loss: 10.0241, CER: 0.4816, WER: 0.6800, AvgLoss: 9.7323, AvgCER: 0.5015, AvgWER: 0.7129: 100%|██████████| 96/96 [00:31<00:00,  3.04it/s]\n",
            "Val   - Epoch: 38, Loss: 9.2941, CER: 0.5166, WER: 0.7440, AvgLoss: 9.9934, AvgCER: 0.5134, AvgWER: 0.7233: 100%|██████████| 24/24 [00:05<00:00,  4.32it/s]\n",
            "Test  - Epoch: 38, Loss: 17.4752, CER: 0.8243, WER: 0.9960, AvgLoss: 17.5857, AvgCER: 0.8193, AvgWER: 0.9975: 100%|██████████| 120/120 [00:25<00:00,  4.80it/s]\n",
            "Train - Epoch: 39, Loss: 9.5637, CER: 0.4880, WER: 0.7320, AvgLoss: 9.5996, AvgCER: 0.4946, AvgWER: 0.7097: 100%|██████████| 96/96 [00:31<00:00,  3.03it/s]\n",
            "Val   - Epoch: 39, Loss: 9.6618, CER: 0.5023, WER: 0.7160, AvgLoss: 9.8508, AvgCER: 0.5077, AvgWER: 0.7195: 100%|██████████| 24/24 [00:05<00:00,  4.30it/s]\n",
            "Test  - Epoch: 39, Loss: 16.6132, CER: 0.8401, WER: 1.0000, AvgLoss: 17.4257, AvgCER: 0.8165, AvgWER: 0.9976: 100%|██████████| 120/120 [00:25<00:00,  4.77it/s]\n",
            "Train - Epoch: 40, Loss: 9.9058, CER: 0.5160, WER: 0.7280, AvgLoss: 9.4116, AvgCER: 0.4820, AvgWER: 0.7009: 100%|██████████| 96/96 [00:31<00:00,  3.03it/s]\n",
            "Val   - Epoch: 40, Loss: 9.9089, CER: 0.5099, WER: 0.7400, AvgLoss: 9.7336, AvgCER: 0.4988, AvgWER: 0.7073: 100%|██████████| 24/24 [00:05<00:00,  4.34it/s]\n",
            "Test  - Epoch: 40, Loss: 16.3836, CER: 0.8130, WER: 1.0000, AvgLoss: 17.1831, AvgCER: 0.8127, AvgWER: 0.9968: 100%|██████████| 120/120 [00:25<00:00,  4.76it/s]\n",
            "Train - Epoch: 41, Loss: 9.1468, CER: 0.4852, WER: 0.7200, AvgLoss: 9.2893, AvgCER: 0.4761, AvgWER: 0.6982: 100%|██████████| 96/96 [00:31<00:00,  3.03it/s]\n",
            "Val   - Epoch: 41, Loss: 9.6250, CER: 0.4981, WER: 0.7040, AvgLoss: 9.6376, AvgCER: 0.4934, AvgWER: 0.7128: 100%|██████████| 24/24 [00:05<00:00,  4.30it/s]\n",
            "Test  - Epoch: 41, Loss: 16.9607, CER: 0.8079, WER: 0.9920, AvgLoss: 17.1835, AvgCER: 0.7957, AvgWER: 0.9968: 100%|██████████| 120/120 [00:25<00:00,  4.75it/s]\n",
            "Train - Epoch: 42, Loss: 9.5108, CER: 0.4731, WER: 0.6840, AvgLoss: 9.1302, AvgCER: 0.4655, AvgWER: 0.6915: 100%|██████████| 96/96 [00:31<00:00,  3.02it/s]\n",
            "Val   - Epoch: 42, Loss: 10.2971, CER: 0.4868, WER: 0.7120, AvgLoss: 9.4605, AvgCER: 0.4898, AvgWER: 0.7090: 100%|██████████| 24/24 [00:05<00:00,  4.28it/s]\n",
            "Test  - Epoch: 42, Loss: 17.0173, CER: 0.8385, WER: 1.0000, AvgLoss: 17.0344, AvgCER: 0.8019, AvgWER: 0.9975: 100%|██████████| 120/120 [00:25<00:00,  4.74it/s]\n",
            "Train - Epoch: 43, Loss: 8.7527, CER: 0.4168, WER: 0.6480, AvgLoss: 8.9651, AvgCER: 0.4568, AvgWER: 0.6853: 100%|██████████| 96/96 [00:31<00:00,  3.02it/s]\n",
            "Val   - Epoch: 43, Loss: 8.8327, CER: 0.4417, WER: 0.6800, AvgLoss: 9.4089, AvgCER: 0.4765, AvgWER: 0.6972: 100%|██████████| 24/24 [00:05<00:00,  4.29it/s]\n",
            "Test  - Epoch: 43, Loss: 17.2165, CER: 0.7733, WER: 0.9960, AvgLoss: 17.1307, AvgCER: 0.7904, AvgWER: 0.9968: 100%|██████████| 120/120 [00:25<00:00,  4.73it/s]\n",
            "Train - Epoch: 44, Loss: 7.8980, CER: 0.4471, WER: 0.6440, AvgLoss: 8.8079, AvgCER: 0.4484, AvgWER: 0.6819: 100%|██████████| 96/96 [00:31<00:00,  3.03it/s]\n",
            "Val   - Epoch: 44, Loss: 9.7759, CER: 0.4633, WER: 0.6920, AvgLoss: 9.2234, AvgCER: 0.4652, AvgWER: 0.6842: 100%|██████████| 24/24 [00:05<00:00,  4.26it/s]\n",
            "Test  - Epoch: 44, Loss: 18.2571, CER: 0.8195, WER: 1.0000, AvgLoss: 17.2121, AvgCER: 0.7888, AvgWER: 0.9973: 100%|██████████| 120/120 [00:25<00:00,  4.77it/s]\n",
            "Train - Epoch: 45, Loss: 9.4234, CER: 0.4698, WER: 0.7160, AvgLoss: 8.6289, AvgCER: 0.4383, AvgWER: 0.6745: 100%|██████████| 96/96 [00:31<00:00,  3.01it/s]\n",
            "Val   - Epoch: 45, Loss: 9.7861, CER: 0.5087, WER: 0.7440, AvgLoss: 9.1686, AvgCER: 0.4663, AvgWER: 0.6902: 100%|██████████| 24/24 [00:05<00:00,  4.27it/s]\n",
            "Test  - Epoch: 45, Loss: 16.6817, CER: 0.7847, WER: 0.9960, AvgLoss: 16.9528, AvgCER: 0.7968, AvgWER: 0.9965: 100%|██████████| 120/120 [00:25<00:00,  4.71it/s]\n",
            "Train - Epoch: 46, Loss: 8.2555, CER: 0.4289, WER: 0.6840, AvgLoss: 8.5150, AvgCER: 0.4323, AvgWER: 0.6716: 100%|██████████| 96/96 [00:31<00:00,  3.04it/s]\n",
            "Val   - Epoch: 46, Loss: 9.1420, CER: 0.4655, WER: 0.6920, AvgLoss: 9.0844, AvgCER: 0.4637, AvgWER: 0.6912: 100%|██████████| 24/24 [00:05<00:00,  4.21it/s]\n",
            "Test  - Epoch: 46, Loss: 17.1055, CER: 0.7771, WER: 0.9960, AvgLoss: 17.2226, AvgCER: 0.7876, AvgWER: 0.9965: 100%|██████████| 120/120 [00:25<00:00,  4.73it/s]\n",
            "Train - Epoch: 47, Loss: 8.1730, CER: 0.3943, WER: 0.6600, AvgLoss: 8.2916, AvgCER: 0.4181, AvgWER: 0.6633: 100%|██████████| 96/96 [00:31<00:00,  3.02it/s]\n",
            "Val   - Epoch: 47, Loss: 9.5158, CER: 0.4577, WER: 0.6920, AvgLoss: 8.8519, AvgCER: 0.4489, AvgWER: 0.6855: 100%|██████████| 24/24 [00:05<00:00,  4.32it/s]\n",
            "Test  - Epoch: 47, Loss: 15.9359, CER: 0.7636, WER: 1.0000, AvgLoss: 16.7507, AvgCER: 0.7592, AvgWER: 0.9960: 100%|██████████| 120/120 [00:25<00:00,  4.75it/s]\n",
            "Train - Epoch: 48, Loss: 7.9955, CER: 0.3874, WER: 0.6600, AvgLoss: 8.1462, AvgCER: 0.4113, AvgWER: 0.6601: 100%|██████████| 96/96 [00:31<00:00,  3.03it/s]\n",
            "Val   - Epoch: 48, Loss: 7.9725, CER: 0.4408, WER: 0.6680, AvgLoss: 8.7694, AvgCER: 0.4399, AvgWER: 0.6770: 100%|██████████| 24/24 [00:05<00:00,  4.31it/s]\n",
            "Test  - Epoch: 48, Loss: 17.2936, CER: 0.7856, WER: 0.9960, AvgLoss: 16.8216, AvgCER: 0.7617, AvgWER: 0.9952: 100%|██████████| 120/120 [00:25<00:00,  4.75it/s]\n",
            "Train - Epoch: 49, Loss: 8.6201, CER: 0.4131, WER: 0.6600, AvgLoss: 7.9609, AvgCER: 0.4027, AvgWER: 0.6564: 100%|██████████| 96/96 [00:31<00:00,  3.03it/s]\n",
            "Val   - Epoch: 49, Loss: 8.0418, CER: 0.3951, WER: 0.6160, AvgLoss: 8.7866, AvgCER: 0.4386, AvgWER: 0.6797: 100%|██████████| 24/24 [00:05<00:00,  4.29it/s]\n",
            "Test  - Epoch: 49, Loss: 18.3772, CER: 0.7736, WER: 1.0000, AvgLoss: 17.2180, AvgCER: 0.7734, AvgWER: 0.9957: 100%|██████████| 120/120 [00:25<00:00,  4.75it/s]\n",
            "Train - Epoch: 50, Loss: 7.8651, CER: 0.3979, WER: 0.6560, AvgLoss: 7.7917, AvgCER: 0.3927, AvgWER: 0.6502: 100%|██████████| 96/96 [00:31<00:00,  3.03it/s]\n",
            "Val   - Epoch: 50, Loss: 8.7381, CER: 0.4385, WER: 0.6680, AvgLoss: 8.6778, AvgCER: 0.4397, AvgWER: 0.6797: 100%|██████████| 24/24 [00:05<00:00,  4.28it/s]\n",
            "Test  - Epoch: 50, Loss: 18.0270, CER: 0.7706, WER: 0.9920, AvgLoss: 16.9048, AvgCER: 0.7752, AvgWER: 0.9940: 100%|██████████| 120/120 [00:25<00:00,  4.74it/s]\n",
            "Train - Epoch: 51, Loss: 7.9920, CER: 0.3755, WER: 0.6320, AvgLoss: 7.5884, AvgCER: 0.3801, AvgWER: 0.6420: 100%|██████████| 96/96 [00:31<00:00,  3.04it/s]\n",
            "Val   - Epoch: 51, Loss: 9.3220, CER: 0.4094, WER: 0.6760, AvgLoss: 8.5373, AvgCER: 0.4261, AvgWER: 0.6758: 100%|██████████| 24/24 [00:05<00:00,  4.29it/s]\n",
            "Test  - Epoch: 51, Loss: 15.8234, CER: 0.7380, WER: 0.9880, AvgLoss: 16.9141, AvgCER: 0.7611, AvgWER: 0.9945: 100%|██████████| 120/120 [00:25<00:00,  4.68it/s]\n",
            "Train - Epoch: 52, Loss: 7.8109, CER: 0.4088, WER: 0.7120, AvgLoss: 7.4393, AvgCER: 0.3759, AvgWER: 0.6411: 100%|██████████| 96/96 [00:31<00:00,  3.01it/s]\n",
            "Val   - Epoch: 52, Loss: 9.3781, CER: 0.4540, WER: 0.7200, AvgLoss: 8.4766, AvgCER: 0.4259, AvgWER: 0.6717: 100%|██████████| 24/24 [00:05<00:00,  4.31it/s]\n",
            "Test  - Epoch: 52, Loss: 17.5675, CER: 0.7463, WER: 1.0000, AvgLoss: 17.0482, AvgCER: 0.7741, AvgWER: 0.9948: 100%|██████████| 120/120 [00:25<00:00,  4.74it/s]\n",
            "Train - Epoch: 53, Loss: 7.4623, CER: 0.3709, WER: 0.6480, AvgLoss: 7.2047, AvgCER: 0.3623, AvgWER: 0.6295: 100%|██████████| 96/96 [00:31<00:00,  3.02it/s]\n",
            "Val   - Epoch: 53, Loss: 8.7267, CER: 0.4239, WER: 0.6640, AvgLoss: 8.4139, AvgCER: 0.4214, AvgWER: 0.6698: 100%|██████████| 24/24 [00:05<00:00,  4.27it/s]\n",
            "Test  - Epoch: 53, Loss: 18.1191, CER: 0.7571, WER: 0.9960, AvgLoss: 16.7567, AvgCER: 0.7643, AvgWER: 0.9947: 100%|██████████| 120/120 [00:25<00:00,  4.71it/s]\n",
            "Train - Epoch: 54, Loss: 6.9635, CER: 0.3448, WER: 0.5960, AvgLoss: 7.0241, AvgCER: 0.3513, AvgWER: 0.6235: 100%|██████████| 96/96 [00:31<00:00,  3.01it/s]\n",
            "Val   - Epoch: 54, Loss: 9.2860, CER: 0.4296, WER: 0.6680, AvgLoss: 8.2731, AvgCER: 0.4167, AvgWER: 0.6647: 100%|██████████| 24/24 [00:05<00:00,  4.26it/s]\n",
            "Test  - Epoch: 54, Loss: 17.2797, CER: 0.7822, WER: 0.9960, AvgLoss: 16.7263, AvgCER: 0.7667, AvgWER: 0.9943: 100%|██████████| 120/120 [00:25<00:00,  4.73it/s]\n",
            "Train - Epoch: 55, Loss: 6.9046, CER: 0.3376, WER: 0.6240, AvgLoss: 6.8256, AvgCER: 0.3408, AvgWER: 0.6168: 100%|██████████| 96/96 [00:31<00:00,  3.03it/s]\n",
            "Val   - Epoch: 55, Loss: 9.0610, CER: 0.4394, WER: 0.6800, AvgLoss: 8.3442, AvgCER: 0.4164, AvgWER: 0.6690: 100%|██████████| 24/24 [00:05<00:00,  4.23it/s]\n",
            "Test  - Epoch: 55, Loss: 19.7851, CER: 0.7648, WER: 0.9960, AvgLoss: 17.4178, AvgCER: 0.7644, AvgWER: 0.9943: 100%|██████████| 120/120 [00:25<00:00,  4.75it/s]\n",
            "Train - Epoch: 56, Loss: 7.1382, CER: 0.3119, WER: 0.5680, AvgLoss: 6.6511, AvgCER: 0.3322, AvgWER: 0.6111: 100%|██████████| 96/96 [00:31<00:00,  3.02it/s]\n",
            "Val   - Epoch: 56, Loss: 8.6801, CER: 0.4016, WER: 0.6760, AvgLoss: 8.1172, AvgCER: 0.4031, AvgWER: 0.6568: 100%|██████████| 24/24 [00:05<00:00,  4.26it/s]\n",
            "Test  - Epoch: 56, Loss: 15.4207, CER: 0.7534, WER: 0.9960, AvgLoss: 16.8766, AvgCER: 0.7560, AvgWER: 0.9924: 100%|██████████| 120/120 [00:25<00:00,  4.70it/s]\n",
            "Train - Epoch: 57, Loss: 6.2036, CER: 0.3127, WER: 0.5920, AvgLoss: 6.4399, AvgCER: 0.3225, AvgWER: 0.6034: 100%|██████████| 96/96 [00:31<00:00,  3.01it/s]\n",
            "Val   - Epoch: 57, Loss: 7.0666, CER: 0.3731, WER: 0.6560, AvgLoss: 8.1638, AvgCER: 0.3996, AvgWER: 0.6503: 100%|██████████| 24/24 [00:05<00:00,  4.25it/s]\n",
            "Test  - Epoch: 57, Loss: 16.3200, CER: 0.7476, WER: 0.9960, AvgLoss: 16.8981, AvgCER: 0.7423, AvgWER: 0.9893: 100%|██████████| 120/120 [00:25<00:00,  4.74it/s]\n",
            "Train - Epoch: 58, Loss: 6.4004, CER: 0.3129, WER: 0.6280, AvgLoss: 6.1957, AvgCER: 0.3091, AvgWER: 0.5939: 100%|██████████| 96/96 [00:31<00:00,  3.02it/s]\n",
            "Val   - Epoch: 58, Loss: 8.9541, CER: 0.4563, WER: 0.7040, AvgLoss: 8.1742, AvgCER: 0.4004, AvgWER: 0.6548: 100%|██████████| 24/24 [00:05<00:00,  4.26it/s]\n",
            "Test  - Epoch: 58, Loss: 17.9404, CER: 0.7646, WER: 1.0000, AvgLoss: 17.4640, AvgCER: 0.7555, AvgWER: 0.9916: 100%|██████████| 120/120 [00:25<00:00,  4.77it/s]\n",
            "Train - Epoch: 59, Loss: 5.9712, CER: 0.2961, WER: 0.6000, AvgLoss: 6.0291, AvgCER: 0.3006, AvgWER: 0.5895: 100%|██████████| 96/96 [00:31<00:00,  3.01it/s]\n",
            "Val   - Epoch: 59, Loss: 7.8948, CER: 0.3897, WER: 0.6360, AvgLoss: 7.9655, AvgCER: 0.3953, AvgWER: 0.6512: 100%|██████████| 24/24 [00:05<00:00,  4.28it/s]\n",
            "Test  - Epoch: 59, Loss: 18.4450, CER: 0.7253, WER: 0.9960, AvgLoss: 17.0389, AvgCER: 0.7535, AvgWER: 0.9916: 100%|██████████| 120/120 [00:25<00:00,  4.74it/s]\n",
            "Train - Epoch: 60, Loss: 5.6411, CER: 0.3141, WER: 0.5960, AvgLoss: 5.8291, AvgCER: 0.2897, AvgWER: 0.5792: 100%|██████████| 96/96 [00:31<00:00,  3.03it/s]\n",
            "Val   - Epoch: 60, Loss: 7.6201, CER: 0.4019, WER: 0.7000, AvgLoss: 7.9867, AvgCER: 0.3902, AvgWER: 0.6512: 100%|██████████| 24/24 [00:05<00:00,  4.29it/s]\n",
            "Test  - Epoch: 60, Loss: 16.9405, CER: 0.7520, WER: 1.0000, AvgLoss: 17.0382, AvgCER: 0.7402, AvgWER: 0.9916: 100%|██████████| 120/120 [00:25<00:00,  4.72it/s]\n",
            "Train - Epoch: 61, Loss: 6.0292, CER: 0.2952, WER: 0.5880, AvgLoss: 5.6147, AvgCER: 0.2802, AvgWER: 0.5720: 100%|██████████| 96/96 [00:31<00:00,  3.01it/s]\n",
            "Val   - Epoch: 61, Loss: 8.3872, CER: 0.4188, WER: 0.6800, AvgLoss: 8.1500, AvgCER: 0.3900, AvgWER: 0.6448: 100%|██████████| 24/24 [00:05<00:00,  4.30it/s]\n",
            "Test  - Epoch: 61, Loss: 18.9461, CER: 0.7501, WER: 0.9880, AvgLoss: 17.8001, AvgCER: 0.7630, AvgWER: 0.9928: 100%|██████████| 120/120 [00:25<00:00,  4.69it/s]\n",
            "Train - Epoch: 62, Loss: 5.4426, CER: 0.2658, WER: 0.5400, AvgLoss: 5.4395, AvgCER: 0.2711, AvgWER: 0.5646: 100%|██████████| 96/96 [00:31<00:00,  3.01it/s]\n",
            "Val   - Epoch: 62, Loss: 7.7963, CER: 0.4082, WER: 0.6760, AvgLoss: 8.1431, AvgCER: 0.3951, AvgWER: 0.6468: 100%|██████████| 24/24 [00:05<00:00,  4.28it/s]\n",
            "Test  - Epoch: 62, Loss: 17.9067, CER: 0.7198, WER: 0.9960, AvgLoss: 17.7690, AvgCER: 0.7553, AvgWER: 0.9898: 100%|██████████| 120/120 [00:25<00:00,  4.75it/s]\n",
            "Train - Epoch: 63, Loss: 5.7609, CER: 0.2828, WER: 0.5960, AvgLoss: 5.2318, AvgCER: 0.2594, AvgWER: 0.5547: 100%|██████████| 96/96 [00:31<00:00,  3.02it/s]\n",
            "Val   - Epoch: 63, Loss: 7.9112, CER: 0.3891, WER: 0.6360, AvgLoss: 8.1330, AvgCER: 0.3863, AvgWER: 0.6410: 100%|██████████| 24/24 [00:05<00:00,  4.26it/s]\n",
            "Test  - Epoch: 63, Loss: 16.7725, CER: 0.7206, WER: 0.9720, AvgLoss: 17.8437, AvgCER: 0.7447, AvgWER: 0.9825: 100%|██████████| 120/120 [00:25<00:00,  4.74it/s]\n",
            "Train - Epoch: 64, Loss: 5.1848, CER: 0.2610, WER: 0.5600, AvgLoss: 4.9773, AvgCER: 0.2462, AvgWER: 0.5437: 100%|██████████| 96/96 [00:31<00:00,  3.03it/s]\n",
            "Val   - Epoch: 64, Loss: 7.7563, CER: 0.3878, WER: 0.6440, AvgLoss: 8.1334, AvgCER: 0.3905, AvgWER: 0.6435: 100%|██████████| 24/24 [00:05<00:00,  4.23it/s]\n",
            "Test  - Epoch: 64, Loss: 18.1054, CER: 0.7580, WER: 0.9880, AvgLoss: 18.1352, AvgCER: 0.7522, AvgWER: 0.9920: 100%|██████████| 120/120 [00:25<00:00,  4.71it/s]\n",
            "Train - Epoch: 65, Loss: 5.4450, CER: 0.2600, WER: 0.6040, AvgLoss: 4.8049, AvgCER: 0.2388, AvgWER: 0.5376: 100%|██████████| 96/96 [00:31<00:00,  3.00it/s]\n",
            "Val   - Epoch: 65, Loss: 8.0666, CER: 0.3729, WER: 0.6240, AvgLoss: 8.2493, AvgCER: 0.3824, AvgWER: 0.6388: 100%|██████████| 24/24 [00:05<00:00,  4.24it/s]\n",
            "Test  - Epoch: 65, Loss: 19.1241, CER: 0.7487, WER: 0.9920, AvgLoss: 18.1739, AvgCER: 0.7299, AvgWER: 0.9819: 100%|██████████| 120/120 [00:25<00:00,  4.73it/s]\n",
            "Train - Epoch: 66, Loss: 4.8718, CER: 0.2186, WER: 0.5280, AvgLoss: 4.5929, AvgCER: 0.2289, AvgWER: 0.5282: 100%|██████████| 96/96 [00:31<00:00,  3.01it/s]\n",
            "Val   - Epoch: 66, Loss: 8.2515, CER: 0.3764, WER: 0.6320, AvgLoss: 8.1741, AvgCER: 0.3795, AvgWER: 0.6352: 100%|██████████| 24/24 [00:05<00:00,  4.29it/s]\n",
            "Test  - Epoch: 66, Loss: 17.4861, CER: 0.7443, WER: 0.9720, AvgLoss: 18.2704, AvgCER: 0.7419, AvgWER: 0.9841: 100%|██████████| 120/120 [00:25<00:00,  4.72it/s]\n",
            "Train - Epoch: 67, Loss: 4.7351, CER: 0.2266, WER: 0.5720, AvgLoss: 4.3449, AvgCER: 0.2143, AvgWER: 0.5170: 100%|██████████| 96/96 [00:31<00:00,  3.01it/s]\n",
            "Val   - Epoch: 67, Loss: 9.0999, CER: 0.3975, WER: 0.6640, AvgLoss: 8.2638, AvgCER: 0.3788, AvgWER: 0.6315: 100%|██████████| 24/24 [00:05<00:00,  4.28it/s]\n",
            "Test  - Epoch: 67, Loss: 18.0138, CER: 0.7425, WER: 0.9880, AvgLoss: 18.6148, AvgCER: 0.7505, AvgWER: 0.9878: 100%|██████████| 120/120 [00:25<00:00,  4.73it/s]\n",
            "Train - Epoch: 68, Loss: 3.9854, CER: 0.2131, WER: 0.4840, AvgLoss: 4.1644, AvgCER: 0.2079, AvgWER: 0.5094: 100%|██████████| 96/96 [00:31<00:00,  3.02it/s]\n",
            "Val   - Epoch: 68, Loss: 9.4457, CER: 0.3858, WER: 0.6520, AvgLoss: 8.5268, AvgCER: 0.3860, AvgWER: 0.6343: 100%|██████████| 24/24 [00:05<00:00,  4.27it/s]\n",
            "Test  - Epoch: 68, Loss: 19.2141, CER: 0.7388, WER: 0.9800, AvgLoss: 19.2620, AvgCER: 0.7581, AvgWER: 0.9821: 100%|██████████| 120/120 [00:25<00:00,  4.72it/s]\n",
            "Train - Epoch: 69, Loss: 3.9691, CER: 0.2050, WER: 0.5160, AvgLoss: 3.9569, AvgCER: 0.1967, AvgWER: 0.4975: 100%|██████████| 96/96 [00:31<00:00,  3.01it/s]\n",
            "Val   - Epoch: 69, Loss: 8.0127, CER: 0.3862, WER: 0.6480, AvgLoss: 8.5703, AvgCER: 0.3951, AvgWER: 0.6483: 100%|██████████| 24/24 [00:05<00:00,  4.23it/s]\n",
            "Test  - Epoch: 69, Loss: 18.2901, CER: 0.7519, WER: 0.9920, AvgLoss: 19.1698, AvgCER: 0.7560, AvgWER: 0.9798: 100%|██████████| 120/120 [00:25<00:00,  4.70it/s]\n",
            "Train - Epoch: 70, Loss: 4.4959, CER: 0.2125, WER: 0.5600, AvgLoss: 3.7382, AvgCER: 0.1852, AvgWER: 0.4845: 100%|██████████| 96/96 [00:31<00:00,  3.02it/s]\n",
            "Val   - Epoch: 70, Loss: 8.2592, CER: 0.3709, WER: 0.6280, AvgLoss: 8.6371, AvgCER: 0.3852, AvgWER: 0.6393: 100%|██████████| 24/24 [00:05<00:00,  4.31it/s]\n",
            "Test  - Epoch: 70, Loss: 17.6498, CER: 0.7450, WER: 0.9760, AvgLoss: 19.4400, AvgCER: 0.7481, AvgWER: 0.9873: 100%|██████████| 120/120 [00:25<00:00,  4.69it/s]\n",
            "Train - Epoch: 71, Loss: 3.8870, CER: 0.1982, WER: 0.5280, AvgLoss: 3.5501, AvgCER: 0.1764, AvgWER: 0.4722: 100%|██████████| 96/96 [00:31<00:00,  3.01it/s]\n",
            "Val   - Epoch: 71, Loss: 9.4072, CER: 0.4036, WER: 0.6600, AvgLoss: 8.8042, AvgCER: 0.3832, AvgWER: 0.6392: 100%|██████████| 24/24 [00:05<00:00,  4.26it/s]\n",
            "Test  - Epoch: 71, Loss: 19.3736, CER: 0.7439, WER: 0.9920, AvgLoss: 19.9058, AvgCER: 0.7526, AvgWER: 0.9874: 100%|██████████| 120/120 [00:25<00:00,  4.70it/s]\n",
            "Train - Epoch: 72, Loss: 3.2579, CER: 0.1641, WER: 0.4560, AvgLoss: 3.2974, AvgCER: 0.1630, AvgWER: 0.4563: 100%|██████████| 96/96 [00:31<00:00,  3.02it/s]\n",
            "Val   - Epoch: 72, Loss: 9.5425, CER: 0.4124, WER: 0.6760, AvgLoss: 8.8336, AvgCER: 0.3894, AvgWER: 0.6457: 100%|██████████| 24/24 [00:05<00:00,  4.26it/s]\n",
            "Test  - Epoch: 72, Loss: 20.1833, CER: 0.7901, WER: 0.9840, AvgLoss: 20.2089, AvgCER: 0.7656, AvgWER: 0.9905: 100%|██████████| 120/120 [00:25<00:00,  4.72it/s]\n",
            "Train - Epoch: 73, Loss: 2.9317, CER: 0.1502, WER: 0.4520, AvgLoss: 3.0545, AvgCER: 0.1490, AvgWER: 0.4392: 100%|██████████| 96/96 [00:31<00:00,  3.02it/s]\n",
            "Val   - Epoch: 73, Loss: 8.9630, CER: 0.3771, WER: 0.6200, AvgLoss: 9.1179, AvgCER: 0.3864, AvgWER: 0.6362: 100%|██████████| 24/24 [00:05<00:00,  4.30it/s]\n",
            "Test  - Epoch: 73, Loss: 21.1989, CER: 0.7893, WER: 0.9840, AvgLoss: 20.9464, AvgCER: 0.7637, AvgWER: 0.9881: 100%|██████████| 120/120 [00:25<00:00,  4.73it/s]\n",
            "Train - Epoch: 74, Loss: 2.8138, CER: 0.1539, WER: 0.4520, AvgLoss: 2.8467, AvgCER: 0.1383, AvgWER: 0.4205: 100%|██████████| 96/96 [00:31<00:00,  3.03it/s]\n",
            "Val   - Epoch: 74, Loss: 10.2600, CER: 0.3944, WER: 0.6680, AvgLoss: 9.3019, AvgCER: 0.3875, AvgWER: 0.6437: 100%|██████████| 24/24 [00:05<00:00,  4.26it/s]\n",
            "Test  - Epoch: 74, Loss: 18.8468, CER: 0.7856, WER: 0.9840, AvgLoss: 21.3601, AvgCER: 0.7629, AvgWER: 0.9873: 100%|██████████| 120/120 [00:25<00:00,  4.68it/s]\n",
            "Train - Epoch: 75, Loss: 3.0500, CER: 0.1536, WER: 0.4480, AvgLoss: 2.6990, AvgCER: 0.1332, AvgWER: 0.4095: 100%|██████████| 96/96 [00:31<00:00,  3.02it/s]\n",
            "Val   - Epoch: 75, Loss: 9.1345, CER: 0.3743, WER: 0.6440, AvgLoss: 9.5474, AvgCER: 0.3879, AvgWER: 0.6403: 100%|██████████| 24/24 [00:05<00:00,  4.28it/s]\n",
            "Test  - Epoch: 75, Loss: 23.2810, CER: 0.7765, WER: 0.9960, AvgLoss: 21.7923, AvgCER: 0.7581, AvgWER: 0.9883: 100%|██████████| 120/120 [00:25<00:00,  4.71it/s]\n",
            "Train - Epoch: 76, Loss: 2.2069, CER: 0.1102, WER: 0.3680, AvgLoss: 2.5462, AvgCER: 0.1257, AvgWER: 0.4024: 100%|██████████| 96/96 [00:31<00:00,  3.00it/s]\n",
            "Val   - Epoch: 76, Loss: 9.5989, CER: 0.3787, WER: 0.6360, AvgLoss: 9.6097, AvgCER: 0.3837, AvgWER: 0.6355: 100%|██████████| 24/24 [00:05<00:00,  4.20it/s]\n",
            "Test  - Epoch: 76, Loss: 22.0579, CER: 0.7402, WER: 0.9840, AvgLoss: 22.0798, AvgCER: 0.7597, AvgWER: 0.9856: 100%|██████████| 120/120 [00:25<00:00,  4.69it/s]\n",
            "Train - Epoch: 77, Loss: 2.2061, CER: 0.1180, WER: 0.4040, AvgLoss: 2.2965, AvgCER: 0.1120, AvgWER: 0.3738: 100%|██████████| 96/96 [00:31<00:00,  3.00it/s]\n",
            "Val   - Epoch: 77, Loss: 9.4244, CER: 0.3709, WER: 0.6400, AvgLoss: 9.8738, AvgCER: 0.3874, AvgWER: 0.6442: 100%|██████████| 24/24 [00:05<00:00,  4.26it/s]\n",
            "Test  - Epoch: 77, Loss: 22.0024, CER: 0.7535, WER: 0.9920, AvgLoss: 22.4656, AvgCER: 0.7554, AvgWER: 0.9864: 100%|██████████| 120/120 [00:25<00:00,  4.70it/s]\n",
            "Train - Epoch: 78, Loss: 2.2778, CER: 0.1101, WER: 0.3800, AvgLoss: 2.1546, AvgCER: 0.1049, AvgWER: 0.3573: 100%|██████████| 96/96 [00:31<00:00,  3.01it/s]\n",
            "Val   - Epoch: 78, Loss: 11.0294, CER: 0.3804, WER: 0.6480, AvgLoss: 10.2097, AvgCER: 0.3869, AvgWER: 0.6360: 100%|██████████| 24/24 [00:05<00:00,  4.21it/s]\n",
            "Test  - Epoch: 78, Loss: 23.5307, CER: 0.7521, WER: 0.9760, AvgLoss: 23.2319, AvgCER: 0.7486, AvgWER: 0.9764: 100%|██████████| 120/120 [00:25<00:00,  4.70it/s]\n",
            "Train - Epoch: 79, Loss: 2.0850, CER: 0.0936, WER: 0.3480, AvgLoss: 1.9660, AvgCER: 0.0953, AvgWER: 0.3432: 100%|██████████| 96/96 [00:32<00:00,  3.00it/s]\n",
            "Val   - Epoch: 79, Loss: 10.8157, CER: 0.4100, WER: 0.6720, AvgLoss: 10.3826, AvgCER: 0.3918, AvgWER: 0.6433: 100%|██████████| 24/24 [00:05<00:00,  4.27it/s]\n",
            "Test  - Epoch: 79, Loss: 22.6781, CER: 0.7556, WER: 0.9880, AvgLoss: 23.8775, AvgCER: 0.7615, AvgWER: 0.9868: 100%|██████████| 120/120 [00:25<00:00,  4.67it/s]\n",
            "Train - Epoch: 80, Loss: 1.7773, CER: 0.0933, WER: 0.2960, AvgLoss: 1.8089, AvgCER: 0.0873, AvgWER: 0.3211: 100%|██████████| 96/96 [00:32<00:00,  3.00it/s]\n",
            "Val   - Epoch: 80, Loss: 11.3387, CER: 0.4292, WER: 0.7040, AvgLoss: 10.4599, AvgCER: 0.4008, AvgWER: 0.6425: 100%|██████████| 24/24 [00:05<00:00,  4.23it/s]\n",
            "Test  - Epoch: 80, Loss: 22.9473, CER: 0.7715, WER: 0.9800, AvgLoss: 23.9464, AvgCER: 0.7867, AvgWER: 0.9868: 100%|██████████| 120/120 [00:25<00:00,  4.69it/s]\n",
            "Train - Epoch: 81, Loss: 2.1085, CER: 0.0973, WER: 0.3720, AvgLoss: 1.6989, AvgCER: 0.0817, AvgWER: 0.3111: 100%|██████████| 96/96 [00:32<00:00,  2.99it/s]\n",
            "Val   - Epoch: 81, Loss: 11.1589, CER: 0.3866, WER: 0.6640, AvgLoss: 10.7261, AvgCER: 0.3954, AvgWER: 0.6457: 100%|██████████| 24/24 [00:05<00:00,  4.17it/s]\n",
            "Test  - Epoch: 81, Loss: 24.6394, CER: 0.7575, WER: 0.9880, AvgLoss: 24.5605, AvgCER: 0.7694, AvgWER: 0.9841: 100%|██████████| 120/120 [00:25<00:00,  4.69it/s]\n",
            "Train - Epoch: 82, Loss: 1.5695, CER: 0.0751, WER: 0.3120, AvgLoss: 1.5217, AvgCER: 0.0728, AvgWER: 0.2850: 100%|██████████| 96/96 [00:32<00:00,  3.00it/s]\n",
            "Val   - Epoch: 82, Loss: 10.8913, CER: 0.4040, WER: 0.6640, AvgLoss: 11.0385, AvgCER: 0.3934, AvgWER: 0.6442: 100%|██████████| 24/24 [00:05<00:00,  4.22it/s]\n",
            "Test  - Epoch: 82, Loss: 24.5685, CER: 0.7547, WER: 1.0000, AvgLoss: 25.1762, AvgCER: 0.7613, AvgWER: 0.9863: 100%|██████████| 120/120 [00:25<00:00,  4.71it/s]\n",
            "Train - Epoch: 83, Loss: 1.4896, CER: 0.0795, WER: 0.3240, AvgLoss: 1.3666, AvgCER: 0.0630, AvgWER: 0.2590: 100%|██████████| 96/96 [00:32<00:00,  2.99it/s]\n",
            "Val   - Epoch: 83, Loss: 12.3314, CER: 0.4335, WER: 0.6640, AvgLoss: 11.2688, AvgCER: 0.3943, AvgWER: 0.6455: 100%|██████████| 24/24 [00:05<00:00,  4.26it/s]\n",
            "Test  - Epoch: 83, Loss: 26.5769, CER: 0.7847, WER: 0.9840, AvgLoss: 25.5891, AvgCER: 0.7702, AvgWER: 0.9860: 100%|██████████| 120/120 [00:25<00:00,  4.70it/s]\n",
            "Train - Epoch: 84, Loss: 1.2946, CER: 0.0605, WER: 0.2720, AvgLoss: 1.2342, AvgCER: 0.0558, AvgWER: 0.2372: 100%|██████████| 96/96 [00:31<00:00,  3.01it/s]\n",
            "Val   - Epoch: 84, Loss: 12.0711, CER: 0.4167, WER: 0.6520, AvgLoss: 11.4058, AvgCER: 0.3963, AvgWER: 0.6415: 100%|██████████| 24/24 [00:05<00:00,  4.16it/s]\n",
            "Test  - Epoch: 84, Loss: 26.4307, CER: 0.8004, WER: 1.0000, AvgLoss: 25.9577, AvgCER: 0.7716, AvgWER: 0.9856: 100%|██████████| 120/120 [00:25<00:00,  4.72it/s]\n",
            "Train - Epoch: 85, Loss: 1.3391, CER: 0.0622, WER: 0.2640, AvgLoss: 1.1347, AvgCER: 0.0513, AvgWER: 0.2205: 100%|██████████| 96/96 [00:31<00:00,  3.01it/s]\n",
            "Val   - Epoch: 85, Loss: 12.6667, CER: 0.4214, WER: 0.6960, AvgLoss: 11.6366, AvgCER: 0.3968, AvgWER: 0.6463: 100%|██████████| 24/24 [00:05<00:00,  4.27it/s]\n",
            "Test  - Epoch: 85, Loss: 29.2988, CER: 0.7843, WER: 0.9920, AvgLoss: 26.2718, AvgCER: 0.7761, AvgWER: 0.9887: 100%|██████████| 120/120 [00:25<00:00,  4.72it/s]\n",
            "Train - Epoch: 86, Loss: 1.3912, CER: 0.0754, WER: 0.3000, AvgLoss: 1.1001, AvgCER: 0.0526, AvgWER: 0.2248: 100%|██████████| 96/96 [00:31<00:00,  3.00it/s]\n",
            "Val   - Epoch: 86, Loss: 12.3783, CER: 0.3834, WER: 0.6320, AvgLoss: 11.9730, AvgCER: 0.4023, AvgWER: 0.6475: 100%|██████████| 24/24 [00:05<00:00,  4.23it/s]\n",
            "Test  - Epoch: 86, Loss: 28.7088, CER: 0.7725, WER: 0.9880, AvgLoss: 27.3675, AvgCER: 0.7808, AvgWER: 0.9842: 100%|██████████| 120/120 [00:25<00:00,  4.72it/s]\n",
            "Train - Epoch: 87, Loss: 1.2110, CER: 0.0668, WER: 0.2680, AvgLoss: 1.0134, AvgCER: 0.0468, AvgWER: 0.2038: 100%|██████████| 96/96 [00:31<00:00,  3.01it/s]\n",
            "Val   - Epoch: 87, Loss: 11.7703, CER: 0.3910, WER: 0.6560, AvgLoss: 12.0869, AvgCER: 0.3944, AvgWER: 0.6440: 100%|██████████| 24/24 [00:05<00:00,  4.21it/s]\n",
            "Test  - Epoch: 87, Loss: 23.8661, CER: 0.7425, WER: 0.9640, AvgLoss: 27.3259, AvgCER: 0.7540, AvgWER: 0.9771: 100%|██████████| 120/120 [00:25<00:00,  4.75it/s]\n",
            "Train - Epoch: 88, Loss: 0.8746, CER: 0.0433, WER: 0.1600, AvgLoss: 0.8764, AvgCER: 0.0393, AvgWER: 0.1777: 100%|██████████| 96/96 [00:31<00:00,  3.01it/s]\n",
            "Val   - Epoch: 88, Loss: 12.9969, CER: 0.4170, WER: 0.6360, AvgLoss: 12.4423, AvgCER: 0.3978, AvgWER: 0.6425: 100%|██████████| 24/24 [00:05<00:00,  4.24it/s]\n",
            "Test  - Epoch: 88, Loss: 27.0736, CER: 0.7298, WER: 0.9680, AvgLoss: 28.0241, AvgCER: 0.7719, AvgWER: 0.9814: 100%|██████████| 120/120 [00:25<00:00,  4.72it/s]\n",
            "Train - Epoch: 89, Loss: 0.8256, CER: 0.0362, WER: 0.1600, AvgLoss: 0.7541, AvgCER: 0.0309, AvgWER: 0.1467: 100%|██████████| 96/96 [00:31<00:00,  3.01it/s]\n",
            "Val   - Epoch: 89, Loss: 13.1088, CER: 0.4111, WER: 0.6800, AvgLoss: 12.5768, AvgCER: 0.4022, AvgWER: 0.6480: 100%|██████████| 24/24 [00:05<00:00,  4.28it/s]\n",
            "Test  - Epoch: 89, Loss: 28.4097, CER: 0.7768, WER: 0.9760, AvgLoss: 28.3576, AvgCER: 0.7733, AvgWER: 0.9803: 100%|██████████| 120/120 [00:25<00:00,  4.68it/s]\n",
            "Train - Epoch: 90, Loss: 0.7810, CER: 0.0354, WER: 0.1600, AvgLoss: 0.7587, AvgCER: 0.0341, AvgWER: 0.1552: 100%|██████████| 96/96 [00:31<00:00,  3.00it/s]\n",
            "Val   - Epoch: 90, Loss: 12.0266, CER: 0.4036, WER: 0.6280, AvgLoss: 12.8806, AvgCER: 0.4005, AvgWER: 0.6423: 100%|██████████| 24/24 [00:05<00:00,  4.25it/s]\n",
            "Test  - Epoch: 90, Loss: 28.7901, CER: 0.8088, WER: 0.9880, AvgLoss: 29.0861, AvgCER: 0.7860, AvgWER: 0.9863: 100%|██████████| 120/120 [00:25<00:00,  4.72it/s]\n",
            "Train - Epoch: 91, Loss: 0.7645, CER: 0.0467, WER: 0.1960, AvgLoss: 0.8037, AvgCER: 0.0391, AvgWER: 0.1710: 100%|██████████| 96/96 [00:32<00:00,  2.99it/s]\n",
            "Val   - Epoch: 91, Loss: 12.2000, CER: 0.3722, WER: 0.6120, AvgLoss: 13.1793, AvgCER: 0.3960, AvgWER: 0.6522: 100%|██████████| 24/24 [00:05<00:00,  4.26it/s]\n",
            "Test  - Epoch: 91, Loss: 29.8510, CER: 0.7488, WER: 0.9880, AvgLoss: 29.4030, AvgCER: 0.7614, AvgWER: 0.9812: 100%|██████████| 120/120 [00:25<00:00,  4.69it/s]\n",
            "Train - Epoch: 92, Loss: 0.8771, CER: 0.0410, WER: 0.2000, AvgLoss: 0.8312, AvgCER: 0.0420, AvgWER: 0.1820: 100%|██████████| 96/96 [00:32<00:00,  2.99it/s]\n",
            "Val   - Epoch: 92, Loss: 14.5247, CER: 0.4045, WER: 0.6360, AvgLoss: 13.2104, AvgCER: 0.4045, AvgWER: 0.6497: 100%|██████████| 24/24 [00:05<00:00,  4.24it/s]\n",
            "Test  - Epoch: 92, Loss: 29.1125, CER: 0.7797, WER: 0.9800, AvgLoss: 29.7549, AvgCER: 0.7716, AvgWER: 0.9810: 100%|██████████| 120/120 [00:25<00:00,  4.70it/s]\n",
            "Train - Epoch: 93, Loss: 0.8795, CER: 0.0462, WER: 0.1880, AvgLoss: 0.8005, AvgCER: 0.0416, AvgWER: 0.1805: 100%|██████████| 96/96 [00:31<00:00,  3.02it/s]\n",
            "Val   - Epoch: 93, Loss: 11.8155, CER: 0.3726, WER: 0.6280, AvgLoss: 13.2446, AvgCER: 0.4019, AvgWER: 0.6450: 100%|██████████| 24/24 [00:05<00:00,  4.27it/s]\n",
            "Test  - Epoch: 93, Loss: 29.6589, CER: 0.7729, WER: 0.9760, AvgLoss: 29.7440, AvgCER: 0.7745, AvgWER: 0.9803: 100%|██████████| 120/120 [00:25<00:00,  4.65it/s]\n",
            "Train - Epoch: 94, Loss: 0.6650, CER: 0.0212, WER: 0.1240, AvgLoss: 0.6612, AvgCER: 0.0310, AvgWER: 0.1429: 100%|██████████| 96/96 [00:31<00:00,  3.01it/s]\n",
            "Val   - Epoch: 94, Loss: 14.7334, CER: 0.4144, WER: 0.6400, AvgLoss: 13.4849, AvgCER: 0.3984, AvgWER: 0.6450: 100%|██████████| 24/24 [00:05<00:00,  4.21it/s]\n",
            "Test  - Epoch: 94, Loss: 28.9721, CER: 0.7623, WER: 0.9720, AvgLoss: 30.1271, AvgCER: 0.7614, AvgWER: 0.9792: 100%|██████████| 120/120 [00:25<00:00,  4.68it/s]\n",
            "Train - Epoch: 95, Loss: 0.5651, CER: 0.0314, WER: 0.1280, AvgLoss: 0.6023, AvgCER: 0.0280, AvgWER: 0.1288: 100%|██████████| 96/96 [00:31<00:00,  3.01it/s]\n",
            "Val   - Epoch: 95, Loss: 12.2497, CER: 0.3864, WER: 0.6120, AvgLoss: 13.7185, AvgCER: 0.4008, AvgWER: 0.6458: 100%|██████████| 24/24 [00:05<00:00,  4.20it/s]\n",
            "Test  - Epoch: 95, Loss: 30.1594, CER: 0.7875, WER: 0.9880, AvgLoss: 30.6545, AvgCER: 0.7679, AvgWER: 0.9769: 100%|██████████| 120/120 [00:25<00:00,  4.69it/s]\n",
            "Train - Epoch: 96, Loss: 0.4913, CER: 0.0272, WER: 0.1120, AvgLoss: 0.4822, AvgCER: 0.0199, AvgWER: 0.0938: 100%|██████████| 96/96 [00:31<00:00,  3.00it/s]\n",
            "Val   - Epoch: 96, Loss: 15.2033, CER: 0.4436, WER: 0.6760, AvgLoss: 13.8156, AvgCER: 0.3951, AvgWER: 0.6448: 100%|██████████| 24/24 [00:05<00:00,  4.29it/s]\n",
            "Test  - Epoch: 96, Loss: 31.0603, CER: 0.7840, WER: 0.9800, AvgLoss: 31.2499, AvgCER: 0.7756, AvgWER: 0.9877: 100%|██████████| 120/120 [00:25<00:00,  4.71it/s]\n",
            "Train - Epoch: 97, Loss: 0.3933, CER: 0.0294, WER: 0.0840, AvgLoss: 0.3892, AvgCER: 0.0155, AvgWER: 0.0698: 100%|██████████| 96/96 [00:31<00:00,  3.01it/s]\n",
            "Val   - Epoch: 97, Loss: 14.3068, CER: 0.3960, WER: 0.6280, AvgLoss: 14.1273, AvgCER: 0.4002, AvgWER: 0.6500: 100%|██████████| 24/24 [00:05<00:00,  4.22it/s]\n",
            "Test  - Epoch: 97, Loss: 31.0983, CER: 0.7744, WER: 0.9880, AvgLoss: 31.5521, AvgCER: 0.7665, AvgWER: 0.9849: 100%|██████████| 120/120 [00:25<00:00,  4.67it/s]\n",
            "Train - Epoch: 98, Loss: 0.2844, CER: 0.0105, WER: 0.0280, AvgLoss: 0.3371, AvgCER: 0.0126, AvgWER: 0.0548: 100%|██████████| 96/96 [00:31<00:00,  3.02it/s]\n",
            "Val   - Epoch: 98, Loss: 13.4586, CER: 0.3860, WER: 0.6480, AvgLoss: 14.3120, AvgCER: 0.3925, AvgWER: 0.6395: 100%|██████████| 24/24 [00:05<00:00,  4.24it/s]\n",
            "Test  - Epoch: 98, Loss: 29.7069, CER: 0.7896, WER: 0.9960, AvgLoss: 32.0778, AvgCER: 0.7772, AvgWER: 0.9885: 100%|██████████| 120/120 [00:25<00:00,  4.67it/s]\n",
            "Train - Epoch: 99, Loss: 0.2014, CER: 0.0041, WER: 0.0200, AvgLoss: 0.2389, AvgCER: 0.0059, AvgWER: 0.0289: 100%|██████████| 96/96 [00:31<00:00,  3.01it/s]\n",
            "Val   - Epoch: 99, Loss: 16.2995, CER: 0.4201, WER: 0.7080, AvgLoss: 14.4591, AvgCER: 0.3862, AvgWER: 0.6402: 100%|██████████| 24/24 [00:05<00:00,  4.25it/s]\n",
            "Test  - Epoch: 99, Loss: 32.1808, CER: 0.7302, WER: 0.9760, AvgLoss: 32.4889, AvgCER: 0.7607, AvgWER: 0.9834: 100%|██████████| 120/120 [00:25<00:00,  4.73it/s]\n"
          ],
          "name": "stderr"
        }
      ]
    },
    {
      "cell_type": "markdown",
      "metadata": {
        "id": "9YK0fpPiNkAo",
        "colab_type": "text"
      },
      "source": [
        "### Results"
      ]
    },
    {
      "cell_type": "code",
      "metadata": {
        "id": "B4leQ26TvII7",
        "colab_type": "code",
        "outputId": "8da54690-80ee-4afa-f348-db43939204a4",
        "colab": {
          "base_uri": "https://localhost:8080/",
          "height": 366
        }
      },
      "source": [
        "plt.title('Loss: IAM to Rimes')\n",
        "plt.xlabel('Epochs')\n",
        "plt.ylabel('Loss')\n",
        "plt.plot(iam_to_rimes_losses[0], label='IAM Train')\n",
        "plt.plot(iam_to_rimes_losses[1], label='IAM Val')\n",
        "plt.plot(iam_to_rimes_losses[2], label='Rimes')\n",
        "plt.legend()\n",
        "plt.show()\n",
        "print('Train:', iam_to_rimes_losses[0])\n",
        "print('Val:', iam_to_rimes_losses[1])\n",
        "print('Test:', iam_to_rimes_losses[2])"
      ],
      "execution_count": 0,
      "outputs": [
        {
          "output_type": "display_data",
          "data": {
            "image/png": "[encoded data removed]",
            "text/plain": [
              "<Figure size 432x288 with 1 Axes>"
            ]
          },
          "metadata": {
            "tags": []
          }
        },
        {
          "output_type": "stream",
          "text": [
            "Train: [26.992212732632954, 16.82087700565656, 16.38394159078598, 16.112451473871868, 15.971416562795639, 15.582810908555984, 14.925958583752314, 14.26237565279007, 13.911991228659948, 13.689028759797415, 13.496922234694162, 13.267347753047943, 13.08597598473231, 12.891137013832727, 12.723054299751917, 12.593100845813751, 12.435029019912085, 12.284128030141195, 12.13704518477122, 12.010211169719696, 11.87728359301885, 11.751718997955322, 11.702802528937658, 11.545947869618734, 11.4891208310922, 11.335384756326675, 11.237780461708704, 11.092929343382517, 11.003456979990005, 10.908263276020685, 10.764028042554855, 10.631967653830847, 10.534312884012857, 10.376278032859167, 10.236186236143112, 10.142451951901117, 9.983394662539164, 9.874166915814081, 9.732331052422523, 9.599636554718018, 9.411615088582039, 9.289303551117579, 9.130164181192717, 8.965074554085732, 8.807909826437632, 8.628889699776968, 8.514992664257685, 8.291590929031372, 8.146245375275612, 7.960911591847737, 7.791693285107613, 7.588399504621823, 7.439308186372121, 7.204657981793086, 7.024130021532376, 6.825645128885905, 6.651118775208791, 6.439880947271983, 6.195706481734912, 6.029124553004901, 5.829054181774457, 5.6147099534670515, 5.439491753776868, 5.231772482395172, 4.97730195025603, 4.804906070232391, 4.592886107663314, 4.3448722288012505, 4.164439382652442, 3.956913729508718, 3.7381592517097793, 3.550137805442015, 3.2974090899030366, 3.054533158739408, 2.846702851355076, 2.699012311796347, 2.5461681013305983, 2.29645769794782, 2.1545843171576657, 1.9659966565668583, 1.808901662627856, 1.6988821712632973, 1.5217420024176438, 1.366592890272538, 1.2342385984957218, 1.1347251043965418, 1.100113417332371, 1.0133825254937012, 0.8763753349582354, 0.7540557887405157, 0.7586740627884865, 0.8036861152698597, 0.8312120518336693, 0.8005270287394524, 0.6612325279663006, 0.6022796779870987, 0.4822073507433136, 0.38923777484645444, 0.33706550672650337, 0.23892826369653145]\n",
            "Val: [17.419895966847736, 16.663015882174175, 16.226796905199688, 16.053049206733704, 15.970706144968668, 15.292794227600098, 14.52601158618927, 14.015448371569315, 13.8729776541392, 13.54991356531779, 13.373023867607117, 13.212171951929728, 13.075040499369303, 12.827270865440369, 12.745621283849081, 12.498045444488525, 12.400718092918396, 12.250688473383585, 12.189701239267984, 12.021520296732584, 11.811954895655314, 11.753164052963257, 11.693195819854736, 11.498215476671854, 11.515146136283875, 11.360888719558716, 11.3259725968043, 11.143434206644693, 11.077941457430521, 11.037262876828512, 10.833930253982544, 10.84912916024526, 10.697980801264444, 10.493501543998718, 10.35857649644216, 10.322879393895468, 10.162838061650595, 10.1012282371521, 9.993428826332092, 9.850813150405884, 9.733593463897705, 9.637550234794617, 9.46049976348877, 9.408850709597269, 9.22335034608841, 9.16863856712977, 9.084409813086191, 8.851886630058289, 8.769372661908468, 8.78656542301178, 8.67780860265096, 8.537303606669107, 8.476565301418304, 8.413896898428598, 8.273098170757294, 8.344165523846945, 8.117229878902435, 8.16380230585734, 8.174243410428366, 7.965524951616923, 7.986747721831004, 8.150011956691742, 8.143074234326681, 8.132965087890625, 8.133355736732483, 8.249261657396952, 8.174064000447592, 8.263793090979258, 8.526830414930979, 8.570303956667582, 8.637120366096497, 8.804247260093689, 8.833556830883026, 9.117945233980814, 9.301884849866232, 9.547413190205893, 9.609680732091268, 9.873816887537638, 10.20967960357666, 10.38255000114441, 10.459935983022055, 10.7260635693868, 11.038505951563517, 11.268820563952128, 11.40582780043284, 11.636592149734497, 11.972980539004007, 12.086934606234232, 12.44226841131846, 12.576751311620077, 12.880639870961508, 13.179281195004782, 13.210379004478455, 13.244561235109964, 13.484904646873474, 13.718519608179728, 13.815601309140524, 14.12730348110199, 14.312007983525595, 14.45911729335785]\n",
            "Test: [20.292046356201173, 19.51298459370931, 19.701911290486652, 19.58272738456726, 19.251971435546874, 18.99779175122579, 18.259527858098348, 18.35696833928426, 18.22777900695801, 18.103189293543497, 18.17369731267293, 18.040047359466552, 18.022547070185343, 17.802510039011636, 18.066421365737916, 17.925985542933145, 17.913854106267294, 17.89127319653829, 17.87334353129069, 17.99253576596578, 17.751474968592326, 17.984887631734214, 17.833182668685915, 17.768369309107463, 17.892968241373698, 17.88377072016398, 17.771378723780312, 17.760439825057983, 17.67363454500834, 17.74694479306539, 17.222903982798258, 17.723231935501097, 17.73385934829712, 17.418675327301024, 17.30815486907959, 16.85004612604777, 17.442750771840412, 17.39030753771464, 17.585728096961976, 17.42573745250702, 17.183084789911906, 17.183521143595378, 17.03442964553833, 17.13069934050242, 17.212127470970152, 16.952802737553913, 17.222626773516335, 16.75072047710419, 16.82161653836568, 17.21800812880198, 16.90477261543274, 16.9141108751297, 17.048238587379455, 16.756668718655906, 16.726345920562743, 17.417811648050943, 16.87656512260437, 16.898109912872314, 17.46396884123484, 17.038866090774537, 17.038235060373943, 17.80014689763387, 17.768997573852538, 17.84370629787445, 18.135199308395386, 18.173897997538248, 18.270415035883584, 18.6148176352183, 19.261963510513304, 19.169767236709596, 19.439985275268555, 19.905843607584636, 20.20892834663391, 20.94640998840332, 21.360080814361574, 21.79234422047933, 22.079806518554687, 22.465616544087727, 23.231920051574708, 23.877524518966673, 23.94635362625122, 24.56054533322652, 25.176162242889404, 25.589090983072918, 25.957660786310832, 26.271817461649576, 27.367454290390015, 27.32587389945984, 28.024076668421426, 28.357554992039997, 29.08607309659322, 29.40299441019694, 29.754855600992837, 29.744046703974405, 30.127144702275594, 30.654487625757852, 31.24988759358724, 31.552147738138835, 32.07775858243306, 32.4889310836792]\n"
          ],
          "name": "stdout"
        }
      ]
    },
    {
      "cell_type": "code",
      "metadata": {
        "id": "vLdFN6nBVYdm",
        "colab_type": "code",
        "outputId": "221f02af-4a46-49a2-a17f-450090630edc",
        "colab": {
          "base_uri": "https://localhost:8080/",
          "height": 366
        }
      },
      "source": [
        "plt.title('Character Error Rate: IAM to Rimes')\n",
        "plt.xlabel('Epochs')\n",
        "plt.ylabel('Character Error Rate')\n",
        "plt.plot(iam_to_rimes_cers[0], label='IAM Train')\n",
        "plt.plot(iam_to_rimes_cers[1], label='IAM Val')\n",
        "plt.plot(iam_to_rimes_cers[2], label='Rimes')\n",
        "plt.legend()\n",
        "plt.show()\n",
        "print('Train:', iam_to_rimes_cers[0])\n",
        "print('Val:', iam_to_rimes_cers[1])\n",
        "print('Test:', iam_to_rimes_cers[2])"
      ],
      "execution_count": 0,
      "outputs": [
        {
          "output_type": "display_data",
          "data": {
            "image/png": "[encoded data removed]",
            "text/plain": [
              "<Figure size 432x288 with 1 Axes>"
            ]
          },
          "metadata": {
            "tags": []
          }
        },
        {
          "output_type": "stream",
          "text": [
            "Train: [1.0401590473184223, 1.0, 1.0, 1.0, 0.999806216931217, 0.998764673463111, 0.945977441794997, 0.8747019000208097, 0.8406623856043409, 0.8319799546264136, 0.8203795013224435, 0.7999150135897816, 0.7848920738193911, 0.7625678453449787, 0.7464749001000791, 0.7351007743288703, 0.7117775131163627, 0.6972019252807806, 0.6819153380637465, 0.669244309112227, 0.6589343760067976, 0.6467182349957118, 0.6422326429427484, 0.6286961503648713, 0.6273260451807037, 0.613202109873772, 0.6065204388061199, 0.5977343815610988, 0.5905715764604261, 0.5837549107425656, 0.5718427684075613, 0.5636860963545899, 0.554513898531057, 0.5459472387075714, 0.5350457511308565, 0.5310785916699471, 0.5198420179019395, 0.5127188727260369, 0.5015153292914516, 0.4946358044394761, 0.4819727238322536, 0.47611797093765945, 0.46546720217436643, 0.4568180972258807, 0.44838415167706963, 0.4383253081862167, 0.43234157931887224, 0.4180610872372095, 0.41132491510163244, 0.40272310403985134, 0.39269925549936674, 0.3800649614369476, 0.37588689943563197, 0.36228235576647433, 0.35131854085224345, 0.3407827445067044, 0.33220235998450004, 0.3225012638949171, 0.3091034100339876, 0.3006186963467246, 0.28969529546587885, 0.2801905880953626, 0.27113966675792817, 0.2594309590558865, 0.2461984301783886, 0.2387979780671828, 0.22888265302003208, 0.21429674068370855, 0.20789343748589587, 0.19668480441395983, 0.1851978478392952, 0.17635017172638592, 0.16302806949332202, 0.14899131716612848, 0.1383415331173313, 0.13320281244168627, 0.12572248081546647, 0.11199599400481268, 0.10485092891105856, 0.09534977321851838, 0.0873144630230737, 0.08165969281281298, 0.07284075978684627, 0.06299500902326947, 0.05584396921269019, 0.05131372738709233, 0.05258064756182499, 0.04684885584545027, 0.03925119160971038, 0.03092371225856617, 0.03408048418783229, 0.03914762732859675, 0.04197472736295782, 0.04161433274668085, 0.031043020633548885, 0.028029456548317812, 0.019932954433409155, 0.015525045152681568, 0.01256353010773483, 0.005873906924545469]\n",
            "Val: [1.0, 1.0, 1.0, 1.0, 1.0, 0.9966762293262293, 0.9114369551064403, 0.8572387689652397, 0.831955681450902, 0.823541443374164, 0.8057090119167326, 0.8147113230995583, 0.7819755227207432, 0.738958873098579, 0.7576744450946657, 0.7142379339206545, 0.7044958889286095, 0.6803046287318345, 0.6824351297123356, 0.6671342303801863, 0.6477929303131509, 0.6509623756825963, 0.6450439824336883, 0.6242307071196778, 0.6336174687376893, 0.6146636632838839, 0.6099320016584723, 0.5995519370471576, 0.5920973242987949, 0.5879305491757697, 0.5806883941766295, 0.5657530067427127, 0.5594395427965281, 0.5510122679199885, 0.5453776615541321, 0.5458154372044078, 0.5308875393397452, 0.5216820677280236, 0.5133654042988601, 0.5076557033516592, 0.4988396414723621, 0.49335710248357306, 0.48982126910398965, 0.47646503614849206, 0.4651793999573412, 0.46629000809919924, 0.4637226411388176, 0.4488528521995434, 0.4399075859597918, 0.4386457927285134, 0.43974453951549536, 0.42606059521905104, 0.42585577573298156, 0.42135245451716036, 0.41667697883543475, 0.41642755864777925, 0.40309288538259125, 0.3996274829609388, 0.4004466048113107, 0.39525568832039415, 0.3902294771949184, 0.39004783830004414, 0.39509975427622485, 0.38631418901088016, 0.39053426536698593, 0.38241752555723146, 0.3795291204438264, 0.37880709224054815, 0.38596542411836526, 0.3951449758846817, 0.38524630511101093, 0.38320841899113955, 0.3894188887093299, 0.3863957281416841, 0.38745420485016074, 0.38794880515726105, 0.38370263542285593, 0.3874465775237834, 0.38686614776835365, 0.39184401791019435, 0.4007559179518738, 0.3953603822375881, 0.39335829897226954, 0.3943159113626025, 0.39633531702502295, 0.3967692085964145, 0.40230024970944084, 0.3943899670046728, 0.39775946724843786, 0.4021830549352608, 0.4004795045504604, 0.39596758931428044, 0.40449757615750265, 0.4019134450788862, 0.39836222398244453, 0.4007585083489495, 0.3951376812593725, 0.40021613620584207, 0.3925466611003376, 0.38615501353221937]\n",
            "Test: [1.0, 1.0, 1.0, 1.0, 1.0, 0.9945362854737854, 0.9483189806524172, 0.8828081569479712, 0.8634926443349393, 0.9132251650671309, 0.904493871842382, 0.9231070492477651, 0.8867774267475158, 0.856387665053528, 0.871310784543687, 0.8616687763666789, 0.8774263091940452, 0.8716490933271236, 0.8595068750069447, 0.8646310535136231, 0.8526422583102885, 0.8593117431480628, 0.859664420253093, 0.8425346246320473, 0.8556062547149275, 0.8428931632366887, 0.8503593344967726, 0.845739823628384, 0.849624494112412, 0.8574469155954411, 0.8409128388987174, 0.8642609164230449, 0.8484702760258603, 0.8296181671815456, 0.8191452365011149, 0.8227846976846396, 0.8270013438795752, 0.823464191095712, 0.819284879198459, 0.8164587175278855, 0.8127134228089878, 0.7957059988079802, 0.8018702658236445, 0.7904191208745388, 0.788793275651507, 0.7968246545006994, 0.7875809711042023, 0.7591780080521761, 0.761651770109835, 0.7733775028342831, 0.7752375164073112, 0.7610780557631797, 0.7741175942203652, 0.7643279482439932, 0.7666944149118569, 0.7644446318314468, 0.7560153776698592, 0.7423083212063708, 0.7555175552593548, 0.7534934591172787, 0.7401881849190827, 0.7630142960682821, 0.7553203965072309, 0.7447080512653268, 0.7522134063595789, 0.7298999042306165, 0.7419101643816852, 0.7505107426977048, 0.7581203868654566, 0.7559667427093317, 0.7480578565526321, 0.7525604987136759, 0.7656019740248571, 0.7636962934071718, 0.7628890577397892, 0.7580777042648328, 0.7597318833782031, 0.7553894465829721, 0.748580691541717, 0.7614561841067143, 0.7867039243294546, 0.7694421629100461, 0.7613168946305673, 0.7702391855306716, 0.7716103421960736, 0.7761377263261049, 0.780808576586955, 0.7539802866980228, 0.7719374627661354, 0.77330734152572, 0.785964848555727, 0.7614414042358857, 0.7716350014141345, 0.7744556740421601, 0.7613520925793333, 0.767861326102518, 0.775554111780892, 0.7665398723472949, 0.7771862571763462, 0.7607078413329305]\n"
          ],
          "name": "stdout"
        }
      ]
    },
    {
      "cell_type": "code",
      "metadata": {
        "id": "yn0FCiiEV6Y7",
        "colab_type": "code",
        "outputId": "cb4928e6-a2d4-4ffd-de4e-190120bbeea0",
        "colab": {
          "base_uri": "https://localhost:8080/",
          "height": 366
        }
      },
      "source": [
        "plt.title('Word Error Rate: IAM to Rimes')\n",
        "plt.xlabel('Epochs')\n",
        "plt.ylabel('Word Error Rate')\n",
        "plt.plot(iam_to_rimes_wers[0], label='IAM Train')\n",
        "plt.plot(iam_to_rimes_wers[1], label='IAM Val')\n",
        "plt.plot(iam_to_rimes_wers[2], label='Rimes')\n",
        "plt.legend()\n",
        "plt.show()\n",
        "print('Train:', iam_to_rimes_wers[0])\n",
        "print('Val:', iam_to_rimes_wers[1])\n",
        "print('Test:', iam_to_rimes_wers[2])"
      ],
      "execution_count": 0,
      "outputs": [
        {
          "output_type": "display_data",
          "data": {
            "image/png": "[encoded data removed]",
            "text/plain": [
              "<Figure size 432x288 with 1 Axes>"
            ]
          },
          "metadata": {
            "tags": []
          }
        },
        {
          "output_type": "stream",
          "text": [
            "Train: [1.0104166666666667, 1.0, 1.0, 1.0, 1.0, 1.0, 0.9819583333333334, 0.9502083333333333, 0.9379583333333334, 0.9303750000000001, 0.9257916666666667, 0.9196250000000002, 0.9131666666666667, 0.9069583333333334, 0.8930833333333336, 0.884125, 0.8663333333333334, 0.8520416666666667, 0.8376250000000001, 0.8304166666666667, 0.8199583333333335, 0.8120833333333334, 0.8062916666666667, 0.7960000000000002, 0.7962083333333334, 0.7840416666666666, 0.7795000000000001, 0.7760833333333332, 0.7716249999999999, 0.7672916666666666, 0.7601666666666667, 0.7539583333333333, 0.7485833333333334, 0.7419583333333333, 0.7357083333333333, 0.7341666666666665, 0.7241666666666667, 0.7213333333333333, 0.712875, 0.7096666666666666, 0.7009166666666666, 0.6982083333333332, 0.6915, 0.6852916666666666, 0.6818750000000001, 0.6745416666666667, 0.6715833333333333, 0.6633333333333332, 0.6600833333333332, 0.656375, 0.6502083333333333, 0.6420416666666666, 0.6410833333333333, 0.6294583333333333, 0.6235416666666667, 0.61675, 0.6111249999999999, 0.603375, 0.5938749999999999, 0.5894583333333333, 0.5791666666666666, 0.5719583333333333, 0.564625, 0.5546666666666666, 0.5437083333333333, 0.5376249999999999, 0.52825, 0.5169583333333333, 0.5094166666666666, 0.49750000000000005, 0.48445833333333327, 0.4722083333333334, 0.4563333333333333, 0.43920833333333337, 0.42050000000000004, 0.4095416666666667, 0.4024166666666666, 0.3737916666666666, 0.35733333333333334, 0.3431666666666666, 0.32112499999999994, 0.31112499999999993, 0.28495833333333326, 0.25904166666666667, 0.23720833333333333, 0.22054166666666666, 0.22483333333333336, 0.2038333333333333, 0.17770833333333333, 0.14666666666666664, 0.1552083333333333, 0.17104166666666665, 0.18204166666666666, 0.18054166666666668, 0.14291666666666666, 0.12875, 0.09375, 0.06983333333333334, 0.05475, 0.02887500000000001]\n",
            "Val: [1.0, 1.0, 1.0, 1.0, 1.0, 1.0, 0.9645, 0.9499999999999998, 0.9565, 0.9268333333333333, 0.9185, 0.9215, 0.9136666666666667, 0.8893333333333334, 0.9106666666666667, 0.8740000000000001, 0.851, 0.8353333333333334, 0.8424999999999999, 0.8291666666666666, 0.8088333333333333, 0.8166666666666668, 0.8113333333333334, 0.7996666666666666, 0.7935, 0.7898333333333333, 0.7911666666666667, 0.7836666666666666, 0.7760000000000001, 0.7719999999999999, 0.7706666666666667, 0.7538333333333332, 0.7506666666666666, 0.7501666666666665, 0.7433333333333332, 0.7471666666666668, 0.7391666666666667, 0.7284999999999999, 0.7233333333333333, 0.7195, 0.7073333333333333, 0.7128333333333333, 0.7090000000000001, 0.6971666666666666, 0.6841666666666666, 0.6901666666666667, 0.6911666666666667, 0.6854999999999999, 0.6769999999999999, 0.6796666666666668, 0.6796666666666668, 0.6758333333333333, 0.6716666666666665, 0.6698333333333334, 0.6646666666666666, 0.6689999999999999, 0.6568333333333333, 0.6503333333333333, 0.6548333333333333, 0.6511666666666667, 0.6511666666666667, 0.6448333333333333, 0.6468333333333333, 0.6409999999999999, 0.6435, 0.6388333333333333, 0.6351666666666667, 0.6315, 0.6343333333333333, 0.6483333333333333, 0.6393333333333333, 0.6391666666666667, 0.6456666666666666, 0.6361666666666667, 0.6436666666666667, 0.6403333333333333, 0.6355, 0.6441666666666667, 0.636, 0.6433333333333333, 0.6425, 0.6456666666666667, 0.6441666666666667, 0.6455000000000001, 0.6415000000000001, 0.6463333333333333, 0.6475, 0.644, 0.6425, 0.648, 0.6423333333333333, 0.6521666666666667, 0.6496666666666666, 0.645, 0.645, 0.6458333333333334, 0.6448333333333333, 0.65, 0.6395, 0.6401666666666667]\n",
            "Test: [1.0, 1.0, 1.0, 1.0, 1.0, 1.0, 0.9999666666666668, 1.0, 0.9992666666666667, 0.9991000000000001, 0.9987666666666667, 0.9985, 0.9984333333333334, 0.9983000000000002, 0.9988666666666667, 0.9981333333333334, 0.9980666666666667, 0.9982333333333334, 0.9982000000000001, 0.9980333333333334, 0.9980333333333334, 0.9982666666666666, 0.9980333333333334, 0.9979333333333334, 0.9980666666666668, 0.9983666666666667, 0.9977666666666667, 0.9978333333333335, 0.9977666666666668, 0.9974666666666667, 0.9977000000000001, 0.9978, 0.9974333333333334, 0.9976666666666667, 0.9974333333333334, 0.9971666666666669, 0.9978666666666667, 0.9973000000000002, 0.9975333333333334, 0.9976000000000002, 0.9968333333333335, 0.9968000000000001, 0.9975333333333334, 0.9967666666666666, 0.9973333333333334, 0.9965, 0.9965, 0.9960333333333333, 0.9952333333333335, 0.9956666666666668, 0.9940000000000001, 0.9945, 0.9948, 0.9947333333333334, 0.9943333333333335, 0.9942666666666667, 0.9924, 0.9893000000000001, 0.9916333333333333, 0.9916333333333334, 0.9915666666666667, 0.9927666666666667, 0.9898000000000001, 0.9824666666666667, 0.9919666666666668, 0.9818666666666667, 0.9841333333333332, 0.9878, 0.9821333333333333, 0.9798000000000001, 0.9872666666666666, 0.9873666666666666, 0.9905000000000002, 0.9881, 0.9873, 0.9883333333333333, 0.9855666666666667, 0.9863999999999999, 0.9763666666666667, 0.9867666666666666, 0.9868333333333333, 0.9840666666666666, 0.9863000000000001, 0.9860333333333333, 0.9856333333333333, 0.9887333333333334, 0.9842000000000001, 0.9771000000000001, 0.9814, 0.9802666666666665, 0.9863, 0.9812333333333334, 0.981, 0.9802666666666667, 0.9791666666666666, 0.9769333333333332, 0.9877333333333334, 0.9848999999999999, 0.9884666666666668, 0.9834]\n"
          ],
          "name": "stdout"
        }
      ]
    },
    {
      "cell_type": "markdown",
      "metadata": {
        "id": "zPb6WAVioDwI",
        "colab_type": "text"
      },
      "source": [
        "## Train on the Rimes Dataset, Test on the Iam Dataset"
      ]
    },
    {
      "cell_type": "markdown",
      "metadata": {
        "id": "P70FWeg5ozOm",
        "colab_type": "text"
      },
      "source": [
        "### Train Loop"
      ]
    },
    {
      "cell_type": "code",
      "metadata": {
        "id": "6_9Si1GroMcN",
        "colab_type": "code",
        "outputId": "3303ba02-d070-4db1-a346-08261a059f4d",
        "colab": {
          "base_uri": "https://localhost:8080/",
          "height": 1000
        }
      },
      "source": [
        "rimes_dataset = RimesDataset(desired_size=(32, 128), total_imgs=30000)\n",
        "\n",
        "rimes_train_size = int(.8 * len(rimes_dataset))\n",
        "rimes_val_size = len(rimes_dataset) - rimes_train_size\n",
        "\n",
        "rimes_train_dataset, rimes_val_dataset = torch.utils.data.random_split(rimes_dataset, [rimes_train_size, rimes_val_size])\n",
        "\n",
        "iam_dataset = IamDataset(desired_size=(32, 128), total_imgs=30000)\n",
        "\n",
        "rimes_to_iam_recognizer, rimes_to_iam_losses, rimes_to_iam_cers, rimes_to_iam_wers = train(rimes_train_dataset, rimes_val_dataset, iam_dataset)"
      ],
      "execution_count": 0,
      "outputs": [
        {
          "output_type": "stream",
          "text": [
            "Train - Epoch: 0, Loss: 16.8285, CER: 1.0000, WER: 1.0000, AvgLoss: 30.4208, AvgCER: 1.2084, AvgWER: 1.0107: 100%|██████████| 96/96 [00:31<00:00,  3.07it/s]\n",
            "Val   - Epoch: 0, Loss: 18.8274, CER: 1.0000, WER: 1.0000, AvgLoss: 18.1716, AvgCER: 1.0000, AvgWER: 1.0000: 100%|██████████| 24/24 [00:05<00:00,  4.54it/s]\n",
            "Test  - Epoch: 0, Loss: 18.2049, CER: 1.0000, WER: 1.0000, AvgLoss: 17.8603, AvgCER: 1.0000, AvgWER: 1.0000: 100%|██████████| 120/120 [00:24<00:00,  4.90it/s]\n",
            "Train - Epoch: 1, Loss: 16.6592, CER: 0.9298, WER: 1.0000, AvgLoss: 17.3892, AvgCER: 0.9781, AvgWER: 1.0000: 100%|██████████| 96/96 [00:30<00:00,  3.11it/s]\n",
            "Val   - Epoch: 1, Loss: 15.9383, CER: 1.0000, WER: 1.0000, AvgLoss: 17.0093, AvgCER: 0.9999, AvgWER: 1.0000: 100%|██████████| 24/24 [00:05<00:00,  4.46it/s]\n",
            "Test  - Epoch: 1, Loss: 16.9962, CER: 0.9990, WER: 1.0000, AvgLoss: 18.1094, AvgCER: 0.9993, AvgWER: 1.0000: 100%|██████████| 120/120 [00:24<00:00,  4.87it/s]\n",
            "Train - Epoch: 2, Loss: 17.8804, CER: 1.0000, WER: 1.0000, AvgLoss: 19.4596, AvgCER: 1.0473, AvgWER: 1.0007: 100%|██████████| 96/96 [00:30<00:00,  3.11it/s]\n",
            "Val   - Epoch: 2, Loss: 18.4466, CER: 1.0000, WER: 1.0000, AvgLoss: 17.7863, AvgCER: 1.0000, AvgWER: 1.0000: 100%|██████████| 24/24 [00:05<00:00,  4.57it/s]\n",
            "Test  - Epoch: 2, Loss: 20.2377, CER: 1.0000, WER: 1.0000, AvgLoss: 18.6937, AvgCER: 1.0000, AvgWER: 1.0000: 100%|██████████| 120/120 [00:24<00:00,  4.88it/s]\n",
            "Train - Epoch: 3, Loss: 16.5566, CER: 0.9388, WER: 1.0000, AvgLoss: 17.3270, AvgCER: 0.9510, AvgWER: 0.9978: 100%|██████████| 96/96 [00:30<00:00,  3.10it/s]\n",
            "Val   - Epoch: 3, Loss: 16.7694, CER: 0.9464, WER: 1.0000, AvgLoss: 17.0342, AvgCER: 0.9400, AvgWER: 1.0000: 100%|██████████| 24/24 [00:05<00:00,  4.50it/s]\n",
            "Test  - Epoch: 3, Loss: 18.0094, CER: 0.9772, WER: 1.0000, AvgLoss: 18.4007, AvgCER: 0.9723, AvgWER: 1.0000: 100%|██████████| 120/120 [00:25<00:00,  4.77it/s]\n",
            "Train - Epoch: 4, Loss: 16.2463, CER: 0.8001, WER: 0.9160, AvgLoss: 16.4232, AvgCER: 0.8578, AvgWER: 0.9551: 100%|██████████| 96/96 [00:31<00:00,  3.07it/s]\n",
            "Val   - Epoch: 4, Loss: 16.3723, CER: 0.8071, WER: 0.9280, AvgLoss: 16.4072, AvgCER: 0.8197, AvgWER: 0.9333: 100%|██████████| 24/24 [00:05<00:00,  4.44it/s]\n",
            "Test  - Epoch: 4, Loss: 18.9802, CER: 0.9627, WER: 1.0000, AvgLoss: 18.0480, AvgCER: 0.9825, AvgWER: 0.9998: 100%|██████████| 120/120 [00:25<00:00,  4.72it/s]\n",
            "Train - Epoch: 5, Loss: 16.4182, CER: 0.8663, WER: 0.9520, AvgLoss: 15.8749, AvgCER: 0.8247, AvgWER: 0.9339: 100%|██████████| 96/96 [00:31<00:00,  3.07it/s]\n",
            "Val   - Epoch: 5, Loss: 15.8297, CER: 0.8050, WER: 0.9240, AvgLoss: 15.7213, AvgCER: 0.7986, AvgWER: 0.9315: 100%|██████████| 24/24 [00:05<00:00,  4.36it/s]\n",
            "Test  - Epoch: 5, Loss: 17.9047, CER: 1.0144, WER: 1.0000, AvgLoss: 17.7315, AvgCER: 1.0325, AvgWER: 0.9998: 100%|██████████| 120/120 [00:25<00:00,  4.74it/s]\n",
            "Train - Epoch: 6, Loss: 13.6042, CER: 0.7870, WER: 0.9320, AvgLoss: 15.2862, AvgCER: 0.8079, AvgWER: 0.9311: 100%|██████████| 96/96 [00:31<00:00,  3.05it/s]\n",
            "Val   - Epoch: 6, Loss: 14.7978, CER: 0.7532, WER: 0.9120, AvgLoss: 15.0922, AvgCER: 0.7896, AvgWER: 0.9255: 100%|██████████| 24/24 [00:05<00:00,  4.40it/s]\n",
            "Test  - Epoch: 6, Loss: 18.1211, CER: 1.0276, WER: 1.0000, AvgLoss: 17.6525, AvgCER: 1.0292, AvgWER: 0.9998: 100%|██████████| 120/120 [00:25<00:00,  4.68it/s]\n",
            "Train - Epoch: 7, Loss: 14.3748, CER: 0.7801, WER: 0.9320, AvgLoss: 14.5805, AvgCER: 0.7695, AvgWER: 0.9205: 100%|██████████| 96/96 [00:31<00:00,  3.04it/s]\n",
            "Val   - Epoch: 7, Loss: 13.8463, CER: 0.7630, WER: 0.9280, AvgLoss: 14.3408, AvgCER: 0.7493, AvgWER: 0.9160: 100%|██████████| 24/24 [00:05<00:00,  4.32it/s]\n",
            "Test  - Epoch: 7, Loss: 17.7712, CER: 1.0060, WER: 1.0000, AvgLoss: 17.5895, AvgCER: 1.0207, AvgWER: 0.9998: 100%|██████████| 120/120 [00:25<00:00,  4.71it/s]\n",
            "Train - Epoch: 8, Loss: 14.3375, CER: 0.7567, WER: 0.9080, AvgLoss: 14.1372, AvgCER: 0.7480, AvgWER: 0.9200: 100%|██████████| 96/96 [00:31<00:00,  3.05it/s]\n",
            "Val   - Epoch: 8, Loss: 14.6804, CER: 0.7382, WER: 0.9200, AvgLoss: 14.1144, AvgCER: 0.7491, AvgWER: 0.9162: 100%|██████████| 24/24 [00:05<00:00,  4.34it/s]\n",
            "Test  - Epoch: 8, Loss: 16.7084, CER: 0.9923, WER: 0.9960, AvgLoss: 17.9847, AvgCER: 1.0100, AvgWER: 0.9998: 100%|██████████| 120/120 [00:25<00:00,  4.69it/s]\n",
            "Train - Epoch: 9, Loss: 13.7026, CER: 0.7186, WER: 0.9040, AvgLoss: 13.8813, AvgCER: 0.7351, AvgWER: 0.9150: 100%|██████████| 96/96 [00:31<00:00,  3.04it/s]\n",
            "Val   - Epoch: 9, Loss: 11.6924, CER: 0.6993, WER: 0.8600, AvgLoss: 13.8139, AvgCER: 0.7348, AvgWER: 0.9078: 100%|██████████| 24/24 [00:05<00:00,  4.38it/s]\n",
            "Test  - Epoch: 9, Loss: 17.8737, CER: 1.0168, WER: 1.0000, AvgLoss: 18.0124, AvgCER: 1.0014, AvgWER: 0.9998: 100%|██████████| 120/120 [00:25<00:00,  4.68it/s]\n",
            "Train - Epoch: 10, Loss: 13.4681, CER: 0.6984, WER: 0.8920, AvgLoss: 13.5659, AvgCER: 0.7188, AvgWER: 0.9056: 100%|██████████| 96/96 [00:31<00:00,  3.02it/s]\n",
            "Val   - Epoch: 10, Loss: 13.8037, CER: 0.7258, WER: 0.9040, AvgLoss: 13.6382, AvgCER: 0.7152, AvgWER: 0.8950: 100%|██████████| 24/24 [00:05<00:00,  4.27it/s]\n",
            "Test  - Epoch: 10, Loss: 18.7994, CER: 1.0100, WER: 0.9960, AvgLoss: 18.2618, AvgCER: 1.0084, AvgWER: 0.9998: 100%|██████████| 120/120 [00:25<00:00,  4.65it/s]\n",
            "Train - Epoch: 11, Loss: 12.8566, CER: 0.6525, WER: 0.8440, AvgLoss: 13.2701, AvgCER: 0.6991, AvgWER: 0.8925: 100%|██████████| 96/96 [00:31<00:00,  3.01it/s]\n",
            "Val   - Epoch: 11, Loss: 12.2684, CER: 0.6720, WER: 0.8640, AvgLoss: 13.2224, AvgCER: 0.6878, AvgWER: 0.8830: 100%|██████████| 24/24 [00:05<00:00,  4.27it/s]\n",
            "Test  - Epoch: 11, Loss: 17.6708, CER: 0.9495, WER: 1.0000, AvgLoss: 17.7744, AvgCER: 0.9844, AvgWER: 0.9998: 100%|██████████| 120/120 [00:25<00:00,  4.62it/s]\n",
            "Train - Epoch: 12, Loss: 12.9559, CER: 0.6527, WER: 0.8600, AvgLoss: 13.0581, AvgCER: 0.6858, AvgWER: 0.8853: 100%|██████████| 96/96 [00:31<00:00,  3.01it/s]\n",
            "Val   - Epoch: 12, Loss: 12.7868, CER: 0.6845, WER: 0.8920, AvgLoss: 12.9994, AvgCER: 0.6807, AvgWER: 0.8870: 100%|██████████| 24/24 [00:05<00:00,  4.30it/s]\n",
            "Test  - Epoch: 12, Loss: 17.8549, CER: 0.9657, WER: 1.0000, AvgLoss: 17.5167, AvgCER: 0.9422, AvgWER: 0.9997: 100%|██████████| 120/120 [00:25<00:00,  4.64it/s]\n",
            "Train - Epoch: 13, Loss: 13.5614, CER: 0.6950, WER: 0.8960, AvgLoss: 12.8082, AvgCER: 0.6726, AvgWER: 0.8748: 100%|██████████| 96/96 [00:31<00:00,  3.01it/s]\n",
            "Val   - Epoch: 13, Loss: 12.5978, CER: 0.6623, WER: 0.8720, AvgLoss: 12.7690, AvgCER: 0.6604, AvgWER: 0.8683: 100%|██████████| 24/24 [00:05<00:00,  4.24it/s]\n",
            "Test  - Epoch: 13, Loss: 17.1785, CER: 0.9791, WER: 1.0000, AvgLoss: 17.4431, AvgCER: 0.9539, AvgWER: 0.9990: 100%|██████████| 120/120 [00:26<00:00,  4.59it/s]\n",
            "Train - Epoch: 14, Loss: 13.6700, CER: 0.6561, WER: 0.8600, AvgLoss: 12.5636, AvgCER: 0.6564, AvgWER: 0.8683: 100%|██████████| 96/96 [00:32<00:00,  2.99it/s]\n",
            "Val   - Epoch: 14, Loss: 12.3966, CER: 0.6719, WER: 0.8600, AvgLoss: 12.5856, AvgCER: 0.6621, AvgWER: 0.8663: 100%|██████████| 24/24 [00:05<00:00,  4.32it/s]\n",
            "Test  - Epoch: 14, Loss: 18.2011, CER: 0.9569, WER: 0.9960, AvgLoss: 17.8088, AvgCER: 0.9639, AvgWER: 0.9994: 100%|██████████| 120/120 [00:25<00:00,  4.63it/s]\n",
            "Train - Epoch: 15, Loss: 12.8291, CER: 0.6594, WER: 0.8680, AvgLoss: 12.3706, AvgCER: 0.6482, AvgWER: 0.8637: 100%|██████████| 96/96 [00:32<00:00,  3.00it/s]\n",
            "Val   - Epoch: 15, Loss: 13.2465, CER: 0.6917, WER: 0.9200, AvgLoss: 12.2782, AvgCER: 0.6335, AvgWER: 0.8518: 100%|██████████| 24/24 [00:05<00:00,  4.33it/s]\n",
            "Test  - Epoch: 15, Loss: 17.5042, CER: 0.9551, WER: 1.0000, AvgLoss: 17.8066, AvgCER: 0.9570, AvgWER: 0.9992: 100%|██████████| 120/120 [00:26<00:00,  4.56it/s]\n",
            "Train - Epoch: 16, Loss: 13.8323, CER: 0.6539, WER: 0.8760, AvgLoss: 12.1288, AvgCER: 0.6322, AvgWER: 0.8544: 100%|██████████| 96/96 [00:31<00:00,  3.00it/s]\n",
            "Val   - Epoch: 16, Loss: 12.3659, CER: 0.6530, WER: 0.8800, AvgLoss: 12.1145, AvgCER: 0.6241, AvgWER: 0.8505: 100%|██████████| 24/24 [00:05<00:00,  4.22it/s]\n",
            "Test  - Epoch: 16, Loss: 17.4191, CER: 0.9848, WER: 1.0000, AvgLoss: 17.8110, AvgCER: 0.9609, AvgWER: 0.9995: 100%|██████████| 120/120 [00:26<00:00,  4.60it/s]\n",
            "Train - Epoch: 17, Loss: 12.2434, CER: 0.6507, WER: 0.8440, AvgLoss: 11.8790, AvgCER: 0.6174, AvgWER: 0.8466: 100%|██████████| 96/96 [00:32<00:00,  2.99it/s]\n",
            "Val   - Epoch: 17, Loss: 12.2031, CER: 0.5833, WER: 0.8360, AvgLoss: 11.9263, AvgCER: 0.6127, AvgWER: 0.8485: 100%|██████████| 24/24 [00:05<00:00,  4.23it/s]\n",
            "Test  - Epoch: 17, Loss: 17.4816, CER: 0.9923, WER: 1.0000, AvgLoss: 17.7142, AvgCER: 0.9784, AvgWER: 0.9994: 100%|██████████| 120/120 [00:26<00:00,  4.57it/s]\n",
            "Train - Epoch: 18, Loss: 12.3150, CER: 0.5774, WER: 0.8040, AvgLoss: 11.6411, AvgCER: 0.6014, AvgWER: 0.8380: 100%|██████████| 96/96 [00:32<00:00,  2.99it/s]\n",
            "Val   - Epoch: 18, Loss: 12.1817, CER: 0.6298, WER: 0.8240, AvgLoss: 11.8239, AvgCER: 0.6083, AvgWER: 0.8435: 100%|██████████| 24/24 [00:05<00:00,  4.27it/s]\n",
            "Test  - Epoch: 18, Loss: 18.2226, CER: 0.9292, WER: 1.0000, AvgLoss: 17.6035, AvgCER: 0.9131, AvgWER: 0.9995: 100%|██████████| 120/120 [00:26<00:00,  4.58it/s]\n",
            "Train - Epoch: 19, Loss: 10.2468, CER: 0.5754, WER: 0.8320, AvgLoss: 11.4525, AvgCER: 0.5904, AvgWER: 0.8310: 100%|██████████| 96/96 [00:32<00:00,  2.98it/s]\n",
            "Val   - Epoch: 19, Loss: 12.1928, CER: 0.6000, WER: 0.8520, AvgLoss: 11.5425, AvgCER: 0.5927, AvgWER: 0.8390: 100%|██████████| 24/24 [00:05<00:00,  4.20it/s]\n",
            "Test  - Epoch: 19, Loss: 18.0432, CER: 0.9825, WER: 1.0000, AvgLoss: 17.8453, AvgCER: 0.9477, AvgWER: 0.9982: 100%|██████████| 120/120 [00:26<00:00,  4.57it/s]\n",
            "Train - Epoch: 20, Loss: 10.7902, CER: 0.5839, WER: 0.8320, AvgLoss: 11.2047, AvgCER: 0.5742, AvgWER: 0.8207: 100%|██████████| 96/96 [00:32<00:00,  2.98it/s]\n",
            "Val   - Epoch: 20, Loss: 11.9187, CER: 0.5862, WER: 0.8400, AvgLoss: 11.3494, AvgCER: 0.5761, AvgWER: 0.8318: 100%|██████████| 24/24 [00:05<00:00,  4.14it/s]\n",
            "Test  - Epoch: 20, Loss: 17.1037, CER: 0.9584, WER: 1.0000, AvgLoss: 17.9086, AvgCER: 0.9964, AvgWER: 0.9990: 100%|██████████| 120/120 [00:26<00:00,  4.55it/s]\n",
            "Train - Epoch: 21, Loss: 10.4093, CER: 0.5591, WER: 0.8040, AvgLoss: 10.9898, AvgCER: 0.5618, AvgWER: 0.8126: 100%|██████████| 96/96 [00:31<00:00,  3.00it/s]\n",
            "Val   - Epoch: 21, Loss: 10.4428, CER: 0.5252, WER: 0.7640, AvgLoss: 11.1920, AvgCER: 0.5648, AvgWER: 0.8170: 100%|██████████| 24/24 [00:05<00:00,  4.22it/s]\n",
            "Test  - Epoch: 21, Loss: 17.8413, CER: 0.9592, WER: 1.0000, AvgLoss: 17.9642, AvgCER: 0.9307, AvgWER: 0.9986: 100%|██████████| 120/120 [00:26<00:00,  4.57it/s]\n",
            "Train - Epoch: 22, Loss: 10.7220, CER: 0.5488, WER: 0.8280, AvgLoss: 10.7155, AvgCER: 0.5454, AvgWER: 0.8027: 100%|██████████| 96/96 [00:32<00:00,  3.00it/s]\n",
            "Val   - Epoch: 22, Loss: 11.4439, CER: 0.5676, WER: 0.8280, AvgLoss: 10.9318, AvgCER: 0.5569, AvgWER: 0.8048: 100%|██████████| 24/24 [00:05<00:00,  4.21it/s]\n",
            "Test  - Epoch: 22, Loss: 17.2955, CER: 0.8948, WER: 0.9960, AvgLoss: 17.7507, AvgCER: 0.9331, AvgWER: 0.9977: 100%|██████████| 120/120 [00:26<00:00,  4.60it/s]\n",
            "Train - Epoch: 23, Loss: 9.9031, CER: 0.5172, WER: 0.7760, AvgLoss: 10.5058, AvgCER: 0.5310, AvgWER: 0.7926: 100%|██████████| 96/96 [00:32<00:00,  2.97it/s]\n",
            "Val   - Epoch: 23, Loss: 10.6780, CER: 0.5192, WER: 0.7760, AvgLoss: 10.6633, AvgCER: 0.5268, AvgWER: 0.7863: 100%|██████████| 24/24 [00:05<00:00,  4.16it/s]\n",
            "Test  - Epoch: 23, Loss: 18.3547, CER: 0.9122, WER: 1.0000, AvgLoss: 17.5880, AvgCER: 0.9267, AvgWER: 0.9985: 100%|██████████| 120/120 [00:26<00:00,  4.57it/s]\n",
            "Train - Epoch: 24, Loss: 10.6625, CER: 0.5579, WER: 0.8280, AvgLoss: 10.2259, AvgCER: 0.5182, AvgWER: 0.7845: 100%|██████████| 96/96 [00:32<00:00,  2.97it/s]\n",
            "Val   - Epoch: 24, Loss: 10.6495, CER: 0.5468, WER: 0.8040, AvgLoss: 10.5156, AvgCER: 0.5239, AvgWER: 0.7853: 100%|██████████| 24/24 [00:05<00:00,  4.09it/s]\n",
            "Test  - Epoch: 24, Loss: 17.2149, CER: 0.8867, WER: 0.9960, AvgLoss: 17.6375, AvgCER: 0.9198, AvgWER: 0.9980: 100%|██████████| 120/120 [00:26<00:00,  4.59it/s]\n",
            "Train - Epoch: 25, Loss: 11.0808, CER: 0.5338, WER: 0.8240, AvgLoss: 9.9893, AvgCER: 0.5026, AvgWER: 0.7724: 100%|██████████| 96/96 [00:32<00:00,  2.98it/s]\n",
            "Val   - Epoch: 25, Loss: 10.3364, CER: 0.5195, WER: 0.7680, AvgLoss: 10.2754, AvgCER: 0.5100, AvgWER: 0.7717: 100%|██████████| 24/24 [00:05<00:00,  4.12it/s]\n",
            "Test  - Epoch: 25, Loss: 17.7241, CER: 0.9456, WER: 1.0000, AvgLoss: 17.8791, AvgCER: 0.9474, AvgWER: 0.9961: 100%|██████████| 120/120 [00:26<00:00,  4.51it/s]\n",
            "Train - Epoch: 26, Loss: 10.1664, CER: 0.4924, WER: 0.7960, AvgLoss: 9.7840, AvgCER: 0.4916, AvgWER: 0.7634: 100%|██████████| 96/96 [00:32<00:00,  2.97it/s]\n",
            "Val   - Epoch: 26, Loss: 9.6891, CER: 0.4899, WER: 0.7640, AvgLoss: 10.0189, AvgCER: 0.4945, AvgWER: 0.7610: 100%|██████████| 24/24 [00:05<00:00,  4.17it/s]\n",
            "Test  - Epoch: 26, Loss: 18.3254, CER: 0.9559, WER: 1.0000, AvgLoss: 17.9221, AvgCER: 0.9322, AvgWER: 0.9987: 100%|██████████| 120/120 [00:26<00:00,  4.47it/s]\n",
            "Train - Epoch: 27, Loss: 9.5126, CER: 0.4742, WER: 0.7120, AvgLoss: 9.4980, AvgCER: 0.4728, AvgWER: 0.7458: 100%|██████████| 96/96 [00:32<00:00,  2.98it/s]\n",
            "Val   - Epoch: 27, Loss: 9.8151, CER: 0.5055, WER: 0.7960, AvgLoss: 10.0565, AvgCER: 0.5007, AvgWER: 0.7747: 100%|██████████| 24/24 [00:05<00:00,  4.22it/s]\n",
            "Test  - Epoch: 27, Loss: 18.5524, CER: 0.9175, WER: 1.0000, AvgLoss: 17.7442, AvgCER: 0.9071, AvgWER: 0.9988: 100%|██████████| 120/120 [00:26<00:00,  4.59it/s]\n",
            "Train - Epoch: 28, Loss: 9.6908, CER: 0.4853, WER: 0.7600, AvgLoss: 9.3189, AvgCER: 0.4646, AvgWER: 0.7420: 100%|██████████| 96/96 [00:32<00:00,  2.96it/s]\n",
            "Val   - Epoch: 28, Loss: 9.5807, CER: 0.4635, WER: 0.7320, AvgLoss: 9.7041, AvgCER: 0.4777, AvgWER: 0.7393: 100%|██████████| 24/24 [00:05<00:00,  4.24it/s]\n",
            "Test  - Epoch: 28, Loss: 18.9394, CER: 0.9140, WER: 1.0000, AvgLoss: 17.7946, AvgCER: 0.9175, AvgWER: 0.9982: 100%|██████████| 120/120 [00:26<00:00,  4.54it/s]\n",
            "Train - Epoch: 29, Loss: 9.4222, CER: 0.4592, WER: 0.7200, AvgLoss: 9.0734, AvgCER: 0.4500, AvgWER: 0.7273: 100%|██████████| 96/96 [00:32<00:00,  2.97it/s]\n",
            "Val   - Epoch: 29, Loss: 9.6411, CER: 0.4584, WER: 0.7320, AvgLoss: 9.6919, AvgCER: 0.4713, AvgWER: 0.7448: 100%|██████████| 24/24 [00:05<00:00,  4.15it/s]\n",
            "Test  - Epoch: 29, Loss: 17.4369, CER: 0.9133, WER: 1.0000, AvgLoss: 18.3505, AvgCER: 0.9034, AvgWER: 0.9985: 100%|██████████| 120/120 [00:26<00:00,  4.53it/s]\n",
            "Train - Epoch: 30, Loss: 9.6544, CER: 0.4715, WER: 0.7600, AvgLoss: 8.8605, AvgCER: 0.4392, AvgWER: 0.7171: 100%|██████████| 96/96 [00:32<00:00,  2.97it/s]\n",
            "Val   - Epoch: 30, Loss: 9.3181, CER: 0.4679, WER: 0.7400, AvgLoss: 9.3992, AvgCER: 0.4555, AvgWER: 0.7315: 100%|██████████| 24/24 [00:05<00:00,  4.20it/s]\n",
            "Test  - Epoch: 30, Loss: 17.0957, CER: 0.9464, WER: 1.0000, AvgLoss: 17.7467, AvgCER: 0.9187, AvgWER: 0.9978: 100%|██████████| 120/120 [00:26<00:00,  4.51it/s]\n",
            "Train - Epoch: 31, Loss: 9.2552, CER: 0.4297, WER: 0.7280, AvgLoss: 8.6007, AvgCER: 0.4226, AvgWER: 0.7035: 100%|██████████| 96/96 [00:32<00:00,  2.96it/s]\n",
            "Val   - Epoch: 31, Loss: 9.4569, CER: 0.4562, WER: 0.7320, AvgLoss: 9.3301, AvgCER: 0.4462, AvgWER: 0.7177: 100%|██████████| 24/24 [00:05<00:00,  4.13it/s]\n",
            "Test  - Epoch: 31, Loss: 17.2606, CER: 0.9265, WER: 0.9920, AvgLoss: 18.4551, AvgCER: 0.9248, AvgWER: 0.9986: 100%|██████████| 120/120 [00:26<00:00,  4.52it/s]\n",
            "Train - Epoch: 32, Loss: 8.7485, CER: 0.4209, WER: 0.6840, AvgLoss: 8.3760, AvgCER: 0.4099, AvgWER: 0.6888: 100%|██████████| 96/96 [00:32<00:00,  2.96it/s]\n",
            "Val   - Epoch: 32, Loss: 9.2429, CER: 0.4418, WER: 0.6920, AvgLoss: 9.0503, AvgCER: 0.4338, AvgWER: 0.7065: 100%|██████████| 24/24 [00:05<00:00,  4.16it/s]\n",
            "Test  - Epoch: 32, Loss: 17.5380, CER: 0.8652, WER: 1.0000, AvgLoss: 17.9906, AvgCER: 0.8859, AvgWER: 0.9968: 100%|██████████| 120/120 [00:26<00:00,  4.53it/s]\n",
            "Train - Epoch: 33, Loss: 7.2815, CER: 0.3678, WER: 0.6320, AvgLoss: 8.0888, AvgCER: 0.3971, AvgWER: 0.6795: 100%|██████████| 96/96 [00:32<00:00,  2.97it/s]\n",
            "Val   - Epoch: 33, Loss: 9.1503, CER: 0.4584, WER: 0.7360, AvgLoss: 9.0450, AvgCER: 0.4351, AvgWER: 0.7110: 100%|██████████| 24/24 [00:05<00:00,  4.20it/s]\n",
            "Test  - Epoch: 33, Loss: 18.4266, CER: 0.8852, WER: 1.0000, AvgLoss: 17.7822, AvgCER: 0.8945, AvgWER: 0.9937: 100%|██████████| 120/120 [00:26<00:00,  4.59it/s]\n",
            "Train - Epoch: 34, Loss: 8.0927, CER: 0.4039, WER: 0.6720, AvgLoss: 7.8659, AvgCER: 0.3826, AvgWER: 0.6664: 100%|██████████| 96/96 [00:32<00:00,  2.98it/s]\n",
            "Val   - Epoch: 34, Loss: 8.2430, CER: 0.4054, WER: 0.6800, AvgLoss: 8.8176, AvgCER: 0.4154, AvgWER: 0.6877: 100%|██████████| 24/24 [00:05<00:00,  4.15it/s]\n",
            "Test  - Epoch: 34, Loss: 17.6737, CER: 0.8761, WER: 0.9920, AvgLoss: 18.0400, AvgCER: 0.8885, AvgWER: 0.9916: 100%|██████████| 120/120 [00:26<00:00,  4.54it/s]\n",
            "Train - Epoch: 35, Loss: 7.7825, CER: 0.3832, WER: 0.6800, AvgLoss: 7.6586, AvgCER: 0.3711, AvgWER: 0.6539: 100%|██████████| 96/96 [00:32<00:00,  2.97it/s]\n",
            "Val   - Epoch: 35, Loss: 7.8462, CER: 0.3794, WER: 0.6240, AvgLoss: 8.6776, AvgCER: 0.4058, AvgWER: 0.6755: 100%|██████████| 24/24 [00:05<00:00,  4.20it/s]\n",
            "Test  - Epoch: 35, Loss: 18.8022, CER: 0.9266, WER: 0.9920, AvgLoss: 18.4666, AvgCER: 0.9049, AvgWER: 0.9938: 100%|██████████| 120/120 [00:26<00:00,  4.53it/s]\n",
            "Train - Epoch: 36, Loss: 7.3357, CER: 0.3783, WER: 0.6520, AvgLoss: 7.4081, AvgCER: 0.3568, AvgWER: 0.6383: 100%|██████████| 96/96 [00:32<00:00,  2.97it/s]\n",
            "Val   - Epoch: 36, Loss: 8.4857, CER: 0.4088, WER: 0.6800, AvgLoss: 8.6109, AvgCER: 0.4053, AvgWER: 0.6835: 100%|██████████| 24/24 [00:05<00:00,  4.17it/s]\n",
            "Test  - Epoch: 36, Loss: 17.9988, CER: 0.8883, WER: 0.9920, AvgLoss: 17.8729, AvgCER: 0.8788, AvgWER: 0.9914: 100%|██████████| 120/120 [00:26<00:00,  4.52it/s]\n",
            "Train - Epoch: 37, Loss: 7.7288, CER: 0.3778, WER: 0.6280, AvgLoss: 7.1869, AvgCER: 0.3457, AvgWER: 0.6305: 100%|██████████| 96/96 [00:32<00:00,  2.95it/s]\n",
            "Val   - Epoch: 37, Loss: 8.3931, CER: 0.4244, WER: 0.6760, AvgLoss: 8.4865, AvgCER: 0.3975, AvgWER: 0.6712: 100%|██████████| 24/24 [00:05<00:00,  4.15it/s]\n",
            "Test  - Epoch: 37, Loss: 19.0801, CER: 0.9185, WER: 0.9920, AvgLoss: 18.3606, AvgCER: 0.8956, AvgWER: 0.9951: 100%|██████████| 120/120 [00:26<00:00,  4.54it/s]\n",
            "Train - Epoch: 38, Loss: 7.7771, CER: 0.3457, WER: 0.6320, AvgLoss: 6.9552, AvgCER: 0.3341, AvgWER: 0.6200: 100%|██████████| 96/96 [00:32<00:00,  2.97it/s]\n",
            "Val   - Epoch: 38, Loss: 7.4837, CER: 0.3602, WER: 0.6240, AvgLoss: 8.2340, AvgCER: 0.3876, AvgWER: 0.6618: 100%|██████████| 24/24 [00:05<00:00,  4.11it/s]\n",
            "Test  - Epoch: 38, Loss: 18.5363, CER: 0.8842, WER: 0.9880, AvgLoss: 18.1932, AvgCER: 0.8970, AvgWER: 0.9892: 100%|██████████| 120/120 [00:26<00:00,  4.54it/s]\n",
            "Train - Epoch: 39, Loss: 7.2669, CER: 0.3622, WER: 0.6720, AvgLoss: 6.7282, AvgCER: 0.3220, AvgWER: 0.6050: 100%|██████████| 96/96 [00:32<00:00,  2.95it/s]\n",
            "Val   - Epoch: 39, Loss: 8.0589, CER: 0.3644, WER: 0.6000, AvgLoss: 8.2308, AvgCER: 0.3871, AvgWER: 0.6602: 100%|██████████| 24/24 [00:05<00:00,  4.09it/s]\n",
            "Test  - Epoch: 39, Loss: 17.8931, CER: 0.8963, WER: 1.0000, AvgLoss: 18.2721, AvgCER: 0.8938, AvgWER: 0.9931: 100%|██████████| 120/120 [00:26<00:00,  4.50it/s]\n",
            "Train - Epoch: 40, Loss: 6.5799, CER: 0.3063, WER: 0.5560, AvgLoss: 6.4873, AvgCER: 0.3087, AvgWER: 0.5912: 100%|██████████| 96/96 [00:32<00:00,  2.95it/s]\n",
            "Val   - Epoch: 40, Loss: 9.0873, CER: 0.3941, WER: 0.6920, AvgLoss: 8.0655, AvgCER: 0.3759, AvgWER: 0.6512: 100%|██████████| 24/24 [00:05<00:00,  4.18it/s]\n",
            "Test  - Epoch: 40, Loss: 17.6275, CER: 0.8748, WER: 0.9960, AvgLoss: 18.6538, AvgCER: 0.8717, AvgWER: 0.9896: 100%|██████████| 120/120 [00:26<00:00,  4.53it/s]\n",
            "Train - Epoch: 41, Loss: 5.8090, CER: 0.2859, WER: 0.5360, AvgLoss: 6.3555, AvgCER: 0.3047, AvgWER: 0.5898: 100%|██████████| 96/96 [00:32<00:00,  2.96it/s]\n",
            "Val   - Epoch: 41, Loss: 8.6255, CER: 0.3857, WER: 0.6880, AvgLoss: 8.0384, AvgCER: 0.3724, AvgWER: 0.6577: 100%|██████████| 24/24 [00:05<00:00,  4.20it/s]\n",
            "Test  - Epoch: 41, Loss: 18.8100, CER: 0.8729, WER: 0.9800, AvgLoss: 18.4648, AvgCER: 0.8579, AvgWER: 0.9877: 100%|██████████| 120/120 [00:26<00:00,  4.49it/s]\n",
            "Train - Epoch: 42, Loss: 5.8558, CER: 0.2705, WER: 0.5160, AvgLoss: 6.1010, AvgCER: 0.2909, AvgWER: 0.5761: 100%|██████████| 96/96 [00:32<00:00,  2.96it/s]\n",
            "Val   - Epoch: 42, Loss: 7.5982, CER: 0.3464, WER: 0.6240, AvgLoss: 7.7894, AvgCER: 0.3622, AvgWER: 0.6313: 100%|██████████| 24/24 [00:05<00:00,  4.18it/s]\n",
            "Test  - Epoch: 42, Loss: 19.0466, CER: 0.8921, WER: 0.9840, AvgLoss: 18.7153, AvgCER: 0.8992, AvgWER: 0.9896: 100%|██████████| 120/120 [00:26<00:00,  4.54it/s]\n",
            "Train - Epoch: 43, Loss: 5.6517, CER: 0.2594, WER: 0.5520, AvgLoss: 5.8710, AvgCER: 0.2801, AvgWER: 0.5636: 100%|██████████| 96/96 [00:32<00:00,  2.96it/s]\n",
            "Val   - Epoch: 43, Loss: 7.3941, CER: 0.3449, WER: 0.6520, AvgLoss: 7.8711, AvgCER: 0.3643, AvgWER: 0.6397: 100%|██████████| 24/24 [00:05<00:00,  4.21it/s]\n",
            "Test  - Epoch: 43, Loss: 18.3914, CER: 0.9257, WER: 0.9920, AvgLoss: 18.4957, AvgCER: 0.8982, AvgWER: 0.9914: 100%|██████████| 120/120 [00:26<00:00,  4.55it/s]\n",
            "Train - Epoch: 44, Loss: 5.3795, CER: 0.2509, WER: 0.5080, AvgLoss: 5.6483, AvgCER: 0.2690, AvgWER: 0.5518: 100%|██████████| 96/96 [00:32<00:00,  2.97it/s]\n",
            "Val   - Epoch: 44, Loss: 8.2987, CER: 0.3550, WER: 0.6280, AvgLoss: 7.5961, AvgCER: 0.3449, AvgWER: 0.6163: 100%|██████████| 24/24 [00:05<00:00,  4.15it/s]\n",
            "Test  - Epoch: 44, Loss: 18.5697, CER: 0.8987, WER: 0.9960, AvgLoss: 18.7316, AvgCER: 0.8931, AvgWER: 0.9920: 100%|██████████| 120/120 [00:26<00:00,  4.58it/s]\n",
            "Train - Epoch: 45, Loss: 5.2688, CER: 0.2762, WER: 0.5720, AvgLoss: 5.4424, AvgCER: 0.2590, AvgWER: 0.5405: 100%|██████████| 96/96 [00:32<00:00,  2.97it/s]\n",
            "Val   - Epoch: 45, Loss: 7.5630, CER: 0.3565, WER: 0.6320, AvgLoss: 7.6719, AvgCER: 0.3478, AvgWER: 0.6215: 100%|██████████| 24/24 [00:05<00:00,  4.20it/s]\n",
            "Test  - Epoch: 45, Loss: 18.9347, CER: 0.8726, WER: 0.9920, AvgLoss: 19.2237, AvgCER: 0.9044, AvgWER: 0.9915: 100%|██████████| 120/120 [00:26<00:00,  4.57it/s]\n",
            "Train - Epoch: 46, Loss: 4.9767, CER: 0.2234, WER: 0.4880, AvgLoss: 5.2277, AvgCER: 0.2481, AvgWER: 0.5282: 100%|██████████| 96/96 [00:32<00:00,  2.97it/s]\n",
            "Val   - Epoch: 46, Loss: 7.9316, CER: 0.3715, WER: 0.6560, AvgLoss: 7.6812, AvgCER: 0.3518, AvgWER: 0.6292: 100%|██████████| 24/24 [00:05<00:00,  4.15it/s]\n",
            "Test  - Epoch: 46, Loss: 18.4638, CER: 0.8965, WER: 0.9920, AvgLoss: 19.2249, AvgCER: 0.8834, AvgWER: 0.9887: 100%|██████████| 120/120 [00:26<00:00,  4.54it/s]\n",
            "Train - Epoch: 47, Loss: 4.4609, CER: 0.2179, WER: 0.4640, AvgLoss: 5.0430, AvgCER: 0.2403, AvgWER: 0.5188: 100%|██████████| 96/96 [00:32<00:00,  2.98it/s]\n",
            "Val   - Epoch: 47, Loss: 7.5957, CER: 0.3452, WER: 0.6360, AvgLoss: 7.5154, AvgCER: 0.3449, AvgWER: 0.6127: 100%|██████████| 24/24 [00:05<00:00,  4.21it/s]\n",
            "Test  - Epoch: 47, Loss: 18.7014, CER: 0.9282, WER: 0.9920, AvgLoss: 19.5608, AvgCER: 0.9123, AvgWER: 0.9897: 100%|██████████| 120/120 [00:26<00:00,  4.57it/s]\n",
            "Train - Epoch: 48, Loss: 4.8655, CER: 0.2332, WER: 0.5040, AvgLoss: 4.8111, AvgCER: 0.2276, AvgWER: 0.5046: 100%|██████████| 96/96 [00:32<00:00,  2.96it/s]\n",
            "Val   - Epoch: 48, Loss: 7.9103, CER: 0.3994, WER: 0.6640, AvgLoss: 7.6078, AvgCER: 0.3464, AvgWER: 0.6168: 100%|██████████| 24/24 [00:05<00:00,  4.23it/s]\n",
            "Test  - Epoch: 48, Loss: 21.0054, CER: 0.8872, WER: 0.9880, AvgLoss: 19.7934, AvgCER: 0.9060, AvgWER: 0.9892: 100%|██████████| 120/120 [00:26<00:00,  4.61it/s]\n",
            "Train - Epoch: 49, Loss: 4.5768, CER: 0.2280, WER: 0.5040, AvgLoss: 4.6612, AvgCER: 0.2212, AvgWER: 0.4963: 100%|██████████| 96/96 [00:32<00:00,  2.96it/s]\n",
            "Val   - Epoch: 49, Loss: 6.4903, CER: 0.3502, WER: 0.6240, AvgLoss: 7.7621, AvgCER: 0.3436, AvgWER: 0.6240: 100%|██████████| 24/24 [00:05<00:00,  4.15it/s]\n",
            "Test  - Epoch: 49, Loss: 21.0473, CER: 0.8947, WER: 0.9840, AvgLoss: 20.1603, AvgCER: 0.8878, AvgWER: 0.9905: 100%|██████████| 120/120 [00:26<00:00,  4.58it/s]\n",
            "Train - Epoch: 50, Loss: 4.4953, CER: 0.2248, WER: 0.4880, AvgLoss: 4.5537, AvgCER: 0.2176, AvgWER: 0.4930: 100%|██████████| 96/96 [00:32<00:00,  2.96it/s]\n",
            "Val   - Epoch: 50, Loss: 7.8489, CER: 0.3181, WER: 0.5840, AvgLoss: 7.4781, AvgCER: 0.3367, AvgWER: 0.6105: 100%|██████████| 24/24 [00:05<00:00,  4.19it/s]\n",
            "Test  - Epoch: 50, Loss: 21.0248, CER: 0.9049, WER: 0.9960, AvgLoss: 19.8809, AvgCER: 0.9067, AvgWER: 0.9881: 100%|██████████| 120/120 [00:26<00:00,  4.48it/s]\n",
            "Train - Epoch: 51, Loss: 4.0358, CER: 0.2041, WER: 0.5000, AvgLoss: 4.2974, AvgCER: 0.2024, AvgWER: 0.4740: 100%|██████████| 96/96 [00:32<00:00,  2.98it/s]\n",
            "Val   - Epoch: 51, Loss: 7.3287, CER: 0.3269, WER: 0.6400, AvgLoss: 7.6369, AvgCER: 0.3372, AvgWER: 0.6192: 100%|██████████| 24/24 [00:05<00:00,  4.13it/s]\n",
            "Test  - Epoch: 51, Loss: 20.2275, CER: 0.8426, WER: 0.9880, AvgLoss: 20.0058, AvgCER: 0.8801, AvgWER: 0.9881: 100%|██████████| 120/120 [00:26<00:00,  4.52it/s]\n",
            "Train - Epoch: 52, Loss: 4.5844, CER: 0.2046, WER: 0.4960, AvgLoss: 4.1909, AvgCER: 0.1994, AvgWER: 0.4708: 100%|██████████| 96/96 [00:32<00:00,  2.95it/s]\n",
            "Val   - Epoch: 52, Loss: 8.1874, CER: 0.3433, WER: 0.5760, AvgLoss: 7.7215, AvgCER: 0.3385, AvgWER: 0.6122: 100%|██████████| 24/24 [00:05<00:00,  4.23it/s]\n",
            "Test  - Epoch: 52, Loss: 21.0743, CER: 0.8963, WER: 0.9960, AvgLoss: 20.8904, AvgCER: 0.8813, AvgWER: 0.9883: 100%|██████████| 120/120 [00:26<00:00,  4.56it/s]\n",
            "Train - Epoch: 53, Loss: 3.6249, CER: 0.1700, WER: 0.4200, AvgLoss: 3.9811, AvgCER: 0.1892, AvgWER: 0.4590: 100%|██████████| 96/96 [00:32<00:00,  2.96it/s]\n",
            "Val   - Epoch: 53, Loss: 6.3960, CER: 0.2857, WER: 0.5840, AvgLoss: 7.5357, AvgCER: 0.3319, AvgWER: 0.6098: 100%|██████████| 24/24 [00:05<00:00,  4.19it/s]\n",
            "Test  - Epoch: 53, Loss: 20.6716, CER: 0.9068, WER: 0.9840, AvgLoss: 20.3691, AvgCER: 0.8908, AvgWER: 0.9869: 100%|██████████| 120/120 [00:26<00:00,  4.53it/s]\n",
            "Train - Epoch: 54, Loss: 4.2675, CER: 0.2038, WER: 0.4880, AvgLoss: 3.7982, AvgCER: 0.1792, AvgWER: 0.4467: 100%|██████████| 96/96 [00:32<00:00,  2.96it/s]\n",
            "Val   - Epoch: 54, Loss: 7.7724, CER: 0.3241, WER: 0.6240, AvgLoss: 7.5804, AvgCER: 0.3272, AvgWER: 0.5995: 100%|██████████| 24/24 [00:05<00:00,  4.15it/s]\n",
            "Test  - Epoch: 54, Loss: 21.7456, CER: 0.8993, WER: 0.9920, AvgLoss: 21.3417, AvgCER: 0.9143, AvgWER: 0.9889: 100%|██████████| 120/120 [00:26<00:00,  4.57it/s]\n",
            "Train - Epoch: 55, Loss: 4.0187, CER: 0.1921, WER: 0.4840, AvgLoss: 3.5658, AvgCER: 0.1677, AvgWER: 0.4278: 100%|██████████| 96/96 [00:32<00:00,  2.96it/s]\n",
            "Val   - Epoch: 55, Loss: 7.8422, CER: 0.3326, WER: 0.6160, AvgLoss: 7.6614, AvgCER: 0.3287, AvgWER: 0.6020: 100%|██████████| 24/24 [00:05<00:00,  4.12it/s]\n",
            "Test  - Epoch: 55, Loss: 20.9458, CER: 0.9192, WER: 0.9800, AvgLoss: 21.2011, AvgCER: 0.9054, AvgWER: 0.9893: 100%|██████████| 120/120 [00:26<00:00,  4.50it/s]\n",
            "Train - Epoch: 56, Loss: 3.7936, CER: 0.1850, WER: 0.4880, AvgLoss: 3.4732, AvgCER: 0.1643, AvgWER: 0.4249: 100%|██████████| 96/96 [00:32<00:00,  2.96it/s]\n",
            "Val   - Epoch: 56, Loss: 7.1992, CER: 0.3435, WER: 0.6080, AvgLoss: 7.5886, AvgCER: 0.3334, AvgWER: 0.6072: 100%|██████████| 24/24 [00:05<00:00,  4.18it/s]\n",
            "Test  - Epoch: 56, Loss: 21.4133, CER: 0.9600, WER: 0.9880, AvgLoss: 20.8169, AvgCER: 0.9201, AvgWER: 0.9889: 100%|██████████| 120/120 [00:26<00:00,  4.57it/s]\n",
            "Train - Epoch: 57, Loss: 3.5893, CER: 0.1670, WER: 0.4320, AvgLoss: 3.3171, AvgCER: 0.1561, AvgWER: 0.4125: 100%|██████████| 96/96 [00:32<00:00,  2.97it/s]\n",
            "Val   - Epoch: 57, Loss: 7.6932, CER: 0.3411, WER: 0.6480, AvgLoss: 7.6343, AvgCER: 0.3287, AvgWER: 0.5952: 100%|██████████| 24/24 [00:05<00:00,  4.20it/s]\n",
            "Test  - Epoch: 57, Loss: 20.8289, CER: 0.8683, WER: 0.9880, AvgLoss: 21.3620, AvgCER: 0.9042, AvgWER: 0.9891: 100%|██████████| 120/120 [00:26<00:00,  4.61it/s]\n",
            "Train - Epoch: 58, Loss: 3.7492, CER: 0.1783, WER: 0.4440, AvgLoss: 3.1465, AvgCER: 0.1481, AvgWER: 0.3982: 100%|██████████| 96/96 [00:34<00:00,  2.79it/s]\n",
            "Val   - Epoch: 58, Loss: 8.2137, CER: 0.3300, WER: 0.5920, AvgLoss: 7.7136, AvgCER: 0.3291, AvgWER: 0.5963: 100%|██████████| 24/24 [00:05<00:00,  4.12it/s]\n",
            "Test  - Epoch: 58, Loss: 21.2188, CER: 0.9299, WER: 0.9880, AvgLoss: 21.8305, AvgCER: 0.9104, AvgWER: 0.9888: 100%|██████████| 120/120 [00:26<00:00,  4.49it/s]\n",
            "Train - Epoch: 59, Loss: 3.2190, CER: 0.1512, WER: 0.4000, AvgLoss: 2.9910, AvgCER: 0.1396, AvgWER: 0.3868: 100%|██████████| 96/96 [00:32<00:00,  2.95it/s]\n",
            "Val   - Epoch: 59, Loss: 7.9564, CER: 0.3420, WER: 0.6400, AvgLoss: 7.8127, AvgCER: 0.3235, AvgWER: 0.6000: 100%|██████████| 24/24 [00:05<00:00,  4.10it/s]\n",
            "Test  - Epoch: 59, Loss: 21.8296, CER: 0.8732, WER: 0.9920, AvgLoss: 22.0474, AvgCER: 0.8766, AvgWER: 0.9874: 100%|██████████| 120/120 [00:26<00:00,  4.47it/s]\n",
            "Train - Epoch: 60, Loss: 2.8294, CER: 0.1493, WER: 0.3920, AvgLoss: 2.7951, AvgCER: 0.1290, AvgWER: 0.3707: 100%|██████████| 96/96 [00:32<00:00,  2.93it/s]\n",
            "Val   - Epoch: 60, Loss: 7.0124, CER: 0.2947, WER: 0.5760, AvgLoss: 7.7958, AvgCER: 0.3311, AvgWER: 0.6010: 100%|██████████| 24/24 [00:05<00:00,  4.09it/s]\n",
            "Test  - Epoch: 60, Loss: 22.2798, CER: 0.9311, WER: 0.9800, AvgLoss: 22.1455, AvgCER: 0.9083, AvgWER: 0.9900: 100%|██████████| 120/120 [00:27<00:00,  4.43it/s]\n",
            "Train - Epoch: 61, Loss: 2.5732, CER: 0.1316, WER: 0.3560, AvgLoss: 2.6719, AvgCER: 0.1242, AvgWER: 0.3617: 100%|██████████| 96/96 [00:32<00:00,  2.95it/s]\n",
            "Val   - Epoch: 61, Loss: 8.2443, CER: 0.3214, WER: 0.5880, AvgLoss: 7.9517, AvgCER: 0.3258, AvgWER: 0.5992: 100%|██████████| 24/24 [00:05<00:00,  4.08it/s]\n",
            "Test  - Epoch: 61, Loss: 24.0100, CER: 0.8838, WER: 0.9960, AvgLoss: 22.5198, AvgCER: 0.8911, AvgWER: 0.9886: 100%|██████████| 120/120 [00:27<00:00,  4.42it/s]\n",
            "Train - Epoch: 62, Loss: 2.8201, CER: 0.1318, WER: 0.3760, AvgLoss: 2.5794, AvgCER: 0.1193, AvgWER: 0.3567: 100%|██████████| 96/96 [00:32<00:00,  2.96it/s]\n",
            "Val   - Epoch: 62, Loss: 8.7335, CER: 0.3438, WER: 0.5960, AvgLoss: 8.0340, AvgCER: 0.3320, AvgWER: 0.5992: 100%|██████████| 24/24 [00:05<00:00,  4.08it/s]\n",
            "Test  - Epoch: 62, Loss: 22.0907, CER: 0.9105, WER: 0.9960, AvgLoss: 23.0646, AvgCER: 0.9159, AvgWER: 0.9910: 100%|██████████| 120/120 [00:26<00:00,  4.49it/s]\n",
            "Train - Epoch: 63, Loss: 2.5032, CER: 0.1352, WER: 0.3960, AvgLoss: 2.4562, AvgCER: 0.1135, AvgWER: 0.3461: 100%|██████████| 96/96 [00:32<00:00,  2.94it/s]\n",
            "Val   - Epoch: 63, Loss: 7.3272, CER: 0.3354, WER: 0.6200, AvgLoss: 8.1344, AvgCER: 0.3269, AvgWER: 0.5947: 100%|██████████| 24/24 [00:05<00:00,  4.10it/s]\n",
            "Test  - Epoch: 63, Loss: 23.9599, CER: 0.8983, WER: 1.0000, AvgLoss: 23.2567, AvgCER: 0.9020, AvgWER: 0.9898: 100%|██████████| 120/120 [00:26<00:00,  4.49it/s]\n",
            "Train - Epoch: 64, Loss: 2.7043, CER: 0.1247, WER: 0.4000, AvgLoss: 2.2875, AvgCER: 0.1058, AvgWER: 0.3293: 100%|██████████| 96/96 [00:32<00:00,  2.94it/s]\n",
            "Val   - Epoch: 64, Loss: 7.2769, CER: 0.3192, WER: 0.5760, AvgLoss: 8.2529, AvgCER: 0.3334, AvgWER: 0.6128: 100%|██████████| 24/24 [00:05<00:00,  4.16it/s]\n",
            "Test  - Epoch: 64, Loss: 22.6879, CER: 0.8985, WER: 0.9880, AvgLoss: 23.5181, AvgCER: 0.8793, AvgWER: 0.9883: 100%|██████████| 120/120 [00:26<00:00,  4.48it/s]\n",
            "Train - Epoch: 65, Loss: 2.1511, CER: 0.0971, WER: 0.3000, AvgLoss: 2.2948, AvgCER: 0.1087, AvgWER: 0.3376: 100%|██████████| 96/96 [00:32<00:00,  2.92it/s]\n",
            "Val   - Epoch: 65, Loss: 7.5798, CER: 0.3128, WER: 0.5720, AvgLoss: 8.1987, AvgCER: 0.3265, AvgWER: 0.5998: 100%|██████████| 24/24 [00:05<00:00,  4.10it/s]\n",
            "Test  - Epoch: 65, Loss: 24.7279, CER: 0.9156, WER: 0.9840, AvgLoss: 23.4878, AvgCER: 0.8868, AvgWER: 0.9884: 100%|██████████| 120/120 [00:26<00:00,  4.47it/s]\n",
            "Train - Epoch: 66, Loss: 1.9061, CER: 0.0871, WER: 0.2840, AvgLoss: 2.0389, AvgCER: 0.0924, AvgWER: 0.3066: 100%|██████████| 96/96 [00:32<00:00,  2.95it/s]\n",
            "Val   - Epoch: 66, Loss: 8.5923, CER: 0.3395, WER: 0.6280, AvgLoss: 8.3572, AvgCER: 0.3291, AvgWER: 0.6030: 100%|██████████| 24/24 [00:05<00:00,  4.09it/s]\n",
            "Test  - Epoch: 66, Loss: 22.4370, CER: 0.9099, WER: 0.9920, AvgLoss: 24.0452, AvgCER: 0.9116, AvgWER: 0.9900: 100%|██████████| 120/120 [00:26<00:00,  4.46it/s]\n",
            "Train - Epoch: 67, Loss: 2.1099, CER: 0.0956, WER: 0.3280, AvgLoss: 1.9463, AvgCER: 0.0885, AvgWER: 0.2996: 100%|██████████| 96/96 [00:32<00:00,  2.94it/s]\n",
            "Val   - Epoch: 67, Loss: 9.0858, CER: 0.3580, WER: 0.6280, AvgLoss: 8.4137, AvgCER: 0.3308, AvgWER: 0.6033: 100%|██████████| 24/24 [00:05<00:00,  4.14it/s]\n",
            "Test  - Epoch: 67, Loss: 25.4368, CER: 0.8964, WER: 0.9840, AvgLoss: 24.4858, AvgCER: 0.9052, AvgWER: 0.9892: 100%|██████████| 120/120 [00:26<00:00,  4.46it/s]\n",
            "Train - Epoch: 68, Loss: 1.7809, CER: 0.0937, WER: 0.3120, AvgLoss: 1.8373, AvgCER: 0.0825, AvgWER: 0.2838: 100%|██████████| 96/96 [00:32<00:00,  2.93it/s]\n",
            "Val   - Epoch: 68, Loss: 7.9729, CER: 0.3072, WER: 0.5800, AvgLoss: 8.5422, AvgCER: 0.3370, AvgWER: 0.6095: 100%|██████████| 24/24 [00:05<00:00,  4.14it/s]\n",
            "Test  - Epoch: 68, Loss: 24.5485, CER: 0.9314, WER: 0.9880, AvgLoss: 24.2795, AvgCER: 0.9278, AvgWER: 0.9895: 100%|██████████| 120/120 [00:26<00:00,  4.45it/s]\n",
            "Train - Epoch: 69, Loss: 1.6293, CER: 0.0777, WER: 0.2640, AvgLoss: 1.7118, AvgCER: 0.0767, AvgWER: 0.2720: 100%|██████████| 96/96 [00:32<00:00,  2.93it/s]\n",
            "Val   - Epoch: 69, Loss: 9.6677, CER: 0.3675, WER: 0.6320, AvgLoss: 8.6963, AvgCER: 0.3326, AvgWER: 0.6100: 100%|██████████| 24/24 [00:05<00:00,  4.13it/s]\n",
            "Test  - Epoch: 69, Loss: 26.0779, CER: 0.9025, WER: 0.9880, AvgLoss: 25.1002, AvgCER: 0.8901, AvgWER: 0.9892: 100%|██████████| 120/120 [00:27<00:00,  4.41it/s]\n",
            "Train - Epoch: 70, Loss: 1.9033, CER: 0.0814, WER: 0.2880, AvgLoss: 1.6593, AvgCER: 0.0750, AvgWER: 0.2701: 100%|██████████| 96/96 [00:32<00:00,  2.93it/s]\n",
            "Val   - Epoch: 70, Loss: 8.8012, CER: 0.3337, WER: 0.5880, AvgLoss: 8.8344, AvgCER: 0.3279, AvgWER: 0.6065: 100%|██████████| 24/24 [00:05<00:00,  4.01it/s]\n",
            "Test  - Epoch: 70, Loss: 24.6234, CER: 0.9314, WER: 0.9960, AvgLoss: 25.7315, AvgCER: 0.9019, AvgWER: 0.9906: 100%|██████████| 120/120 [00:27<00:00,  4.44it/s]\n",
            "Train - Epoch: 71, Loss: 1.7225, CER: 0.0709, WER: 0.2440, AvgLoss: 1.4992, AvgCER: 0.0655, AvgWER: 0.2462: 100%|██████████| 96/96 [00:32<00:00,  2.93it/s]\n",
            "Val   - Epoch: 71, Loss: 8.5029, CER: 0.3122, WER: 0.5760, AvgLoss: 8.7070, AvgCER: 0.3270, AvgWER: 0.5957: 100%|██████████| 24/24 [00:05<00:00,  4.11it/s]\n",
            "Test  - Epoch: 71, Loss: 25.0811, CER: 0.8709, WER: 0.9840, AvgLoss: 25.6236, AvgCER: 0.8872, AvgWER: 0.9879: 100%|██████████| 120/120 [00:27<00:00,  4.42it/s]\n",
            "Train - Epoch: 72, Loss: 1.3506, CER: 0.0599, WER: 0.2560, AvgLoss: 1.5173, AvgCER: 0.0689, AvgWER: 0.2550: 100%|██████████| 96/96 [00:32<00:00,  2.94it/s]\n",
            "Val   - Epoch: 72, Loss: 8.9674, CER: 0.3231, WER: 0.6040, AvgLoss: 8.9395, AvgCER: 0.3320, AvgWER: 0.6018: 100%|██████████| 24/24 [00:05<00:00,  4.06it/s]\n",
            "Test  - Epoch: 72, Loss: 25.1649, CER: 0.8818, WER: 0.9880, AvgLoss: 25.9459, AvgCER: 0.9027, AvgWER: 0.9870: 100%|██████████| 120/120 [00:27<00:00,  4.39it/s]\n",
            "Train - Epoch: 73, Loss: 1.7400, CER: 0.0679, WER: 0.2800, AvgLoss: 1.4131, AvgCER: 0.0625, AvgWER: 0.2400: 100%|██████████| 96/96 [00:32<00:00,  2.93it/s]\n",
            "Val   - Epoch: 73, Loss: 8.5098, CER: 0.3421, WER: 0.6080, AvgLoss: 8.9750, AvgCER: 0.3310, AvgWER: 0.6078: 100%|██████████| 24/24 [00:05<00:00,  4.08it/s]\n",
            "Test  - Epoch: 73, Loss: 27.7321, CER: 0.9228, WER: 1.0000, AvgLoss: 26.4212, AvgCER: 0.9137, AvgWER: 0.9883: 100%|██████████| 120/120 [00:27<00:00,  4.42it/s]\n",
            "Train - Epoch: 74, Loss: 1.3366, CER: 0.0612, WER: 0.2280, AvgLoss: 1.2430, AvgCER: 0.0521, AvgWER: 0.2124: 100%|██████████| 96/96 [00:32<00:00,  2.94it/s]\n",
            "Val   - Epoch: 74, Loss: 9.1935, CER: 0.3228, WER: 0.6080, AvgLoss: 9.1024, AvgCER: 0.3371, AvgWER: 0.6053: 100%|██████████| 24/24 [00:05<00:00,  4.07it/s]\n",
            "Test  - Epoch: 74, Loss: 25.7331, CER: 0.9652, WER: 0.9880, AvgLoss: 26.5861, AvgCER: 0.9244, AvgWER: 0.9889: 100%|██████████| 120/120 [00:26<00:00,  4.49it/s]\n",
            "Train - Epoch: 75, Loss: 1.1676, CER: 0.0527, WER: 0.2120, AvgLoss: 1.2597, AvgCER: 0.0559, AvgWER: 0.2228: 100%|██████████| 96/96 [00:32<00:00,  2.95it/s]\n",
            "Val   - Epoch: 75, Loss: 9.3381, CER: 0.3367, WER: 0.6080, AvgLoss: 9.3135, AvgCER: 0.3300, AvgWER: 0.6018: 100%|██████████| 24/24 [00:05<00:00,  4.14it/s]\n",
            "Test  - Epoch: 75, Loss: 26.8714, CER: 0.8790, WER: 0.9880, AvgLoss: 27.5572, AvgCER: 0.9047, AvgWER: 0.9914: 100%|██████████| 120/120 [00:26<00:00,  4.56it/s]\n",
            "Train - Epoch: 76, Loss: 1.4031, CER: 0.0652, WER: 0.2680, AvgLoss: 1.2126, AvgCER: 0.0543, AvgWER: 0.2155: 100%|██████████| 96/96 [00:32<00:00,  2.95it/s]\n",
            "Val   - Epoch: 76, Loss: 9.5736, CER: 0.3497, WER: 0.6000, AvgLoss: 9.3127, AvgCER: 0.3323, AvgWER: 0.6038: 100%|██████████| 24/24 [00:05<00:00,  4.08it/s]\n",
            "Test  - Epoch: 76, Loss: 26.7375, CER: 0.8832, WER: 0.9960, AvgLoss: 27.3528, AvgCER: 0.9081, AvgWER: 0.9883: 100%|██████████| 120/120 [00:26<00:00,  4.51it/s]\n",
            "Train - Epoch: 77, Loss: 1.4694, CER: 0.0591, WER: 0.2600, AvgLoss: 1.0503, AvgCER: 0.0436, AvgWER: 0.1850: 100%|██████████| 96/96 [00:32<00:00,  2.96it/s]\n",
            "Val   - Epoch: 77, Loss: 8.4939, CER: 0.2985, WER: 0.5720, AvgLoss: 9.3799, AvgCER: 0.3303, AvgWER: 0.6023: 100%|██████████| 24/24 [00:05<00:00,  4.15it/s]\n",
            "Test  - Epoch: 77, Loss: 26.1801, CER: 0.8735, WER: 0.9760, AvgLoss: 27.5575, AvgCER: 0.9003, AvgWER: 0.9898: 100%|██████████| 120/120 [00:26<00:00,  4.50it/s]\n",
            "Train - Epoch: 78, Loss: 1.0595, CER: 0.0401, WER: 0.1960, AvgLoss: 0.9924, AvgCER: 0.0414, AvgWER: 0.1770: 100%|██████████| 96/96 [00:32<00:00,  2.96it/s]\n",
            "Val   - Epoch: 78, Loss: 10.7512, CER: 0.3445, WER: 0.6240, AvgLoss: 9.5551, AvgCER: 0.3250, AvgWER: 0.6000: 100%|██████████| 24/24 [00:05<00:00,  4.15it/s]\n",
            "Test  - Epoch: 78, Loss: 26.4294, CER: 0.8932, WER: 0.9960, AvgLoss: 28.1014, AvgCER: 0.8948, AvgWER: 0.9884: 100%|██████████| 120/120 [00:26<00:00,  4.47it/s]\n",
            "Train - Epoch: 79, Loss: 1.0579, CER: 0.0536, WER: 0.2000, AvgLoss: 0.9086, AvgCER: 0.0367, AvgWER: 0.1627: 100%|██████████| 96/96 [00:32<00:00,  2.92it/s]\n",
            "Val   - Epoch: 79, Loss: 9.5838, CER: 0.3476, WER: 0.6080, AvgLoss: 9.6279, AvgCER: 0.3304, AvgWER: 0.6037: 100%|██████████| 24/24 [00:05<00:00,  4.16it/s]\n",
            "Test  - Epoch: 79, Loss: 31.3297, CER: 0.9075, WER: 0.9880, AvgLoss: 28.9577, AvgCER: 0.9054, AvgWER: 0.9880: 100%|██████████| 120/120 [00:26<00:00,  4.50it/s]\n",
            "Train - Epoch: 80, Loss: 1.0141, CER: 0.0411, WER: 0.1800, AvgLoss: 0.8322, AvgCER: 0.0330, AvgWER: 0.1468: 100%|██████████| 96/96 [00:32<00:00,  2.96it/s]\n",
            "Val   - Epoch: 80, Loss: 9.2622, CER: 0.3213, WER: 0.6040, AvgLoss: 9.6883, AvgCER: 0.3287, AvgWER: 0.6037: 100%|██████████| 24/24 [00:05<00:00,  4.19it/s]\n",
            "Test  - Epoch: 80, Loss: 27.0180, CER: 0.8654, WER: 0.9800, AvgLoss: 28.9865, AvgCER: 0.8971, AvgWER: 0.9879: 100%|██████████| 120/120 [00:26<00:00,  4.51it/s]\n",
            "Train - Epoch: 81, Loss: 0.8395, CER: 0.0404, WER: 0.1680, AvgLoss: 0.8578, AvgCER: 0.0356, AvgWER: 0.1575: 100%|██████████| 96/96 [00:32<00:00,  2.94it/s]\n",
            "Val   - Epoch: 81, Loss: 9.4582, CER: 0.3274, WER: 0.6120, AvgLoss: 9.9419, AvgCER: 0.3325, AvgWER: 0.6083: 100%|██████████| 24/24 [00:05<00:00,  4.09it/s]\n",
            "Test  - Epoch: 81, Loss: 29.2529, CER: 0.8849, WER: 1.0000, AvgLoss: 29.2877, AvgCER: 0.9106, AvgWER: 0.9892: 100%|██████████| 120/120 [00:26<00:00,  4.46it/s]\n",
            "Train - Epoch: 82, Loss: 0.9926, CER: 0.0417, WER: 0.2000, AvgLoss: 0.8210, AvgCER: 0.0342, AvgWER: 0.1542: 100%|██████████| 96/96 [00:32<00:00,  2.94it/s]\n",
            "Val   - Epoch: 82, Loss: 9.9108, CER: 0.3480, WER: 0.6200, AvgLoss: 10.0509, AvgCER: 0.3334, AvgWER: 0.6133: 100%|██████████| 24/24 [00:05<00:00,  4.12it/s]\n",
            "Test  - Epoch: 82, Loss: 29.6784, CER: 0.9283, WER: 0.9880, AvgLoss: 29.5485, AvgCER: 0.9118, AvgWER: 0.9902: 100%|██████████| 120/120 [00:26<00:00,  4.45it/s]\n",
            "Train - Epoch: 83, Loss: 0.9998, CER: 0.0426, WER: 0.1800, AvgLoss: 0.7632, AvgCER: 0.0306, AvgWER: 0.1405: 100%|██████████| 96/96 [00:32<00:00,  2.95it/s]\n",
            "Val   - Epoch: 83, Loss: 8.7129, CER: 0.3042, WER: 0.5600, AvgLoss: 10.1834, AvgCER: 0.3379, AvgWER: 0.6088: 100%|██████████| 24/24 [00:05<00:00,  4.14it/s]\n",
            "Test  - Epoch: 83, Loss: 29.3808, CER: 0.9279, WER: 0.9920, AvgLoss: 29.1496, AvgCER: 0.9049, AvgWER: 0.9900: 100%|██████████| 120/120 [00:27<00:00,  4.44it/s]\n",
            "Train - Epoch: 84, Loss: 0.9488, CER: 0.0394, WER: 0.2000, AvgLoss: 0.7538, AvgCER: 0.0311, AvgWER: 0.1417: 100%|██████████| 96/96 [00:32<00:00,  2.94it/s]\n",
            "Val   - Epoch: 84, Loss: 10.2824, CER: 0.3600, WER: 0.6280, AvgLoss: 10.2994, AvgCER: 0.3409, AvgWER: 0.6187: 100%|██████████| 24/24 [00:05<00:00,  4.16it/s]\n",
            "Test  - Epoch: 84, Loss: 28.2156, CER: 0.8963, WER: 0.9840, AvgLoss: 29.5490, AvgCER: 0.9087, AvgWER: 0.9890: 100%|██████████| 120/120 [00:26<00:00,  4.47it/s]\n",
            "Train - Epoch: 85, Loss: 0.8961, CER: 0.0348, WER: 0.1840, AvgLoss: 0.8807, AvgCER: 0.0417, AvgWER: 0.1797: 100%|██████████| 96/96 [00:32<00:00,  2.93it/s]\n",
            "Val   - Epoch: 85, Loss: 10.6689, CER: 0.3157, WER: 0.5800, AvgLoss: 10.3527, AvgCER: 0.3274, AvgWER: 0.6032: 100%|██████████| 24/24 [00:05<00:00,  4.08it/s]\n",
            "Test  - Epoch: 85, Loss: 29.5676, CER: 0.9154, WER: 0.9920, AvgLoss: 30.4475, AvgCER: 0.9093, AvgWER: 0.9891: 100%|██████████| 120/120 [00:26<00:00,  4.47it/s]\n",
            "Train - Epoch: 86, Loss: 1.0073, CER: 0.0522, WER: 0.2200, AvgLoss: 0.8239, AvgCER: 0.0375, AvgWER: 0.1656: 100%|██████████| 96/96 [00:32<00:00,  2.95it/s]\n",
            "Val   - Epoch: 86, Loss: 11.3065, CER: 0.3602, WER: 0.6400, AvgLoss: 10.4166, AvgCER: 0.3362, AvgWER: 0.6128: 100%|██████████| 24/24 [00:05<00:00,  4.13it/s]\n",
            "Test  - Epoch: 86, Loss: 29.9447, CER: 0.8912, WER: 0.9920, AvgLoss: 29.9929, AvgCER: 0.8909, AvgWER: 0.9887: 100%|██████████| 120/120 [00:27<00:00,  4.44it/s]\n",
            "Train - Epoch: 87, Loss: 0.5645, CER: 0.0288, WER: 0.1480, AvgLoss: 0.6876, AvgCER: 0.0301, AvgWER: 0.1383: 100%|██████████| 96/96 [00:32<00:00,  2.94it/s]\n",
            "Val   - Epoch: 87, Loss: 10.5621, CER: 0.2995, WER: 0.5640, AvgLoss: 10.4803, AvgCER: 0.3253, AvgWER: 0.6000: 100%|██████████| 24/24 [00:05<00:00,  4.11it/s]\n",
            "Test  - Epoch: 87, Loss: 32.6325, CER: 0.9419, WER: 0.9880, AvgLoss: 30.9920, AvgCER: 0.8965, AvgWER: 0.9879: 100%|██████████| 120/120 [00:26<00:00,  4.45it/s]\n",
            "Train - Epoch: 88, Loss: 0.5179, CER: 0.0213, WER: 0.1120, AvgLoss: 0.5480, AvgCER: 0.0201, AvgWER: 0.1015: 100%|██████████| 96/96 [00:32<00:00,  2.95it/s]\n",
            "Val   - Epoch: 88, Loss: 9.7279, CER: 0.3189, WER: 0.5800, AvgLoss: 10.5674, AvgCER: 0.3296, AvgWER: 0.6053: 100%|██████████| 24/24 [00:05<00:00,  4.09it/s]\n",
            "Test  - Epoch: 88, Loss: 30.2800, CER: 0.9170, WER: 0.9840, AvgLoss: 30.7827, AvgCER: 0.8977, AvgWER: 0.9890: 100%|██████████| 120/120 [00:26<00:00,  4.45it/s]\n",
            "Train - Epoch: 89, Loss: 0.3654, CER: 0.0133, WER: 0.0600, AvgLoss: 0.4190, AvgCER: 0.0124, AvgWER: 0.0636: 100%|██████████| 96/96 [00:32<00:00,  2.94it/s]\n",
            "Val   - Epoch: 89, Loss: 10.7154, CER: 0.3046, WER: 0.6040, AvgLoss: 10.7268, AvgCER: 0.3262, AvgWER: 0.6040: 100%|██████████| 24/24 [00:05<00:00,  4.09it/s]\n",
            "Test  - Epoch: 89, Loss: 31.5088, CER: 0.8477, WER: 0.9880, AvgLoss: 31.6637, AvgCER: 0.8957, AvgWER: 0.9886: 100%|██████████| 120/120 [00:26<00:00,  4.47it/s]\n",
            "Train - Epoch: 90, Loss: 0.3225, CER: 0.0081, WER: 0.0440, AvgLoss: 0.3122, AvgCER: 0.0063, AvgWER: 0.0353: 100%|██████████| 96/96 [00:32<00:00,  2.93it/s]\n",
            "Val   - Epoch: 90, Loss: 9.8350, CER: 0.3032, WER: 0.5480, AvgLoss: 10.8172, AvgCER: 0.3208, AvgWER: 0.5955: 100%|██████████| 24/24 [00:05<00:00,  4.11it/s]\n",
            "Test  - Epoch: 90, Loss: 31.0596, CER: 0.8602, WER: 0.9840, AvgLoss: 32.1527, AvgCER: 0.8896, AvgWER: 0.9893: 100%|██████████| 120/120 [00:26<00:00,  4.50it/s]\n",
            "Train - Epoch: 91, Loss: 0.3349, CER: 0.0077, WER: 0.0480, AvgLoss: 0.2423, AvgCER: 0.0035, AvgWER: 0.0198: 100%|██████████| 96/96 [00:32<00:00,  2.92it/s]\n",
            "Val   - Epoch: 91, Loss: 11.9861, CER: 0.3592, WER: 0.6280, AvgLoss: 10.9372, AvgCER: 0.3268, AvgWER: 0.6027: 100%|██████████| 24/24 [00:05<00:00,  4.13it/s]\n",
            "Test  - Epoch: 91, Loss: 33.9766, CER: 0.8618, WER: 0.9920, AvgLoss: 32.3904, AvgCER: 0.8946, AvgWER: 0.9890: 100%|██████████| 120/120 [00:26<00:00,  4.49it/s]\n",
            "Train - Epoch: 92, Loss: 0.2475, CER: 0.0039, WER: 0.0160, AvgLoss: 0.2012, AvgCER: 0.0022, AvgWER: 0.0123: 100%|██████████| 96/96 [00:32<00:00,  2.94it/s]\n",
            "Val   - Epoch: 92, Loss: 11.7286, CER: 0.3211, WER: 0.5600, AvgLoss: 10.9328, AvgCER: 0.3200, AvgWER: 0.5960: 100%|██████████| 24/24 [00:05<00:00,  4.16it/s]\n",
            "Test  - Epoch: 92, Loss: 33.9568, CER: 0.9101, WER: 0.9960, AvgLoss: 32.8109, AvgCER: 0.8850, AvgWER: 0.9885: 100%|██████████| 120/120 [00:27<00:00,  4.44it/s]\n",
            "Train - Epoch: 93, Loss: 0.1169, CER: 0.0008, WER: 0.0080, AvgLoss: 0.1529, AvgCER: 0.0012, AvgWER: 0.0063: 100%|██████████| 96/96 [00:32<00:00,  2.95it/s]\n",
            "Val   - Epoch: 93, Loss: 9.9477, CER: 0.2653, WER: 0.5640, AvgLoss: 11.0971, AvgCER: 0.3224, AvgWER: 0.5950: 100%|██████████| 24/24 [00:05<00:00,  4.09it/s]\n",
            "Test  - Epoch: 93, Loss: 32.8261, CER: 0.8779, WER: 0.9920, AvgLoss: 33.1953, AvgCER: 0.8929, AvgWER: 0.9879: 100%|██████████| 120/120 [00:26<00:00,  4.47it/s]\n",
            "Train - Epoch: 94, Loss: 0.0804, CER: 0.0000, WER: 0.0000, AvgLoss: 0.1264, AvgCER: 0.0009, AvgWER: 0.0041: 100%|██████████| 96/96 [00:32<00:00,  2.95it/s]\n",
            "Val   - Epoch: 94, Loss: 11.3410, CER: 0.3242, WER: 0.6280, AvgLoss: 11.2096, AvgCER: 0.3233, AvgWER: 0.5985: 100%|██████████| 24/24 [00:05<00:00,  4.13it/s]\n",
            "Test  - Epoch: 94, Loss: 34.4790, CER: 0.9210, WER: 0.9800, AvgLoss: 33.5499, AvgCER: 0.8961, AvgWER: 0.9886: 100%|██████████| 120/120 [00:26<00:00,  4.48it/s]\n",
            "Train - Epoch: 95, Loss: 0.0914, CER: 0.0007, WER: 0.0040, AvgLoss: 0.1156, AvgCER: 0.0009, AvgWER: 0.0037: 100%|██████████| 96/96 [00:32<00:00,  2.94it/s]\n",
            "Val   - Epoch: 95, Loss: 12.2831, CER: 0.3330, WER: 0.6080, AvgLoss: 11.2423, AvgCER: 0.3232, AvgWER: 0.5943: 100%|██████████| 24/24 [00:05<00:00,  4.09it/s]\n",
            "Test  - Epoch: 95, Loss: 32.2728, CER: 0.8924, WER: 0.9880, AvgLoss: 33.6945, AvgCER: 0.8968, AvgWER: 0.9891: 100%|██████████| 120/120 [00:27<00:00,  4.43it/s]\n",
            "Train - Epoch: 96, Loss: 0.2085, CER: 0.0028, WER: 0.0120, AvgLoss: 0.1075, AvgCER: 0.0008, AvgWER: 0.0036: 100%|██████████| 96/96 [00:32<00:00,  2.93it/s]\n",
            "Val   - Epoch: 96, Loss: 13.2324, CER: 0.3598, WER: 0.6520, AvgLoss: 11.4649, AvgCER: 0.3242, AvgWER: 0.5970: 100%|██████████| 24/24 [00:05<00:00,  4.05it/s]\n",
            "Test  - Epoch: 96, Loss: 34.5776, CER: 0.9059, WER: 0.9920, AvgLoss: 34.2440, AvgCER: 0.8962, AvgWER: 0.9887: 100%|██████████| 120/120 [00:26<00:00,  4.47it/s]\n",
            "Train - Epoch: 97, Loss: 0.0665, CER: 0.0000, WER: 0.0000, AvgLoss: 0.1032, AvgCER: 0.0008, AvgWER: 0.0033: 100%|██████████| 96/96 [00:32<00:00,  2.94it/s]\n",
            "Val   - Epoch: 97, Loss: 10.8089, CER: 0.3267, WER: 0.5760, AvgLoss: 11.5052, AvgCER: 0.3214, AvgWER: 0.5940: 100%|██████████| 24/24 [00:05<00:00,  4.05it/s]\n",
            "Test  - Epoch: 97, Loss: 34.9586, CER: 0.8735, WER: 0.9840, AvgLoss: 34.4933, AvgCER: 0.8910, AvgWER: 0.9883: 100%|██████████| 120/120 [00:26<00:00,  4.45it/s]\n",
            "Train - Epoch: 98, Loss: 0.0658, CER: 0.0000, WER: 0.0000, AvgLoss: 0.0959, AvgCER: 0.0008, AvgWER: 0.0032: 100%|██████████| 96/96 [00:32<00:00,  2.94it/s]\n",
            "Val   - Epoch: 98, Loss: 11.7005, CER: 0.3149, WER: 0.6200, AvgLoss: 11.6186, AvgCER: 0.3242, AvgWER: 0.5977: 100%|██████████| 24/24 [00:05<00:00,  4.16it/s]\n",
            "Test  - Epoch: 98, Loss: 34.4952, CER: 0.9244, WER: 0.9960, AvgLoss: 34.4997, AvgCER: 0.8886, AvgWER: 0.9888: 100%|██████████| 120/120 [00:27<00:00,  4.42it/s]\n",
            "Train - Epoch: 99, Loss: 0.0626, CER: 0.0000, WER: 0.0000, AvgLoss: 0.0937, AvgCER: 0.0008, AvgWER: 0.0033: 100%|██████████| 96/96 [00:32<00:00,  2.93it/s]\n",
            "Val   - Epoch: 99, Loss: 10.4025, CER: 0.3084, WER: 0.5840, AvgLoss: 11.6161, AvgCER: 0.3219, AvgWER: 0.5990: 100%|██████████| 24/24 [00:05<00:00,  4.19it/s]\n",
            "Test  - Epoch: 99, Loss: 35.9699, CER: 0.8514, WER: 0.9880, AvgLoss: 34.8420, AvgCER: 0.8907, AvgWER: 0.9885: 100%|██████████| 120/120 [00:26<00:00,  4.48it/s]\n"
          ],
          "name": "stderr"
        }
      ]
    },
    {
      "cell_type": "markdown",
      "metadata": {
        "id": "BAa-Aehnoxv2",
        "colab_type": "text"
      },
      "source": [
        "### Results"
      ]
    },
    {
      "cell_type": "code",
      "metadata": {
        "id": "oNjjqL7how2Q",
        "colab_type": "code",
        "outputId": "cb461694-47f6-4721-8eae-61dd9763adf7",
        "colab": {
          "base_uri": "https://localhost:8080/",
          "height": 366
        }
      },
      "source": [
        "plt.title('Loss: Rimes to IAM')\n",
        "plt.xlabel('Epochs')\n",
        "plt.ylabel('Loss')\n",
        "plt.plot(rimes_to_iam_losses[0], label='Rimes Train')\n",
        "plt.plot(rimes_to_iam_losses[1], label='Rimes Val')\n",
        "plt.plot(rimes_to_iam_losses[2], label='IAM')\n",
        "plt.legend()\n",
        "plt.show()\n",
        "print('Train:', rimes_to_iam_losses[0])\n",
        "print('Val:', rimes_to_iam_losses[1])\n",
        "print('Test:', rimes_to_iam_losses[2])"
      ],
      "execution_count": 0,
      "outputs": [
        {
          "output_type": "display_data",
          "data": {
            "image/png": "[encoded data removed]",
            "text/plain": [
              "<Figure size 432x288 with 1 Axes>"
            ]
          },
          "metadata": {
            "tags": []
          }
        },
        {
          "output_type": "stream",
          "text": [
            "Train: [30.420798937479656, 17.389217754205067, 19.459588527679443, 17.327002217372257, 16.423241247733433, 15.874862680832544, 15.28619239727656, 14.580526570479075, 14.137240966161093, 13.881320168574652, 13.565908869107565, 13.270052015781403, 13.058069626490274, 12.808153480291367, 12.563635498285294, 12.370587488015493, 12.128782361745834, 11.87898787856102, 11.641114691893259, 11.452481577793757, 11.204694559176763, 10.989793638388315, 10.715489765008291, 10.505810489257177, 10.22585109869639, 9.98928133646647, 9.78399113814036, 9.49799088637034, 9.318909168243408, 9.073429842789968, 8.860515197118124, 8.600726306438446, 8.37596740325292, 8.08879184226195, 7.865925704439481, 7.658558666706085, 7.408094048500061, 7.1868923256794615, 6.955196291208267, 6.728188460071881, 6.487294976909955, 6.355518847703934, 6.101044113437335, 5.870999013384183, 5.648304685950279, 5.442437767982483, 5.227690880497296, 5.042979396879673, 4.811105820039908, 4.661197021603584, 4.553656950592995, 4.297370187938213, 4.19090652714173, 3.9811007728179297, 3.798183816174666, 3.565800348917643, 3.4731692373752594, 3.3170576319098473, 3.146517107884089, 2.9910281946261725, 2.7951462840040526, 2.6719273750980697, 2.579443042476972, 2.4562111472090087, 2.2874637879431248, 2.294808253645897, 2.0389341736833253, 1.9463435399035613, 1.837254219998916, 1.7118459281822045, 1.659254975616932, 1.4992467959721882, 1.5173182326058547, 1.413132054110368, 1.2429958414286375, 1.2596614093830187, 1.21260217577219, 1.050287114456296, 0.9923994801938534, 0.9085625701894363, 0.8321749220291773, 0.8577810792873303, 0.8209708066036304, 0.7632409042368332, 0.753828277811408, 0.880714854846398, 0.8239453000326952, 0.6876446033517519, 0.5480373778070012, 0.4189942826827367, 0.31217545255397755, 0.24232918753599128, 0.20120259172593555, 0.15292012924328446, 0.1263805265383174, 0.11562873236835003, 0.10746124867970745, 0.10322900659715135, 0.09585626167245209, 0.09366534173022956]\n",
            "Val: [18.1715985139211, 17.009345451990765, 17.786271969477337, 17.03419593969981, 16.407193581263225, 15.721277157465616, 15.092175881067911, 14.34083358446757, 14.114433685938517, 13.81387480099996, 13.638239026069641, 13.222445845603943, 12.999352614084879, 12.768982529640198, 12.58555273214976, 12.278172334035238, 12.114541212717691, 11.926324486732483, 11.823880791664124, 11.542457660039267, 11.349364995956421, 11.192049185434977, 10.93182106812795, 10.663341482480368, 10.515570123990377, 10.275366425514221, 10.018856724103292, 10.056538899739584, 9.704079548517862, 9.691897948582968, 9.399172643820444, 9.330112020174662, 9.050272901852926, 9.044981320699057, 8.81760581334432, 8.677611728509268, 8.610945900281271, 8.486506243546804, 8.233952363332113, 8.230760951836904, 8.065452456474304, 8.038380324840546, 7.789387504259746, 7.871056377887726, 7.596144258975983, 7.671922028064728, 7.681246817111969, 7.515359918276469, 7.6078236897786455, 7.762126127878825, 7.478096882502238, 7.636901597181956, 7.721529185771942, 7.535656412442525, 7.580420215924581, 7.6613796552022295, 7.588636418183644, 7.634285966555278, 7.713587363560994, 7.812738478183746, 7.795810540517171, 7.951738735040029, 8.034042596817017, 8.134429713090261, 8.252943297227224, 8.198671181996664, 8.357185006141663, 8.413695375124613, 8.542217234770456, 8.696323772271475, 8.834356486797333, 8.706982731819153, 8.939483602841696, 8.975007851918539, 9.10236922899882, 9.31345788637797, 9.312702139218649, 9.379924595355988, 9.555113275845846, 9.627903878688812, 9.688310662905375, 9.941921850045523, 10.050867160161337, 10.183427850405375, 10.299435218175253, 10.35270619392395, 10.416646281878153, 10.480337421099344, 10.567430178324381, 10.726818283398947, 10.81716493765513, 10.937227567036947, 10.93277895450592, 11.09707510471344, 11.209593852361044, 11.242326259613037, 11.464863061904907, 11.50517475605011, 11.618635098139444, 11.61605934302012]\n",
            "Test: [17.860344966252644, 18.109380563100178, 18.69366035461426, 18.400718275705973, 18.048032903671263, 17.73148407936096, 17.652493023872374, 17.58951514561971, 17.984661960601805, 18.01242642402649, 18.26179526646932, 17.77443307240804, 17.516716289520264, 17.44309074083964, 17.808767636617024, 17.80663119951884, 17.81097633043925, 17.714191897710165, 17.60349548657735, 17.845303614934284, 17.90859653155009, 17.964207649230957, 17.750713268915813, 17.588024425506593, 17.637529373168945, 17.879098637898764, 17.922107410430907, 17.744169394175213, 17.794556617736816, 18.350498882929482, 17.746698681513468, 18.455121803283692, 17.99058855374654, 17.782186237970986, 18.03996820449829, 18.466593758265176, 17.872942622502645, 18.36060865720113, 18.193232901891072, 18.272082885106403, 18.653790553410847, 18.464804204305015, 18.71533687909444, 18.49573278427124, 18.731590922673544, 19.22368313471476, 19.224851242701213, 19.56081132888794, 19.793362394968668, 20.160291528701784, 19.880908155441283, 20.00576785405477, 20.890399328867595, 20.369100475311278, 21.341710805892944, 21.201069529851278, 20.81691379547119, 21.361982425053913, 21.830507008234658, 22.04735450744629, 22.145514933268228, 22.51980080604553, 23.064648548762005, 23.25669337908427, 23.518050781885783, 23.487798277537028, 24.04520502090454, 24.48580463727315, 24.279518858591715, 25.10022053718567, 25.731530888875326, 25.623551241556804, 25.9459405263265, 26.421229139963785, 26.586072794596355, 27.557163794835407, 27.35275934537252, 27.557543341318766, 28.101417366663615, 28.957734727859496, 28.98653925259908, 29.287698856989543, 29.548511505126953, 29.149626588821413, 29.548999961217245, 30.44745504061381, 29.992947912216188, 30.992002725601196, 30.78271617889404, 31.663665056228638, 32.152671845753986, 32.39035388628642, 32.810892486572264, 33.19534362157186, 33.549884176254274, 33.69449815750122, 34.244045925140384, 34.49327300389608, 34.49972194035848, 34.8420224348704]\n"
          ],
          "name": "stdout"
        }
      ]
    },
    {
      "cell_type": "code",
      "metadata": {
        "id": "VtAg6sG3pFRh",
        "colab_type": "code",
        "outputId": "86aa4195-e5c8-457b-c608-4b3c5de4d449",
        "colab": {
          "base_uri": "https://localhost:8080/",
          "height": 366
        }
      },
      "source": [
        "plt.title('Character Error Rate: Rimes to IAM')\n",
        "plt.xlabel('Epochs')\n",
        "plt.ylabel('Character Error Rate')\n",
        "plt.plot(rimes_to_iam_cers[0], label='Rimes Train')\n",
        "plt.plot(rimes_to_iam_cers[1], label='Rimes Val')\n",
        "plt.plot(rimes_to_iam_cers[2], label='IAM')\n",
        "plt.legend()\n",
        "plt.show()\n",
        "print('Train:', rimes_to_iam_cers[0])\n",
        "print('Val:', rimes_to_iam_cers[1])\n",
        "print('Test:', rimes_to_iam_cers[2])"
      ],
      "execution_count": 0,
      "outputs": [
        {
          "output_type": "display_data",
          "data": {
            "image/png": "[encoded data removed]",
            "text/plain": [
              "<Figure size 432x288 with 1 Axes>"
            ]
          },
          "metadata": {
            "tags": []
          }
        },
        {
          "output_type": "stream",
          "text": [
            "Train: [1.208376519123578, 0.9780860597735598, 1.0472813647001147, 0.9509903014809264, 0.857780333497521, 0.8246861216908092, 0.8078997022143163, 0.769536981700217, 0.7480044879446535, 0.7350660298647432, 0.7187707642167201, 0.6990905938662372, 0.6858380210509806, 0.6725579779867462, 0.6563778359406117, 0.6482202332253802, 0.6322301230972186, 0.6174250090391634, 0.6013956329175998, 0.5903625855421811, 0.5741550935209943, 0.5617867919219941, 0.5453909767350025, 0.5309708859937721, 0.518231209252349, 0.502615570326324, 0.49160525054330195, 0.47279177168487835, 0.46458739687599976, 0.4500225449625266, 0.4391884593313821, 0.42257819745273784, 0.4098722731686886, 0.39708618658710576, 0.38261839313668355, 0.37109343491815916, 0.35679402196387483, 0.3457445296159451, 0.3340934204582182, 0.321969394409376, 0.30872886096746394, 0.3046925277575094, 0.29089292529366056, 0.2801421002336444, 0.2690396536061977, 0.2589703405356898, 0.24807465265195042, 0.24034098457370515, 0.2276236268497298, 0.22116092735559648, 0.21762062896254072, 0.2024087280638751, 0.19938114857636915, 0.189222985079327, 0.17921370292629488, 0.16772884183830875, 0.16433689704222793, 0.15609668190945764, 0.14806631798552752, 0.1395782005644138, 0.12897146360923936, 0.12419638832028539, 0.11929625350140056, 0.1134631835790843, 0.10579861972858295, 0.10874828401105975, 0.09243601601965573, 0.08846216227604094, 0.08248073855950694, 0.07672094365669734, 0.07502532229820832, 0.06554040825391928, 0.06894882856114473, 0.06250717118529618, 0.05211277408933659, 0.05587160099228114, 0.054318992465867466, 0.04358834375727758, 0.04140582977412021, 0.036743707058872505, 0.03295426987568532, 0.035573082445876564, 0.03420688061597988, 0.030554863913319796, 0.031138908888633157, 0.04171028071193512, 0.037522581455853514, 0.030071557364204426, 0.020057715660564926, 0.012404523883659915, 0.00628450470757456, 0.003472502728752729, 0.0021500606623768384, 0.0012004434223184225, 0.0008865099021349021, 0.0008639580327080327, 0.0008198623136123137, 0.0007837301587301587, 0.0007877314814814816, 0.0007966435185185186]\n",
            "Val: [1.0, 0.999920634920635, 1.0, 0.9399600098975099, 0.8196996457246457, 0.7986127496893944, 0.7895992534633981, 0.7492865976859399, 0.749064862939205, 0.7348435997116919, 0.7151728540221961, 0.6878333554116448, 0.680689477530267, 0.6603786963280384, 0.6620579934198355, 0.6334625744869166, 0.624140060889403, 0.6127123526327474, 0.6083339772435167, 0.5927053439859361, 0.5761191671145619, 0.5647658842862789, 0.5569214556520478, 0.5267530616922064, 0.5239409499613447, 0.5100007596813517, 0.4945098013341435, 0.5007217160398082, 0.4777439675456123, 0.47125685413514357, 0.45548492496781967, 0.4461533937066832, 0.43378653880232826, 0.43506102603536817, 0.4154009153127574, 0.4058210828158197, 0.4053058190591085, 0.39748989300173515, 0.3876240684875553, 0.3870788543571438, 0.3759339440895362, 0.37239581702410646, 0.36221676222169646, 0.3643439642472537, 0.34488977908056856, 0.3477994760113181, 0.35182935408889354, 0.3449127722910618, 0.34637007410231097, 0.34359708728162675, 0.33666829061533016, 0.33717741051589734, 0.3385460706204128, 0.3318625975510844, 0.32716600554659764, 0.32873966431959856, 0.3333634308917204, 0.32866873261971946, 0.3290706231512152, 0.3235216561459982, 0.3311430155736077, 0.3257539994970916, 0.3319840776913145, 0.3268971876442271, 0.33337819575648525, 0.3265033097628492, 0.32908278962752646, 0.3307989325732747, 0.33702862356941304, 0.3325635697879119, 0.3278763602382024, 0.3269648502204423, 0.33202291267455736, 0.3310105663951059, 0.33712709237643446, 0.32997657214861165, 0.33225582105516316, 0.3303022894016315, 0.32503581675390886, 0.33042804397113607, 0.3287337514580935, 0.3324597957841378, 0.33339209505163453, 0.33787626056935266, 0.3408900576518998, 0.32740812092391036, 0.3361585720079141, 0.3252749925634794, 0.32958496546095223, 0.32619252341226024, 0.32083599143303093, 0.32680471877050826, 0.3199814629449498, 0.32237413514847724, 0.32328562759121965, 0.3231650636644058, 0.3242495520926442, 0.32135267304576515, 0.32418323392007603, 0.32191913019972235]\n",
            "Test: [1.0, 0.9993029365079366, 1.0, 0.9723207232310174, 0.9824646593276005, 1.0325080361856638, 1.0292283674645788, 1.0206535648441684, 1.0099887385885529, 1.001424977753871, 1.008353111814799, 0.9843679033950512, 0.9422288346587766, 0.9539250804344147, 0.9639489535077924, 0.9569815877063825, 0.9608826545888467, 0.9784197189732639, 0.91306530514635, 0.9476836432896881, 0.9963917494088587, 0.9306529222019239, 0.9330723826454477, 0.926719696432595, 0.9197914513082662, 0.9474081637951259, 0.932247091052509, 0.9071108786333206, 0.9174941287029678, 0.9034055947369336, 0.9187199750441624, 0.9247584961479584, 0.8859250388249807, 0.894489161018147, 0.8884601470263196, 0.9048649413795699, 0.8788052662861449, 0.8956274993172748, 0.8969505342282703, 0.8937898622049318, 0.8716871163975344, 0.8578513990749246, 0.8992236292813653, 0.8981539866453062, 0.893084655314872, 0.9044117206772702, 0.8833861531634286, 0.9123409790340093, 0.9059919642524944, 0.8877993893430269, 0.9066759680776166, 0.8801101782641451, 0.8813347559856151, 0.8907954937561866, 0.9143193356773658, 0.9054381902059069, 0.9201233802901605, 0.9041747335889945, 0.9103781892020087, 0.8765799270631044, 0.9083164420805946, 0.8911361501129302, 0.915939778167166, 0.9019587394353725, 0.8793374821877182, 0.8868406085813052, 0.9115708593681001, 0.905223970404667, 0.9277974051249748, 0.8901249396411122, 0.9018984639700971, 0.8872177641606472, 0.9027462811991642, 0.9136719324787127, 0.9244017193394554, 0.9047440786107311, 0.9080947540688872, 0.9003086911176771, 0.894805542683867, 0.9053667660213597, 0.8970887496566327, 0.9106037970045091, 0.9117679449656813, 0.9048941655472151, 0.9086558698920618, 0.9093106818584179, 0.8909467138064894, 0.8965096134687466, 0.8976525065614926, 0.8956562665358949, 0.8896289941479802, 0.8946136186935412, 0.8849525569720383, 0.8928817265252521, 0.8960906930217185, 0.8968283752659449, 0.8961881018166272, 0.8909758691146887, 0.8885846337433063, 0.8907116341829538]\n"
          ],
          "name": "stdout"
        }
      ]
    },
    {
      "cell_type": "code",
      "metadata": {
        "id": "47k6LKJ_pRc6",
        "colab_type": "code",
        "outputId": "febb9611-26fb-48e8-dd50-51aa4c94ad0c",
        "colab": {
          "base_uri": "https://localhost:8080/",
          "height": 366
        }
      },
      "source": [
        "plt.title('Word Error Rate: Rimes to IAM')\n",
        "plt.xlabel('Epochs')\n",
        "plt.ylabel('Word Error Rate')\n",
        "plt.plot(rimes_to_iam_wers[0], label='Rimes Train')\n",
        "plt.plot(rimes_to_iam_wers[1], label='Rimes Val')\n",
        "plt.plot(rimes_to_iam_wers[2], label='IAM')\n",
        "plt.legend()\n",
        "plt.show()\n",
        "print('Train:', rimes_to_iam_wers[0])\n",
        "print('Val:', rimes_to_iam_wers[1])\n",
        "print('Test:', rimes_to_iam_wers[2])"
      ],
      "execution_count": 0,
      "outputs": [
        {
          "output_type": "display_data",
          "data": {
            "image/png": "[encoded data removed]",
            "text/plain": [
              "<Figure size 432x288 with 1 Axes>"
            ]
          },
          "metadata": {
            "tags": []
          }
        },
        {
          "output_type": "stream",
          "text": [
            "Train: [1.0107083333333333, 1.0, 1.0006666666666666, 0.9978333333333333, 0.9550833333333334, 0.933875, 0.9311250000000001, 0.9204583333333334, 0.9200416666666668, 0.9149583333333334, 0.9056250000000002, 0.8925000000000001, 0.8852500000000001, 0.87475, 0.8682500000000001, 0.8636666666666667, 0.8543750000000001, 0.8466250000000001, 0.8380000000000001, 0.8310416666666667, 0.8207083333333333, 0.812625, 0.8027083333333334, 0.792625, 0.7845416666666667, 0.7724166666666666, 0.7634166666666667, 0.74575, 0.7419583333333334, 0.7272500000000001, 0.7171249999999999, 0.7035, 0.6888333333333332, 0.6795416666666666, 0.6663749999999999, 0.6539166666666666, 0.6383333333333333, 0.6305, 0.62, 0.6049999999999999, 0.5911666666666666, 0.5898333333333333, 0.5760833333333334, 0.5635833333333333, 0.5518333333333333, 0.5405416666666666, 0.5281666666666667, 0.5188333333333334, 0.504625, 0.49629166666666663, 0.49299999999999994, 0.4739583333333333, 0.4708333333333334, 0.4590416666666666, 0.4467083333333333, 0.4277916666666666, 0.42487499999999995, 0.4124999999999999, 0.3982083333333333, 0.3868333333333333, 0.37070833333333325, 0.36174999999999996, 0.35670833333333335, 0.34612499999999996, 0.3293333333333333, 0.337625, 0.306625, 0.2995833333333333, 0.28383333333333327, 0.2720416666666666, 0.2700833333333333, 0.24616666666666667, 0.25499999999999995, 0.24, 0.21241666666666667, 0.22275000000000003, 0.21554166666666666, 0.18499999999999997, 0.17704166666666665, 0.16270833333333332, 0.14679166666666665, 0.15749999999999997, 0.1542083333333333, 0.14054166666666665, 0.14166666666666664, 0.17966666666666667, 0.16558333333333333, 0.13829166666666667, 0.10145833333333333, 0.06358333333333334, 0.035291666666666666, 0.019791666666666666, 0.012333333333333335, 0.006250000000000001, 0.004125, 0.00375, 0.0035833333333333338, 0.003333333333333334, 0.003208333333333334, 0.0032500000000000007]\n",
            "Val: [1.0, 1.0, 1.0, 1.0, 0.9333333333333332, 0.9315000000000001, 0.9255, 0.916, 0.9161666666666668, 0.9078333333333335, 0.8950000000000001, 0.883, 0.887, 0.8683333333333335, 0.8663333333333334, 0.8518333333333334, 0.8504999999999999, 0.8485, 0.8435, 0.8390000000000001, 0.8318333333333334, 0.8170000000000001, 0.8048333333333333, 0.7863333333333333, 0.7853333333333333, 0.7716666666666668, 0.7610000000000001, 0.7746666666666666, 0.7393333333333333, 0.7448333333333333, 0.7314999999999999, 0.7176666666666666, 0.7065, 0.711, 0.6876666666666668, 0.6754999999999999, 0.6834999999999999, 0.6711666666666666, 0.6618333333333334, 0.6601666666666667, 0.6511666666666667, 0.6576666666666666, 0.6313333333333333, 0.6396666666666667, 0.6163333333333333, 0.6215, 0.6291666666666667, 0.6126666666666666, 0.6168333333333333, 0.624, 0.6104999999999999, 0.6191666666666666, 0.6121666666666666, 0.6098333333333333, 0.5995, 0.602, 0.6071666666666666, 0.5951666666666666, 0.5963333333333333, 0.6, 0.601, 0.5991666666666666, 0.5991666666666667, 0.5946666666666667, 0.6128333333333332, 0.5998333333333333, 0.603, 0.6033333333333334, 0.6094999999999999, 0.61, 0.6064999999999999, 0.5956666666666667, 0.6018333333333333, 0.6078333333333333, 0.6053333333333333, 0.6018333333333333, 0.6038333333333333, 0.6023333333333333, 0.6, 0.6036666666666667, 0.6036666666666667, 0.6083333333333334, 0.6133333333333333, 0.6088333333333332, 0.6186666666666667, 0.6031666666666666, 0.6128333333333333, 0.6, 0.6053333333333333, 0.604, 0.5955, 0.6026666666666666, 0.596, 0.595, 0.5985, 0.5943333333333333, 0.597, 0.594, 0.5976666666666666, 0.5989999999999999]\n",
            "Test: [1.0, 1.0, 1.0, 1.0, 0.9997666666666667, 0.9997666666666667, 0.9998333333333334, 0.9998333333333334, 0.9997666666666667, 0.9998, 0.9997666666666667, 0.9997666666666667, 0.9997, 0.9989666666666667, 0.9994, 0.9991666666666668, 0.9994666666666667, 0.9994333333333334, 0.9995, 0.9981666666666666, 0.9990333333333334, 0.9986333333333335, 0.9977, 0.9985000000000002, 0.9980000000000001, 0.9961000000000001, 0.9987333333333335, 0.9988333333333335, 0.9982000000000001, 0.9985000000000002, 0.9978000000000001, 0.9986, 0.9968000000000001, 0.9937333333333335, 0.9916, 0.9937666666666668, 0.9914333333333334, 0.9951333333333334, 0.9891666666666669, 0.9930666666666668, 0.9895666666666666, 0.9876666666666665, 0.9895666666666666, 0.9913666666666666, 0.9919666666666668, 0.9915333333333334, 0.9887333333333334, 0.9897000000000001, 0.9892, 0.9905333333333334, 0.9881333333333333, 0.9880666666666668, 0.9883333333333333, 0.9869333333333333, 0.9889, 0.9893000000000001, 0.9888666666666666, 0.9891, 0.9888, 0.9874333333333333, 0.9900333333333333, 0.9886333333333334, 0.991, 0.9898000000000001, 0.9883333333333333, 0.9883666666666667, 0.9899666666666666, 0.9892333333333333, 0.9894999999999999, 0.9892333333333333, 0.9905666666666666, 0.9878666666666667, 0.9870333333333334, 0.9883000000000001, 0.9889333333333334, 0.9913666666666667, 0.9883333333333333, 0.9897666666666666, 0.9884333333333333, 0.988, 0.9879333333333332, 0.9892000000000001, 0.9902333333333334, 0.9900000000000001, 0.9890000000000001, 0.9891333333333333, 0.9887333333333334, 0.9878666666666666, 0.9890333333333334, 0.9885666666666667, 0.9893000000000001, 0.9890000000000001, 0.9884666666666667, 0.9878666666666667, 0.9886, 0.9891000000000001, 0.9887, 0.9882666666666667, 0.9888333333333333, 0.9885333333333333]\n"
          ],
          "name": "stdout"
        }
      ]
    }
  ]
}