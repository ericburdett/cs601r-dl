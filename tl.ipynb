{
  "nbformat": 4,
  "nbformat_minor": 0,
  "metadata": {
    "colab": {
      "name": "tl.ipynb",
      "provenance": [],
      "include_colab_link": true
    },
    "kernelspec": {
      "name": "python3",
      "display_name": "Python 3"
    },
    "accelerator": "GPU"
  },
  "cells": [
    {
      "cell_type": "markdown",
      "metadata": {
        "id": "view-in-github",
        "colab_type": "text"
      },
      "source": [
        "<a href=\"https://colab.research.google.com/github/ericburdett/cs601r-dl/blob/master/tl.ipynb\" target=\"_parent\"><img src=\"https://colab.research.google.com/assets/colab-badge.svg\" alt=\"Open In Colab\"/></a>"
      ]
    },
    {
      "cell_type": "markdown",
      "metadata": {
        "id": "dAoyRxyga7yC",
        "colab_type": "text"
      },
      "source": [
        "# Transfer Learning for Handwritten Documents"
      ]
    },
    {
      "cell_type": "markdown",
      "metadata": {
        "id": "ORD-9fjShxQ9",
        "colab_type": "text"
      },
      "source": [
        "### Imports\n",
        "Dependencies needed to run the code, including mounting GoogleDrive and copying files."
      ]
    },
    {
      "cell_type": "code",
      "metadata": {
        "id": "9mNs_BtsaykG",
        "colab_type": "code",
        "outputId": "0660ccdd-48cd-42cf-f947-096ed0e0b781",
        "colab": {
          "base_uri": "https://localhost:8080/",
          "height": 34
        }
      },
      "source": [
        "# Pytorch\n",
        "import torch\n",
        "import torch.nn as nn\n",
        "import torch.nn.functional as F\n",
        "import torch.optim as optim\n",
        "import editdistance as ed\n",
        "from torchvision import transforms, utils, datasets\n",
        "from torch.utils.data import Dataset, DataLoader, SubsetRandomSampler\n",
        "assert torch.cuda.is_available(), \"Request a GPU from Runtime > Change Runtime\"\n",
        "\n",
        "# Python\n",
        "import gc\n",
        "import os\n",
        "import gzip\n",
        "import tarfile\n",
        "import time\n",
        "import random\n",
        "import numba as nb\n",
        "\n",
        "# Data Structures\n",
        "import pandas as pd\n",
        "import numpy as np\n",
        "import json\n",
        "import csv\n",
        "\n",
        "# Debug/Progress\n",
        "from tqdm import tqdm\n",
        "import pdb\n",
        "from IPython.core.ultratb import AutoFormattedTB\n",
        "__ITB__ = AutoFormattedTB(mode = 'Verbose',color_scheme='LightBg', tb_offset = 1)\n",
        "\n",
        "# Image Manipulations / Plotting\n",
        "import matplotlib.pyplot as plt\n",
        "from PIL import Image, ImageOps\n",
        "import cv2\n",
        "\n",
        "# Colab\n",
        "from google.colab import drive\n",
        "drive.mount('/content/drive')"
      ],
      "execution_count": 43,
      "outputs": [
        {
          "output_type": "stream",
          "text": [
            "Drive already mounted at /content/drive; to attempt to forcibly remount, call drive.mount(\"/content/drive\", force_remount=True).\n"
          ],
          "name": "stdout"
        }
      ]
    },
    {
      "cell_type": "code",
      "metadata": {
        "id": "txMKyt14nns1",
        "colab_type": "code",
        "outputId": "21c166b6-1d40-4ab7-8f22-7247e2ccb711",
        "colab": {
          "base_uri": "https://localhost:8080/",
          "height": 153
        }
      },
      "source": [
        "!cp \"drive/My Drive/datasets/iam.zip\" \"/content\"\n",
        "!cp \"drive/My Drive/datasets/rimes.zip\" \"/content\"\n",
        "!unzip -q iam.zip -d iam\n",
        "!unzip -q rimes.zip -d rimes\n",
        "!wget -q https://raw.githubusercontent.com/ericburdett/cs601r-dl/master/char_set.json\n",
        "!rm iam.zip\n",
        "!rm rimes.zip"
      ],
      "execution_count": 0,
      "outputs": [
        {
          "output_type": "stream",
          "text": [
            "warning [iam.zip]:  76 extra bytes at beginning or within zipfile\n",
            "  (attempting to process anyway)\n",
            "error [iam.zip]:  reported length of central directory is\n",
            "  -76 bytes too long (Atari STZip zipfile?  J.H.Holm ZIPSPLIT 1.1\n",
            "  zipfile?).  Compensating...\n",
            "error:  expected central file header signature not found (file #95170).\n",
            "  (please check that you have transferred or created the zipfile in the\n",
            "  appropriate BINARY mode and that you have compiled UnZip properly)\n"
          ],
          "name": "stdout"
        }
      ]
    },
    {
      "cell_type": "markdown",
      "metadata": {
        "id": "Zpk_LmY_N_OC",
        "colab_type": "text"
      },
      "source": [
        "### Create IAM and RIMES Dataset Classes"
      ]
    },
    {
      "cell_type": "code",
      "metadata": {
        "id": "0hR1K07Tn8FJ",
        "colab_type": "code",
        "colab": {}
      },
      "source": [
        "class IamDataset(Dataset):\n",
        "  def __init__(self, desired_size=(32, 128), total_imgs=None):\n",
        "    self.desired_size = desired_size\n",
        "    self.img_path = '/content/iam/images/'\n",
        "    self.df = pd.read_csv('/content/iam/labels.csv', header=None, sep='\\t', names=['word', 'seg', 'transcription'], quoting=csv.QUOTE_NONE)\n",
        "    if total_imgs != None:\n",
        "      self.df = self.df[:total_imgs]\n",
        "\n",
        "  def get_df(self):\n",
        "    return self.df\n",
        "\n",
        "  def tensor_image(self, path):\n",
        "    # img = cv2.imread(path + '.png')\n",
        "    # img = preprocess(path + '.png', (1024, 128, 1))\n",
        "    img = Image.open(path + '.png')\n",
        "    img = img.point(lambda p: p > 200 and 255)\n",
        "    img = self.resize(img)\n",
        "    # img = img.astype(np.float32)\n",
        "    x = transforms.functional.to_tensor(img)\n",
        "\n",
        "    return x\n",
        "\n",
        "  def resize(self, img):\n",
        "    img_size = np.array(img).shape\n",
        "\n",
        "    img_ratio = img_size[0] / img_size[1]\n",
        "    desired_ratio = self.desired_size[0] / self.desired_size[1]\n",
        "\n",
        "    if img_ratio >= desired_ratio:\n",
        "      # Solve by height\n",
        "      new_height = self.desired_size[0]\n",
        "      new_width = int(self.desired_size[0] // img_ratio)\n",
        "    else:\n",
        "      new_height = int(self.desired_size[1] * img_ratio)\n",
        "      new_width = self.desired_size[1]\n",
        "      # Solve by width\n",
        "\n",
        "    img = np.array(img.resize((new_width, new_height)))\n",
        "\n",
        "    border_top = self.desired_size[0] - new_height\n",
        "    border_right = self.desired_size[1] - new_width\n",
        "\n",
        "    img = np.pad(img, [(border_top, 0), (0, border_right)], mode='constant', constant_values=255)\n",
        "\n",
        "    return img\n",
        "\n",
        "  def __getitem__(self, index):\n",
        "    path = 'iam/images/' + self.df['word'][index]\n",
        "    img = self.tensor_image(path)\n",
        "\n",
        "    return img, self.df['transcription'][index], index\n",
        "\n",
        "  def __len__(self):\n",
        "    return len(self.df)\n",
        "\n",
        "\n",
        "''' RIMES DATSET '''\n",
        "\n",
        "class RimesDataset(Dataset):\n",
        "  def __init__(self, desired_size=(32, 128, 1), total_imgs=None):\n",
        "    self.desired_size = desired_size\n",
        "    self.img_path = '/content/rimes/images/'\n",
        "    self.df = pd.read_csv('/content/rimes/labels.csv', header=None, sep='\\t', names=['word', 'transcription'], quoting=csv.QUOTE_NONE)\n",
        "    if total_imgs != None:\n",
        "      self.df = self.df[:total_imgs]\n",
        "\n",
        "  def get_df(self):\n",
        "    return self.df\n",
        "\n",
        "  def tensor_image(self, path):\n",
        "    img = Image.open(path)\n",
        "    img = img.point(lambda p: p > 200 and 255)\n",
        "    img = self.resize(img)\n",
        "    # img = img.astype(np.float32)\n",
        "    x = transforms.functional.to_tensor(img)\n",
        "\n",
        "    return x\n",
        "\n",
        "  def resize(self, img):\n",
        "    img_size = np.array(img).shape\n",
        "\n",
        "    img_ratio = img_size[0] / img_size[1]\n",
        "    desired_ratio = self.desired_size[0] / self.desired_size[1]\n",
        "\n",
        "    if img_ratio >= desired_ratio:\n",
        "      # Solve by height\n",
        "      new_height = self.desired_size[0]\n",
        "      new_width = int(self.desired_size[0] // img_ratio)\n",
        "    else:\n",
        "      new_height = int(self.desired_size[1] * img_ratio)\n",
        "      new_width = self.desired_size[1]\n",
        "      # Solve by width\n",
        "\n",
        "    img = np.array(img.resize((new_width, new_height)))\n",
        "\n",
        "    border_top = self.desired_size[0] - new_height\n",
        "    border_right = self.desired_size[1] - new_width\n",
        "\n",
        "    img = np.pad(img, [(border_top, 0), (0, border_right)], mode='constant', constant_values=255)\n",
        "\n",
        "    return img\n",
        "\n",
        "  def __getitem__(self, index):\n",
        "    path = 'rimes/images/' + self.df['word'][index]\n",
        "    img = self.tensor_image(path)\n",
        "\n",
        "    return img, self.df['transcription'][index], index\n",
        "\n",
        "  def __len__(self):\n",
        "    return len(self.df)"
      ],
      "execution_count": 0,
      "outputs": []
    },
    {
      "cell_type": "code",
      "metadata": {
        "id": "X2whsfIofM_y",
        "colab_type": "code",
        "outputId": "35455a0a-81d2-4341-f9ab-c49a64158d6f",
        "colab": {
          "base_uri": "https://localhost:8080/",
          "height": 162
        }
      },
      "source": [
        "iam = IamDataset(total_imgs=25000, desired_size=(128, 1024, 1))\n",
        "index = 19\n",
        "\n",
        "start = time.perf_counter()\n",
        "img, trans, _ = iam[index]\n",
        "end = time.perf_counter()\n",
        "print(end - start)\n",
        "\n",
        "print('Length: ', len(iam))\n",
        "print('Transcription: ', trans)\n",
        "plt.imshow(img.squeeze(), cmap='gray')"
      ],
      "execution_count": 61,
      "outputs": [
        {
          "output_type": "stream",
          "text": [
            "0.002504105999832973\n",
            "Length:  25000\n",
            "Transcription:  meeting\n"
          ],
          "name": "stdout"
        },
        {
          "output_type": "execute_result",
          "data": {
            "text/plain": [
              "<matplotlib.image.AxesImage at 0x7f45aa0bc3c8>"
            ]
          },
          "metadata": {
            "tags": []
          },
          "execution_count": 61
        },
        {
          "output_type": "display_data",
          "data": {
            "image/png": "[encoded data removed]",
            "text/plain": [
              "<Figure size 432x288 with 1 Axes>"
            ]
          },
          "metadata": {
            "tags": [],
            "needs_background": "light"
          }
        }
      ]
    },
    {
      "cell_type": "code",
      "metadata": {
        "id": "MKG9BV20LZjj",
        "colab_type": "code",
        "outputId": "b0850bf9-afb2-4fc0-fd73-0c84f5814eaa",
        "colab": {
          "base_uri": "https://localhost:8080/",
          "height": 202
        }
      },
      "source": [
        "rimes = RimesDataset(total_imgs=25000, desired_size=(32, 128, 1))\n",
        "index = 1\n",
        "\n",
        "start = time.perf_counter()\n",
        "img, trans, _ = rimes[index]\n",
        "end = time.perf_counter()\n",
        "print(end - start)\n",
        "\n",
        "print('Length: ', len(rimes))\n",
        "print('Transcription: ', trans)\n",
        "plt.imshow(img.squeeze(), cmap='gray')"
      ],
      "execution_count": 46,
      "outputs": [
        {
          "output_type": "stream",
          "text": [
            "0.002024442999754683\n",
            "Length:  25000\n",
            "Transcription:  marche\n"
          ],
          "name": "stdout"
        },
        {
          "output_type": "execute_result",
          "data": {
            "text/plain": [
              "<matplotlib.image.AxesImage at 0x7f45ab66fe48>"
            ]
          },
          "metadata": {
            "tags": []
          },
          "execution_count": 46
        },
        {
          "output_type": "display_data",
          "data": {
            "image/png": "[encoded data removed]",
            "text/plain": [
              "<Figure size 432x288 with 1 Axes>"
            ]
          },
          "metadata": {
            "tags": [],
            "needs_background": "light"
          }
        }
      ]
    },
    {
      "cell_type": "markdown",
      "metadata": {
        "id": "h3VJmm8XnmHY",
        "colab_type": "text"
      },
      "source": [
        "### Character Encoding"
      ]
    },
    {
      "cell_type": "code",
      "metadata": {
        "id": "DFAv6qAWnkgQ",
        "colab_type": "code",
        "colab": {}
      },
      "source": [
        "class Encoder():\n",
        "  def __init__(self, sequence_size=150):\n",
        "    with open('char_set.json') as file:\n",
        "      self.json = json.load(file)\n",
        "    \n",
        "    self.sequence_size = sequence_size\n",
        "\n",
        "  def remove_duplicates(self, idxs):\n",
        "    new_idxs = []\n",
        "\n",
        "    for i in range(len(idxs)):\n",
        "      if i + 1 == len(idxs) or idxs[i] != idxs[i + 1]:\n",
        "        new_idxs.append(idxs[i])\n",
        "    \n",
        "    return new_idxs\n",
        "  \n",
        "  def add_blanks(self, idxs):\n",
        "    new_idxs = []\n",
        "\n",
        "    for i in range(len(idxs)):\n",
        "      new_idxs.append(idxs[i])\n",
        "      if i + 1 != len(idxs) and idxs[i] == idxs[i + 1]:\n",
        "        new_idxs.append(0)\n",
        "    \n",
        "    return new_idxs\n",
        "  \n",
        "  def idx_to_char(self, idx):\n",
        "    if idx == 0:\n",
        "      return ''\n",
        "    else:\n",
        "      return self.json['idx_to_char'][str(int(idx))]\n",
        "  \n",
        "  def char_to_idx(self, char):\n",
        "    return int(self.json['char_to_idx'][char])\n",
        "  \n",
        "  def str_to_idxs(self, string):\n",
        "    idxs = []\n",
        "\n",
        "    zeros = np.zeros(self.sequence_size)\n",
        "\n",
        "    for char in string:\n",
        "      idxs.append(self.char_to_idx(char))\n",
        "\n",
        "    # Add blanks if CTC-Loss requires it...\n",
        "    # idxs = self.add_blanks(idxs)\n",
        "\n",
        "    idxs = np.concatenate((idxs, zeros))[:self.sequence_size]\n",
        "    \n",
        "    return idxs, len(string)\n",
        "\n",
        "  def idxs_to_str(self, idxs):\n",
        "    string = ''\n",
        "    idxs = self.remove_duplicates(idxs)\n",
        "\n",
        "    for idx in idxs:\n",
        "      string += self.idx_to_char(idx)\n",
        "    \n",
        "    return string\n",
        "  \n",
        "  def str_to_idxs_batch(self, batch):\n",
        "    idxs = []\n",
        "    lengths = []\n",
        "\n",
        "    for string in batch:\n",
        "      idx, length = self.str_to_idxs(string)\n",
        "      idxs.append(idx)\n",
        "      if length > self.sequence_size:\n",
        "        length = self.sequence_size\n",
        "      lengths.append(length)\n",
        "    \n",
        "    return idxs, lengths\n",
        "  \n",
        "  def idxs_to_str_batch(self, batch):\n",
        "    strings = []\n",
        "\n",
        "    for idxs in batch:\n",
        "      strings.append(self.idxs_to_str(idxs))\n",
        "    \n",
        "    return strings"
      ],
      "execution_count": 0,
      "outputs": []
    },
    {
      "cell_type": "markdown",
      "metadata": {
        "id": "Bpi5ajlfTtK_",
        "colab_type": "text"
      },
      "source": [
        "### Helper Functions"
      ]
    },
    {
      "cell_type": "code",
      "metadata": {
        "id": "7h6WCk0rNqNl",
        "colab_type": "code",
        "colab": {}
      },
      "source": [
        "def show_imgs(x, new_fig=True):\n",
        "    grid = utils.make_grid(x.detach().cpu(), nrow=8, normalize=True, pad_value=0.3)\n",
        "    grid = grid.transpose(0,2).transpose(0,1) # channels as last dimension\n",
        "    if new_fig:\n",
        "        plt.figure() # figsize=(50,100)\n",
        "    plt.imshow(grid.numpy())\n",
        "\n",
        "def parameter_count(model):\n",
        "  return sum(p.numel() for p in model.parameters())\n",
        "\n",
        "def err(prediction, target):\n",
        "  dist = ed.eval(target, prediction)\n",
        "  if len(target) == 0:\n",
        "    return len(prediction)\n",
        "  \n",
        "  return float(dist) / float(len(target))\n",
        "\n",
        "def cer(prediction, target):\n",
        "  prediction = ' '.join(prediction.split())\n",
        "  target = ' '.join(target.split())\n",
        "\n",
        "  return err(prediction, target)\n",
        "\n",
        "def wer(prediction, target):\n",
        "  prediction = prediction.split()\n",
        "  target = target.split()\n",
        "\n",
        "  return err(prediction, target)\n",
        "\n",
        "def cer_batch(predictions, targets):\n",
        "  cers = []\n",
        "\n",
        "  for prediction, target in zip(predictions, targets):\n",
        "    cers.append(cer(prediction, target))\n",
        "  \n",
        "  return np.mean(cers)\n",
        "\n",
        "def wer_batch(predictions, targets):\n",
        "  wers = []\n",
        "\n",
        "  for prediction, target in zip(predictions, targets):\n",
        "    wers.append(wer(prediction, target))\n",
        "\n",
        "  return np.mean(wers)"
      ],
      "execution_count": 0,
      "outputs": []
    },
    {
      "cell_type": "markdown",
      "metadata": {
        "id": "0aulTy1h2mNZ",
        "colab_type": "text"
      },
      "source": [
        "### Model"
      ]
    },
    {
      "cell_type": "code",
      "metadata": {
        "id": "iZfH1CoTqozh",
        "colab_type": "code",
        "colab": {}
      },
      "source": [
        "class Recognizer(nn.Module):\n",
        "  def __init__(self, sequence_size=20):\n",
        "    super(Recognizer, self).__init__()\n",
        "\n",
        "    self.hidden_size = 256\n",
        "    self.num_layers = 1\n",
        "    self.sequence_size = sequence_size\n",
        "\n",
        "    # Encoder\n",
        "    self.conv1 = nn.Conv2d(1, 8, 3, 1, 1)\n",
        "    self.tanh1 = nn.Tanh()\n",
        "    self.conv2 = nn.Conv2d(8, 16, 3, 1, 1) # 4x2\n",
        "    self.tanh2 = nn.Tanh()\n",
        "    self.conv3 = nn.Conv2d(16, 32, 3, 1, 1)\n",
        "    self.tanh3 = nn.Tanh()\n",
        "    self.conv4 = nn.Conv2d(32, 64, 3, 1, 1) # 4x2\n",
        "    self.tanh4 = nn.Tanh()\n",
        "    self.conv5 = nn.Conv2d(64, 128, 3, 1, 1)\n",
        "    self.tanh5 = nn.Tanh()\n",
        "\n",
        "    self.gate1 = nn.Sequential(nn.Conv2d(16, 16, 3, 1, 1), nn.Sigmoid()) \n",
        "    self.gate2 = nn.Sequential(nn.Conv2d(32, 32, 3, 1, 1), nn.Sigmoid())\n",
        "    self.gate3 = nn.Sequential(nn.Conv2d(64, 64, 3, 1, 1), nn.Sigmoid())\n",
        "\n",
        "    # Maxpool\n",
        "    self.mp = nn.MaxPool2d((32, 1))\n",
        "\n",
        "    # Decoder\n",
        "    self.gru1 = nn.GRU(128, self.hidden_size, self.num_layers, bidirectional=True, batch_first=True)\n",
        "    self.fc1 = nn.Linear(self.hidden_size * 2, 128)\n",
        "    self.gru2 = nn.GRU(128, self.hidden_size, self.num_layers, bidirectional=True, batch_first=True)\n",
        "    self.fc2 = nn.Linear(self.hidden_size * 2, self.sequence_size)\n",
        "    self.softmax = nn.LogSoftmax(dim=1)\n",
        "\n",
        "  # Input -> (Batch, 1, 128, 256)\n",
        "  def forward(self, x):\n",
        "    # Encoder\n",
        "    out = self.conv1(x)\n",
        "    out = self.tanh1(out)\n",
        "    out = self.conv2(out)\n",
        "    out = self.tanh2(out)\n",
        "\n",
        "    gate1 = self.gate1(out)\n",
        "    out = out * gate1\n",
        "\n",
        "    out = self.conv3(out)\n",
        "    out = self.tanh3(out)\n",
        "\n",
        "    gate2 = self.gate2(out)\n",
        "    out = out * gate2\n",
        "\n",
        "    out = self.conv4(out)\n",
        "    out = self.tanh4(out)\n",
        "\n",
        "    gate3 = self.gate3(out)\n",
        "    out = out * gate3\n",
        "\n",
        "    out = self.conv5(out)\n",
        "    out = self.tanh5(out)\n",
        "\n",
        "    # Max Pooling across vertical dimension\n",
        "    out = self.mp(out)\n",
        "\n",
        "    # Decoder\n",
        "    out = out.view(-1, 128, 128)\n",
        "\n",
        "    out, _ = self.gru1(out)\n",
        "    out = self.fc1(out)\n",
        "    out, _ = self.gru2(out)\n",
        "    out = self.fc2(out)\n",
        "    out = self.softmax(out)\n",
        "\n",
        "    # Change shape so that we can pass directly to CTC-Loss\n",
        "    out = out.permute(2, 0, 1)\n",
        "\n",
        "    return out"
      ],
      "execution_count": 0,
      "outputs": []
    },
    {
      "cell_type": "code",
      "metadata": {
        "id": "lCBo58U2x0mO",
        "colab_type": "code",
        "colab": {}
      },
      "source": [
        "class ReverseLayerF(torch.autograd.Function):\n",
        "  @staticmethod\n",
        "  def forward(ctx, x, alpha):\n",
        "    ctx.alpha = alpha\n",
        "    return x.view_as(x)\n",
        "  \n",
        "  @staticmethod\n",
        "  def backward(ctx, grad_output):\n",
        "    output = grad_output.neg() * ctx.alpha\n",
        "    return output, None"
      ],
      "execution_count": 0,
      "outputs": []
    },
    {
      "cell_type": "code",
      "metadata": {
        "id": "9Z8u1b4OfIpx",
        "colab_type": "code",
        "colab": {}
      },
      "source": [
        "class DannRecognizer(nn.Module):\n",
        "  def __init__(self, sequence_size=20):\n",
        "    super(DannRecognizer, self).__init__()\n",
        "    \n",
        "    self.hidden_size = 256\n",
        "    self.num_layers = 1\n",
        "    self.sequence_size = sequence_size\n",
        "\n",
        "    # Feature Extractor\n",
        "    self.conv1 = nn.Sequential(nn.Conv2d(1, 8, 3, 1, 1), nn.Tanh())\n",
        "    self.conv2 = nn.Sequential(nn.Conv2d(8, 16, 3, 1, 1), nn.Tanh())\n",
        "    self.conv3 = nn.Sequential(nn.Conv2d(16, 32, 3, 1, 1), nn.Tanh())\n",
        "    self.conv4 = nn.Sequential(nn.Conv2d(32, 64, 3, 1, 1), nn.Tanh())\n",
        "    self.conv5 = nn.Sequential(nn.Conv2d(64, 128, 3, 1, 1), nn.Tanh())    \n",
        "    self.gate1 = nn.Sequential(nn.Conv2d(16, 16, 3, 1, 1), nn.Sigmoid()) \n",
        "    self.gate2 = nn.Sequential(nn.Conv2d(32, 32, 3, 1, 1), nn.Sigmoid())\n",
        "    self.gate3 = nn.Sequential(nn.Conv2d(64, 64, 3, 1, 1), nn.Sigmoid())\n",
        "    self.mp = nn.MaxPool2d((32, 1))\n",
        "\n",
        "    # Label Classifier\n",
        "    self.gru1 = nn.GRU(128, self.hidden_size, self.num_layers, bidirectional=True, batch_first=True)\n",
        "    self.fc1 = nn.Linear(self.hidden_size * 2, 128)\n",
        "    self.gru2 = nn.GRU(128, self.hidden_size, self.num_layers, bidirectional=True, batch_first=True)\n",
        "    self.fc2 = nn.Linear(self.hidden_size * 2, self.sequence_size)\n",
        "    self.softmax = nn.LogSoftmax(dim=1)\n",
        "\n",
        "    # Domain Classifier\n",
        "    self.fc3 = nn.Sequential(nn.Linear(128 * 128, 128), nn.BatchNorm1d(128), nn.ReLU())\n",
        "    self.fc4 = nn.Sequential(nn.Linear(128, 1), nn.Sigmoid())\n",
        "\n",
        "  def forward(self, x, alpha=0.05):\n",
        "    # Feature Extractor\n",
        "    feat = self.conv1(x)\n",
        "\n",
        "    feat = self.conv2(feat)\n",
        "    gate = self.gate1(feat)\n",
        "    feat = feat * gate\n",
        "\n",
        "    feat = self.conv3(feat)\n",
        "    gate = self.gate2(feat)\n",
        "    feat = feat * gate\n",
        "\n",
        "    feat = self.conv4(feat)\n",
        "    gate = self.gate3(feat)\n",
        "    feat = feat * gate\n",
        "\n",
        "    feat = self.conv5(feat)\n",
        "    feat = self.mp(feat)\n",
        "    feat = feat.view(-1, 128, 128)\n",
        "\n",
        "    # Label Classifier\n",
        "    label, _ = self.gru1(feat)\n",
        "    label = self.fc1(label)\n",
        "    label, _ = self.gru2(label)\n",
        "    label = self.fc2(label)\n",
        "    label = self.softmax(label)\n",
        "    label = label.permute(2, 0, 1)\n",
        "\n",
        "    # Domain Classifier\n",
        "    domain = ReverseLayerF.apply(feat, alpha)\n",
        "    domain = domain.view(-1, 128 * 128)\n",
        "    domain = self.fc3(domain)\n",
        "    domain = self.fc4(domain)\n",
        "    domain = domain.squeeze()\n",
        "\n",
        "    return label, domain"
      ],
      "execution_count": 0,
      "outputs": []
    },
    {
      "cell_type": "code",
      "metadata": {
        "id": "pEA09nlIsUU0",
        "colab_type": "code",
        "outputId": "98d6ec78-9d76-413d-8c27-d1e910631282",
        "colab": {
          "base_uri": "https://localhost:8080/",
          "height": 102
        }
      },
      "source": [
        "rec = DannRecognizer()\n",
        "print(parameter_count(rec))\n",
        "label, domain = rec(torch.randn(10, 1, 32, 128))\n",
        "print('label: ', label.shape)\n",
        "print('domain: ', domain.shape)\n",
        "print(domain)"
      ],
      "execution_count": 67,
      "outputs": [
        {
          "output_type": "stream",
          "text": [
            "3506117\n",
            "label:  torch.Size([20, 10, 128])\n",
            "domain:  torch.Size([10])\n",
            "tensor([0.4578, 0.4712, 0.5078, 0.5078, 0.4716, 0.5036, 0.5717, 0.5124, 0.4990,\n",
            "        0.4974], grad_fn=<SqueezeBackward0>)\n"
          ],
          "name": "stdout"
        }
      ]
    },
    {
      "cell_type": "markdown",
      "metadata": {
        "id": "lCRj-HPs0P7_",
        "colab_type": "text"
      },
      "source": [
        "# Domain Adversarial Transfer"
      ]
    },
    {
      "cell_type": "markdown",
      "metadata": {
        "id": "dFvm2_5D0TNH",
        "colab_type": "text"
      },
      "source": [
        "## IAM/Rimes Training Loop"
      ]
    },
    {
      "cell_type": "code",
      "metadata": {
        "id": "bFY-mdLi0fwY",
        "colab_type": "code",
        "colab": {}
      },
      "source": [
        "def dann_train(source_train_dataset, source_val_dataset, target_dataset):\n",
        "  try:\n",
        "    EPOCHS = 100\n",
        "    BATCH_SIZE = 200\n",
        "    ITERATION_SAMPLE = 3000\n",
        "    SEQUENCE_SIZE = 20\n",
        "    DMN_RATIO = 5\n",
        "\n",
        "    source_train_loader = DataLoader(source_train_dataset, batch_size=BATCH_SIZE, shuffle=True, num_workers=4)\n",
        "    source_val_loader = DataLoader(source_val_dataset, batch_size=BATCH_SIZE, shuffle=True, num_workers=4)\n",
        "    target_loader = DataLoader(target_dataset, batch_size=BATCH_SIZE, shuffle=True, num_workers=4)\n",
        "\n",
        "    encoder = Encoder(sequence_size=SEQUENCE_SIZE)\n",
        "    recognizer = DannRecognizer(sequence_size=SEQUENCE_SIZE).cuda()\n",
        "    \n",
        "    optimizer = optim.Adam(recognizer.parameters(), lr=1e-3, weight_decay=1e-4)\n",
        "    hwr_objective = nn.CTCLoss(blank=0, reduction='none', zero_infinity=True)\n",
        "    dmn_objective = nn.BCELoss()\n",
        "\n",
        "    train_src_dmn_loss_epochs, train_tgt_dmn_loss_epochs, train_hwr_loss_epochs, train_cer_epochs, train_wer_epochs = [], [], [], [], []\n",
        "    src_val_hwr_loss_epochs, src_val_cer_epochs, src_val_wer_epochs = [], [], []\n",
        "    tgt_hwr_loss_epochs, tgt_cer_epochs, tgt_wer_epochs = [], [], []\n",
        "    \n",
        "    for epoch in range(EPOCHS):\n",
        "\n",
        "      train_src_dmn_losses, train_tgt_dmn_losses, train_hwr_losses, train_cers, train_wers = [], [], [], [], []\n",
        "      src_val_hwr_losses, src_val_cers, src_val_wers = [], [], []\n",
        "      tgt_hwr_losses, tgt_cers, tgt_wers = [], [], []\n",
        "\n",
        "      # Source & Target Training Loop\n",
        "      recognizer.train()\n",
        "      train_loop = tqdm(total=len(source_train_loader), position=0, leave=True)\n",
        "      for batch_num, ((source_imgs, source_words), (target_imgs, target_words)) in enumerate(zip(source_train_loader, target_loader)):\n",
        "        batch_size = source_imgs.shape[0]\n",
        "        p = float(batch_num + epoch * len(source_train_loader)) / EPOCHS / len(source_train_loader)\n",
        "        alpha = 2. / (1. + np.exp(-10 * p)) - 1\n",
        "\n",
        "        # Train with source imgs\n",
        "        source_idxs, source_word_lengths = encoder.str_to_idxs_batch(source_words)\n",
        "        source_imgs, hwr_labels = source_imgs.cuda(), torch.tensor(source_idxs).cuda()\n",
        "        hwr_input_lengths = torch.full((batch_size,), SEQUENCE_SIZE, dtype=torch.long).cuda()\n",
        "        hwr_target_lengths = torch.tensor(source_word_lengths).cuda()\n",
        "        src_dmn_labels = torch.ones(batch_size).cuda()\n",
        "\n",
        "        hwr_preds, src_dmn_preds = recognizer(source_imgs, alpha)\n",
        "\n",
        "        hwr_loss = hwr_objective(hwr_preds, hwr_labels, hwr_input_lengths, hwr_target_lengths)\n",
        "        hwr_loss = torch.mean(hwr_loss)\n",
        "        src_dmn_loss = dmn_objective(src_dmn_preds, src_dmn_labels)\n",
        "\n",
        "        preds_strings = encoder.idxs_to_str_batch(hwr_preds.permute(1, 0, 2).argmax(dim=2).cpu())\n",
        "        preds_cer = cer_batch(preds_strings, source_words)\n",
        "        preds_wer = wer_batch(preds_strings, source_words)\n",
        "\n",
        "        # Train with target imgs\n",
        "        target_imgs = target_imgs.cuda()\n",
        "        tgt_dmn_labels = torch.zeros(batch_size).cuda()\n",
        "\n",
        "        _, tgt_dmn_preds = recognizer(target_imgs, alpha)\n",
        "\n",
        "        tgt_dmn_loss = dmn_objective(tgt_dmn_preds, tgt_dmn_labels)\n",
        "\n",
        "        # Keep track of our progress\n",
        "        train_src_dmn_losses.append(src_dmn_loss.item())\n",
        "        train_tgt_dmn_losses.append(tgt_dmn_loss.item())\n",
        "        train_hwr_losses.append(hwr_loss.item())\n",
        "        train_cers.append(preds_cer)\n",
        "        train_wers.append(preds_wer)\n",
        "\n",
        "        train_loop.set_description('Train - Epoch: {}, HWR Loss: {:.4f}, SrcDmn Loss: {:.4f}, TgtDmn Loss: {:.4f}, CER: {:.4f}, WER: {:.4f}, AvgHWR Loss: {:.4f}, AvgSrcDmn Loss: {:.4f}, AvgTgtDmn Loss: {:.4f} AvgCER: {:.4f} AvgWER: {:.4f}'.format(\n",
        "            epoch, hwr_loss.item(), src_dmn_loss.item(), tgt_dmn_loss.item(), preds_cer, preds_wer, np.mean(train_hwr_losses), np.mean(train_src_dmn_losses), np.mean(train_tgt_dmn_losses), np.mean(train_cers), np.mean(train_wers)\n",
        "        ))\n",
        "        train_loop.update(1)\n",
        "\n",
        "        loss = hwr_loss + (src_dmn_loss + tgt_dmn_loss) * DMN_RATIO\n",
        "\n",
        "        optimizer.zero_grad()\n",
        "        loss.backward()\n",
        "        optimizer.step()\n",
        "      \n",
        "      train_loop.close()\n",
        "      gc.collect()\n",
        "\n",
        "      # Source Validation Loop\n",
        "      recognizer.eval()\n",
        "      val_loop = tqdm(total=len(source_val_loader), position=0, leave=True)\n",
        "      for batch_num, (imgs, words) in enumerate(source_val_loader):\n",
        "        with torch.no_grad():\n",
        "          batch_size = imgs.shape[0]\n",
        "\n",
        "          idxs, word_lengths = encoder.str_to_idxs_batch(words)\n",
        "          imgs, labels = imgs.cuda(), torch.tensor(idxs).cuda()\n",
        "          input_lengths = torch.full((batch_size,), SEQUENCE_SIZE, dtype=torch.long).cuda()\n",
        "          target_lengths = torch.tensor(word_lengths).cuda()\n",
        "\n",
        "          preds, _ = recognizer(imgs)\n",
        "\n",
        "          loss = hwr_objective(preds, labels, input_lengths, target_lengths)\n",
        "          loss = torch.mean(loss)\n",
        "\n",
        "          preds_strings = encoder.idxs_to_str_batch(preds.permute(1, 0, 2).argmax(dim=2).cpu())\n",
        "          preds_cer = cer_batch(preds_strings, words)\n",
        "          preds_wer = wer_batch(preds_strings, words)\n",
        "\n",
        "          src_val_hwr_losses.append(loss.item())\n",
        "          src_val_cers.append(preds_cer)\n",
        "          src_val_wers.append(preds_wer)\n",
        "\n",
        "          val_loop.set_description('Val   - Epoch: {}, HWR Loss: {:.4f}, CER: {:.4f}, WER: {:.4f}, AvgHWR Loss: {:.4f}, AvgCER: {:.4f}, AvgWER: {:.4f}'.format(\n",
        "              epoch, loss.item(), preds_cer, preds_wer, np.mean(src_val_hwr_losses), np.mean(src_val_cers), np.mean(src_val_wers)\n",
        "          ))\n",
        "          val_loop.update(1)\n",
        "\n",
        "      val_loop.close()\n",
        "      gc.collect()\n",
        "\n",
        "      # Target Test Loop\n",
        "      test_loop = tqdm(total=len(target_loader), position=0, leave=True)\n",
        "      for batch_num, (imgs, words) in enumerate(target_loader):\n",
        "        with torch.no_grad():\n",
        "          batch_size = imgs.shape[0]\n",
        "\n",
        "          idxs, word_lengths = encoder.str_to_idxs_batch(words)\n",
        "          imgs, labels = imgs.cuda(), torch.tensor(idxs).cuda()\n",
        "          input_lengths = torch.full((batch_size,), SEQUENCE_SIZE, dtype=torch.long).cuda()\n",
        "          target_lengths = torch.tensor(word_lengths).cuda()\n",
        "\n",
        "          preds, _ = recognizer(source_imgs)\n",
        "\n",
        "          loss = hwr_objective(preds, labels, input_lengths, target_lengths)\n",
        "          loss = torch.mean(loss)\n",
        "\n",
        "          preds_strings = encoder.idxs_to_str_batch(preds.permute(1, 0, 2).argmax(dim=2).cpu())\n",
        "          preds_cer = cer_batch(preds_strings, words)\n",
        "          preds_wer = wer_batch(preds_strings, words)\n",
        "\n",
        "          tgt_hwr_losses.append(loss.item())\n",
        "          tgt_cers.append(preds_cer)\n",
        "          tgt_wers.append(preds_wer)\n",
        "\n",
        "          test_loop.set_description('Test  - Epoch: {}, HWR Loss: {:.4f}, CER: {:.4f}, WER: {:.4f}, AvgHWR Loss: {:.4f}, AvgCER: {:.4f}, AvgWER: {:.4f}'.format(\n",
        "              epoch, loss.item(), preds_cer, preds_wer, np.mean(tgt_hwr_losses), np.mean(tgt_cers), np.mean(tgt_wers)\n",
        "          ))\n",
        "          test_loop.update(1)\n",
        "      \n",
        "      test_loop.close()\n",
        "      gc.collect()\n",
        "      \n",
        "      # Keep track of our progress\n",
        "\n",
        "      # Train Loop\n",
        "      train_src_dmn_loss_epochs.append(np.mean(train_src_dmn_losses))\n",
        "      train_tgt_dmn_loss_epochs.append(np.mean(train_tgt_dmn_losses))\n",
        "      train_hwr_loss_epochs.append(np.mean(train_hwr_losses))\n",
        "      train_cer_epochs.append(np.mean(train_cers))\n",
        "      train_wer_epochs.append(np.mean(train_wers))\n",
        "\n",
        "      # Validation Loop\n",
        "      src_val_hwr_loss_epochs.append(np.mean(src_val_hwr_losses))\n",
        "      src_val_cer_epochs.append(np.mean(src_val_cers))\n",
        "      src_val_wer_epochs.append(np.mean(src_val_wers))\n",
        "\n",
        "      # Test Loop\n",
        "      tgt_hwr_loss_epochs.append(np.mean(tgt_hwr_losses))\n",
        "      tgt_cer_epochs.append(np.mean(tgt_cers))\n",
        "      tgt_wer_epochs.append(np.mean(tgt_wers))\n",
        "\n",
        "  except:\n",
        "    __ITB__()\n",
        "    gc.collect()\n",
        "  finally:\n",
        "    return recognizer, (train_src_dmn_loss_epochs, train_tgt_dmn_loss_epochs), (train_hwr_loss_epochs, src_val_hwr_loss_epochs, tgt_hwr_loss_epochs), (train_cer_epochs, src_val_cer_epochs, tgt_cer_epochs), (train_wer_epochs, src_val_wer_epochs, tgt_wer_epochs)"
      ],
      "execution_count": 0,
      "outputs": []
    },
    {
      "cell_type": "markdown",
      "metadata": {
        "id": "W0PjFx884Qt3",
        "colab_type": "text"
      },
      "source": [
        "## IAM to Rimes"
      ]
    },
    {
      "cell_type": "markdown",
      "metadata": {
        "id": "PJ7GKzu5ChS8",
        "colab_type": "text"
      },
      "source": [
        "### Training Loop"
      ]
    },
    {
      "cell_type": "code",
      "metadata": {
        "id": "XbXn34Pj4P-3",
        "colab_type": "code",
        "outputId": "de403d97-cb6a-4718-8b02-d24cd85c06c5",
        "colab": {
          "base_uri": "https://localhost:8080/",
          "height": 615
        }
      },
      "source": [
        "iam_dataset = IamDataset(desired_size=(32, 128), total_imgs=40000)\n",
        "rimes_dataset = RimesDataset(desired_size=(32, 128), total_imgs=30000)\n",
        "iam_train_dataset, iam_val_dataset = torch.utils.data.random_split(iam_dataset, [30000, 10000])\n",
        "\n",
        "dann_recognizer, dann_domain_losses, dann_label_losses, dann_cer, dann_wer = dann_train(iam_train_dataset, iam_val_dataset, rimes_dataset)"
      ],
      "execution_count": 0,
      "outputs": [
        {
          "output_type": "stream",
          "text": [
            "Train - Epoch: 0, HWR Loss: 16.1337, SrcDmn Loss: 0.5045, TgtDmn Loss: 0.4863, CER: 1.0000, WER: 1.0000, AvgHWR Loss: 22.2997, AvgSrcDmn Loss: 0.6052, AvgTgtDmn Loss: 0.5899 AvgCER: 1.0277 AvgWER: 1.0048: 100%|██████████| 150/150 [01:48<00:00,  1.38it/s]\n",
            "Val   - Epoch: 0, HWR Loss: 15.1207, CER: 1.0000, WER: 1.0000, AvgHWR Loss: 16.3163, AvgCER: 1.0000, AvgWER: 1.0000: 100%|██████████| 50/50 [00:10<00:00,  4.60it/s]\n",
            "Test  - Epoch: 0, HWR Loss: 20.4378, CER: 1.0000, WER: 1.0000, AvgHWR Loss: 19.9729, AvgCER: 1.0000, AvgWER: 1.0000: 100%|██████████| 150/150 [00:31<00:00,  4.77it/s]\n",
            "Train - Epoch: 1, HWR Loss: 16.5661, SrcDmn Loss: 0.5747, TgtDmn Loss: 0.4725, CER: 1.0000, WER: 1.0000, AvgHWR Loss: 16.0949, AvgSrcDmn Loss: 0.4774, AvgTgtDmn Loss: 0.4699 AvgCER: 1.0000 AvgWER: 1.0000: 100%|██████████| 150/150 [01:47<00:00,  1.39it/s]\n",
            "Val   - Epoch: 1, HWR Loss: 15.7459, CER: 1.0000, WER: 1.0000, AvgHWR Loss: 15.9986, AvgCER: 1.0000, AvgWER: 1.0000: 100%|██████████| 50/50 [00:11<00:00,  4.52it/s]\n",
            "Test  - Epoch: 1, HWR Loss: 20.1122, CER: 1.0000, WER: 1.0000, AvgHWR Loss: 19.8101, AvgCER: 1.0000, AvgWER: 1.0000: 100%|██████████| 150/150 [00:31<00:00,  4.81it/s]\n",
            "Train - Epoch: 2, HWR Loss: 16.2105, SrcDmn Loss: 0.6186, TgtDmn Loss: 0.6256, CER: 1.0000, WER: 1.0000, AvgHWR Loss: 15.7978, AvgSrcDmn Loss: 0.7066, AvgTgtDmn Loss: 0.6902 AvgCER: 0.9999 AvgWER: 1.0000: 100%|██████████| 150/150 [01:47<00:00,  1.39it/s]\n",
            "Val   - Epoch: 2, HWR Loss: 16.5678, CER: 1.0000, WER: 1.0000, AvgHWR Loss: 15.8531, AvgCER: 1.0000, AvgWER: 1.0000: 100%|██████████| 50/50 [00:11<00:00,  4.52it/s]\n",
            "Test  - Epoch: 2, HWR Loss: 20.7328, CER: 1.0000, WER: 1.0000, AvgHWR Loss: 19.7305, AvgCER: 1.0000, AvgWER: 1.0000: 100%|██████████| 150/150 [00:31<00:00,  4.80it/s]\n",
            "Train - Epoch: 3, HWR Loss: 15.8767, SrcDmn Loss: 0.6553, TgtDmn Loss: 0.5498, CER: 1.0000, WER: 1.0000, AvgHWR Loss: 15.6680, AvgSrcDmn Loss: 0.6168, AvgTgtDmn Loss: 0.6139 AvgCER: 1.0000 AvgWER: 1.0000: 100%|██████████| 150/150 [01:47<00:00,  1.40it/s]\n",
            "Val   - Epoch: 3, HWR Loss: 16.3832, CER: 1.0000, WER: 1.0000, AvgHWR Loss: 15.5965, AvgCER: 1.0000, AvgWER: 1.0000: 100%|██████████| 50/50 [00:10<00:00,  4.60it/s]\n",
            "Test  - Epoch: 3, HWR Loss: 19.7234, CER: 1.0000, WER: 1.0000, AvgHWR Loss: 19.4995, AvgCER: 1.0000, AvgWER: 1.0000: 100%|██████████| 150/150 [00:31<00:00,  4.79it/s]\n",
            "Train - Epoch: 4, HWR Loss: 14.8992, SrcDmn Loss: 0.7091, TgtDmn Loss: 0.5895, CER: 1.0000, WER: 1.0000, AvgHWR Loss: 15.3722, AvgSrcDmn Loss: 0.6547, AvgTgtDmn Loss: 0.6520 AvgCER: 0.9998 AvgWER: 1.0000: 100%|██████████| 150/150 [01:47<00:00,  1.39it/s]\n",
            "Val   - Epoch: 4, HWR Loss: 16.1953, CER: 1.0000, WER: 1.0000, AvgHWR Loss: 15.2142, AvgCER: 1.0000, AvgWER: 1.0000: 100%|██████████| 50/50 [00:11<00:00,  4.53it/s]\n",
            "Test  - Epoch: 4, HWR Loss: 20.3685, CER: 1.0000, WER: 1.0000, AvgHWR Loss: 19.9177, AvgCER: 1.0000, AvgWER: 1.0000: 100%|██████████| 150/150 [00:31<00:00,  4.83it/s]\n",
            "Train - Epoch: 5, HWR Loss: 14.5660, SrcDmn Loss: 0.6801, TgtDmn Loss: 0.5793, CER: 0.9290, WER: 0.9900, AvgHWR Loss: 15.0311, AvgSrcDmn Loss: 0.7162, AvgTgtDmn Loss: 0.7162 AvgCER: 0.9780 AvgWER: 0.9992: 100%|██████████| 150/150 [01:48<00:00,  1.38it/s]\n",
            "Val   - Epoch: 5, HWR Loss: 13.8399, CER: 0.9197, WER: 0.9850, AvgHWR Loss: 14.2065, AvgCER: 0.9331, AvgWER: 0.9821: 100%|██████████| 50/50 [00:11<00:00,  4.47it/s]\n",
            "Test  - Epoch: 5, HWR Loss: 20.1928, CER: 0.9650, WER: 1.0000, AvgHWR Loss: 20.9555, AvgCER: 0.9580, AvgWER: 1.0000: 100%|██████████| 150/150 [00:32<00:00,  4.61it/s]\n",
            "Train - Epoch: 6, HWR Loss: 15.2672, SrcDmn Loss: 0.5911, TgtDmn Loss: 0.7584, CER: 0.8881, WER: 0.9700, AvgHWR Loss: 13.9698, AvgSrcDmn Loss: 0.6412, AvgTgtDmn Loss: 0.6424 AvgCER: 0.8988 AvgWER: 0.9814: 100%|██████████| 150/150 [01:49<00:00,  1.37it/s]\n",
            "Val   - Epoch: 6, HWR Loss: 13.0324, CER: 0.8758, WER: 0.9600, AvgHWR Loss: 13.7962, AvgCER: 0.8813, AvgWER: 0.9705: 100%|██████████| 50/50 [00:11<00:00,  4.45it/s]\n",
            "Test  - Epoch: 6, HWR Loss: 20.0894, CER: 0.8847, WER: 0.9950, AvgHWR Loss: 21.3803, AvgCER: 0.8954, AvgWER: 0.9992: 100%|██████████| 150/150 [00:32<00:00,  4.65it/s]\n",
            "Train - Epoch: 7, HWR Loss: 14.5082, SrcDmn Loss: 0.6082, TgtDmn Loss: 0.7219, CER: 0.8750, WER: 0.9750, AvgHWR Loss: 13.5597, AvgSrcDmn Loss: 0.6214, AvgTgtDmn Loss: 0.6179 AvgCER: 0.8570 AvgWER: 0.9511: 100%|██████████| 150/150 [01:48<00:00,  1.38it/s]\n",
            "Val   - Epoch: 7, HWR Loss: 12.8223, CER: 0.8832, WER: 0.9800, AvgHWR Loss: 13.5159, AvgCER: 0.8610, AvgWER: 0.9560: 100%|██████████| 50/50 [00:11<00:00,  4.51it/s]\n",
            "Test  - Epoch: 7, HWR Loss: 21.7314, CER: 0.8989, WER: 1.0000, AvgHWR Loss: 21.8611, AvgCER: 0.9028, AvgWER: 0.9991: 100%|██████████| 150/150 [00:32<00:00,  4.64it/s]\n",
            "Train - Epoch: 8, HWR Loss: 14.7269, SrcDmn Loss: 0.9459, TgtDmn Loss: 0.6527, CER: 0.8289, WER: 0.9100, AvgHWR Loss: 13.5653, AvgSrcDmn Loss: 0.7194, AvgTgtDmn Loss: 0.6727 AvgCER: 0.8472 AvgWER: 0.9420: 100%|██████████| 150/150 [01:49<00:00,  1.37it/s]\n",
            "Val   - Epoch: 8, HWR Loss: 13.5200, CER: 0.9017, WER: 0.9650, AvgHWR Loss: 14.6098, AvgCER: 0.9052, AvgWER: 0.9679: 100%|██████████| 50/50 [00:11<00:00,  4.28it/s]\n",
            "Test  - Epoch: 8, HWR Loss: 18.5767, CER: 0.9343, WER: 0.9900, AvgHWR Loss: 20.3142, AvgCER: 0.9307, AvgWER: 0.9981: 100%|██████████| 150/150 [00:33<00:00,  4.51it/s]\n",
            "Train - Epoch: 9, HWR Loss: 13.5306, SrcDmn Loss: 0.6314, TgtDmn Loss: 0.5998, CER: 0.7976, WER: 0.9050, AvgHWR Loss: 13.4125, AvgSrcDmn Loss: 0.6504, AvgTgtDmn Loss: 0.6707 AvgCER: 0.8337 AvgWER: 0.9356: 100%|██████████| 150/150 [01:49<00:00,  1.37it/s]\n",
            "Val   - Epoch: 9, HWR Loss: 12.9248, CER: 0.8226, WER: 0.9400, AvgHWR Loss: 13.0346, AvgCER: 0.8092, AvgWER: 0.9187: 100%|██████████| 50/50 [00:11<00:00,  4.30it/s]\n",
            "Test  - Epoch: 9, HWR Loss: 22.7885, CER: 0.9399, WER: 1.0000, AvgHWR Loss: 22.7358, AvgCER: 0.9353, AvgWER: 0.9990: 100%|██████████| 150/150 [00:33<00:00,  4.53it/s]\n",
            "Train - Epoch: 10, HWR Loss: 12.1419, SrcDmn Loss: 0.6365, TgtDmn Loss: 0.6309, CER: 0.7517, WER: 0.8850, AvgHWR Loss: 12.9456, AvgSrcDmn Loss: 0.6697, AvgTgtDmn Loss: 0.6765 AvgCER: 0.7972 AvgWER: 0.9086: 100%|██████████| 150/150 [01:49<00:00,  1.37it/s]\n",
            "Val   - Epoch: 10, HWR Loss: 12.9012, CER: 0.8178, WER: 0.9400, AvgHWR Loss: 12.8284, AvgCER: 0.7851, AvgWER: 0.9059: 100%|██████████| 50/50 [00:11<00:00,  4.32it/s]\n",
            "Test  - Epoch: 10, HWR Loss: 22.3900, CER: 0.9041, WER: 1.0000, AvgHWR Loss: 23.5987, AvgCER: 0.8977, AvgWER: 0.9995: 100%|██████████| 150/150 [00:33<00:00,  4.52it/s]\n",
            "Train - Epoch: 11, HWR Loss: 13.3737, SrcDmn Loss: 0.6571, TgtDmn Loss: 0.5968, CER: 0.7662, WER: 0.9100, AvgHWR Loss: 12.6156, AvgSrcDmn Loss: 0.6126, AvgTgtDmn Loss: 0.6214 AvgCER: 0.7717 AvgWER: 0.8897:  83%|████████▎ | 124/150 [01:31<00:18,  1.41it/s]"
          ],
          "name": "stderr"
        }
      ]
    },
    {
      "cell_type": "markdown",
      "metadata": {
        "id": "Kbr2yrf4Cfcu",
        "colab_type": "text"
      },
      "source": [
        "### Results"
      ]
    },
    {
      "cell_type": "code",
      "metadata": {
        "id": "Yt57OTUQEsBy",
        "colab_type": "code",
        "outputId": "54284eb6-cd68-4547-80bd-6c21139c8b5d",
        "colab": {
          "base_uri": "https://localhost:8080/",
          "height": 349
        }
      },
      "source": [
        "plt.title('Domain Loss: IAM to Rimes')\n",
        "plt.xlabel('Epochs')\n",
        "plt.ylabel('Loss')\n",
        "plt.plot(dann_domain_losses[0], label='IAM (Source)')\n",
        "plt.plot(dann_domain_losses[1], label='Rimes (Target)')\n",
        "plt.legend()\n",
        "plt.show()\n",
        "print('IAM:', dann_domain_losses[0])\n",
        "print('Rimes:', dann_domain_losses[1])"
      ],
      "execution_count": 0,
      "outputs": [
        {
          "output_type": "display_data",
          "data": {
            "image/png": "[encoded data removed]",
            "text/plain": [
              "<Figure size 432x288 with 1 Axes>"
            ]
          },
          "metadata": {
            "tags": []
          }
        },
        {
          "output_type": "stream",
          "text": [
            "IAM: [0.6812588717540106, 0.6948735131820043, 0.6956189384063085, 0.6896080535650253, 0.6814657964309057, 0.6898403978347778, 0.6846431831518809, 0.6927541963259379, 0.689670954545339, 0.6772417761882146, 0.6813171176115672, 0.6944561463594436, 0.6830206082264583, 0.67940034588178, 0.6679125545422236]\n",
            "Rimes: [0.6575283694267273, 0.6926314785083135, 0.6937210426727931, 0.6918110179901124, 0.6759459702173869, 0.6822140224774679, 0.6887286420663198, 0.6942315965890884, 0.691074546178182, 0.6638310521841049, 0.6895877805352211, 0.696243624885877, 0.6744347240527471, 0.6728643916050593, 0.6587101115783056]\n"
          ],
          "name": "stdout"
        }
      ]
    },
    {
      "cell_type": "code",
      "metadata": {
        "id": "U0txmUf7CmE4",
        "colab_type": "code",
        "outputId": "804fc2df-21b8-4702-a4a5-b1fa34f0f344",
        "colab": {
          "base_uri": "https://localhost:8080/",
          "height": 366
        }
      },
      "source": [
        "plt.title('HWR Loss: IAM to Rimes')\n",
        "plt.xlabel('Epochs')\n",
        "plt.ylabel('Loss')\n",
        "plt.plot(dann_label_losses[0], label='IAM Train')\n",
        "plt.plot(dann_label_losses[1], label='IAM Val')\n",
        "plt.plot(dann_label_losses[2], label='Rimes')\n",
        "plt.legend()\n",
        "plt.show()\n",
        "print('Train:', dann_label_losses[0])\n",
        "print('Val:', dann_label_losses[1])\n",
        "print('Test:', dann_label_losses[2])"
      ],
      "execution_count": 0,
      "outputs": [
        {
          "output_type": "display_data",
          "data": {
            "image/png": "[encoded data removed]",
            "text/plain": [
              "<Figure size 432x288 with 1 Axes>"
            ]
          },
          "metadata": {
            "tags": []
          }
        },
        {
          "output_type": "stream",
          "text": [
            "Train: [20.108432022730508, 16.124411783218385, 15.714550552368165, 15.30674134572347, 14.543769645690919, 14.473915452957153, 13.90470723470052, 14.524476779301962, 14.497991307576497, 13.70093386967977, 14.214474617640178, 14.359836298624675, 13.916099096934001, 13.418025471369425, 13.383097190856933]\n",
            "Val: [16.512666759490966, 16.058329429626465, 15.635044660568237, 15.055041055679322, 14.895471267700195, 14.02670316696167, 13.72982084274292, 15.222582139968871, 13.97691065788269, 13.468798332214355, 14.136074352264405, 14.038685302734375, 13.720411338806151, 13.2162047290802, 13.49653221130371]\n",
            "Test: [19.451131534576415, 19.175159759521485, 19.36680362065633, 20.234496313730876, 19.88995345433553, 20.879960460662844, 22.215912647247315, 19.364086561203003, 20.65606004714966, 22.849962933858237, 20.554918270111084, 20.525620956420898, 20.889597047170003, 22.38298678080241, 21.127969881693524]\n"
          ],
          "name": "stdout"
        }
      ]
    },
    {
      "cell_type": "code",
      "metadata": {
        "id": "fAfoxRnyD4eG",
        "colab_type": "code",
        "outputId": "fb3ec556-a1ea-41f4-cf89-99800d4e9312",
        "colab": {
          "base_uri": "https://localhost:8080/",
          "height": 366
        }
      },
      "source": [
        "plt.title('Character Error Rate: IAM to Rimes')\n",
        "plt.xlabel('Epochs')\n",
        "plt.ylabel('Character Error Rate')\n",
        "plt.plot(dann_cer[0], label='IAM Train')\n",
        "plt.plot(dann_cer[1], label='IAM Val')\n",
        "plt.plot(dann_cer[2], label='Rimes')\n",
        "plt.legend()\n",
        "plt.show()\n",
        "print('Train:', dann_cer[0])\n",
        "print('Val:', dann_cer[1])\n",
        "print('Test:', dann_cer[2])"
      ],
      "execution_count": 0,
      "outputs": [
        {
          "output_type": "display_data",
          "data": {
            "image/png": "[encoded data removed]",
            "text/plain": [
              "<Figure size 432x288 with 1 Axes>"
            ]
          },
          "metadata": {
            "tags": []
          }
        },
        {
          "output_type": "stream",
          "text": [
            "Train: [1.0082061892736893, 0.9709167720106688, 0.976877131003528, 0.9938800235909601, 0.974126343409629, 0.9334345347776578, 0.8773942621147341, 0.930086638199119, 0.9539885594090005, 0.8514451290528071, 0.9127578547944144, 0.9437893228769852, 0.8911949472526097, 0.8259479688796756, 0.823226513530902]\n",
            "Val: [1.0, 0.9173128249528248, 1.0, 0.9463022775835276, 0.9944000000000002, 0.8969753909978911, 0.8590916641691642, 1.0, 0.8890155192030192, 0.8221772963147965, 0.8967011555111556, 0.8752140856365856, 0.8529974092574095, 0.806799327894328, 0.8242158520646021]\n",
            "Test: [1.0, 0.9585691084140892, 1.0, 0.9640049242921109, 1.0, 0.9419729750873481, 0.9615152732180673, 1.0, 0.9494391998313862, 0.936497489970613, 0.9615875852885218, 0.9659914573559968, 0.9539176708340679, 0.9546042080020369, 0.9492170379654745]\n"
          ],
          "name": "stdout"
        }
      ]
    },
    {
      "cell_type": "code",
      "metadata": {
        "id": "F4hD8-7ZD75v",
        "colab_type": "code",
        "outputId": "5f107b9a-f4bc-424e-ebd6-3007c7e96bfc",
        "colab": {
          "base_uri": "https://localhost:8080/",
          "height": 346
        }
      },
      "source": [
        "plt.title('Word Error Rate: IAM to Rimes')\n",
        "plt.xlabel('Epochs')\n",
        "plt.ylabel('Word Error Rate')\n",
        "plt.plot(dann_wer[0], label='IAM Train')\n",
        "plt.plot(dann_wer[1], label='IAM Val')\n",
        "plt.plot(dann_wer[2], label='Rimes')\n",
        "plt.legend()\n",
        "plt.show()\n",
        "print('Train:', dann_wer[0])\n",
        "print('Val:', dann_wer[1])\n",
        "print('Test:', dann_wer[2])"
      ],
      "execution_count": 0,
      "outputs": [
        {
          "output_type": "display_data",
          "data": {
            "image/png": "[encoded data removed]",
            "text/plain": [
              "<Figure size 432x288 with 1 Axes>"
            ]
          },
          "metadata": {
            "tags": []
          }
        },
        {
          "output_type": "stream",
          "text": [
            "Train: [1.0, 1.0, 1.0, 1.0, 0.9998333333333332, 0.9821666666666666, 0.9627666666666668, 0.9749333333333334, 0.9891000000000001, 0.9450333333333333, 0.9720333333333334, 0.9934, 0.9597333333333334, 0.9238333333333333, 0.9233]\n",
            "Val: [1.0, 1.0, 1.0, 1.0, 0.9944000000000002, 0.9754999999999999, 0.9395000000000002, 1.0, 0.9701000000000001, 0.9283999999999999, 0.9673999999999998, 0.9424000000000001, 0.932, 0.9082000000000001, 0.9239]\n",
            "Test: [1.0, 1.0, 1.0, 1.0, 1.0, 1.0, 0.9992, 1.0, 1.0, 0.9997666666666669, 0.9999666666666667, 0.9994, 1.0, 0.9998333333333335, 0.9995666666666667]\n"
          ],
          "name": "stdout"
        }
      ]
    },
    {
      "cell_type": "markdown",
      "metadata": {
        "id": "r5XMKhz10D11",
        "colab_type": "text"
      },
      "source": [
        "# Baseline Transfer"
      ]
    },
    {
      "cell_type": "markdown",
      "metadata": {
        "id": "4oMOWjmy3rdW",
        "colab_type": "text"
      },
      "source": [
        "### IAM/Rimes Training"
      ]
    },
    {
      "cell_type": "code",
      "metadata": {
        "id": "jfm_Xl3V3otH",
        "colab_type": "code",
        "colab": {}
      },
      "source": [
        "def train(train_dataset, val_dataset, test_dataset):\n",
        "  try:\n",
        "    EPOCHS = 100\n",
        "    BATCH_SIZE = 250\n",
        "    ITERATION_SAMPLE = 3000\n",
        "    SEQUENCE_SIZE = 20\n",
        "\n",
        "    train_loader = DataLoader(train_dataset, batch_size=BATCH_SIZE, shuffle=True, num_workers=4)\n",
        "    val_loader = DataLoader(val_dataset, batch_size=BATCH_SIZE, shuffle=True, num_workers=4)\n",
        "    test_loader = DataLoader(test_dataset, batch_size=BATCH_SIZE, shuffle=True, num_workers=4)\n",
        "\n",
        "    encoder = Encoder(sequence_size=SEQUENCE_SIZE)\n",
        "    recognizer = Recognizer(sequence_size=SEQUENCE_SIZE).cuda()\n",
        "    \n",
        "    optimizer = optim.Adam(recognizer.parameters(), lr=1e-3)\n",
        "\n",
        "    objective = nn.CTCLoss(blank=0, reduction='none', zero_infinity=True)\n",
        "\n",
        "    train_losses_epochs = []\n",
        "    val_losses_epochs = []\n",
        "    test_losses_epochs = []\n",
        "\n",
        "    train_cer_epochs = []\n",
        "    val_cer_epochs = []\n",
        "    test_cer_epochs = []\n",
        "\n",
        "    train_wer_epochs = []\n",
        "    val_wer_epochs = []\n",
        "    test_wer_epochs = []\n",
        "\n",
        "    for epoch in range(EPOCHS):\n",
        "      train_losses = []\n",
        "      val_losses = []\n",
        "      test_losses = []\n",
        "\n",
        "      train_cers = []\n",
        "      val_cers = []\n",
        "      test_cers = []\n",
        "\n",
        "      train_wers = []\n",
        "      val_wers = []\n",
        "      test_wers = []\n",
        "\n",
        "      # Training Loop\n",
        "      recognizer = recognizer.train()\n",
        "      train_loop = tqdm(total=len(train_loader), position=0, leave=True)\n",
        "      for batch_num, (imgs, words, _) in enumerate(train_loader):\n",
        "        batch_size = imgs.shape[0]\n",
        "\n",
        "        idxs, word_lengths = encoder.str_to_idxs_batch(words)\n",
        "\n",
        "        imgs, labels = imgs.cuda(), torch.tensor(idxs).cuda()\n",
        "\n",
        "        input_lengths = torch.full((batch_size,), SEQUENCE_SIZE, dtype=torch.long).cuda()\n",
        "        target_lengths = torch.tensor(word_lengths).cuda()\n",
        "\n",
        "        preds = recognizer(imgs)\n",
        "\n",
        "        loss = objective(preds, labels, input_lengths, target_lengths)\n",
        "        loss = torch.mean(loss)\n",
        "\n",
        "        optimizer.zero_grad()\n",
        "        loss.backward()\n",
        "        optimizer.step()\n",
        "\n",
        "        preds_strings = encoder.idxs_to_str_batch(preds.permute(1, 0, 2).argmax(dim=2).cpu())\n",
        "        preds_cer = cer_batch(preds_strings, words)\n",
        "        preds_wer = wer_batch(preds_strings, words)\n",
        "\n",
        "        train_losses.append(loss.item())\n",
        "        train_cers.append(preds_cer)\n",
        "        train_wers.append(preds_wer)\n",
        "\n",
        "        train_loop.set_description('Train - Epoch: {}, Loss: {:.4f}, CER: {:.4f}, WER: {:.4f}, AvgLoss: {:.4f}, AvgCER: {:.4f}, AvgWER: {:.4f}'.format(\n",
        "            epoch, loss.item(), preds_cer, preds_wer, np.mean(train_losses), np.mean(train_cers), np.mean(train_wers)))\n",
        "        train_loop.update(1)\n",
        "      \n",
        "      train_loop.close()\n",
        "\n",
        "      # Validation Loop\n",
        "      recognizer = recognizer.eval()\n",
        "      val_loop = tqdm(total=len(val_loader), position=0, leave=True)\n",
        "      for batch_num, (imgs, words, _) in enumerate(val_loader):\n",
        "        with torch.no_grad():\n",
        "          batch_size = imgs.shape[0]\n",
        "\n",
        "          idxs, word_lengths = encoder.str_to_idxs_batch(words)\n",
        "\n",
        "          imgs, labels = imgs.cuda(), torch.tensor(idxs).cuda()\n",
        "\n",
        "          optimizer.zero_grad()\n",
        "\n",
        "          input_lengths = torch.full((batch_size,), SEQUENCE_SIZE, dtype=torch.long).cuda()\n",
        "          target_lengths = torch.tensor(word_lengths).cuda()\n",
        "\n",
        "          preds = recognizer(imgs)\n",
        "\n",
        "          loss = objective(preds, labels, input_lengths, target_lengths)\n",
        "          loss = torch.mean(loss)\n",
        "\n",
        "          preds_strings = encoder.idxs_to_str_batch(preds.permute(1, 0, 2).argmax(dim=2).cpu())\n",
        "          preds_cer = cer_batch(preds_strings, words)\n",
        "          preds_wer = wer_batch(preds_strings, words)\n",
        "\n",
        "          val_losses.append(loss.item())\n",
        "          val_cers.append(preds_cer)\n",
        "          val_wers.append(preds_wer)\n",
        "\n",
        "          val_loop.set_description('Val   - Epoch: {}, Loss: {:.4f}, CER: {:.4f}, WER: {:.4f}, AvgLoss: {:.4f}, AvgCER: {:.4f}, AvgWER: {:.4f}'.format(\n",
        "              epoch, loss.item(), preds_cer, preds_wer, np.mean(val_losses), np.mean(val_cers), np.mean(val_wers)))\n",
        "          val_loop.update(1)\n",
        "\n",
        "      val_loop.close()\n",
        "\n",
        "      # Test Loop\n",
        "      recognizer = recognizer.eval()\n",
        "      test_loop = tqdm(total=len(test_loader), position=0, leave=True)\n",
        "      for batch_num, (imgs, words, _) in enumerate(test_loader):\n",
        "        with torch.no_grad():\n",
        "          batch_size = imgs.shape[0]\n",
        "\n",
        "          idxs, word_lengths = encoder.str_to_idxs_batch(words)\n",
        "\n",
        "          imgs, labels = imgs.cuda(), torch.tensor(idxs).cuda()\n",
        "\n",
        "          optimizer.zero_grad()\n",
        "\n",
        "          input_lengths = torch.full((batch_size,), SEQUENCE_SIZE, dtype=torch.long).cuda()\n",
        "          target_lengths = torch.tensor(word_lengths).cuda()\n",
        "\n",
        "          preds = recognizer(imgs)\n",
        "\n",
        "          loss = objective(preds, labels, input_lengths, target_lengths)\n",
        "          loss = torch.mean(loss)\n",
        "\n",
        "          preds_strings = encoder.idxs_to_str_batch(preds.permute(1, 0, 2).argmax(dim=2).cpu())\n",
        "          preds_cer = cer_batch(preds_strings, words)\n",
        "          preds_wer = wer_batch(preds_strings, words)\n",
        "\n",
        "          test_losses.append(loss.item())\n",
        "          test_cers.append(preds_cer)\n",
        "          test_wers.append(preds_wer)\n",
        "\n",
        "          test_loop.set_description('Test  - Epoch: {}, Loss: {:.4f}, CER: {:.4f}, WER: {:.4f}, AvgLoss: {:.4f}, AvgCER: {:.4f}, AvgWER: {:.4f}'.format(\n",
        "              epoch, loss.item(), preds_cer, preds_wer, np.mean(test_losses), np.mean(test_cers), np.mean(test_wers)))\n",
        "          test_loop.update(1)\n",
        "\n",
        "      test_loop.close()\n",
        "\n",
        "      train_losses_epochs.append(np.mean(train_losses))\n",
        "      val_losses_epochs.append(np.mean(val_losses))\n",
        "      test_losses_epochs.append(np.mean(test_losses))\n",
        "\n",
        "      train_cer_epochs.append(np.mean(train_cers))\n",
        "      val_cer_epochs.append(np.mean(val_cers))\n",
        "      test_cer_epochs.append(np.mean(test_cers))\n",
        "\n",
        "      train_wer_epochs.append(np.mean(train_wers))\n",
        "      val_wer_epochs.append(np.mean(val_wers))\n",
        "      test_wer_epochs.append(np.mean(test_wers))\n",
        "  except:\n",
        "    __ITB__()\n",
        "    gc.collect()\n",
        "  finally:\n",
        "    return recognizer, (train_losses_epochs, val_losses_epochs, test_losses_epochs), (train_cer_epochs, val_cer_epochs, test_cer_epochs), (train_wer_epochs, val_wer_epochs, test_wer_epochs) "
      ],
      "execution_count": 0,
      "outputs": []
    },
    {
      "cell_type": "markdown",
      "metadata": {
        "id": "uUbzZroBWB-t",
        "colab_type": "text"
      },
      "source": [
        "## Train on the IAM Dataset, Test on the Rimes Dataset"
      ]
    },
    {
      "cell_type": "markdown",
      "metadata": {
        "id": "gGNd39DopdY3",
        "colab_type": "text"
      },
      "source": [
        "### Training Loop"
      ]
    },
    {
      "cell_type": "code",
      "metadata": {
        "id": "u9MaGdQew5BT",
        "colab_type": "code",
        "outputId": "6727a0b4-401e-40de-9394-66438dc25d77",
        "colab": {
          "base_uri": "https://localhost:8080/"
        }
      },
      "source": [
        "iam_dataset = IamDataset(desired_size=(32, 128), total_imgs=30000)\n",
        "\n",
        "iam_train_size = int(.8 * len(iam_dataset))\n",
        "iam_val_size = len(iam_dataset) - iam_train_size\n",
        "\n",
        "iam_train_dataset, iam_val_dataset = torch.utils.data.random_split(iam_dataset, [iam_train_size, iam_val_size])\n",
        "\n",
        "rimes_dataset = RimesDataset(desired_size=(32, 128), total_imgs=30000)\n",
        "iam_to_rimes_recognizer, iam_to_rimes_losses, iam_to_rimes_cers, iam_to_rimes_wers = train(iam_train_dataset, iam_val_dataset, rimes_dataset)"
      ],
      "execution_count": 0,
      "outputs": [
        {
          "output_type": "stream",
          "text": [
            "Train - Epoch: 0, Loss: 17.0957, CER: 1.0000, WER: 1.0000, AvgLoss: 25.8822, AvgCER: 1.0265, AvgWER: 1.0000: 100%|██████████| 96/96 [00:32<00:00,  2.99it/s]\n",
            "Val   - Epoch: 0, Loss: 18.4080, CER: 1.0000, WER: 1.0000, AvgLoss: 17.6277, AvgCER: 1.0000, AvgWER: 1.0000: 100%|██████████| 24/24 [00:05<00:00,  4.10it/s]\n",
            "Test  - Epoch: 0, Loss: 21.8537, CER: 1.0000, WER: 1.0000, AvgLoss: 20.2709, AvgCER: 1.0000, AvgWER: 1.0000: 100%|██████████| 120/120 [00:25<00:00,  4.67it/s]\n",
            "Train - Epoch: 1, Loss: 15.9648, CER: 1.0000, WER: 1.0000, AvgLoss: 16.9077, AvgCER: 1.0000, AvgWER: 1.0000: 100%|██████████| 96/96 [00:32<00:00,  3.00it/s]\n",
            "Val   - Epoch: 1, Loss: 16.1728, CER: 1.0000, WER: 1.0000, AvgLoss: 16.4571, AvgCER: 1.0000, AvgWER: 1.0000: 100%|██████████| 24/24 [00:05<00:00,  4.16it/s]\n",
            "Test  - Epoch: 1, Loss: 20.1087, CER: 1.0000, WER: 1.0000, AvgLoss: 19.7243, AvgCER: 1.0000, AvgWER: 1.0000: 100%|██████████| 120/120 [00:25<00:00,  4.71it/s]\n",
            "Train - Epoch: 2, Loss: 16.8037, CER: 1.0000, WER: 1.0000, AvgLoss: 16.6841, AvgCER: 0.9994, AvgWER: 1.0000: 100%|██████████| 96/96 [00:31<00:00,  3.02it/s]\n",
            "Val   - Epoch: 2, Loss: 17.6873, CER: 1.0000, WER: 1.0000, AvgLoss: 16.8971, AvgCER: 1.0000, AvgWER: 1.0000: 100%|██████████| 24/24 [00:05<00:00,  4.28it/s]\n",
            "Test  - Epoch: 2, Loss: 20.4770, CER: 1.0000, WER: 1.0000, AvgLoss: 20.1779, AvgCER: 1.0000, AvgWER: 1.0000: 100%|██████████| 120/120 [00:25<00:00,  4.77it/s]\n",
            "Train - Epoch: 3, Loss: 15.8386, CER: 1.0000, WER: 1.0000, AvgLoss: 16.2538, AvgCER: 1.0000, AvgWER: 1.0000: 100%|██████████| 96/96 [00:31<00:00,  3.04it/s]\n",
            "Val   - Epoch: 3, Loss: 15.9885, CER: 1.0000, WER: 1.0000, AvgLoss: 16.0494, AvgCER: 1.0000, AvgWER: 1.0000: 100%|██████████| 24/24 [00:05<00:00,  4.22it/s]\n",
            "Test  - Epoch: 3, Loss: 17.7634, CER: 1.0000, WER: 1.0000, AvgLoss: 19.4118, AvgCER: 1.0000, AvgWER: 1.0000: 100%|██████████| 120/120 [00:25<00:00,  4.77it/s]\n",
            "Train - Epoch: 4, Loss: 14.6360, CER: 0.9988, WER: 1.0000, AvgLoss: 15.5670, AvgCER: 0.9971, AvgWER: 1.0000: 100%|██████████| 96/96 [00:31<00:00,  3.07it/s]\n",
            "Val   - Epoch: 4, Loss: 16.1782, CER: 0.9996, WER: 1.0000, AvgLoss: 15.2755, AvgCER: 0.9986, AvgWER: 1.0000: 100%|██████████| 24/24 [00:05<00:00,  4.27it/s]\n",
            "Test  - Epoch: 4, Loss: 18.8706, CER: 0.9989, WER: 1.0000, AvgLoss: 18.9594, AvgCER: 0.9986, AvgWER: 1.0000: 100%|██████████| 120/120 [00:25<00:00,  4.79it/s]\n",
            "Train - Epoch: 5, Loss: 14.6978, CER: 0.8492, WER: 0.9480, AvgLoss: 14.6723, AvgCER: 0.9364, AvgWER: 0.9814: 100%|██████████| 96/96 [00:31<00:00,  3.03it/s]\n",
            "Val   - Epoch: 5, Loss: 14.1116, CER: 0.8672, WER: 0.9560, AvgLoss: 14.4134, AvgCER: 0.8526, AvgWER: 0.9562: 100%|██████████| 24/24 [00:05<00:00,  4.18it/s]\n",
            "Test  - Epoch: 5, Loss: 17.6850, CER: 0.9018, WER: 1.0000, AvgLoss: 18.3969, AvgCER: 0.9031, AvgWER: 0.9990: 100%|██████████| 120/120 [00:25<00:00,  4.69it/s]\n",
            "Train - Epoch: 6, Loss: 14.2296, CER: 0.8179, WER: 0.9280, AvgLoss: 14.0519, AvgCER: 0.8178, AvgWER: 0.9401: 100%|██████████| 96/96 [00:32<00:00,  2.99it/s]\n",
            "Val   - Epoch: 6, Loss: 14.5636, CER: 0.8285, WER: 0.9480, AvgLoss: 14.0173, AvgCER: 0.8154, AvgWER: 0.9320: 100%|██████████| 24/24 [00:05<00:00,  4.16it/s]\n",
            "Test  - Epoch: 6, Loss: 18.4153, CER: 0.8829, WER: 1.0000, AvgLoss: 18.5187, AvgCER: 0.8828, AvgWER: 0.9999: 100%|██████████| 120/120 [00:25<00:00,  4.64it/s]\n",
            "Train - Epoch: 7, Loss: 14.5246, CER: 0.7758, WER: 0.9080, AvgLoss: 13.7853, AvgCER: 0.7961, AvgWER: 0.9288: 100%|██████████| 96/96 [00:32<00:00,  2.99it/s]\n",
            "Val   - Epoch: 7, Loss: 13.3408, CER: 0.8099, WER: 0.9320, AvgLoss: 13.6673, AvgCER: 0.7912, AvgWER: 0.9212: 100%|██████████| 24/24 [00:05<00:00,  4.10it/s]\n",
            "Test  - Epoch: 7, Loss: 18.0649, CER: 0.8737, WER: 1.0000, AvgLoss: 18.3395, AvgCER: 0.8693, AvgWER: 0.9994: 100%|██████████| 120/120 [00:25<00:00,  4.62it/s]\n",
            "Train - Epoch: 8, Loss: 13.4181, CER: 0.8118, WER: 0.9320, AvgLoss: 13.4134, AvgCER: 0.7779, AvgWER: 0.9209: 100%|██████████| 96/96 [00:32<00:00,  2.97it/s]\n",
            "Val   - Epoch: 8, Loss: 12.9674, CER: 0.7798, WER: 0.9240, AvgLoss: 13.3927, AvgCER: 0.7842, AvgWER: 0.9293: 100%|██████████| 24/24 [00:05<00:00,  4.14it/s]\n",
            "Test  - Epoch: 8, Loss: 18.2807, CER: 0.8170, WER: 1.0000, AvgLoss: 18.1352, AvgCER: 0.8279, AvgWER: 0.9993: 100%|██████████| 120/120 [00:25<00:00,  4.62it/s]\n",
            "Train - Epoch: 9, Loss: 12.9183, CER: 0.7650, WER: 0.9160, AvgLoss: 13.1294, AvgCER: 0.7681, AvgWER: 0.9183: 100%|██████████| 96/96 [00:32<00:00,  2.99it/s]\n",
            "Val   - Epoch: 9, Loss: 12.5898, CER: 0.7598, WER: 0.9040, AvgLoss: 13.2823, AvgCER: 0.7866, AvgWER: 0.9255: 100%|██████████| 24/24 [00:05<00:00,  4.08it/s]\n",
            "Test  - Epoch: 9, Loss: 18.9184, CER: 0.8673, WER: 1.0000, AvgLoss: 18.4426, AvgCER: 0.8768, AvgWER: 0.9997: 100%|██████████| 120/120 [00:25<00:00,  4.62it/s]\n",
            "Train - Epoch: 10, Loss: 12.0484, CER: 0.7588, WER: 0.9160, AvgLoss: 12.9203, AvgCER: 0.7660, AvgWER: 0.9173: 100%|██████████| 96/96 [00:32<00:00,  2.97it/s]\n",
            "Val   - Epoch: 10, Loss: 13.1769, CER: 0.7747, WER: 0.9240, AvgLoss: 12.9672, AvgCER: 0.7657, AvgWER: 0.9195: 100%|██████████| 24/24 [00:05<00:00,  4.08it/s]\n",
            "Test  - Epoch: 10, Loss: 17.2093, CER: 0.8644, WER: 1.0000, AvgLoss: 18.0205, AvgCER: 0.8586, AvgWER: 0.9983: 100%|██████████| 120/120 [00:26<00:00,  4.59it/s]\n",
            "Train - Epoch: 11, Loss: 12.5493, CER: 0.7623, WER: 0.9400, AvgLoss: 12.8114, AvgCER: 0.7616, AvgWER: 0.9128: 100%|██████████| 96/96 [00:32<00:00,  2.99it/s]\n",
            "Val   - Epoch: 11, Loss: 12.4965, CER: 0.7285, WER: 0.9000, AvgLoss: 12.8068, AvgCER: 0.7460, AvgWER: 0.9177: 100%|██████████| 24/24 [00:05<00:00,  4.10it/s]\n",
            "Test  - Epoch: 11, Loss: 17.9849, CER: 0.8302, WER: 1.0000, AvgLoss: 18.1148, AvgCER: 0.8488, AvgWER: 0.9988: 100%|██████████| 120/120 [00:26<00:00,  4.59it/s]\n",
            "Train - Epoch: 12, Loss: 11.4558, CER: 0.7447, WER: 0.9120, AvgLoss: 12.6076, AvgCER: 0.7490, AvgWER: 0.9075: 100%|██████████| 96/96 [00:32<00:00,  2.99it/s]\n",
            "Val   - Epoch: 12, Loss: 12.4835, CER: 0.7376, WER: 0.8880, AvgLoss: 12.6341, AvgCER: 0.7598, AvgWER: 0.9175: 100%|██████████| 24/24 [00:05<00:00,  4.09it/s]\n",
            "Test  - Epoch: 12, Loss: 18.1864, CER: 0.8656, WER: 1.0000, AvgLoss: 17.9191, AvgCER: 0.8565, AvgWER: 0.9983: 100%|██████████| 120/120 [00:25<00:00,  4.63it/s]\n",
            "Train - Epoch: 13, Loss: 11.9350, CER: 0.7088, WER: 0.8520, AvgLoss: 12.4499, AvgCER: 0.7354, AvgWER: 0.8950: 100%|██████████| 96/96 [00:32<00:00,  2.97it/s]\n",
            "Val   - Epoch: 13, Loss: 12.6726, CER: 0.7082, WER: 0.8560, AvgLoss: 12.5410, AvgCER: 0.7331, AvgWER: 0.8765: 100%|██████████| 24/24 [00:05<00:00,  4.10it/s]\n",
            "Test  - Epoch: 13, Loss: 18.8340, CER: 0.8546, WER: 0.9960, AvgLoss: 18.1994, AvgCER: 0.8744, AvgWER: 0.9985: 100%|██████████| 120/120 [00:26<00:00,  4.58it/s]\n",
            "Train - Epoch: 14, Loss: 12.8443, CER: 0.6968, WER: 0.8680, AvgLoss: 12.3443, AvgCER: 0.7289, AvgWER: 0.8840: 100%|██████████| 96/96 [00:32<00:00,  2.98it/s]\n",
            "Val   - Epoch: 14, Loss: 12.3722, CER: 0.7532, WER: 0.9200, AvgLoss: 12.4443, AvgCER: 0.7268, AvgWER: 0.8928: 100%|██████████| 24/24 [00:05<00:00,  4.13it/s]\n",
            "Test  - Epoch: 14, Loss: 17.7821, CER: 0.8337, WER: 1.0000, AvgLoss: 17.9215, AvgCER: 0.8371, AvgWER: 0.9983: 100%|██████████| 120/120 [00:26<00:00,  4.56it/s]\n",
            "Train - Epoch: 15, Loss: 12.7070, CER: 0.7062, WER: 0.8640, AvgLoss: 12.1814, AvgCER: 0.7103, AvgWER: 0.8689: 100%|██████████| 96/96 [00:32<00:00,  2.96it/s]\n",
            "Val   - Epoch: 15, Loss: 13.3127, CER: 0.7686, WER: 0.9040, AvgLoss: 12.4245, AvgCER: 0.7157, AvgWER: 0.8688: 100%|██████████| 24/24 [00:05<00:00,  4.12it/s]\n",
            "Test  - Epoch: 15, Loss: 17.0656, CER: 0.8568, WER: 0.9960, AvgLoss: 18.1097, AvgCER: 0.8510, AvgWER: 0.9985: 100%|██████████| 120/120 [00:26<00:00,  4.54it/s]\n",
            "Train - Epoch: 16, Loss: 11.4599, CER: 0.6645, WER: 0.8280, AvgLoss: 12.0869, AvgCER: 0.7006, AvgWER: 0.8598: 100%|██████████| 96/96 [00:32<00:00,  2.96it/s]\n",
            "Val   - Epoch: 16, Loss: 13.1975, CER: 0.6701, WER: 0.8320, AvgLoss: 12.2604, AvgCER: 0.7076, AvgWER: 0.8630: 100%|██████████| 24/24 [00:05<00:00,  4.09it/s]\n",
            "Test  - Epoch: 16, Loss: 17.8527, CER: 0.8775, WER: 1.0000, AvgLoss: 18.1515, AvgCER: 0.8846, AvgWER: 0.9984: 100%|██████████| 120/120 [00:26<00:00,  4.51it/s]\n",
            "Train - Epoch: 17, Loss: 12.4201, CER: 0.7131, WER: 0.8760, AvgLoss: 11.9601, AvgCER: 0.6887, AvgWER: 0.8498: 100%|██████████| 96/96 [00:32<00:00,  2.94it/s]\n",
            "Val   - Epoch: 17, Loss: 11.1689, CER: 0.7040, WER: 0.8760, AvgLoss: 12.0521, AvgCER: 0.6930, AvgWER: 0.8498: 100%|██████████| 24/24 [00:06<00:00,  3.99it/s]\n",
            "Test  - Epoch: 17, Loss: 17.4219, CER: 0.8771, WER: 0.9960, AvgLoss: 18.0633, AvgCER: 0.8662, AvgWER: 0.9984: 100%|██████████| 120/120 [00:26<00:00,  4.49it/s]\n",
            "Train - Epoch: 18, Loss: 11.4101, CER: 0.6862, WER: 0.8240, AvgLoss: 11.8096, AvgCER: 0.6743, AvgWER: 0.8378: 100%|██████████| 96/96 [00:32<00:00,  2.94it/s]\n",
            "Val   - Epoch: 18, Loss: 11.8512, CER: 0.6590, WER: 0.8240, AvgLoss: 11.9815, AvgCER: 0.6819, AvgWER: 0.8378: 100%|██████████| 24/24 [00:05<00:00,  4.04it/s]\n",
            "Test  - Epoch: 18, Loss: 18.6696, CER: 0.8679, WER: 0.9920, AvgLoss: 18.1669, AvgCER: 0.8631, AvgWER: 0.9982: 100%|██████████| 120/120 [00:26<00:00,  4.48it/s]\n",
            "Train - Epoch: 19, Loss: 12.0991, CER: 0.6400, WER: 0.8200, AvgLoss: 11.6969, AvgCER: 0.6616, AvgWER: 0.8262: 100%|██████████| 96/96 [00:32<00:00,  2.92it/s]\n",
            "Val   - Epoch: 19, Loss: 11.4616, CER: 0.6618, WER: 0.8560, AvgLoss: 11.9385, AvgCER: 0.6716, AvgWER: 0.8488: 100%|██████████| 24/24 [00:05<00:00,  4.01it/s]\n",
            "Test  - Epoch: 19, Loss: 16.5187, CER: 0.8442, WER: 0.9920, AvgLoss: 18.0712, AvgCER: 0.8488, AvgWER: 0.9982: 100%|██████████| 120/120 [00:26<00:00,  4.47it/s]\n",
            "Train - Epoch: 20, Loss: 11.8108, CER: 0.6554, WER: 0.8240, AvgLoss: 11.5546, AvgCER: 0.6457, AvgWER: 0.8129: 100%|██████████| 96/96 [00:32<00:00,  2.94it/s]\n",
            "Val   - Epoch: 20, Loss: 11.7682, CER: 0.6491, WER: 0.8080, AvgLoss: 11.6651, AvgCER: 0.6479, AvgWER: 0.8117: 100%|██████████| 24/24 [00:05<00:00,  4.04it/s]\n",
            "Test  - Epoch: 20, Loss: 18.1282, CER: 0.8407, WER: 0.9960, AvgLoss: 18.0585, AvgCER: 0.8533, AvgWER: 0.9982: 100%|██████████| 120/120 [00:26<00:00,  4.48it/s]\n",
            "Train - Epoch: 21, Loss: 10.7276, CER: 0.6195, WER: 0.7880, AvgLoss: 11.4031, AvgCER: 0.6315, AvgWER: 0.8032: 100%|██████████| 96/96 [00:33<00:00,  2.91it/s]\n",
            "Val   - Epoch: 21, Loss: 11.0934, CER: 0.6580, WER: 0.8120, AvgLoss: 11.7269, AvgCER: 0.6454, AvgWER: 0.8215: 100%|██████████| 24/24 [00:06<00:00,  3.96it/s]\n",
            "Test  - Epoch: 21, Loss: 18.5116, CER: 0.8622, WER: 1.0000, AvgLoss: 17.9731, AvgCER: 0.8554, AvgWER: 0.9983: 100%|██████████| 120/120 [00:27<00:00,  4.41it/s]\n",
            "Train - Epoch: 22, Loss: 10.9315, CER: 0.6252, WER: 0.7840, AvgLoss: 11.3008, AvgCER: 0.6227, AvgWER: 0.7952: 100%|██████████| 96/96 [00:33<00:00,  2.90it/s]\n",
            "Val   - Epoch: 22, Loss: 10.9016, CER: 0.5982, WER: 0.7720, AvgLoss: 11.4043, AvgCER: 0.6235, AvgWER: 0.7863: 100%|██████████| 24/24 [00:06<00:00,  3.97it/s]\n",
            "Test  - Epoch: 22, Loss: 16.9588, CER: 0.8529, WER: 1.0000, AvgLoss: 18.0646, AvgCER: 0.8596, AvgWER: 0.9982: 100%|██████████| 120/120 [00:27<00:00,  4.41it/s]\n",
            "Train - Epoch: 23, Loss: 11.4688, CER: 0.6304, WER: 0.7960, AvgLoss: 11.1888, AvgCER: 0.6124, AvgWER: 0.7889: 100%|██████████| 96/96 [00:33<00:00,  2.91it/s]\n",
            "Val   - Epoch: 23, Loss: 12.2727, CER: 0.6600, WER: 0.8240, AvgLoss: 11.3564, AvgCER: 0.6315, AvgWER: 0.8005: 100%|██████████| 24/24 [00:06<00:00,  3.97it/s]\n",
            "Test  - Epoch: 23, Loss: 17.8475, CER: 0.8370, WER: 0.9960, AvgLoss: 17.9016, AvgCER: 0.8529, AvgWER: 0.9980: 100%|██████████| 120/120 [00:27<00:00,  4.41it/s]\n",
            "Train - Epoch: 24, Loss: 11.2975, CER: 0.6250, WER: 0.8040, AvgLoss: 11.0657, AvgCER: 0.6027, AvgWER: 0.7832: 100%|██████████| 96/96 [00:32<00:00,  2.93it/s]\n",
            "Val   - Epoch: 24, Loss: 11.4035, CER: 0.6276, WER: 0.7760, AvgLoss: 11.3664, AvgCER: 0.6211, AvgWER: 0.7838: 100%|██████████| 24/24 [00:05<00:00,  4.06it/s]\n",
            "Test  - Epoch: 24, Loss: 18.5683, CER: 0.8468, WER: 1.0000, AvgLoss: 18.1116, AvgCER: 0.8571, AvgWER: 0.9982: 100%|██████████| 120/120 [00:26<00:00,  4.45it/s]\n",
            "Train - Epoch: 25, Loss: 11.0375, CER: 0.5840, WER: 0.7640, AvgLoss: 10.9266, AvgCER: 0.5932, AvgWER: 0.7770: 100%|██████████| 96/96 [00:32<00:00,  2.93it/s]\n",
            "Val   - Epoch: 25, Loss: 11.3451, CER: 0.5954, WER: 0.7520, AvgLoss: 11.2807, AvgCER: 0.6213, AvgWER: 0.7915: 100%|██████████| 24/24 [00:06<00:00,  3.98it/s]\n",
            "Test  - Epoch: 25, Loss: 17.5742, CER: 0.8692, WER: 0.9920, AvgLoss: 17.9997, AvgCER: 0.8540, AvgWER: 0.9981: 100%|██████████| 120/120 [00:27<00:00,  4.43it/s]\n",
            "Train - Epoch: 26, Loss: 10.4579, CER: 0.5360, WER: 0.7160, AvgLoss: 10.7635, AvgCER: 0.5805, AvgWER: 0.7693: 100%|██████████| 96/96 [00:32<00:00,  2.91it/s]\n",
            "Val   - Epoch: 26, Loss: 9.6438, CER: 0.5561, WER: 0.7440, AvgLoss: 10.9482, AvgCER: 0.5845, AvgWER: 0.7685: 100%|██████████| 24/24 [00:06<00:00,  3.96it/s]\n",
            "Test  - Epoch: 26, Loss: 17.6117, CER: 0.8376, WER: 1.0000, AvgLoss: 17.8728, AvgCER: 0.8443, AvgWER: 0.9978: 100%|██████████| 120/120 [00:26<00:00,  4.45it/s]\n",
            "Train - Epoch: 27, Loss: 11.5994, CER: 0.6137, WER: 0.7840, AvgLoss: 10.6353, AvgCER: 0.5716, AvgWER: 0.7634: 100%|██████████| 96/96 [00:33<00:00,  2.90it/s]\n",
            "Val   - Epoch: 27, Loss: 9.8933, CER: 0.5698, WER: 0.7840, AvgLoss: 11.0512, AvgCER: 0.6089, AvgWER: 0.8060: 100%|██████████| 24/24 [00:06<00:00,  3.96it/s]\n",
            "Test  - Epoch: 27, Loss: 17.7505, CER: 0.8457, WER: 1.0000, AvgLoss: 17.7863, AvgCER: 0.8522, AvgWER: 0.9980: 100%|██████████| 120/120 [00:26<00:00,  4.46it/s]\n",
            "Train - Epoch: 28, Loss: 10.2689, CER: 0.5845, WER: 0.7800, AvgLoss: 10.5491, AvgCER: 0.5659, AvgWER: 0.7595: 100%|██████████| 96/96 [00:32<00:00,  2.92it/s]\n",
            "Val   - Epoch: 28, Loss: 9.8427, CER: 0.5389, WER: 0.7480, AvgLoss: 11.0203, AvgCER: 0.5873, AvgWER: 0.7740: 100%|██████████| 24/24 [00:06<00:00,  3.96it/s]\n",
            "Test  - Epoch: 28, Loss: 19.1577, CER: 0.8590, WER: 1.0000, AvgLoss: 17.8650, AvgCER: 0.8471, AvgWER: 0.9972: 100%|██████████| 120/120 [00:27<00:00,  4.44it/s]\n",
            "Train - Epoch: 29, Loss: 9.8179, CER: 0.5479, WER: 0.7560, AvgLoss: 10.3873, AvgCER: 0.5517, AvgWER: 0.7509: 100%|██████████| 96/96 [00:32<00:00,  2.92it/s]\n",
            "Val   - Epoch: 29, Loss: 10.8979, CER: 0.5590, WER: 0.7520, AvgLoss: 10.7132, AvgCER: 0.5672, AvgWER: 0.7623: 100%|██████████| 24/24 [00:06<00:00,  3.94it/s]\n",
            "Test  - Epoch: 29, Loss: 17.5350, CER: 0.8444, WER: 0.9960, AvgLoss: 17.7295, AvgCER: 0.8362, AvgWER: 0.9973: 100%|██████████| 120/120 [00:27<00:00,  4.44it/s]\n",
            "Train - Epoch: 30, Loss: 10.5086, CER: 0.5297, WER: 0.7400, AvgLoss: 10.2577, AvgCER: 0.5442, AvgWER: 0.7445: 100%|██████████| 96/96 [00:32<00:00,  2.91it/s]\n",
            "Val   - Epoch: 30, Loss: 10.2424, CER: 0.5677, WER: 0.7720, AvgLoss: 10.5819, AvgCER: 0.5563, AvgWER: 0.7563: 100%|██████████| 24/24 [00:05<00:00,  4.01it/s]\n",
            "Test  - Epoch: 30, Loss: 17.3668, CER: 0.8336, WER: 1.0000, AvgLoss: 17.5999, AvgCER: 0.8306, AvgWER: 0.9965: 100%|██████████| 120/120 [00:27<00:00,  4.38it/s]\n",
            "Train - Epoch: 31, Loss: 11.0401, CER: 0.5594, WER: 0.7680, AvgLoss: 10.1307, AvgCER: 0.5351, AvgWER: 0.7398: 100%|██████████| 96/96 [00:33<00:00,  2.87it/s]\n",
            "Val   - Epoch: 31, Loss: 10.9967, CER: 0.5714, WER: 0.7960, AvgLoss: 10.4146, AvgCER: 0.5443, AvgWER: 0.7485: 100%|██████████| 24/24 [00:06<00:00,  3.97it/s]\n",
            "Test  - Epoch: 31, Loss: 18.3123, CER: 0.8312, WER: 0.9960, AvgLoss: 17.3345, AvgCER: 0.8138, AvgWER: 0.9965: 100%|██████████| 120/120 [00:26<00:00,  4.45it/s]\n",
            "Train - Epoch: 32, Loss: 9.8645, CER: 0.4993, WER: 0.7200, AvgLoss: 9.9593, AvgCER: 0.5206, AvgWER: 0.7285: 100%|██████████| 96/96 [00:33<00:00,  2.88it/s]\n",
            "Val   - Epoch: 32, Loss: 10.5343, CER: 0.5556, WER: 0.7320, AvgLoss: 10.2958, AvgCER: 0.5367, AvgWER: 0.7418: 100%|██████████| 24/24 [00:06<00:00,  3.90it/s]\n",
            "Test  - Epoch: 32, Loss: 18.2835, CER: 0.8395, WER: 1.0000, AvgLoss: 17.5958, AvgCER: 0.8265, AvgWER: 0.9965: 100%|██████████| 120/120 [00:27<00:00,  4.38it/s]\n",
            "Train - Epoch: 33, Loss: 10.1289, CER: 0.5079, WER: 0.7200, AvgLoss: 9.8243, AvgCER: 0.5122, AvgWER: 0.7247: 100%|██████████| 96/96 [00:33<00:00,  2.88it/s]\n",
            "Val   - Epoch: 33, Loss: 10.5242, CER: 0.5387, WER: 0.7520, AvgLoss: 10.3007, AvgCER: 0.5251, AvgWER: 0.7408: 100%|██████████| 24/24 [00:06<00:00,  3.94it/s]\n",
            "Test  - Epoch: 33, Loss: 17.1822, CER: 0.8167, WER: 0.9840, AvgLoss: 17.6048, AvgCER: 0.8236, AvgWER: 0.9963: 100%|██████████| 120/120 [00:27<00:00,  4.37it/s]\n",
            "Train - Epoch: 34, Loss: 10.3824, CER: 0.5366, WER: 0.7600, AvgLoss: 9.7019, AvgCER: 0.5046, AvgWER: 0.7185: 100%|██████████| 96/96 [00:33<00:00,  2.90it/s]\n",
            "Val   - Epoch: 34, Loss: 10.1069, CER: 0.5494, WER: 0.7520, AvgLoss: 10.0957, AvgCER: 0.5261, AvgWER: 0.7413: 100%|██████████| 24/24 [00:06<00:00,  3.87it/s]\n",
            "Test  - Epoch: 34, Loss: 17.3375, CER: 0.7997, WER: 0.9960, AvgLoss: 17.4984, AvgCER: 0.8066, AvgWER: 0.9970: 100%|██████████| 120/120 [00:26<00:00,  4.45it/s]\n",
            "Train - Epoch: 35, Loss: 9.0114, CER: 0.4888, WER: 0.7200, AvgLoss: 9.5336, AvgCER: 0.4938, AvgWER: 0.7121: 100%|██████████| 96/96 [00:32<00:00,  2.91it/s]\n",
            "Val   - Epoch: 35, Loss: 10.5172, CER: 0.4997, WER: 0.6880, AvgLoss: 9.9170, AvgCER: 0.5159, AvgWER: 0.7310: 100%|██████████| 24/24 [00:06<00:00,  3.98it/s]\n",
            "Test  - Epoch: 35, Loss: 17.3050, CER: 0.8052, WER: 0.9960, AvgLoss: 17.1731, AvgCER: 0.8003, AvgWER: 0.9969: 100%|██████████| 120/120 [00:27<00:00,  4.39it/s]\n",
            "Train - Epoch: 36, Loss: 9.7652, CER: 0.4956, WER: 0.7080, AvgLoss: 9.3518, AvgCER: 0.4810, AvgWER: 0.7032: 100%|██████████| 96/96 [00:33<00:00,  2.90it/s]\n",
            "Val   - Epoch: 36, Loss: 9.9669, CER: 0.5002, WER: 0.7280, AvgLoss: 9.9237, AvgCER: 0.5145, AvgWER: 0.7312: 100%|██████████| 24/24 [00:06<00:00,  3.94it/s]\n",
            "Test  - Epoch: 36, Loss: 17.8115, CER: 0.7930, WER: 0.9960, AvgLoss: 17.4857, AvgCER: 0.8048, AvgWER: 0.9971: 100%|██████████| 120/120 [00:27<00:00,  4.38it/s]\n",
            "Train - Epoch: 37, Loss: 9.7485, CER: 0.4855, WER: 0.7160, AvgLoss: 9.1884, AvgCER: 0.4721, AvgWER: 0.6972: 100%|██████████| 96/96 [00:32<00:00,  2.93it/s]\n",
            "Val   - Epoch: 37, Loss: 10.3965, CER: 0.5565, WER: 0.7640, AvgLoss: 9.7305, AvgCER: 0.5018, AvgWER: 0.7208: 100%|██████████| 24/24 [00:06<00:00,  4.00it/s]\n",
            "Test  - Epoch: 37, Loss: 16.1918, CER: 0.8042, WER: 0.9920, AvgLoss: 17.0363, AvgCER: 0.7977, AvgWER: 0.9963: 100%|██████████| 120/120 [00:26<00:00,  4.47it/s]\n",
            "Train - Epoch: 38, Loss: 8.5693, CER: 0.4389, WER: 0.6560, AvgLoss: 9.0829, AvgCER: 0.4672, AvgWER: 0.6941: 100%|██████████| 96/96 [00:32<00:00,  2.92it/s]\n",
            "Val   - Epoch: 38, Loss: 10.0608, CER: 0.5166, WER: 0.7400, AvgLoss: 9.7137, AvgCER: 0.4988, AvgWER: 0.7170: 100%|██████████| 24/24 [00:05<00:00,  4.02it/s]\n",
            "Test  - Epoch: 38, Loss: 16.0905, CER: 0.7849, WER: 1.0000, AvgLoss: 17.2380, AvgCER: 0.7914, AvgWER: 0.9962: 100%|██████████| 120/120 [00:26<00:00,  4.48it/s]\n",
            "Train - Epoch: 39, Loss: 8.6053, CER: 0.4445, WER: 0.6920, AvgLoss: 8.9118, AvgCER: 0.4569, AvgWER: 0.6890: 100%|██████████| 96/96 [00:33<00:00,  2.90it/s]\n",
            "Val   - Epoch: 39, Loss: 8.3455, CER: 0.4761, WER: 0.7040, AvgLoss: 9.5928, AvgCER: 0.4849, AvgWER: 0.7145: 100%|██████████| 24/24 [00:06<00:00,  3.94it/s]\n",
            "Test  - Epoch: 39, Loss: 17.4048, CER: 0.7837, WER: 0.9960, AvgLoss: 17.1313, AvgCER: 0.7804, AvgWER: 0.9964: 100%|██████████| 120/120 [00:26<00:00,  4.47it/s]\n",
            "Train - Epoch: 40, Loss: 8.2951, CER: 0.4538, WER: 0.7040, AvgLoss: 8.8203, AvgCER: 0.4523, AvgWER: 0.6896: 100%|██████████| 96/96 [00:33<00:00,  2.89it/s]\n",
            "Val   - Epoch: 40, Loss: 8.1594, CER: 0.4211, WER: 0.6440, AvgLoss: 9.4432, AvgCER: 0.4742, AvgWER: 0.7052: 100%|██████████| 24/24 [00:05<00:00,  4.00it/s]\n",
            "Test  - Epoch: 40, Loss: 16.7296, CER: 0.7872, WER: 1.0000, AvgLoss: 17.3345, AvgCER: 0.7883, AvgWER: 0.9967: 100%|██████████| 120/120 [00:26<00:00,  4.45it/s]\n",
            "Train - Epoch: 41, Loss: 8.3012, CER: 0.4194, WER: 0.6680, AvgLoss: 8.6380, AvgCER: 0.4394, AvgWER: 0.6812: 100%|██████████| 96/96 [00:33<00:00,  2.91it/s]\n",
            "Val   - Epoch: 41, Loss: 10.0700, CER: 0.4975, WER: 0.7480, AvgLoss: 9.4528, AvgCER: 0.4820, AvgWER: 0.7227: 100%|██████████| 24/24 [00:06<00:00,  3.95it/s]\n",
            "Test  - Epoch: 41, Loss: 17.2997, CER: 0.7695, WER: 0.9960, AvgLoss: 17.1503, AvgCER: 0.7875, AvgWER: 0.9954: 100%|██████████| 120/120 [00:27<00:00,  4.44it/s]\n",
            "Train - Epoch: 42, Loss: 8.8065, CER: 0.4120, WER: 0.6520, AvgLoss: 8.4584, AvgCER: 0.4307, AvgWER: 0.6751: 100%|██████████| 96/96 [00:32<00:00,  2.91it/s]\n",
            "Val   - Epoch: 42, Loss: 9.6842, CER: 0.4872, WER: 0.7160, AvgLoss: 9.3696, AvgCER: 0.4718, AvgWER: 0.7075: 100%|██████████| 24/24 [00:05<00:00,  4.06it/s]\n",
            "Test  - Epoch: 42, Loss: 17.6600, CER: 0.7681, WER: 1.0000, AvgLoss: 17.4369, AvgCER: 0.7931, AvgWER: 0.9969: 100%|██████████| 120/120 [00:26<00:00,  4.47it/s]\n",
            "Train - Epoch: 43, Loss: 8.0944, CER: 0.4019, WER: 0.6400, AvgLoss: 8.3000, AvgCER: 0.4212, AvgWER: 0.6695: 100%|██████████| 96/96 [00:32<00:00,  2.91it/s]\n",
            "Val   - Epoch: 43, Loss: 9.9496, CER: 0.4850, WER: 0.7160, AvgLoss: 9.1786, AvgCER: 0.4617, AvgWER: 0.6977: 100%|██████████| 24/24 [00:05<00:00,  4.02it/s]\n",
            "Test  - Epoch: 43, Loss: 17.0770, CER: 0.7866, WER: 1.0000, AvgLoss: 17.0549, AvgCER: 0.7783, AvgWER: 0.9960: 100%|██████████| 120/120 [00:26<00:00,  4.47it/s]\n",
            "Train - Epoch: 44, Loss: 8.0543, CER: 0.4080, WER: 0.6680, AvgLoss: 8.1141, AvgCER: 0.4102, AvgWER: 0.6595: 100%|██████████| 96/96 [00:33<00:00,  2.89it/s]\n",
            "Val   - Epoch: 44, Loss: 8.5836, CER: 0.4604, WER: 0.6960, AvgLoss: 9.0715, AvgCER: 0.4588, AvgWER: 0.7010: 100%|██████████| 24/24 [00:06<00:00,  3.98it/s]\n",
            "Test  - Epoch: 44, Loss: 16.8053, CER: 0.7761, WER: 0.9920, AvgLoss: 17.0944, AvgCER: 0.7762, AvgWER: 0.9964: 100%|██████████| 120/120 [00:28<00:00,  4.21it/s]\n",
            "Train - Epoch: 45, Loss: 8.7961, CER: 0.4104, WER: 0.6880, AvgLoss: 7.9806, AvgCER: 0.4033, AvgWER: 0.6591: 100%|██████████| 96/96 [00:33<00:00,  2.82it/s]\n",
            "Val   - Epoch: 45, Loss: 8.1652, CER: 0.4390, WER: 0.7120, AvgLoss: 8.9508, AvgCER: 0.4522, AvgWER: 0.6983: 100%|██████████| 24/24 [00:06<00:00,  3.78it/s]\n",
            "Test  - Epoch: 45, Loss: 16.8711, CER: 0.8058, WER: 1.0000, AvgLoss: 17.0251, AvgCER: 0.7867, AvgWER: 0.9965: 100%|██████████| 120/120 [00:27<00:00,  4.32it/s]\n",
            "Train - Epoch: 46, Loss: 6.9974, CER: 0.3600, WER: 0.6560, AvgLoss: 7.8212, AvgCER: 0.3958, AvgWER: 0.6540: 100%|██████████| 96/96 [00:33<00:00,  2.86it/s]\n",
            "Val   - Epoch: 46, Loss: 8.9730, CER: 0.4232, WER: 0.6560, AvgLoss: 8.8912, AvgCER: 0.4371, AvgWER: 0.6813: 100%|██████████| 24/24 [00:06<00:00,  3.89it/s]\n",
            "Test  - Epoch: 46, Loss: 17.7333, CER: 0.8024, WER: 1.0000, AvgLoss: 16.6275, AvgCER: 0.7763, AvgWER: 0.9946: 100%|██████████| 120/120 [00:27<00:00,  4.33it/s]\n",
            "Train - Epoch: 47, Loss: 7.9349, CER: 0.3959, WER: 0.6720, AvgLoss: 7.6456, AvgCER: 0.3844, AvgWER: 0.6459: 100%|██████████| 96/96 [00:33<00:00,  2.87it/s]\n",
            "Val   - Epoch: 47, Loss: 8.7230, CER: 0.4062, WER: 0.6320, AvgLoss: 8.8045, AvgCER: 0.4354, AvgWER: 0.6845: 100%|██████████| 24/24 [00:06<00:00,  3.92it/s]\n",
            "Test  - Epoch: 47, Loss: 16.2512, CER: 0.7594, WER: 0.9920, AvgLoss: 16.9211, AvgCER: 0.7678, AvgWER: 0.9952: 100%|██████████| 120/120 [00:27<00:00,  4.35it/s]\n",
            "Train - Epoch: 48, Loss: 7.0901, CER: 0.3338, WER: 0.5800, AvgLoss: 7.5562, AvgCER: 0.3812, AvgWER: 0.6434: 100%|██████████| 96/96 [00:33<00:00,  2.88it/s]\n",
            "Val   - Epoch: 48, Loss: 8.8078, CER: 0.4173, WER: 0.6920, AvgLoss: 8.8168, AvgCER: 0.4393, AvgWER: 0.6913: 100%|██████████| 24/24 [00:06<00:00,  3.91it/s]\n",
            "Test  - Epoch: 48, Loss: 16.2628, CER: 0.7555, WER: 0.9840, AvgLoss: 17.0851, AvgCER: 0.7749, AvgWER: 0.9954: 100%|██████████| 120/120 [00:27<00:00,  4.37it/s]\n",
            "Train - Epoch: 49, Loss: 8.9140, CER: 0.4313, WER: 0.7000, AvgLoss: 7.3445, AvgCER: 0.3697, AvgWER: 0.6368: 100%|██████████| 96/96 [00:33<00:00,  2.87it/s]\n",
            "Val   - Epoch: 49, Loss: 9.4453, CER: 0.4509, WER: 0.6760, AvgLoss: 8.6278, AvgCER: 0.4276, AvgWER: 0.6773: 100%|██████████| 24/24 [00:06<00:00,  3.91it/s]\n",
            "Test  - Epoch: 49, Loss: 16.4671, CER: 0.7261, WER: 0.9960, AvgLoss: 16.9539, AvgCER: 0.7613, AvgWER: 0.9952: 100%|██████████| 120/120 [00:27<00:00,  4.36it/s]\n",
            "Train - Epoch: 50, Loss: 7.7898, CER: 0.4115, WER: 0.6920, AvgLoss: 7.2149, AvgCER: 0.3638, AvgWER: 0.6323: 100%|██████████| 96/96 [00:33<00:00,  2.87it/s]\n",
            "Val   - Epoch: 50, Loss: 8.1132, CER: 0.3853, WER: 0.6160, AvgLoss: 8.7061, AvgCER: 0.4258, AvgWER: 0.6750: 100%|██████████| 24/24 [00:06<00:00,  3.92it/s]\n",
            "Test  - Epoch: 50, Loss: 18.0428, CER: 0.7604, WER: 0.9920, AvgLoss: 16.9743, AvgCER: 0.7587, AvgWER: 0.9945: 100%|██████████| 120/120 [00:27<00:00,  4.31it/s]\n",
            "Train - Epoch: 51, Loss: 7.0903, CER: 0.3421, WER: 0.6280, AvgLoss: 7.1162, AvgCER: 0.3563, AvgWER: 0.6251:  55%|█████▌    | 53/96 [00:19<00:14,  2.97it/s]"
          ],
          "name": "stderr"
        }
      ]
    },
    {
      "cell_type": "markdown",
      "metadata": {
        "id": "9YK0fpPiNkAo",
        "colab_type": "text"
      },
      "source": [
        "### Results"
      ]
    },
    {
      "cell_type": "code",
      "metadata": {
        "id": "B4leQ26TvII7",
        "colab_type": "code",
        "outputId": "392c56cd-e746-4ef1-b5db-5d824fea1371",
        "colab": {
          "base_uri": "https://localhost:8080/",
          "height": 346
        }
      },
      "source": [
        "plt.title('Loss: IAM to Rimes')\n",
        "plt.xlabel('Epochs')\n",
        "plt.ylabel('Loss')\n",
        "plt.plot(iam_to_rimes_losses[0], label='IAM Train')\n",
        "plt.plot(iam_to_rimes_losses[1], label='IAM Val')\n",
        "plt.plot(iam_to_rimes_losses[2], label='Rimes')\n",
        "plt.legend()\n",
        "plt.show()\n",
        "print('Train:', iam_to_rimes_losses[0])\n",
        "print('Val:', iam_to_rimes_losses[1])\n",
        "print('Test:', iam_to_rimes_losses[2])"
      ],
      "execution_count": 0,
      "outputs": [
        {
          "output_type": "display_data",
          "data": {
            "image/png": "[encoded data removed]",
            "text/plain": [
              "<Figure size 432x288 with 1 Axes>"
            ]
          },
          "metadata": {
            "tags": [],
            "needs_background": "light"
          }
        },
        {
          "output_type": "stream",
          "text": [
            "Train: [24.48729008436203, 16.127482573191326, 15.709280560413996, 14.863898466030756, 14.068698853254318, 13.536660929520925, 13.19942045211792, 12.953817009925842, 12.712600161631903]\n",
            "Val: [16.05826711654663, 15.519538561503092, 14.951684832572937, 14.113074978192648, 13.491466204325357, 13.085466623306274, 12.840948025385538, 12.723644614219666, 12.534332752227783]\n",
            "Test: [19.68876709938049, 19.464837821324668, 19.173483657836915, 18.690806245803834, 18.579396613438924, 18.464976596832276, 18.381416670481364, 18.526065254211424, 18.15645627975464]\n"
          ],
          "name": "stdout"
        }
      ]
    },
    {
      "cell_type": "code",
      "metadata": {
        "id": "vLdFN6nBVYdm",
        "colab_type": "code",
        "outputId": "cdfc9c4f-84ee-4ddf-b6be-84654058b8ee",
        "colab": {
          "base_uri": "https://localhost:8080/",
          "height": 346
        }
      },
      "source": [
        "plt.title('Character Error Rate: IAM to Rimes')\n",
        "plt.xlabel('Epochs')\n",
        "plt.ylabel('Character Error Rate')\n",
        "plt.plot(iam_to_rimes_cers[0], label='IAM Train')\n",
        "plt.plot(iam_to_rimes_cers[1], label='IAM Val')\n",
        "plt.plot(iam_to_rimes_cers[2], label='Rimes')\n",
        "plt.legend()\n",
        "plt.show()\n",
        "print('Train:', iam_to_rimes_cers[0])\n",
        "print('Val:', iam_to_rimes_cers[1])\n",
        "print('Test:', iam_to_rimes_cers[2])"
      ],
      "execution_count": 0,
      "outputs": [
        {
          "output_type": "display_data",
          "data": {
            "image/png": "[encoded data removed]",
            "text/plain": [
              "<Figure size 432x288 with 1 Axes>"
            ]
          },
          "metadata": {
            "tags": [],
            "needs_background": "light"
          }
        },
        {
          "output_type": "stream",
          "text": [
            "Train: [1.0794071034697872, 1.0, 0.9995792639073889, 0.9288273538382912, 0.8258470322034418, 0.7779493191568995, 0.7577146766538988, 0.7406994753621349, 0.7179652652478454]\n",
            "Val: [1.0, 1.0, 0.9976925287675288, 0.8719763150520503, 0.7848157826922533, 0.7634400736790443, 0.7516309471574177, 0.7232875148952355, 0.7451596459368518]\n",
            "Test: [1.0, 1.0, 0.9954906817583288, 0.9482004572041879, 0.9321050213954434, 0.9213034824782774, 0.9312469451131371, 0.8870387122519436, 0.9022343494061837]\n"
          ],
          "name": "stdout"
        }
      ]
    },
    {
      "cell_type": "code",
      "metadata": {
        "id": "yn0FCiiEV6Y7",
        "colab_type": "code",
        "outputId": "076ac68f-0ea8-43a5-9f7a-ea66845fe91c",
        "colab": {
          "base_uri": "https://localhost:8080/",
          "height": 346
        }
      },
      "source": [
        "plt.title('Word Error Rate: IAM to Rimes')\n",
        "plt.xlabel('Epochs')\n",
        "plt.ylabel('Word Error Rate')\n",
        "plt.plot(iam_to_rimes_wers[0], label='IAM Train')\n",
        "plt.plot(iam_to_rimes_wers[1], label='IAM Val')\n",
        "plt.plot(iam_to_rimes_wers[2], label='Rimes')\n",
        "plt.legend()\n",
        "plt.show()\n",
        "print('Train:', iam_to_rimes_wers[0])\n",
        "print('Val:', iam_to_rimes_wers[1])\n",
        "print('Test:', iam_to_rimes_wers[2])"
      ],
      "execution_count": 0,
      "outputs": [
        {
          "output_type": "display_data",
          "data": {
            "image/png": "[encoded data removed]",
            "text/plain": [
              "<Figure size 432x288 with 1 Axes>"
            ]
          },
          "metadata": {
            "tags": [],
            "needs_background": "light"
          }
        },
        {
          "output_type": "stream",
          "text": [
            "Train: [1.0, 1.0, 0.9997916666666667, 0.9600416666666666, 0.9227083333333335, 0.8810416666666668, 0.8703750000000001, 0.8615416666666667, 0.8513333333333334]\n",
            "Val: [1.0, 1.0, 1.0, 0.9494999999999999, 0.8793333333333333, 0.8706666666666667, 0.8593333333333334, 0.8621666666666666, 0.858]\n",
            "Test: [1.0, 1.0, 1.0, 0.9984333333333334, 0.9985333333333334, 0.9984, 0.9980666666666667, 0.9983333333333334, 0.9987000000000001]\n"
          ],
          "name": "stdout"
        }
      ]
    },
    {
      "cell_type": "markdown",
      "metadata": {
        "id": "zPb6WAVioDwI",
        "colab_type": "text"
      },
      "source": [
        "## Train on the Rimes Dataset, Test on the Iam Dataset"
      ]
    },
    {
      "cell_type": "markdown",
      "metadata": {
        "id": "P70FWeg5ozOm",
        "colab_type": "text"
      },
      "source": [
        "### Train Loop"
      ]
    },
    {
      "cell_type": "code",
      "metadata": {
        "id": "6_9Si1GroMcN",
        "colab_type": "code",
        "outputId": "3303ba02-d070-4db1-a346-08261a059f4d",
        "colab": {
          "base_uri": "https://localhost:8080/",
          "height": 1000
        }
      },
      "source": [
        "rimes_dataset = RimesDataset(desired_size=(32, 128), total_imgs=30000)\n",
        "\n",
        "rimes_train_size = int(.8 * len(rimes_dataset))\n",
        "rimes_val_size = len(rimes_dataset) - rimes_train_size\n",
        "\n",
        "rimes_train_dataset, rimes_val_dataset = torch.utils.data.random_split(rimes_dataset, [rimes_train_size, rimes_val_size])\n",
        "\n",
        "iam_dataset = IamDataset(desired_size=(32, 128), total_imgs=30000)\n",
        "\n",
        "rimes_to_iam_recognizer, rimes_to_iam_losses, rimes_to_iam_cers, rimes_to_iam_wers = train(rimes_train_dataset, rimes_val_dataset, iam_dataset)"
      ],
      "execution_count": 0,
      "outputs": [
        {
          "output_type": "stream",
          "text": [
            "Train - Epoch: 0, Loss: 16.8285, CER: 1.0000, WER: 1.0000, AvgLoss: 30.4208, AvgCER: 1.2084, AvgWER: 1.0107: 100%|██████████| 96/96 [00:31<00:00,  3.07it/s]\n",
            "Val   - Epoch: 0, Loss: 18.8274, CER: 1.0000, WER: 1.0000, AvgLoss: 18.1716, AvgCER: 1.0000, AvgWER: 1.0000: 100%|██████████| 24/24 [00:05<00:00,  4.54it/s]\n",
            "Test  - Epoch: 0, Loss: 18.2049, CER: 1.0000, WER: 1.0000, AvgLoss: 17.8603, AvgCER: 1.0000, AvgWER: 1.0000: 100%|██████████| 120/120 [00:24<00:00,  4.90it/s]\n",
            "Train - Epoch: 1, Loss: 16.6592, CER: 0.9298, WER: 1.0000, AvgLoss: 17.3892, AvgCER: 0.9781, AvgWER: 1.0000: 100%|██████████| 96/96 [00:30<00:00,  3.11it/s]\n",
            "Val   - Epoch: 1, Loss: 15.9383, CER: 1.0000, WER: 1.0000, AvgLoss: 17.0093, AvgCER: 0.9999, AvgWER: 1.0000: 100%|██████████| 24/24 [00:05<00:00,  4.46it/s]\n",
            "Test  - Epoch: 1, Loss: 16.9962, CER: 0.9990, WER: 1.0000, AvgLoss: 18.1094, AvgCER: 0.9993, AvgWER: 1.0000: 100%|██████████| 120/120 [00:24<00:00,  4.87it/s]\n",
            "Train - Epoch: 2, Loss: 17.8804, CER: 1.0000, WER: 1.0000, AvgLoss: 19.4596, AvgCER: 1.0473, AvgWER: 1.0007: 100%|██████████| 96/96 [00:30<00:00,  3.11it/s]\n",
            "Val   - Epoch: 2, Loss: 18.4466, CER: 1.0000, WER: 1.0000, AvgLoss: 17.7863, AvgCER: 1.0000, AvgWER: 1.0000: 100%|██████████| 24/24 [00:05<00:00,  4.57it/s]\n",
            "Test  - Epoch: 2, Loss: 20.2377, CER: 1.0000, WER: 1.0000, AvgLoss: 18.6937, AvgCER: 1.0000, AvgWER: 1.0000: 100%|██████████| 120/120 [00:24<00:00,  4.88it/s]\n",
            "Train - Epoch: 3, Loss: 16.5566, CER: 0.9388, WER: 1.0000, AvgLoss: 17.3270, AvgCER: 0.9510, AvgWER: 0.9978: 100%|██████████| 96/96 [00:30<00:00,  3.10it/s]\n",
            "Val   - Epoch: 3, Loss: 16.7694, CER: 0.9464, WER: 1.0000, AvgLoss: 17.0342, AvgCER: 0.9400, AvgWER: 1.0000: 100%|██████████| 24/24 [00:05<00:00,  4.50it/s]\n",
            "Test  - Epoch: 3, Loss: 18.0094, CER: 0.9772, WER: 1.0000, AvgLoss: 18.4007, AvgCER: 0.9723, AvgWER: 1.0000: 100%|██████████| 120/120 [00:25<00:00,  4.77it/s]\n",
            "Train - Epoch: 4, Loss: 16.2463, CER: 0.8001, WER: 0.9160, AvgLoss: 16.4232, AvgCER: 0.8578, AvgWER: 0.9551: 100%|██████████| 96/96 [00:31<00:00,  3.07it/s]\n",
            "Val   - Epoch: 4, Loss: 16.3723, CER: 0.8071, WER: 0.9280, AvgLoss: 16.4072, AvgCER: 0.8197, AvgWER: 0.9333: 100%|██████████| 24/24 [00:05<00:00,  4.44it/s]\n",
            "Test  - Epoch: 4, Loss: 18.9802, CER: 0.9627, WER: 1.0000, AvgLoss: 18.0480, AvgCER: 0.9825, AvgWER: 0.9998: 100%|██████████| 120/120 [00:25<00:00,  4.72it/s]\n",
            "Train - Epoch: 5, Loss: 16.4182, CER: 0.8663, WER: 0.9520, AvgLoss: 15.8749, AvgCER: 0.8247, AvgWER: 0.9339: 100%|██████████| 96/96 [00:31<00:00,  3.07it/s]\n",
            "Val   - Epoch: 5, Loss: 15.8297, CER: 0.8050, WER: 0.9240, AvgLoss: 15.7213, AvgCER: 0.7986, AvgWER: 0.9315: 100%|██████████| 24/24 [00:05<00:00,  4.36it/s]\n",
            "Test  - Epoch: 5, Loss: 17.9047, CER: 1.0144, WER: 1.0000, AvgLoss: 17.7315, AvgCER: 1.0325, AvgWER: 0.9998: 100%|██████████| 120/120 [00:25<00:00,  4.74it/s]\n",
            "Train - Epoch: 6, Loss: 13.6042, CER: 0.7870, WER: 0.9320, AvgLoss: 15.2862, AvgCER: 0.8079, AvgWER: 0.9311: 100%|██████████| 96/96 [00:31<00:00,  3.05it/s]\n",
            "Val   - Epoch: 6, Loss: 14.7978, CER: 0.7532, WER: 0.9120, AvgLoss: 15.0922, AvgCER: 0.7896, AvgWER: 0.9255: 100%|██████████| 24/24 [00:05<00:00,  4.40it/s]\n",
            "Test  - Epoch: 6, Loss: 18.1211, CER: 1.0276, WER: 1.0000, AvgLoss: 17.6525, AvgCER: 1.0292, AvgWER: 0.9998: 100%|██████████| 120/120 [00:25<00:00,  4.68it/s]\n",
            "Train - Epoch: 7, Loss: 14.3748, CER: 0.7801, WER: 0.9320, AvgLoss: 14.5805, AvgCER: 0.7695, AvgWER: 0.9205: 100%|██████████| 96/96 [00:31<00:00,  3.04it/s]\n",
            "Val   - Epoch: 7, Loss: 13.8463, CER: 0.7630, WER: 0.9280, AvgLoss: 14.3408, AvgCER: 0.7493, AvgWER: 0.9160: 100%|██████████| 24/24 [00:05<00:00,  4.32it/s]\n",
            "Test  - Epoch: 7, Loss: 17.7712, CER: 1.0060, WER: 1.0000, AvgLoss: 17.5895, AvgCER: 1.0207, AvgWER: 0.9998: 100%|██████████| 120/120 [00:25<00:00,  4.71it/s]\n",
            "Train - Epoch: 8, Loss: 14.3375, CER: 0.7567, WER: 0.9080, AvgLoss: 14.1372, AvgCER: 0.7480, AvgWER: 0.9200: 100%|██████████| 96/96 [00:31<00:00,  3.05it/s]\n",
            "Val   - Epoch: 8, Loss: 14.6804, CER: 0.7382, WER: 0.9200, AvgLoss: 14.1144, AvgCER: 0.7491, AvgWER: 0.9162: 100%|██████████| 24/24 [00:05<00:00,  4.34it/s]\n",
            "Test  - Epoch: 8, Loss: 16.7084, CER: 0.9923, WER: 0.9960, AvgLoss: 17.9847, AvgCER: 1.0100, AvgWER: 0.9998: 100%|██████████| 120/120 [00:25<00:00,  4.69it/s]\n",
            "Train - Epoch: 9, Loss: 13.7026, CER: 0.7186, WER: 0.9040, AvgLoss: 13.8813, AvgCER: 0.7351, AvgWER: 0.9150: 100%|██████████| 96/96 [00:31<00:00,  3.04it/s]\n",
            "Val   - Epoch: 9, Loss: 11.6924, CER: 0.6993, WER: 0.8600, AvgLoss: 13.8139, AvgCER: 0.7348, AvgWER: 0.9078: 100%|██████████| 24/24 [00:05<00:00,  4.38it/s]\n",
            "Test  - Epoch: 9, Loss: 17.8737, CER: 1.0168, WER: 1.0000, AvgLoss: 18.0124, AvgCER: 1.0014, AvgWER: 0.9998: 100%|██████████| 120/120 [00:25<00:00,  4.68it/s]\n",
            "Train - Epoch: 10, Loss: 13.4681, CER: 0.6984, WER: 0.8920, AvgLoss: 13.5659, AvgCER: 0.7188, AvgWER: 0.9056: 100%|██████████| 96/96 [00:31<00:00,  3.02it/s]\n",
            "Val   - Epoch: 10, Loss: 13.8037, CER: 0.7258, WER: 0.9040, AvgLoss: 13.6382, AvgCER: 0.7152, AvgWER: 0.8950: 100%|██████████| 24/24 [00:05<00:00,  4.27it/s]\n",
            "Test  - Epoch: 10, Loss: 18.7994, CER: 1.0100, WER: 0.9960, AvgLoss: 18.2618, AvgCER: 1.0084, AvgWER: 0.9998: 100%|██████████| 120/120 [00:25<00:00,  4.65it/s]\n",
            "Train - Epoch: 11, Loss: 12.8566, CER: 0.6525, WER: 0.8440, AvgLoss: 13.2701, AvgCER: 0.6991, AvgWER: 0.8925: 100%|██████████| 96/96 [00:31<00:00,  3.01it/s]\n",
            "Val   - Epoch: 11, Loss: 12.2684, CER: 0.6720, WER: 0.8640, AvgLoss: 13.2224, AvgCER: 0.6878, AvgWER: 0.8830: 100%|██████████| 24/24 [00:05<00:00,  4.27it/s]\n",
            "Test  - Epoch: 11, Loss: 17.6708, CER: 0.9495, WER: 1.0000, AvgLoss: 17.7744, AvgCER: 0.9844, AvgWER: 0.9998: 100%|██████████| 120/120 [00:25<00:00,  4.62it/s]\n",
            "Train - Epoch: 12, Loss: 12.9559, CER: 0.6527, WER: 0.8600, AvgLoss: 13.0581, AvgCER: 0.6858, AvgWER: 0.8853: 100%|██████████| 96/96 [00:31<00:00,  3.01it/s]\n",
            "Val   - Epoch: 12, Loss: 12.7868, CER: 0.6845, WER: 0.8920, AvgLoss: 12.9994, AvgCER: 0.6807, AvgWER: 0.8870: 100%|██████████| 24/24 [00:05<00:00,  4.30it/s]\n",
            "Test  - Epoch: 12, Loss: 17.8549, CER: 0.9657, WER: 1.0000, AvgLoss: 17.5167, AvgCER: 0.9422, AvgWER: 0.9997: 100%|██████████| 120/120 [00:25<00:00,  4.64it/s]\n",
            "Train - Epoch: 13, Loss: 13.5614, CER: 0.6950, WER: 0.8960, AvgLoss: 12.8082, AvgCER: 0.6726, AvgWER: 0.8748: 100%|██████████| 96/96 [00:31<00:00,  3.01it/s]\n",
            "Val   - Epoch: 13, Loss: 12.5978, CER: 0.6623, WER: 0.8720, AvgLoss: 12.7690, AvgCER: 0.6604, AvgWER: 0.8683: 100%|██████████| 24/24 [00:05<00:00,  4.24it/s]\n",
            "Test  - Epoch: 13, Loss: 17.1785, CER: 0.9791, WER: 1.0000, AvgLoss: 17.4431, AvgCER: 0.9539, AvgWER: 0.9990: 100%|██████████| 120/120 [00:26<00:00,  4.59it/s]\n",
            "Train - Epoch: 14, Loss: 13.6700, CER: 0.6561, WER: 0.8600, AvgLoss: 12.5636, AvgCER: 0.6564, AvgWER: 0.8683: 100%|██████████| 96/96 [00:32<00:00,  2.99it/s]\n",
            "Val   - Epoch: 14, Loss: 12.3966, CER: 0.6719, WER: 0.8600, AvgLoss: 12.5856, AvgCER: 0.6621, AvgWER: 0.8663: 100%|██████████| 24/24 [00:05<00:00,  4.32it/s]\n",
            "Test  - Epoch: 14, Loss: 18.2011, CER: 0.9569, WER: 0.9960, AvgLoss: 17.8088, AvgCER: 0.9639, AvgWER: 0.9994: 100%|██████████| 120/120 [00:25<00:00,  4.63it/s]\n",
            "Train - Epoch: 15, Loss: 12.8291, CER: 0.6594, WER: 0.8680, AvgLoss: 12.3706, AvgCER: 0.6482, AvgWER: 0.8637: 100%|██████████| 96/96 [00:32<00:00,  3.00it/s]\n",
            "Val   - Epoch: 15, Loss: 13.2465, CER: 0.6917, WER: 0.9200, AvgLoss: 12.2782, AvgCER: 0.6335, AvgWER: 0.8518: 100%|██████████| 24/24 [00:05<00:00,  4.33it/s]\n",
            "Test  - Epoch: 15, Loss: 17.5042, CER: 0.9551, WER: 1.0000, AvgLoss: 17.8066, AvgCER: 0.9570, AvgWER: 0.9992: 100%|██████████| 120/120 [00:26<00:00,  4.56it/s]\n",
            "Train - Epoch: 16, Loss: 13.8323, CER: 0.6539, WER: 0.8760, AvgLoss: 12.1288, AvgCER: 0.6322, AvgWER: 0.8544: 100%|██████████| 96/96 [00:31<00:00,  3.00it/s]\n",
            "Val   - Epoch: 16, Loss: 12.3659, CER: 0.6530, WER: 0.8800, AvgLoss: 12.1145, AvgCER: 0.6241, AvgWER: 0.8505: 100%|██████████| 24/24 [00:05<00:00,  4.22it/s]\n",
            "Test  - Epoch: 16, Loss: 17.4191, CER: 0.9848, WER: 1.0000, AvgLoss: 17.8110, AvgCER: 0.9609, AvgWER: 0.9995: 100%|██████████| 120/120 [00:26<00:00,  4.60it/s]\n",
            "Train - Epoch: 17, Loss: 12.2434, CER: 0.6507, WER: 0.8440, AvgLoss: 11.8790, AvgCER: 0.6174, AvgWER: 0.8466: 100%|██████████| 96/96 [00:32<00:00,  2.99it/s]\n",
            "Val   - Epoch: 17, Loss: 12.2031, CER: 0.5833, WER: 0.8360, AvgLoss: 11.9263, AvgCER: 0.6127, AvgWER: 0.8485: 100%|██████████| 24/24 [00:05<00:00,  4.23it/s]\n",
            "Test  - Epoch: 17, Loss: 17.4816, CER: 0.9923, WER: 1.0000, AvgLoss: 17.7142, AvgCER: 0.9784, AvgWER: 0.9994: 100%|██████████| 120/120 [00:26<00:00,  4.57it/s]\n",
            "Train - Epoch: 18, Loss: 12.3150, CER: 0.5774, WER: 0.8040, AvgLoss: 11.6411, AvgCER: 0.6014, AvgWER: 0.8380: 100%|██████████| 96/96 [00:32<00:00,  2.99it/s]\n",
            "Val   - Epoch: 18, Loss: 12.1817, CER: 0.6298, WER: 0.8240, AvgLoss: 11.8239, AvgCER: 0.6083, AvgWER: 0.8435: 100%|██████████| 24/24 [00:05<00:00,  4.27it/s]\n",
            "Test  - Epoch: 18, Loss: 18.2226, CER: 0.9292, WER: 1.0000, AvgLoss: 17.6035, AvgCER: 0.9131, AvgWER: 0.9995: 100%|██████████| 120/120 [00:26<00:00,  4.58it/s]\n",
            "Train - Epoch: 19, Loss: 10.2468, CER: 0.5754, WER: 0.8320, AvgLoss: 11.4525, AvgCER: 0.5904, AvgWER: 0.8310: 100%|██████████| 96/96 [00:32<00:00,  2.98it/s]\n",
            "Val   - Epoch: 19, Loss: 12.1928, CER: 0.6000, WER: 0.8520, AvgLoss: 11.5425, AvgCER: 0.5927, AvgWER: 0.8390: 100%|██████████| 24/24 [00:05<00:00,  4.20it/s]\n",
            "Test  - Epoch: 19, Loss: 18.0432, CER: 0.9825, WER: 1.0000, AvgLoss: 17.8453, AvgCER: 0.9477, AvgWER: 0.9982: 100%|██████████| 120/120 [00:26<00:00,  4.57it/s]\n",
            "Train - Epoch: 20, Loss: 10.7902, CER: 0.5839, WER: 0.8320, AvgLoss: 11.2047, AvgCER: 0.5742, AvgWER: 0.8207: 100%|██████████| 96/96 [00:32<00:00,  2.98it/s]\n",
            "Val   - Epoch: 20, Loss: 11.9187, CER: 0.5862, WER: 0.8400, AvgLoss: 11.3494, AvgCER: 0.5761, AvgWER: 0.8318: 100%|██████████| 24/24 [00:05<00:00,  4.14it/s]\n",
            "Test  - Epoch: 20, Loss: 17.1037, CER: 0.9584, WER: 1.0000, AvgLoss: 17.9086, AvgCER: 0.9964, AvgWER: 0.9990: 100%|██████████| 120/120 [00:26<00:00,  4.55it/s]\n",
            "Train - Epoch: 21, Loss: 10.4093, CER: 0.5591, WER: 0.8040, AvgLoss: 10.9898, AvgCER: 0.5618, AvgWER: 0.8126: 100%|██████████| 96/96 [00:31<00:00,  3.00it/s]\n",
            "Val   - Epoch: 21, Loss: 10.4428, CER: 0.5252, WER: 0.7640, AvgLoss: 11.1920, AvgCER: 0.5648, AvgWER: 0.8170: 100%|██████████| 24/24 [00:05<00:00,  4.22it/s]\n",
            "Test  - Epoch: 21, Loss: 17.8413, CER: 0.9592, WER: 1.0000, AvgLoss: 17.9642, AvgCER: 0.9307, AvgWER: 0.9986: 100%|██████████| 120/120 [00:26<00:00,  4.57it/s]\n",
            "Train - Epoch: 22, Loss: 10.7220, CER: 0.5488, WER: 0.8280, AvgLoss: 10.7155, AvgCER: 0.5454, AvgWER: 0.8027: 100%|██████████| 96/96 [00:32<00:00,  3.00it/s]\n",
            "Val   - Epoch: 22, Loss: 11.4439, CER: 0.5676, WER: 0.8280, AvgLoss: 10.9318, AvgCER: 0.5569, AvgWER: 0.8048: 100%|██████████| 24/24 [00:05<00:00,  4.21it/s]\n",
            "Test  - Epoch: 22, Loss: 17.2955, CER: 0.8948, WER: 0.9960, AvgLoss: 17.7507, AvgCER: 0.9331, AvgWER: 0.9977: 100%|██████████| 120/120 [00:26<00:00,  4.60it/s]\n",
            "Train - Epoch: 23, Loss: 9.9031, CER: 0.5172, WER: 0.7760, AvgLoss: 10.5058, AvgCER: 0.5310, AvgWER: 0.7926: 100%|██████████| 96/96 [00:32<00:00,  2.97it/s]\n",
            "Val   - Epoch: 23, Loss: 10.6780, CER: 0.5192, WER: 0.7760, AvgLoss: 10.6633, AvgCER: 0.5268, AvgWER: 0.7863: 100%|██████████| 24/24 [00:05<00:00,  4.16it/s]\n",
            "Test  - Epoch: 23, Loss: 18.3547, CER: 0.9122, WER: 1.0000, AvgLoss: 17.5880, AvgCER: 0.9267, AvgWER: 0.9985: 100%|██████████| 120/120 [00:26<00:00,  4.57it/s]\n",
            "Train - Epoch: 24, Loss: 10.6625, CER: 0.5579, WER: 0.8280, AvgLoss: 10.2259, AvgCER: 0.5182, AvgWER: 0.7845: 100%|██████████| 96/96 [00:32<00:00,  2.97it/s]\n",
            "Val   - Epoch: 24, Loss: 10.6495, CER: 0.5468, WER: 0.8040, AvgLoss: 10.5156, AvgCER: 0.5239, AvgWER: 0.7853: 100%|██████████| 24/24 [00:05<00:00,  4.09it/s]\n",
            "Test  - Epoch: 24, Loss: 17.2149, CER: 0.8867, WER: 0.9960, AvgLoss: 17.6375, AvgCER: 0.9198, AvgWER: 0.9980: 100%|██████████| 120/120 [00:26<00:00,  4.59it/s]\n",
            "Train - Epoch: 25, Loss: 11.0808, CER: 0.5338, WER: 0.8240, AvgLoss: 9.9893, AvgCER: 0.5026, AvgWER: 0.7724: 100%|██████████| 96/96 [00:32<00:00,  2.98it/s]\n",
            "Val   - Epoch: 25, Loss: 10.3364, CER: 0.5195, WER: 0.7680, AvgLoss: 10.2754, AvgCER: 0.5100, AvgWER: 0.7717: 100%|██████████| 24/24 [00:05<00:00,  4.12it/s]\n",
            "Test  - Epoch: 25, Loss: 17.7241, CER: 0.9456, WER: 1.0000, AvgLoss: 17.8791, AvgCER: 0.9474, AvgWER: 0.9961: 100%|██████████| 120/120 [00:26<00:00,  4.51it/s]\n",
            "Train - Epoch: 26, Loss: 10.1664, CER: 0.4924, WER: 0.7960, AvgLoss: 9.7840, AvgCER: 0.4916, AvgWER: 0.7634: 100%|██████████| 96/96 [00:32<00:00,  2.97it/s]\n",
            "Val   - Epoch: 26, Loss: 9.6891, CER: 0.4899, WER: 0.7640, AvgLoss: 10.0189, AvgCER: 0.4945, AvgWER: 0.7610: 100%|██████████| 24/24 [00:05<00:00,  4.17it/s]\n",
            "Test  - Epoch: 26, Loss: 18.3254, CER: 0.9559, WER: 1.0000, AvgLoss: 17.9221, AvgCER: 0.9322, AvgWER: 0.9987: 100%|██████████| 120/120 [00:26<00:00,  4.47it/s]\n",
            "Train - Epoch: 27, Loss: 9.5126, CER: 0.4742, WER: 0.7120, AvgLoss: 9.4980, AvgCER: 0.4728, AvgWER: 0.7458: 100%|██████████| 96/96 [00:32<00:00,  2.98it/s]\n",
            "Val   - Epoch: 27, Loss: 9.8151, CER: 0.5055, WER: 0.7960, AvgLoss: 10.0565, AvgCER: 0.5007, AvgWER: 0.7747: 100%|██████████| 24/24 [00:05<00:00,  4.22it/s]\n",
            "Test  - Epoch: 27, Loss: 18.5524, CER: 0.9175, WER: 1.0000, AvgLoss: 17.7442, AvgCER: 0.9071, AvgWER: 0.9988: 100%|██████████| 120/120 [00:26<00:00,  4.59it/s]\n",
            "Train - Epoch: 28, Loss: 9.6908, CER: 0.4853, WER: 0.7600, AvgLoss: 9.3189, AvgCER: 0.4646, AvgWER: 0.7420: 100%|██████████| 96/96 [00:32<00:00,  2.96it/s]\n",
            "Val   - Epoch: 28, Loss: 9.5807, CER: 0.4635, WER: 0.7320, AvgLoss: 9.7041, AvgCER: 0.4777, AvgWER: 0.7393: 100%|██████████| 24/24 [00:05<00:00,  4.24it/s]\n",
            "Test  - Epoch: 28, Loss: 18.9394, CER: 0.9140, WER: 1.0000, AvgLoss: 17.7946, AvgCER: 0.9175, AvgWER: 0.9982: 100%|██████████| 120/120 [00:26<00:00,  4.54it/s]\n",
            "Train - Epoch: 29, Loss: 9.4222, CER: 0.4592, WER: 0.7200, AvgLoss: 9.0734, AvgCER: 0.4500, AvgWER: 0.7273: 100%|██████████| 96/96 [00:32<00:00,  2.97it/s]\n",
            "Val   - Epoch: 29, Loss: 9.6411, CER: 0.4584, WER: 0.7320, AvgLoss: 9.6919, AvgCER: 0.4713, AvgWER: 0.7448: 100%|██████████| 24/24 [00:05<00:00,  4.15it/s]\n",
            "Test  - Epoch: 29, Loss: 17.4369, CER: 0.9133, WER: 1.0000, AvgLoss: 18.3505, AvgCER: 0.9034, AvgWER: 0.9985: 100%|██████████| 120/120 [00:26<00:00,  4.53it/s]\n",
            "Train - Epoch: 30, Loss: 9.6544, CER: 0.4715, WER: 0.7600, AvgLoss: 8.8605, AvgCER: 0.4392, AvgWER: 0.7171: 100%|██████████| 96/96 [00:32<00:00,  2.97it/s]\n",
            "Val   - Epoch: 30, Loss: 9.3181, CER: 0.4679, WER: 0.7400, AvgLoss: 9.3992, AvgCER: 0.4555, AvgWER: 0.7315: 100%|██████████| 24/24 [00:05<00:00,  4.20it/s]\n",
            "Test  - Epoch: 30, Loss: 17.0957, CER: 0.9464, WER: 1.0000, AvgLoss: 17.7467, AvgCER: 0.9187, AvgWER: 0.9978: 100%|██████████| 120/120 [00:26<00:00,  4.51it/s]\n",
            "Train - Epoch: 31, Loss: 9.2552, CER: 0.4297, WER: 0.7280, AvgLoss: 8.6007, AvgCER: 0.4226, AvgWER: 0.7035: 100%|██████████| 96/96 [00:32<00:00,  2.96it/s]\n",
            "Val   - Epoch: 31, Loss: 9.4569, CER: 0.4562, WER: 0.7320, AvgLoss: 9.3301, AvgCER: 0.4462, AvgWER: 0.7177: 100%|██████████| 24/24 [00:05<00:00,  4.13it/s]\n",
            "Test  - Epoch: 31, Loss: 17.2606, CER: 0.9265, WER: 0.9920, AvgLoss: 18.4551, AvgCER: 0.9248, AvgWER: 0.9986: 100%|██████████| 120/120 [00:26<00:00,  4.52it/s]\n",
            "Train - Epoch: 32, Loss: 8.7485, CER: 0.4209, WER: 0.6840, AvgLoss: 8.3760, AvgCER: 0.4099, AvgWER: 0.6888: 100%|██████████| 96/96 [00:32<00:00,  2.96it/s]\n",
            "Val   - Epoch: 32, Loss: 9.2429, CER: 0.4418, WER: 0.6920, AvgLoss: 9.0503, AvgCER: 0.4338, AvgWER: 0.7065: 100%|██████████| 24/24 [00:05<00:00,  4.16it/s]\n",
            "Test  - Epoch: 32, Loss: 17.5380, CER: 0.8652, WER: 1.0000, AvgLoss: 17.9906, AvgCER: 0.8859, AvgWER: 0.9968: 100%|██████████| 120/120 [00:26<00:00,  4.53it/s]\n",
            "Train - Epoch: 33, Loss: 7.2815, CER: 0.3678, WER: 0.6320, AvgLoss: 8.0888, AvgCER: 0.3971, AvgWER: 0.6795: 100%|██████████| 96/96 [00:32<00:00,  2.97it/s]\n",
            "Val   - Epoch: 33, Loss: 9.1503, CER: 0.4584, WER: 0.7360, AvgLoss: 9.0450, AvgCER: 0.4351, AvgWER: 0.7110: 100%|██████████| 24/24 [00:05<00:00,  4.20it/s]\n",
            "Test  - Epoch: 33, Loss: 18.4266, CER: 0.8852, WER: 1.0000, AvgLoss: 17.7822, AvgCER: 0.8945, AvgWER: 0.9937: 100%|██████████| 120/120 [00:26<00:00,  4.59it/s]\n",
            "Train - Epoch: 34, Loss: 8.0927, CER: 0.4039, WER: 0.6720, AvgLoss: 7.8659, AvgCER: 0.3826, AvgWER: 0.6664: 100%|██████████| 96/96 [00:32<00:00,  2.98it/s]\n",
            "Val   - Epoch: 34, Loss: 8.2430, CER: 0.4054, WER: 0.6800, AvgLoss: 8.8176, AvgCER: 0.4154, AvgWER: 0.6877: 100%|██████████| 24/24 [00:05<00:00,  4.15it/s]\n",
            "Test  - Epoch: 34, Loss: 17.6737, CER: 0.8761, WER: 0.9920, AvgLoss: 18.0400, AvgCER: 0.8885, AvgWER: 0.9916: 100%|██████████| 120/120 [00:26<00:00,  4.54it/s]\n",
            "Train - Epoch: 35, Loss: 7.7825, CER: 0.3832, WER: 0.6800, AvgLoss: 7.6586, AvgCER: 0.3711, AvgWER: 0.6539: 100%|██████████| 96/96 [00:32<00:00,  2.97it/s]\n",
            "Val   - Epoch: 35, Loss: 7.8462, CER: 0.3794, WER: 0.6240, AvgLoss: 8.6776, AvgCER: 0.4058, AvgWER: 0.6755: 100%|██████████| 24/24 [00:05<00:00,  4.20it/s]\n",
            "Test  - Epoch: 35, Loss: 18.8022, CER: 0.9266, WER: 0.9920, AvgLoss: 18.4666, AvgCER: 0.9049, AvgWER: 0.9938: 100%|██████████| 120/120 [00:26<00:00,  4.53it/s]\n",
            "Train - Epoch: 36, Loss: 7.3357, CER: 0.3783, WER: 0.6520, AvgLoss: 7.4081, AvgCER: 0.3568, AvgWER: 0.6383: 100%|██████████| 96/96 [00:32<00:00,  2.97it/s]\n",
            "Val   - Epoch: 36, Loss: 8.4857, CER: 0.4088, WER: 0.6800, AvgLoss: 8.6109, AvgCER: 0.4053, AvgWER: 0.6835: 100%|██████████| 24/24 [00:05<00:00,  4.17it/s]\n",
            "Test  - Epoch: 36, Loss: 17.9988, CER: 0.8883, WER: 0.9920, AvgLoss: 17.8729, AvgCER: 0.8788, AvgWER: 0.9914: 100%|██████████| 120/120 [00:26<00:00,  4.52it/s]\n",
            "Train - Epoch: 37, Loss: 7.7288, CER: 0.3778, WER: 0.6280, AvgLoss: 7.1869, AvgCER: 0.3457, AvgWER: 0.6305: 100%|██████████| 96/96 [00:32<00:00,  2.95it/s]\n",
            "Val   - Epoch: 37, Loss: 8.3931, CER: 0.4244, WER: 0.6760, AvgLoss: 8.4865, AvgCER: 0.3975, AvgWER: 0.6712: 100%|██████████| 24/24 [00:05<00:00,  4.15it/s]\n",
            "Test  - Epoch: 37, Loss: 19.0801, CER: 0.9185, WER: 0.9920, AvgLoss: 18.3606, AvgCER: 0.8956, AvgWER: 0.9951: 100%|██████████| 120/120 [00:26<00:00,  4.54it/s]\n",
            "Train - Epoch: 38, Loss: 7.7771, CER: 0.3457, WER: 0.6320, AvgLoss: 6.9552, AvgCER: 0.3341, AvgWER: 0.6200: 100%|██████████| 96/96 [00:32<00:00,  2.97it/s]\n",
            "Val   - Epoch: 38, Loss: 7.4837, CER: 0.3602, WER: 0.6240, AvgLoss: 8.2340, AvgCER: 0.3876, AvgWER: 0.6618: 100%|██████████| 24/24 [00:05<00:00,  4.11it/s]\n",
            "Test  - Epoch: 38, Loss: 18.5363, CER: 0.8842, WER: 0.9880, AvgLoss: 18.1932, AvgCER: 0.8970, AvgWER: 0.9892: 100%|██████████| 120/120 [00:26<00:00,  4.54it/s]\n",
            "Train - Epoch: 39, Loss: 7.2669, CER: 0.3622, WER: 0.6720, AvgLoss: 6.7282, AvgCER: 0.3220, AvgWER: 0.6050: 100%|██████████| 96/96 [00:32<00:00,  2.95it/s]\n",
            "Val   - Epoch: 39, Loss: 8.0589, CER: 0.3644, WER: 0.6000, AvgLoss: 8.2308, AvgCER: 0.3871, AvgWER: 0.6602: 100%|██████████| 24/24 [00:05<00:00,  4.09it/s]\n",
            "Test  - Epoch: 39, Loss: 17.8931, CER: 0.8963, WER: 1.0000, AvgLoss: 18.2721, AvgCER: 0.8938, AvgWER: 0.9931: 100%|██████████| 120/120 [00:26<00:00,  4.50it/s]\n",
            "Train - Epoch: 40, Loss: 6.5799, CER: 0.3063, WER: 0.5560, AvgLoss: 6.4873, AvgCER: 0.3087, AvgWER: 0.5912: 100%|██████████| 96/96 [00:32<00:00,  2.95it/s]\n",
            "Val   - Epoch: 40, Loss: 9.0873, CER: 0.3941, WER: 0.6920, AvgLoss: 8.0655, AvgCER: 0.3759, AvgWER: 0.6512: 100%|██████████| 24/24 [00:05<00:00,  4.18it/s]\n",
            "Test  - Epoch: 40, Loss: 17.6275, CER: 0.8748, WER: 0.9960, AvgLoss: 18.6538, AvgCER: 0.8717, AvgWER: 0.9896: 100%|██████████| 120/120 [00:26<00:00,  4.53it/s]\n",
            "Train - Epoch: 41, Loss: 5.8090, CER: 0.2859, WER: 0.5360, AvgLoss: 6.3555, AvgCER: 0.3047, AvgWER: 0.5898: 100%|██████████| 96/96 [00:32<00:00,  2.96it/s]\n",
            "Val   - Epoch: 41, Loss: 8.6255, CER: 0.3857, WER: 0.6880, AvgLoss: 8.0384, AvgCER: 0.3724, AvgWER: 0.6577: 100%|██████████| 24/24 [00:05<00:00,  4.20it/s]\n",
            "Test  - Epoch: 41, Loss: 18.8100, CER: 0.8729, WER: 0.9800, AvgLoss: 18.4648, AvgCER: 0.8579, AvgWER: 0.9877: 100%|██████████| 120/120 [00:26<00:00,  4.49it/s]\n",
            "Train - Epoch: 42, Loss: 5.8558, CER: 0.2705, WER: 0.5160, AvgLoss: 6.1010, AvgCER: 0.2909, AvgWER: 0.5761: 100%|██████████| 96/96 [00:32<00:00,  2.96it/s]\n",
            "Val   - Epoch: 42, Loss: 7.5982, CER: 0.3464, WER: 0.6240, AvgLoss: 7.7894, AvgCER: 0.3622, AvgWER: 0.6313: 100%|██████████| 24/24 [00:05<00:00,  4.18it/s]\n",
            "Test  - Epoch: 42, Loss: 19.0466, CER: 0.8921, WER: 0.9840, AvgLoss: 18.7153, AvgCER: 0.8992, AvgWER: 0.9896: 100%|██████████| 120/120 [00:26<00:00,  4.54it/s]\n",
            "Train - Epoch: 43, Loss: 5.6517, CER: 0.2594, WER: 0.5520, AvgLoss: 5.8710, AvgCER: 0.2801, AvgWER: 0.5636: 100%|██████████| 96/96 [00:32<00:00,  2.96it/s]\n",
            "Val   - Epoch: 43, Loss: 7.3941, CER: 0.3449, WER: 0.6520, AvgLoss: 7.8711, AvgCER: 0.3643, AvgWER: 0.6397: 100%|██████████| 24/24 [00:05<00:00,  4.21it/s]\n",
            "Test  - Epoch: 43, Loss: 18.3914, CER: 0.9257, WER: 0.9920, AvgLoss: 18.4957, AvgCER: 0.8982, AvgWER: 0.9914: 100%|██████████| 120/120 [00:26<00:00,  4.55it/s]\n",
            "Train - Epoch: 44, Loss: 5.3795, CER: 0.2509, WER: 0.5080, AvgLoss: 5.6483, AvgCER: 0.2690, AvgWER: 0.5518: 100%|██████████| 96/96 [00:32<00:00,  2.97it/s]\n",
            "Val   - Epoch: 44, Loss: 8.2987, CER: 0.3550, WER: 0.6280, AvgLoss: 7.5961, AvgCER: 0.3449, AvgWER: 0.6163: 100%|██████████| 24/24 [00:05<00:00,  4.15it/s]\n",
            "Test  - Epoch: 44, Loss: 18.5697, CER: 0.8987, WER: 0.9960, AvgLoss: 18.7316, AvgCER: 0.8931, AvgWER: 0.9920: 100%|██████████| 120/120 [00:26<00:00,  4.58it/s]\n",
            "Train - Epoch: 45, Loss: 5.2688, CER: 0.2762, WER: 0.5720, AvgLoss: 5.4424, AvgCER: 0.2590, AvgWER: 0.5405: 100%|██████████| 96/96 [00:32<00:00,  2.97it/s]\n",
            "Val   - Epoch: 45, Loss: 7.5630, CER: 0.3565, WER: 0.6320, AvgLoss: 7.6719, AvgCER: 0.3478, AvgWER: 0.6215: 100%|██████████| 24/24 [00:05<00:00,  4.20it/s]\n",
            "Test  - Epoch: 45, Loss: 18.9347, CER: 0.8726, WER: 0.9920, AvgLoss: 19.2237, AvgCER: 0.9044, AvgWER: 0.9915: 100%|██████████| 120/120 [00:26<00:00,  4.57it/s]\n",
            "Train - Epoch: 46, Loss: 4.9767, CER: 0.2234, WER: 0.4880, AvgLoss: 5.2277, AvgCER: 0.2481, AvgWER: 0.5282: 100%|██████████| 96/96 [00:32<00:00,  2.97it/s]\n",
            "Val   - Epoch: 46, Loss: 7.9316, CER: 0.3715, WER: 0.6560, AvgLoss: 7.6812, AvgCER: 0.3518, AvgWER: 0.6292: 100%|██████████| 24/24 [00:05<00:00,  4.15it/s]\n",
            "Test  - Epoch: 46, Loss: 18.4638, CER: 0.8965, WER: 0.9920, AvgLoss: 19.2249, AvgCER: 0.8834, AvgWER: 0.9887: 100%|██████████| 120/120 [00:26<00:00,  4.54it/s]\n",
            "Train - Epoch: 47, Loss: 4.4609, CER: 0.2179, WER: 0.4640, AvgLoss: 5.0430, AvgCER: 0.2403, AvgWER: 0.5188: 100%|██████████| 96/96 [00:32<00:00,  2.98it/s]\n",
            "Val   - Epoch: 47, Loss: 7.5957, CER: 0.3452, WER: 0.6360, AvgLoss: 7.5154, AvgCER: 0.3449, AvgWER: 0.6127: 100%|██████████| 24/24 [00:05<00:00,  4.21it/s]\n",
            "Test  - Epoch: 47, Loss: 18.7014, CER: 0.9282, WER: 0.9920, AvgLoss: 19.5608, AvgCER: 0.9123, AvgWER: 0.9897: 100%|██████████| 120/120 [00:26<00:00,  4.57it/s]\n",
            "Train - Epoch: 48, Loss: 4.8655, CER: 0.2332, WER: 0.5040, AvgLoss: 4.8111, AvgCER: 0.2276, AvgWER: 0.5046: 100%|██████████| 96/96 [00:32<00:00,  2.96it/s]\n",
            "Val   - Epoch: 48, Loss: 7.9103, CER: 0.3994, WER: 0.6640, AvgLoss: 7.6078, AvgCER: 0.3464, AvgWER: 0.6168: 100%|██████████| 24/24 [00:05<00:00,  4.23it/s]\n",
            "Test  - Epoch: 48, Loss: 21.0054, CER: 0.8872, WER: 0.9880, AvgLoss: 19.7934, AvgCER: 0.9060, AvgWER: 0.9892: 100%|██████████| 120/120 [00:26<00:00,  4.61it/s]\n",
            "Train - Epoch: 49, Loss: 4.5768, CER: 0.2280, WER: 0.5040, AvgLoss: 4.6612, AvgCER: 0.2212, AvgWER: 0.4963: 100%|██████████| 96/96 [00:32<00:00,  2.96it/s]\n",
            "Val   - Epoch: 49, Loss: 6.4903, CER: 0.3502, WER: 0.6240, AvgLoss: 7.7621, AvgCER: 0.3436, AvgWER: 0.6240: 100%|██████████| 24/24 [00:05<00:00,  4.15it/s]\n",
            "Test  - Epoch: 49, Loss: 21.0473, CER: 0.8947, WER: 0.9840, AvgLoss: 20.1603, AvgCER: 0.8878, AvgWER: 0.9905: 100%|██████████| 120/120 [00:26<00:00,  4.58it/s]\n",
            "Train - Epoch: 50, Loss: 4.4953, CER: 0.2248, WER: 0.4880, AvgLoss: 4.5537, AvgCER: 0.2176, AvgWER: 0.4930: 100%|██████████| 96/96 [00:32<00:00,  2.96it/s]\n",
            "Val   - Epoch: 50, Loss: 7.8489, CER: 0.3181, WER: 0.5840, AvgLoss: 7.4781, AvgCER: 0.3367, AvgWER: 0.6105: 100%|██████████| 24/24 [00:05<00:00,  4.19it/s]\n",
            "Test  - Epoch: 50, Loss: 21.0248, CER: 0.9049, WER: 0.9960, AvgLoss: 19.8809, AvgCER: 0.9067, AvgWER: 0.9881: 100%|██████████| 120/120 [00:26<00:00,  4.48it/s]\n",
            "Train - Epoch: 51, Loss: 4.0358, CER: 0.2041, WER: 0.5000, AvgLoss: 4.2974, AvgCER: 0.2024, AvgWER: 0.4740: 100%|██████████| 96/96 [00:32<00:00,  2.98it/s]\n",
            "Val   - Epoch: 51, Loss: 7.3287, CER: 0.3269, WER: 0.6400, AvgLoss: 7.6369, AvgCER: 0.3372, AvgWER: 0.6192: 100%|██████████| 24/24 [00:05<00:00,  4.13it/s]\n",
            "Test  - Epoch: 51, Loss: 20.2275, CER: 0.8426, WER: 0.9880, AvgLoss: 20.0058, AvgCER: 0.8801, AvgWER: 0.9881: 100%|██████████| 120/120 [00:26<00:00,  4.52it/s]\n",
            "Train - Epoch: 52, Loss: 4.5844, CER: 0.2046, WER: 0.4960, AvgLoss: 4.1909, AvgCER: 0.1994, AvgWER: 0.4708: 100%|██████████| 96/96 [00:32<00:00,  2.95it/s]\n",
            "Val   - Epoch: 52, Loss: 8.1874, CER: 0.3433, WER: 0.5760, AvgLoss: 7.7215, AvgCER: 0.3385, AvgWER: 0.6122: 100%|██████████| 24/24 [00:05<00:00,  4.23it/s]\n",
            "Test  - Epoch: 52, Loss: 21.0743, CER: 0.8963, WER: 0.9960, AvgLoss: 20.8904, AvgCER: 0.8813, AvgWER: 0.9883: 100%|██████████| 120/120 [00:26<00:00,  4.56it/s]\n",
            "Train - Epoch: 53, Loss: 3.6249, CER: 0.1700, WER: 0.4200, AvgLoss: 3.9811, AvgCER: 0.1892, AvgWER: 0.4590: 100%|██████████| 96/96 [00:32<00:00,  2.96it/s]\n",
            "Val   - Epoch: 53, Loss: 6.3960, CER: 0.2857, WER: 0.5840, AvgLoss: 7.5357, AvgCER: 0.3319, AvgWER: 0.6098: 100%|██████████| 24/24 [00:05<00:00,  4.19it/s]\n",
            "Test  - Epoch: 53, Loss: 20.6716, CER: 0.9068, WER: 0.9840, AvgLoss: 20.3691, AvgCER: 0.8908, AvgWER: 0.9869: 100%|██████████| 120/120 [00:26<00:00,  4.53it/s]\n",
            "Train - Epoch: 54, Loss: 4.2675, CER: 0.2038, WER: 0.4880, AvgLoss: 3.7982, AvgCER: 0.1792, AvgWER: 0.4467: 100%|██████████| 96/96 [00:32<00:00,  2.96it/s]\n",
            "Val   - Epoch: 54, Loss: 7.7724, CER: 0.3241, WER: 0.6240, AvgLoss: 7.5804, AvgCER: 0.3272, AvgWER: 0.5995: 100%|██████████| 24/24 [00:05<00:00,  4.15it/s]\n",
            "Test  - Epoch: 54, Loss: 21.7456, CER: 0.8993, WER: 0.9920, AvgLoss: 21.3417, AvgCER: 0.9143, AvgWER: 0.9889: 100%|██████████| 120/120 [00:26<00:00,  4.57it/s]\n",
            "Train - Epoch: 55, Loss: 4.0187, CER: 0.1921, WER: 0.4840, AvgLoss: 3.5658, AvgCER: 0.1677, AvgWER: 0.4278: 100%|██████████| 96/96 [00:32<00:00,  2.96it/s]\n",
            "Val   - Epoch: 55, Loss: 7.8422, CER: 0.3326, WER: 0.6160, AvgLoss: 7.6614, AvgCER: 0.3287, AvgWER: 0.6020: 100%|██████████| 24/24 [00:05<00:00,  4.12it/s]\n",
            "Test  - Epoch: 55, Loss: 20.9458, CER: 0.9192, WER: 0.9800, AvgLoss: 21.2011, AvgCER: 0.9054, AvgWER: 0.9893: 100%|██████████| 120/120 [00:26<00:00,  4.50it/s]\n",
            "Train - Epoch: 56, Loss: 3.7936, CER: 0.1850, WER: 0.4880, AvgLoss: 3.4732, AvgCER: 0.1643, AvgWER: 0.4249: 100%|██████████| 96/96 [00:32<00:00,  2.96it/s]\n",
            "Val   - Epoch: 56, Loss: 7.1992, CER: 0.3435, WER: 0.6080, AvgLoss: 7.5886, AvgCER: 0.3334, AvgWER: 0.6072: 100%|██████████| 24/24 [00:05<00:00,  4.18it/s]\n",
            "Test  - Epoch: 56, Loss: 21.4133, CER: 0.9600, WER: 0.9880, AvgLoss: 20.8169, AvgCER: 0.9201, AvgWER: 0.9889: 100%|██████████| 120/120 [00:26<00:00,  4.57it/s]\n",
            "Train - Epoch: 57, Loss: 3.5893, CER: 0.1670, WER: 0.4320, AvgLoss: 3.3171, AvgCER: 0.1561, AvgWER: 0.4125: 100%|██████████| 96/96 [00:32<00:00,  2.97it/s]\n",
            "Val   - Epoch: 57, Loss: 7.6932, CER: 0.3411, WER: 0.6480, AvgLoss: 7.6343, AvgCER: 0.3287, AvgWER: 0.5952: 100%|██████████| 24/24 [00:05<00:00,  4.20it/s]\n",
            "Test  - Epoch: 57, Loss: 20.8289, CER: 0.8683, WER: 0.9880, AvgLoss: 21.3620, AvgCER: 0.9042, AvgWER: 0.9891: 100%|██████████| 120/120 [00:26<00:00,  4.61it/s]\n",
            "Train - Epoch: 58, Loss: 3.7492, CER: 0.1783, WER: 0.4440, AvgLoss: 3.1465, AvgCER: 0.1481, AvgWER: 0.3982: 100%|██████████| 96/96 [00:34<00:00,  2.79it/s]\n",
            "Val   - Epoch: 58, Loss: 8.2137, CER: 0.3300, WER: 0.5920, AvgLoss: 7.7136, AvgCER: 0.3291, AvgWER: 0.5963: 100%|██████████| 24/24 [00:05<00:00,  4.12it/s]\n",
            "Test  - Epoch: 58, Loss: 21.2188, CER: 0.9299, WER: 0.9880, AvgLoss: 21.8305, AvgCER: 0.9104, AvgWER: 0.9888: 100%|██████████| 120/120 [00:26<00:00,  4.49it/s]\n",
            "Train - Epoch: 59, Loss: 3.2190, CER: 0.1512, WER: 0.4000, AvgLoss: 2.9910, AvgCER: 0.1396, AvgWER: 0.3868: 100%|██████████| 96/96 [00:32<00:00,  2.95it/s]\n",
            "Val   - Epoch: 59, Loss: 7.9564, CER: 0.3420, WER: 0.6400, AvgLoss: 7.8127, AvgCER: 0.3235, AvgWER: 0.6000: 100%|██████████| 24/24 [00:05<00:00,  4.10it/s]\n",
            "Test  - Epoch: 59, Loss: 21.8296, CER: 0.8732, WER: 0.9920, AvgLoss: 22.0474, AvgCER: 0.8766, AvgWER: 0.9874: 100%|██████████| 120/120 [00:26<00:00,  4.47it/s]\n",
            "Train - Epoch: 60, Loss: 2.8294, CER: 0.1493, WER: 0.3920, AvgLoss: 2.7951, AvgCER: 0.1290, AvgWER: 0.3707: 100%|██████████| 96/96 [00:32<00:00,  2.93it/s]\n",
            "Val   - Epoch: 60, Loss: 7.0124, CER: 0.2947, WER: 0.5760, AvgLoss: 7.7958, AvgCER: 0.3311, AvgWER: 0.6010: 100%|██████████| 24/24 [00:05<00:00,  4.09it/s]\n",
            "Test  - Epoch: 60, Loss: 22.2798, CER: 0.9311, WER: 0.9800, AvgLoss: 22.1455, AvgCER: 0.9083, AvgWER: 0.9900: 100%|██████████| 120/120 [00:27<00:00,  4.43it/s]\n",
            "Train - Epoch: 61, Loss: 2.5732, CER: 0.1316, WER: 0.3560, AvgLoss: 2.6719, AvgCER: 0.1242, AvgWER: 0.3617: 100%|██████████| 96/96 [00:32<00:00,  2.95it/s]\n",
            "Val   - Epoch: 61, Loss: 8.2443, CER: 0.3214, WER: 0.5880, AvgLoss: 7.9517, AvgCER: 0.3258, AvgWER: 0.5992: 100%|██████████| 24/24 [00:05<00:00,  4.08it/s]\n",
            "Test  - Epoch: 61, Loss: 24.0100, CER: 0.8838, WER: 0.9960, AvgLoss: 22.5198, AvgCER: 0.8911, AvgWER: 0.9886: 100%|██████████| 120/120 [00:27<00:00,  4.42it/s]\n",
            "Train - Epoch: 62, Loss: 2.8201, CER: 0.1318, WER: 0.3760, AvgLoss: 2.5794, AvgCER: 0.1193, AvgWER: 0.3567: 100%|██████████| 96/96 [00:32<00:00,  2.96it/s]\n",
            "Val   - Epoch: 62, Loss: 8.7335, CER: 0.3438, WER: 0.5960, AvgLoss: 8.0340, AvgCER: 0.3320, AvgWER: 0.5992: 100%|██████████| 24/24 [00:05<00:00,  4.08it/s]\n",
            "Test  - Epoch: 62, Loss: 22.0907, CER: 0.9105, WER: 0.9960, AvgLoss: 23.0646, AvgCER: 0.9159, AvgWER: 0.9910: 100%|██████████| 120/120 [00:26<00:00,  4.49it/s]\n",
            "Train - Epoch: 63, Loss: 2.5032, CER: 0.1352, WER: 0.3960, AvgLoss: 2.4562, AvgCER: 0.1135, AvgWER: 0.3461: 100%|██████████| 96/96 [00:32<00:00,  2.94it/s]\n",
            "Val   - Epoch: 63, Loss: 7.3272, CER: 0.3354, WER: 0.6200, AvgLoss: 8.1344, AvgCER: 0.3269, AvgWER: 0.5947: 100%|██████████| 24/24 [00:05<00:00,  4.10it/s]\n",
            "Test  - Epoch: 63, Loss: 23.9599, CER: 0.8983, WER: 1.0000, AvgLoss: 23.2567, AvgCER: 0.9020, AvgWER: 0.9898: 100%|██████████| 120/120 [00:26<00:00,  4.49it/s]\n",
            "Train - Epoch: 64, Loss: 2.7043, CER: 0.1247, WER: 0.4000, AvgLoss: 2.2875, AvgCER: 0.1058, AvgWER: 0.3293: 100%|██████████| 96/96 [00:32<00:00,  2.94it/s]\n",
            "Val   - Epoch: 64, Loss: 7.2769, CER: 0.3192, WER: 0.5760, AvgLoss: 8.2529, AvgCER: 0.3334, AvgWER: 0.6128: 100%|██████████| 24/24 [00:05<00:00,  4.16it/s]\n",
            "Test  - Epoch: 64, Loss: 22.6879, CER: 0.8985, WER: 0.9880, AvgLoss: 23.5181, AvgCER: 0.8793, AvgWER: 0.9883: 100%|██████████| 120/120 [00:26<00:00,  4.48it/s]\n",
            "Train - Epoch: 65, Loss: 2.1511, CER: 0.0971, WER: 0.3000, AvgLoss: 2.2948, AvgCER: 0.1087, AvgWER: 0.3376: 100%|██████████| 96/96 [00:32<00:00,  2.92it/s]\n",
            "Val   - Epoch: 65, Loss: 7.5798, CER: 0.3128, WER: 0.5720, AvgLoss: 8.1987, AvgCER: 0.3265, AvgWER: 0.5998: 100%|██████████| 24/24 [00:05<00:00,  4.10it/s]\n",
            "Test  - Epoch: 65, Loss: 24.7279, CER: 0.9156, WER: 0.9840, AvgLoss: 23.4878, AvgCER: 0.8868, AvgWER: 0.9884: 100%|██████████| 120/120 [00:26<00:00,  4.47it/s]\n",
            "Train - Epoch: 66, Loss: 1.9061, CER: 0.0871, WER: 0.2840, AvgLoss: 2.0389, AvgCER: 0.0924, AvgWER: 0.3066: 100%|██████████| 96/96 [00:32<00:00,  2.95it/s]\n",
            "Val   - Epoch: 66, Loss: 8.5923, CER: 0.3395, WER: 0.6280, AvgLoss: 8.3572, AvgCER: 0.3291, AvgWER: 0.6030: 100%|██████████| 24/24 [00:05<00:00,  4.09it/s]\n",
            "Test  - Epoch: 66, Loss: 22.4370, CER: 0.9099, WER: 0.9920, AvgLoss: 24.0452, AvgCER: 0.9116, AvgWER: 0.9900: 100%|██████████| 120/120 [00:26<00:00,  4.46it/s]\n",
            "Train - Epoch: 67, Loss: 2.1099, CER: 0.0956, WER: 0.3280, AvgLoss: 1.9463, AvgCER: 0.0885, AvgWER: 0.2996: 100%|██████████| 96/96 [00:32<00:00,  2.94it/s]\n",
            "Val   - Epoch: 67, Loss: 9.0858, CER: 0.3580, WER: 0.6280, AvgLoss: 8.4137, AvgCER: 0.3308, AvgWER: 0.6033: 100%|██████████| 24/24 [00:05<00:00,  4.14it/s]\n",
            "Test  - Epoch: 67, Loss: 25.4368, CER: 0.8964, WER: 0.9840, AvgLoss: 24.4858, AvgCER: 0.9052, AvgWER: 0.9892: 100%|██████████| 120/120 [00:26<00:00,  4.46it/s]\n",
            "Train - Epoch: 68, Loss: 1.7809, CER: 0.0937, WER: 0.3120, AvgLoss: 1.8373, AvgCER: 0.0825, AvgWER: 0.2838: 100%|██████████| 96/96 [00:32<00:00,  2.93it/s]\n",
            "Val   - Epoch: 68, Loss: 7.9729, CER: 0.3072, WER: 0.5800, AvgLoss: 8.5422, AvgCER: 0.3370, AvgWER: 0.6095: 100%|██████████| 24/24 [00:05<00:00,  4.14it/s]\n",
            "Test  - Epoch: 68, Loss: 24.5485, CER: 0.9314, WER: 0.9880, AvgLoss: 24.2795, AvgCER: 0.9278, AvgWER: 0.9895: 100%|██████████| 120/120 [00:26<00:00,  4.45it/s]\n",
            "Train - Epoch: 69, Loss: 1.6293, CER: 0.0777, WER: 0.2640, AvgLoss: 1.7118, AvgCER: 0.0767, AvgWER: 0.2720: 100%|██████████| 96/96 [00:32<00:00,  2.93it/s]\n",
            "Val   - Epoch: 69, Loss: 9.6677, CER: 0.3675, WER: 0.6320, AvgLoss: 8.6963, AvgCER: 0.3326, AvgWER: 0.6100: 100%|██████████| 24/24 [00:05<00:00,  4.13it/s]\n",
            "Test  - Epoch: 69, Loss: 26.0779, CER: 0.9025, WER: 0.9880, AvgLoss: 25.1002, AvgCER: 0.8901, AvgWER: 0.9892: 100%|██████████| 120/120 [00:27<00:00,  4.41it/s]\n",
            "Train - Epoch: 70, Loss: 1.9033, CER: 0.0814, WER: 0.2880, AvgLoss: 1.6593, AvgCER: 0.0750, AvgWER: 0.2701: 100%|██████████| 96/96 [00:32<00:00,  2.93it/s]\n",
            "Val   - Epoch: 70, Loss: 8.8012, CER: 0.3337, WER: 0.5880, AvgLoss: 8.8344, AvgCER: 0.3279, AvgWER: 0.6065: 100%|██████████| 24/24 [00:05<00:00,  4.01it/s]\n",
            "Test  - Epoch: 70, Loss: 24.6234, CER: 0.9314, WER: 0.9960, AvgLoss: 25.7315, AvgCER: 0.9019, AvgWER: 0.9906: 100%|██████████| 120/120 [00:27<00:00,  4.44it/s]\n",
            "Train - Epoch: 71, Loss: 1.7225, CER: 0.0709, WER: 0.2440, AvgLoss: 1.4992, AvgCER: 0.0655, AvgWER: 0.2462: 100%|██████████| 96/96 [00:32<00:00,  2.93it/s]\n",
            "Val   - Epoch: 71, Loss: 8.5029, CER: 0.3122, WER: 0.5760, AvgLoss: 8.7070, AvgCER: 0.3270, AvgWER: 0.5957: 100%|██████████| 24/24 [00:05<00:00,  4.11it/s]\n",
            "Test  - Epoch: 71, Loss: 25.0811, CER: 0.8709, WER: 0.9840, AvgLoss: 25.6236, AvgCER: 0.8872, AvgWER: 0.9879: 100%|██████████| 120/120 [00:27<00:00,  4.42it/s]\n",
            "Train - Epoch: 72, Loss: 1.3506, CER: 0.0599, WER: 0.2560, AvgLoss: 1.5173, AvgCER: 0.0689, AvgWER: 0.2550: 100%|██████████| 96/96 [00:32<00:00,  2.94it/s]\n",
            "Val   - Epoch: 72, Loss: 8.9674, CER: 0.3231, WER: 0.6040, AvgLoss: 8.9395, AvgCER: 0.3320, AvgWER: 0.6018: 100%|██████████| 24/24 [00:05<00:00,  4.06it/s]\n",
            "Test  - Epoch: 72, Loss: 25.1649, CER: 0.8818, WER: 0.9880, AvgLoss: 25.9459, AvgCER: 0.9027, AvgWER: 0.9870: 100%|██████████| 120/120 [00:27<00:00,  4.39it/s]\n",
            "Train - Epoch: 73, Loss: 1.7400, CER: 0.0679, WER: 0.2800, AvgLoss: 1.4131, AvgCER: 0.0625, AvgWER: 0.2400: 100%|██████████| 96/96 [00:32<00:00,  2.93it/s]\n",
            "Val   - Epoch: 73, Loss: 8.5098, CER: 0.3421, WER: 0.6080, AvgLoss: 8.9750, AvgCER: 0.3310, AvgWER: 0.6078: 100%|██████████| 24/24 [00:05<00:00,  4.08it/s]\n",
            "Test  - Epoch: 73, Loss: 27.7321, CER: 0.9228, WER: 1.0000, AvgLoss: 26.4212, AvgCER: 0.9137, AvgWER: 0.9883: 100%|██████████| 120/120 [00:27<00:00,  4.42it/s]\n",
            "Train - Epoch: 74, Loss: 1.3366, CER: 0.0612, WER: 0.2280, AvgLoss: 1.2430, AvgCER: 0.0521, AvgWER: 0.2124: 100%|██████████| 96/96 [00:32<00:00,  2.94it/s]\n",
            "Val   - Epoch: 74, Loss: 9.1935, CER: 0.3228, WER: 0.6080, AvgLoss: 9.1024, AvgCER: 0.3371, AvgWER: 0.6053: 100%|██████████| 24/24 [00:05<00:00,  4.07it/s]\n",
            "Test  - Epoch: 74, Loss: 25.7331, CER: 0.9652, WER: 0.9880, AvgLoss: 26.5861, AvgCER: 0.9244, AvgWER: 0.9889: 100%|██████████| 120/120 [00:26<00:00,  4.49it/s]\n",
            "Train - Epoch: 75, Loss: 1.1676, CER: 0.0527, WER: 0.2120, AvgLoss: 1.2597, AvgCER: 0.0559, AvgWER: 0.2228: 100%|██████████| 96/96 [00:32<00:00,  2.95it/s]\n",
            "Val   - Epoch: 75, Loss: 9.3381, CER: 0.3367, WER: 0.6080, AvgLoss: 9.3135, AvgCER: 0.3300, AvgWER: 0.6018: 100%|██████████| 24/24 [00:05<00:00,  4.14it/s]\n",
            "Test  - Epoch: 75, Loss: 26.8714, CER: 0.8790, WER: 0.9880, AvgLoss: 27.5572, AvgCER: 0.9047, AvgWER: 0.9914: 100%|██████████| 120/120 [00:26<00:00,  4.56it/s]\n",
            "Train - Epoch: 76, Loss: 1.4031, CER: 0.0652, WER: 0.2680, AvgLoss: 1.2126, AvgCER: 0.0543, AvgWER: 0.2155: 100%|██████████| 96/96 [00:32<00:00,  2.95it/s]\n",
            "Val   - Epoch: 76, Loss: 9.5736, CER: 0.3497, WER: 0.6000, AvgLoss: 9.3127, AvgCER: 0.3323, AvgWER: 0.6038: 100%|██████████| 24/24 [00:05<00:00,  4.08it/s]\n",
            "Test  - Epoch: 76, Loss: 26.7375, CER: 0.8832, WER: 0.9960, AvgLoss: 27.3528, AvgCER: 0.9081, AvgWER: 0.9883: 100%|██████████| 120/120 [00:26<00:00,  4.51it/s]\n",
            "Train - Epoch: 77, Loss: 1.4694, CER: 0.0591, WER: 0.2600, AvgLoss: 1.0503, AvgCER: 0.0436, AvgWER: 0.1850: 100%|██████████| 96/96 [00:32<00:00,  2.96it/s]\n",
            "Val   - Epoch: 77, Loss: 8.4939, CER: 0.2985, WER: 0.5720, AvgLoss: 9.3799, AvgCER: 0.3303, AvgWER: 0.6023: 100%|██████████| 24/24 [00:05<00:00,  4.15it/s]\n",
            "Test  - Epoch: 77, Loss: 26.1801, CER: 0.8735, WER: 0.9760, AvgLoss: 27.5575, AvgCER: 0.9003, AvgWER: 0.9898: 100%|██████████| 120/120 [00:26<00:00,  4.50it/s]\n",
            "Train - Epoch: 78, Loss: 1.0595, CER: 0.0401, WER: 0.1960, AvgLoss: 0.9924, AvgCER: 0.0414, AvgWER: 0.1770: 100%|██████████| 96/96 [00:32<00:00,  2.96it/s]\n",
            "Val   - Epoch: 78, Loss: 10.7512, CER: 0.3445, WER: 0.6240, AvgLoss: 9.5551, AvgCER: 0.3250, AvgWER: 0.6000: 100%|██████████| 24/24 [00:05<00:00,  4.15it/s]\n",
            "Test  - Epoch: 78, Loss: 26.4294, CER: 0.8932, WER: 0.9960, AvgLoss: 28.1014, AvgCER: 0.8948, AvgWER: 0.9884: 100%|██████████| 120/120 [00:26<00:00,  4.47it/s]\n",
            "Train - Epoch: 79, Loss: 1.0579, CER: 0.0536, WER: 0.2000, AvgLoss: 0.9086, AvgCER: 0.0367, AvgWER: 0.1627: 100%|██████████| 96/96 [00:32<00:00,  2.92it/s]\n",
            "Val   - Epoch: 79, Loss: 9.5838, CER: 0.3476, WER: 0.6080, AvgLoss: 9.6279, AvgCER: 0.3304, AvgWER: 0.6037: 100%|██████████| 24/24 [00:05<00:00,  4.16it/s]\n",
            "Test  - Epoch: 79, Loss: 31.3297, CER: 0.9075, WER: 0.9880, AvgLoss: 28.9577, AvgCER: 0.9054, AvgWER: 0.9880: 100%|██████████| 120/120 [00:26<00:00,  4.50it/s]\n",
            "Train - Epoch: 80, Loss: 1.0141, CER: 0.0411, WER: 0.1800, AvgLoss: 0.8322, AvgCER: 0.0330, AvgWER: 0.1468: 100%|██████████| 96/96 [00:32<00:00,  2.96it/s]\n",
            "Val   - Epoch: 80, Loss: 9.2622, CER: 0.3213, WER: 0.6040, AvgLoss: 9.6883, AvgCER: 0.3287, AvgWER: 0.6037: 100%|██████████| 24/24 [00:05<00:00,  4.19it/s]\n",
            "Test  - Epoch: 80, Loss: 27.0180, CER: 0.8654, WER: 0.9800, AvgLoss: 28.9865, AvgCER: 0.8971, AvgWER: 0.9879: 100%|██████████| 120/120 [00:26<00:00,  4.51it/s]\n",
            "Train - Epoch: 81, Loss: 0.8395, CER: 0.0404, WER: 0.1680, AvgLoss: 0.8578, AvgCER: 0.0356, AvgWER: 0.1575: 100%|██████████| 96/96 [00:32<00:00,  2.94it/s]\n",
            "Val   - Epoch: 81, Loss: 9.4582, CER: 0.3274, WER: 0.6120, AvgLoss: 9.9419, AvgCER: 0.3325, AvgWER: 0.6083: 100%|██████████| 24/24 [00:05<00:00,  4.09it/s]\n",
            "Test  - Epoch: 81, Loss: 29.2529, CER: 0.8849, WER: 1.0000, AvgLoss: 29.2877, AvgCER: 0.9106, AvgWER: 0.9892: 100%|██████████| 120/120 [00:26<00:00,  4.46it/s]\n",
            "Train - Epoch: 82, Loss: 0.9926, CER: 0.0417, WER: 0.2000, AvgLoss: 0.8210, AvgCER: 0.0342, AvgWER: 0.1542: 100%|██████████| 96/96 [00:32<00:00,  2.94it/s]\n",
            "Val   - Epoch: 82, Loss: 9.9108, CER: 0.3480, WER: 0.6200, AvgLoss: 10.0509, AvgCER: 0.3334, AvgWER: 0.6133: 100%|██████████| 24/24 [00:05<00:00,  4.12it/s]\n",
            "Test  - Epoch: 82, Loss: 29.6784, CER: 0.9283, WER: 0.9880, AvgLoss: 29.5485, AvgCER: 0.9118, AvgWER: 0.9902: 100%|██████████| 120/120 [00:26<00:00,  4.45it/s]\n",
            "Train - Epoch: 83, Loss: 0.9998, CER: 0.0426, WER: 0.1800, AvgLoss: 0.7632, AvgCER: 0.0306, AvgWER: 0.1405: 100%|██████████| 96/96 [00:32<00:00,  2.95it/s]\n",
            "Val   - Epoch: 83, Loss: 8.7129, CER: 0.3042, WER: 0.5600, AvgLoss: 10.1834, AvgCER: 0.3379, AvgWER: 0.6088: 100%|██████████| 24/24 [00:05<00:00,  4.14it/s]\n",
            "Test  - Epoch: 83, Loss: 29.3808, CER: 0.9279, WER: 0.9920, AvgLoss: 29.1496, AvgCER: 0.9049, AvgWER: 0.9900: 100%|██████████| 120/120 [00:27<00:00,  4.44it/s]\n",
            "Train - Epoch: 84, Loss: 0.9488, CER: 0.0394, WER: 0.2000, AvgLoss: 0.7538, AvgCER: 0.0311, AvgWER: 0.1417: 100%|██████████| 96/96 [00:32<00:00,  2.94it/s]\n",
            "Val   - Epoch: 84, Loss: 10.2824, CER: 0.3600, WER: 0.6280, AvgLoss: 10.2994, AvgCER: 0.3409, AvgWER: 0.6187: 100%|██████████| 24/24 [00:05<00:00,  4.16it/s]\n",
            "Test  - Epoch: 84, Loss: 28.2156, CER: 0.8963, WER: 0.9840, AvgLoss: 29.5490, AvgCER: 0.9087, AvgWER: 0.9890: 100%|██████████| 120/120 [00:26<00:00,  4.47it/s]\n",
            "Train - Epoch: 85, Loss: 0.8961, CER: 0.0348, WER: 0.1840, AvgLoss: 0.8807, AvgCER: 0.0417, AvgWER: 0.1797: 100%|██████████| 96/96 [00:32<00:00,  2.93it/s]\n",
            "Val   - Epoch: 85, Loss: 10.6689, CER: 0.3157, WER: 0.5800, AvgLoss: 10.3527, AvgCER: 0.3274, AvgWER: 0.6032: 100%|██████████| 24/24 [00:05<00:00,  4.08it/s]\n",
            "Test  - Epoch: 85, Loss: 29.5676, CER: 0.9154, WER: 0.9920, AvgLoss: 30.4475, AvgCER: 0.9093, AvgWER: 0.9891: 100%|██████████| 120/120 [00:26<00:00,  4.47it/s]\n",
            "Train - Epoch: 86, Loss: 1.0073, CER: 0.0522, WER: 0.2200, AvgLoss: 0.8239, AvgCER: 0.0375, AvgWER: 0.1656: 100%|██████████| 96/96 [00:32<00:00,  2.95it/s]\n",
            "Val   - Epoch: 86, Loss: 11.3065, CER: 0.3602, WER: 0.6400, AvgLoss: 10.4166, AvgCER: 0.3362, AvgWER: 0.6128: 100%|██████████| 24/24 [00:05<00:00,  4.13it/s]\n",
            "Test  - Epoch: 86, Loss: 29.9447, CER: 0.8912, WER: 0.9920, AvgLoss: 29.9929, AvgCER: 0.8909, AvgWER: 0.9887: 100%|██████████| 120/120 [00:27<00:00,  4.44it/s]\n",
            "Train - Epoch: 87, Loss: 0.5645, CER: 0.0288, WER: 0.1480, AvgLoss: 0.6876, AvgCER: 0.0301, AvgWER: 0.1383: 100%|██████████| 96/96 [00:32<00:00,  2.94it/s]\n",
            "Val   - Epoch: 87, Loss: 10.5621, CER: 0.2995, WER: 0.5640, AvgLoss: 10.4803, AvgCER: 0.3253, AvgWER: 0.6000: 100%|██████████| 24/24 [00:05<00:00,  4.11it/s]\n",
            "Test  - Epoch: 87, Loss: 32.6325, CER: 0.9419, WER: 0.9880, AvgLoss: 30.9920, AvgCER: 0.8965, AvgWER: 0.9879: 100%|██████████| 120/120 [00:26<00:00,  4.45it/s]\n",
            "Train - Epoch: 88, Loss: 0.5179, CER: 0.0213, WER: 0.1120, AvgLoss: 0.5480, AvgCER: 0.0201, AvgWER: 0.1015: 100%|██████████| 96/96 [00:32<00:00,  2.95it/s]\n",
            "Val   - Epoch: 88, Loss: 9.7279, CER: 0.3189, WER: 0.5800, AvgLoss: 10.5674, AvgCER: 0.3296, AvgWER: 0.6053: 100%|██████████| 24/24 [00:05<00:00,  4.09it/s]\n",
            "Test  - Epoch: 88, Loss: 30.2800, CER: 0.9170, WER: 0.9840, AvgLoss: 30.7827, AvgCER: 0.8977, AvgWER: 0.9890: 100%|██████████| 120/120 [00:26<00:00,  4.45it/s]\n",
            "Train - Epoch: 89, Loss: 0.3654, CER: 0.0133, WER: 0.0600, AvgLoss: 0.4190, AvgCER: 0.0124, AvgWER: 0.0636: 100%|██████████| 96/96 [00:32<00:00,  2.94it/s]\n",
            "Val   - Epoch: 89, Loss: 10.7154, CER: 0.3046, WER: 0.6040, AvgLoss: 10.7268, AvgCER: 0.3262, AvgWER: 0.6040: 100%|██████████| 24/24 [00:05<00:00,  4.09it/s]\n",
            "Test  - Epoch: 89, Loss: 31.5088, CER: 0.8477, WER: 0.9880, AvgLoss: 31.6637, AvgCER: 0.8957, AvgWER: 0.9886: 100%|██████████| 120/120 [00:26<00:00,  4.47it/s]\n",
            "Train - Epoch: 90, Loss: 0.3225, CER: 0.0081, WER: 0.0440, AvgLoss: 0.3122, AvgCER: 0.0063, AvgWER: 0.0353: 100%|██████████| 96/96 [00:32<00:00,  2.93it/s]\n",
            "Val   - Epoch: 90, Loss: 9.8350, CER: 0.3032, WER: 0.5480, AvgLoss: 10.8172, AvgCER: 0.3208, AvgWER: 0.5955: 100%|██████████| 24/24 [00:05<00:00,  4.11it/s]\n",
            "Test  - Epoch: 90, Loss: 31.0596, CER: 0.8602, WER: 0.9840, AvgLoss: 32.1527, AvgCER: 0.8896, AvgWER: 0.9893: 100%|██████████| 120/120 [00:26<00:00,  4.50it/s]\n",
            "Train - Epoch: 91, Loss: 0.3349, CER: 0.0077, WER: 0.0480, AvgLoss: 0.2423, AvgCER: 0.0035, AvgWER: 0.0198: 100%|██████████| 96/96 [00:32<00:00,  2.92it/s]\n",
            "Val   - Epoch: 91, Loss: 11.9861, CER: 0.3592, WER: 0.6280, AvgLoss: 10.9372, AvgCER: 0.3268, AvgWER: 0.6027: 100%|██████████| 24/24 [00:05<00:00,  4.13it/s]\n",
            "Test  - Epoch: 91, Loss: 33.9766, CER: 0.8618, WER: 0.9920, AvgLoss: 32.3904, AvgCER: 0.8946, AvgWER: 0.9890: 100%|██████████| 120/120 [00:26<00:00,  4.49it/s]\n",
            "Train - Epoch: 92, Loss: 0.2475, CER: 0.0039, WER: 0.0160, AvgLoss: 0.2012, AvgCER: 0.0022, AvgWER: 0.0123: 100%|██████████| 96/96 [00:32<00:00,  2.94it/s]\n",
            "Val   - Epoch: 92, Loss: 11.7286, CER: 0.3211, WER: 0.5600, AvgLoss: 10.9328, AvgCER: 0.3200, AvgWER: 0.5960: 100%|██████████| 24/24 [00:05<00:00,  4.16it/s]\n",
            "Test  - Epoch: 92, Loss: 33.9568, CER: 0.9101, WER: 0.9960, AvgLoss: 32.8109, AvgCER: 0.8850, AvgWER: 0.9885: 100%|██████████| 120/120 [00:27<00:00,  4.44it/s]\n",
            "Train - Epoch: 93, Loss: 0.1169, CER: 0.0008, WER: 0.0080, AvgLoss: 0.1529, AvgCER: 0.0012, AvgWER: 0.0063: 100%|██████████| 96/96 [00:32<00:00,  2.95it/s]\n",
            "Val   - Epoch: 93, Loss: 9.9477, CER: 0.2653, WER: 0.5640, AvgLoss: 11.0971, AvgCER: 0.3224, AvgWER: 0.5950: 100%|██████████| 24/24 [00:05<00:00,  4.09it/s]\n",
            "Test  - Epoch: 93, Loss: 32.8261, CER: 0.8779, WER: 0.9920, AvgLoss: 33.1953, AvgCER: 0.8929, AvgWER: 0.9879: 100%|██████████| 120/120 [00:26<00:00,  4.47it/s]\n",
            "Train - Epoch: 94, Loss: 0.0804, CER: 0.0000, WER: 0.0000, AvgLoss: 0.1264, AvgCER: 0.0009, AvgWER: 0.0041: 100%|██████████| 96/96 [00:32<00:00,  2.95it/s]\n",
            "Val   - Epoch: 94, Loss: 11.3410, CER: 0.3242, WER: 0.6280, AvgLoss: 11.2096, AvgCER: 0.3233, AvgWER: 0.5985: 100%|██████████| 24/24 [00:05<00:00,  4.13it/s]\n",
            "Test  - Epoch: 94, Loss: 34.4790, CER: 0.9210, WER: 0.9800, AvgLoss: 33.5499, AvgCER: 0.8961, AvgWER: 0.9886: 100%|██████████| 120/120 [00:26<00:00,  4.48it/s]\n",
            "Train - Epoch: 95, Loss: 0.0914, CER: 0.0007, WER: 0.0040, AvgLoss: 0.1156, AvgCER: 0.0009, AvgWER: 0.0037: 100%|██████████| 96/96 [00:32<00:00,  2.94it/s]\n",
            "Val   - Epoch: 95, Loss: 12.2831, CER: 0.3330, WER: 0.6080, AvgLoss: 11.2423, AvgCER: 0.3232, AvgWER: 0.5943: 100%|██████████| 24/24 [00:05<00:00,  4.09it/s]\n",
            "Test  - Epoch: 95, Loss: 32.2728, CER: 0.8924, WER: 0.9880, AvgLoss: 33.6945, AvgCER: 0.8968, AvgWER: 0.9891: 100%|██████████| 120/120 [00:27<00:00,  4.43it/s]\n",
            "Train - Epoch: 96, Loss: 0.2085, CER: 0.0028, WER: 0.0120, AvgLoss: 0.1075, AvgCER: 0.0008, AvgWER: 0.0036: 100%|██████████| 96/96 [00:32<00:00,  2.93it/s]\n",
            "Val   - Epoch: 96, Loss: 13.2324, CER: 0.3598, WER: 0.6520, AvgLoss: 11.4649, AvgCER: 0.3242, AvgWER: 0.5970: 100%|██████████| 24/24 [00:05<00:00,  4.05it/s]\n",
            "Test  - Epoch: 96, Loss: 34.5776, CER: 0.9059, WER: 0.9920, AvgLoss: 34.2440, AvgCER: 0.8962, AvgWER: 0.9887: 100%|██████████| 120/120 [00:26<00:00,  4.47it/s]\n",
            "Train - Epoch: 97, Loss: 0.0665, CER: 0.0000, WER: 0.0000, AvgLoss: 0.1032, AvgCER: 0.0008, AvgWER: 0.0033: 100%|██████████| 96/96 [00:32<00:00,  2.94it/s]\n",
            "Val   - Epoch: 97, Loss: 10.8089, CER: 0.3267, WER: 0.5760, AvgLoss: 11.5052, AvgCER: 0.3214, AvgWER: 0.5940: 100%|██████████| 24/24 [00:05<00:00,  4.05it/s]\n",
            "Test  - Epoch: 97, Loss: 34.9586, CER: 0.8735, WER: 0.9840, AvgLoss: 34.4933, AvgCER: 0.8910, AvgWER: 0.9883: 100%|██████████| 120/120 [00:26<00:00,  4.45it/s]\n",
            "Train - Epoch: 98, Loss: 0.0658, CER: 0.0000, WER: 0.0000, AvgLoss: 0.0959, AvgCER: 0.0008, AvgWER: 0.0032: 100%|██████████| 96/96 [00:32<00:00,  2.94it/s]\n",
            "Val   - Epoch: 98, Loss: 11.7005, CER: 0.3149, WER: 0.6200, AvgLoss: 11.6186, AvgCER: 0.3242, AvgWER: 0.5977: 100%|██████████| 24/24 [00:05<00:00,  4.16it/s]\n",
            "Test  - Epoch: 98, Loss: 34.4952, CER: 0.9244, WER: 0.9960, AvgLoss: 34.4997, AvgCER: 0.8886, AvgWER: 0.9888: 100%|██████████| 120/120 [00:27<00:00,  4.42it/s]\n",
            "Train - Epoch: 99, Loss: 0.0626, CER: 0.0000, WER: 0.0000, AvgLoss: 0.0937, AvgCER: 0.0008, AvgWER: 0.0033: 100%|██████████| 96/96 [00:32<00:00,  2.93it/s]\n",
            "Val   - Epoch: 99, Loss: 10.4025, CER: 0.3084, WER: 0.5840, AvgLoss: 11.6161, AvgCER: 0.3219, AvgWER: 0.5990: 100%|██████████| 24/24 [00:05<00:00,  4.19it/s]\n",
            "Test  - Epoch: 99, Loss: 35.9699, CER: 0.8514, WER: 0.9880, AvgLoss: 34.8420, AvgCER: 0.8907, AvgWER: 0.9885: 100%|██████████| 120/120 [00:26<00:00,  4.48it/s]\n"
          ],
          "name": "stderr"
        }
      ]
    },
    {
      "cell_type": "markdown",
      "metadata": {
        "id": "BAa-Aehnoxv2",
        "colab_type": "text"
      },
      "source": [
        "### Results"
      ]
    },
    {
      "cell_type": "code",
      "metadata": {
        "id": "oNjjqL7how2Q",
        "colab_type": "code",
        "outputId": "cb461694-47f6-4721-8eae-61dd9763adf7",
        "colab": {
          "base_uri": "https://localhost:8080/",
          "height": 366
        }
      },
      "source": [
        "plt.title('Loss: Rimes to IAM')\n",
        "plt.xlabel('Epochs')\n",
        "plt.ylabel('Loss')\n",
        "plt.plot(rimes_to_iam_losses[0], label='Rimes Train')\n",
        "plt.plot(rimes_to_iam_losses[1], label='Rimes Val')\n",
        "plt.plot(rimes_to_iam_losses[2], label='IAM')\n",
        "plt.legend()\n",
        "plt.show()\n",
        "print('Train:', rimes_to_iam_losses[0])\n",
        "print('Val:', rimes_to_iam_losses[1])\n",
        "print('Test:', rimes_to_iam_losses[2])"
      ],
      "execution_count": 0,
      "outputs": [
        {
          "output_type": "display_data",
          "data": {
            "image/png": "[encoded data removed]",
            "text/plain": [
              "<Figure size 432x288 with 1 Axes>"
            ]
          },
          "metadata": {
            "tags": []
          }
        },
        {
          "output_type": "stream",
          "text": [
            "Train: [30.420798937479656, 17.389217754205067, 19.459588527679443, 17.327002217372257, 16.423241247733433, 15.874862680832544, 15.28619239727656, 14.580526570479075, 14.137240966161093, 13.881320168574652, 13.565908869107565, 13.270052015781403, 13.058069626490274, 12.808153480291367, 12.563635498285294, 12.370587488015493, 12.128782361745834, 11.87898787856102, 11.641114691893259, 11.452481577793757, 11.204694559176763, 10.989793638388315, 10.715489765008291, 10.505810489257177, 10.22585109869639, 9.98928133646647, 9.78399113814036, 9.49799088637034, 9.318909168243408, 9.073429842789968, 8.860515197118124, 8.600726306438446, 8.37596740325292, 8.08879184226195, 7.865925704439481, 7.658558666706085, 7.408094048500061, 7.1868923256794615, 6.955196291208267, 6.728188460071881, 6.487294976909955, 6.355518847703934, 6.101044113437335, 5.870999013384183, 5.648304685950279, 5.442437767982483, 5.227690880497296, 5.042979396879673, 4.811105820039908, 4.661197021603584, 4.553656950592995, 4.297370187938213, 4.19090652714173, 3.9811007728179297, 3.798183816174666, 3.565800348917643, 3.4731692373752594, 3.3170576319098473, 3.146517107884089, 2.9910281946261725, 2.7951462840040526, 2.6719273750980697, 2.579443042476972, 2.4562111472090087, 2.2874637879431248, 2.294808253645897, 2.0389341736833253, 1.9463435399035613, 1.837254219998916, 1.7118459281822045, 1.659254975616932, 1.4992467959721882, 1.5173182326058547, 1.413132054110368, 1.2429958414286375, 1.2596614093830187, 1.21260217577219, 1.050287114456296, 0.9923994801938534, 0.9085625701894363, 0.8321749220291773, 0.8577810792873303, 0.8209708066036304, 0.7632409042368332, 0.753828277811408, 0.880714854846398, 0.8239453000326952, 0.6876446033517519, 0.5480373778070012, 0.4189942826827367, 0.31217545255397755, 0.24232918753599128, 0.20120259172593555, 0.15292012924328446, 0.1263805265383174, 0.11562873236835003, 0.10746124867970745, 0.10322900659715135, 0.09585626167245209, 0.09366534173022956]\n",
            "Val: [18.1715985139211, 17.009345451990765, 17.786271969477337, 17.03419593969981, 16.407193581263225, 15.721277157465616, 15.092175881067911, 14.34083358446757, 14.114433685938517, 13.81387480099996, 13.638239026069641, 13.222445845603943, 12.999352614084879, 12.768982529640198, 12.58555273214976, 12.278172334035238, 12.114541212717691, 11.926324486732483, 11.823880791664124, 11.542457660039267, 11.349364995956421, 11.192049185434977, 10.93182106812795, 10.663341482480368, 10.515570123990377, 10.275366425514221, 10.018856724103292, 10.056538899739584, 9.704079548517862, 9.691897948582968, 9.399172643820444, 9.330112020174662, 9.050272901852926, 9.044981320699057, 8.81760581334432, 8.677611728509268, 8.610945900281271, 8.486506243546804, 8.233952363332113, 8.230760951836904, 8.065452456474304, 8.038380324840546, 7.789387504259746, 7.871056377887726, 7.596144258975983, 7.671922028064728, 7.681246817111969, 7.515359918276469, 7.6078236897786455, 7.762126127878825, 7.478096882502238, 7.636901597181956, 7.721529185771942, 7.535656412442525, 7.580420215924581, 7.6613796552022295, 7.588636418183644, 7.634285966555278, 7.713587363560994, 7.812738478183746, 7.795810540517171, 7.951738735040029, 8.034042596817017, 8.134429713090261, 8.252943297227224, 8.198671181996664, 8.357185006141663, 8.413695375124613, 8.542217234770456, 8.696323772271475, 8.834356486797333, 8.706982731819153, 8.939483602841696, 8.975007851918539, 9.10236922899882, 9.31345788637797, 9.312702139218649, 9.379924595355988, 9.555113275845846, 9.627903878688812, 9.688310662905375, 9.941921850045523, 10.050867160161337, 10.183427850405375, 10.299435218175253, 10.35270619392395, 10.416646281878153, 10.480337421099344, 10.567430178324381, 10.726818283398947, 10.81716493765513, 10.937227567036947, 10.93277895450592, 11.09707510471344, 11.209593852361044, 11.242326259613037, 11.464863061904907, 11.50517475605011, 11.618635098139444, 11.61605934302012]\n",
            "Test: [17.860344966252644, 18.109380563100178, 18.69366035461426, 18.400718275705973, 18.048032903671263, 17.73148407936096, 17.652493023872374, 17.58951514561971, 17.984661960601805, 18.01242642402649, 18.26179526646932, 17.77443307240804, 17.516716289520264, 17.44309074083964, 17.808767636617024, 17.80663119951884, 17.81097633043925, 17.714191897710165, 17.60349548657735, 17.845303614934284, 17.90859653155009, 17.964207649230957, 17.750713268915813, 17.588024425506593, 17.637529373168945, 17.879098637898764, 17.922107410430907, 17.744169394175213, 17.794556617736816, 18.350498882929482, 17.746698681513468, 18.455121803283692, 17.99058855374654, 17.782186237970986, 18.03996820449829, 18.466593758265176, 17.872942622502645, 18.36060865720113, 18.193232901891072, 18.272082885106403, 18.653790553410847, 18.464804204305015, 18.71533687909444, 18.49573278427124, 18.731590922673544, 19.22368313471476, 19.224851242701213, 19.56081132888794, 19.793362394968668, 20.160291528701784, 19.880908155441283, 20.00576785405477, 20.890399328867595, 20.369100475311278, 21.341710805892944, 21.201069529851278, 20.81691379547119, 21.361982425053913, 21.830507008234658, 22.04735450744629, 22.145514933268228, 22.51980080604553, 23.064648548762005, 23.25669337908427, 23.518050781885783, 23.487798277537028, 24.04520502090454, 24.48580463727315, 24.279518858591715, 25.10022053718567, 25.731530888875326, 25.623551241556804, 25.9459405263265, 26.421229139963785, 26.586072794596355, 27.557163794835407, 27.35275934537252, 27.557543341318766, 28.101417366663615, 28.957734727859496, 28.98653925259908, 29.287698856989543, 29.548511505126953, 29.149626588821413, 29.548999961217245, 30.44745504061381, 29.992947912216188, 30.992002725601196, 30.78271617889404, 31.663665056228638, 32.152671845753986, 32.39035388628642, 32.810892486572264, 33.19534362157186, 33.549884176254274, 33.69449815750122, 34.244045925140384, 34.49327300389608, 34.49972194035848, 34.8420224348704]\n"
          ],
          "name": "stdout"
        }
      ]
    },
    {
      "cell_type": "code",
      "metadata": {
        "id": "VtAg6sG3pFRh",
        "colab_type": "code",
        "outputId": "86aa4195-e5c8-457b-c608-4b3c5de4d449",
        "colab": {
          "base_uri": "https://localhost:8080/",
          "height": 366
        }
      },
      "source": [
        "plt.title('Character Error Rate: Rimes to IAM')\n",
        "plt.xlabel('Epochs')\n",
        "plt.ylabel('Character Error Rate')\n",
        "plt.plot(rimes_to_iam_cers[0], label='Rimes Train')\n",
        "plt.plot(rimes_to_iam_cers[1], label='Rimes Val')\n",
        "plt.plot(rimes_to_iam_cers[2], label='IAM')\n",
        "plt.legend()\n",
        "plt.show()\n",
        "print('Train:', rimes_to_iam_cers[0])\n",
        "print('Val:', rimes_to_iam_cers[1])\n",
        "print('Test:', rimes_to_iam_cers[2])"
      ],
      "execution_count": 0,
      "outputs": [
        {
          "output_type": "display_data",
          "data": {
            "image/png": "[encoded data removed]",
            "text/plain": [
              "<Figure size 432x288 with 1 Axes>"
            ]
          },
          "metadata": {
            "tags": []
          }
        },
        {
          "output_type": "stream",
          "text": [
            "Train: [1.208376519123578, 0.9780860597735598, 1.0472813647001147, 0.9509903014809264, 0.857780333497521, 0.8246861216908092, 0.8078997022143163, 0.769536981700217, 0.7480044879446535, 0.7350660298647432, 0.7187707642167201, 0.6990905938662372, 0.6858380210509806, 0.6725579779867462, 0.6563778359406117, 0.6482202332253802, 0.6322301230972186, 0.6174250090391634, 0.6013956329175998, 0.5903625855421811, 0.5741550935209943, 0.5617867919219941, 0.5453909767350025, 0.5309708859937721, 0.518231209252349, 0.502615570326324, 0.49160525054330195, 0.47279177168487835, 0.46458739687599976, 0.4500225449625266, 0.4391884593313821, 0.42257819745273784, 0.4098722731686886, 0.39708618658710576, 0.38261839313668355, 0.37109343491815916, 0.35679402196387483, 0.3457445296159451, 0.3340934204582182, 0.321969394409376, 0.30872886096746394, 0.3046925277575094, 0.29089292529366056, 0.2801421002336444, 0.2690396536061977, 0.2589703405356898, 0.24807465265195042, 0.24034098457370515, 0.2276236268497298, 0.22116092735559648, 0.21762062896254072, 0.2024087280638751, 0.19938114857636915, 0.189222985079327, 0.17921370292629488, 0.16772884183830875, 0.16433689704222793, 0.15609668190945764, 0.14806631798552752, 0.1395782005644138, 0.12897146360923936, 0.12419638832028539, 0.11929625350140056, 0.1134631835790843, 0.10579861972858295, 0.10874828401105975, 0.09243601601965573, 0.08846216227604094, 0.08248073855950694, 0.07672094365669734, 0.07502532229820832, 0.06554040825391928, 0.06894882856114473, 0.06250717118529618, 0.05211277408933659, 0.05587160099228114, 0.054318992465867466, 0.04358834375727758, 0.04140582977412021, 0.036743707058872505, 0.03295426987568532, 0.035573082445876564, 0.03420688061597988, 0.030554863913319796, 0.031138908888633157, 0.04171028071193512, 0.037522581455853514, 0.030071557364204426, 0.020057715660564926, 0.012404523883659915, 0.00628450470757456, 0.003472502728752729, 0.0021500606623768384, 0.0012004434223184225, 0.0008865099021349021, 0.0008639580327080327, 0.0008198623136123137, 0.0007837301587301587, 0.0007877314814814816, 0.0007966435185185186]\n",
            "Val: [1.0, 0.999920634920635, 1.0, 0.9399600098975099, 0.8196996457246457, 0.7986127496893944, 0.7895992534633981, 0.7492865976859399, 0.749064862939205, 0.7348435997116919, 0.7151728540221961, 0.6878333554116448, 0.680689477530267, 0.6603786963280384, 0.6620579934198355, 0.6334625744869166, 0.624140060889403, 0.6127123526327474, 0.6083339772435167, 0.5927053439859361, 0.5761191671145619, 0.5647658842862789, 0.5569214556520478, 0.5267530616922064, 0.5239409499613447, 0.5100007596813517, 0.4945098013341435, 0.5007217160398082, 0.4777439675456123, 0.47125685413514357, 0.45548492496781967, 0.4461533937066832, 0.43378653880232826, 0.43506102603536817, 0.4154009153127574, 0.4058210828158197, 0.4053058190591085, 0.39748989300173515, 0.3876240684875553, 0.3870788543571438, 0.3759339440895362, 0.37239581702410646, 0.36221676222169646, 0.3643439642472537, 0.34488977908056856, 0.3477994760113181, 0.35182935408889354, 0.3449127722910618, 0.34637007410231097, 0.34359708728162675, 0.33666829061533016, 0.33717741051589734, 0.3385460706204128, 0.3318625975510844, 0.32716600554659764, 0.32873966431959856, 0.3333634308917204, 0.32866873261971946, 0.3290706231512152, 0.3235216561459982, 0.3311430155736077, 0.3257539994970916, 0.3319840776913145, 0.3268971876442271, 0.33337819575648525, 0.3265033097628492, 0.32908278962752646, 0.3307989325732747, 0.33702862356941304, 0.3325635697879119, 0.3278763602382024, 0.3269648502204423, 0.33202291267455736, 0.3310105663951059, 0.33712709237643446, 0.32997657214861165, 0.33225582105516316, 0.3303022894016315, 0.32503581675390886, 0.33042804397113607, 0.3287337514580935, 0.3324597957841378, 0.33339209505163453, 0.33787626056935266, 0.3408900576518998, 0.32740812092391036, 0.3361585720079141, 0.3252749925634794, 0.32958496546095223, 0.32619252341226024, 0.32083599143303093, 0.32680471877050826, 0.3199814629449498, 0.32237413514847724, 0.32328562759121965, 0.3231650636644058, 0.3242495520926442, 0.32135267304576515, 0.32418323392007603, 0.32191913019972235]\n",
            "Test: [1.0, 0.9993029365079366, 1.0, 0.9723207232310174, 0.9824646593276005, 1.0325080361856638, 1.0292283674645788, 1.0206535648441684, 1.0099887385885529, 1.001424977753871, 1.008353111814799, 0.9843679033950512, 0.9422288346587766, 0.9539250804344147, 0.9639489535077924, 0.9569815877063825, 0.9608826545888467, 0.9784197189732639, 0.91306530514635, 0.9476836432896881, 0.9963917494088587, 0.9306529222019239, 0.9330723826454477, 0.926719696432595, 0.9197914513082662, 0.9474081637951259, 0.932247091052509, 0.9071108786333206, 0.9174941287029678, 0.9034055947369336, 0.9187199750441624, 0.9247584961479584, 0.8859250388249807, 0.894489161018147, 0.8884601470263196, 0.9048649413795699, 0.8788052662861449, 0.8956274993172748, 0.8969505342282703, 0.8937898622049318, 0.8716871163975344, 0.8578513990749246, 0.8992236292813653, 0.8981539866453062, 0.893084655314872, 0.9044117206772702, 0.8833861531634286, 0.9123409790340093, 0.9059919642524944, 0.8877993893430269, 0.9066759680776166, 0.8801101782641451, 0.8813347559856151, 0.8907954937561866, 0.9143193356773658, 0.9054381902059069, 0.9201233802901605, 0.9041747335889945, 0.9103781892020087, 0.8765799270631044, 0.9083164420805946, 0.8911361501129302, 0.915939778167166, 0.9019587394353725, 0.8793374821877182, 0.8868406085813052, 0.9115708593681001, 0.905223970404667, 0.9277974051249748, 0.8901249396411122, 0.9018984639700971, 0.8872177641606472, 0.9027462811991642, 0.9136719324787127, 0.9244017193394554, 0.9047440786107311, 0.9080947540688872, 0.9003086911176771, 0.894805542683867, 0.9053667660213597, 0.8970887496566327, 0.9106037970045091, 0.9117679449656813, 0.9048941655472151, 0.9086558698920618, 0.9093106818584179, 0.8909467138064894, 0.8965096134687466, 0.8976525065614926, 0.8956562665358949, 0.8896289941479802, 0.8946136186935412, 0.8849525569720383, 0.8928817265252521, 0.8960906930217185, 0.8968283752659449, 0.8961881018166272, 0.8909758691146887, 0.8885846337433063, 0.8907116341829538]\n"
          ],
          "name": "stdout"
        }
      ]
    },
    {
      "cell_type": "code",
      "metadata": {
        "id": "47k6LKJ_pRc6",
        "colab_type": "code",
        "outputId": "febb9611-26fb-48e8-dd50-51aa4c94ad0c",
        "colab": {
          "base_uri": "https://localhost:8080/",
          "height": 366
        }
      },
      "source": [
        "plt.title('Word Error Rate: Rimes to IAM')\n",
        "plt.xlabel('Epochs')\n",
        "plt.ylabel('Word Error Rate')\n",
        "plt.plot(rimes_to_iam_wers[0], label='Rimes Train')\n",
        "plt.plot(rimes_to_iam_wers[1], label='Rimes Val')\n",
        "plt.plot(rimes_to_iam_wers[2], label='IAM')\n",
        "plt.legend()\n",
        "plt.show()\n",
        "print('Train:', rimes_to_iam_wers[0])\n",
        "print('Val:', rimes_to_iam_wers[1])\n",
        "print('Test:', rimes_to_iam_wers[2])"
      ],
      "execution_count": 0,
      "outputs": [
        {
          "output_type": "display_data",
          "data": {
            "image/png": "[encoded data removed]",
            "text/plain": [
              "<Figure size 432x288 with 1 Axes>"
            ]
          },
          "metadata": {
            "tags": []
          }
        },
        {
          "output_type": "stream",
          "text": [
            "Train: [1.0107083333333333, 1.0, 1.0006666666666666, 0.9978333333333333, 0.9550833333333334, 0.933875, 0.9311250000000001, 0.9204583333333334, 0.9200416666666668, 0.9149583333333334, 0.9056250000000002, 0.8925000000000001, 0.8852500000000001, 0.87475, 0.8682500000000001, 0.8636666666666667, 0.8543750000000001, 0.8466250000000001, 0.8380000000000001, 0.8310416666666667, 0.8207083333333333, 0.812625, 0.8027083333333334, 0.792625, 0.7845416666666667, 0.7724166666666666, 0.7634166666666667, 0.74575, 0.7419583333333334, 0.7272500000000001, 0.7171249999999999, 0.7035, 0.6888333333333332, 0.6795416666666666, 0.6663749999999999, 0.6539166666666666, 0.6383333333333333, 0.6305, 0.62, 0.6049999999999999, 0.5911666666666666, 0.5898333333333333, 0.5760833333333334, 0.5635833333333333, 0.5518333333333333, 0.5405416666666666, 0.5281666666666667, 0.5188333333333334, 0.504625, 0.49629166666666663, 0.49299999999999994, 0.4739583333333333, 0.4708333333333334, 0.4590416666666666, 0.4467083333333333, 0.4277916666666666, 0.42487499999999995, 0.4124999999999999, 0.3982083333333333, 0.3868333333333333, 0.37070833333333325, 0.36174999999999996, 0.35670833333333335, 0.34612499999999996, 0.3293333333333333, 0.337625, 0.306625, 0.2995833333333333, 0.28383333333333327, 0.2720416666666666, 0.2700833333333333, 0.24616666666666667, 0.25499999999999995, 0.24, 0.21241666666666667, 0.22275000000000003, 0.21554166666666666, 0.18499999999999997, 0.17704166666666665, 0.16270833333333332, 0.14679166666666665, 0.15749999999999997, 0.1542083333333333, 0.14054166666666665, 0.14166666666666664, 0.17966666666666667, 0.16558333333333333, 0.13829166666666667, 0.10145833333333333, 0.06358333333333334, 0.035291666666666666, 0.019791666666666666, 0.012333333333333335, 0.006250000000000001, 0.004125, 0.00375, 0.0035833333333333338, 0.003333333333333334, 0.003208333333333334, 0.0032500000000000007]\n",
            "Val: [1.0, 1.0, 1.0, 1.0, 0.9333333333333332, 0.9315000000000001, 0.9255, 0.916, 0.9161666666666668, 0.9078333333333335, 0.8950000000000001, 0.883, 0.887, 0.8683333333333335, 0.8663333333333334, 0.8518333333333334, 0.8504999999999999, 0.8485, 0.8435, 0.8390000000000001, 0.8318333333333334, 0.8170000000000001, 0.8048333333333333, 0.7863333333333333, 0.7853333333333333, 0.7716666666666668, 0.7610000000000001, 0.7746666666666666, 0.7393333333333333, 0.7448333333333333, 0.7314999999999999, 0.7176666666666666, 0.7065, 0.711, 0.6876666666666668, 0.6754999999999999, 0.6834999999999999, 0.6711666666666666, 0.6618333333333334, 0.6601666666666667, 0.6511666666666667, 0.6576666666666666, 0.6313333333333333, 0.6396666666666667, 0.6163333333333333, 0.6215, 0.6291666666666667, 0.6126666666666666, 0.6168333333333333, 0.624, 0.6104999999999999, 0.6191666666666666, 0.6121666666666666, 0.6098333333333333, 0.5995, 0.602, 0.6071666666666666, 0.5951666666666666, 0.5963333333333333, 0.6, 0.601, 0.5991666666666666, 0.5991666666666667, 0.5946666666666667, 0.6128333333333332, 0.5998333333333333, 0.603, 0.6033333333333334, 0.6094999999999999, 0.61, 0.6064999999999999, 0.5956666666666667, 0.6018333333333333, 0.6078333333333333, 0.6053333333333333, 0.6018333333333333, 0.6038333333333333, 0.6023333333333333, 0.6, 0.6036666666666667, 0.6036666666666667, 0.6083333333333334, 0.6133333333333333, 0.6088333333333332, 0.6186666666666667, 0.6031666666666666, 0.6128333333333333, 0.6, 0.6053333333333333, 0.604, 0.5955, 0.6026666666666666, 0.596, 0.595, 0.5985, 0.5943333333333333, 0.597, 0.594, 0.5976666666666666, 0.5989999999999999]\n",
            "Test: [1.0, 1.0, 1.0, 1.0, 0.9997666666666667, 0.9997666666666667, 0.9998333333333334, 0.9998333333333334, 0.9997666666666667, 0.9998, 0.9997666666666667, 0.9997666666666667, 0.9997, 0.9989666666666667, 0.9994, 0.9991666666666668, 0.9994666666666667, 0.9994333333333334, 0.9995, 0.9981666666666666, 0.9990333333333334, 0.9986333333333335, 0.9977, 0.9985000000000002, 0.9980000000000001, 0.9961000000000001, 0.9987333333333335, 0.9988333333333335, 0.9982000000000001, 0.9985000000000002, 0.9978000000000001, 0.9986, 0.9968000000000001, 0.9937333333333335, 0.9916, 0.9937666666666668, 0.9914333333333334, 0.9951333333333334, 0.9891666666666669, 0.9930666666666668, 0.9895666666666666, 0.9876666666666665, 0.9895666666666666, 0.9913666666666666, 0.9919666666666668, 0.9915333333333334, 0.9887333333333334, 0.9897000000000001, 0.9892, 0.9905333333333334, 0.9881333333333333, 0.9880666666666668, 0.9883333333333333, 0.9869333333333333, 0.9889, 0.9893000000000001, 0.9888666666666666, 0.9891, 0.9888, 0.9874333333333333, 0.9900333333333333, 0.9886333333333334, 0.991, 0.9898000000000001, 0.9883333333333333, 0.9883666666666667, 0.9899666666666666, 0.9892333333333333, 0.9894999999999999, 0.9892333333333333, 0.9905666666666666, 0.9878666666666667, 0.9870333333333334, 0.9883000000000001, 0.9889333333333334, 0.9913666666666667, 0.9883333333333333, 0.9897666666666666, 0.9884333333333333, 0.988, 0.9879333333333332, 0.9892000000000001, 0.9902333333333334, 0.9900000000000001, 0.9890000000000001, 0.9891333333333333, 0.9887333333333334, 0.9878666666666666, 0.9890333333333334, 0.9885666666666667, 0.9893000000000001, 0.9890000000000001, 0.9884666666666667, 0.9878666666666667, 0.9886, 0.9891000000000001, 0.9887, 0.9882666666666667, 0.9888333333333333, 0.9885333333333333]\n"
          ],
          "name": "stdout"
        }
      ]
    },
    {
      "cell_type": "markdown",
      "metadata": {
        "id": "3DPTVuJpR6Dl",
        "colab_type": "text"
      },
      "source": [
        "# Training IAM HWR for Ensemble Self-Supervision\n",
        "\n"
      ]
    },
    {
      "cell_type": "code",
      "metadata": {
        "id": "ZWTlDEV7SWud",
        "colab_type": "code",
        "colab": {}
      },
      "source": [
        "def hwr_train(train_dataset, val_dataset):\n",
        "  try:\n",
        "    EPOCHS = 70\n",
        "    BATCH_SIZE = 250\n",
        "    ITERATION_SAMPLE = 3000\n",
        "    SEQUENCE_SIZE = 20\n",
        "\n",
        "    train_loader = DataLoader(train_dataset, batch_size=BATCH_SIZE, shuffle=True, num_workers=4)\n",
        "    val_loader = DataLoader(val_dataset, batch_size=BATCH_SIZE, shuffle=True, num_workers=4)\n",
        "\n",
        "    encoder = Encoder(sequence_size=SEQUENCE_SIZE)\n",
        "    recognizer = Recognizer(sequence_size=SEQUENCE_SIZE).cuda()\n",
        "    \n",
        "    optimizer = optim.Adam(recognizer.parameters(), lr=1e-3)\n",
        "    scheduler = optim.lr_scheduler.ReduceLROnPlateau(optimizer, factor=.1, patience=2)\n",
        "\n",
        "    objective = nn.CTCLoss(blank=0, reduction='none', zero_infinity=True)\n",
        "\n",
        "    train_losses_epochs = []\n",
        "    val_losses_epochs = []\n",
        "\n",
        "    for epoch in range(EPOCHS):\n",
        "      train_losses = []\n",
        "      val_losses = []\n",
        "\n",
        "      # Training Loop\n",
        "      recognizer = recognizer.train()\n",
        "      train_loop = tqdm(total=len(train_loader), position=0, leave=True)\n",
        "      for batch_num, (imgs, words) in enumerate(train_loader):\n",
        "        batch_size = imgs.shape[0]\n",
        "\n",
        "        idxs, word_lengths = encoder.str_to_idxs_batch(words)\n",
        "        imgs, labels = imgs.cuda(), torch.tensor(idxs).cuda()\n",
        "\n",
        "        input_lengths = torch.full((batch_size,), SEQUENCE_SIZE, dtype=torch.long).cuda()\n",
        "        target_lengths = torch.tensor(word_lengths).cuda()\n",
        "\n",
        "        preds = recognizer(imgs)\n",
        "\n",
        "        loss = objective(preds, labels, input_lengths, target_lengths)\n",
        "        loss = torch.mean(loss)\n",
        "\n",
        "        optimizer.zero_grad()\n",
        "        loss.backward()\n",
        "        optimizer.step()\n",
        "\n",
        "        train_losses.append(loss.item())\n",
        "\n",
        "        train_loop.set_description('Train - Epoch: {}, Loss: {:.4f}, AvgLoss: {:.4f}'.format(epoch, loss.item(), np.mean(train_losses)))\n",
        "        train_loop.update(1)\n",
        "      \n",
        "      train_loop.close()\n",
        "\n",
        "      # Validation Loop\n",
        "      recognizer = recognizer.eval()\n",
        "      val_loop = tqdm(total=len(val_loader), position=0, leave=True)\n",
        "      for batch_num, (imgs, words) in enumerate(val_loader):\n",
        "        with torch.no_grad():\n",
        "          batch_size = imgs.shape[0]\n",
        "\n",
        "          idxs, word_lengths = encoder.str_to_idxs_batch(words)\n",
        "          imgs, labels = imgs.cuda(), torch.tensor(idxs).cuda()\n",
        "\n",
        "          input_lengths = torch.full((batch_size,), SEQUENCE_SIZE, dtype=torch.long).cuda()\n",
        "          target_lengths = torch.tensor(word_lengths).cuda()\n",
        "\n",
        "          preds = recognizer(imgs)\n",
        "\n",
        "          loss = objective(preds, labels, input_lengths, target_lengths)\n",
        "          loss = torch.mean(loss)\n",
        "          val_losses.append(loss.item())\n",
        "\n",
        "          val_loop.set_description('Val   - Epoch: {}, Loss: {:.4f}, AvgLoss: {:.4f}'.format(epoch, loss.item(), np.mean(val_losses)))\n",
        "          val_loop.update(1)\n",
        "\n",
        "      val_loop.close()\n",
        "\n",
        "      scheduler.step(np.mean(val_losses))\n",
        "\n",
        "      train_losses_epochs.append(np.mean(train_losses))\n",
        "      val_losses_epochs.append(np.mean(val_losses))\n",
        "\n",
        "  except:\n",
        "    __ITB__()\n",
        "    gc.collect()\n",
        "  finally:\n",
        "    return recognizer, (train_losses_epochs, val_losses_epochs)"
      ],
      "execution_count": 0,
      "outputs": []
    },
    {
      "cell_type": "code",
      "metadata": {
        "id": "ONzUSEs3Vqjs",
        "colab_type": "code",
        "outputId": "ceb20fb4-2a3e-4cc3-f9c6-5674f44e1bc1",
        "colab": {
          "base_uri": "https://localhost:8080/"
        }
      },
      "source": [
        "iam_dataset = IamDataset(desired_size=(32, 128), total_imgs=30000)\n",
        "iam_train_dataset, iam_val_dataset = torch.utils.data.random_split(iam_dataset, [24000, 6000])\n",
        "\n",
        "hwr_recognizer, losses = hwr_train(iam_train_dataset, iam_val_dataset)"
      ],
      "execution_count": 0,
      "outputs": [
        {
          "output_type": "stream",
          "text": [
            "Train - Epoch: 0, Loss: 15.9422, AvgLoss: 24.3672: 100%|██████████| 96/96 [00:26<00:00,  3.57it/s]\n",
            "Val   - Epoch: 0, Loss: 15.5959, AvgLoss: 16.4245: 100%|██████████| 24/24 [00:04<00:00,  5.69it/s]\n",
            "Train - Epoch: 1, Loss: 17.0052, AvgLoss: 16.1313: 100%|██████████| 96/96 [00:26<00:00,  3.63it/s]\n",
            "Val   - Epoch: 1, Loss: 17.2145, AvgLoss: 15.8277: 100%|██████████| 24/24 [00:04<00:00,  5.79it/s]\n",
            "Train - Epoch: 2, Loss: 15.6356, AvgLoss: 15.7897: 100%|██████████| 96/96 [00:26<00:00,  3.62it/s]\n",
            "Val   - Epoch: 2, Loss: 16.1541, AvgLoss: 15.6409: 100%|██████████| 24/24 [00:04<00:00,  5.74it/s]\n",
            "Train - Epoch: 3, Loss: 15.3493, AvgLoss: 15.6424: 100%|██████████| 96/96 [00:26<00:00,  3.65it/s]\n",
            "Val   - Epoch: 3, Loss: 14.6574, AvgLoss: 15.5125: 100%|██████████| 24/24 [00:04<00:00,  5.86it/s]\n",
            "Train - Epoch: 4, Loss: 14.6679, AvgLoss: 15.6358: 100%|██████████| 96/96 [00:26<00:00,  3.64it/s]\n",
            "Val   - Epoch: 4, Loss: 14.8620, AvgLoss: 15.4801: 100%|██████████| 24/24 [00:04<00:00,  5.83it/s]\n",
            "Train - Epoch: 5, Loss: 15.0308, AvgLoss: 15.4890: 100%|██████████| 96/96 [00:26<00:00,  3.64it/s]\n",
            "Val   - Epoch: 5, Loss: 15.3812, AvgLoss: 14.9330: 100%|██████████| 24/24 [00:04<00:00,  5.85it/s]\n",
            "Train - Epoch: 6, Loss: 15.0282, AvgLoss: 15.1410: 100%|██████████| 96/96 [00:26<00:00,  3.66it/s]\n",
            "Val   - Epoch: 6, Loss: 14.4787, AvgLoss: 14.3649: 100%|██████████| 24/24 [00:04<00:00,  5.86it/s]\n",
            "Train - Epoch: 7, Loss: 13.3273, AvgLoss: 14.1404: 100%|██████████| 96/96 [00:26<00:00,  3.67it/s]\n",
            "Val   - Epoch: 7, Loss: 14.2086, AvgLoss: 13.6006: 100%|██████████| 24/24 [00:04<00:00,  5.95it/s]\n",
            "Train - Epoch: 8, Loss: 12.9021, AvgLoss: 13.5191: 100%|██████████| 96/96 [00:26<00:00,  3.66it/s]\n",
            "Val   - Epoch: 8, Loss: 12.2737, AvgLoss: 13.1867: 100%|██████████| 24/24 [00:04<00:00,  5.85it/s]\n",
            "Train - Epoch: 9, Loss: 12.9767, AvgLoss: 13.1659: 100%|██████████| 96/96 [00:26<00:00,  3.68it/s]\n",
            "Val   - Epoch: 9, Loss: 13.1443, AvgLoss: 12.9612: 100%|██████████| 24/24 [00:04<00:00,  5.97it/s]\n",
            "Train - Epoch: 10, Loss: 13.3133, AvgLoss: 12.9230: 100%|██████████| 96/96 [00:26<00:00,  3.65it/s]\n",
            "Val   - Epoch: 10, Loss: 13.3313, AvgLoss: 12.7817: 100%|██████████| 24/24 [00:04<00:00,  5.97it/s]\n",
            "Train - Epoch: 11, Loss: 12.6492, AvgLoss: 12.6858: 100%|██████████| 96/96 [00:26<00:00,  3.68it/s]\n",
            "Val   - Epoch: 11, Loss: 12.1620, AvgLoss: 12.5297: 100%|██████████| 24/24 [00:04<00:00,  5.89it/s]\n",
            "Train - Epoch: 12, Loss: 11.8486, AvgLoss: 12.4865: 100%|██████████| 96/96 [00:26<00:00,  3.68it/s]\n",
            "Val   - Epoch: 12, Loss: 12.4293, AvgLoss: 12.2761: 100%|██████████| 24/24 [00:04<00:00,  5.94it/s]\n",
            "Train - Epoch: 13, Loss: 12.6293, AvgLoss: 12.2332: 100%|██████████| 96/96 [00:26<00:00,  3.67it/s]\n",
            "Val   - Epoch: 13, Loss: 11.7780, AvgLoss: 12.0983: 100%|██████████| 24/24 [00:04<00:00,  5.91it/s]\n",
            "Train - Epoch: 14, Loss: 12.0443, AvgLoss: 12.0290: 100%|██████████| 96/96 [00:26<00:00,  3.68it/s]\n",
            "Val   - Epoch: 14, Loss: 11.4834, AvgLoss: 11.8115: 100%|██████████| 24/24 [00:03<00:00,  6.00it/s]\n",
            "Train - Epoch: 15, Loss: 11.4858, AvgLoss: 11.8361: 100%|██████████| 96/96 [00:25<00:00,  3.70it/s]\n",
            "Val   - Epoch: 15, Loss: 11.5915, AvgLoss: 11.6876: 100%|██████████| 24/24 [00:03<00:00,  6.06it/s]\n",
            "Train - Epoch: 16, Loss: 11.2171, AvgLoss: 11.6607: 100%|██████████| 96/96 [00:26<00:00,  3.67it/s]\n",
            "Val   - Epoch: 16, Loss: 10.4412, AvgLoss: 11.5248: 100%|██████████| 24/24 [00:03<00:00,  6.03it/s]\n",
            "Train - Epoch: 17, Loss: 10.9490, AvgLoss: 11.4514: 100%|██████████| 96/96 [00:26<00:00,  3.69it/s]\n",
            "Val   - Epoch: 17, Loss: 12.0221, AvgLoss: 11.4005: 100%|██████████| 24/24 [00:04<00:00,  5.95it/s]\n",
            "Train - Epoch: 18, Loss: 11.5257, AvgLoss: 11.2680: 100%|██████████| 96/96 [00:26<00:00,  3.68it/s]\n",
            "Val   - Epoch: 18, Loss: 11.4585, AvgLoss: 11.1608: 100%|██████████| 24/24 [00:03<00:00,  6.05it/s]\n",
            "Train - Epoch: 19, Loss: 12.2154, AvgLoss: 11.0478: 100%|██████████| 96/96 [00:26<00:00,  3.68it/s]\n",
            "Val   - Epoch: 19, Loss: 11.1983, AvgLoss: 11.0201: 100%|██████████| 24/24 [00:04<00:00,  5.94it/s]\n",
            "Train - Epoch: 20, Loss: 9.6261, AvgLoss: 10.8669: 100%|██████████| 96/96 [00:26<00:00,  3.68it/s]\n",
            "Val   - Epoch: 20, Loss: 11.2903, AvgLoss: 10.7107: 100%|██████████| 24/24 [00:04<00:00,  5.89it/s]\n",
            "Train - Epoch: 21, Loss: 10.4897, AvgLoss: 10.7183: 100%|██████████| 96/96 [00:26<00:00,  3.67it/s]\n",
            "Val   - Epoch: 21, Loss: 11.7014, AvgLoss: 10.5859: 100%|██████████| 24/24 [00:04<00:00,  5.95it/s]\n",
            "Train - Epoch: 22, Loss: 10.5381, AvgLoss: 10.4952: 100%|██████████| 96/96 [00:26<00:00,  3.68it/s]\n",
            "Val   - Epoch: 22, Loss: 11.4013, AvgLoss: 10.3863: 100%|██████████| 24/24 [00:04<00:00,  5.98it/s]\n",
            "Train - Epoch: 23, Loss: 9.7011, AvgLoss: 10.3005: 100%|██████████| 96/96 [00:26<00:00,  3.68it/s]\n",
            "Val   - Epoch: 23, Loss: 9.7566, AvgLoss: 10.3472: 100%|██████████| 24/24 [00:04<00:00,  6.00it/s]\n",
            "Train - Epoch: 24, Loss: 10.6925, AvgLoss: 10.1713: 100%|██████████| 96/96 [00:26<00:00,  3.69it/s]\n",
            "Val   - Epoch: 24, Loss: 11.2581, AvgLoss: 10.1551: 100%|██████████| 24/24 [00:04<00:00,  5.98it/s]\n",
            "Train - Epoch: 25, Loss: 10.4500, AvgLoss: 9.9391: 100%|██████████| 96/96 [00:26<00:00,  3.68it/s]\n",
            "Val   - Epoch: 25, Loss: 10.0650, AvgLoss: 10.0381: 100%|██████████| 24/24 [00:04<00:00,  5.98it/s]\n",
            "Train - Epoch: 26, Loss: 9.6657, AvgLoss: 9.7238: 100%|██████████| 96/96 [00:26<00:00,  3.69it/s]\n",
            "Val   - Epoch: 26, Loss: 9.9752, AvgLoss: 10.0379: 100%|██████████| 24/24 [00:04<00:00,  5.92it/s]\n",
            "Train - Epoch: 27, Loss: 9.4392, AvgLoss: 9.5558: 100%|██████████| 96/96 [00:25<00:00,  3.70it/s]\n",
            "Val   - Epoch: 27, Loss: 9.2799, AvgLoss: 9.7568: 100%|██████████| 24/24 [00:03<00:00,  6.15it/s]\n",
            "Train - Epoch: 28, Loss: 9.4793, AvgLoss: 9.3181: 100%|██████████| 96/96 [00:26<00:00,  3.69it/s]\n",
            "Val   - Epoch: 28, Loss: 10.2060, AvgLoss: 9.5080: 100%|██████████| 24/24 [00:04<00:00,  5.85it/s]\n",
            "Train - Epoch: 29, Loss: 9.3198, AvgLoss: 9.1283: 100%|██████████| 96/96 [00:26<00:00,  3.68it/s]\n",
            "Val   - Epoch: 29, Loss: 8.6511, AvgLoss: 9.3607: 100%|██████████| 24/24 [00:04<00:00,  5.89it/s]\n",
            "Train - Epoch: 30, Loss: 9.7657, AvgLoss: 8.8999: 100%|██████████| 96/96 [00:26<00:00,  3.69it/s]\n",
            "Val   - Epoch: 30, Loss: 9.2614, AvgLoss: 9.2150: 100%|██████████| 24/24 [00:04<00:00,  6.00it/s]\n",
            "Train - Epoch: 31, Loss: 8.9205, AvgLoss: 8.6979: 100%|██████████| 96/96 [00:26<00:00,  3.68it/s]\n",
            "Val   - Epoch: 31, Loss: 9.2090, AvgLoss: 9.1408: 100%|██████████| 24/24 [00:04<00:00,  5.96it/s]\n",
            "Train - Epoch: 32, Loss: 9.7806, AvgLoss: 8.4777: 100%|██████████| 96/96 [00:26<00:00,  3.68it/s]\n",
            "Val   - Epoch: 32, Loss: 9.3722, AvgLoss: 8.9596: 100%|██████████| 24/24 [00:03<00:00,  6.19it/s]\n",
            "Train - Epoch: 33, Loss: 8.3264, AvgLoss: 8.3763: 100%|██████████| 96/96 [00:25<00:00,  3.71it/s]\n",
            "Val   - Epoch: 33, Loss: 8.5856, AvgLoss: 8.8344: 100%|██████████| 24/24 [00:03<00:00,  6.15it/s]\n",
            "Train - Epoch: 34, Loss: 7.6002, AvgLoss: 8.1209: 100%|██████████| 96/96 [00:26<00:00,  3.69it/s]\n",
            "Val   - Epoch: 34, Loss: 9.1881, AvgLoss: 8.9352: 100%|██████████| 24/24 [00:03<00:00,  6.00it/s]\n",
            "Train - Epoch: 35, Loss: 8.8271, AvgLoss: 7.8798: 100%|██████████| 96/96 [00:26<00:00,  3.69it/s]\n",
            "Val   - Epoch: 35, Loss: 9.1739, AvgLoss: 8.7441: 100%|██████████| 24/24 [00:04<00:00,  5.99it/s]\n",
            "Train - Epoch: 36, Loss: 7.7271, AvgLoss: 7.7130: 100%|██████████| 96/96 [00:26<00:00,  3.68it/s]\n",
            "Val   - Epoch: 36, Loss: 9.7572, AvgLoss: 8.7294: 100%|██████████| 24/24 [00:04<00:00,  5.98it/s]\n",
            "Train - Epoch: 37, Loss: 7.4328, AvgLoss: 7.4909: 100%|██████████| 96/96 [00:26<00:00,  3.69it/s]\n",
            "Val   - Epoch: 37, Loss: 7.4798, AvgLoss: 8.6362: 100%|██████████| 24/24 [00:03<00:00,  6.14it/s]\n",
            "Train - Epoch: 38, Loss: 7.6131, AvgLoss: 7.2996: 100%|██████████| 96/96 [00:26<00:00,  3.69it/s]\n",
            "Val   - Epoch: 38, Loss: 8.3085, AvgLoss: 8.3744: 100%|██████████| 24/24 [00:04<00:00,  5.86it/s]\n",
            "Train - Epoch: 39, Loss: 7.1561, AvgLoss: 7.0536: 100%|██████████| 96/96 [00:26<00:00,  3.69it/s]\n",
            "Val   - Epoch: 39, Loss: 9.5288, AvgLoss: 8.3265: 100%|██████████| 24/24 [00:03<00:00,  6.01it/s]\n",
            "Train - Epoch: 40, Loss: 8.1628, AvgLoss: 6.9067: 100%|██████████| 96/96 [00:26<00:00,  3.68it/s]\n",
            "Val   - Epoch: 40, Loss: 8.2359, AvgLoss: 8.3334: 100%|██████████| 24/24 [00:04<00:00,  6.00it/s]\n",
            "Train - Epoch: 41, Loss: 6.4658, AvgLoss: 6.6820: 100%|██████████| 96/96 [00:25<00:00,  3.69it/s]\n",
            "Val   - Epoch: 41, Loss: 8.6497, AvgLoss: 8.1749: 100%|██████████| 24/24 [00:04<00:00,  5.96it/s]\n",
            "Train - Epoch: 42, Loss: 6.6916, AvgLoss: 6.4980: 100%|██████████| 96/96 [00:26<00:00,  3.69it/s]\n",
            "Val   - Epoch: 42, Loss: 6.9391, AvgLoss: 8.2348: 100%|██████████| 24/24 [00:03<00:00,  6.11it/s]\n",
            "Train - Epoch: 43, Loss: 6.1064, AvgLoss: 6.2803: 100%|██████████| 96/96 [00:25<00:00,  3.69it/s]\n",
            "Val   - Epoch: 43, Loss: 7.9909, AvgLoss: 8.1393: 100%|██████████| 24/24 [00:03<00:00,  6.13it/s]\n",
            "Train - Epoch: 44, Loss: 6.4402, AvgLoss: 6.0564: 100%|██████████| 96/96 [00:26<00:00,  3.68it/s]\n",
            "Val   - Epoch: 44, Loss: 8.2117, AvgLoss: 8.0961: 100%|██████████| 24/24 [00:03<00:00,  6.11it/s]\n",
            "Train - Epoch: 45, Loss: 5.7850, AvgLoss: 5.9075: 100%|██████████| 96/96 [00:26<00:00,  3.67it/s]\n",
            "Val   - Epoch: 45, Loss: 8.5404, AvgLoss: 8.1165: 100%|██████████| 24/24 [00:04<00:00,  5.95it/s]\n",
            "Train - Epoch: 46, Loss: 4.6394, AvgLoss: 5.6775: 100%|██████████| 96/96 [00:26<00:00,  3.68it/s]\n",
            "Val   - Epoch: 46, Loss: 8.5415, AvgLoss: 8.2516: 100%|██████████| 24/24 [00:03<00:00,  6.14it/s]\n",
            "Train - Epoch: 47, Loss: 5.7928, AvgLoss: 5.4478: 100%|██████████| 96/96 [00:26<00:00,  3.69it/s]\n",
            "Val   - Epoch: 47, Loss: 7.2896, AvgLoss: 8.1325: 100%|██████████| 24/24 [00:03<00:00,  6.00it/s]\n",
            "Train - Epoch: 48, Loss: 4.4730, AvgLoss: 4.8215: 100%|██████████| 96/96 [00:26<00:00,  3.69it/s]\n",
            "Val   - Epoch: 48, Loss: 8.7137, AvgLoss: 7.9749: 100%|██████████| 24/24 [00:04<00:00,  5.92it/s]\n",
            "Train - Epoch: 49, Loss: 4.3479, AvgLoss: 4.5873: 100%|██████████| 96/96 [00:26<00:00,  3.68it/s]\n",
            "Val   - Epoch: 49, Loss: 8.5111, AvgLoss: 7.9826: 100%|██████████| 24/24 [00:03<00:00,  6.07it/s]\n",
            "Train - Epoch: 50, Loss: 5.0510, AvgLoss: 4.4353: 100%|██████████| 96/96 [00:26<00:00,  3.69it/s]\n",
            "Val   - Epoch: 50, Loss: 8.1491, AvgLoss: 8.0381: 100%|██████████| 24/24 [00:03<00:00,  6.11it/s]\n",
            "Train - Epoch: 51, Loss: 4.3019, AvgLoss: 4.2759: 100%|██████████| 96/96 [00:26<00:00,  3.68it/s]\n",
            "Val   - Epoch: 51, Loss: 8.7424, AvgLoss: 8.0627: 100%|██████████| 24/24 [00:04<00:00,  5.84it/s]\n",
            "Train - Epoch: 52, Loss: 4.5131, AvgLoss: 3.9492: 100%|██████████| 96/96 [00:26<00:00,  3.68it/s]\n",
            "Val   - Epoch: 52, Loss: 8.8154, AvgLoss: 8.0703: 100%|██████████| 24/24 [00:04<00:00,  6.00it/s]\n",
            "Train - Epoch: 53, Loss: 3.9331, AvgLoss: 3.8277: 100%|██████████| 96/96 [00:26<00:00,  3.68it/s]\n",
            "Val   - Epoch: 53, Loss: 9.2291, AvgLoss: 8.0613: 100%|██████████| 24/24 [00:03<00:00,  6.05it/s]\n",
            "Train - Epoch: 54, Loss: 3.4340, AvgLoss: 3.7353: 100%|██████████| 96/96 [00:26<00:00,  3.69it/s]\n",
            "Val   - Epoch: 54, Loss: 7.9066, AvgLoss: 8.1162: 100%|██████████| 24/24 [00:04<00:00,  5.98it/s]\n",
            "Train - Epoch: 55, Loss: 3.3834, AvgLoss: 3.5663: 100%|██████████| 96/96 [00:26<00:00,  3.69it/s]\n",
            "Val   - Epoch: 55, Loss: 8.9254, AvgLoss: 8.1258: 100%|██████████| 24/24 [00:03<00:00,  6.01it/s]\n",
            "Train - Epoch: 56, Loss: 3.4067, AvgLoss: 3.5037: 100%|██████████| 96/96 [00:26<00:00,  3.68it/s]\n",
            "Val   - Epoch: 56, Loss: 8.3709, AvgLoss: 8.1723: 100%|██████████| 24/24 [00:03<00:00,  6.05it/s]\n",
            "Train - Epoch: 57, Loss: 3.9359, AvgLoss: 3.4565: 100%|██████████| 96/96 [00:26<00:00,  3.67it/s]\n",
            "Val   - Epoch: 57, Loss: 7.8677, AvgLoss: 8.1955: 100%|██████████| 24/24 [00:04<00:00,  6.00it/s]\n",
            "Train - Epoch: 58, Loss: 3.3122, AvgLoss: 3.3687: 100%|██████████| 96/96 [00:26<00:00,  3.68it/s]\n",
            "Val   - Epoch: 58, Loss: 8.3773, AvgLoss: 8.1928: 100%|██████████| 24/24 [00:03<00:00,  6.04it/s]\n",
            "Train - Epoch: 59, Loss: 3.2771, AvgLoss: 3.3388: 100%|██████████| 96/96 [00:26<00:00,  3.69it/s]\n",
            "Val   - Epoch: 59, Loss: 7.6526, AvgLoss: 8.2189: 100%|██████████| 24/24 [00:03<00:00,  6.00it/s]\n",
            "Train - Epoch: 60, Loss: 3.2327, AvgLoss: 3.3137: 100%|██████████| 96/96 [00:26<00:00,  3.68it/s]\n",
            "Val   - Epoch: 60, Loss: 7.4999, AvgLoss: 8.2517: 100%|██████████| 24/24 [00:03<00:00,  6.08it/s]\n",
            "Train - Epoch: 61, Loss: 3.1525, AvgLoss: 3.2667: 100%|██████████| 96/96 [00:25<00:00,  3.70it/s]\n",
            "Val   - Epoch: 61, Loss: 7.0480, AvgLoss: 8.2414: 100%|██████████| 24/24 [00:03<00:00,  6.05it/s]\n",
            "Train - Epoch: 62, Loss: 3.0533, AvgLoss: 3.2526: 100%|██████████| 96/96 [00:26<00:00,  3.68it/s]\n",
            "Val   - Epoch: 62, Loss: 8.8148, AvgLoss: 8.2495: 100%|██████████| 24/24 [00:03<00:00,  6.18it/s]\n",
            "Train - Epoch: 63, Loss: 3.0622, AvgLoss: 3.2387: 100%|██████████| 96/96 [00:25<00:00,  3.70it/s]\n",
            "Val   - Epoch: 63, Loss: 8.1710, AvgLoss: 8.2596: 100%|██████████| 24/24 [00:04<00:00,  5.90it/s]\n",
            "Train - Epoch: 64, Loss: 3.2789, AvgLoss: 3.2150: 100%|██████████| 96/96 [00:26<00:00,  3.68it/s]\n",
            "Val   - Epoch: 64, Loss: 8.3101, AvgLoss: 8.2725: 100%|██████████| 24/24 [00:03<00:00,  6.09it/s]\n",
            "Train - Epoch: 65, Loss: 3.2721, AvgLoss: 3.2075: 100%|██████████| 96/96 [00:26<00:00,  3.68it/s]\n",
            "Val   - Epoch: 65, Loss: 9.8233, AvgLoss: 8.2697: 100%|██████████| 24/24 [00:04<00:00,  5.99it/s]\n",
            "Train - Epoch: 66, Loss: 2.8480, AvgLoss: 3.2008: 100%|██████████| 96/96 [00:26<00:00,  3.67it/s]\n",
            "Val   - Epoch: 66, Loss: 8.5486, AvgLoss: 8.2756: 100%|██████████| 24/24 [00:04<00:00,  5.95it/s]\n",
            "Train - Epoch: 67, Loss: 2.8971, AvgLoss: 3.1877: 100%|██████████| 96/96 [00:25<00:00,  3.70it/s]\n",
            "Val   - Epoch: 67, Loss: 7.4720, AvgLoss: 8.2822: 100%|██████████| 24/24 [00:03<00:00,  6.09it/s]\n",
            "Train - Epoch: 68, Loss: 3.0097, AvgLoss: 3.1840: 100%|██████████| 96/96 [00:25<00:00,  3.69it/s]\n",
            "Val   - Epoch: 68, Loss: 8.4107, AvgLoss: 8.2799: 100%|██████████| 24/24 [00:04<00:00,  6.00it/s]\n",
            "Train - Epoch: 69, Loss: 3.4365, AvgLoss: 3.1806: 100%|██████████| 96/96 [00:26<00:00,  3.67it/s]\n",
            "Val   - Epoch: 69, Loss: 8.9002, AvgLoss: 8.2854: 100%|██████████| 24/24 [00:04<00:00,  5.93it/s]\n",
            "Train - Epoch: 70, Loss: 2.8578, AvgLoss: 3.1738: 100%|██████████| 96/96 [00:25<00:00,  3.70it/s]\n",
            "Val   - Epoch: 70, Loss: 8.8312, AvgLoss: 8.2874: 100%|██████████| 24/24 [00:03<00:00,  6.05it/s]\n",
            "Train - Epoch: 71, Loss: 2.6804, AvgLoss: 3.1720: 100%|██████████| 96/96 [00:25<00:00,  3.71it/s]\n",
            "Val   - Epoch: 71, Loss: 8.4753, AvgLoss: 8.2893: 100%|██████████| 24/24 [00:03<00:00,  6.04it/s]\n",
            "Train - Epoch: 72, Loss: 3.2207, AvgLoss: 3.1702: 100%|██████████| 96/96 [00:26<00:00,  3.69it/s]\n",
            "Val   - Epoch: 72, Loss: 8.8592, AvgLoss: 8.2879: 100%|██████████| 24/24 [00:04<00:00,  6.00it/s]\n",
            "Train - Epoch: 73, Loss: 3.3430, AvgLoss: 3.1666: 100%|██████████| 96/96 [00:26<00:00,  3.69it/s]\n",
            "Val   - Epoch: 73, Loss: 8.3507, AvgLoss: 8.2897: 100%|██████████| 24/24 [00:04<00:00,  5.97it/s]\n",
            "Train - Epoch: 74, Loss: 3.0944, AvgLoss: 3.1656: 100%|██████████| 96/96 [00:25<00:00,  3.70it/s]\n",
            "Val   - Epoch: 74, Loss: 8.7140, AvgLoss: 8.2883: 100%|██████████| 24/24 [00:03<00:00,  6.00it/s]\n",
            "Train - Epoch: 75, Loss: 3.0477, AvgLoss: 3.1648: 100%|██████████| 96/96 [00:25<00:00,  3.70it/s]\n",
            "Val   - Epoch: 75, Loss: 8.4692, AvgLoss: 8.2911: 100%|██████████| 24/24 [00:03<00:00,  6.08it/s]\n",
            "Train - Epoch: 76, Loss: 3.1239, AvgLoss: 3.1629: 100%|██████████| 96/96 [00:26<00:00,  3.68it/s]\n",
            "Val   - Epoch: 76, Loss: 7.4411, AvgLoss: 8.2910: 100%|██████████| 24/24 [00:03<00:00,  6.00it/s]\n",
            "Train - Epoch: 77, Loss: 3.2928, AvgLoss: 3.1624: 100%|██████████| 96/96 [00:26<00:00,  3.68it/s]\n",
            "Val   - Epoch: 77, Loss: 8.6017, AvgLoss: 8.2911: 100%|██████████| 24/24 [00:04<00:00,  5.96it/s]\n",
            "Train - Epoch: 78, Loss: 3.4321, AvgLoss: 3.1619: 100%|██████████| 96/96 [00:26<00:00,  3.69it/s]\n",
            "Val   - Epoch: 78, Loss: 8.2887, AvgLoss: 8.2918: 100%|██████████| 24/24 [00:03<00:00,  6.18it/s]\n",
            "Train - Epoch: 79, Loss: 3.3279, AvgLoss: 3.1610: 100%|██████████| 96/96 [00:26<00:00,  3.69it/s]\n",
            "Val   - Epoch: 79, Loss: 8.1491, AvgLoss: 8.2925: 100%|██████████| 24/24 [00:03<00:00,  6.06it/s]\n",
            "Train - Epoch: 80, Loss: 3.2502, AvgLoss: 3.1607: 100%|██████████| 96/96 [00:26<00:00,  3.68it/s]\n",
            "Val   - Epoch: 80, Loss: 7.8541, AvgLoss: 8.2924: 100%|██████████| 24/24 [00:04<00:00,  5.99it/s]\n",
            "Train - Epoch: 81, Loss: 3.2629, AvgLoss: 3.1605: 100%|██████████| 96/96 [00:26<00:00,  3.68it/s]\n",
            "Val   - Epoch: 81, Loss: 8.0567, AvgLoss: 8.2929: 100%|██████████| 24/24 [00:04<00:00,  5.95it/s]\n",
            "Train - Epoch: 82, Loss: 3.0419, AvgLoss: 3.1600: 100%|██████████| 96/96 [00:26<00:00,  3.68it/s]\n",
            "Val   - Epoch: 82, Loss: 8.4048, AvgLoss: 8.2930: 100%|██████████| 24/24 [00:04<00:00,  5.85it/s]\n",
            "Train - Epoch: 83, Loss: 3.2038, AvgLoss: 3.1599: 100%|██████████| 96/96 [00:26<00:00,  3.69it/s]\n",
            "Val   - Epoch: 83, Loss: 7.8492, AvgLoss: 8.2929: 100%|██████████| 24/24 [00:04<00:00,  5.96it/s]\n",
            "Train - Epoch: 84, Loss: 2.9466, AvgLoss: 3.1598: 100%|██████████| 96/96 [00:25<00:00,  3.70it/s]\n",
            "Val   - Epoch: 84, Loss: 9.0362, AvgLoss: 8.2930: 100%|██████████| 24/24 [00:04<00:00,  5.96it/s]\n",
            "Train - Epoch: 85, Loss: 3.3101, AvgLoss: 3.1595: 100%|██████████| 96/96 [00:26<00:00,  3.68it/s]\n",
            "Val   - Epoch: 85, Loss: 8.3146, AvgLoss: 8.2931: 100%|██████████| 24/24 [00:03<00:00,  6.02it/s]\n",
            "Train - Epoch: 86, Loss: 3.4406, AvgLoss: 3.1595: 100%|██████████| 96/96 [00:26<00:00,  3.68it/s]\n",
            "Val   - Epoch: 86, Loss: 8.4313, AvgLoss: 8.2931: 100%|██████████| 24/24 [00:03<00:00,  6.03it/s]\n",
            "Train - Epoch: 87, Loss: 3.0930, AvgLoss: 3.1594: 100%|██████████| 96/96 [00:26<00:00,  3.69it/s]\n",
            "Val   - Epoch: 87, Loss: 8.7042, AvgLoss: 8.2931: 100%|██████████| 24/24 [00:03<00:00,  6.04it/s]\n",
            "Train - Epoch: 88, Loss: 2.7701, AvgLoss: 3.1593: 100%|██████████| 96/96 [00:26<00:00,  3.67it/s]\n",
            "Val   - Epoch: 88, Loss: 9.1436, AvgLoss: 8.2932: 100%|██████████| 24/24 [00:03<00:00,  6.13it/s]\n",
            "Train - Epoch: 89, Loss: 2.9396, AvgLoss: 3.1593: 100%|██████████| 96/96 [00:26<00:00,  3.68it/s]\n",
            "Val   - Epoch: 89, Loss: 7.6587, AvgLoss: 8.2932: 100%|██████████| 24/24 [00:03<00:00,  6.02it/s]\n",
            "Train - Epoch: 90, Loss: 3.6772, AvgLoss: 3.1592: 100%|██████████| 96/96 [00:26<00:00,  3.68it/s]\n",
            "Val   - Epoch: 90, Loss: 8.0488, AvgLoss: 8.2933: 100%|██████████| 24/24 [00:04<00:00,  5.94it/s]\n",
            "Train - Epoch: 91, Loss: 3.0148, AvgLoss: 3.1592: 100%|██████████| 96/96 [00:25<00:00,  3.70it/s]\n",
            "Val   - Epoch: 91, Loss: 8.3558, AvgLoss: 8.2933: 100%|██████████| 24/24 [00:04<00:00,  5.99it/s]\n",
            "Train - Epoch: 92, Loss: 2.9751, AvgLoss: 3.1592: 100%|██████████| 96/96 [00:26<00:00,  3.69it/s]\n",
            "Val   - Epoch: 92, Loss: 8.5782, AvgLoss: 8.2932: 100%|██████████| 24/24 [00:04<00:00,  6.00it/s]\n",
            "Train - Epoch: 93, Loss: 2.8524, AvgLoss: 3.1592: 100%|██████████| 96/96 [00:26<00:00,  3.69it/s]\n",
            "Val   - Epoch: 93, Loss: 6.8745, AvgLoss: 8.2932: 100%|██████████| 24/24 [00:04<00:00,  5.99it/s]\n",
            "Train - Epoch: 94, Loss: 2.7517, AvgLoss: 3.1591: 100%|██████████| 96/96 [00:26<00:00,  3.68it/s]\n",
            "Val   - Epoch: 94, Loss: 8.2396, AvgLoss: 8.2932: 100%|██████████| 24/24 [00:04<00:00,  5.94it/s]\n",
            "Train - Epoch: 95, Loss: 2.7161, AvgLoss: 3.1591: 100%|██████████| 96/96 [00:26<00:00,  3.69it/s]\n",
            "Val   - Epoch: 95, Loss: 7.4658, AvgLoss: 8.2932: 100%|██████████| 24/24 [00:04<00:00,  5.99it/s]\n",
            "Train - Epoch: 96, Loss: 2.3869, AvgLoss: 3.1591: 100%|██████████| 96/96 [00:26<00:00,  3.69it/s]\n",
            "Val   - Epoch: 96, Loss: 9.3414, AvgLoss: 8.2932: 100%|██████████| 24/24 [00:03<00:00,  6.02it/s]\n",
            "Train - Epoch: 97, Loss: 3.0734, AvgLoss: 3.1591: 100%|██████████| 96/96 [00:25<00:00,  3.70it/s]\n",
            "Val   - Epoch: 97, Loss: 7.6928, AvgLoss: 8.2932: 100%|██████████| 24/24 [00:03<00:00,  6.01it/s]\n",
            "Train - Epoch: 98, Loss: 2.8165, AvgLoss: 3.1591: 100%|██████████| 96/96 [00:26<00:00,  3.68it/s]\n",
            "Val   - Epoch: 98, Loss: 8.1867, AvgLoss: 8.2932: 100%|██████████| 24/24 [00:04<00:00,  5.94it/s]\n",
            "Train - Epoch: 99, Loss: 3.2378, AvgLoss: 3.1591: 100%|██████████| 96/96 [00:26<00:00,  3.68it/s]\n",
            "Val   - Epoch: 99, Loss: 7.5174, AvgLoss: 8.2932: 100%|██████████| 24/24 [00:04<00:00,  6.00it/s]\n"
          ],
          "name": "stderr"
        }
      ]
    },
    {
      "cell_type": "code",
      "metadata": {
        "id": "NsAr2XCdhhh2",
        "colab_type": "code",
        "colab": {}
      },
      "source": [
        "torch.save(hwr_recognizer.state_dict(), 'hwr_model1')"
      ],
      "execution_count": 0,
      "outputs": []
    },
    {
      "cell_type": "code",
      "metadata": {
        "id": "N8bEQ8nJh7aY",
        "colab_type": "code",
        "colab": {}
      },
      "source": [
        "cp \"hwr_model1\" \"drive/My Drive/datasets/hwr_model1\""
      ],
      "execution_count": 0,
      "outputs": []
    },
    {
      "cell_type": "markdown",
      "metadata": {
        "id": "PTWdZVtHiscM",
        "colab_type": "text"
      },
      "source": [
        "### Train Model 2"
      ]
    },
    {
      "cell_type": "code",
      "metadata": {
        "id": "LD1zKqMairLl",
        "colab_type": "code",
        "outputId": "202c1719-1143-4a1e-9325-4cc7ba34c505",
        "colab": {
          "base_uri": "https://localhost:8080/"
        }
      },
      "source": [
        "iam_dataset = IamDataset(desired_size=(32, 128), total_imgs=30000)\n",
        "iam_train_dataset, iam_val_dataset = torch.utils.data.random_split(iam_dataset, [24000, 6000])\n",
        "\n",
        "hwr_recognizer, losses = hwr_train(iam_train_dataset, iam_val_dataset)"
      ],
      "execution_count": 0,
      "outputs": [
        {
          "output_type": "stream",
          "text": [
            "Train - Epoch: 0, Loss: 17.7775, AvgLoss: 26.1105: 100%|██████████| 96/96 [00:26<00:00,  3.68it/s]\n",
            "Val   - Epoch: 0, Loss: 16.7095, AvgLoss: 17.2706: 100%|██████████| 24/24 [00:04<00:00,  5.97it/s]\n",
            "Train - Epoch: 1, Loss: 17.5304, AvgLoss: 16.9281: 100%|██████████| 96/96 [00:26<00:00,  3.67it/s]\n",
            "Val   - Epoch: 1, Loss: 15.9766, AvgLoss: 16.3506: 100%|██████████| 24/24 [00:03<00:00,  6.03it/s]\n",
            "Train - Epoch: 2, Loss: 16.1756, AvgLoss: 16.5515: 100%|██████████| 96/96 [00:26<00:00,  3.69it/s]\n",
            "Val   - Epoch: 2, Loss: 16.2994, AvgLoss: 16.0629: 100%|██████████| 24/24 [00:04<00:00,  5.90it/s]\n",
            "Train - Epoch: 3, Loss: 15.8672, AvgLoss: 16.2716: 100%|██████████| 96/96 [00:26<00:00,  3.68it/s]\n",
            "Val   - Epoch: 3, Loss: 15.6475, AvgLoss: 15.8300: 100%|██████████| 24/24 [00:03<00:00,  6.07it/s]\n",
            "Train - Epoch: 4, Loss: 16.3815, AvgLoss: 16.0635: 100%|██████████| 96/96 [00:26<00:00,  3.68it/s]\n",
            "Val   - Epoch: 4, Loss: 16.1269, AvgLoss: 15.7033: 100%|██████████| 24/24 [00:03<00:00,  6.07it/s]\n",
            "Train - Epoch: 5, Loss: 15.3409, AvgLoss: 15.8472: 100%|██████████| 96/96 [00:26<00:00,  3.68it/s]\n",
            "Val   - Epoch: 5, Loss: 15.4574, AvgLoss: 15.2239: 100%|██████████| 24/24 [00:03<00:00,  6.08it/s]\n",
            "Train - Epoch: 6, Loss: 15.0219, AvgLoss: 15.3597: 100%|██████████| 96/96 [00:25<00:00,  3.70it/s]\n",
            "Val   - Epoch: 6, Loss: 14.7221, AvgLoss: 14.6584: 100%|██████████| 24/24 [00:03<00:00,  6.05it/s]\n",
            "Train - Epoch: 7, Loss: 15.8137, AvgLoss: 17.1582: 100%|██████████| 96/96 [00:25<00:00,  3.69it/s]\n",
            "Val   - Epoch: 7, Loss: 14.7828, AvgLoss: 16.0281: 100%|██████████| 24/24 [00:03<00:00,  6.05it/s]\n",
            "Train - Epoch: 8, Loss: 14.0163, AvgLoss: 15.3871: 100%|██████████| 96/96 [00:26<00:00,  3.68it/s]\n",
            "Val   - Epoch: 8, Loss: 14.5495, AvgLoss: 14.3626: 100%|██████████| 24/24 [00:04<00:00,  5.99it/s]\n",
            "Train - Epoch: 9, Loss: 14.5802, AvgLoss: 14.5641: 100%|██████████| 96/96 [00:26<00:00,  3.69it/s]\n",
            "Val   - Epoch: 9, Loss: 14.7156, AvgLoss: 13.9056: 100%|██████████| 24/24 [00:04<00:00,  5.97it/s]\n",
            "Train - Epoch: 10, Loss: 14.0306, AvgLoss: 14.1234: 100%|██████████| 96/96 [00:25<00:00,  3.70it/s]\n",
            "Val   - Epoch: 10, Loss: 13.6172, AvgLoss: 13.5455: 100%|██████████| 24/24 [00:03<00:00,  6.06it/s]\n",
            "Train - Epoch: 11, Loss: 12.7381, AvgLoss: 13.8178: 100%|██████████| 96/96 [00:25<00:00,  3.69it/s]\n",
            "Val   - Epoch: 11, Loss: 13.7891, AvgLoss: 13.2543: 100%|██████████| 24/24 [00:03<00:00,  6.12it/s]\n",
            "Train - Epoch: 12, Loss: 13.8583, AvgLoss: 13.5749: 100%|██████████| 96/96 [00:25<00:00,  3.69it/s]\n",
            "Val   - Epoch: 12, Loss: 13.0264, AvgLoss: 13.0165: 100%|██████████| 24/24 [00:04<00:00,  5.97it/s]\n",
            "Train - Epoch: 13, Loss: 12.7250, AvgLoss: 13.3925: 100%|██████████| 96/96 [00:26<00:00,  3.67it/s]\n",
            "Val   - Epoch: 13, Loss: 13.3545, AvgLoss: 12.8688: 100%|██████████| 24/24 [00:04<00:00,  6.00it/s]\n",
            "Train - Epoch: 14, Loss: 12.8716, AvgLoss: 13.1940: 100%|██████████| 96/96 [00:26<00:00,  3.69it/s]\n",
            "Val   - Epoch: 14, Loss: 12.5476, AvgLoss: 12.7213: 100%|██████████| 24/24 [00:03<00:00,  6.07it/s]\n",
            "Train - Epoch: 15, Loss: 13.7732, AvgLoss: 13.0152: 100%|██████████| 96/96 [00:26<00:00,  3.68it/s]\n",
            "Val   - Epoch: 15, Loss: 12.7063, AvgLoss: 12.6882: 100%|██████████| 24/24 [00:03<00:00,  6.07it/s]\n",
            "Train - Epoch: 16, Loss: 11.8433, AvgLoss: 12.8317: 100%|██████████| 96/96 [00:26<00:00,  3.68it/s]\n",
            "Val   - Epoch: 16, Loss: 12.7617, AvgLoss: 12.3673: 100%|██████████| 24/24 [00:03<00:00,  6.12it/s]\n",
            "Train - Epoch: 17, Loss: 13.0265, AvgLoss: 12.6787: 100%|██████████| 96/96 [00:26<00:00,  3.68it/s]\n",
            "Val   - Epoch: 17, Loss: 12.6583, AvgLoss: 12.2190: 100%|██████████| 24/24 [00:03<00:00,  6.05it/s]\n",
            "Train - Epoch: 18, Loss: 13.5052, AvgLoss: 12.5265: 100%|██████████| 96/96 [00:26<00:00,  3.68it/s]\n",
            "Val   - Epoch: 18, Loss: 13.0561, AvgLoss: 12.1944: 100%|██████████| 24/24 [00:04<00:00,  5.96it/s]\n",
            "Train - Epoch: 19, Loss: 12.8472, AvgLoss: 12.3971: 100%|██████████| 96/96 [00:25<00:00,  3.70it/s]\n",
            "Val   - Epoch: 19, Loss: 11.5613, AvgLoss: 12.2132: 100%|██████████| 24/24 [00:04<00:00,  5.93it/s]\n",
            "Train - Epoch: 20, Loss: 11.9964, AvgLoss: 12.2036: 100%|██████████| 96/96 [00:26<00:00,  3.68it/s]\n",
            "Val   - Epoch: 20, Loss: 11.5596, AvgLoss: 11.7631: 100%|██████████| 24/24 [00:04<00:00,  5.98it/s]\n",
            "Train - Epoch: 21, Loss: 11.9944, AvgLoss: 12.0165: 100%|██████████| 96/96 [00:26<00:00,  3.67it/s]\n",
            "Val   - Epoch: 21, Loss: 11.8632, AvgLoss: 11.5705: 100%|██████████| 24/24 [00:04<00:00,  5.99it/s]\n",
            "Train - Epoch: 22, Loss: 10.6395, AvgLoss: 11.8518: 100%|██████████| 96/96 [00:26<00:00,  3.68it/s]\n",
            "Val   - Epoch: 22, Loss: 11.0755, AvgLoss: 11.4821: 100%|██████████| 24/24 [00:04<00:00,  5.95it/s]\n",
            "Train - Epoch: 23, Loss: 11.7794, AvgLoss: 11.6142: 100%|██████████| 96/96 [00:26<00:00,  3.67it/s]\n",
            "Val   - Epoch: 23, Loss: 12.4241, AvgLoss: 11.4161: 100%|██████████| 24/24 [00:03<00:00,  6.09it/s]\n",
            "Train - Epoch: 24, Loss: 11.1307, AvgLoss: 11.4985: 100%|██████████| 96/96 [00:25<00:00,  3.70it/s]\n",
            "Val   - Epoch: 24, Loss: 11.8972, AvgLoss: 11.1528: 100%|██████████| 24/24 [00:03<00:00,  6.05it/s]\n",
            "Train - Epoch: 25, Loss: 11.3199, AvgLoss: 11.3184: 100%|██████████| 96/96 [00:26<00:00,  3.68it/s]\n",
            "Val   - Epoch: 25, Loss: 10.8103, AvgLoss: 11.1365: 100%|██████████| 24/24 [00:04<00:00,  5.97it/s]\n",
            "Train - Epoch: 26, Loss: 12.0814, AvgLoss: 11.1696: 100%|██████████| 96/96 [00:26<00:00,  3.68it/s]\n",
            "Val   - Epoch: 26, Loss: 11.3472, AvgLoss: 10.8969: 100%|██████████| 24/24 [00:04<00:00,  6.00it/s]\n",
            "Train - Epoch: 27, Loss: 11.8920, AvgLoss: 11.0486: 100%|██████████| 96/96 [00:26<00:00,  3.67it/s]\n",
            "Val   - Epoch: 27, Loss: 10.9767, AvgLoss: 10.7993: 100%|██████████| 24/24 [00:04<00:00,  6.00it/s]\n",
            "Train - Epoch: 28, Loss: 10.6902, AvgLoss: 10.8677: 100%|██████████| 96/96 [00:26<00:00,  3.68it/s]\n",
            "Val   - Epoch: 28, Loss: 11.1537, AvgLoss: 10.5757: 100%|██████████| 24/24 [00:04<00:00,  6.00it/s]\n",
            "Train - Epoch: 29, Loss: 10.9046, AvgLoss: 10.7765: 100%|██████████| 96/96 [00:25<00:00,  3.70it/s]\n",
            "Val   - Epoch: 29, Loss: 10.5630, AvgLoss: 10.5817: 100%|██████████| 24/24 [00:03<00:00,  6.04it/s]\n",
            "Train - Epoch: 30, Loss: 11.9202, AvgLoss: 10.6818: 100%|██████████| 96/96 [00:26<00:00,  3.68it/s]\n",
            "Val   - Epoch: 30, Loss: 10.1113, AvgLoss: 10.6517: 100%|██████████| 24/24 [00:03<00:00,  6.04it/s]\n",
            "Train - Epoch: 31, Loss: 11.1932, AvgLoss: 10.5446: 100%|██████████| 96/96 [00:26<00:00,  3.67it/s]\n",
            "Val   - Epoch: 31, Loss: 9.4903, AvgLoss: 10.2878: 100%|██████████| 24/24 [00:04<00:00,  5.94it/s]\n",
            "Train - Epoch: 32, Loss: 10.5869, AvgLoss: 10.3998: 100%|██████████| 96/96 [00:26<00:00,  3.67it/s]\n",
            "Val   - Epoch: 32, Loss: 9.7534, AvgLoss: 10.1255: 100%|██████████| 24/24 [00:03<00:00,  6.00it/s]\n",
            "Train - Epoch: 33, Loss: 10.9227, AvgLoss: 10.2517: 100%|██████████| 96/96 [00:26<00:00,  3.68it/s]\n",
            "Val   - Epoch: 33, Loss: 9.4177, AvgLoss: 10.0956: 100%|██████████| 24/24 [00:04<00:00,  5.93it/s]\n",
            "Train - Epoch: 34, Loss: 10.4898, AvgLoss: 10.1524: 100%|██████████| 96/96 [00:26<00:00,  3.68it/s]\n",
            "Val   - Epoch: 34, Loss: 10.7627, AvgLoss: 10.0478: 100%|██████████| 24/24 [00:03<00:00,  6.07it/s]\n",
            "Train - Epoch: 35, Loss: 9.0846, AvgLoss: 10.0531: 100%|██████████| 96/96 [00:26<00:00,  3.68it/s]\n",
            "Val   - Epoch: 35, Loss: 10.3197, AvgLoss: 9.9356: 100%|██████████| 24/24 [00:04<00:00,  5.89it/s]\n",
            "Train - Epoch: 36, Loss: 9.5301, AvgLoss: 9.9236: 100%|██████████| 96/96 [00:26<00:00,  3.68it/s]\n",
            "Val   - Epoch: 36, Loss: 9.8238, AvgLoss: 9.8293: 100%|██████████| 24/24 [00:04<00:00,  5.98it/s]\n",
            "Train - Epoch: 37, Loss: 8.8378, AvgLoss: 9.7942: 100%|██████████| 96/96 [00:26<00:00,  3.68it/s]\n",
            "Val   - Epoch: 37, Loss: 10.0425, AvgLoss: 9.7464: 100%|██████████| 24/24 [00:04<00:00,  5.93it/s]\n",
            "Train - Epoch: 38, Loss: 9.8981, AvgLoss: 9.6508: 100%|██████████| 96/96 [00:26<00:00,  3.68it/s]\n",
            "Val   - Epoch: 38, Loss: 10.0213, AvgLoss: 9.6245: 100%|██████████| 24/24 [00:04<00:00,  5.96it/s]\n",
            "Train - Epoch: 39, Loss: 8.4783, AvgLoss: 9.5313: 100%|██████████| 96/96 [00:26<00:00,  3.67it/s]\n",
            "Val   - Epoch: 39, Loss: 9.9565, AvgLoss: 9.6111: 100%|██████████| 24/24 [00:04<00:00,  5.93it/s]\n",
            "Train - Epoch: 40, Loss: 9.5382, AvgLoss: 9.4062: 100%|██████████| 96/96 [00:26<00:00,  3.68it/s]\n",
            "Val   - Epoch: 40, Loss: 9.1686, AvgLoss: 9.4145: 100%|██████████| 24/24 [00:04<00:00,  5.95it/s]\n",
            "Train - Epoch: 41, Loss: 9.1699, AvgLoss: 9.2388: 100%|██████████| 96/96 [00:26<00:00,  3.68it/s]\n",
            "Val   - Epoch: 41, Loss: 9.9794, AvgLoss: 9.3389: 100%|██████████| 24/24 [00:04<00:00,  5.97it/s]\n",
            "Train - Epoch: 42, Loss: 9.2217, AvgLoss: 9.1203: 100%|██████████| 96/96 [00:26<00:00,  3.69it/s]\n",
            "Val   - Epoch: 42, Loss: 8.8757, AvgLoss: 9.2182: 100%|██████████| 24/24 [00:03<00:00,  6.12it/s]\n",
            "Train - Epoch: 43, Loss: 8.6948, AvgLoss: 8.9856: 100%|██████████| 96/96 [00:26<00:00,  3.69it/s]\n",
            "Val   - Epoch: 43, Loss: 8.4772, AvgLoss: 9.0887: 100%|██████████| 24/24 [00:04<00:00,  6.00it/s]\n",
            "Train - Epoch: 44, Loss: 9.1557, AvgLoss: 8.8339: 100%|██████████| 96/96 [00:26<00:00,  3.68it/s]\n",
            "Val   - Epoch: 44, Loss: 9.9384, AvgLoss: 9.1372: 100%|██████████| 24/24 [00:04<00:00,  5.98it/s]\n",
            "Train - Epoch: 45, Loss: 8.4375, AvgLoss: 8.6888: 100%|██████████| 96/96 [00:26<00:00,  3.66it/s]\n",
            "Val   - Epoch: 45, Loss: 8.6020, AvgLoss: 8.9410: 100%|██████████| 24/24 [00:03<00:00,  6.02it/s]\n",
            "Train - Epoch: 46, Loss: 8.5823, AvgLoss: 8.5637: 100%|██████████| 96/96 [00:26<00:00,  3.68it/s]\n",
            "Val   - Epoch: 46, Loss: 8.8980, AvgLoss: 8.9729: 100%|██████████| 24/24 [00:03<00:00,  6.08it/s]\n",
            "Train - Epoch: 47, Loss: 8.2599, AvgLoss: 8.3851: 100%|██████████| 96/96 [00:26<00:00,  3.68it/s]\n",
            "Val   - Epoch: 47, Loss: 8.3799, AvgLoss: 8.6495: 100%|██████████| 24/24 [00:03<00:00,  6.02it/s]\n",
            "Train - Epoch: 48, Loss: 9.7272, AvgLoss: 8.2329: 100%|██████████| 96/96 [00:25<00:00,  3.71it/s]\n",
            "Val   - Epoch: 48, Loss: 7.8951, AvgLoss: 8.5479: 100%|██████████| 24/24 [00:04<00:00,  5.98it/s]\n",
            "Train - Epoch: 49, Loss: 8.4488, AvgLoss: 8.1078: 100%|██████████| 96/96 [00:26<00:00,  3.68it/s]\n",
            "Val   - Epoch: 49, Loss: 8.5805, AvgLoss: 8.4718: 100%|██████████| 24/24 [00:04<00:00,  5.92it/s]\n",
            "Train - Epoch: 50, Loss: 8.5131, AvgLoss: 7.9758: 100%|██████████| 96/96 [00:26<00:00,  3.68it/s]\n",
            "Val   - Epoch: 50, Loss: 7.7460, AvgLoss: 8.5777: 100%|██████████| 24/24 [00:03<00:00,  6.03it/s]\n",
            "Train - Epoch: 51, Loss: 8.1389, AvgLoss: 7.8085: 100%|██████████| 96/96 [00:26<00:00,  3.67it/s]\n",
            "Val   - Epoch: 51, Loss: 7.6980, AvgLoss: 8.4099: 100%|██████████| 24/24 [00:04<00:00,  5.93it/s]\n",
            "Train - Epoch: 52, Loss: 7.6184, AvgLoss: 7.6403: 100%|██████████| 96/96 [00:26<00:00,  3.68it/s]\n",
            "Val   - Epoch: 52, Loss: 7.8629, AvgLoss: 8.1471: 100%|██████████| 24/24 [00:03<00:00,  6.08it/s]\n",
            "Train - Epoch: 53, Loss: 8.0200, AvgLoss: 7.4646: 100%|██████████| 96/96 [00:26<00:00,  3.68it/s]\n",
            "Val   - Epoch: 53, Loss: 7.5573, AvgLoss: 8.1744: 100%|██████████| 24/24 [00:03<00:00,  6.10it/s]\n",
            "Train - Epoch: 54, Loss: 7.5726, AvgLoss: 7.3725: 100%|██████████| 96/96 [00:26<00:00,  3.69it/s]\n",
            "Val   - Epoch: 54, Loss: 8.5774, AvgLoss: 8.0961: 100%|██████████| 24/24 [00:03<00:00,  6.02it/s]\n",
            "Train - Epoch: 55, Loss: 6.4268, AvgLoss: 7.1513: 100%|██████████| 96/96 [00:26<00:00,  3.69it/s]\n",
            "Val   - Epoch: 55, Loss: 8.1314, AvgLoss: 7.9774: 100%|██████████| 24/24 [00:04<00:00,  5.99it/s]\n",
            "Train - Epoch: 56, Loss: 7.2055, AvgLoss: 7.0258: 100%|██████████| 96/96 [00:26<00:00,  3.69it/s]\n",
            "Val   - Epoch: 56, Loss: 8.0205, AvgLoss: 7.9000: 100%|██████████| 24/24 [00:03<00:00,  6.08it/s]\n",
            "Train - Epoch: 57, Loss: 6.2908, AvgLoss: 6.9067: 100%|██████████| 96/96 [00:26<00:00,  3.67it/s]\n",
            "Val   - Epoch: 57, Loss: 8.1999, AvgLoss: 7.8485: 100%|██████████| 24/24 [00:04<00:00,  5.96it/s]\n",
            "Train - Epoch: 58, Loss: 6.1936, AvgLoss: 6.6931: 100%|██████████| 96/96 [00:26<00:00,  3.69it/s]\n",
            "Val   - Epoch: 58, Loss: 7.8389, AvgLoss: 7.6969: 100%|██████████| 24/24 [00:03<00:00,  6.07it/s]\n",
            "Train - Epoch: 59, Loss: 6.7107, AvgLoss: 6.5503: 100%|██████████| 96/96 [00:26<00:00,  3.69it/s]\n",
            "Val   - Epoch: 59, Loss: 8.0037, AvgLoss: 7.7484: 100%|██████████| 24/24 [00:04<00:00,  5.98it/s]\n",
            "Train - Epoch: 60, Loss: 6.8621, AvgLoss: 6.4596: 100%|██████████| 96/96 [00:26<00:00,  3.69it/s]\n",
            "Val   - Epoch: 60, Loss: 8.7769, AvgLoss: 7.7244: 100%|██████████| 24/24 [00:03<00:00,  6.03it/s]\n",
            "Train - Epoch: 61, Loss: 6.7606, AvgLoss: 6.3004: 100%|██████████| 96/96 [00:25<00:00,  3.69it/s]\n",
            "Val   - Epoch: 61, Loss: 7.7882, AvgLoss: 7.5926: 100%|██████████| 24/24 [00:03<00:00,  6.03it/s]\n",
            "Train - Epoch: 62, Loss: 6.2675, AvgLoss: 6.1145: 100%|██████████| 96/96 [00:26<00:00,  3.68it/s]\n",
            "Val   - Epoch: 62, Loss: 7.0897, AvgLoss: 7.5156: 100%|██████████| 24/24 [00:03<00:00,  6.04it/s]\n",
            "Train - Epoch: 63, Loss: 6.5780, AvgLoss: 5.9443: 100%|██████████| 96/96 [00:25<00:00,  3.69it/s]\n",
            "Val   - Epoch: 63, Loss: 7.1312, AvgLoss: 7.4583: 100%|██████████| 24/24 [00:04<00:00,  6.00it/s]\n",
            "Train - Epoch: 64, Loss: 6.2734, AvgLoss: 5.7607: 100%|██████████| 96/96 [00:26<00:00,  3.69it/s]\n",
            "Val   - Epoch: 64, Loss: 7.7551, AvgLoss: 7.6200: 100%|██████████| 24/24 [00:03<00:00,  6.01it/s]\n",
            "Train - Epoch: 65, Loss: 5.9672, AvgLoss: 5.6504: 100%|██████████| 96/96 [00:26<00:00,  3.68it/s]\n",
            "Val   - Epoch: 65, Loss: 6.8401, AvgLoss: 7.5107: 100%|██████████| 24/24 [00:03<00:00,  6.05it/s]\n",
            "Train - Epoch: 66, Loss: 5.9914, AvgLoss: 5.4694: 100%|██████████| 96/96 [00:25<00:00,  3.70it/s]\n",
            "Val   - Epoch: 66, Loss: 8.2538, AvgLoss: 7.3729: 100%|██████████| 24/24 [00:04<00:00,  5.98it/s]\n",
            "Train - Epoch: 67, Loss: 5.8706, AvgLoss: 5.3460: 100%|██████████| 96/96 [00:26<00:00,  3.69it/s]\n",
            "Val   - Epoch: 67, Loss: 7.2504, AvgLoss: 7.4192: 100%|██████████| 24/24 [00:04<00:00,  5.93it/s]\n",
            "Train - Epoch: 68, Loss: 5.9666, AvgLoss: 5.1331: 100%|██████████| 96/96 [00:26<00:00,  3.67it/s]\n",
            "Val   - Epoch: 68, Loss: 7.8596, AvgLoss: 7.4563: 100%|██████████| 24/24 [00:03<00:00,  6.06it/s]\n",
            "Train - Epoch: 69, Loss: 4.6671, AvgLoss: 5.0137: 100%|██████████| 96/96 [00:26<00:00,  3.68it/s]\n",
            "Val   - Epoch: 69, Loss: 7.4583, AvgLoss: 7.4211: 100%|██████████| 24/24 [00:03<00:00,  6.10it/s]\n"
          ],
          "name": "stderr"
        }
      ]
    },
    {
      "cell_type": "code",
      "metadata": {
        "id": "RPJi9d7xi2Oe",
        "colab_type": "code",
        "colab": {}
      },
      "source": [
        "torch.save(hwr_recognizer.state_dict(), 'hwr_model2')"
      ],
      "execution_count": 0,
      "outputs": []
    },
    {
      "cell_type": "code",
      "metadata": {
        "id": "FSKPw4zXtv_U",
        "colab_type": "code",
        "colab": {}
      },
      "source": [
        "cp \"hwr_model2\" \"drive/My Drive/datasets/hwr_model2\""
      ],
      "execution_count": 0,
      "outputs": []
    },
    {
      "cell_type": "markdown",
      "metadata": {
        "id": "4LBcHq-ai3Bx",
        "colab_type": "text"
      },
      "source": [
        "### Train Model 3"
      ]
    },
    {
      "cell_type": "code",
      "metadata": {
        "id": "X3zmCh-Hi4or",
        "colab_type": "code",
        "outputId": "dc4262b7-31dd-4d0f-db2e-ed5f3c9df001",
        "colab": {
          "base_uri": "https://localhost:8080/"
        }
      },
      "source": [
        "iam_dataset = IamDataset(desired_size=(32, 128), total_imgs=30000)\n",
        "iam_train_dataset, iam_val_dataset = torch.utils.data.random_split(iam_dataset, [24000, 6000])\n",
        "\n",
        "hwr_recognizer, losses = hwr_train(iam_train_dataset, iam_val_dataset)"
      ],
      "execution_count": 0,
      "outputs": [
        {
          "output_type": "stream",
          "text": [
            "Train - Epoch: 0, Loss: 18.1701, AvgLoss: 25.5700: 100%|██████████| 96/96 [00:26<00:00,  3.65it/s]\n",
            "Val   - Epoch: 0, Loss: 18.6034, AvgLoss: 18.0524: 100%|██████████| 24/24 [00:04<00:00,  5.84it/s]\n",
            "Train - Epoch: 1, Loss: 16.1611, AvgLoss: 17.2654: 100%|██████████| 96/96 [00:26<00:00,  3.66it/s]\n",
            "Val   - Epoch: 1, Loss: 16.2956, AvgLoss: 16.7655: 100%|██████████| 24/24 [00:04<00:00,  5.71it/s]\n",
            "Train - Epoch: 2, Loss: 16.8245, AvgLoss: 16.2026: 100%|██████████| 96/96 [00:26<00:00,  3.67it/s]\n",
            "Val   - Epoch: 2, Loss: 15.7579, AvgLoss: 16.2177: 100%|██████████| 24/24 [00:04<00:00,  5.85it/s]\n",
            "Train - Epoch: 3, Loss: 15.5502, AvgLoss: 15.4971: 100%|██████████| 96/96 [00:26<00:00,  3.66it/s]\n",
            "Val   - Epoch: 3, Loss: 15.1931, AvgLoss: 15.2202: 100%|██████████| 24/24 [00:04<00:00,  5.84it/s]\n",
            "Train - Epoch: 4, Loss: 14.7941, AvgLoss: 14.9641: 100%|██████████| 96/96 [00:26<00:00,  3.65it/s]\n",
            "Val   - Epoch: 4, Loss: 15.0183, AvgLoss: 15.8599: 100%|██████████| 24/24 [00:04<00:00,  5.94it/s]\n",
            "Train - Epoch: 5, Loss: 14.2483, AvgLoss: 14.6462: 100%|██████████| 96/96 [00:26<00:00,  3.66it/s]\n",
            "Val   - Epoch: 5, Loss: 14.5163, AvgLoss: 14.5702: 100%|██████████| 24/24 [00:04<00:00,  5.86it/s]\n",
            "Train - Epoch: 6, Loss: 14.7517, AvgLoss: 14.1956: 100%|██████████| 96/96 [00:26<00:00,  3.66it/s]\n",
            "Val   - Epoch: 6, Loss: 13.2218, AvgLoss: 14.0232: 100%|██████████| 24/24 [00:04<00:00,  5.85it/s]\n",
            "Train - Epoch: 7, Loss: 14.3481, AvgLoss: 13.9026: 100%|██████████| 96/96 [00:26<00:00,  3.68it/s]\n",
            "Val   - Epoch: 7, Loss: 14.7084, AvgLoss: 14.0139: 100%|██████████| 24/24 [00:04<00:00,  5.90it/s]\n",
            "Train - Epoch: 8, Loss: 14.5555, AvgLoss: 13.7108: 100%|██████████| 96/96 [00:26<00:00,  3.68it/s]\n",
            "Val   - Epoch: 8, Loss: 13.5531, AvgLoss: 13.6409: 100%|██████████| 24/24 [00:04<00:00,  5.84it/s]\n",
            "Train - Epoch: 9, Loss: 12.1288, AvgLoss: 13.5351: 100%|██████████| 96/96 [00:26<00:00,  3.67it/s]\n",
            "Val   - Epoch: 9, Loss: 12.6421, AvgLoss: 13.4427: 100%|██████████| 24/24 [00:04<00:00,  5.91it/s]\n",
            "Train - Epoch: 10, Loss: 11.7862, AvgLoss: 13.3536: 100%|██████████| 96/96 [00:26<00:00,  3.67it/s]\n",
            "Val   - Epoch: 10, Loss: 13.0778, AvgLoss: 13.3519: 100%|██████████| 24/24 [00:04<00:00,  5.97it/s]\n",
            "Train - Epoch: 11, Loss: 12.2301, AvgLoss: 13.1640: 100%|██████████| 96/96 [00:26<00:00,  3.68it/s]\n",
            "Val   - Epoch: 11, Loss: 14.0600, AvgLoss: 13.0707: 100%|██████████| 24/24 [00:04<00:00,  5.93it/s]\n",
            "Train - Epoch: 12, Loss: 12.9543, AvgLoss: 12.9315: 100%|██████████| 96/96 [00:26<00:00,  3.69it/s]\n",
            "Val   - Epoch: 12, Loss: 13.2593, AvgLoss: 12.8937: 100%|██████████| 24/24 [00:04<00:00,  5.95it/s]\n",
            "Train - Epoch: 13, Loss: 13.7125, AvgLoss: 12.8308: 100%|██████████| 96/96 [00:26<00:00,  3.68it/s]\n",
            "Val   - Epoch: 13, Loss: 13.1251, AvgLoss: 12.7917: 100%|██████████| 24/24 [00:04<00:00,  5.91it/s]\n",
            "Train - Epoch: 14, Loss: 13.6834, AvgLoss: 12.6465: 100%|██████████| 96/96 [00:26<00:00,  3.66it/s]\n",
            "Val   - Epoch: 14, Loss: 12.2936, AvgLoss: 12.7117: 100%|██████████| 24/24 [00:03<00:00,  6.05it/s]\n",
            "Train - Epoch: 15, Loss: 12.1253, AvgLoss: 12.5576: 100%|██████████| 96/96 [00:26<00:00,  3.68it/s]\n",
            "Val   - Epoch: 15, Loss: 12.3109, AvgLoss: 12.5413: 100%|██████████| 24/24 [00:04<00:00,  5.98it/s]\n",
            "Train - Epoch: 16, Loss: 12.7108, AvgLoss: 12.4469: 100%|██████████| 96/96 [00:26<00:00,  3.68it/s]\n",
            "Val   - Epoch: 16, Loss: 12.6298, AvgLoss: 12.5048: 100%|██████████| 24/24 [00:04<00:00,  5.89it/s]\n",
            "Train - Epoch: 17, Loss: 11.6491, AvgLoss: 12.3713: 100%|██████████| 96/96 [00:26<00:00,  3.69it/s]\n",
            "Val   - Epoch: 17, Loss: 12.5058, AvgLoss: 12.3378: 100%|██████████| 24/24 [00:04<00:00,  5.95it/s]\n",
            "Train - Epoch: 18, Loss: 12.7460, AvgLoss: 12.1935: 100%|██████████| 96/96 [00:26<00:00,  3.68it/s]\n",
            "Val   - Epoch: 18, Loss: 13.8747, AvgLoss: 12.2531: 100%|██████████| 24/24 [00:04<00:00,  5.92it/s]\n",
            "Train - Epoch: 19, Loss: 11.5796, AvgLoss: 12.0168: 100%|██████████| 96/96 [00:25<00:00,  3.70it/s]\n",
            "Val   - Epoch: 19, Loss: 11.8067, AvgLoss: 12.2560: 100%|██████████| 24/24 [00:03<00:00,  6.03it/s]\n",
            "Train - Epoch: 20, Loss: 11.0734, AvgLoss: 11.8856: 100%|██████████| 96/96 [00:26<00:00,  3.68it/s]\n",
            "Val   - Epoch: 20, Loss: 11.9796, AvgLoss: 11.9658: 100%|██████████| 24/24 [00:03<00:00,  6.04it/s]\n",
            "Train - Epoch: 21, Loss: 12.0899, AvgLoss: 11.7473: 100%|██████████| 96/96 [00:26<00:00,  3.68it/s]\n",
            "Val   - Epoch: 21, Loss: 11.9716, AvgLoss: 11.7795: 100%|██████████| 24/24 [00:03<00:00,  6.00it/s]\n",
            "Train - Epoch: 22, Loss: 11.0081, AvgLoss: 11.5880: 100%|██████████| 96/96 [00:25<00:00,  3.70it/s]\n",
            "Val   - Epoch: 22, Loss: 11.6386, AvgLoss: 11.5515: 100%|██████████| 24/24 [00:04<00:00,  6.00it/s]\n",
            "Train - Epoch: 23, Loss: 10.7152, AvgLoss: 11.4224: 100%|██████████| 96/96 [00:26<00:00,  3.69it/s]\n",
            "Val   - Epoch: 23, Loss: 10.5107, AvgLoss: 11.5170: 100%|██████████| 24/24 [00:03<00:00,  6.04it/s]\n",
            "Train - Epoch: 24, Loss: 11.0539, AvgLoss: 11.2972: 100%|██████████| 96/96 [00:26<00:00,  3.69it/s]\n",
            "Val   - Epoch: 24, Loss: 12.3699, AvgLoss: 11.3961: 100%|██████████| 24/24 [00:04<00:00,  5.92it/s]\n",
            "Train - Epoch: 25, Loss: 11.1057, AvgLoss: 11.1485: 100%|██████████| 96/96 [00:25<00:00,  3.70it/s]\n",
            "Val   - Epoch: 25, Loss: 11.5817, AvgLoss: 11.2339: 100%|██████████| 24/24 [00:03<00:00,  6.01it/s]\n",
            "Train - Epoch: 26, Loss: 10.3513, AvgLoss: 11.0331: 100%|██████████| 96/96 [00:26<00:00,  3.69it/s]\n",
            "Val   - Epoch: 26, Loss: 10.7475, AvgLoss: 11.0928: 100%|██████████| 24/24 [00:04<00:00,  5.96it/s]\n",
            "Train - Epoch: 27, Loss: 11.1992, AvgLoss: 10.9180: 100%|██████████| 96/96 [00:26<00:00,  3.67it/s]\n",
            "Val   - Epoch: 27, Loss: 11.0741, AvgLoss: 10.9819: 100%|██████████| 24/24 [00:03<00:00,  6.06it/s]\n",
            "Train - Epoch: 28, Loss: 10.6316, AvgLoss: 10.7750: 100%|██████████| 96/96 [00:26<00:00,  3.67it/s]\n",
            "Val   - Epoch: 28, Loss: 11.1978, AvgLoss: 11.0364: 100%|██████████| 24/24 [00:04<00:00,  5.99it/s]\n",
            "Train - Epoch: 29, Loss: 10.0935, AvgLoss: 10.6105: 100%|██████████| 96/96 [00:26<00:00,  3.68it/s]\n",
            "Val   - Epoch: 29, Loss: 11.5213, AvgLoss: 10.7897: 100%|██████████| 24/24 [00:04<00:00,  6.00it/s]\n",
            "Train - Epoch: 30, Loss: 10.0015, AvgLoss: 10.4906: 100%|██████████| 96/96 [00:26<00:00,  3.69it/s]\n",
            "Val   - Epoch: 30, Loss: 10.9009, AvgLoss: 10.7360: 100%|██████████| 24/24 [00:03<00:00,  6.00it/s]\n",
            "Train - Epoch: 31, Loss: 10.8951, AvgLoss: 10.3594: 100%|██████████| 96/96 [00:25<00:00,  3.71it/s]\n",
            "Val   - Epoch: 31, Loss: 9.1952, AvgLoss: 10.6656: 100%|██████████| 24/24 [00:04<00:00,  5.98it/s]\n",
            "Train - Epoch: 32, Loss: 11.3011, AvgLoss: 10.2602: 100%|██████████| 96/96 [00:25<00:00,  3.70it/s]\n",
            "Val   - Epoch: 32, Loss: 10.0945, AvgLoss: 10.4949: 100%|██████████| 24/24 [00:04<00:00,  5.97it/s]\n",
            "Train - Epoch: 33, Loss: 10.7957, AvgLoss: 10.1328: 100%|██████████| 96/96 [00:26<00:00,  3.68it/s]\n",
            "Val   - Epoch: 33, Loss: 10.4943, AvgLoss: 10.3818: 100%|██████████| 24/24 [00:04<00:00,  5.98it/s]\n",
            "Train - Epoch: 34, Loss: 9.7675, AvgLoss: 9.9534: 100%|██████████| 96/96 [00:25<00:00,  3.69it/s]\n",
            "Val   - Epoch: 34, Loss: 11.0614, AvgLoss: 10.3385: 100%|██████████| 24/24 [00:03<00:00,  6.03it/s]\n",
            "Train - Epoch: 35, Loss: 10.5284, AvgLoss: 9.8782: 100%|██████████| 96/96 [00:26<00:00,  3.68it/s]\n",
            "Val   - Epoch: 35, Loss: 10.3929, AvgLoss: 10.1885: 100%|██████████| 24/24 [00:03<00:00,  6.06it/s]\n",
            "Train - Epoch: 36, Loss: 10.3431, AvgLoss: 9.7665: 100%|██████████| 96/96 [00:26<00:00,  3.69it/s]\n",
            "Val   - Epoch: 36, Loss: 9.8620, AvgLoss: 10.0467: 100%|██████████| 24/24 [00:03<00:00,  6.04it/s]\n",
            "Train - Epoch: 37, Loss: 10.2194, AvgLoss: 9.5849: 100%|██████████| 96/96 [00:26<00:00,  3.68it/s]\n",
            "Val   - Epoch: 37, Loss: 9.2950, AvgLoss: 9.8484: 100%|██████████| 24/24 [00:04<00:00,  5.95it/s]\n",
            "Train - Epoch: 38, Loss: 8.9990, AvgLoss: 9.4778: 100%|██████████| 96/96 [00:25<00:00,  3.70it/s]\n",
            "Val   - Epoch: 38, Loss: 10.2610, AvgLoss: 9.8027: 100%|██████████| 24/24 [00:04<00:00,  5.87it/s]\n",
            "Train - Epoch: 39, Loss: 9.4666, AvgLoss: 9.3166: 100%|██████████| 96/96 [00:26<00:00,  3.67it/s]\n",
            "Val   - Epoch: 39, Loss: 9.1045, AvgLoss: 9.6354: 100%|██████████| 24/24 [00:04<00:00,  5.97it/s]\n",
            "Train - Epoch: 40, Loss: 9.3112, AvgLoss: 9.2150: 100%|██████████| 96/96 [00:26<00:00,  3.68it/s]\n",
            "Val   - Epoch: 40, Loss: 8.9113, AvgLoss: 9.6045: 100%|██████████| 24/24 [00:04<00:00,  5.89it/s]\n",
            "Train - Epoch: 41, Loss: 9.2384, AvgLoss: 9.0373: 100%|██████████| 96/96 [00:26<00:00,  3.68it/s]\n",
            "Val   - Epoch: 41, Loss: 9.8370, AvgLoss: 9.4502: 100%|██████████| 24/24 [00:04<00:00,  5.98it/s]\n",
            "Train - Epoch: 42, Loss: 9.3769, AvgLoss: 8.8779: 100%|██████████| 96/96 [00:26<00:00,  3.68it/s]\n",
            "Val   - Epoch: 42, Loss: 8.7981, AvgLoss: 9.4171: 100%|██████████| 24/24 [00:03<00:00,  6.02it/s]\n",
            "Train - Epoch: 43, Loss: 9.0080, AvgLoss: 8.7814: 100%|██████████| 96/96 [00:26<00:00,  3.68it/s]\n",
            "Val   - Epoch: 43, Loss: 8.2851, AvgLoss: 9.2355: 100%|██████████| 24/24 [00:03<00:00,  6.01it/s]\n",
            "Train - Epoch: 44, Loss: 8.2016, AvgLoss: 8.6386: 100%|██████████| 96/96 [00:26<00:00,  3.68it/s]\n",
            "Val   - Epoch: 44, Loss: 9.2917, AvgLoss: 9.1711: 100%|██████████| 24/24 [00:04<00:00,  5.90it/s]\n",
            "Train - Epoch: 45, Loss: 7.9119, AvgLoss: 8.4696: 100%|██████████| 96/96 [00:26<00:00,  3.67it/s]\n",
            "Val   - Epoch: 45, Loss: 8.2396, AvgLoss: 9.0124: 100%|██████████| 24/24 [00:03<00:00,  6.01it/s]\n",
            "Train - Epoch: 46, Loss: 8.0582, AvgLoss: 8.3281: 100%|██████████| 96/96 [00:26<00:00,  3.69it/s]\n",
            "Val   - Epoch: 46, Loss: 9.4089, AvgLoss: 9.0092: 100%|██████████| 24/24 [00:04<00:00,  5.84it/s]\n",
            "Train - Epoch: 47, Loss: 8.6751, AvgLoss: 8.2156: 100%|██████████| 96/96 [00:25<00:00,  3.70it/s]\n",
            "Val   - Epoch: 47, Loss: 7.9620, AvgLoss: 8.9495: 100%|██████████| 24/24 [00:03<00:00,  6.12it/s]\n",
            "Train - Epoch: 48, Loss: 8.7341, AvgLoss: 7.9873: 100%|██████████| 96/96 [00:26<00:00,  3.67it/s]\n",
            "Val   - Epoch: 48, Loss: 8.8452, AvgLoss: 8.7380: 100%|██████████| 24/24 [00:04<00:00,  5.93it/s]\n",
            "Train - Epoch: 49, Loss: 7.1964, AvgLoss: 7.8547: 100%|██████████| 96/96 [00:26<00:00,  3.67it/s]\n",
            "Val   - Epoch: 49, Loss: 8.7498, AvgLoss: 8.7677: 100%|██████████| 24/24 [00:04<00:00,  5.90it/s]\n",
            "Train - Epoch: 50, Loss: 7.2689, AvgLoss: 7.7525: 100%|██████████| 96/96 [00:26<00:00,  3.68it/s]\n",
            "Val   - Epoch: 50, Loss: 8.1403, AvgLoss: 8.5969: 100%|██████████| 24/24 [00:03<00:00,  6.04it/s]\n",
            "Train - Epoch: 51, Loss: 8.7466, AvgLoss: 7.5072: 100%|██████████| 96/96 [00:26<00:00,  3.67it/s]\n",
            "Val   - Epoch: 51, Loss: 7.9272, AvgLoss: 8.4469: 100%|██████████| 24/24 [00:04<00:00,  5.91it/s]\n",
            "Train - Epoch: 52, Loss: 7.3293, AvgLoss: 7.3915: 100%|██████████| 96/96 [00:26<00:00,  3.68it/s]\n",
            "Val   - Epoch: 52, Loss: 9.0500, AvgLoss: 8.4210: 100%|██████████| 24/24 [00:04<00:00,  5.97it/s]\n",
            "Train - Epoch: 53, Loss: 8.2737, AvgLoss: 7.2239: 100%|██████████| 96/96 [00:26<00:00,  3.68it/s]\n",
            "Val   - Epoch: 53, Loss: 7.7494, AvgLoss: 8.2648: 100%|██████████| 24/24 [00:04<00:00,  5.92it/s]\n",
            "Train - Epoch: 54, Loss: 6.5505, AvgLoss: 7.0813: 100%|██████████| 96/96 [00:26<00:00,  3.67it/s]\n",
            "Val   - Epoch: 54, Loss: 9.2552, AvgLoss: 8.4002: 100%|██████████| 24/24 [00:03<00:00,  6.03it/s]\n",
            "Train - Epoch: 55, Loss: 7.2686, AvgLoss: 6.9302: 100%|██████████| 96/96 [00:25<00:00,  3.70it/s]\n",
            "Val   - Epoch: 55, Loss: 8.4171, AvgLoss: 8.1370: 100%|██████████| 24/24 [00:04<00:00,  5.92it/s]\n",
            "Train - Epoch: 56, Loss: 6.6924, AvgLoss: 6.7554: 100%|██████████| 96/96 [00:26<00:00,  3.67it/s]\n",
            "Val   - Epoch: 56, Loss: 7.5134, AvgLoss: 8.0389: 100%|██████████| 24/24 [00:04<00:00,  5.89it/s]\n",
            "Train - Epoch: 57, Loss: 7.1071, AvgLoss: 6.6201: 100%|██████████| 96/96 [00:25<00:00,  3.70it/s]\n",
            "Val   - Epoch: 57, Loss: 8.4829, AvgLoss: 8.0797: 100%|██████████| 24/24 [00:04<00:00,  5.99it/s]\n",
            "Train - Epoch: 58, Loss: 6.5986, AvgLoss: 6.4761: 100%|██████████| 96/96 [00:26<00:00,  3.68it/s]\n",
            "Val   - Epoch: 58, Loss: 8.0701, AvgLoss: 8.1201: 100%|██████████| 24/24 [00:03<00:00,  6.08it/s]\n",
            "Train - Epoch: 59, Loss: 6.5276, AvgLoss: 6.2757: 100%|██████████| 96/96 [00:26<00:00,  3.68it/s]\n",
            "Val   - Epoch: 59, Loss: 8.2934, AvgLoss: 8.0082: 100%|██████████| 24/24 [00:03<00:00,  6.04it/s]\n",
            "Train - Epoch: 60, Loss: 6.8138, AvgLoss: 6.1474: 100%|██████████| 96/96 [00:25<00:00,  3.70it/s]\n",
            "Val   - Epoch: 60, Loss: 7.7994, AvgLoss: 7.9542: 100%|██████████| 24/24 [00:03<00:00,  6.01it/s]\n",
            "Train - Epoch: 61, Loss: 6.7712, AvgLoss: 6.0179: 100%|██████████| 96/96 [00:26<00:00,  3.67it/s]\n",
            "Val   - Epoch: 61, Loss: 7.4303, AvgLoss: 7.9266: 100%|██████████| 24/24 [00:04<00:00,  5.93it/s]\n",
            "Train - Epoch: 62, Loss: 5.6004, AvgLoss: 5.8209: 100%|██████████| 96/96 [00:25<00:00,  3.69it/s]\n",
            "Val   - Epoch: 62, Loss: 7.9503, AvgLoss: 7.8228: 100%|██████████| 24/24 [00:03<00:00,  6.00it/s]\n",
            "Train - Epoch: 63, Loss: 5.1995, AvgLoss: 5.6443: 100%|██████████| 96/96 [00:25<00:00,  3.70it/s]\n",
            "Val   - Epoch: 63, Loss: 7.4354, AvgLoss: 7.7678: 100%|██████████| 24/24 [00:03<00:00,  6.02it/s]\n",
            "Train - Epoch: 64, Loss: 5.8541, AvgLoss: 5.5137: 100%|██████████| 96/96 [00:26<00:00,  3.67it/s]\n",
            "Val   - Epoch: 64, Loss: 8.4227, AvgLoss: 7.9996: 100%|██████████| 24/24 [00:04<00:00,  5.97it/s]\n",
            "Train - Epoch: 65, Loss: 5.3544, AvgLoss: 5.3718: 100%|██████████| 96/96 [00:26<00:00,  3.68it/s]\n",
            "Val   - Epoch: 65, Loss: 7.3708, AvgLoss: 7.8397: 100%|██████████| 24/24 [00:04<00:00,  5.94it/s]\n",
            "Train - Epoch: 66, Loss: 5.8544, AvgLoss: 5.1805: 100%|██████████| 96/96 [00:26<00:00,  3.69it/s]\n",
            "Val   - Epoch: 66, Loss: 7.0150, AvgLoss: 7.8442: 100%|██████████| 24/24 [00:03<00:00,  6.05it/s]\n",
            "Train - Epoch: 67, Loss: 5.6288, AvgLoss: 4.5049: 100%|██████████| 96/96 [00:26<00:00,  3.67it/s]\n",
            "Val   - Epoch: 67, Loss: 7.2036, AvgLoss: 7.5369: 100%|██████████| 24/24 [00:03<00:00,  6.00it/s]\n",
            "Train - Epoch: 68, Loss: 4.2348, AvgLoss: 4.3051: 100%|██████████| 96/96 [00:26<00:00,  3.69it/s]\n",
            "Val   - Epoch: 68, Loss: 7.4069, AvgLoss: 7.5643: 100%|██████████| 24/24 [00:03<00:00,  6.07it/s]\n",
            "Train - Epoch: 69, Loss: 4.2036, AvgLoss: 4.2176: 100%|██████████| 96/96 [00:25<00:00,  3.71it/s]\n",
            "Val   - Epoch: 69, Loss: 7.8204, AvgLoss: 7.5571: 100%|██████████| 24/24 [00:03<00:00,  6.04it/s]\n"
          ],
          "name": "stderr"
        }
      ]
    },
    {
      "cell_type": "code",
      "metadata": {
        "id": "9dVOyxLXi7AD",
        "colab_type": "code",
        "colab": {}
      },
      "source": [
        "torch.save(hwr_recognizer.state_dict(), 'hwr_model3')"
      ],
      "execution_count": 0,
      "outputs": []
    },
    {
      "cell_type": "code",
      "metadata": {
        "id": "4ZEFfGbAt6q9",
        "colab_type": "code",
        "colab": {}
      },
      "source": [
        "cp \"hwr_model3\" \"drive/My Drive/datasets/hwr_model3\""
      ],
      "execution_count": 0,
      "outputs": []
    },
    {
      "cell_type": "markdown",
      "metadata": {
        "id": "6XU8eYLDi7qF",
        "colab_type": "text"
      },
      "source": [
        "### Train Model 4"
      ]
    },
    {
      "cell_type": "code",
      "metadata": {
        "id": "TS_KQWuai_Rb",
        "colab_type": "code",
        "colab": {}
      },
      "source": [
        "iam_dataset = IamDataset(desired_size=(32, 128), total_imgs=30000)\n",
        "iam_train_dataset, iam_val_dataset = torch.utils.data.random_split(iam_dataset, [24000, 6000])\n",
        "\n",
        "hwr_recognizer, losses = hwr_train(iam_train_dataset, iam_val_dataset)"
      ],
      "execution_count": 0,
      "outputs": []
    },
    {
      "cell_type": "code",
      "metadata": {
        "id": "UfM-wztIjBjm",
        "colab_type": "code",
        "colab": {}
      },
      "source": [
        "torch.save(hwr_recognizer.state_dict(), 'hwr_model4')"
      ],
      "execution_count": 0,
      "outputs": []
    },
    {
      "cell_type": "code",
      "metadata": {
        "id": "4v8qSGiiuD1S",
        "colab_type": "code",
        "colab": {}
      },
      "source": [
        "cp \"hwr_model4\" \"drive/My Drive/datasets/hwr_model4\""
      ],
      "execution_count": 0,
      "outputs": []
    },
    {
      "cell_type": "markdown",
      "metadata": {
        "id": "PeA87IduiTyL",
        "colab_type": "text"
      },
      "source": [
        "# Self-Supervised Ensemble Learning"
      ]
    },
    {
      "cell_type": "code",
      "metadata": {
        "id": "PPhZTkVtGP9S",
        "colab_type": "code",
        "colab": {}
      },
      "source": [
        "def select_best(preds):\n",
        "  if preds[0] == preds[1] and preds[1] == preds[2] and preds[2] == preds[3]:\n",
        "    return preds[0]\n",
        "  # if preds[0] == preds[1] or preds[0] == preds[2]:\n",
        "    # return preds[0]\n",
        "  # if preds[1] == preds[2]:\n",
        "    # return preds[1]\n",
        "\n",
        "  return None\n",
        "\n",
        "def select_best_batch(batch):\n",
        "  bests = []\n",
        "  for preds in batch:\n",
        "    bests.append(select_best(preds))\n",
        "  return bests"
      ],
      "execution_count": 0,
      "outputs": []
    },
    {
      "cell_type": "code",
      "metadata": {
        "id": "rlDhqCDEu3aO",
        "colab_type": "code",
        "colab": {}
      },
      "source": [
        "def train(hwr1, hwr2, hwr3, hwr4, dataset):\n",
        "  try:\n",
        "    EPOCHS = 50\n",
        "    BATCH_SIZE = 100\n",
        "    SEQUENCE_SIZE = 20\n",
        "    SCHEDULER_PATIENCE = 2\n",
        "    SCHEDULER_FACTOR = .1\n",
        "\n",
        "    dataset_size = len(dataset)\n",
        "    train_size = int(.8 * dataset_size)\n",
        "\n",
        "    train_loader = DataLoader(dataset, batch_size=BATCH_SIZE, num_workers=4, sampler=SubsetRandomSampler(list(range(train_size))))\n",
        "    val_loader = DataLoader(dataset, batch_size=BATCH_SIZE, num_workers=4, sampler=SubsetRandomSampler(list(range(train_size, dataset_size))))\n",
        "\n",
        "    encoder = Encoder(sequence_size=SEQUENCE_SIZE)\n",
        "\n",
        "    hwr1_optimizer = optim.Adam(hwr1.parameters(), lr=1e-4)\n",
        "    hwr2_optimizer = optim.Adam(hwr2.parameters(), lr=1e-4)\n",
        "    hwr3_optimizer = optim.Adam(hwr3.parameters(), lr=1e-4)\n",
        "    hwr4_optimizer = optim.Adam(hwr4.parameters(), lr=1e-4)\n",
        "\n",
        "    hwr1_scheduler = optim.lr_scheduler.ReduceLROnPlateau(hwr1_optimizer, factor=SCHEDULER_FACTOR, patience=SCHEDULER_PATIENCE)\n",
        "    hwr2_scheduler = optim.lr_scheduler.ReduceLROnPlateau(hwr2_optimizer, factor=SCHEDULER_FACTOR, patience=SCHEDULER_PATIENCE)\n",
        "    hwr3_scheduler = optim.lr_scheduler.ReduceLROnPlateau(hwr3_optimizer, factor=SCHEDULER_FACTOR, patience=SCHEDULER_PATIENCE)\n",
        "    hwr4_scheduler = optim.lr_scheduler.ReduceLROnPlateau(hwr4_optimizer, factor=SCHEDULER_FACTOR, patience=SCHEDULER_PATIENCE)\n",
        "\n",
        "    objective = nn.CTCLoss(blank=0, reduction='none', zero_infinity=True)\n",
        "\n",
        "    hwr1_losses, hwr1_cers, hwr1_wers = [], [], []\n",
        "    hwr2_losses, hwr2_cers, hwr2_wers = [], [], []\n",
        "    hwr3_losses, hwr3_cers, hwr3_wers = [], [], []\n",
        "    hwr4_losses, hwr4_cers, hwr4_wers = [], [], []\n",
        "\n",
        "    for epoch in range(EPOCHS):\n",
        "\n",
        "      best_predictions = []\n",
        "\n",
        "      # Make Predictions\n",
        "      hwr1.eval()\n",
        "      hwr2.eval()\n",
        "      hwr3.eval()\n",
        "      hwr4.eval()\n",
        "      prediction_loop = tqdm(total=len(train_loader), position=0, leave=True)\n",
        "      for imgs, words, indices in train_loader:\n",
        "        with torch.no_grad():\n",
        "          batch_size = imgs.shape[0]\n",
        "\n",
        "          idxs, word_lengths = encoder.str_to_idxs_batch(words)\n",
        "          imgs, labels = imgs.cuda(), torch.tensor(idxs).cuda()\n",
        "\n",
        "          hwr1_preds = hwr1(imgs)\n",
        "          hwr2_preds = hwr2(imgs)\n",
        "          hwr3_preds = hwr3(imgs)\n",
        "          hwr4_preds = hwr4(imgs)          \n",
        "\n",
        "          hwr1_preds_strings = np.expand_dims(encoder.idxs_to_str_batch(hwr1_preds.permute(1, 0, 2).argmax(dim=2).cpu()), axis=1)\n",
        "          hwr2_preds_strings = np.expand_dims(encoder.idxs_to_str_batch(hwr2_preds.permute(1, 0, 2).argmax(dim=2).cpu()), axis=1)\n",
        "          hwr3_preds_strings = np.expand_dims(encoder.idxs_to_str_batch(hwr3_preds.permute(1, 0, 2).argmax(dim=2).cpu()), axis=1)\n",
        "          hwr4_preds_strings = np.expand_dims(encoder.idxs_to_str_batch(hwr4_preds.permute(1, 0, 2).argmax(dim=2).cpu()), axis=1)\n",
        "\n",
        "          all_preds = np.concatenate((hwr1_preds_strings, hwr2_preds_strings, hwr3_preds_strings, hwr4_preds_strings), axis=1)\n",
        "\n",
        "          best_preds = select_best_batch(all_preds)\n",
        "\n",
        "          for word, index in zip(best_preds, indices):\n",
        "            if word != None:\n",
        "              best_predictions.append((index.item(), word))\n",
        "\n",
        "          prediction_loop.set_description('Pred  - Epoch: {}, Good Predictions: {}'.format(epoch, len(best_predictions)))\n",
        "          prediction_loop.update(1)\n",
        "\n",
        "      prediction_loop.close()\n",
        "\n",
        "      # Create subset of the training data that performed well - train the model based on this data\n",
        "      indices_subset = [preds[0] for preds in best_predictions]\n",
        "\n",
        "      subset_loader = DataLoader(dataset, batch_size=BATCH_SIZE, num_workers=4, sampler=SubsetRandomSampler(indices_subset))\n",
        "\n",
        "      hwr1.train()\n",
        "      hwr2.train()\n",
        "      hwr3.train()\n",
        "      hwr4.train()\n",
        "\n",
        "      # Retrain on good predictions\n",
        "      train_loop = tqdm(total=len(subset_loader), position=0, leave=True)\n",
        "      for imgs, _, indices in subset_loader:\n",
        "        batch_size = imgs.shape[0]\n",
        "\n",
        "        imgs = imgs.cuda()\n",
        "\n",
        "        hwr1_preds = hwr1(imgs)\n",
        "        hwr2_preds = hwr2(imgs)\n",
        "        hwr3_preds = hwr3(imgs)\n",
        "        hwr4_preds = hwr4(imgs)\n",
        "\n",
        "        words = encoder.idxs_to_str_batch(hwr1_preds.permute(1, 0, 2).argmax(dim=2))\n",
        "        idxs, word_lengths = encoder.str_to_idxs_batch(words)\n",
        "        labels = torch.tensor(idxs).cuda()\n",
        "\n",
        "        input_lengths = torch.full((batch_size,), SEQUENCE_SIZE, dtype=torch.long).cuda()\n",
        "        target_lengths = torch.tensor(word_lengths).cuda()\n",
        "\n",
        "        hwr1_loss = torch.mean(objective(hwr1_preds, labels, input_lengths, target_lengths))\n",
        "        hwr2_loss = torch.mean(objective(hwr2_preds, labels, input_lengths, target_lengths))\n",
        "        hwr3_loss = torch.mean(objective(hwr3_preds, labels, input_lengths, target_lengths))\n",
        "        hwr4_loss = torch.mean(objective(hwr4_preds, labels, input_lengths, target_lengths))\n",
        "\n",
        "        hwr1_optimizer.zero_grad()\n",
        "        hwr2_optimizer.zero_grad()\n",
        "        hwr3_optimizer.zero_grad()\n",
        "        hwr4_optimizer.zero_grad()\n",
        "\n",
        "        hwr1_loss.backward()\n",
        "        hwr2_loss.backward()\n",
        "        hwr3_loss.backward()\n",
        "        hwr4_loss.backward()\n",
        "\n",
        "        hwr1_optimizer.step()\n",
        "        hwr2_optimizer.step()\n",
        "        hwr3_optimizer.step()\n",
        "        hwr4_optimizer.step()\n",
        "\n",
        "        train_loop.set_description('Train - Epoch: {}, HWR1 Loss: {:.4f}, HWR2 Loss: {:.4f}, HWR3 Loss: {:.4f}'.format(epoch, hwr1_loss.item(), hwr2_loss.item(), hwr3_loss.item()))\n",
        "        train_loop.update(1)\n",
        "      \n",
        "      train_loop.close()\n",
        "\n",
        "      # Validate that our results are improving\n",
        "      hwr1_losses_epoch, hwr1_cers_epoch, hwr1_wers_epoch = [], [], []\n",
        "      hwr2_losses_epoch, hwr2_cers_epoch, hwr2_wers_epoch = [], [], []\n",
        "      hwr3_losses_epoch, hwr3_cers_epoch, hwr3_wers_epoch = [], [], []\n",
        "      hwr4_losses_epoch, hwr4_cers_epoch, hwr4_wers_epoch = [], [], []\n",
        "\n",
        "      val_loop = tqdm(total=len(val_loader), position=0, leave=True)\n",
        "      for imgs, words, _ in val_loader:\n",
        "        with torch.no_grad():\n",
        "          batch_size = imgs.shape[0]\n",
        "\n",
        "          idxs, word_lengths = encoder.str_to_idxs_batch(words)\n",
        "          imgs, labels = imgs.cuda(), torch.tensor(idxs).cuda()\n",
        "\n",
        "          input_lengths = torch.full((batch_size,), SEQUENCE_SIZE, dtype=torch.long).cuda()\n",
        "          target_lengths = torch.tensor(word_lengths).cuda()\n",
        "\n",
        "          # Make predictions\n",
        "          hwr1_preds = hwr1(imgs)\n",
        "          hwr2_preds = hwr2(imgs)\n",
        "          hwr3_preds = hwr3(imgs)\n",
        "          hwr4_preds = hwr4(imgs)\n",
        "\n",
        "          # Calculate loss\n",
        "          hwr1_loss = torch.mean(objective(hwr1_preds, labels, input_lengths, target_lengths))\n",
        "          hwr2_loss = torch.mean(objective(hwr2_preds, labels, input_lengths, target_lengths))\n",
        "          hwr3_loss = torch.mean(objective(hwr3_preds, labels, input_lengths, target_lengths))\n",
        "          hwr4_loss = torch.mean(objective(hwr4_preds, labels, input_lengths, target_lengths))\n",
        "\n",
        "          # Calculate other metrics\n",
        "          hwr1_preds_strings = encoder.idxs_to_str_batch(hwr1_preds.permute(1, 0, 2).argmax(dim=2).cpu())\n",
        "          hwr1_cer = cer_batch(hwr1_preds_strings, words)\n",
        "          hwr1_wer = wer_batch(hwr1_preds_strings, words)\n",
        "\n",
        "          hwr2_preds_strings = encoder.idxs_to_str_batch(hwr2_preds.permute(1, 0, 2).argmax(dim=2).cpu())\n",
        "          hwr2_cer = cer_batch(hwr2_preds_strings, words)\n",
        "          hwr2_wer = wer_batch(hwr2_preds_strings, words)\n",
        "\n",
        "          hwr3_preds_strings = encoder.idxs_to_str_batch(hwr3_preds.permute(1, 0, 2).argmax(dim=2).cpu())\n",
        "          hwr3_cer = cer_batch(hwr3_preds_strings, words)\n",
        "          hwr3_wer = wer_batch(hwr3_preds_strings, words)\n",
        "\n",
        "          hwr4_preds_strings = encoder.idxs_to_str_batch(hwr4_preds.permute(1, 0, 2).argmax(dim=2).cpu())\n",
        "          hwr4_cer = cer_batch(hwr4_preds_strings, words)\n",
        "          hwr4_wer = wer_batch(hwr4_preds_strings, words)\n",
        "\n",
        "          # Add to lists\n",
        "          hwr1_losses_epoch.append(hwr1_loss.item())\n",
        "          hwr1_cers_epoch.append(hwr1_cer)\n",
        "          hwr1_wers_epoch.append(hwr1_wer)\n",
        "\n",
        "          hwr2_losses_epoch.append(hwr2_loss.item())\n",
        "          hwr2_cers_epoch.append(hwr2_cer)\n",
        "          hwr2_wers_epoch.append(hwr2_wer)\n",
        "\n",
        "          hwr3_losses_epoch.append(hwr3_loss.item())\n",
        "          hwr3_cers_epoch.append(hwr3_cer)\n",
        "          hwr3_wers_epoch.append(hwr3_wer)\n",
        "\n",
        "          hwr4_losses_epoch.append(hwr4_loss.item())\n",
        "          hwr4_cers_epoch.append(hwr4_cer)\n",
        "          hwr4_wers_epoch.append(hwr4_wer)\n",
        "\n",
        "          # Update our progress loop\n",
        "          val_loop.set_description('Val   - Epoch: {}, Loss: {:.4f}, CER: {:.4f}, WER: {:.4f}, AvgLoss: {:.4f}, AvgCER: {:.4f}, AvgWER: {:.4f}'.format(\n",
        "              epoch, np.mean([hwr1_loss.item(), hwr2_loss.item(), hwr3_loss.item(), hwr4_loss.item()]),\n",
        "              np.mean([hwr1_cer, hwr2_cer, hwr3_cer, hwr4_cer]), np.mean([hwr1_wer, hwr2_wer, hwr3_wer, hwr4_wer]),\n",
        "              np.mean([np.mean(hwr1_losses_epoch), np.mean(hwr2_losses_epoch), np.mean(hwr3_losses_epoch), np.mean(hwr4_losses_epoch)]),\n",
        "              np.mean([np.mean(hwr1_cers_epoch), np.mean(hwr2_cers_epoch), np.mean(hwr3_cers_epoch), np.mean(hwr4_cers_epoch)]),\n",
        "              np.mean([np.mean(hwr1_wers_epoch), np.mean(hwr2_wers_epoch), np.mean(hwr3_wers_epoch), np.mean(hwr4_wers_epoch)])))\n",
        "          val_loop.update(1)\n",
        "        \n",
        "      val_loop.close()\n",
        "\n",
        "      # Add to our overall metric lists\n",
        "      hwr1_losses.append(np.mean(hwr1_losses_epoch))\n",
        "      hwr1_cers.append(np.mean(hwr1_cers_epoch))\n",
        "      hwr1_wers.append(np.mean(hwr1_wers_epoch))\n",
        "\n",
        "      hwr2_losses.append(np.mean(hwr2_losses_epoch))\n",
        "      hwr2_cers.append(np.mean(hwr2_cers_epoch))\n",
        "      hwr2_wers.append(np.mean(hwr2_wers_epoch))\n",
        "\n",
        "      hwr3_losses.append(np.mean(hwr3_losses_epoch))\n",
        "      hwr3_cers.append(np.mean(hwr3_cers_epoch))\n",
        "      hwr3_wers.append(np.mean(hwr3_wers_epoch))\n",
        "\n",
        "      hwr4_losses.append(np.mean(hwr4_losses_epoch))\n",
        "      hwr4_cers.append(np.mean(hwr4_cers_epoch))\n",
        "      hwr4_wers.append(np.mean(hwr4_wers_epoch))\n",
        "\n",
        "      # Update Learning Rate if necessary\n",
        "      hwr1_scheduler.step(hwr1_losses[-1])\n",
        "      hwr2_scheduler.step(hwr2_losses[-1])\n",
        "      hwr3_scheduler.step(hwr3_losses[-1])\n",
        "      hwr4_scheduler.step(hwr4_losses[-1])\n",
        "\n",
        "  except:\n",
        "    __ITB__()\n",
        "    gc.collect()\n",
        "  finally:\n",
        "    return (hwr1.cpu(), hwr2.cpu(), hwr3.cpu(), hwr4.cpu()), (hwr1_losses, hwr2_losses, hwr3_losses, hwr4_losses), (hwr1_cers, hwr2_cers, hwr3_cers, hwr4_cers), (hwr1_wers, hwr2_wers, hwr3_wers, hwr4_wers)"
      ],
      "execution_count": 0,
      "outputs": []
    },
    {
      "cell_type": "code",
      "metadata": {
        "id": "ZkZYWSAJNpx5",
        "colab_type": "code",
        "colab": {}
      },
      "source": [
        "hwr1 = Recognizer()\n",
        "hwr1.load_state_dict(torch.load(\"drive/My Drive/datasets/hwr_model1\"))\n",
        "hwr1 = hwr1.cuda()\n",
        "hwr2 = Recognizer()\n",
        "hwr2.load_state_dict(torch.load(\"drive/My Drive/datasets/hwr_model2\"))\n",
        "hwr2 = hwr2.cuda()\n",
        "hwr3 = Recognizer()\n",
        "hwr3.load_state_dict(torch.load(\"drive/My Drive/datasets/hwr_model3\"))\n",
        "hwr3 = hwr3.cuda()\n",
        "hwr4 = Recognizer()\n",
        "hwr4.load_state_dict(torch.load('drive/My Drive/datasets/hwr_model4'))\n",
        "hwr4 = hwr4.cuda()"
      ],
      "execution_count": 0,
      "outputs": []
    },
    {
      "cell_type": "code",
      "metadata": {
        "id": "inLnHwOs2tPa",
        "colab_type": "code",
        "colab": {
          "base_uri": "https://localhost:8080/",
          "height": 1000
        },
        "outputId": "bad2b0d7-cb3f-4102-a63f-22e2265744e4"
      },
      "source": [
        "rimes_dataset = RimesDataset(desired_size=(32, 128), total_imgs=30000)\n",
        "\n",
        "models, losses, cers, wers = train(hwr1, hwr2, hwr3, hwr4, rimes_dataset)"
      ],
      "execution_count": 75,
      "outputs": [
        {
          "output_type": "stream",
          "text": [
            "Pred  - Epoch: 0, Good Predictions: 83: 100%|██████████| 240/240 [01:03<00:00,  3.79it/s]\n",
            "Train - Epoch: 0, HWR1 Loss: 0.5161, HWR2 Loss: 0.5090, HWR3 Loss: 0.4045: 100%|██████████| 1/1 [00:00<00:00,  1.34it/s]\n",
            "Val   - Epoch: 0, Loss: 19.6390, CER: 0.7677, WER: 0.9900, AvgLoss: 20.8985, AvgCER: 0.7660, AvgWER: 0.9755: 100%|██████████| 60/60 [00:16<00:00,  3.60it/s]\n",
            "Pred  - Epoch: 1, Good Predictions: 239: 100%|██████████| 240/240 [01:03<00:00,  3.79it/s]\n",
            "Train - Epoch: 1, HWR1 Loss: 0.1808, HWR2 Loss: 0.2783, HWR3 Loss: 0.2920: 100%|██████████| 3/3 [00:01<00:00,  1.70it/s]\n",
            "Val   - Epoch: 1, Loss: 20.1792, CER: 0.7280, WER: 0.9600, AvgLoss: nan, AvgCER: 0.7423, AvgWER: 0.9650: 100%|██████████| 60/60 [00:16<00:00,  3.59it/s]\n",
            "Pred  - Epoch: 2, Good Predictions: 641: 100%|██████████| 240/240 [01:03<00:00,  3.79it/s]\n",
            "Train - Epoch: 2, HWR1 Loss: 0.0614, HWR2 Loss: 0.2322, HWR3 Loss: 0.4201: 100%|██████████| 7/7 [00:04<00:00,  1.69it/s]\n",
            "Val   - Epoch: 2, Loss: 21.8328, CER: 0.7367, WER: 0.9700, AvgLoss: 22.0775, AvgCER: 0.7290, AvgWER: 0.9511: 100%|██████████| 60/60 [00:16<00:00,  3.63it/s]\n",
            "Pred  - Epoch: 3, Good Predictions: 1338: 100%|██████████| 240/240 [01:02<00:00,  3.81it/s]\n",
            "Train - Epoch: 3, HWR1 Loss: 0.0113, HWR2 Loss: 0.0069, HWR3 Loss: 0.0189: 100%|██████████| 14/14 [00:08<00:00,  1.72it/s]\n",
            "Val   - Epoch: 3, Loss: 23.2132, CER: 0.7167, WER: 0.9325, AvgLoss: 23.5166, AvgCER: 0.7265, AvgWER: 0.9416: 100%|██████████| 60/60 [00:16<00:00,  3.64it/s]\n",
            "Pred  - Epoch: 4, Good Predictions: 2283: 100%|██████████| 240/240 [01:02<00:00,  3.83it/s]\n",
            "Train - Epoch: 4, HWR1 Loss: 0.0597, HWR2 Loss: 0.0644, HWR3 Loss: 0.0499: 100%|██████████| 23/23 [00:13<00:00,  1.70it/s]\n",
            "Val   - Epoch: 4, Loss: 25.0845, CER: 0.7678, WER: 0.9775, AvgLoss: 23.8717, AvgCER: 0.7253, AvgWER: 0.9407: 100%|██████████| 60/60 [00:16<00:00,  3.63it/s]\n",
            "Pred  - Epoch: 5, Good Predictions: 2475: 100%|██████████| 240/240 [01:02<00:00,  3.85it/s]\n",
            "Train - Epoch: 5, HWR1 Loss: 0.0224, HWR2 Loss: 0.0267, HWR3 Loss: 0.0442: 100%|██████████| 25/25 [00:14<00:00,  1.71it/s]\n",
            "Val   - Epoch: 5, Loss: 23.1548, CER: 0.7017, WER: 0.9150, AvgLoss: 24.2793, AvgCER: 0.7252, AvgWER: 0.9402: 100%|██████████| 60/60 [00:16<00:00,  3.65it/s]\n",
            "Pred  - Epoch: 6, Good Predictions: 2709: 100%|██████████| 240/240 [01:02<00:00,  3.85it/s]\n",
            "Train - Epoch: 6, HWR1 Loss: 0.0071, HWR2 Loss: 0.0098, HWR3 Loss: 0.0733: 100%|██████████| 28/28 [00:15<00:00,  1.76it/s]\n",
            "Val   - Epoch: 6, Loss: 23.9286, CER: 0.7001, WER: 0.9050, AvgLoss: 24.8038, AvgCER: 0.7261, AvgWER: 0.9393: 100%|██████████| 60/60 [00:16<00:00,  3.67it/s]\n",
            "Pred  - Epoch: 7, Good Predictions: 2938: 100%|██████████| 240/240 [01:02<00:00,  3.87it/s]\n",
            "Train - Epoch: 7, HWR1 Loss: 0.0374, HWR2 Loss: 0.0139, HWR3 Loss: 0.0332: 100%|██████████| 30/30 [00:17<00:00,  1.74it/s]\n",
            "Val   - Epoch: 7, Loss: 24.5074, CER: 0.7122, WER: 0.9500, AvgLoss: 24.8731, AvgCER: 0.7266, AvgWER: 0.9395: 100%|██████████| 60/60 [00:16<00:00,  3.67it/s]\n",
            "Pred  - Epoch: 8, Good Predictions: 2972: 100%|██████████| 240/240 [01:02<00:00,  3.87it/s]\n",
            "Train - Epoch: 8, HWR1 Loss: 0.0494, HWR2 Loss: 0.0340, HWR3 Loss: 0.0522: 100%|██████████| 30/30 [00:17<00:00,  1.72it/s]\n",
            "Val   - Epoch: 8, Loss: 23.1537, CER: 0.7070, WER: 0.9525, AvgLoss: 24.9517, AvgCER: 0.7268, AvgWER: 0.9394: 100%|██████████| 60/60 [00:16<00:00,  3.64it/s]\n",
            "Pred  - Epoch: 9, Good Predictions: 3006: 100%|██████████| 240/240 [01:02<00:00,  3.84it/s]\n",
            "Train - Epoch: 9, HWR1 Loss: 0.1182, HWR2 Loss: 0.0129, HWR3 Loss: 0.0038: 100%|██████████| 31/31 [00:17<00:00,  1.75it/s]\n",
            "Val   - Epoch: 9, Loss: 23.8992, CER: 0.7602, WER: 0.9500, AvgLoss: 25.0567, AvgCER: 0.7271, AvgWER: 0.9397: 100%|██████████| 60/60 [00:16<00:00,  3.67it/s]\n",
            "Pred  - Epoch: 10, Good Predictions: 3039: 100%|██████████| 240/240 [01:02<00:00,  3.86it/s]\n",
            "Train - Epoch: 10, HWR1 Loss: 0.0483, HWR2 Loss: 0.0326, HWR3 Loss: 0.0280: 100%|██████████| 31/31 [00:17<00:00,  1.74it/s]\n",
            "Val   - Epoch: 10, Loss: 23.8134, CER: 0.7366, WER: 0.9700, AvgLoss: 25.0648, AvgCER: 0.7272, AvgWER: 0.9397: 100%|██████████| 60/60 [00:16<00:00,  3.64it/s]\n",
            "Pred  - Epoch: 11, Good Predictions: 3045: 100%|██████████| 240/240 [01:02<00:00,  3.84it/s]\n",
            "Train - Epoch: 11, HWR1 Loss: 0.0488, HWR2 Loss: 0.0507, HWR3 Loss: 0.0494: 100%|██████████| 31/31 [00:17<00:00,  1.73it/s]\n",
            "Val   - Epoch: 11, Loss: 24.8690, CER: 0.7497, WER: 0.9500, AvgLoss: 25.0756, AvgCER: 0.7273, AvgWER: 0.9397: 100%|██████████| 60/60 [00:16<00:00,  3.64it/s]\n",
            "Pred  - Epoch: 12, Good Predictions: 3050: 100%|██████████| 240/240 [01:01<00:00,  3.87it/s]\n",
            "Train - Epoch: 12, HWR1 Loss: 0.0478, HWR2 Loss: 0.0175, HWR3 Loss: 0.0094: 100%|██████████| 31/31 [00:17<00:00,  1.73it/s]\n",
            "Val   - Epoch: 12, Loss: 27.5260, CER: 0.7465, WER: 0.9600, AvgLoss: 25.0850, AvgCER: 0.7273, AvgWER: 0.9397: 100%|██████████| 60/60 [00:16<00:00,  3.66it/s]\n",
            "Pred  - Epoch: 13, Good Predictions: 3054: 100%|██████████| 240/240 [01:02<00:00,  3.87it/s]\n",
            "Train - Epoch: 13, HWR1 Loss: 0.0435, HWR2 Loss: 0.0353, HWR3 Loss: 0.0213: 100%|██████████| 31/31 [00:17<00:00,  1.73it/s]\n",
            "Val   - Epoch: 13, Loss: 24.5406, CER: 0.7631, WER: 0.9425, AvgLoss: 25.0866, AvgCER: 0.7273, AvgWER: 0.9397: 100%|██████████| 60/60 [00:16<00:00,  3.63it/s]\n",
            "Pred  - Epoch: 14, Good Predictions: 3055: 100%|██████████| 240/240 [01:02<00:00,  3.85it/s]\n",
            "Train - Epoch: 14, HWR1 Loss: 0.0372, HWR2 Loss: 0.0330, HWR3 Loss: 0.0311: 100%|██████████| 31/31 [00:17<00:00,  1.73it/s]\n",
            "Val   - Epoch: 14, Loss: 26.4946, CER: 0.7391, WER: 0.9725, AvgLoss: nan, AvgCER: 0.7273, AvgWER: 0.9397: 100%|██████████| 60/60 [00:16<00:00,  3.67it/s]\n",
            "Pred  - Epoch: 15, Good Predictions: 3055: 100%|██████████| 240/240 [01:02<00:00,  3.85it/s]\n",
            "Train - Epoch: 15, HWR1 Loss: 0.0503, HWR2 Loss: 0.0595, HWR3 Loss: 0.0541: 100%|██████████| 31/31 [00:17<00:00,  1.73it/s]\n",
            "Val   - Epoch: 15, Loss: 24.8424, CER: 0.7295, WER: 0.9525, AvgLoss: 25.0882, AvgCER: 0.7272, AvgWER: 0.9397: 100%|██████████| 60/60 [00:16<00:00,  3.68it/s]\n",
            "Pred  - Epoch: 16, Good Predictions: 3056: 100%|██████████| 240/240 [01:01<00:00,  3.88it/s]\n",
            "Train - Epoch: 16, HWR1 Loss: 0.0643, HWR2 Loss: 0.0125, HWR3 Loss: 0.0799: 100%|██████████| 31/31 [00:17<00:00,  1.73it/s]\n",
            "Val   - Epoch: 16, Loss: 28.2664, CER: 0.7335, WER: 0.9550, AvgLoss: nan, AvgCER: 0.7272, AvgWER: 0.9398: 100%|██████████| 60/60 [00:16<00:00,  3.68it/s]\n",
            "Pred  - Epoch: 17, Good Predictions: 3056: 100%|██████████| 240/240 [01:02<00:00,  3.84it/s]\n",
            "Train - Epoch: 17, HWR1 Loss: 0.0356, HWR2 Loss: 0.0362, HWR3 Loss: 0.0487: 100%|██████████| 31/31 [00:18<00:00,  1.72it/s]\n",
            "Val   - Epoch: 17, Loss: 25.2654, CER: 0.7282, WER: 0.9275, AvgLoss: 25.0899, AvgCER: 0.7272, AvgWER: 0.9397: 100%|██████████| 60/60 [00:16<00:00,  3.63it/s]\n",
            "Pred  - Epoch: 18, Good Predictions: 3056: 100%|██████████| 240/240 [01:02<00:00,  3.86it/s]\n",
            "Train - Epoch: 18, HWR1 Loss: 0.0315, HWR2 Loss: 0.0256, HWR3 Loss: 0.0291: 100%|██████████| 31/31 [00:17<00:00,  1.73it/s]\n",
            "Val   - Epoch: 18, Loss: 22.6119, CER: 0.6995, WER: 0.9025, AvgLoss: 25.0928, AvgCER: 0.7273, AvgWER: 0.9397: 100%|██████████| 60/60 [00:16<00:00,  3.67it/s]\n",
            "Pred  - Epoch: 19, Good Predictions: 3056: 100%|██████████| 240/240 [01:01<00:00,  3.88it/s]\n",
            "Train - Epoch: 19, HWR1 Loss: 0.0258, HWR2 Loss: 0.0314, HWR3 Loss: 0.0204: 100%|██████████| 31/31 [00:17<00:00,  1.73it/s]\n",
            "Val   - Epoch: 19, Loss: 25.9723, CER: 0.6763, WER: 0.8975, AvgLoss: 25.0932, AvgCER: 0.7273, AvgWER: 0.9397: 100%|██████████| 60/60 [00:16<00:00,  3.66it/s]\n",
            "Pred  - Epoch: 20, Good Predictions: 3056: 100%|██████████| 240/240 [01:01<00:00,  3.89it/s]\n",
            "Train - Epoch: 20, HWR1 Loss: 0.0320, HWR2 Loss: 0.0252, HWR3 Loss: 0.0123: 100%|██████████| 31/31 [00:17<00:00,  1.73it/s]\n",
            "Val   - Epoch: 20, Loss: 23.6820, CER: 0.7157, WER: 0.9625, AvgLoss: nan, AvgCER: 0.7273, AvgWER: 0.9397: 100%|██████████| 60/60 [00:16<00:00,  3.67it/s]\n",
            "Pred  - Epoch: 21, Good Predictions: 3056: 100%|██████████| 240/240 [01:01<00:00,  3.87it/s]\n",
            "Train - Epoch: 21, HWR1 Loss: 0.0477, HWR2 Loss: 0.0315, HWR3 Loss: 0.0596: 100%|██████████| 31/31 [00:17<00:00,  1.74it/s]\n",
            "Val   - Epoch: 21, Loss: 25.3476, CER: 0.7480, WER: 0.9625, AvgLoss: 25.0958, AvgCER: 0.7273, AvgWER: 0.9397: 100%|██████████| 60/60 [00:16<00:00,  3.67it/s]\n",
            "Pred  - Epoch: 22, Good Predictions: 3056: 100%|██████████| 240/240 [01:01<00:00,  3.88it/s]\n",
            "Train - Epoch: 22, HWR1 Loss: 0.0386, HWR2 Loss: 0.0623, HWR3 Loss: 0.0527: 100%|██████████| 31/31 [00:17<00:00,  1.73it/s]\n",
            "Val   - Epoch: 22, Loss: 26.3957, CER: 0.7553, WER: 0.9500, AvgLoss: 25.0961, AvgCER: 0.7273, AvgWER: 0.9397: 100%|██████████| 60/60 [00:16<00:00,  3.69it/s]\n",
            "Pred  - Epoch: 23, Good Predictions: 3056: 100%|██████████| 240/240 [01:01<00:00,  3.88it/s]\n",
            "Train - Epoch: 23, HWR1 Loss: 0.0236, HWR2 Loss: 0.0261, HWR3 Loss: 0.0445: 100%|██████████| 31/31 [00:17<00:00,  1.73it/s]\n",
            "Val   - Epoch: 23, Loss: 26.4260, CER: 0.7001, WER: 0.9225, AvgLoss: 25.0985, AvgCER: 0.7273, AvgWER: 0.9397: 100%|██████████| 60/60 [00:16<00:00,  3.67it/s]\n",
            "Pred  - Epoch: 24, Good Predictions: 3056: 100%|██████████| 240/240 [01:01<00:00,  3.89it/s]\n",
            "Train - Epoch: 24, HWR1 Loss: 0.0426, HWR2 Loss: 0.0206, HWR3 Loss: 0.0519: 100%|██████████| 31/31 [00:17<00:00,  1.73it/s]\n",
            "Val   - Epoch: 24, Loss: 28.0133, CER: 0.7690, WER: 0.9800, AvgLoss: nan, AvgCER: 0.7274, AvgWER: 0.9397: 100%|██████████| 60/60 [00:16<00:00,  3.69it/s]\n",
            "Pred  - Epoch: 25, Good Predictions: 3056: 100%|██████████| 240/240 [01:02<00:00,  3.87it/s]\n",
            "Train - Epoch: 25, HWR1 Loss: 0.0431, HWR2 Loss: 0.0357, HWR3 Loss: 0.0537: 100%|██████████| 31/31 [00:17<00:00,  1.73it/s]\n",
            "Val   - Epoch: 25, Loss: 24.0008, CER: 0.7660, WER: 0.9475, AvgLoss: 25.1006, AvgCER: 0.7274, AvgWER: 0.9397: 100%|██████████| 60/60 [00:16<00:00,  3.68it/s]\n",
            "Pred  - Epoch: 26, Good Predictions: 2597:  85%|████████▍ | 203/240 [00:52<00:09,  3.94it/s]"
          ],
          "name": "stderr"
        },
        {
          "output_type": "stream",
          "text": [
            "\u001b[0;31m---------------------------------------------------------------------------\u001b[0m\n",
            "\u001b[0;31mKeyboardInterrupt\u001b[0m                         Traceback (most recent call last)\n",
            "\u001b[0;31mKeyboardInterrupt\u001b[0m: \n"
          ],
          "name": "stdout"
        }
      ]
    },
    {
      "cell_type": "code",
      "metadata": {
        "id": "r0HioqeJSE0A",
        "colab_type": "code",
        "outputId": "93a0961a-7179-410d-e838-864d30c63b73",
        "colab": {
          "base_uri": "https://localhost:8080/",
          "height": 383
        }
      },
      "source": [
        "plt.title('Ensemble Learning - Character Error Rates')\n",
        "plt.xlabel('Epochs')\n",
        "plt.ylabel('Character Error Rate')\n",
        "plt.plot(cers[0][:10], label='HWR1')\n",
        "plt.plot(cers[1][:10], label='HWR2')\n",
        "plt.plot(cers[2][:10], label='HWR3')\n",
        "plt.plot(cers[3][:10], label='HWR4')\n",
        "plt.legend()\n",
        "plt.show()\n",
        "print('HWR1:', cers[0])\n",
        "print('HWR2:', cers[1])\n",
        "print('HWR3:', cers[2])\n",
        "print('HWR4:', cers[3])"
      ],
      "execution_count": 79,
      "outputs": [
        {
          "output_type": "display_data",
          "data": {
            "image/png": "[encoded data removed]",
            "text/plain": [
              "<Figure size 432x288 with 1 Axes>"
            ]
          },
          "metadata": {
            "tags": [],
            "needs_background": "light"
          }
        },
        {
          "output_type": "stream",
          "text": [
            "HWR1: [0.7846743025493025, 0.753638456913457, 0.7421994366744367, 0.7422723757723759, 0.7428511021386021, 0.7449473221223222, 0.7464364931364931, 0.747392132867133, 0.7475434015059014, 0.7479359501609502, 0.7481538674288675, 0.7480897139897138, 0.7482046670921672, 0.7482255004255004, 0.7482255004255005, 0.7482588337588338, 0.748258833758834, 0.7483159766159767, 0.7483159766159767, 0.7483344951344951, 0.7482511618011618, 0.748271995134495, 0.7482905136530137, 0.7483886618011619, 0.7484905136530136, 0.7485389985014984]\n",
            "HWR2: [0.7575273492710993, 0.7221685552873052, 0.706835128066378, 0.7140125161875162, 0.7141816239316238, 0.7136190772190771, 0.7152610542235542, 0.7158434676434678, 0.716360113960114, 0.7166535182410184, 0.716605833055833, 0.7165426716801716, 0.7164861901986902, 0.7164861901986902, 0.7165278568653568, 0.7165278568653568, 0.7165278568653568, 0.7165516663891666, 0.7166084845709846, 0.7165251512376514, 0.7165251512376511, 0.7165251512376511, 0.7165668179043178, 0.7166362623487623, 0.7166918179043179, 0.7166402306027305]\n",
            "HWR3: [0.7622829059829059, 0.7451186665186664, 0.7287992139804639, 0.7307779683279684, 0.7283536197598697, 0.7280088783901283, 0.7303997874810375, 0.7305935705498204, 0.7308739753302255, 0.7312096956284455, 0.7313238509176009, 0.7315535526973027, 0.7313831161893662, 0.7313831161893662, 0.7312997828560328, 0.7312233939671441, 0.7312233939671439, 0.7312067273004773, 0.7312275606338106, 0.731240722009472, 0.7312740553428053, 0.7312892068579567, 0.7312892068579567, 0.7312992495929993, 0.7312603607041107, 0.7313201550764051]\n",
            "HWR4: [0.7595666421541423, 0.7482942791005291, 0.738217759092759, 0.7191367923742924, 0.7158335937210938, 0.7143898654586154, 0.7123063337125838, 0.7124267803955303, 0.712461304205054, 0.7127446935009434, 0.7128840453527954, 0.7129581194268694, 0.7130833839771339, 0.7130500506438007, 0.7130500506438006, 0.7129429077866578, 0.71291513000888, 0.7129151300088801, 0.7130192966755468, 0.7130192966755466, 0.7130192966755466, 0.7130192966755466, 0.7130192966755466, 0.7130748522311022, 0.7130748522311022, 0.7130748522311022]\n"
          ],
          "name": "stdout"
        }
      ]
    },
    {
      "cell_type": "code",
      "metadata": {
        "id": "99eIVSWWSoHR",
        "colab_type": "code",
        "outputId": "ba829205-16fa-42e5-951b-28674f15ac82",
        "colab": {
          "base_uri": "https://localhost:8080/",
          "height": 383
        }
      },
      "source": [
        "plt.title('Ensemble Learning - Word Error Rates')\n",
        "plt.xlabel('Epochs')\n",
        "plt.ylabel('Word Error Rate')\n",
        "plt.plot(wers[0][:10], label='HWR1')\n",
        "plt.plot(wers[1][:10], label='HWR2')\n",
        "plt.plot(wers[2][:10], label='HWR3')\n",
        "plt.plot(wers[3][:10], label='HWR4')\n",
        "plt.legend()\n",
        "plt.show()\n",
        "print('HWR1:', wers[0])\n",
        "print('HWR2:', wers[1])\n",
        "print('HWR3:', wers[2])\n",
        "print('HWR4:', wers[3])"
      ],
      "execution_count": 78,
      "outputs": [
        {
          "output_type": "display_data",
          "data": {
            "image/png": "[encoded data removed]",
            "text/plain": [
              "<Figure size 432x288 with 1 Axes>"
            ]
          },
          "metadata": {
            "tags": [],
            "needs_background": "light"
          }
        },
        {
          "output_type": "stream",
          "text": [
            "HWR1: [0.9786666666666667, 0.9566666666666668, 0.9433333333333334, 0.9391666666666666, 0.9381666666666665, 0.9381666666666667, 0.9373333333333332, 0.9378333333333333, 0.9373333333333334, 0.9381666666666665, 0.9381666666666667, 0.9381666666666665, 0.9381666666666667, 0.9381666666666667, 0.9381666666666667, 0.9381666666666665, 0.9381666666666668, 0.9381666666666667, 0.9381666666666665, 0.9381666666666665, 0.9380000000000001, 0.9380000000000001, 0.9380000000000001, 0.9381666666666668, 0.9381666666666665, 0.9381666666666665]\n",
            "HWR2: [0.9696666666666666, 0.9590000000000002, 0.9443333333333334, 0.9366666666666666, 0.9369999999999999, 0.9364999999999998, 0.9354999999999999, 0.9356666666666666, 0.9356666666666666, 0.9356666666666665, 0.9356666666666666, 0.9356666666666668, 0.9356666666666666, 0.9356666666666665, 0.9356666666666665, 0.9356666666666668, 0.9356666666666666, 0.9356666666666665, 0.9356666666666665, 0.9354999999999999, 0.9354999999999998, 0.9354999999999999, 0.9354999999999999, 0.9355, 0.9354999999999998, 0.9354999999999999]\n",
            "HWR3: [0.9704999999999999, 0.9671666666666666, 0.9471666666666667, 0.9388333333333333, 0.9388333333333334, 0.9388333333333333, 0.939, 0.9391666666666668, 0.9391666666666667, 0.9393333333333332, 0.9393333333333332, 0.9393333333333334, 0.9393333333333332, 0.9393333333333334, 0.9393333333333332, 0.9393333333333334, 0.9393333333333335, 0.9393333333333334, 0.9393333333333332, 0.9393333333333334, 0.9393333333333335, 0.9393333333333334, 0.9393333333333335, 0.9393333333333335, 0.9393333333333334, 0.9393333333333332]\n",
            "HWR4: [0.9833333333333332, 0.977, 0.9695, 0.9518333333333332, 0.9486666666666667, 0.9471666666666666, 0.9453333333333334, 0.9451666666666667, 0.9453333333333335, 0.9458333333333332, 0.9458333333333333, 0.9458333333333332, 0.9458333333333334, 0.9458333333333332, 0.9458333333333331, 0.9458333333333333, 0.9458333333333334, 0.9458333333333334, 0.9458333333333333, 0.9458333333333332, 0.9458333333333333, 0.9458333333333333, 0.9458333333333333, 0.9458333333333333, 0.9458333333333333, 0.9458333333333332]\n"
          ],
          "name": "stdout"
        }
      ]
    },
    {
      "cell_type": "code",
      "metadata": {
        "id": "Np5CtLWwXRUH",
        "colab_type": "code",
        "outputId": "dca20371-ef31-485d-945b-a0668bf3ccde",
        "colab": {
          "base_uri": "https://localhost:8080/",
          "height": 185
        }
      },
      "source": [
        "rimes = RimesDataset(total_imgs=30000)\n",
        "index = 10226\n",
        "\n",
        "print('Length: ', len(rimes))\n",
        "print('Transcription: ', rimes[index][1])\n",
        "plt.imshow(rimes[index][0].squeeze(), cmap='gray')"
      ],
      "execution_count": 0,
      "outputs": [
        {
          "output_type": "stream",
          "text": [
            "Length:  30000\n",
            "Transcription:  de\n"
          ],
          "name": "stdout"
        },
        {
          "output_type": "execute_result",
          "data": {
            "text/plain": [
              "<matplotlib.image.AxesImage at 0x7fb4aaab7550>"
            ]
          },
          "metadata": {
            "tags": []
          },
          "execution_count": 35
        },
        {
          "output_type": "display_data",
          "data": {
            "image/png": "[encoded data removed]",
            "text/plain": [
              "<Figure size 432x288 with 1 Axes>"
            ]
          },
          "metadata": {
            "tags": [],
            "needs_background": "light"
          }
        }
      ]
    }
  ]
}