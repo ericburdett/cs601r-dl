{
  "nbformat": 4,
  "nbformat_minor": 0,
  "metadata": {
    "colab": {
      "name": "tl.ipynb",
      "provenance": [],
      "include_colab_link": true
    },
    "kernelspec": {
      "name": "python3",
      "display_name": "Python 3"
    },
    "accelerator": "GPU"
  },
  "cells": [
    {
      "cell_type": "markdown",
      "metadata": {
        "id": "view-in-github",
        "colab_type": "text"
      },
      "source": [
        "<a href=\"https://colab.research.google.com/github/ericburdett/cs601r-dl/blob/master/tl.ipynb\" target=\"_parent\"><img src=\"https://colab.research.google.com/assets/colab-badge.svg\" alt=\"Open In Colab\"/></a>"
      ]
    },
    {
      "cell_type": "markdown",
      "metadata": {
        "id": "dAoyRxyga7yC",
        "colab_type": "text"
      },
      "source": [
        "# Transfer Learning for Handwritten Documents"
      ]
    },
    {
      "cell_type": "markdown",
      "metadata": {
        "id": "ORD-9fjShxQ9",
        "colab_type": "text"
      },
      "source": [
        "## Imports\n",
        "Dependencies needed to run the code, including mounting GoogleDrive and copying files."
      ]
    },
    {
      "cell_type": "code",
      "metadata": {
        "id": "9mNs_BtsaykG",
        "colab_type": "code",
        "outputId": "bf0f760b-cff6-493e-b745-0e3590cba392",
        "colab": {
          "base_uri": "https://localhost:8080/",
          "height": 122
        }
      },
      "source": [
        "# Pytorch\n",
        "import torch\n",
        "import torch.nn as nn\n",
        "import torch.nn.functional as F\n",
        "import torch.optim as optim\n",
        "from torchvision import transforms, utils, datasets\n",
        "from torch.utils.data import Dataset, DataLoader\n",
        "assert torch.cuda.is_available(), \"Request a GPU from Runtime > Change Runtime\"\n",
        "\n",
        "# Python\n",
        "import gc\n",
        "import os\n",
        "import gzip\n",
        "import tarfile\n",
        "import time\n",
        "\n",
        "# Data Structures\n",
        "import pandas as pd\n",
        "import numpy as np\n",
        "\n",
        "# Debug/Progress\n",
        "from tqdm import tqdm\n",
        "import pdb\n",
        "from IPython.core.ultratb import AutoFormattedTB\n",
        "__ITB__ = AutoFormattedTB(mode = 'Verbose',color_scheme='LightBg', tb_offset = 1)\n",
        "\n",
        "# Image Manipulations / Plotting\n",
        "import matplotlib.pyplot as plt\n",
        "from PIL import Image, ImageOps\n",
        "import cv2\n",
        "\n",
        "# Colab\n",
        "from google.colab import drive\n",
        "drive.mount('/content/drive')"
      ],
      "execution_count": 1,
      "outputs": [
        {
          "output_type": "stream",
          "text": [
            "Go to this URL in a browser: https://accounts.google.com/o/oauth2/auth?client_id=947318989803-6bn6qk8qdgf4n4g3pfee6491hc0brc4i.apps.googleusercontent.com&redirect_uri=urn%3aietf%3awg%3aoauth%3a2.0%3aoob&response_type=code&scope=email%20https%3a%2f%2fwww.googleapis.com%2fauth%2fdocs.test%20https%3a%2f%2fwww.googleapis.com%2fauth%2fdrive%20https%3a%2f%2fwww.googleapis.com%2fauth%2fdrive.photos.readonly%20https%3a%2f%2fwww.googleapis.com%2fauth%2fpeopleapi.readonly\n",
            "\n",
            "Enter your authorization code:\n",
            "··········\n",
            "Mounted at /content/drive\n"
          ],
          "name": "stdout"
        }
      ]
    },
    {
      "cell_type": "code",
      "metadata": {
        "id": "W45J6mNLvxXm",
        "colab_type": "code",
        "colab": {}
      },
      "source": [
        "!cp \"drive/My Drive/datasets/iam-line-level.zip\" \"/content\"\n",
        "!cp \"drive/My Drive/datasets/rimes-line-level.zip\" \"/content\"\n",
        "!unzip -q iam-line-level.zip -d iam\n",
        "!unzip -q rimes-line-level.zip -d rimes\n",
        "!rm iam-line-level.zip\n",
        "!rm rimes-line-level.zip"
      ],
      "execution_count": 0,
      "outputs": []
    },
    {
      "cell_type": "markdown",
      "metadata": {
        "id": "Zpk_LmY_N_OC",
        "colab_type": "text"
      },
      "source": [
        "### Create IAM and RIMES Dataset Classes"
      ]
    },
    {
      "cell_type": "code",
      "metadata": {
        "id": "m6oeFbzyN9Mo",
        "colab_type": "code",
        "colab": {}
      },
      "source": [
        "class IamDataset(Dataset):\n",
        "  def __init__(self, desired_size=(256,32)):\n",
        "    self.desired_size = desired_size\n",
        "    self.img_path = '/content/iam/images/'\n",
        "    self.df = pd.read_csv('/content/iam/labels.csv', header=None, sep='\\t', names=['img', 'transcription'])\n",
        "\n",
        "  def get_df(self):\n",
        "    return self.df\n",
        "\n",
        "  def tensor_image(self, path):\n",
        "    img = Image.open(path + '.png')\n",
        "    # Resize here if needed\n",
        "    x = transforms.functional.to_tensor(img)\n",
        "\n",
        "    return x\n",
        "\n",
        "  def __getitem__(self, index):\n",
        "    path = 'iam/images/' + self.df['img'][index]\n",
        "    img = self.tensor_image(path)\n",
        "\n",
        "    return img, self.df['transcription'][index]"
      ],
      "execution_count": 0,
      "outputs": []
    },
    {
      "cell_type": "code",
      "metadata": {
        "id": "4NblFBURPfoc",
        "colab_type": "code",
        "colab": {
          "base_uri": "https://localhost:8080/",
          "height": 128
        },
        "outputId": "db56fd59-d5ca-4851-bd2b-4ad7d515e828"
      },
      "source": [
        "index = 10000\n",
        "dataset = IamDataset()\n",
        "\n",
        "print('Transcription: ', dataset[index][1], '\\n')\n",
        "plt.imshow(dataset[index][0].squeeze(), cmap='gray')"
      ],
      "execution_count": 26,
      "outputs": [
        {
          "output_type": "stream",
          "text": [
            "Transcription:  the tiller hard over and at the \n",
            "\n"
          ],
          "name": "stdout"
        },
        {
          "output_type": "execute_result",
          "data": {
            "text/plain": [
              "<matplotlib.image.AxesImage at 0x7fe1f78bde80>"
            ]
          },
          "metadata": {
            "tags": []
          },
          "execution_count": 26
        },
        {
          "output_type": "display_data",
          "data": {
            "image/png": "[encoded data removed]",
            "text/plain": [
              "<Figure size 432x288 with 1 Axes>"
            ]
          },
          "metadata": {
            "tags": []
          }
        }
      ]
    },
    {
      "cell_type": "code",
      "metadata": {
        "id": "h9SDx9DZQQOU",
        "colab_type": "code",
        "colab": {}
      },
      "source": [
        "class RimesDataset(Dataset):\n",
        "  def __init__(self, desired_size=(256,32)):\n",
        "    self.desired_size = desired_size\n",
        "    self.img_path = '/content/rimes/images/'\n",
        "    self.df = pd.read_csv('/content/rimes/labels.csv', header=None, sep='\\t', names=['img', 'transcription'])\n",
        "\n",
        "  def get_df(self):\n",
        "    return self.df\n",
        "\n",
        "  def tensor_image(self, path):\n",
        "    img = Image.open(path)\n",
        "    # Resize here if needed\n",
        "    x = transforms.functional.to_tensor(img)\n",
        "\n",
        "    return x\n",
        "\n",
        "  def __getitem__(self, index):\n",
        "    path = 'rimes/images/' + self.df['img'][index]\n",
        "    img = self.tensor_image(path)\n",
        "\n",
        "    return img, self.df['transcription'][index]"
      ],
      "execution_count": 0,
      "outputs": []
    },
    {
      "cell_type": "code",
      "metadata": {
        "id": "9DVoG-V-QW04",
        "colab_type": "code",
        "colab": {
          "base_uri": "https://localhost:8080/",
          "height": 130
        },
        "outputId": "9d26defa-fa23-4c9d-a99b-92bcc24a8606"
      },
      "source": [
        "index = 0\n",
        "dataset = RimesDataset()\n",
        "\n",
        "print('Transcription: ', dataset[index][1], '\\n')\n",
        "plt.imshow(dataset[index][0].squeeze(), cmap='gray')"
      ],
      "execution_count": 32,
      "outputs": [
        {
          "output_type": "stream",
          "text": [
            "Transcription:  Je vous adresse ce courrier afin \n",
            "\n"
          ],
          "name": "stdout"
        },
        {
          "output_type": "execute_result",
          "data": {
            "text/plain": [
              "<matplotlib.image.AxesImage at 0x7fe1f742da90>"
            ]
          },
          "metadata": {
            "tags": []
          },
          "execution_count": 32
        },
        {
          "output_type": "display_data",
          "data": {
            "image/png": "[encoded data removed]",
            "text/plain": [
              "<Figure size 432x288 with 1 Axes>"
            ]
          },
          "metadata": {
            "tags": []
          }
        }
      ]
    },
    {
      "cell_type": "markdown",
      "metadata": {
        "id": "0aulTy1h2mNZ",
        "colab_type": "text"
      },
      "source": [
        "### Model"
      ]
    },
    {
      "cell_type": "code",
      "metadata": {
        "id": "YkKPS9D82rXZ",
        "colab_type": "code",
        "colab": {}
      },
      "source": [
        "class Recognizer(nn.Module):\n",
        "  def __init__(self, sequence_length=16):\n",
        "    super(Recognizer, self).__init__()\n",
        "\n",
        "    self.hidden_size = 256\n",
        "    self.num_layers = 1\n",
        "\n",
        "    # Encoder\n",
        "    self.conv1 = nn.Sequential(nn.Conv2d(1, 8, 3, 1, 1), nn.Tanh())\n",
        "    self.conv2 = nn.Sequential(nn.Conv2d(8, 16, 3, 1, 1), nn.Tanh())\n",
        "    self.conv3 = nn.Sequential(nn.Conv2d(16, 32, 3, 1, 1), nn.Tanh())\n",
        "    self.conv4 = nn.Sequential(nn.Conv2d(32, 64, 3, 1, 1), nn.Tanh())\n",
        "    self.conv5 = nn.Sequential(nn.Conv2d(64, 128, 3, 1, 1), nn.Tanh())\n",
        "\n",
        "    self.gate1 = nn.Sequential(nn.Conv2d(16, 16, 3, 1, 1), nn.Sigmoid()) \n",
        "    self.gate2 = nn.Sequential(nn.Conv2d(32, 32, 3, 1, 1), nn.Sigmoid())\n",
        "    self.gate3 = nn.Sequential(nn.Conv2d(64, 64, 3, 1, 1), nn.Sigmoid())\n",
        "\n",
        "    # Maxpool\n",
        "    self.mp = nn.MaxPool2d((32, 1))\n",
        "\n",
        "    # Decoder\n",
        "    self.gru1 = nn.GRU(128, self.hidden_size, self.num_layers, bidirectional=True, batch_first=True)\n",
        "    self.fc1 = nn.Linear(self.hidden_size * 2, 128)\n",
        "    self.gru2 = nn.GRU(128, self.hidden_size, self.num_layers, bidirectional=True, batch_first=True)\n",
        "    self.fc2 = nn.Linear(self.hidden_size * 2, sequence_length)\n",
        "    self.softmax = nn.LogSoftmax(dim=1)\n",
        "\n",
        "  def init_hidden(self, batch_size):\n",
        "    return torch.zeros(self.num_layers * 2, batch_size, self.hidden_size)\n",
        "\n",
        "  # Input -> (Batch, 1, 128, 256)\n",
        "  def forward(self, x):\n",
        "    # Encoder\n",
        "    out = self.conv1(x)\n",
        "    out = self.conv2(out)\n",
        "\n",
        "    gate1 = self.gate1(out)\n",
        "    out = out * gate1\n",
        "\n",
        "    out = self.conv3(out)\n",
        "\n",
        "    gate2 = self.gate2(out)\n",
        "    out = out * gate2\n",
        "\n",
        "    out = self.conv4(out)\n",
        "\n",
        "    gate3 = self.gate3(out)\n",
        "    out = out * gate3\n",
        "\n",
        "    out = self.conv5(out)\n",
        "\n",
        "    # Max Pooling across vertical dimension\n",
        "    out = self.mp(out)\n",
        "\n",
        "    # Decoder\n",
        "    out = out.view(-1, 128, 128)\n",
        "\n",
        "    out, _ = self.gru1(out)\n",
        "    out = self.fc1(out)\n",
        "    out, _ = self.gru2(out)\n",
        "    out = self.fc2(out)\n",
        "    out = self.softmax(out)\n",
        "\n",
        "    # Change shape so that we can pass directly to CTC-Loss\n",
        "    out = out.permute(2, 0, 1)\n",
        "\n",
        "    return out"
      ],
      "execution_count": 0,
      "outputs": []
    }
  ]
}