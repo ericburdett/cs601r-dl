{
  "nbformat": 4,
  "nbformat_minor": 0,
  "metadata": {
    "colab": {
      "name": "tl.ipynb",
      "provenance": [],
      "include_colab_link": true
    },
    "kernelspec": {
      "name": "python3",
      "display_name": "Python 3"
    },
    "accelerator": "GPU"
  },
  "cells": [
    {
      "cell_type": "markdown",
      "metadata": {
        "id": "view-in-github",
        "colab_type": "text"
      },
      "source": [
        "<a href=\"https://colab.research.google.com/github/ericburdett/cs601r-dl/blob/master/tl.ipynb\" target=\"_parent\"><img src=\"https://colab.research.google.com/assets/colab-badge.svg\" alt=\"Open In Colab\"/></a>"
      ]
    },
    {
      "cell_type": "markdown",
      "metadata": {
        "id": "dAoyRxyga7yC",
        "colab_type": "text"
      },
      "source": [
        "# Transfer Learning for Handwritten Documents"
      ]
    },
    {
      "cell_type": "markdown",
      "metadata": {
        "id": "ORD-9fjShxQ9",
        "colab_type": "text"
      },
      "source": [
        "### Imports\n",
        "Dependencies needed to run the code, including mounting GoogleDrive and copying files."
      ]
    },
    {
      "cell_type": "code",
      "metadata": {
        "id": "9mNs_BtsaykG",
        "colab_type": "code",
        "outputId": "f4ac6ff6-6fe5-4d2d-fbd1-86668cbf7c0e",
        "colab": {
          "base_uri": "https://localhost:8080/",
          "height": 34
        }
      },
      "source": [
        "# Pytorch\n",
        "import torch\n",
        "import torch.nn as nn\n",
        "import torch.nn.functional as F\n",
        "import torch.optim as optim\n",
        "from torchvision import transforms, utils, datasets\n",
        "from torch.utils.data import Dataset, DataLoader\n",
        "assert torch.cuda.is_available(), \"Request a GPU from Runtime > Change Runtime\"\n",
        "\n",
        "# Python\n",
        "import gc\n",
        "import os\n",
        "import gzip\n",
        "import tarfile\n",
        "import time\n",
        "\n",
        "# Data Structures\n",
        "import pandas as pd\n",
        "import numpy as np\n",
        "import json\n",
        "import csv\n",
        "\n",
        "# Debug/Progress\n",
        "from tqdm import tqdm\n",
        "import pdb\n",
        "from IPython.core.ultratb import AutoFormattedTB\n",
        "__ITB__ = AutoFormattedTB(mode = 'Verbose',color_scheme='LightBg', tb_offset = 1)\n",
        "\n",
        "# Image Manipulations / Plotting\n",
        "import matplotlib.pyplot as plt\n",
        "from PIL import Image, ImageOps\n",
        "import cv2\n",
        "\n",
        "# Colab\n",
        "from google.colab import drive\n",
        "drive.mount('/content/drive')"
      ],
      "execution_count": 1,
      "outputs": [
        {
          "output_type": "stream",
          "text": [
            "Drive already mounted at /content/drive; to attempt to forcibly remount, call drive.mount(\"/content/drive\", force_remount=True).\n"
          ],
          "name": "stdout"
        }
      ]
    },
    {
      "cell_type": "code",
      "metadata": {
        "id": "txMKyt14nns1",
        "colab_type": "code",
        "colab": {}
      },
      "source": [
        "!cp \"drive/My Drive/datasets/iam.zip\" \"/content\""
      ],
      "execution_count": 0,
      "outputs": []
    },
    {
      "cell_type": "code",
      "metadata": {
        "id": "l8uBU2N5nuY6",
        "colab_type": "code",
        "colab": {
          "base_uri": "https://localhost:8080/",
          "height": 153
        },
        "outputId": "00ecb828-76d9-4b66-a72b-9f4a8a03171b"
      },
      "source": [
        "!unzip -q iam.zip -d iam-word"
      ],
      "execution_count": 33,
      "outputs": [
        {
          "output_type": "stream",
          "text": [
            "warning [iam.zip]:  76 extra bytes at beginning or within zipfile\n",
            "  (attempting to process anyway)\n",
            "error [iam.zip]:  reported length of central directory is\n",
            "  -76 bytes too long (Atari STZip zipfile?  J.H.Holm ZIPSPLIT 1.1\n",
            "  zipfile?).  Compensating...\n",
            "error:  expected central file header signature not found (file #95170).\n",
            "  (please check that you have transferred or created the zipfile in the\n",
            "  appropriate BINARY mode and that you have compiled UnZip properly)\n"
          ],
          "name": "stdout"
        }
      ]
    },
    {
      "cell_type": "code",
      "metadata": {
        "id": "W45J6mNLvxXm",
        "colab_type": "code",
        "colab": {}
      },
      "source": [
        "!cp \"drive/My Drive/datasets/iam-line-level.zip\" \"/content\"\n",
        "!cp \"drive/My Drive/datasets/rimes-line-level.zip\" \"/content\"\n",
        "!unzip -q iam-line-level.zip -d iam\n",
        "!unzip -q rimes-line-level.zip -d rimes\n",
        "!rm iam-line-level.zip\n",
        "!rm rimes-line-level.zip\n",
        "!wget -q https://raw.githubusercontent.com/ericburdett/cs601r-dl/master/char_set.json"
      ],
      "execution_count": 0,
      "outputs": []
    },
    {
      "cell_type": "code",
      "metadata": {
        "id": "hq8genOaoHW8",
        "colab_type": "code",
        "colab": {
          "base_uri": "https://localhost:8080/",
          "height": 34
        },
        "outputId": "7ac6f62c-a2f8-4d06-f527-c505dc05ef62"
      },
      "source": [
        "!ls iam-word"
      ],
      "execution_count": 35,
      "outputs": [
        {
          "output_type": "stream",
          "text": [
            "images\tlabels.csv\n"
          ],
          "name": "stdout"
        }
      ]
    },
    {
      "cell_type": "markdown",
      "metadata": {
        "id": "Zpk_LmY_N_OC",
        "colab_type": "text"
      },
      "source": [
        "### Create IAM and RIMES Dataset Classes"
      ]
    },
    {
      "cell_type": "code",
      "metadata": {
        "id": "0hR1K07Tn8FJ",
        "colab_type": "code",
        "colab": {}
      },
      "source": [
        "class IamWordDataset(Dataset):\n",
        "  def __init__(self, desired_size=(32, 128)):\n",
        "    self.desired_size = desired_size\n",
        "    self.img_path = '/content/iam-word/images/'\n",
        "    self.df = pd.read_csv('/content/iam-word/labels.csv', header=None, sep='\\t', names=['word', 'seg', 'transcription'], quoting=csv.QUOTE_NONE)\n",
        "\n",
        "  def get_df(self):\n",
        "    return self.df\n",
        "\n",
        "  def tensor_image(self, path):\n",
        "    img = Image.open(path + '.png')\n",
        "    img = self.resize(img)\n",
        "    # img = img.astype(np.float32)\n",
        "    x = transforms.functional.to_tensor(img)\n",
        "\n",
        "    return x\n",
        "\n",
        "  def resize(self, img):\n",
        "    img_size = np.array(img).shape\n",
        "\n",
        "    img_ratio = img_size[0] / img_size[1]\n",
        "    desired_ratio = self.desired_size[0] / self.desired_size[1]\n",
        "\n",
        "    if img_ratio >= desired_ratio:\n",
        "      # Solve by height\n",
        "      new_height = self.desired_size[0]\n",
        "      new_width = int(self.desired_size[0] // img_ratio)\n",
        "    else:\n",
        "      new_height = int(self.desired_size[1] * img_ratio)\n",
        "      new_width = self.desired_size[1]\n",
        "      # Solve by width\n",
        "\n",
        "    img = np.array(img.resize((new_width, new_height)))\n",
        "\n",
        "    border_top = self.desired_size[0] - new_height\n",
        "    border_right = self.desired_size[1] - new_width\n",
        "\n",
        "    img = np.pad(img, [(border_top, 0), (0, border_right)], mode='constant', constant_values=255)\n",
        "\n",
        "    return img\n",
        "\n",
        "  def __getitem__(self, index):\n",
        "    path = 'iam-word/images/' + self.df['word'][index]\n",
        "    img = self.tensor_image(path)\n",
        "\n",
        "    return img, self.df['transcription'][index]\n",
        "\n",
        "  def __len__(self):\n",
        "    return len(self.df)"
      ],
      "execution_count": 0,
      "outputs": []
    },
    {
      "cell_type": "code",
      "metadata": {
        "id": "64ax6OFpoUIx",
        "colab_type": "code",
        "colab": {
          "base_uri": "https://localhost:8080/",
          "height": 151
        },
        "outputId": "b3bc5aac-1cba-4fba-ce8d-d2288b0ae527"
      },
      "source": [
        "dataset = IamWordDataset()\n",
        "plt.imshow(dataset[1][0].squeeze(), cmap='gray')"
      ],
      "execution_count": 47,
      "outputs": [
        {
          "output_type": "execute_result",
          "data": {
            "text/plain": [
              "<matplotlib.image.AxesImage at 0x7f9940028c88>"
            ]
          },
          "metadata": {
            "tags": []
          },
          "execution_count": 47
        },
        {
          "output_type": "display_data",
          "data": {
            "image/png": "[encoded data removed]",
            "text/plain": [
              "<Figure size 432x288 with 1 Axes>"
            ]
          },
          "metadata": {
            "tags": []
          }
        }
      ]
    },
    {
      "cell_type": "code",
      "metadata": {
        "id": "m6oeFbzyN9Mo",
        "colab_type": "code",
        "colab": {}
      },
      "source": [
        "class IamDataset(Dataset):\n",
        "  def __init__(self, desired_size=(32, 512)):\n",
        "    self.desired_size = desired_size\n",
        "    self.img_path = '/content/iam/images/'\n",
        "    self.df = pd.read_csv('/content/iam/labels.csv', header=None, sep='\\t', names=['img', 'transcription'], quoting=csv.QUOTE_NONE)\n",
        "\n",
        "  def get_df(self):\n",
        "    return self.df\n",
        "\n",
        "  def tensor_image(self, path):\n",
        "    img = Image.open(path + '.png')\n",
        "    img = self.resize(img)\n",
        "    # img = img.astype(np.float32)\n",
        "    x = transforms.functional.to_tensor(img)\n",
        "\n",
        "    return x\n",
        "\n",
        "  def resize(self, img):\n",
        "    img_size = np.array(img).shape\n",
        "\n",
        "    img_ratio = img_size[0] / img_size[1]\n",
        "    desired_ratio = self.desired_size[0] / self.desired_size[1]\n",
        "\n",
        "    if img_ratio >= desired_ratio:\n",
        "      # Solve by height\n",
        "      new_height = self.desired_size[0]\n",
        "      new_width = int(self.desired_size[0] // img_ratio)\n",
        "    else:\n",
        "      new_height = int(self.desired_size[1] * img_ratio)\n",
        "      new_width = self.desired_size[1]\n",
        "      # Solve by width\n",
        "\n",
        "    img = np.array(img.resize((new_width, new_height)))\n",
        "\n",
        "    border_top = self.desired_size[0] - new_height\n",
        "    border_right = self.desired_size[1] - new_width\n",
        "\n",
        "    img = np.pad(img, [(border_top, 0), (0, border_right)], mode='constant', constant_values=255)\n",
        "\n",
        "    return img\n",
        "\n",
        "  def __getitem__(self, index):\n",
        "    path = 'iam/images/' + self.df['img'][index]\n",
        "    img = self.tensor_image(path)\n",
        "\n",
        "    return img, self.df['transcription'][index]\n",
        "\n",
        "  def __len__(self):\n",
        "    return len(self.df)"
      ],
      "execution_count": 0,
      "outputs": []
    },
    {
      "cell_type": "code",
      "metadata": {
        "id": "4wpM7afxdJAl",
        "colab_type": "code",
        "colab": {
          "base_uri": "https://localhost:8080/",
          "height": 208
        },
        "outputId": "f2aa16f4-4264-477a-d425-70acefa7d0d9"
      },
      "source": [
        "dataset = IamDataset()\n",
        "print(dataset[0][0])\n",
        "plt.imshow(dataset[0][0].squeeze(), cmap='gray')"
      ],
      "execution_count": 4,
      "outputs": [
        {
          "output_type": "stream",
          "text": [
            "tensor([[[1., 1., 1.,  ..., 1., 1., 1.],\n",
            "         [1., 1., 1.,  ..., 1., 1., 1.],\n",
            "         [1., 1., 1.,  ..., 1., 1., 1.],\n",
            "         ...,\n",
            "         [1., 1., 1.,  ..., 1., 1., 1.],\n",
            "         [1., 1., 1.,  ..., 1., 1., 1.],\n",
            "         [1., 1., 1.,  ..., 1., 1., 1.]]])\n"
          ],
          "name": "stdout"
        },
        {
          "output_type": "execute_result",
          "data": {
            "text/plain": [
              "<matplotlib.image.AxesImage at 0x7f9940132ba8>"
            ]
          },
          "metadata": {
            "tags": []
          },
          "execution_count": 4
        },
        {
          "output_type": "display_data",
          "data": {
            "image/png": "[encoded data removed]",
            "text/plain": [
              "<Figure size 432x288 with 1 Axes>"
            ]
          },
          "metadata": {
            "tags": []
          }
        }
      ]
    },
    {
      "cell_type": "code",
      "metadata": {
        "id": "h9SDx9DZQQOU",
        "colab_type": "code",
        "colab": {}
      },
      "source": [
        "class RimesDataset(Dataset):\n",
        "  def __init__(self, desired_size=(32, 512)):\n",
        "    self.desired_size = desired_size\n",
        "    self.img_path = '/content/rimes/images/'\n",
        "    self.df = pd.read_csv('/content/rimes/labels.csv', header=None, sep='\\t', names=['img', 'transcription'], quoting=csv.QUOTE_NONE)\n",
        "\n",
        "  def get_df(self):\n",
        "    return self.df\n",
        "\n",
        "  def tensor_image(self, path):\n",
        "    img = Image.open(path)\n",
        "    img = self.resize(img)\n",
        "    img = img.astype(np.uint8)\n",
        "    x = transforms.functional.to_tensor(img)\n",
        "\n",
        "    return x\n",
        "\n",
        "  def resize(self, img):\n",
        "    img_size = np.array(img).shape\n",
        "\n",
        "    img_ratio = img_size[0] / img_size[1]\n",
        "    desired_ratio = self.desired_size[0] / self.desired_size[1]\n",
        "\n",
        "    if img_ratio >= desired_ratio:\n",
        "      # Solve by height\n",
        "      new_height = self.desired_size[0]\n",
        "      new_width = int(self.desired_size[0] // img_ratio)\n",
        "    else:\n",
        "      new_height = int(self.desired_size[1] * img_ratio)\n",
        "      new_width = self.desired_size[1]\n",
        "      # Solve by width\n",
        "\n",
        "    img = np.array(img.resize((new_width, new_height)))\n",
        "\n",
        "    border_top = self.desired_size[0] - new_height\n",
        "    border_right = self.desired_size[1] - new_width\n",
        "\n",
        "    img = np.pad(img, [(border_top, 0), (0, border_right)], mode='constant', constant_values=1)\n",
        "\n",
        "    return img\n",
        "\n",
        "  def __getitem__(self, index):\n",
        "    path = 'rimes/images/' + self.df['img'][index]\n",
        "    img = self.tensor_image(path)\n",
        "\n",
        "    return img, str(self.df['transcription'][index])\n",
        "  \n",
        "  def __len__(self):\n",
        "    return len(self.df)"
      ],
      "execution_count": 0,
      "outputs": []
    },
    {
      "cell_type": "code",
      "metadata": {
        "id": "ce7BU9xgeN9n",
        "colab_type": "code",
        "colab": {
          "base_uri": "https://localhost:8080/",
          "height": 208
        },
        "outputId": "acd708f5-9370-4663-8870-a4fffe6d7968"
      },
      "source": [
        "dataset = RimesDataset()\n",
        "print(dataset[0][0])\n",
        "plt.imshow(dataset[0][0].squeeze(), cmap='gray')"
      ],
      "execution_count": 6,
      "outputs": [
        {
          "output_type": "stream",
          "text": [
            "tensor([[[0.0039, 0.0039, 0.0039,  ..., 0.0039, 0.0039, 0.0039],\n",
            "         [0.0039, 0.0039, 0.0039,  ..., 0.0039, 0.0039, 0.0039],\n",
            "         [0.0039, 0.0000, 0.0000,  ..., 0.0039, 0.0039, 0.0039],\n",
            "         ...,\n",
            "         [0.0039, 0.0039, 0.0039,  ..., 0.0039, 0.0039, 0.0039],\n",
            "         [0.0039, 0.0039, 0.0039,  ..., 0.0039, 0.0039, 0.0039],\n",
            "         [0.0039, 0.0039, 0.0039,  ..., 0.0039, 0.0039, 0.0039]]])\n"
          ],
          "name": "stdout"
        },
        {
          "output_type": "execute_result",
          "data": {
            "text/plain": [
              "<matplotlib.image.AxesImage at 0x7f992c448f60>"
            ]
          },
          "metadata": {
            "tags": []
          },
          "execution_count": 6
        },
        {
          "output_type": "display_data",
          "data": {
            "image/png": "[encoded data removed]",
            "text/plain": [
              "<Figure size 432x288 with 1 Axes>"
            ]
          },
          "metadata": {
            "tags": []
          }
        }
      ]
    },
    {
      "cell_type": "markdown",
      "metadata": {
        "id": "h3VJmm8XnmHY",
        "colab_type": "text"
      },
      "source": [
        "### Character Encoding"
      ]
    },
    {
      "cell_type": "code",
      "metadata": {
        "id": "DFAv6qAWnkgQ",
        "colab_type": "code",
        "colab": {}
      },
      "source": [
        "class Encoder():\n",
        "  def __init__(self, sequence_size=150):\n",
        "    with open('char_set.json') as file:\n",
        "      self.json = json.load(file)\n",
        "    \n",
        "    self.sequence_size = sequence_size\n",
        "\n",
        "  def remove_duplicates(self, idxs):\n",
        "    new_idxs = []\n",
        "\n",
        "    for i in range(len(idxs)):\n",
        "      if i + 1 == len(idxs) or idxs[i] != idxs[i + 1]:\n",
        "        new_idxs.append(idxs[i])\n",
        "    \n",
        "    return new_idxs\n",
        "  \n",
        "  def add_blanks(self, idxs):\n",
        "    new_idxs = []\n",
        "\n",
        "    for i in range(len(idxs)):\n",
        "      new_idxs.append(idxs[i])\n",
        "      if i + 1 != len(idxs) and idxs[i] == idxs[i + 1]:\n",
        "        new_idxs.append(0)\n",
        "    \n",
        "    return new_idxs\n",
        "  \n",
        "  def idx_to_char(self, idx):\n",
        "    if idx == 0:\n",
        "      return ''\n",
        "    else:\n",
        "      return self.json['idx_to_char'][str(int(idx))]\n",
        "  \n",
        "  def char_to_idx(self, char):\n",
        "    return int(self.json['char_to_idx'][char])\n",
        "  \n",
        "  def str_to_idxs(self, string):\n",
        "    idxs = []\n",
        "\n",
        "    zeros = np.zeros(self.sequence_size)\n",
        "\n",
        "    for char in string:\n",
        "      idxs.append(self.char_to_idx(char))\n",
        "\n",
        "    # Add blanks if CTC-Loss requires it...\n",
        "    # idxs = self.add_blanks(idxs)\n",
        "\n",
        "    idxs = np.concatenate((idxs, zeros))[:self.sequence_size]\n",
        "    \n",
        "    return idxs, len(string)\n",
        "\n",
        "  def idxs_to_str(self, idxs):\n",
        "    string = ''\n",
        "    idxs = self.remove_duplicates(idxs)\n",
        "\n",
        "    for idx in idxs:\n",
        "      string += self.idx_to_char(idx)\n",
        "    \n",
        "    return string\n",
        "  \n",
        "  def str_to_idxs_batch(self, batch):\n",
        "    idxs = []\n",
        "    lengths = []\n",
        "\n",
        "    for string in batch:\n",
        "      idx, length = self.str_to_idxs(string)\n",
        "      idxs.append(idx)\n",
        "      if length > self.sequence_size:\n",
        "        length = self.sequence_size\n",
        "      lengths.append(length)\n",
        "    \n",
        "    return idxs, lengths\n",
        "  \n",
        "  def idxs_to_str_batch(self, batch):\n",
        "    strings = []\n",
        "\n",
        "    for idxs in batch:\n",
        "      strings.append(self.idxs_to_str(idxs))\n",
        "    \n",
        "    return strings"
      ],
      "execution_count": 0,
      "outputs": []
    },
    {
      "cell_type": "markdown",
      "metadata": {
        "id": "Bpi5ajlfTtK_",
        "colab_type": "text"
      },
      "source": [
        "### Helper Functions"
      ]
    },
    {
      "cell_type": "code",
      "metadata": {
        "id": "7h6WCk0rNqNl",
        "colab_type": "code",
        "colab": {}
      },
      "source": [
        "def show_imgs(x, new_fig=True):\n",
        "    grid = utils.make_grid(x.detach().cpu(), nrow=8, normalize=True, pad_value=0.3)\n",
        "    grid = grid.transpose(0,2).transpose(0,1) # channels as last dimension\n",
        "    if new_fig:\n",
        "        plt.figure(figsize=(50,100))\n",
        "    plt.imshow(grid.numpy())\n",
        "\n",
        "def parameter_count(model):\n",
        "  return sum(p.numel() for p in model.parameters())"
      ],
      "execution_count": 0,
      "outputs": []
    },
    {
      "cell_type": "markdown",
      "metadata": {
        "id": "0aulTy1h2mNZ",
        "colab_type": "text"
      },
      "source": [
        "### Model"
      ]
    },
    {
      "cell_type": "code",
      "metadata": {
        "id": "2dz7J-77ZyH-",
        "colab_type": "code",
        "colab": {}
      },
      "source": [
        "class RecognizerNew(nn.Module):\n",
        "  def __init__(self, sequence_length=16, language_size=197, hidden_size=256, num_layers=2, dropout_rate=0.2, horizontal_dim=512):\n",
        "    super(Recognizer, self).__init__()\n",
        "\n",
        "    self.language_size = language_size\n",
        "    self.hidden_size = hidden_size\n",
        "    self.num_layers = num_layers\n",
        "    self.horizontal_dim = horizontal_dim\n",
        "\n",
        "    # Encoder\n",
        "    self.conv1 = nn.Sequential(nn.Conv2d(1, 8, 3, 1, 1), nn.LeakyReLU(), nn.BatchNorm2d(8))\n",
        "    self.conv2 = nn.Sequential(nn.Conv2d(8, 16, 3, 1, 1), nn.LeakyReLU(), nn.BatchNorm2d(16))\n",
        "    self.conv3 = nn.Sequential(nn.Conv2d(16, 32, 3, 1, 1), nn.LeakyReLU(), nn.BatchNorm2d(32))\n",
        "    self.conv4 = nn.Sequential(nn.Conv2d(32, 64, 3, 1, 1), nn.LeakyReLU(), nn.BatchNorm2d(64))\n",
        "    self.conv5 = nn.Sequential(nn.Conv2d(64, 128, 3, 1, 1), nn.LeakyReLU(), nn.BatchNorm2d(128))\n",
        "    self.conv6 = nn.Sequential(nn.Conv2d(128, language_size, 3, 1, 1), nn.LeakyReLU(), nn.BatchNorm2d(language_size))\n",
        "\n",
        "    self.gate1 = nn.Sequential(nn.Conv2d(8, 8, 3, 1, 1), nn.Sigmoid())\n",
        "    self.gate2 = nn.Sequential(nn.Conv2d(16, 16, 3, 1, 1), nn.Sigmoid()) \n",
        "    self.gate3 = nn.Sequential(nn.Conv2d(32, 32, 3, 1, 1), nn.Sigmoid())\n",
        "    self.gate4 = nn.Sequential(nn.Conv2d(64, 64, 3, 1, 1), nn.Sigmoid())\n",
        "    self.gate5 = nn.Sequential(nn.Conv2d(128, 128, 3, 1, 1), nn.Sigmoid())\n",
        "\n",
        "    self.drop1 = nn.Dropout2d(p=dropout_rate)\n",
        "    self.drop2 = nn.Dropout2d(p=dropout_rate)\n",
        "    self.drop3 = nn.Dropout2d(p=dropout_rate)\n",
        "    self.drop4 = nn.Dropout2d(p=dropout_rate)\n",
        "    self.drop5 = nn.Dropout2d(p=dropout_rate)\n",
        "\n",
        "    # Maxpool\n",
        "    self.mp = nn.MaxPool2d((32, 1))\n",
        "\n",
        "    # Decoder\n",
        "    self.gru1 = nn.GRU(self.horizontal_dim, self.hidden_size, self.num_layers, bidirectional=True, batch_first=True)\n",
        "    self.fc1 = nn.Linear(self.hidden_size * 2, 128)\n",
        "    self.gru2 = nn.GRU(128, self.hidden_size, self.num_layers, bidirectional=True, batch_first=True)\n",
        "    self.fc2 = nn.Linear(self.hidden_size * 2, sequence_length)\n",
        "    self.softmax = nn.LogSoftmax(dim=1)\n",
        "\n",
        "  def init_hidden(self, batch_size):\n",
        "    return torch.zeros(self.num_layers * 2, batch_size, self.hidden_size)\n",
        "\n",
        "  def forward(self, x):\n",
        "    # Encoder\n",
        "    out = self.conv1(x)\n",
        "    gate1 = self.gate1(out)\n",
        "    out = out * gate1\n",
        "    out = self.drop1(out)\n",
        "\n",
        "    out = self.conv2(out)\n",
        "    gate2 = self.gate2(out)\n",
        "    out = out * gate2\n",
        "    out = self.drop2(out)\n",
        "\n",
        "    out = self.conv3(out)\n",
        "    gate3 = self.gate3(out)\n",
        "    out = out * gate3\n",
        "    out = self.drop3(out)\n",
        "\n",
        "    out = self.conv4(out)\n",
        "    gate4 = self.gate4(out)\n",
        "    out = out * gate4\n",
        "    out = self.drop4(out)\n",
        "\n",
        "    out = self.conv5(out)\n",
        "    gate5 = self.gate5(out)\n",
        "    out = out * gate5\n",
        "    out = self.drop5(out)\n",
        "\n",
        "    out = self.conv6(out)\n",
        "\n",
        "    # Max Pooling across vertical dimension\n",
        "    out = self.mp(out)\n",
        "\n",
        "    # Decoder\n",
        "    out = out.view(-1, self.language_size, self.horizontal_dim)\n",
        "\n",
        "    out, _ = self.gru1(out)\n",
        "    out = self.fc1(out)\n",
        "    out, _ = self.gru2(out)\n",
        "    out = self.fc2(out)\n",
        "    out = self.softmax(out)\n",
        "\n",
        "    # Change shape so that we can pass directly to CTC-Loss\n",
        "    out = out.permute(2, 0, 1)\n",
        "\n",
        "    return out"
      ],
      "execution_count": 0,
      "outputs": []
    },
    {
      "cell_type": "code",
      "metadata": {
        "id": "YkKPS9D82rXZ",
        "colab_type": "code",
        "colab": {}
      },
      "source": [
        "class Recognizer(nn.Module):\n",
        "  def __init__(self, sequence_length=128, language_size=197, hidden_size=256, num_layers=1, dropout_rate=0.2, horizontal_dim=512, vertical_dim=32, activation=nn.ReLU):\n",
        "    super(Recognizer, self).__init__()\n",
        "\n",
        "    self.language_size = language_size\n",
        "    self.hidden_size = hidden_size\n",
        "    self.num_layers = num_layers\n",
        "    self.horizontal_dim = horizontal_dim\n",
        "\n",
        "    # Encoder\n",
        "    self.conv1 = nn.Sequential(nn.Conv2d(1, 8, 3, 1, 1), activation())\n",
        "    self.conv2 = nn.Sequential(nn.Conv2d(8, 16, 3, 1, 1), activation())\n",
        "    self.conv3 = nn.Sequential(nn.Conv2d(16, 32, 3, 1, 1), activation())\n",
        "    self.conv4 = nn.Sequential(nn.Conv2d(32, 64, 3, 1, 1), activation())\n",
        "    self.conv5 = nn.Sequential(nn.Conv2d(64, 128, 3, 1, 1), activation())\n",
        "    self.conv6 = nn.Sequential(nn.Conv2d(128, self.language_size, 3, 1, 1), activation())\n",
        "\n",
        "\n",
        "    self.gate1 = nn.Sequential(nn.Conv2d(16, 16, 3, 1, 1), nn.Sigmoid()) \n",
        "    self.gate2 = nn.Sequential(nn.Conv2d(32, 32, 3, 1, 1), nn.Sigmoid())\n",
        "    self.gate3 = nn.Sequential(nn.Conv2d(64, 64, 3, 1, 1), nn.Sigmoid())\n",
        "    self.gate4 = nn.Sequential(nn.Conv2d(128, 128, 3, 1, 1), nn.Sigmoid())\n",
        "\n",
        "    # Maxpool\n",
        "    self.mp = nn.MaxPool2d((vertical_dim, 1))\n",
        "\n",
        "    # Decoder\n",
        "    self.lstm1 = nn.LSTM(self.horizontal_dim, self.hidden_size, self.num_layers, bidirectional=True, batch_first=True)\n",
        "    self.fc1 = nn.Sequential(nn.Linear(self.hidden_size * 2, 128),  activation())\n",
        "    self.lstm2 = nn.LSTM(128, self.hidden_size, self.num_layers, bidirectional=True, batch_first=True)\n",
        "    self.fc2 = nn.Linear(self.hidden_size * 2, sequence_length)\n",
        "    self.softmax = nn.LogSoftmax(dim=1)\n",
        "\n",
        "  def init_hidden(self, batch_size):\n",
        "    return torch.zeros(self.num_layers * 2, batch_size, self.hidden_size)\n",
        "\n",
        "  def forward(self, x):\n",
        "    # Encoder\n",
        "    out = self.conv1(x)\n",
        "\n",
        "    out = self.conv2(out)\n",
        "    gate1 = self.gate1(out)\n",
        "    out = out * gate1\n",
        "\n",
        "    out = self.conv3(out)\n",
        "    gate2 = self.gate2(out)\n",
        "    out = out * gate2\n",
        "\n",
        "    out = self.conv4(out)\n",
        "    gate3 = self.gate3(out)\n",
        "    out = out * gate3\n",
        "\n",
        "    out = self.conv5(out)\n",
        "    gate4 = self.gate4(out)\n",
        "    out = out * gate4\n",
        "\n",
        "    out = self.conv6(out)\n",
        "\n",
        "    # Max Pooling across vertical dimension\n",
        "    out = self.mp(out)\n",
        "\n",
        "    # Decoder\n",
        "    out = out.view(-1, self.language_size, self.horizontal_dim)\n",
        "\n",
        "    out, _ = self.lstm1(out)\n",
        "    out = self.fc1(out)\n",
        "    out, _ = self.lstm2(out)\n",
        "    out = self.fc2(out)\n",
        "    out = self.softmax(out)\n",
        "\n",
        "    # Change shape so that we can pass directly to CTC-Loss\n",
        "    out = out.permute(2, 0, 1)\n",
        "\n",
        "    return out"
      ],
      "execution_count": 0,
      "outputs": []
    },
    {
      "cell_type": "code",
      "metadata": {
        "id": "iZfH1CoTqozh",
        "colab_type": "code",
        "colab": {}
      },
      "source": [
        "class RecognizerOld(nn.Module):\n",
        "  def __init__(self):\n",
        "    super(RecognizerOld, self).__init__()\n",
        "\n",
        "    self.hidden_size = 256\n",
        "    self.num_layers = 1\n",
        "    self.max_length = 20\n",
        "\n",
        "    # Encoder\n",
        "    self.conv1 = nn.Conv2d(1, 8, 3, 1, 1)\n",
        "    self.tanh1 = nn.Tanh()\n",
        "    self.conv2 = nn.Conv2d(8, 16, 3, 1, 1) # 4x2\n",
        "    self.tanh2 = nn.Tanh()\n",
        "    self.conv3 = nn.Conv2d(16, 32, 3, 1, 1)\n",
        "    self.tanh3 = nn.Tanh()\n",
        "    self.conv4 = nn.Conv2d(32, 64, 3, 1, 1) # 4x2\n",
        "    self.tanh4 = nn.Tanh()\n",
        "    self.conv5 = nn.Conv2d(64, 128, 3, 1, 1)\n",
        "    self.tanh5 = nn.Tanh()\n",
        "\n",
        "    self.gate1 = nn.Sequential(nn.Conv2d(16, 16, 3, 1, 1), nn.Sigmoid()) \n",
        "    self.gate2 = nn.Sequential(nn.Conv2d(32, 32, 3, 1, 1), nn.Sigmoid())\n",
        "    self.gate3 = nn.Sequential(nn.Conv2d(64, 64, 3, 1, 1), nn.Sigmoid())\n",
        "\n",
        "    # Maxpool\n",
        "    self.mp = nn.MaxPool2d((32, 1))\n",
        "\n",
        "    # Decoder\n",
        "    self.gru1 = nn.GRU(128, self.hidden_size, self.num_layers, bidirectional=True, batch_first=True)\n",
        "    self.fc1 = nn.Linear(self.hidden_size * 2, 128)\n",
        "    self.gru2 = nn.GRU(128, self.hidden_size, self.num_layers, bidirectional=True, batch_first=True)\n",
        "    self.fc2 = nn.Linear(self.hidden_size * 2, 16)\n",
        "    self.softmax = nn.LogSoftmax(dim=1)\n",
        "\n",
        "  def init_hidden(self, batch_size):\n",
        "    return torch.zeros(self.num_layers * 2, batch_size, self.hidden_size)\n",
        "\n",
        "  # Input -> (Batch, 1, 128, 256)\n",
        "  def forward(self, x):\n",
        "    # Encoder\n",
        "    out = self.conv1(x)\n",
        "    out = self.tanh1(out)\n",
        "    out = self.conv2(out)\n",
        "    out = self.tanh2(out)\n",
        "\n",
        "    gate1 = self.gate1(out)\n",
        "    out = out * gate1\n",
        "\n",
        "    out = self.conv3(out)\n",
        "    out = self.tanh3(out)\n",
        "\n",
        "    gate2 = self.gate2(out)\n",
        "    out = out * gate2\n",
        "\n",
        "    out = self.conv4(out)\n",
        "    out = self.tanh4(out)\n",
        "\n",
        "    gate3 = self.gate3(out)\n",
        "    out = out * gate3\n",
        "\n",
        "    out = self.conv5(out)\n",
        "    out = self.tanh5(out)\n",
        "\n",
        "    # Max Pooling across vertical dimension\n",
        "    out = self.mp(out)\n",
        "\n",
        "    # Decoder\n",
        "    out = out.view(-1, 128, 128)\n",
        "\n",
        "    out, _ = self.gru1(out)\n",
        "    out = self.fc1(out)\n",
        "    out, _ = self.gru2(out)\n",
        "    out = self.fc2(out)\n",
        "    out = self.softmax(out)\n",
        "\n",
        "    # Change shape so that we can pass directly to CTC-Loss\n",
        "    out = out.permute(2, 0, 1)\n",
        "\n",
        "    return out"
      ],
      "execution_count": 0,
      "outputs": []
    },
    {
      "cell_type": "code",
      "metadata": {
        "id": "KmUtwDZFqubR",
        "colab_type": "code",
        "colab": {
          "base_uri": "https://localhost:8080/",
          "height": 51
        },
        "outputId": "447b0312-c6bd-462f-d6fc-e1633d89160f"
      },
      "source": [
        "r = RecognizerOld()\n",
        "print(parameter_count(r))\n",
        "r(torch.randn(1, 1, 32, 128)).shape"
      ],
      "execution_count": 122,
      "outputs": [
        {
          "output_type": "stream",
          "text": [
            "1406400\n"
          ],
          "name": "stdout"
        },
        {
          "output_type": "execute_result",
          "data": {
            "text/plain": [
              "torch.Size([16, 1, 128])"
            ]
          },
          "metadata": {
            "tags": []
          },
          "execution_count": 122
        }
      ]
    },
    {
      "cell_type": "code",
      "metadata": {
        "id": "8WvUT4pZsDtq",
        "colab_type": "code",
        "colab": {
          "base_uri": "https://localhost:8080/",
          "height": 136
        },
        "outputId": "0bb58694-e285-427a-aed3-330b55c652d7"
      },
      "source": [
        "rec = Recognizer(horizontal_dim=128)\n",
        "print(parameter_count(rec))\n",
        "rec(torch.randn(10, 1, 32, 128)).shape"
      ],
      "execution_count": 121,
      "outputs": [
        {
          "output_type": "stream",
          "text": [
            "2233845\n",
            "torch.Size([10, 197, 32, 128])\n",
            "torch.Size([10, 197, 1, 128])\n",
            "torch.Size([10, 197, 128])\n",
            "torch.Size([10, 197, 512])\n",
            "torch.Size([10, 197, 128])\n"
          ],
          "name": "stdout"
        },
        {
          "output_type": "execute_result",
          "data": {
            "text/plain": [
              "torch.Size([128, 10, 197])"
            ]
          },
          "metadata": {
            "tags": []
          },
          "execution_count": 121
        }
      ]
    },
    {
      "cell_type": "code",
      "metadata": {
        "id": "tPJ76cAmA7wN",
        "colab_type": "code",
        "colab": {
          "base_uri": "https://localhost:8080/",
          "height": 136
        },
        "outputId": "5724f710-8a71-4c64-b172-5db252519d3e"
      },
      "source": [
        "recognizer = Recognizer(sequence_length=120)\n",
        "print(parameter_count(recognizer))\n",
        "recognizer(torch.randn(1, 1, 32, 512)).shape"
      ],
      "execution_count": 124,
      "outputs": [
        {
          "output_type": "stream",
          "text": [
            "3016173\n",
            "torch.Size([1, 197, 32, 512])\n",
            "torch.Size([1, 197, 1, 512])\n",
            "torch.Size([1, 197, 512])\n",
            "torch.Size([1, 197, 512])\n",
            "torch.Size([1, 197, 128])\n"
          ],
          "name": "stdout"
        },
        {
          "output_type": "execute_result",
          "data": {
            "text/plain": [
              "torch.Size([120, 1, 197])"
            ]
          },
          "metadata": {
            "tags": []
          },
          "execution_count": 124
        }
      ]
    },
    {
      "cell_type": "markdown",
      "metadata": {
        "id": "ZGQ2icmVEh54",
        "colab_type": "text"
      },
      "source": [
        "### Model 2"
      ]
    },
    {
      "cell_type": "code",
      "metadata": {
        "id": "CBDI1Nn4Fg5K",
        "colab_type": "code",
        "colab": {}
      },
      "source": [
        "class GatedConv2d(nn.Module):\n",
        "  def __init__(self, in_channels, out_channels, kernel_size, stride=1, padding=1, activation=nn.ReLU):\n",
        "    super(GatedConv2d, self).__init__()\n",
        "\n",
        "    self.conv = nn.Sequential(nn.Conv2d(in_channels, out_channels, kernel_size, stride, padding), activation())\n",
        "    self.gate = nn.Sequential(nn.Conv2d(in_channels, out_channels, kernel_size, stride, padding), nn.Sigmoid())\n",
        "  \n",
        "  def forward(self, x):\n",
        "    out = self.conv(x)\n",
        "    gate = self.gate(x)\n",
        "    out = out * gate\n",
        "\n",
        "    return out"
      ],
      "execution_count": 0,
      "outputs": []
    },
    {
      "cell_type": "code",
      "metadata": {
        "id": "A0Pw0QsEEhGN",
        "colab_type": "code",
        "colab": {}
      },
      "source": [
        "class RecognizerFlor(nn.Module):\n",
        "  def __init__(self, sequence_sizeactivation=nn.PReLU, h_dim=512):\n",
        "    super(RecognizerFlor, self).__init__()\n",
        "\n",
        "    self.h_dim = h_dim\n",
        "    self.hidden_size = 256\n",
        "    self.num_layers = 2\n",
        "\n",
        "    self.conv1 = nn.Sequential(nn.Conv2d(1, 16, 3, 2, 1), activation(), nn.BatchNorm2d(16), GatedConv2d(16, 16, 3, 1, 1, activation))\n",
        "    self.conv2 = nn.Sequential(nn.Conv2d(16, 32, (2, 4), (2, 4), 0), activation(), nn.BatchNorm2d(32), GatedConv2d(32, 32, 3, 1, 1, activation))\n",
        "    self.conv3 = nn.Sequential(nn.Conv2d(32, 40, (2, 4), (2, 4), 0), activation(), nn.BatchNorm2d(40), GatedConv2d(40, 40, 3, 1, 1, activation), nn.Dropout2d(p=.2))\n",
        "    self.conv4 = nn.Sequential(nn.Conv2d(40, 48, (2, 4), (2, 4), 0), activation(), nn.BatchNorm2d(48), GatedConv2d(48, 48, 3, 1, 1, activation), nn.Dropout2d(p=.2))\n",
        "    self.conv5 = nn.Sequential(nn.Conv2d(48, 56, 3, 1, 1), activation(), nn.BatchNorm2d(56), GatedConv2d(56, 56, 3, 1, 1, activation), nn.Dropout2d(p=.2))\n",
        "    self.conv6 = nn.Sequential(nn.Conv2d(56, 64, 3, 1, 1), activation(), nn.BatchNorm2d(64))\n",
        "\n",
        "    self.lstm1 = nn.Sequential(nn.Dropout(p=.2), nn.LSTM(128, self.hidden_size, self.num_layers, bidirectional=True, batch_first=True))\n",
        "    self.fc1 = nn.Linear(self.hidden_size * 2, 128)\n",
        "    self.lstm2 = nn.Sequential(nn.Dropout(p=.2), nn.LSTM(128, self.hidden_size, self.num_layers, bidirectional=True, batch_first=True))\n",
        "    self.fc2 = nn.Linear(self.hidden_size * 2, 128)\n",
        "\n",
        "    self.cnn = nn.Sequential(self.conv1, self.conv2, self.conv3, self.conv4, self.conv5, self.conv6)\n",
        "    self.mp = nn.MaxPool2d((2, 1))\n",
        "\n",
        "\n",
        "  def forward(self, x):\n",
        "    out = self.cnn(x)\n",
        "    out = self.mp(out)\n",
        "\n",
        "    out = out.view(-1, 64, self.h_dim // 128)\n",
        "    \n",
        "    return out"
      ],
      "execution_count": 0,
      "outputs": []
    },
    {
      "cell_type": "code",
      "metadata": {
        "id": "qM6Gt2f0NL4S",
        "colab_type": "code",
        "colab": {
          "base_uri": "https://localhost:8080/",
          "height": 34
        },
        "outputId": "813943ec-1b8a-4fc9-f1c9-07a5c0da213a"
      },
      "source": [
        "r = RecognizerFlor()\n",
        "r(torch.randn(1, 1, 32, 512)).shape"
      ],
      "execution_count": 156,
      "outputs": [
        {
          "output_type": "execute_result",
          "data": {
            "text/plain": [
              "torch.Size([1, 64, 4])"
            ]
          },
          "metadata": {
            "tags": []
          },
          "execution_count": 156
        }
      ]
    },
    {
      "cell_type": "code",
      "metadata": {
        "id": "AfbWFshSHIsU",
        "colab_type": "code",
        "colab": {
          "base_uri": "https://localhost:8080/",
          "height": 34
        },
        "outputId": "4dd7b60b-a4c0-4679-c5f2-cca421887698"
      },
      "source": [
        "mp = nn.MaxPool2d((2, 1))\n",
        "mp(torch.randn(10, 100, 32, 512)).shape"
      ],
      "execution_count": 137,
      "outputs": [
        {
          "output_type": "execute_result",
          "data": {
            "text/plain": [
              "torch.Size([10, 100, 16, 512])"
            ]
          },
          "metadata": {
            "tags": []
          },
          "execution_count": 137
        }
      ]
    },
    {
      "cell_type": "markdown",
      "metadata": {
        "id": "4oMOWjmy3rdW",
        "colab_type": "text"
      },
      "source": [
        "### IAM/Rimes Training"
      ]
    },
    {
      "cell_type": "code",
      "metadata": {
        "id": "jfm_Xl3V3otH",
        "colab_type": "code",
        "colab": {}
      },
      "source": [
        "def train(dataset):\n",
        "  EPOCHS = 150\n",
        "  BATCH_SIZE = 32\n",
        "  ITERATION_SAMPLE = 2000\n",
        "  SEQUENCE_SIZE = 128\n",
        "\n",
        "  train_dataset_size = int(.8 * len(dataset))\n",
        "  val_dataset_size = len(dataset) - train_dataset_size\n",
        "  train_dataset, val_dataset = torch.utils.data.random_split(dataset, [train_dataset_size, val_dataset_size])\n",
        "  \n",
        "  train_loader = DataLoader(train_dataset, batch_size=BATCH_SIZE, shuffle=True, num_workers=4)\n",
        "  val_loader = DataLoader(val_dataset, batch_size=BATCH_SIZE, shuffle=True, num_workers=4)\n",
        "\n",
        "  encoder = Encoder(sequence_size=SEQUENCE_SIZE)\n",
        "  recognizer = Recognizer(sequence_length=SEQUENCE_SIZE, language_size=197, vertical_dim=dataset[0][0].shape[1], horizontal_dim=dataset[0][0].shape[2]).cuda()\n",
        "  optimizer = optim.RMSprop(recognizer.parameters(), lr=4e-4)\n",
        "  objective = nn.CTCLoss(blank=0, reduction='none', zero_infinity=True)\n",
        "\n",
        "  train_losses_epochs = []\n",
        "  val_losses_epochs = []\n",
        "\n",
        "  for epoch in range(EPOCHS):\n",
        "    loop = tqdm(total=len(train_loader), position=0, leave=True)\n",
        "\n",
        "    train_losses = []\n",
        "    val_losses = []\n",
        "\n",
        "    # Training Loop\n",
        "    # recognizer = recognizer.train()\n",
        "    for batch_num, (imgs, words) in enumerate(train_loader):\n",
        "      batch_size = imgs.shape[0]\n",
        "\n",
        "      idxs, word_lengths = encoder.str_to_idxs_batch(words)\n",
        "\n",
        "      imgs, labels = imgs.cuda(), torch.tensor(idxs).cuda()\n",
        "\n",
        "      input_lengths = torch.full((batch_size,), SEQUENCE_SIZE, dtype=torch.long).cuda()\n",
        "      target_lengths = torch.tensor(word_lengths).cuda()\n",
        "\n",
        "      preds = recognizer(imgs)\n",
        "\n",
        "      loss = objective(preds, labels, input_lengths, target_lengths)\n",
        "      loss = torch.mean(loss)\n",
        "\n",
        "      optimizer.zero_grad()\n",
        "      loss.backward()\n",
        "      optimizer.step()\n",
        "\n",
        "      train_losses.append(loss.item())\n",
        "\n",
        "      if batch_num % ITERATION_SAMPLE == 0:\n",
        "        preds_strings = encoder.idxs_to_str_batch(preds.permute(1, 0, 2).argmax(dim=2))\n",
        "        print('\\nTargets: ', words[:3])\n",
        "        print('Predicted: ', preds_strings[:3])\n",
        "        show_imgs(imgs[:3])\n",
        "        plt.pause(1)\n",
        "\n",
        "      loop.set_description('Train - Epoch: {}, Loss: {:.4f}, AvgLoss: {:.4f}'.format(epoch, loss.item(), np.mean(train_losses)))\n",
        "      loop.update(1)\n",
        "    \n",
        "    loop.close()\n",
        "\n",
        "    # # Validation Loop\n",
        "    # recognizer = recognizer.eval()\n",
        "    # val_loop = tqdm(total=len(val_loader), position=0, leave=True)\n",
        "    # for batch_num, (imgs, words) in enumerate(val_loader):\n",
        "    #   with torch.no_grad():\n",
        "    #     batch_size = imgs.shape[0]\n",
        "\n",
        "    #     idxs, word_lengths = encoder.str_to_idxs_batch(words)\n",
        "\n",
        "    #     imgs, labels = imgs.cuda(), torch.tensor(idxs).cuda()\n",
        "\n",
        "    #     optimizer.zero_grad()\n",
        "\n",
        "    #     input_lengths = torch.full((batch_size,), SEQUENCE_SIZE, dtype=torch.long).cuda()\n",
        "    #     target_lengths = torch.tensor(word_lengths).cuda()\n",
        "\n",
        "    #     preds = recognizer(imgs)\n",
        "\n",
        "    #     loss = objective(preds, labels, input_lengths, target_lengths)\n",
        "    #     loss = torch.mean(loss)\n",
        "\n",
        "    #     val_losses.append(loss.item())\n",
        "\n",
        "    #     val_loop.set_description('Validation - Epoch: {}, Loss: {:.4f}, AvgLoss: {:.4f}'.format(epoch, loss.item(), np.mean(val_losses)))\n",
        "    #     val_loop.update(1)\n",
        "\n",
        "    # val_loop.close()\n",
        "\n",
        "    train_losses_epochs.append(np.mean(train_losses))\n",
        "    # val_losses_epochs.append(np.mean(val_losses))\n",
        "\n",
        "  return recognizer, train_losses_epochs, val_losses_epochs"
      ],
      "execution_count": 0,
      "outputs": []
    },
    {
      "cell_type": "code",
      "metadata": {
        "id": "pCBBrujciZT9",
        "colab_type": "code",
        "colab": {
          "base_uri": "https://localhost:8080/",
          "height": 89
        },
        "outputId": "69cb2f60-19aa-4ef1-d8e2-e4fef99aa407"
      },
      "source": [
        "dataset = IamDataset(desired_size=(32, 512))\n",
        "plt.imshow(dataset[3000][0].squeeze(), cmap='gray')"
      ],
      "execution_count": 71,
      "outputs": [
        {
          "output_type": "execute_result",
          "data": {
            "text/plain": [
              "<matplotlib.image.AxesImage at 0x7f98f0716d68>"
            ]
          },
          "metadata": {
            "tags": []
          },
          "execution_count": 71
        },
        {
          "output_type": "display_data",
          "data": {
            "image/png": "[encoded data removed]",
            "text/plain": [
              "<Figure size 432x288 with 1 Axes>"
            ]
          },
          "metadata": {
            "tags": []
          }
        }
      ]
    },
    {
      "cell_type": "code",
      "metadata": {
        "id": "u9MaGdQew5BT",
        "colab_type": "code",
        "colab": {}
      },
      "source": [
        "# Train with Iam Dataset\n",
        "try:\n",
        "  iam_dataset = IamDataset(desired_size=(32, 512))\n",
        "  iam_recognizer, iam_train_losses, iam_val_losses = train(iam_dataset)\n",
        "except:\n",
        "  __ITB__()\n",
        "  gc.collect()"
      ],
      "execution_count": 0,
      "outputs": []
    }
  ]
}