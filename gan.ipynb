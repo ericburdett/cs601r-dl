{
  "nbformat": 4,
  "nbformat_minor": 0,
  "metadata": {
    "colab": {
      "name": "ner.ipynb",
      "provenance": [],
      "authorship_tag": "ABX9TyMgLiPgBMqEC712p6mbV/7P",
      "include_colab_link": true
    },
    "kernelspec": {
      "name": "python3",
      "display_name": "Python 3"
    },
    "accelerator": "GPU"
  },
  "cells": [
    {
      "cell_type": "markdown",
      "metadata": {
        "id": "view-in-github",
        "colab_type": "text"
      },
      "source": [
        "<a href=\"https://colab.research.google.com/github/ericburdett/cs601r-dl/blob/master/gan.ipynb\" target=\"_parent\"><img src=\"https://colab.research.google.com/assets/colab-badge.svg\" alt=\"Open In Colab\"/></a>"
      ]
    },
    {
      "cell_type": "markdown",
      "metadata": {
        "id": "dAoyRxyga7yC",
        "colab_type": "text"
      },
      "source": [
        "# Conditional Handwriting GAN"
      ]
    },
    {
      "cell_type": "code",
      "metadata": {
        "id": "9mNs_BtsaykG",
        "colab_type": "code",
        "outputId": "ad416f80-36a2-429f-95ce-e57a82b238bd",
        "colab": {
          "base_uri": "https://localhost:8080/",
          "height": 122
        }
      },
      "source": [
        "import torch\n",
        "import torch.nn as nn\n",
        "import torch.nn.functional as F\n",
        "import torch.optim as optim\n",
        "from torch.utils.data import Dataset, DataLoader\n",
        "import numpy as np\n",
        "import matplotlib.pyplot as plt\n",
        "from torchvision import transforms, utils, datasets\n",
        "from tqdm import tqdm\n",
        "from torch.nn.parameter import Parameter\n",
        "import pdb\n",
        "import torchvision\n",
        "import os\n",
        "import gzip\n",
        "import tarfile\n",
        "from PIL import Image, ImageOps\n",
        "import gc\n",
        "import pdb\n",
        "import pandas as pd\n",
        "from PIL import Image\n",
        "from matplotlib.pyplot import imshow\n",
        "from sklearn.metrics import confusion_matrix\n",
        "import seaborn as sns\n",
        "from google.colab import drive\n",
        "drive.mount('/content/drive')\n",
        "from IPython.core.ultratb import AutoFormattedTB\n",
        "__ITB__ = AutoFormattedTB(mode = 'Verbose',color_scheme='LightBg', tb_offset = 1)\n",
        "\n",
        "assert torch.cuda.is_available(), \"Request a GPU from Runtime > Change Runtime\""
      ],
      "execution_count": 2,
      "outputs": [
        {
          "output_type": "stream",
          "text": [
            "Go to this URL in a browser: https://accounts.google.com/o/oauth2/auth?client_id=947318989803-6bn6qk8qdgf4n4g3pfee6491hc0brc4i.apps.googleusercontent.com&redirect_uri=urn%3aietf%3awg%3aoauth%3a2.0%3aoob&response_type=code&scope=email%20https%3a%2f%2fwww.googleapis.com%2fauth%2fdocs.test%20https%3a%2f%2fwww.googleapis.com%2fauth%2fdrive%20https%3a%2f%2fwww.googleapis.com%2fauth%2fdrive.photos.readonly%20https%3a%2f%2fwww.googleapis.com%2fauth%2fpeopleapi.readonly\n",
            "\n",
            "Enter your authorization code:\n",
            "··········\n",
            "Mounted at /content/drive\n"
          ],
          "name": "stdout"
        }
      ]
    },
    {
      "cell_type": "code",
      "metadata": {
        "id": "f9aDvlkQNOjT",
        "colab_type": "code",
        "colab": {}
      },
      "source": [
        "!cp \"drive/My Drive/datasets/iam.zip\" \"/content\""
      ],
      "execution_count": 0,
      "outputs": []
    },
    {
      "cell_type": "code",
      "metadata": {
        "id": "d4xL9fP7NtkU",
        "colab_type": "code",
        "colab": {
          "base_uri": "https://localhost:8080/",
          "height": 153
        },
        "outputId": "dd9cc90f-1a12-4a67-8342-a0d3e0a28c5c"
      },
      "source": [
        "!unzip -q iam.zip\n",
        "!rm iam.zip"
      ],
      "execution_count": 4,
      "outputs": [
        {
          "output_type": "stream",
          "text": [
            "warning [iam.zip]:  76 extra bytes at beginning or within zipfile\n",
            "  (attempting to process anyway)\n",
            "error [iam.zip]:  reported length of central directory is\n",
            "  -76 bytes too long (Atari STZip zipfile?  J.H.Holm ZIPSPLIT 1.1\n",
            "  zipfile?).  Compensating...\n",
            "error:  expected central file header signature not found (file #95173).\n",
            "  (please check that you have transferred or created the zipfile in the\n",
            "  appropriate BINARY mode and that you have compiled UnZip properly)\n"
          ],
          "name": "stdout"
        }
      ]
    },
    {
      "cell_type": "code",
      "metadata": {
        "id": "cO8JWMj_gKi1",
        "colab_type": "code",
        "colab": {}
      },
      "source": [
        "class IamDataset(Dataset):\n",
        "  def __init__(self, label='category', img_size=64):\n",
        "    if not os.path.exists('/content/labels.csv'):\n",
        "      raise Exception('Iam dataset does not exist in /content/labels.csv')\n",
        "\n",
        "    self.img_size = img_size\n",
        "    self.path = '/content/images/'\n",
        "    self.df = pd.read_csv('/content/labels.csv', sep='\\t', header=None, names=['word', 'seg', 'transcription'])\n",
        "    self.df = self.df.drop(['seg'], axis=1)\n",
        "\n",
        "  def get_df(self):\n",
        "    return self.df\n",
        "\n",
        "  def tensor_image(self, path):\n",
        "    img = Image.open(path + '.png')\n",
        "    img = self.resize(img)\n",
        "    x = transforms.functional.to_tensor(img)\n",
        "\n",
        "    # Look into automatically resizing or adding padding to images\n",
        "    # With a GAN, we will likely need all the input images to be the same size\n",
        "\n",
        "    return x\n",
        "\n",
        "  def resize(self, img):\n",
        "    old_size = img.size\n",
        "    ratio = float(self.img_size) / max(old_size)\n",
        "    new_size = tuple([int(x * ratio) for x in old_size])\n",
        "\n",
        "    img = img.resize(new_size, Image.ANTIALIAS)\n",
        "\n",
        "    new_img = Image.new(\"L\", (self.img_size, self.img_size))\n",
        "    new_img.paste(img, ((self.img_size - new_size[0]) // 2,\n",
        "                        (self.img_size - new_size[1]) // 2))\n",
        "    \n",
        "    return new_img\n",
        "\n",
        "  def __getitem__(self, index):\n",
        "    img = self.tensor_image('images/' + self.df['word'][index])\n",
        "\n",
        "    return img, self.df['transcription'][index]\n",
        "\n",
        "  def __len__(self):\n",
        "    return len(self.df)"
      ],
      "execution_count": 0,
      "outputs": []
    },
    {
      "cell_type": "code",
      "metadata": {
        "id": "DkQ8f_k4d55i",
        "colab_type": "code",
        "colab": {}
      },
      "source": [
        "def tensor_to_image(t):\n",
        "  return transforms.ToPILImage()(t).convert(\"L\")"
      ],
      "execution_count": 0,
      "outputs": []
    },
    {
      "cell_type": "code",
      "metadata": {
        "id": "fCjJNP6ci0TN",
        "colab_type": "code",
        "colab": {}
      },
      "source": [
        "class ResidualBlock(nn.Module):\n",
        "  def __init__(self, in_channels, out_channels, conv=nn.Conv2d, stride=1, padding=1, kernel=3, activation=nn.LeakyReLU):\n",
        "    super(ResidualBlock, self).__init__()\n",
        "\n",
        "    self.conv1 = conv(in_channels, out_channels, kernel_size=kernel, padding=padding, stride=stride)\n",
        "    self.bn1 = nn.BatchNorm2d(out_channels)\n",
        "    self.act1 = activation()\n",
        "    self.conv2 = conv(out_channels, out_channels, kernel_size=kernel, padding=padding, stride=stride)\n",
        "    self.bn2 = nn.BatchNorm2d(out_channels)\n",
        "    self.act2 = activation()\n",
        "    \n",
        "    if in_channels != out_channels:\n",
        "      self.needs_shortcut = True\n",
        "      self.conv_short = conv(in_channels, out_channels, kernel_size=kernel, padding=padding, stride=stride, bias=False)\n",
        "      self.bn_short = nn.BatchNorm2d(out_channels)\n",
        "      self.shortcut = nn.Sequential(\n",
        "        self.conv_short,\n",
        "        self.bn_short\n",
        "      )\n",
        " \n",
        "    else:\n",
        "      self.needs_shortcut = False\n",
        "  \n",
        "  def forward(self, x):\n",
        "    identity = x if not self.needs_shortcut else self.shortcut(x)\n",
        "    out = self.conv1(x)\n",
        "    out = self.bn1(out)\n",
        "    out = self.act1(out)\n",
        "    out = self.conv2(out)\n",
        "    out = self.bn2(out)\n",
        "    out = self.act2(out)\n",
        "\n",
        "    if identity.shape[2] != out.shape[2]:\n",
        "      identity = F.interpolate(identity, size=out.shape[2])\n",
        "\n",
        "    out += identity\n",
        "\n",
        "    return out"
      ],
      "execution_count": 0,
      "outputs": []
    },
    {
      "cell_type": "code",
      "metadata": {
        "id": "zNY5u_Jd1xs3",
        "colab_type": "code",
        "colab": {}
      },
      "source": [
        "class Discriminator(nn.Module):\n",
        "  def __init__(self, img, layers=8, in_channels=1, channels=200):\n",
        "    super(Discriminator, self).__init__()\n",
        "\n",
        "    self.channels = channels\n",
        "    self.height = img.shape[1]\n",
        "    self.width = img.shape[2]\n",
        "\n",
        "    layers = [ResidualBlock(channels, channels, conv=nn.Conv2d) for _ in range(layers)]\n",
        "    layers.insert(0, ResidualBlock(in_channels, channels, conv=nn.Conv2d))\n",
        "    self.blocks = nn.Sequential(*layers)\n",
        "\n",
        "    self.fc = nn.Linear(self.channels * self.height * self.width, 2)\n",
        "\n",
        "  def forward(self, x):\n",
        "    out = self.blocks(x)\n",
        "    out = out.view(-1, self.channels * self.height * self.width)\n",
        "    out = self.fc(out)\n",
        "    return out"
      ],
      "execution_count": 0,
      "outputs": []
    },
    {
      "cell_type": "code",
      "metadata": {
        "id": "URQSF1JjQypT",
        "colab_type": "code",
        "colab": {}
      },
      "source": [
        "class Generator(nn.Module):\n",
        "  def __init__(self, img):\n",
        "    super(Generator, self).__init__()\n",
        "\n",
        "    self.model = nn.Sequential(\n",
        "      ResidualBlock(in_channels=100, out_channels=90, conv=nn.ConvTranspose2d, kernel=4, stride=1, padding=1),\n",
        "      ResidualBlock(in_channels=90, out_channels=80, conv=nn.ConvTranspose2d, kernel=4, stride=1, padding=1),\n",
        "      ResidualBlock(in_channels=80, out_channels=70, conv=nn.ConvTranspose2d, kernel=4, stride=1, padding=1),\n",
        "      ResidualBlock(in_channels=70, out_channels=60, conv=nn.ConvTranspose2d, kernel=4, stride=1, padding=1),\n",
        "      ResidualBlock(in_channels=60, out_channels=50, conv=nn.ConvTranspose2d, kernel=4, stride=1, padding=1),\n",
        "      ResidualBlock(in_channels=50, out_channels=40, conv=nn.ConvTranspose2d, kernel=4, stride=1, padding=1),\n",
        "      ResidualBlock(in_channels=40, out_channels=30, conv=nn.ConvTranspose2d, kernel=4, stride=1, padding=1),\n",
        "      ResidualBlock(in_channels=30, out_channels=1, conv=nn.ConvTranspose2d, kernel=4, stride=2, padding=1)\n",
        "    )\n",
        "\n",
        "  def forward(self, x):\n",
        "    return self.model(x)"
      ],
      "execution_count": 0,
      "outputs": []
    },
    {
      "cell_type": "code",
      "metadata": {
        "id": "6JrjI5w0eD_J",
        "colab_type": "code",
        "colab": {
          "base_uri": "https://localhost:8080/",
          "height": 285
        },
        "outputId": "31461510-08a0-428f-fbb3-7d28b8de1e80"
      },
      "source": [
        "dataset = IamDataset()\n",
        "item = dataset[5005]\n",
        "img = item[0]\n",
        "label = item[1]\n",
        "imshow(tensor_to_image(img), cmap='gray')\n",
        "print(\"Label: \", label)"
      ],
      "execution_count": 7,
      "outputs": [
        {
          "output_type": "stream",
          "text": [
            "Label:  his\n"
          ],
          "name": "stdout"
        },
        {
          "output_type": "display_data",
          "data": {
            "image/png": "[encoded data removed]",
            "text/plain": [
              "<Figure size 432x288 with 1 Axes>"
            ]
          },
          "metadata": {
            "tags": []
          }
        }
      ]
    },
    {
      "cell_type": "code",
      "metadata": {
        "id": "1TsglHoqaIp_",
        "colab_type": "code",
        "colab": {}
      },
      "source": [
        "NUM_EPOCHS = 1\n",
        "BATCH_SIZE = 5\n",
        "\n",
        "dataset = IamDataset()\n",
        "\n",
        "generator = Generator(dataset[0][0]).cuda()\n",
        "discriminator = Discriminator(dataset[0][0]).cuda()\n",
        "\n",
        "data_loader = DataLoader(dataset, batch_size=50, shuffle=True, num_workers=4)\n",
        "\n",
        "gen_optimizer = torch.optim.Adam(params=generator.parameters(), lr=1e-4)\n",
        "disc_optimizer = torch.optim.Adam(params=discriminator.parameters(), lr=1e-4)\n",
        "\n",
        "disc_objective = nn.BCELoss()\n",
        "\n",
        "for epoch in range(NUM_EPOCHS):\n",
        "\n",
        "  loop = tqdm(total=len(train_loader), position=0, leave=False)\n",
        "\n",
        "  for batch, (real_images, real_transcriptions) in enumerate(data_loader):\n",
        "    gen_optimizer.zero_grad()\n",
        "    disc_optimizer.zero_grad()\n",
        "\n",
        "    # Create labels for real/fake images\n",
        "    fake_labels = torch.zeros(BATCH_SIZE)\n",
        "    real_labels = torch.ones(BATCH_SIZE)\n",
        "\n",
        "    # Sample from latent vector\n",
        "    z = torch.randn(BATCH_SIZE, 100, 2, 2)\n",
        "    fake_images = generator(z)\n",
        "    \n",
        "    # Train Generator\n",
        "    fake_pred = discriminator(fake_images).argmax(1)\n",
        "    gen_loss = gen_objective(fake_images, real_labels) # The generator should be trying to generate real images\n",
        "\n",
        "    gen_loss.backward()\n",
        "    gen_optimizer.step()\n",
        "\n",
        "    # Train Discriminator\n",
        "    fake_pred = discriminator(fake_images.detach()).argmax(1) # Detach so we aren't training the generator\n",
        "    real_pred = discriminator(real_images).argmax(1)\n",
        "\n",
        "    fake_loss = disc_objective(fake_pred, fake_labels)\n",
        "    real_loss = disc_objective(real_pred, real_labels)\n",
        "    disc_loss = 0.5 * (fake_loss + real_loss)\n",
        "\n",
        "    disc_loss.backward()\n",
        "    disc_optimizer.step()"
      ],
      "execution_count": 0,
      "outputs": []
    },
    {
      "cell_type": "code",
      "metadata": {
        "id": "jQmKrNQTcNuH",
        "colab_type": "code",
        "colab": {
          "base_uri": "https://localhost:8080/",
          "height": 34
        },
        "outputId": "e6c7944c-24f3-440f-9dc8-6e12b9da5943"
      },
      "source": [
        "d(torch.randn(5, 1, 64, 64)).argmax(1)"
      ],
      "execution_count": 132,
      "outputs": [
        {
          "output_type": "execute_result",
          "data": {
            "text/plain": [
              "tensor([1, 0, 0, 1, 0])"
            ]
          },
          "metadata": {
            "tags": []
          },
          "execution_count": 132
        }
      ]
    },
    {
      "cell_type": "code",
      "metadata": {
        "id": "nXgOPoNCg1ey",
        "colab_type": "code",
        "colab": {
          "base_uri": "https://localhost:8080/",
          "height": 136
        },
        "outputId": "dafacd61-cb0a-4243-ee10-d23c79cacdf3"
      },
      "source": [
        "torch.randn(img.shape)"
      ],
      "execution_count": 10,
      "outputs": [
        {
          "output_type": "execute_result",
          "data": {
            "text/plain": [
              "tensor([[[-0.4789, -0.4076, -0.3232,  ..., -0.5921,  0.2722, -0.4592],\n",
              "         [-0.8109, -0.2118,  1.3839,  ..., -0.3959, -0.8914, -1.2467],\n",
              "         [-1.0322, -0.9361, -1.7085,  ...,  0.1053, -1.0537,  0.4426],\n",
              "         ...,\n",
              "         [-0.5583,  0.2127,  2.0908,  ..., -0.8086,  0.4904,  0.1986],\n",
              "         [-0.6710,  2.3119, -0.5932,  ...,  0.4277, -1.2802, -0.2051],\n",
              "         [-0.0148,  0.5719, -1.0153,  ...,  0.6673, -0.2275,  0.2582]]])"
            ]
          },
          "metadata": {
            "tags": []
          },
          "execution_count": 10
        }
      ]
    }
  ]
}