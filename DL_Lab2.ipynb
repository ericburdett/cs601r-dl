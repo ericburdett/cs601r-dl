{
  "nbformat": 4,
  "nbformat_minor": 0,
  "metadata": {
    "colab": {
      "name": "DL_Lab1.ipynb",
      "provenance": [],
      "collapsed_sections": [],
      "include_colab_link": true
    },
    "kernelspec": {
      "name": "python3",
      "display_name": "Python 3"
    },
    "language_info": {
      "codemirror_mode": {
        "name": "ipython",
        "version": 3
      },
      "file_extension": ".py",
      "mimetype": "text/x-python",
      "name": "python",
      "nbconvert_exporter": "python",
      "pygments_lexer": "ipython3",
      "version": "3.7.4"
    },
    "pycharm": {
      "stem_cell": {
        "cell_type": "raw",
        "source": [],
        "metadata": {
          "collapsed": false
        }
      }
    },
    "accelerator": "GPU"
  },
  "cells": [
    {
      "cell_type": "markdown",
      "metadata": {
        "id": "view-in-github",
        "colab_type": "text"
      },
      "source": [
        "<a href=\"https://colab.research.google.com/github/ericburdett/cs601r-dl/blob/master/DL_Lab2.ipynb\" target=\"_parent\"><img src=\"https://colab.research.google.com/assets/colab-badge.svg\" alt=\"Open In Colab\"/></a>"
      ]
    },
    {
      "cell_type": "markdown",
      "metadata": {
        "id": "3v2tFVnpD--T",
        "colab_type": "text"
      },
      "source": [
        "# Lab 2: Hyper Zoo\n",
        "\n",
        "### Deliverable:\n",
        "For this lab, you will submit an ipython notebook via learningsuite. Your notebook will contain two parts, as described below.\n",
        "\n",
        "### Grading standards:\n",
        "Your notebook will be graded on the following:\n",
        "\n",
        "* 35% Part 1: Clearly displayed 10 bars (one for baseline, one for each tweak \n",
        "independently)\n",
        "* 5% Part 1: Small writeup of conclusions from independent tweaks\n",
        "* 25% Part 2: Clear explanation of your tweaking strategy\n",
        "* 25% Part 2: Actually run your tweaking strategy and show the results\n",
        "* 10% Tidy and legible figures, including labeled axes where appropriate\n",
        "* 10% Extra credit - Error bars on your figure in Part 1.\n",
        "\n",
        "### Description:\n",
        "The goal of this lab is to learn how to explore the combinatorial space of possible hyperparameter settings.\n",
        "\n",
        "Many deep learning papers present some sort of tweak on standard deep learning, and empirically illustrate that it improves performance (ideally across a wide variety of architectures and datasets). It quickly becomes hard to know: which, if any, of these tweaks are truly important - and how do they work when combined?\n",
        "\n",
        "For this lab, you will explore various tweaks to the basic classifier you coded in lab 1. There are two parts to the lab.\n",
        "\n",
        "### Part 1\n",
        "You must clearly show the individual effect of each tweak compared to the baseline. For this part, you should present a simple bar chart (or possibly two or more, depending on your layout), clearly labeled with the baseline performance, and then the performance of each tweak relative to baseline. You may plot absolute or relative performances; whichever is clearer.\n",
        "\n",
        "You must include a few sentences describing what you can conclude from evaluating all of these tweaks.\n",
        "\n",
        "Note: I am not requiring error bars for this lab, because they are computationally intensive. I have made them extra credit – although if we were doing this for real, they would be absolutely required!\n",
        "\n",
        "### Part 2\n",
        "You must think about how to find the best combination of tweaks. There is no right answer to this part; I want you to think carefully about how to search the space of possible combinations, and come up with a reasonable method for settling on a final combination of tweaks. I have tried to provide enough tweaks that it should be impossible to brute-force try all possible combinations (although that is certainly a valid strategy!).\n",
        "\n",
        "For this part, you must include in your notebook a simple writeup describing your strategy (just a paragraph or two), and then show the final performance of whatever combination you hit upon.\n",
        "\n",
        "Note that you will not be graded on absolute performance of any run; what is important is thinking clearly through which tweaks make a difference.\n",
        "\n",
        "### The Tweaks\n",
        "Your baseline classifier must be a “vanilla” classifier, with none of the features listed below. We will systematically add them in.\n",
        "\n",
        "You must test the following:\n",
        "\n",
        "* Activation functions: relu (baseline), leakyrelu, selu, elu, hardshrink\n",
        "* Batchnorm: off (baseline), on (use one batchnorm per residual block)\n",
        "* Label smoothing: off (baseline), on\n",
        "* Learning rate: constant (baseline), CLR\n",
        "* Regularization: off (baseline), dropout\n",
        "* Initialization: xavier/he (baseline), orthogonal\n",
        "\n",
        "So, for part one, your bar chart should have 10 different bars.\n",
        "\n",
        "Some of these tweaks require additional parameters. You should either leave them at their default values, or think of some reasonable way to set them.\n",
        "\n",
        "Note: pytorch does not (AFAIK) natively implement label smoothing. In the interests of focusing on hyperparameter searching, you may verbatim copy any internet code you like to help implement label smoothing.\n",
        "\n",
        "### Hints\n",
        "Activation functions and dropout can all be found in torch.nn\n",
        "\n",
        "Initialization functions can be found in torch.nn.init\n",
        "\n",
        "This lab should be pretty straightforward, with the right script – you should be able to iterate over tweaks and run your classifier in a tidy loop. Ideally, you'll code it up, let it run, and come back in a few hours to find the results!\n",
        "\n",
        "If you find yourself cutting-and-pasting, you might want to rethink your strategy."
      ]
    },
    {
      "cell_type": "markdown",
      "metadata": {
        "id": "4tLQ6AzvJ5TC",
        "colab_type": "text"
      },
      "source": [
        "## Imports"
      ]
    },
    {
      "cell_type": "code",
      "metadata": {
        "id": "V8O60XWDIm2w",
        "colab_type": "code",
        "colab": {}
      },
      "source": [
        "import torch\n",
        "import torch.nn as nn\n",
        "import torch.nn.functional as F\n",
        "import torch.optim as optim\n",
        "from torch.utils.data import Dataset, DataLoader\n",
        "import numpy as np\n",
        "import matplotlib.pyplot as plt\n",
        "from torchvision import transforms, utils, datasets\n",
        "from tqdm import tqdm\n",
        "from torch.nn.parameter import Parameter\n",
        "import pdb\n",
        "import torchvision\n",
        "import os\n",
        "import gzip\n",
        "import tarfile\n",
        "from PIL import Image, ImageOps\n",
        "import gc\n",
        "import pdb\n",
        "from IPython.core.ultratb import AutoFormattedTB\n",
        "__ITB__ = AutoFormattedTB(mode = 'Verbose',color_scheme='LightBg', tb_offset = 1)\n",
        "\n",
        "assert torch.cuda.is_available(), \"Request a GPU from Runtime > Change Runtime\""
      ],
      "execution_count": 0,
      "outputs": []
    },
    {
      "cell_type": "markdown",
      "metadata": {
        "id": "QfIE8Y_uP85c",
        "colab_type": "text"
      },
      "source": [
        "## Model Implementation - 20 Layer Resnet"
      ]
    },
    {
      "cell_type": "code",
      "metadata": {
        "id": "Qt0RBBAj4N_V",
        "colab_type": "code",
        "colab": {}
      },
      "source": [
        "# For testing purposes - To get a baseline for performance\n",
        "class PytorchResnet(nn.Module):\n",
        "  def __init__(self, num_classes):\n",
        "    super(PytorchResnet, self).__init__()\n",
        "\n",
        "    self.model = torchvision.models.resnet152(pretrained=True)\n",
        "\n",
        "    fc = nn.Linear(in_features=2048, out_features=num_classes)\n",
        "    fc.requires_grad=True\n",
        "    self.model.fc = fc\n",
        "\n",
        "  def forward(self, x):\n",
        "    return self.model(x)"
      ],
      "execution_count": 0,
      "outputs": []
    },
    {
      "cell_type": "code",
      "metadata": {
        "id": "td9yv6vwQjrW",
        "colab_type": "code",
        "colab": {}
      },
      "source": [
        "class ResidualBlock(nn.Module):\n",
        "  def __init__(self, in_channels, out_channels, batch_norm=True, activation=nn.ReLU, init_orthogonal=False, dropout=False):\n",
        "    super(ResidualBlock, self).__init__()\n",
        "\n",
        "    self.batch_norm = batch_norm\n",
        "    self.dropout = dropout\n",
        "    self.activation_function = activation\n",
        "    self.activation = activation()\n",
        "\n",
        "    self.conv1 = nn.Conv2d(in_channels, out_channels, 3, padding=1)\n",
        "    torch.nn.init.orthogonal_(self.conv1.weight)\n",
        "    self.bn1 = nn.BatchNorm2d(out_channels)\n",
        "    self.drop = nn.Dropout(p=0.2)\n",
        "    self.conv2 = nn.Conv2d(out_channels, out_channels, 3, padding=1)\n",
        "    self.bn2 = nn.BatchNorm2d(out_channels)\n",
        "\n",
        "    if init_orthogonal:\n",
        "      torch.init.orthogonol_(self.conv1.weight)\n",
        "      torch.init.orthogonol_(self.conv2.weight)\n",
        "\n",
        "    if in_channels != out_channels:\n",
        "      self.needs_shortcut = True\n",
        "      self.conv_short = nn.Conv2d(in_channels, out_channels, 1, bias=False)\n",
        "      self.bn_short = nn.BatchNorm2d(out_channels)\n",
        "\n",
        "      if init_orthogonal:\n",
        "        torch.init.orthogonal_(self.conv_short.weight)\n",
        "\n",
        "      if batch_norm:\n",
        "        self.shortcut = nn.Sequential(\n",
        "          self.conv_short,\n",
        "          self.bn_short\n",
        "        )\n",
        "      else:\n",
        "        self.shortcut = self.conv_short\n",
        "\n",
        "    else:\n",
        "      self.needs_shortcut = False\n",
        "\n",
        "  def forward(self, x):\n",
        "    identity = x if not self.needs_shortcut else self.shortcut(x)\n",
        "    out = self.conv1(x)\n",
        "\n",
        "    if self.batch_norm:\n",
        "      out = self.bn1(out)\n",
        "\n",
        "    out = self.activation(out)\n",
        "\n",
        "    if self.dropout:\n",
        "      out = self.drop(out)\n",
        "\n",
        "    out = self.conv2(out)\n",
        "\n",
        "    if self.batch_norm:\n",
        "      out = self.bn2(out)\n",
        "\n",
        "    out += identity\n",
        "    final_activation = self.activation_function()\n",
        "\n",
        "    return final_activation(out)\n"
      ],
      "execution_count": 0,
      "outputs": []
    },
    {
      "cell_type": "code",
      "metadata": {
        "id": "J1Igh7d8QAJe",
        "colab_type": "code",
        "colab": {}
      },
      "source": [
        "class Resnet(nn.Module):\n",
        "  def __init__(self, dataset, num_classes, batch_norm=False, activation=nn.ReLU, init_orthogonal=False, dropout=False):\n",
        "    super(Resnet, self).__init__()\n",
        "\n",
        "    x, y = dataset[0]\n",
        "    in_channels, height, width = x.size()\n",
        "    cstart = 64\n",
        "\n",
        "    layers = []\n",
        "    layers.append(ResidualBlock(in_channels, cstart, batch_norm=batch_norm, activation=activation, init_orthogonal=init_orthogonal, dropout=dropout))\n",
        "    for i in range(19):\n",
        "      layers.append(ResidualBlock(cstart, cstart, batch_norm=batch_norm, activation=activation, init_orthogonal=init_orthogonal, dropout=dropout))\n",
        "  \n",
        "    self.net = nn.Sequential(*layers)\n",
        "    self.fc1 = nn.Linear(cstart * height * width, num_classes)\n",
        "\n",
        "  def forward(self, x):\n",
        "    # Residual Blocks\n",
        "    out = self.net(x)\n",
        "\n",
        "    # Flatten and narrow down to the number of classes\n",
        "    out = torch.flatten(out, 1)\n",
        "    out = self.fc1(out)\n",
        "\n",
        "    return out"
      ],
      "execution_count": 0,
      "outputs": []
    },
    {
      "cell_type": "markdown",
      "metadata": {
        "id": "1fotNuyJSBye",
        "colab_type": "text"
      },
      "source": [
        "## Training Loop"
      ]
    },
    {
      "cell_type": "code",
      "metadata": {
        "id": "L7zWqzewaZql",
        "colab_type": "code",
        "colab": {}
      },
      "source": [
        "class LabelSmoothLoss(nn.Module):\n",
        "    def __init__(self, smoothing=0.0):\n",
        "        super(LabelSmoothLoss, self).__init__()\n",
        "        self.smoothing = smoothing\n",
        "    \n",
        "    def forward(self, input, target):\n",
        "        log_prob = F.log_softmax(input, dim=-1)\n",
        "        weight = input.new_ones(input.size()) * \\\n",
        "            self.smoothing / (input.size(-1) - 1.)\n",
        "        weight.scatter_(-1, target.unsqueeze(-1), (1. - self.smoothing))\n",
        "        loss = (-weight * log_prob).sum(dim=-1).mean()\n",
        "        return loss"
      ],
      "execution_count": 0,
      "outputs": []
    },
    {
      "cell_type": "code",
      "metadata": {
        "id": "UohDS3xBrrzh",
        "colab_type": "code",
        "colab": {}
      },
      "source": [
        "def train(activation=nn.ReLU, batch_norm=False, label_smoothing=False, clr=False, dropout=False, init_orthogonal=False):\n",
        "  NUM_EPOCHS = 5\n",
        "  BATCH_SIZE = 300\n",
        "\n",
        "  train_dataset = torchvision.datasets.CIFAR10('/content/cifar-train', train=True, download=True, transform=transforms.Compose([transforms.ToTensor()]))\n",
        "  val_dataset = torchvision.datasets.CIFAR10('/content/cifar-val', train=False, download=True, transform=transforms.Compose([transforms.ToTensor()]))\n",
        "\n",
        "  model = Resnet(train_dataset, 10, batch_norm=batch_norm, activation=activation, init_orthogonal=init_orthogonal, dropout=dropout) #PytorchResnet(dataset.num_classes())\n",
        "  model = model.cuda()\n",
        "\n",
        "  if label_smoothing:\n",
        "    objective = LabelSmoothLoss(smoothing=0.00)\n",
        "  else:\n",
        "    objective = LabelSmoothLoss(smoothing=0.05)\n",
        "\n",
        "\n",
        "  optimizer = optim.SGD(model.parameters(), lr=1e-4)\n",
        "\n",
        "  if clr:\n",
        "    scheduler = torch.optim.lr_scheduler.CyclicLR(optimizer, base_lr=1e-4, max_lr=1e-2)\n",
        "\n",
        "  train_loader = DataLoader(train_dataset,\n",
        "                            batch_size=BATCH_SIZE,\n",
        "                            num_workers=4,\n",
        "                            shuffle=True)\n",
        "  val_loader = DataLoader(val_dataset,\n",
        "                          batch_size=BATCH_SIZE,\n",
        "                          num_workers=4,\n",
        "                          shuffle=True)\n",
        "  \n",
        "  accuracy = 0\n",
        "  \n",
        "  predictions = np.array([])\n",
        "  actual = np.array([])\n",
        "  \n",
        "  for epoch in range(NUM_EPOCHS):\n",
        "    loop = tqdm(total=len(train_loader), position=0, leave=True)\n",
        "\n",
        "    for batch, (x, y_truth) in enumerate(train_loader):\n",
        "      gc.collect()\n",
        "      x, y_truth = x.cuda(async=True), y_truth.cuda(async=True)\n",
        "\n",
        "      optimizer.zero_grad()\n",
        "      y_hat = model(x)\n",
        "\n",
        "      loss = objective(y_hat, y_truth.long())\n",
        "\n",
        "      loss.backward()\n",
        "\n",
        "      loop.set_description('Train - epoch:{}, loss:{:.4f}'.format(epoch, loss.item()))\n",
        "      loop.update(1)\n",
        "\n",
        "      optimizer.step()\n",
        "      if clr:\n",
        "        scheduler.step()\n",
        "\n",
        "    if epoch == (NUM_EPOCHS - 1):\n",
        "      with torch.no_grad():\n",
        "\n",
        "        val_single_acc = []\n",
        "\n",
        "        model.eval()\n",
        "\n",
        "        for _, (val_x, val_y_truth) in enumerate(val_loader):\n",
        "          gc.collect()\n",
        "          val_x, val_y_truth = val_x.cuda(), val_y_truth.cuda()\n",
        "\n",
        "          val_y_hat = model(val_x)\n",
        "          val_acc = torch.eq(val_y_hat.argmax(1), val_y_truth.long()).float().mean()\n",
        "\n",
        "          val_single_acc.append(val_acc.item())\n",
        "\n",
        "        accuracy = np.mean(val_single_acc)\n",
        "        print('\\nValidation - epoch:{}, acc:{:.4f}'.format(epoch, accuracy))\n",
        "\n",
        "    loop.close()\n",
        "\n",
        "  return accuracy"
      ],
      "execution_count": 0,
      "outputs": []
    },
    {
      "cell_type": "markdown",
      "metadata": {
        "id": "p4F96Ge5Tm9R",
        "colab_type": "text"
      },
      "source": [
        "## Part I Loop"
      ]
    },
    {
      "cell_type": "code",
      "metadata": {
        "id": "0PF4NkHbTrHx",
        "colab_type": "code",
        "colab": {
          "base_uri": "https://localhost:8080/",
          "height": 1000
        },
        "outputId": "52adf28a-6ca7-498e-fa95-4c327a72615a"
      },
      "source": [
        "# Obtain accuracies for all tweaks:\n",
        "try:\n",
        "  baseline = train(activation=nn.ReLU, batch_norm=False, label_smoothing=False, clr=False, dropout=False, init_orthogonal=False)\n",
        "  print('Finished baseline')\n",
        "  leakyrelu = train(activation=nn.LeakyReLU, batch_norm=False, label_smoothing=False, clr=False, dropout=False, init_orthogonal=False)\n",
        "  print('Finished leakyrelu')\n",
        "  selu = train(activation=nn.SELU, batch_norm=False, label_smoothing=False, clr=False, dropout=False, init_orthogonal=False)\n",
        "  print('Finished selu')\n",
        "  elu = train(activation=nn.ELU, batch_norm=False, label_smoothing=False, clr=False, dropout=False, init_orthogonal=False)\n",
        "  print('Finished elu')\n",
        "  hardshrink = train(activation=nn.Hardshrink, batch_norm=False, label_smoothing=False, clr=False, dropout=False, init_orthogonal=False)\n",
        "  print('Finished hardshrink')\n",
        "  batchnorm = train(activation=nn.ReLU, batch_norm=True, label_smoothing=False, clr=False, dropout=False, init_orthogonal=False)\n",
        "  print('Finished batchnorm')\n",
        "  labelsmoothing = train(activation=nn.ReLU, batch_norm=False, label_smoothing=True, clr=False, dropout=False, init_orthogonal=False)\n",
        "  print('Finished labelsmoothing')\n",
        "  clr = train(activation=nn.ReLU, batch_norm=False, label_smoothing=False, clr=True, dropout=False, init_orthogonal=False)\n",
        "  print('Finished clr')\n",
        "  dropout = train(activation=nn.ReLU, batch_norm=False, label_smoothing=False, clr=False, dropout=True, init_orthogonal=False)\n",
        "  print('Finished dropout')\n",
        "  orthogonal = train(activation=nn.ReLU, batch_norm=False, label_smoothing=False, clr=False, dropout=False, init_orthogonal=True)\n",
        "  print('Finished orthogonal')\n",
        "except:\n",
        "  __ITB__()"
      ],
      "execution_count": 11,
      "outputs": [
        {
          "output_type": "stream",
          "text": [
            "Files already downloaded and verified\n",
            "Files already downloaded and verified\n"
          ],
          "name": "stdout"
        },
        {
          "output_type": "stream",
          "text": [
            "Train - epoch:0, loss:2.2121: 100%|██████████| 167/167 [03:48<00:00,  1.24s/it]\n",
            "Train - epoch:1, loss:2.1154: 100%|██████████| 167/167 [03:48<00:00,  1.23s/it]\n",
            "Train - epoch:2, loss:2.0858: 100%|██████████| 167/167 [03:48<00:00,  1.24s/it]\n",
            "Train - epoch:3, loss:1.9915: 100%|██████████| 167/167 [03:49<00:00,  1.23s/it]\n",
            "Train - epoch:4, loss:1.9524: 100%|██████████| 167/167 [03:48<00:00,  1.23s/it]"
          ],
          "name": "stderr"
        },
        {
          "output_type": "stream",
          "text": [
            "\n",
            "Validation - epoch:4, acc:0.3319\n",
            "Finished baseline\n"
          ],
          "name": "stdout"
        },
        {
          "output_type": "stream",
          "text": [
            "\n"
          ],
          "name": "stderr"
        },
        {
          "output_type": "stream",
          "text": [
            "Files already downloaded and verified\n",
            "Files already downloaded and verified\n"
          ],
          "name": "stdout"
        },
        {
          "output_type": "stream",
          "text": [
            "Train - epoch:0, loss:2.1510: 100%|██████████| 167/167 [03:50<00:00,  1.25s/it]\n",
            "Train - epoch:1, loss:2.0888: 100%|██████████| 167/167 [03:49<00:00,  1.24s/it]\n",
            "Train - epoch:2, loss:2.0741: 100%|██████████| 167/167 [03:50<00:00,  1.24s/it]\n",
            "Train - epoch:3, loss:1.9309: 100%|██████████| 167/167 [03:49<00:00,  1.23s/it]\n",
            "Train - epoch:4, loss:1.9672: 100%|██████████| 167/167 [03:48<00:00,  1.23s/it]"
          ],
          "name": "stderr"
        },
        {
          "output_type": "stream",
          "text": [
            "\n",
            "Validation - epoch:4, acc:0.3483\n",
            "Finished leakyrelu\n"
          ],
          "name": "stdout"
        },
        {
          "output_type": "stream",
          "text": [
            "\n"
          ],
          "name": "stderr"
        },
        {
          "output_type": "stream",
          "text": [
            "Files already downloaded and verified\n",
            "Files already downloaded and verified\n"
          ],
          "name": "stdout"
        },
        {
          "output_type": "stream",
          "text": [
            "Train - epoch:0, loss:1.8351: 100%|██████████| 167/167 [03:48<00:00,  1.24s/it]\n",
            "Train - epoch:1, loss:1.6914: 100%|██████████| 167/167 [03:48<00:00,  1.23s/it]\n",
            "Train - epoch:2, loss:1.5831: 100%|██████████| 167/167 [03:49<00:00,  1.24s/it]\n",
            "Train - epoch:3, loss:1.5596: 100%|██████████| 167/167 [03:49<00:00,  1.24s/it]\n",
            "Train - epoch:4, loss:1.5345: 100%|██████████| 167/167 [03:50<00:00,  1.24s/it]"
          ],
          "name": "stderr"
        },
        {
          "output_type": "stream",
          "text": [
            "\n",
            "Validation - epoch:4, acc:0.4788\n",
            "Finished selu\n"
          ],
          "name": "stdout"
        },
        {
          "output_type": "stream",
          "text": [
            "\n"
          ],
          "name": "stderr"
        },
        {
          "output_type": "stream",
          "text": [
            "Files already downloaded and verified\n",
            "Files already downloaded and verified\n"
          ],
          "name": "stdout"
        },
        {
          "output_type": "stream",
          "text": [
            "Train - epoch:0, loss:2.0329: 100%|██████████| 167/167 [03:49<00:00,  1.24s/it]\n",
            "Train - epoch:1, loss:1.9245: 100%|██████████| 167/167 [03:49<00:00,  1.24s/it]\n",
            "Train - epoch:2, loss:1.9121: 100%|██████████| 167/167 [03:49<00:00,  1.24s/it]\n",
            "Train - epoch:3, loss:1.7246: 100%|██████████| 167/167 [03:49<00:00,  1.23s/it]\n",
            "Train - epoch:4, loss:1.8165: 100%|██████████| 167/167 [03:49<00:00,  1.23s/it]"
          ],
          "name": "stderr"
        },
        {
          "output_type": "stream",
          "text": [
            "\n",
            "Validation - epoch:4, acc:0.4100\n",
            "Finished elu\n"
          ],
          "name": "stdout"
        },
        {
          "output_type": "stream",
          "text": [
            "\n"
          ],
          "name": "stderr"
        },
        {
          "output_type": "stream",
          "text": [
            "Files already downloaded and verified\n",
            "Files already downloaded and verified\n"
          ],
          "name": "stdout"
        },
        {
          "output_type": "stream",
          "text": [
            "Train - epoch:0, loss:2.2835: 100%|██████████| 167/167 [03:44<00:00,  1.21s/it]\n",
            "Train - epoch:1, loss:2.2328: 100%|██████████| 167/167 [03:43<00:00,  1.21s/it]\n",
            "Train - epoch:2, loss:2.1826: 100%|██████████| 167/167 [03:43<00:00,  1.21s/it]\n",
            "Train - epoch:3, loss:2.1088: 100%|██████████| 167/167 [03:43<00:00,  1.21s/it]\n",
            "Train - epoch:4, loss:2.0987: 100%|██████████| 167/167 [03:43<00:00,  1.21s/it]"
          ],
          "name": "stderr"
        },
        {
          "output_type": "stream",
          "text": [
            "\n",
            "Validation - epoch:4, acc:0.2719\n",
            "Finished hardshrink\n"
          ],
          "name": "stdout"
        },
        {
          "output_type": "stream",
          "text": [
            "\n"
          ],
          "name": "stderr"
        },
        {
          "output_type": "stream",
          "text": [
            "Files already downloaded and verified\n",
            "Files already downloaded and verified\n"
          ],
          "name": "stdout"
        },
        {
          "output_type": "stream",
          "text": [
            "Train - epoch:0, loss:6.2869: 100%|██████████| 167/167 [04:07<00:00,  1.34s/it]\n",
            "Train - epoch:1, loss:4.2877: 100%|██████████| 167/167 [04:07<00:00,  1.34s/it]\n",
            "Train - epoch:2, loss:2.7639: 100%|██████████| 167/167 [04:07<00:00,  1.34s/it]\n",
            "Train - epoch:3, loss:2.6057: 100%|██████████| 167/167 [04:07<00:00,  1.34s/it]\n",
            "Train - epoch:4, loss:2.4060: 100%|██████████| 167/167 [04:07<00:00,  1.34s/it]"
          ],
          "name": "stderr"
        },
        {
          "output_type": "stream",
          "text": [
            "\n",
            "Validation - epoch:4, acc:0.4003\n",
            "Finished batchnorm\n"
          ],
          "name": "stdout"
        },
        {
          "output_type": "stream",
          "text": [
            "\n"
          ],
          "name": "stderr"
        },
        {
          "output_type": "stream",
          "text": [
            "Files already downloaded and verified\n",
            "Files already downloaded and verified\n"
          ],
          "name": "stdout"
        },
        {
          "output_type": "stream",
          "text": [
            "Train - epoch:0, loss:2.1539: 100%|██████████| 167/167 [03:47<00:00,  1.23s/it]\n",
            "Train - epoch:1, loss:2.0614: 100%|██████████| 167/167 [03:47<00:00,  1.24s/it]\n",
            "Train - epoch:2, loss:1.9933: 100%|██████████| 167/167 [03:48<00:00,  1.23s/it]\n",
            "Train - epoch:3, loss:1.9631: 100%|██████████| 167/167 [03:47<00:00,  1.23s/it]\n",
            "Train - epoch:4, loss:1.9065: 100%|██████████| 167/167 [03:48<00:00,  1.23s/it]"
          ],
          "name": "stderr"
        },
        {
          "output_type": "stream",
          "text": [
            "\n",
            "Validation - epoch:4, acc:0.3269\n",
            "Finished labelsmoothing\n"
          ],
          "name": "stdout"
        },
        {
          "output_type": "stream",
          "text": [
            "\n"
          ],
          "name": "stderr"
        },
        {
          "output_type": "stream",
          "text": [
            "Files already downloaded and verified\n",
            "Files already downloaded and verified\n"
          ],
          "name": "stdout"
        },
        {
          "output_type": "stream",
          "text": [
            "Train - epoch:0, loss:1.7753: 100%|██████████| 167/167 [03:48<00:00,  1.23s/it]\n",
            "Train - epoch:1, loss:1.5918: 100%|██████████| 167/167 [03:49<00:00,  1.24s/it]\n",
            "Train - epoch:2, loss:1.4409: 100%|██████████| 167/167 [03:49<00:00,  1.23s/it]\n",
            "Train - epoch:3, loss:1.3456: 100%|██████████| 167/167 [03:49<00:00,  1.24s/it]\n",
            "Train - epoch:4, loss:1.1589: 100%|██████████| 167/167 [03:50<00:00,  1.24s/it]"
          ],
          "name": "stderr"
        },
        {
          "output_type": "stream",
          "text": [
            "\n",
            "Validation - epoch:4, acc:0.6324\n",
            "Finished clr\n"
          ],
          "name": "stdout"
        },
        {
          "output_type": "stream",
          "text": [
            "\n"
          ],
          "name": "stderr"
        },
        {
          "output_type": "stream",
          "text": [
            "Files already downloaded and verified\n",
            "Files already downloaded and verified\n"
          ],
          "name": "stdout"
        },
        {
          "output_type": "stream",
          "text": [
            "Train - epoch:0, loss:2.1461: 100%|██████████| 167/167 [03:53<00:00,  1.26s/it]\n",
            "Train - epoch:1, loss:2.1748: 100%|██████████| 167/167 [03:52<00:00,  1.25s/it]\n",
            "Train - epoch:2, loss:2.1688: 100%|██████████| 167/167 [03:52<00:00,  1.26s/it]\n",
            "Train - epoch:3, loss:2.0728: 100%|██████████| 167/167 [03:52<00:00,  1.26s/it]\n",
            "Train - epoch:4, loss:2.0896: 100%|██████████| 167/167 [03:52<00:00,  1.26s/it]"
          ],
          "name": "stderr"
        },
        {
          "output_type": "stream",
          "text": [
            "\n",
            "Validation - epoch:4, acc:0.3141\n",
            "Finished dropout\n"
          ],
          "name": "stdout"
        },
        {
          "output_type": "stream",
          "text": [
            "\n"
          ],
          "name": "stderr"
        },
        {
          "output_type": "stream",
          "text": [
            "Files already downloaded and verified\n",
            "Files already downloaded and verified\n",
            "\u001b[0;31m---------------------------------------------------------------------------\u001b[0m\n",
            "\u001b[0;31mAttributeError\u001b[0m                            Traceback (most recent call last)\n",
            "\u001b[0;32m<ipython-input-8-a9d3610cc017>\u001b[0m in \u001b[0;36mtrain\u001b[0;34m(activation=<class 'torch.nn.modules.activation.ReLU'>, batch_norm=False, label_smoothing=False, clr=False, dropout=False, init_orthogonal=True)\u001b[0m\n",
            "\u001b[1;32m      6\u001b[0m   \u001b[0mval_dataset\u001b[0m \u001b[0;34m=\u001b[0m \u001b[0mtorchvision\u001b[0m\u001b[0;34m.\u001b[0m\u001b[0mdatasets\u001b[0m\u001b[0;34m.\u001b[0m\u001b[0mCIFAR10\u001b[0m\u001b[0;34m(\u001b[0m\u001b[0;34m'/content/cifar-val'\u001b[0m\u001b[0;34m,\u001b[0m \u001b[0mtrain\u001b[0m\u001b[0;34m=\u001b[0m\u001b[0;32mFalse\u001b[0m\u001b[0;34m,\u001b[0m \u001b[0mdownload\u001b[0m\u001b[0;34m=\u001b[0m\u001b[0;32mTrue\u001b[0m\u001b[0;34m,\u001b[0m \u001b[0mtransform\u001b[0m\u001b[0;34m=\u001b[0m\u001b[0mtransforms\u001b[0m\u001b[0;34m.\u001b[0m\u001b[0mCompose\u001b[0m\u001b[0;34m(\u001b[0m\u001b[0;34m[\u001b[0m\u001b[0mtransforms\u001b[0m\u001b[0;34m.\u001b[0m\u001b[0mToTensor\u001b[0m\u001b[0;34m(\u001b[0m\u001b[0;34m)\u001b[0m\u001b[0;34m]\u001b[0m\u001b[0;34m)\u001b[0m\u001b[0;34m)\u001b[0m\u001b[0;34m\u001b[0m\u001b[0;34m\u001b[0m\u001b[0m\n",
            "\u001b[1;32m      7\u001b[0m \u001b[0;34m\u001b[0m\u001b[0m\n",
            "\u001b[0;32m----> 8\u001b[0;31m   \u001b[0mmodel\u001b[0m \u001b[0;34m=\u001b[0m \u001b[0mResnet\u001b[0m\u001b[0;34m(\u001b[0m\u001b[0mtrain_dataset\u001b[0m\u001b[0;34m,\u001b[0m \u001b[0;36m10\u001b[0m\u001b[0;34m,\u001b[0m \u001b[0mbatch_norm\u001b[0m\u001b[0;34m=\u001b[0m\u001b[0mbatch_norm\u001b[0m\u001b[0;34m,\u001b[0m \u001b[0mactivation\u001b[0m\u001b[0;34m=\u001b[0m\u001b[0mactivation\u001b[0m\u001b[0;34m,\u001b[0m \u001b[0minit_orthogonal\u001b[0m\u001b[0;34m=\u001b[0m\u001b[0minit_orthogonal\u001b[0m\u001b[0;34m,\u001b[0m \u001b[0mdropout\u001b[0m\u001b[0;34m=\u001b[0m\u001b[0mdropout\u001b[0m\u001b[0;34m)\u001b[0m \u001b[0;31m#PytorchResnet(dataset.num_classes())\u001b[0m\u001b[0;34m\u001b[0m\u001b[0;34m\u001b[0m\u001b[0m\n",
            "\u001b[0m        \u001b[0;36mmodel\u001b[0m \u001b[0;34m= \u001b[0;36mundefined\u001b[0m\u001b[0m\u001b[0;34m\n",
            "        \u001b[0m\u001b[0;36mglobal\u001b[0m \u001b[0;36mResnet\u001b[0m \u001b[0;34m= <class '__main__.Resnet'>\u001b[0m\u001b[0;34m\n",
            "        \u001b[0m\u001b[0;36mtrain_dataset\u001b[0m \u001b[0;34m= Dataset CIFAR10\n",
            "    Number of datapoints: 50000\n",
            "    Root location: /content/cifar-train\n",
            "    Split: Train\n",
            "    StandardTransform\n",
            "Transform: Compose(\n",
            "               ToTensor()\n",
            "           )\u001b[0m\u001b[0;34m\n",
            "        \u001b[0m\u001b[0;36mbatch_norm\u001b[0m \u001b[0;34m= False\u001b[0m\u001b[0;34m\n",
            "        \u001b[0m\u001b[0;36mactivation\u001b[0m \u001b[0;34m= <class 'torch.nn.modules.activation.ReLU'>\u001b[0m\u001b[0;34m\n",
            "        \u001b[0m\u001b[0;36minit_orthogonal\u001b[0m \u001b[0;34m= True\u001b[0m\u001b[0;34m\n",
            "        \u001b[0m\u001b[0;36mdropout\u001b[0m \u001b[0;34m= False\u001b[0m\n",
            "\u001b[1;32m      9\u001b[0m   \u001b[0mmodel\u001b[0m \u001b[0;34m=\u001b[0m \u001b[0mmodel\u001b[0m\u001b[0;34m.\u001b[0m\u001b[0mcuda\u001b[0m\u001b[0;34m(\u001b[0m\u001b[0;34m)\u001b[0m\u001b[0;34m\u001b[0m\u001b[0;34m\u001b[0m\u001b[0m\n",
            "\u001b[1;32m     10\u001b[0m \u001b[0;34m\u001b[0m\u001b[0m\n",
            "\n",
            "\u001b[0;32m<ipython-input-4-f6a4da676505>\u001b[0m in \u001b[0;36m__init__\u001b[0;34m(self=Resnet(), dataset=Dataset CIFAR10\n",
            "    Number of datapoints: 50000\n",
            "...: Compose(\n",
            "               ToTensor()\n",
            "           ), num_classes=10, batch_norm=False, activation=<class 'torch.nn.modules.activation.ReLU'>, init_orthogonal=True, dropout=False)\u001b[0m\n",
            "\u001b[1;32m      8\u001b[0m \u001b[0;34m\u001b[0m\u001b[0m\n",
            "\u001b[1;32m      9\u001b[0m     \u001b[0mlayers\u001b[0m \u001b[0;34m=\u001b[0m \u001b[0;34m[\u001b[0m\u001b[0;34m]\u001b[0m\u001b[0;34m\u001b[0m\u001b[0;34m\u001b[0m\u001b[0m\n",
            "\u001b[0;32m---> 10\u001b[0;31m     \u001b[0mlayers\u001b[0m\u001b[0;34m.\u001b[0m\u001b[0mappend\u001b[0m\u001b[0;34m(\u001b[0m\u001b[0mResidualBlock\u001b[0m\u001b[0;34m(\u001b[0m\u001b[0min_channels\u001b[0m\u001b[0;34m,\u001b[0m \u001b[0mcstart\u001b[0m\u001b[0;34m,\u001b[0m \u001b[0mbatch_norm\u001b[0m\u001b[0;34m=\u001b[0m\u001b[0mbatch_norm\u001b[0m\u001b[0;34m,\u001b[0m \u001b[0mactivation\u001b[0m\u001b[0;34m=\u001b[0m\u001b[0mactivation\u001b[0m\u001b[0;34m,\u001b[0m \u001b[0minit_orthogonal\u001b[0m\u001b[0;34m=\u001b[0m\u001b[0minit_orthogonal\u001b[0m\u001b[0;34m,\u001b[0m \u001b[0mdropout\u001b[0m\u001b[0;34m=\u001b[0m\u001b[0mdropout\u001b[0m\u001b[0;34m)\u001b[0m\u001b[0;34m)\u001b[0m\u001b[0;34m\u001b[0m\u001b[0;34m\u001b[0m\u001b[0m\n",
            "\u001b[0m        \u001b[0;36mlayers.append\u001b[0m \u001b[0;34m= <built-in method append of list object at 0x7ff20284dac8>\u001b[0m\u001b[0;34m\n",
            "        \u001b[0m\u001b[0;36mglobal\u001b[0m \u001b[0;36mResidualBlock\u001b[0m \u001b[0;34m= <class '__main__.ResidualBlock'>\u001b[0m\u001b[0;34m\n",
            "        \u001b[0m\u001b[0;36min_channels\u001b[0m \u001b[0;34m= 3\u001b[0m\u001b[0;34m\n",
            "        \u001b[0m\u001b[0;36mcstart\u001b[0m \u001b[0;34m= 64\u001b[0m\u001b[0;34m\n",
            "        \u001b[0m\u001b[0;36mbatch_norm\u001b[0m \u001b[0;34m= False\u001b[0m\u001b[0;34m\n",
            "        \u001b[0m\u001b[0;36mactivation\u001b[0m \u001b[0;34m= <class 'torch.nn.modules.activation.ReLU'>\u001b[0m\u001b[0;34m\n",
            "        \u001b[0m\u001b[0;36minit_orthogonal\u001b[0m \u001b[0;34m= True\u001b[0m\u001b[0;34m\n",
            "        \u001b[0m\u001b[0;36mdropout\u001b[0m \u001b[0;34m= False\u001b[0m\n",
            "\u001b[1;32m     11\u001b[0m     \u001b[0;32mfor\u001b[0m \u001b[0mi\u001b[0m \u001b[0;32min\u001b[0m \u001b[0mrange\u001b[0m\u001b[0;34m(\u001b[0m\u001b[0;36m19\u001b[0m\u001b[0;34m)\u001b[0m\u001b[0;34m:\u001b[0m\u001b[0;34m\u001b[0m\u001b[0;34m\u001b[0m\u001b[0m\n",
            "\u001b[1;32m     12\u001b[0m       \u001b[0mlayers\u001b[0m\u001b[0;34m.\u001b[0m\u001b[0mappend\u001b[0m\u001b[0;34m(\u001b[0m\u001b[0mResidualBlock\u001b[0m\u001b[0;34m(\u001b[0m\u001b[0mcstart\u001b[0m\u001b[0;34m,\u001b[0m \u001b[0mcstart\u001b[0m\u001b[0;34m,\u001b[0m \u001b[0mbatch_norm\u001b[0m\u001b[0;34m=\u001b[0m\u001b[0mbatch_norm\u001b[0m\u001b[0;34m,\u001b[0m \u001b[0mactivation\u001b[0m\u001b[0;34m=\u001b[0m\u001b[0mactivation\u001b[0m\u001b[0;34m,\u001b[0m \u001b[0minit_orthogonal\u001b[0m\u001b[0;34m=\u001b[0m\u001b[0minit_orthogonal\u001b[0m\u001b[0;34m,\u001b[0m \u001b[0mdropout\u001b[0m\u001b[0;34m=\u001b[0m\u001b[0mdropout\u001b[0m\u001b[0;34m)\u001b[0m\u001b[0;34m)\u001b[0m\u001b[0;34m\u001b[0m\u001b[0;34m\u001b[0m\u001b[0m\n",
            "\n",
            "\u001b[0;32m<ipython-input-3-b7ed7603fac1>\u001b[0m in \u001b[0;36m__init__\u001b[0;34m(self=ResidualBlock(\n",
            "  (activation): ReLU()\n",
            "  (conv1):...tum=0.1, affine=True, track_running_stats=True)\n",
            "), in_channels=3, out_channels=64, batch_norm=False, activation=<class 'torch.nn.modules.activation.ReLU'>, init_orthogonal=True, dropout=False)\u001b[0m\n",
            "\u001b[1;32m     16\u001b[0m \u001b[0;34m\u001b[0m\u001b[0m\n",
            "\u001b[1;32m     17\u001b[0m     \u001b[0;32mif\u001b[0m \u001b[0minit_orthogonal\u001b[0m\u001b[0;34m:\u001b[0m\u001b[0;34m\u001b[0m\u001b[0;34m\u001b[0m\u001b[0m\n",
            "\u001b[0;32m---> 18\u001b[0;31m       \u001b[0mtorch\u001b[0m\u001b[0;34m.\u001b[0m\u001b[0minit\u001b[0m\u001b[0;34m.\u001b[0m\u001b[0morthogonol_\u001b[0m\u001b[0;34m(\u001b[0m\u001b[0mself\u001b[0m\u001b[0;34m.\u001b[0m\u001b[0mconv1\u001b[0m\u001b[0;34m.\u001b[0m\u001b[0mweight\u001b[0m\u001b[0;34m)\u001b[0m\u001b[0;34m\u001b[0m\u001b[0;34m\u001b[0m\u001b[0m\n",
            "\u001b[0m        \u001b[0;36mglobal\u001b[0m \u001b[0;36mtorch.init.orthogonol_\u001b[0m \u001b[0;34m= \u001b[0;36mundefined\u001b[0m\u001b[0m\u001b[0;34m\n",
            "        \u001b[0m\u001b[0;36mself.conv1.weight\u001b[0m \u001b[0;34m= Parameter containing:\n",
            "tensor([[[[-0.1227, -0.1864, -0.0218],\n",
            "          [ 0.0119,  0.0627,  0.3126],\n",
            "          [-0.2549,  0.1304, -0.1254]],\n",
            "\n",
            "         [[-0.0583, -0.0805, -0.0191],\n",
            "          [ 0.0655,  0.0091, -0.0335],\n",
            "          [ 0.1161,  0.1262,  0.1299]],\n",
            "\n",
            "         [[ 0.0711,  0.1759, -0.2490],\n",
            "          [ 0.1066,  0.0771,  0.1350],\n",
            "          [ 0.0647,  0.0620, -0.1253]]],\n",
            "\n",
            "\n",
            "        [[[ 0.0131,  0.0118,  0.0894],\n",
            "          [ 0.2416,  0.1200, -0.1065],\n",
            "          [-0.0256,  0.2450,  0.1511]],\n",
            "\n",
            "         [[-0.1633, -0.0134, -0.0584],\n",
            "          [ 0.2108, -0.0839, -0.0102],\n",
            "          [ 0.0826, -0.1093, -0.1020]],\n",
            "\n",
            "         [[ 0.0140, -0.1116,  0.0772],\n",
            "          [ 0.0882,  0.0654,  0.1528],\n",
            "          [ 0.1817, -0.1434, -0.0435]]],\n",
            "\n",
            "\n",
            "        [[[ 0.1006,  0.1125,  0.3244],\n",
            "          [-0.0527, -0.2213,  0.0672],\n",
            "          [ 0.0716,  0.0998, -0.0938]],\n",
            "\n",
            "         [[-0.1081,  0.1313, -0.0184],\n",
            "          [-0.0301, -0.1047,  0.1601],\n",
            "          [ 0.0431, -0.0013,  0.0811]],\n",
            "\n",
            "         [[ 0.0726, -0.0182,  0.0384],\n",
            "          [-0.0900,  0.0031, -0.2229],\n",
            "          [ 0.1012,  0.2003,  0.0180]]],\n",
            "\n",
            "\n",
            "        ...,\n",
            "\n",
            "\n",
            "        [[[ 0.0935,  0.0879, -0.1452],\n",
            "          [-0.1801,  0.2289,  0.0108],\n",
            "          [ 0.0010,  0.0458,  0.0399]],\n",
            "\n",
            "         [[ 0.0763, -0.1034, -0.0027],\n",
            "          [ 0.0741, -0.1039, -0.1519],\n",
            "          [ 0.2774,  0.0569,  0.0115]],\n",
            "\n",
            "         [[-0.0863, -0.0265,  0.2264],\n",
            "          [-0.2809,  0.0500,  0.0318],\n",
            "          [ 0.0487, -0.2247, -0.2069]]],\n",
            "\n",
            "\n",
            "        [[[ 0.0405,  0.1714, -0.0589],\n",
            "          [ 0.0130, -0.0550, -0.0049],\n",
            "          [-0.1639, -0.0070,  0.0099]],\n",
            "\n",
            "         [[ 0.1941, -0.0832, -0.0317],\n",
            "          [ 0.0690,  0.0361,  0.1686],\n",
            "          [-0.0557, -0.1105,  0.0068]],\n",
            "\n",
            "         [[-0.0068,  0.1384,  0.1813],\n",
            "          [-0.0026,  0.0931,  0.0472],\n",
            "          [-0.0272, -0.0758, -0.1007]]],\n",
            "\n",
            "\n",
            "        [[[-0.0870, -0.2043, -0.0148],\n",
            "          [ 0.0933,  0.1512, -0.1953],\n",
            "          [ 0.1667,  0.0614, -0.1081]],\n",
            "\n",
            "         [[-0.0233, -0.0805,  0.0238],\n",
            "          [-0.0220, -0.0643,  0.1198],\n",
            "          [-0.1129, -0.1284,  0.1391]],\n",
            "\n",
            "         [[ 0.0605,  0.1959, -0.0996],\n",
            "          [ 0.0867, -0.1282, -0.0457],\n",
            "          [-0.0294, -0.0761, -0.0878]]]], requires_grad=True)\u001b[0m\n",
            "\u001b[1;32m     19\u001b[0m       \u001b[0mtorch\u001b[0m\u001b[0;34m.\u001b[0m\u001b[0minit\u001b[0m\u001b[0;34m.\u001b[0m\u001b[0morthogonol_\u001b[0m\u001b[0;34m(\u001b[0m\u001b[0mself\u001b[0m\u001b[0;34m.\u001b[0m\u001b[0mconv2\u001b[0m\u001b[0;34m.\u001b[0m\u001b[0mweight\u001b[0m\u001b[0;34m)\u001b[0m\u001b[0;34m\u001b[0m\u001b[0;34m\u001b[0m\u001b[0m\n",
            "\u001b[1;32m     20\u001b[0m \u001b[0;34m\u001b[0m\u001b[0m\n",
            "\n",
            "\u001b[0;31mAttributeError\u001b[0m: module 'torch' has no attribute 'init'\n"
          ],
          "name": "stdout"
        }
      ]
    },
    {
      "cell_type": "code",
      "metadata": {
        "id": "o86NoGNDhRSG",
        "colab_type": "code",
        "colab": {}
      },
      "source": [
        "import matplotlib.pyplot as plt\n",
        "fig = plt.figure()\n",
        "ax = fig.add_axes([0,0,1,1])\n",
        "labels = ['Baseline', 'LeakyReLU', 'SELU', 'ELU', 'HardShrink', 'BatchNorm', 'LabelSmoothing', 'CLR', 'Dropout', 'Orthogonal']\n",
        "accuracies = [baseline, leakyrelu, selu, elu, hardshrink, batchnorm, labelsmoothing, clr, dropout, orthogonal]\n",
        "ax.bar(labels, accuracies)\n",
        "plt.show()"
      ],
      "execution_count": 0,
      "outputs": []
    }
  ]
}