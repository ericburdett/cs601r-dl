{
  "nbformat": 4,
  "nbformat_minor": 0,
  "metadata": {
    "colab": {
      "name": "DL_Lab1.ipynb",
      "provenance": [],
      "collapsed_sections": [],
      "include_colab_link": true
    },
    "kernelspec": {
      "name": "python3",
      "display_name": "Python 3"
    },
    "language_info": {
      "codemirror_mode": {
        "name": "ipython",
        "version": 3
      },
      "file_extension": ".py",
      "mimetype": "text/x-python",
      "name": "python",
      "nbconvert_exporter": "python",
      "pygments_lexer": "ipython3",
      "version": "3.7.4"
    },
    "pycharm": {
      "stem_cell": {
        "cell_type": "raw",
        "source": [],
        "metadata": {
          "collapsed": false
        }
      }
    },
    "accelerator": "GPU"
  },
  "cells": [
    {
      "cell_type": "markdown",
      "metadata": {
        "id": "view-in-github",
        "colab_type": "text"
      },
      "source": [
        "<a href=\"https://colab.research.google.com/github/ericburdett/cs601r-dl/blob/master/DL_Lab2.ipynb\" target=\"_parent\"><img src=\"https://colab.research.google.com/assets/colab-badge.svg\" alt=\"Open In Colab\"/></a>"
      ]
    },
    {
      "cell_type": "markdown",
      "metadata": {
        "id": "3v2tFVnpD--T",
        "colab_type": "text"
      },
      "source": [
        "# Lab 2: Hyper Zoo\n",
        "\n",
        "### Deliverable:\n",
        "For this lab, you will submit an ipython notebook via learningsuite. Your notebook will contain two parts, as described below.\n",
        "\n",
        "### Grading standards:\n",
        "Your notebook will be graded on the following:\n",
        "\n",
        "* 35% Part 1: Clearly displayed 10 bars (one for baseline, one for each tweak \n",
        "independently)\n",
        "* 5% Part 1: Small writeup of conclusions from independent tweaks\n",
        "* 25% Part 2: Clear explanation of your tweaking strategy\n",
        "* 25% Part 2: Actually run your tweaking strategy and show the results\n",
        "* 10% Tidy and legible figures, including labeled axes where appropriate\n",
        "* 10% Extra credit - Error bars on your figure in Part 1.\n",
        "\n",
        "### Description:\n",
        "The goal of this lab is to learn how to explore the combinatorial space of possible hyperparameter settings.\n",
        "\n",
        "Many deep learning papers present some sort of tweak on standard deep learning, and empirically illustrate that it improves performance (ideally across a wide variety of architectures and datasets). It quickly becomes hard to know: which, if any, of these tweaks are truly important - and how do they work when combined?\n",
        "\n",
        "For this lab, you will explore various tweaks to the basic classifier you coded in lab 1. There are two parts to the lab.\n",
        "\n",
        "### Part 1\n",
        "You must clearly show the individual effect of each tweak compared to the baseline. For this part, you should present a simple bar chart (or possibly two or more, depending on your layout), clearly labeled with the baseline performance, and then the performance of each tweak relative to baseline. You may plot absolute or relative performances; whichever is clearer.\n",
        "\n",
        "You must include a few sentences describing what you can conclude from evaluating all of these tweaks.\n",
        "\n",
        "Note: I am not requiring error bars for this lab, because they are computationally intensive. I have made them extra credit – although if we were doing this for real, they would be absolutely required!\n",
        "\n",
        "### Part 2\n",
        "You must think about how to find the best combination of tweaks. There is no right answer to this part; I want you to think carefully about how to search the space of possible combinations, and come up with a reasonable method for settling on a final combination of tweaks. I have tried to provide enough tweaks that it should be impossible to brute-force try all possible combinations (although that is certainly a valid strategy!).\n",
        "\n",
        "For this part, you must include in your notebook a simple writeup describing your strategy (just a paragraph or two), and then show the final performance of whatever combination you hit upon.\n",
        "\n",
        "Note that you will not be graded on absolute performance of any run; what is important is thinking clearly through which tweaks make a difference.\n",
        "\n",
        "### The Tweaks\n",
        "Your baseline classifier must be a “vanilla” classifier, with none of the features listed below. We will systematically add them in.\n",
        "\n",
        "You must test the following:\n",
        "\n",
        "* Activation functions: relu (baseline), leakyrelu, selu, elu, hardshrink\n",
        "* Batchnorm: off (baseline), on (use one batchnorm per residual block)\n",
        "* Label smoothing: off (baseline), on\n",
        "* Learning rate: constant (baseline), CLR\n",
        "* Regularization: off (baseline), dropout\n",
        "* Initialization: xavier/he (baseline), orthogonal\n",
        "\n",
        "So, for part one, your bar chart should have 10 different bars.\n",
        "\n",
        "Some of these tweaks require additional parameters. You should either leave them at their default values, or think of some reasonable way to set them.\n",
        "\n",
        "Note: pytorch does not (AFAIK) natively implement label smoothing. In the interests of focusing on hyperparameter searching, you may verbatim copy any internet code you like to help implement label smoothing.\n",
        "\n",
        "### Hints\n",
        "Activation functions and dropout can all be found in torch.nn\n",
        "\n",
        "Initialization functions can be found in torch.nn.init\n",
        "\n",
        "This lab should be pretty straightforward, with the right script – you should be able to iterate over tweaks and run your classifier in a tidy loop. Ideally, you'll code it up, let it run, and come back in a few hours to find the results!\n",
        "\n",
        "If you find yourself cutting-and-pasting, you might want to rethink your strategy."
      ]
    },
    {
      "cell_type": "markdown",
      "metadata": {
        "id": "4tLQ6AzvJ5TC",
        "colab_type": "text"
      },
      "source": [
        "## Imports"
      ]
    },
    {
      "cell_type": "code",
      "metadata": {
        "id": "V8O60XWDIm2w",
        "colab_type": "code",
        "colab": {}
      },
      "source": [
        "import torch\n",
        "import torch.nn as nn\n",
        "import torch.nn.functional as F\n",
        "import torch.optim as optim\n",
        "from torch.utils.data import Dataset, DataLoader\n",
        "import numpy as np\n",
        "import matplotlib.pyplot as plt\n",
        "from torchvision import transforms, utils, datasets\n",
        "from tqdm import tqdm\n",
        "from torch.nn.parameter import Parameter\n",
        "import pdb\n",
        "import torchvision\n",
        "import os\n",
        "import gzip\n",
        "import tarfile\n",
        "from PIL import Image, ImageOps\n",
        "import gc\n",
        "import pdb\n",
        "from IPython.core.ultratb import AutoFormattedTB\n",
        "__ITB__ = AutoFormattedTB(mode = 'Verbose',color_scheme='LightBg', tb_offset = 1)\n",
        "\n",
        "assert torch.cuda.is_available(), \"Request a GPU from Runtime > Change Runtime\""
      ],
      "execution_count": 0,
      "outputs": []
    },
    {
      "cell_type": "markdown",
      "metadata": {
        "id": "QfIE8Y_uP85c",
        "colab_type": "text"
      },
      "source": [
        "## Model Implementation - 20 Layer Resnet"
      ]
    },
    {
      "cell_type": "code",
      "metadata": {
        "id": "Qt0RBBAj4N_V",
        "colab_type": "code",
        "colab": {}
      },
      "source": [
        "# For testing purposes - To get a baseline for performance\n",
        "class PytorchResnet(nn.Module):\n",
        "  def __init__(self, num_classes):\n",
        "    super(PytorchResnet, self).__init__()\n",
        "\n",
        "    self.model = torchvision.models.resnet152(pretrained=True)\n",
        "\n",
        "    fc = nn.Linear(in_features=2048, out_features=num_classes)\n",
        "    fc.requires_grad=True\n",
        "    self.model.fc = fc\n",
        "\n",
        "  def forward(self, x):\n",
        "    return self.model(x)"
      ],
      "execution_count": 0,
      "outputs": []
    },
    {
      "cell_type": "code",
      "metadata": {
        "id": "td9yv6vwQjrW",
        "colab_type": "code",
        "colab": {}
      },
      "source": [
        "class ResidualBlock(nn.Module):\n",
        "  def __init__(self, in_channels, out_channels, batch_norm=True, activation=nn.ReLU, init_orthogonal=False, dropout=False):\n",
        "    super(ResidualBlock, self).__init__()\n",
        "\n",
        "    self.batch_norm = batch_norm\n",
        "    self.dropout = dropout\n",
        "    self.activation_function = activation\n",
        "    self.activation = activation()\n",
        "\n",
        "    self.conv1 = nn.Conv2d(in_channels, out_channels, 3, padding=1)\n",
        "    torch.nn.init.orthogonal_(self.conv1.weight)\n",
        "    self.bn1 = nn.BatchNorm2d(out_channels)\n",
        "    self.drop = nn.Dropout(p=0.2)\n",
        "    self.conv2 = nn.Conv2d(out_channels, out_channels, 3, padding=1)\n",
        "    self.bn2 = nn.BatchNorm2d(out_channels)\n",
        "\n",
        "    if init_orthogonal:\n",
        "      nn.init.orthogonal_(self.conv1.weight)\n",
        "      nn.init.orthogonal_(self.conv2.weight)\n",
        "\n",
        "    if in_channels != out_channels:\n",
        "      self.needs_shortcut = True\n",
        "      self.conv_short = nn.Conv2d(in_channels, out_channels, 1, bias=False)\n",
        "      self.bn_short = nn.BatchNorm2d(out_channels)\n",
        "\n",
        "      if init_orthogonal:\n",
        "        nn.init.orthogonal_(self.conv_short.weight)\n",
        "\n",
        "      if batch_norm:\n",
        "        self.shortcut = nn.Sequential(\n",
        "          self.conv_short,\n",
        "          self.bn_short\n",
        "        )\n",
        "      else:\n",
        "        self.shortcut = self.conv_short\n",
        "\n",
        "    else:\n",
        "      self.needs_shortcut = False\n",
        "\n",
        "  def forward(self, x):\n",
        "    identity = x if not self.needs_shortcut else self.shortcut(x)\n",
        "    out = self.conv1(x)\n",
        "\n",
        "    if self.batch_norm:\n",
        "      out = self.bn1(out)\n",
        "\n",
        "    out = self.activation(out)\n",
        "\n",
        "    if self.dropout:\n",
        "      out = self.drop(out)\n",
        "\n",
        "    out = self.conv2(out)\n",
        "\n",
        "    if self.batch_norm:\n",
        "      out = self.bn2(out)\n",
        "\n",
        "    out += identity\n",
        "    final_activation = self.activation_function()\n",
        "\n",
        "    return final_activation(out)\n"
      ],
      "execution_count": 0,
      "outputs": []
    },
    {
      "cell_type": "code",
      "metadata": {
        "id": "J1Igh7d8QAJe",
        "colab_type": "code",
        "colab": {}
      },
      "source": [
        "class Resnet(nn.Module):\n",
        "  def __init__(self, dataset, num_classes, batch_norm=False, activation=nn.ReLU, init_orthogonal=False, dropout=False):\n",
        "    super(Resnet, self).__init__()\n",
        "\n",
        "    x, y = dataset[0]\n",
        "    in_channels, height, width = x.size()\n",
        "    cstart = 64\n",
        "\n",
        "    layers = []\n",
        "    layers.append(ResidualBlock(in_channels, cstart, batch_norm=batch_norm, activation=activation, init_orthogonal=init_orthogonal, dropout=dropout))\n",
        "    for i in range(19):\n",
        "      layers.append(ResidualBlock(cstart, cstart, batch_norm=batch_norm, activation=activation, init_orthogonal=init_orthogonal, dropout=dropout))\n",
        "  \n",
        "    self.net = nn.Sequential(*layers)\n",
        "    self.fc1 = nn.Linear(cstart * height * width, num_classes)\n",
        "\n",
        "  def forward(self, x):\n",
        "    # Residual Blocks\n",
        "    out = self.net(x)\n",
        "\n",
        "    # Flatten and narrow down to the number of classes\n",
        "    out = torch.flatten(out, 1)\n",
        "    out = self.fc1(out)\n",
        "\n",
        "    return out"
      ],
      "execution_count": 0,
      "outputs": []
    },
    {
      "cell_type": "markdown",
      "metadata": {
        "id": "1fotNuyJSBye",
        "colab_type": "text"
      },
      "source": [
        "## Training Loop"
      ]
    },
    {
      "cell_type": "code",
      "metadata": {
        "id": "L7zWqzewaZql",
        "colab_type": "code",
        "colab": {}
      },
      "source": [
        "class LabelSmoothLoss(nn.Module):\n",
        "    def __init__(self, smoothing=0.0):\n",
        "        super(LabelSmoothLoss, self).__init__()\n",
        "        self.smoothing = smoothing\n",
        "    \n",
        "    def forward(self, input, target):\n",
        "        log_prob = F.log_softmax(input, dim=-1)\n",
        "        weight = input.new_ones(input.size()) * \\\n",
        "            self.smoothing / (input.size(-1) - 1.)\n",
        "        weight.scatter_(-1, target.unsqueeze(-1), (1. - self.smoothing))\n",
        "        loss = (-weight * log_prob).sum(dim=-1).mean()\n",
        "        return loss"
      ],
      "execution_count": 0,
      "outputs": []
    },
    {
      "cell_type": "code",
      "metadata": {
        "id": "UohDS3xBrrzh",
        "colab_type": "code",
        "colab": {}
      },
      "source": [
        "def train(activation=nn.ReLU, batch_norm=False, label_smoothing=False, clr=False, dropout=False, init_orthogonal=False, adam=False, lrbase=1e-4, lrmax=1e-2):\n",
        "  NUM_EPOCHS = 5\n",
        "  BATCH_SIZE = 300\n",
        "\n",
        "  train_dataset = torchvision.datasets.CIFAR10('/content/cifar-train', train=True, download=True, transform=transforms.Compose([transforms.ToTensor()]))\n",
        "  val_dataset = torchvision.datasets.CIFAR10('/content/cifar-val', train=False, download=True, transform=transforms.Compose([transforms.ToTensor()]))\n",
        "\n",
        "  model = Resnet(train_dataset, 10, batch_norm=batch_norm, activation=activation, init_orthogonal=init_orthogonal, dropout=dropout) #PytorchResnet(dataset.num_classes())\n",
        "  model = model.cuda()\n",
        "\n",
        "  if label_smoothing:\n",
        "    objective = LabelSmoothLoss(smoothing=0.00)\n",
        "  else:\n",
        "    objective = LabelSmoothLoss(smoothing=0.05)\n",
        "\n",
        "  if adam:\n",
        "    optimizer = optim.Adam(model.parameters(), lr=lrbase)\n",
        "  else:\n",
        "    optimizer = optim.SGD(model.parameters(), lr=lrbase)\n",
        "\n",
        "  if clr:\n",
        "    scheduler = torch.optim.lr_scheduler.CyclicLR(optimizer, base_lr=lrbase, max_lr=lrmax)\n",
        "\n",
        "  train_loader = DataLoader(train_dataset,\n",
        "                            batch_size=BATCH_SIZE,\n",
        "                            num_workers=4,\n",
        "                            shuffle=True)\n",
        "  val_loader = DataLoader(val_dataset,\n",
        "                          batch_size=BATCH_SIZE,\n",
        "                          num_workers=4,\n",
        "                          shuffle=True)\n",
        "  \n",
        "  accuracy = 0\n",
        "  \n",
        "  predictions = np.array([])\n",
        "  actual = np.array([])\n",
        "  \n",
        "  for epoch in range(NUM_EPOCHS):\n",
        "    loop = tqdm(total=len(train_loader), position=0, leave=True)\n",
        "\n",
        "    for batch, (x, y_truth) in enumerate(train_loader):\n",
        "      gc.collect()\n",
        "      x, y_truth = x.cuda(async=True), y_truth.cuda(async=True)\n",
        "\n",
        "      optimizer.zero_grad()\n",
        "      y_hat = model(x)\n",
        "\n",
        "      loss = objective(y_hat, y_truth.long())\n",
        "\n",
        "      loss.backward()\n",
        "\n",
        "      loop.set_description('Train - epoch:{}, loss:{:.4f}'.format(epoch, loss.item()))\n",
        "      loop.update(1)\n",
        "\n",
        "      optimizer.step()\n",
        "      if clr:\n",
        "        scheduler.step()\n",
        "\n",
        "    if epoch == (NUM_EPOCHS - 1):\n",
        "      with torch.no_grad():\n",
        "\n",
        "        val_single_acc = []\n",
        "\n",
        "        model.eval()\n",
        "\n",
        "        for _, (val_x, val_y_truth) in enumerate(val_loader):\n",
        "          gc.collect()\n",
        "          val_x, val_y_truth = val_x.cuda(), val_y_truth.cuda()\n",
        "\n",
        "          val_y_hat = model(val_x)\n",
        "          val_acc = torch.eq(val_y_hat.argmax(1), val_y_truth.long()).float().mean()\n",
        "\n",
        "          val_single_acc.append(val_acc.item())\n",
        "\n",
        "        accuracy = np.mean(val_single_acc)\n",
        "        print('\\nValidation - epoch:{}, acc:{:.4f}'.format(epoch, accuracy))\n",
        "\n",
        "    loop.close()\n",
        "\n",
        "  return accuracy"
      ],
      "execution_count": 0,
      "outputs": []
    },
    {
      "cell_type": "markdown",
      "metadata": {
        "id": "p4F96Ge5Tm9R",
        "colab_type": "text"
      },
      "source": [
        "## Part I Loop"
      ]
    },
    {
      "cell_type": "code",
      "metadata": {
        "id": "wJnyfVKeq8oi",
        "colab_type": "code",
        "colab": {
          "base_uri": "https://localhost:8080/",
          "height": 255
        },
        "outputId": "dddbacf3-89c4-4a64-e582-842dcf38695e"
      },
      "source": [
        "  orthogonal = train(activation=nn.ReLU, batch_norm=False, label_smoothing=False, clr=False, dropout=False, init_orthogonal=True)\n",
        "  print('Finished orthogonal')"
      ],
      "execution_count": 8,
      "outputs": [
        {
          "output_type": "stream",
          "text": [
            "\r0it [00:00, ?it/s]"
          ],
          "name": "stderr"
        },
        {
          "output_type": "stream",
          "text": [
            "Downloading https://www.cs.toronto.edu/~kriz/cifar-10-python.tar.gz to /content/cifar-train/cifar-10-python.tar.gz\n"
          ],
          "name": "stdout"
        },
        {
          "output_type": "stream",
          "text": [
            "170500096it [00:02, 72957608.13it/s]                               \n"
          ],
          "name": "stderr"
        },
        {
          "output_type": "stream",
          "text": [
            "Extracting /content/cifar-train/cifar-10-python.tar.gz to /content/cifar-train\n"
          ],
          "name": "stdout"
        },
        {
          "output_type": "stream",
          "text": [
            "  0%|          | 0/170498071 [00:00<?, ?it/s]"
          ],
          "name": "stderr"
        },
        {
          "output_type": "stream",
          "text": [
            "Downloading https://www.cs.toronto.edu/~kriz/cifar-10-python.tar.gz to /content/cifar-val/cifar-10-python.tar.gz\n"
          ],
          "name": "stdout"
        },
        {
          "output_type": "stream",
          "text": [
            "170500096it [00:02, 73732264.63it/s]                               \n"
          ],
          "name": "stderr"
        },
        {
          "output_type": "stream",
          "text": [
            "Extracting /content/cifar-val/cifar-10-python.tar.gz to /content/cifar-val\n"
          ],
          "name": "stdout"
        },
        {
          "output_type": "stream",
          "text": [
            "Train - epoch:0, loss:2.0556: 100%|██████████| 167/167 [03:57<00:00,  1.32s/it]\n",
            "Train - epoch:1, loss:1.8839: 100%|██████████| 167/167 [04:05<00:00,  1.34s/it]\n",
            "Train - epoch:2, loss:1.8697: 100%|██████████| 167/167 [04:05<00:00,  1.33s/it]\n",
            "Train - epoch:3, loss:1.8845: 100%|██████████| 167/167 [04:05<00:00,  1.34s/it]\n",
            "Train - epoch:4, loss:1.7577: 100%|██████████| 167/167 [04:06<00:00,  1.35s/it]"
          ],
          "name": "stderr"
        },
        {
          "output_type": "stream",
          "text": [
            "\n",
            "Validation - epoch:4, acc:0.4150\n",
            "Finished orthogonal\n"
          ],
          "name": "stdout"
        },
        {
          "output_type": "stream",
          "text": [
            "\n"
          ],
          "name": "stderr"
        }
      ]
    },
    {
      "cell_type": "code",
      "metadata": {
        "id": "0PF4NkHbTrHx",
        "colab_type": "code",
        "colab": {
          "base_uri": "https://localhost:8080/",
          "height": 1000
        },
        "outputId": "52adf28a-6ca7-498e-fa95-4c327a72615a"
      },
      "source": [
        "# Obtain accuracies for all tweaks:\n",
        "# Accuracies are the results given on the validation set after 5 epochs\n",
        "try:\n",
        "  baseline = train(activation=nn.ReLU, batch_norm=False, label_smoothing=False, clr=False, dropout=False, init_orthogonal=False)\n",
        "  print('Finished baseline')\n",
        "  leakyrelu = train(activation=nn.LeakyReLU, batch_norm=False, label_smoothing=False, clr=False, dropout=False, init_orthogonal=False)\n",
        "  print('Finished leakyrelu')\n",
        "  selu = train(activation=nn.SELU, batch_norm=False, label_smoothing=False, clr=False, dropout=False, init_orthogonal=False)\n",
        "  print('Finished selu')\n",
        "  elu = train(activation=nn.ELU, batch_norm=False, label_smoothing=False, clr=False, dropout=False, init_orthogonal=False)\n",
        "  print('Finished elu')\n",
        "  hardshrink = train(activation=nn.Hardshrink, batch_norm=False, label_smoothing=False, clr=False, dropout=False, init_orthogonal=False)\n",
        "  print('Finished hardshrink')\n",
        "  batchnorm = train(activation=nn.ReLU, batch_norm=True, label_smoothing=False, clr=False, dropout=False, init_orthogonal=False)\n",
        "  print('Finished batchnorm')\n",
        "  labelsmoothing = train(activation=nn.ReLU, batch_norm=False, label_smoothing=True, clr=False, dropout=False, init_orthogonal=False)\n",
        "  print('Finished labelsmoothing')\n",
        "  clr = train(activation=nn.ReLU, batch_norm=False, label_smoothing=False, clr=True, dropout=False, init_orthogonal=False)\n",
        "  print('Finished clr')\n",
        "  dropout = train(activation=nn.ReLU, batch_norm=False, label_smoothing=False, clr=False, dropout=True, init_orthogonal=False)\n",
        "  print('Finished dropout')\n",
        "  orthogonal = train(activation=nn.ReLU, batch_norm=False, label_smoothing=False, clr=False, dropout=False, init_orthogonal=True)\n",
        "  print('Finished orthogonal')\n",
        "except:\n",
        "  __ITB__()"
      ],
      "execution_count": 11,
      "outputs": [
        {
          "output_type": "stream",
          "text": [
            "Files already downloaded and verified\n",
            "Files already downloaded and verified\n"
          ],
          "name": "stdout"
        },
        {
          "output_type": "stream",
          "text": [
            "Train - epoch:0, loss:2.2121: 100%|██████████| 167/167 [03:48<00:00,  1.24s/it]\n",
            "Train - epoch:1, loss:2.1154: 100%|██████████| 167/167 [03:48<00:00,  1.23s/it]\n",
            "Train - epoch:2, loss:2.0858: 100%|██████████| 167/167 [03:48<00:00,  1.24s/it]\n",
            "Train - epoch:3, loss:1.9915: 100%|██████████| 167/167 [03:49<00:00,  1.23s/it]\n",
            "Train - epoch:4, loss:1.9524: 100%|██████████| 167/167 [03:48<00:00,  1.23s/it]"
          ],
          "name": "stderr"
        },
        {
          "output_type": "stream",
          "text": [
            "\n",
            "Validation - epoch:4, acc:0.3319\n",
            "Finished baseline\n"
          ],
          "name": "stdout"
        },
        {
          "output_type": "stream",
          "text": [
            "\n"
          ],
          "name": "stderr"
        },
        {
          "output_type": "stream",
          "text": [
            "Files already downloaded and verified\n",
            "Files already downloaded and verified\n"
          ],
          "name": "stdout"
        },
        {
          "output_type": "stream",
          "text": [
            "Train - epoch:0, loss:2.1510: 100%|██████████| 167/167 [03:50<00:00,  1.25s/it]\n",
            "Train - epoch:1, loss:2.0888: 100%|██████████| 167/167 [03:49<00:00,  1.24s/it]\n",
            "Train - epoch:2, loss:2.0741: 100%|██████████| 167/167 [03:50<00:00,  1.24s/it]\n",
            "Train - epoch:3, loss:1.9309: 100%|██████████| 167/167 [03:49<00:00,  1.23s/it]\n",
            "Train - epoch:4, loss:1.9672: 100%|██████████| 167/167 [03:48<00:00,  1.23s/it]"
          ],
          "name": "stderr"
        },
        {
          "output_type": "stream",
          "text": [
            "\n",
            "Validation - epoch:4, acc:0.3483\n",
            "Finished leakyrelu\n"
          ],
          "name": "stdout"
        },
        {
          "output_type": "stream",
          "text": [
            "\n"
          ],
          "name": "stderr"
        },
        {
          "output_type": "stream",
          "text": [
            "Files already downloaded and verified\n",
            "Files already downloaded and verified\n"
          ],
          "name": "stdout"
        },
        {
          "output_type": "stream",
          "text": [
            "Train - epoch:0, loss:1.8351: 100%|██████████| 167/167 [03:48<00:00,  1.24s/it]\n",
            "Train - epoch:1, loss:1.6914: 100%|██████████| 167/167 [03:48<00:00,  1.23s/it]\n",
            "Train - epoch:2, loss:1.5831: 100%|██████████| 167/167 [03:49<00:00,  1.24s/it]\n",
            "Train - epoch:3, loss:1.5596: 100%|██████████| 167/167 [03:49<00:00,  1.24s/it]\n",
            "Train - epoch:4, loss:1.5345: 100%|██████████| 167/167 [03:50<00:00,  1.24s/it]"
          ],
          "name": "stderr"
        },
        {
          "output_type": "stream",
          "text": [
            "\n",
            "Validation - epoch:4, acc:0.4788\n",
            "Finished selu\n"
          ],
          "name": "stdout"
        },
        {
          "output_type": "stream",
          "text": [
            "\n"
          ],
          "name": "stderr"
        },
        {
          "output_type": "stream",
          "text": [
            "Files already downloaded and verified\n",
            "Files already downloaded and verified\n"
          ],
          "name": "stdout"
        },
        {
          "output_type": "stream",
          "text": [
            "Train - epoch:0, loss:2.0329: 100%|██████████| 167/167 [03:49<00:00,  1.24s/it]\n",
            "Train - epoch:1, loss:1.9245: 100%|██████████| 167/167 [03:49<00:00,  1.24s/it]\n",
            "Train - epoch:2, loss:1.9121: 100%|██████████| 167/167 [03:49<00:00,  1.24s/it]\n",
            "Train - epoch:3, loss:1.7246: 100%|██████████| 167/167 [03:49<00:00,  1.23s/it]\n",
            "Train - epoch:4, loss:1.8165: 100%|██████████| 167/167 [03:49<00:00,  1.23s/it]"
          ],
          "name": "stderr"
        },
        {
          "output_type": "stream",
          "text": [
            "\n",
            "Validation - epoch:4, acc:0.4100\n",
            "Finished elu\n"
          ],
          "name": "stdout"
        },
        {
          "output_type": "stream",
          "text": [
            "\n"
          ],
          "name": "stderr"
        },
        {
          "output_type": "stream",
          "text": [
            "Files already downloaded and verified\n",
            "Files already downloaded and verified\n"
          ],
          "name": "stdout"
        },
        {
          "output_type": "stream",
          "text": [
            "Train - epoch:0, loss:2.2835: 100%|██████████| 167/167 [03:44<00:00,  1.21s/it]\n",
            "Train - epoch:1, loss:2.2328: 100%|██████████| 167/167 [03:43<00:00,  1.21s/it]\n",
            "Train - epoch:2, loss:2.1826: 100%|██████████| 167/167 [03:43<00:00,  1.21s/it]\n",
            "Train - epoch:3, loss:2.1088: 100%|██████████| 167/167 [03:43<00:00,  1.21s/it]\n",
            "Train - epoch:4, loss:2.0987: 100%|██████████| 167/167 [03:43<00:00,  1.21s/it]"
          ],
          "name": "stderr"
        },
        {
          "output_type": "stream",
          "text": [
            "\n",
            "Validation - epoch:4, acc:0.2719\n",
            "Finished hardshrink\n"
          ],
          "name": "stdout"
        },
        {
          "output_type": "stream",
          "text": [
            "\n"
          ],
          "name": "stderr"
        },
        {
          "output_type": "stream",
          "text": [
            "Files already downloaded and verified\n",
            "Files already downloaded and verified\n"
          ],
          "name": "stdout"
        },
        {
          "output_type": "stream",
          "text": [
            "Train - epoch:0, loss:6.2869: 100%|██████████| 167/167 [04:07<00:00,  1.34s/it]\n",
            "Train - epoch:1, loss:4.2877: 100%|██████████| 167/167 [04:07<00:00,  1.34s/it]\n",
            "Train - epoch:2, loss:2.7639: 100%|██████████| 167/167 [04:07<00:00,  1.34s/it]\n",
            "Train - epoch:3, loss:2.6057: 100%|██████████| 167/167 [04:07<00:00,  1.34s/it]\n",
            "Train - epoch:4, loss:2.4060: 100%|██████████| 167/167 [04:07<00:00,  1.34s/it]"
          ],
          "name": "stderr"
        },
        {
          "output_type": "stream",
          "text": [
            "\n",
            "Validation - epoch:4, acc:0.4003\n",
            "Finished batchnorm\n"
          ],
          "name": "stdout"
        },
        {
          "output_type": "stream",
          "text": [
            "\n"
          ],
          "name": "stderr"
        },
        {
          "output_type": "stream",
          "text": [
            "Files already downloaded and verified\n",
            "Files already downloaded and verified\n"
          ],
          "name": "stdout"
        },
        {
          "output_type": "stream",
          "text": [
            "Train - epoch:0, loss:2.1539: 100%|██████████| 167/167 [03:47<00:00,  1.23s/it]\n",
            "Train - epoch:1, loss:2.0614: 100%|██████████| 167/167 [03:47<00:00,  1.24s/it]\n",
            "Train - epoch:2, loss:1.9933: 100%|██████████| 167/167 [03:48<00:00,  1.23s/it]\n",
            "Train - epoch:3, loss:1.9631: 100%|██████████| 167/167 [03:47<00:00,  1.23s/it]\n",
            "Train - epoch:4, loss:1.9065: 100%|██████████| 167/167 [03:48<00:00,  1.23s/it]"
          ],
          "name": "stderr"
        },
        {
          "output_type": "stream",
          "text": [
            "\n",
            "Validation - epoch:4, acc:0.3269\n",
            "Finished labelsmoothing\n"
          ],
          "name": "stdout"
        },
        {
          "output_type": "stream",
          "text": [
            "\n"
          ],
          "name": "stderr"
        },
        {
          "output_type": "stream",
          "text": [
            "Files already downloaded and verified\n",
            "Files already downloaded and verified\n"
          ],
          "name": "stdout"
        },
        {
          "output_type": "stream",
          "text": [
            "Train - epoch:0, loss:1.7753: 100%|██████████| 167/167 [03:48<00:00,  1.23s/it]\n",
            "Train - epoch:1, loss:1.5918: 100%|██████████| 167/167 [03:49<00:00,  1.24s/it]\n",
            "Train - epoch:2, loss:1.4409: 100%|██████████| 167/167 [03:49<00:00,  1.23s/it]\n",
            "Train - epoch:3, loss:1.3456: 100%|██████████| 167/167 [03:49<00:00,  1.24s/it]\n",
            "Train - epoch:4, loss:1.1589: 100%|██████████| 167/167 [03:50<00:00,  1.24s/it]"
          ],
          "name": "stderr"
        },
        {
          "output_type": "stream",
          "text": [
            "\n",
            "Validation - epoch:4, acc:0.6324\n",
            "Finished clr\n"
          ],
          "name": "stdout"
        },
        {
          "output_type": "stream",
          "text": [
            "\n"
          ],
          "name": "stderr"
        },
        {
          "output_type": "stream",
          "text": [
            "Files already downloaded and verified\n",
            "Files already downloaded and verified\n"
          ],
          "name": "stdout"
        },
        {
          "output_type": "stream",
          "text": [
            "Train - epoch:0, loss:2.1461: 100%|██████████| 167/167 [03:53<00:00,  1.26s/it]\n",
            "Train - epoch:1, loss:2.1748: 100%|██████████| 167/167 [03:52<00:00,  1.25s/it]\n",
            "Train - epoch:2, loss:2.1688: 100%|██████████| 167/167 [03:52<00:00,  1.26s/it]\n",
            "Train - epoch:3, loss:2.0728: 100%|██████████| 167/167 [03:52<00:00,  1.26s/it]\n",
            "Train - epoch:4, loss:2.0896: 100%|██████████| 167/167 [03:52<00:00,  1.26s/it]"
          ],
          "name": "stderr"
        },
        {
          "output_type": "stream",
          "text": [
            "\n",
            "Validation - epoch:4, acc:0.3141\n",
            "Finished dropout\n"
          ],
          "name": "stdout"
        },
        {
          "output_type": "stream",
          "text": [
            "\n"
          ],
          "name": "stderr"
        },
        {
          "output_type": "stream",
          "text": [
            "Files already downloaded and verified\n",
            "Files already downloaded and verified\n"
          ],
          "name": "stdout"
        }
                {
          "output_type": "stream",
          "text": [
            "Train - epoch:0, loss:2.0556: 100%|██████████| 167/167 [03:57<00:00,  1.32s/it]\n",
            "Train - epoch:1, loss:1.8839: 100%|██████████| 167/167 [04:05<00:00,  1.34s/it]\n",
            "Train - epoch:2, loss:1.8697: 100%|██████████| 167/167 [04:05<00:00,  1.33s/it]\n",
            "Train - epoch:3, loss:1.8845: 100%|██████████| 167/167 [04:05<00:00,  1.34s/it]\n",
            "Train - epoch:4, loss:1.7577: 100%|██████████| 167/167 [04:06<00:00,  1.35s/it]"
          ],
          "name": "stderr"
        },
        {
          "output_type": "stream",
          "text": [
            "\n",
            "Validation - epoch:4, acc:0.4150\n",
            "Finished orthogonal\n"
          ],
          "name": "stdout"
        },
        {
          "output_type": "stream",
          "text": [
            "\n"
          ],
          "name": "stderr"
        }
      ]
    },
    {
      "cell_type": "code",
      "metadata": {
        "id": "mrV7W3dxshPe",
        "colab_type": "code",
        "colab": {}
      },
      "source": [
        "# Accuracies\n",
        "baseline = .3319\n",
        "leakyrelu = .3483\n",
        "selu = .4788\n",
        "elu = .4100\n",
        "hardshrink = .2719\n",
        "batchnorm = .4003\n",
        "labelsmoothing = .3269\n",
        "clr = .6324\n",
        "dropout = .3141\n",
        "orthogonal = .4150"
      ],
      "execution_count": 0,
      "outputs": []
    },
    {
      "cell_type": "code",
      "metadata": {
        "id": "o86NoGNDhRSG",
        "colab_type": "code",
        "colab": {
          "base_uri": "https://localhost:8080/",
          "height": 696
        },
        "outputId": "663bea67-f7cd-4ae6-9b78-eccf596b4d0c"
      },
      "source": [
        "import matplotlib.pyplot as plt\n",
        "fig = plt.figure(figsize=(12, 9))\n",
        "ax = fig.add_axes([0,0,1,1])\n",
        "labels = ['Baseline', 'LeakyReLU', 'SELU', 'ELU', 'HardShrink', 'BatchNorm', 'LabelSmoothing', 'CLR', 'Dropout', 'Orthogonal']\n",
        "accuracies = [baseline, leakyrelu, selu, elu, hardshrink, batchnorm, labelsmoothing, clr, dropout, orthogonal]\n",
        "ax.bar(labels, accuracies)\n",
        "plt.axhline(y=baseline,linewidth=1, color='k')\n",
        "plt.xlabel('Tweak')\n",
        "plt.ylabel('Accuracy')\n",
        "plt.show()"
      ],
      "execution_count": 15,
      "outputs": [
        {
          "output_type": "display_data",
          "data": {
            "image/png": "iVBORw0KGgoAAAANSUhEUgAAA4UAAAKnCAYAAAAxw+gpAAAABHNCSVQICAgIfAhkiAAAAAlwSFlz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\nRK5CYII=\n",
            "text/plain": [
              "<Figure size 864x648 with 1 Axes>"
            ]
          },
          "metadata": {
            "tags": []
          }
        }
      ]
    },
    {
      "cell_type": "markdown",
      "metadata": {
        "id": "dTdsEGTitpI4",
        "colab_type": "text"
      },
      "source": [
        "## Part II"
      ]
    },
    {
      "cell_type": "markdown",
      "metadata": {
        "id": "z8xETMe8xtLs",
        "colab_type": "text"
      },
      "source": [
        "### Combination 1\n",
        "\n",
        "Idea:\n",
        "* Take all of the tweaks that performed above the baseline (using SELU, the best performing activation function)\n",
        "\n",
        "Results:\n",
        "* Loss was crazy at first, and still had a hard time settling down to some extent. I assume that it has something to do with the combination of SELU and CLR. It also could have something to do with the self-normalizing concept of SELU and an incorrect initialization strategy in conjunction with using batch_norm.\n",
        "* The SNN paper described a Gaussian initialization strategy and a special kind of dropout due to its self-normalizing behavior. Let's remove SELU since we aren't following the given procedure.\n",
        "* Overall, the network performed quite well comparitively on the validation set."
      ]
    },
    {
      "cell_type": "code",
      "metadata": {
        "id": "mgWipUBhtsZv",
        "colab_type": "code",
        "colab": {
          "base_uri": "https://localhost:8080/",
          "height": 170
        },
        "outputId": "9eb12ce1-7ef2-44fb-f012-bbc608f439f7"
      },
      "source": [
        "try:\n",
        "  cbn1 = train(activation=nn.SELU, batch_norm=True, label_smoothing=False, clr=True, dropout=False, init_orthogonal=True)\n",
        "except:\n",
        "  __ITB__()"
      ],
      "execution_count": 16,
      "outputs": [
        {
          "output_type": "stream",
          "text": [
            "Files already downloaded and verified\n",
            "Files already downloaded and verified\n"
          ],
          "name": "stdout"
        },
        {
          "output_type": "stream",
          "text": [
            "Train - epoch:0, loss:2.4243: 100%|██████████| 167/167 [04:28<00:00,  1.45s/it]\n",
            "Train - epoch:1, loss:2.0539: 100%|██████████| 167/167 [04:27<00:00,  1.46s/it]\n",
            "Train - epoch:2, loss:1.5533: 100%|██████████| 167/167 [04:27<00:00,  1.45s/it]\n",
            "Train - epoch:3, loss:1.2143: 100%|██████████| 167/167 [04:27<00:00,  1.45s/it]\n",
            "Train - epoch:4, loss:1.0306: 100%|██████████| 167/167 [04:27<00:00,  1.45s/it]"
          ],
          "name": "stderr"
        },
        {
          "output_type": "stream",
          "text": [
            "\n",
            "Validation - epoch:4, acc:0.5197\n"
          ],
          "name": "stdout"
        },
        {
          "output_type": "stream",
          "text": [
            "\n"
          ],
          "name": "stderr"
        }
      ]
    },
    {
      "cell_type": "markdown",
      "metadata": {
        "id": "S3d-O391yeTh",
        "colab_type": "text"
      },
      "source": [
        "### Combination 2\n",
        "\n",
        "Idea:\n",
        "* Change from SELU to the next best performing activation function due to the assumption that SELU and CLR was causing problems.\n",
        "\n",
        "Results:\n",
        "* Whether it was batch_norm or CLR, something was messing with SELU to get worse results.\n",
        "* This shows that switching the activation function to ELU helped, likely due to the self-normalizing behavior of SELU."
      ]
    },
    {
      "cell_type": "code",
      "metadata": {
        "id": "x8E-LHy12-t_",
        "colab_type": "code",
        "colab": {
          "base_uri": "https://localhost:8080/",
          "height": 170
        },
        "outputId": "e1a61e98-3913-43e2-cd8b-23d1880945b4"
      },
      "source": [
        "try:\n",
        "  cbn2 = train(activation=nn.ELU, batch_norm=True, label_smoothing=False, clr=True, dropout=False, init_orthogonal=True)\n",
        "except:\n",
        "  __ITB__()"
      ],
      "execution_count": 18,
      "outputs": [
        {
          "output_type": "stream",
          "text": [
            "Files already downloaded and verified\n",
            "Files already downloaded and verified\n"
          ],
          "name": "stdout"
        },
        {
          "output_type": "stream",
          "text": [
            "Train - epoch:0, loss:1.7373: 100%|██████████| 167/167 [04:25<00:00,  1.45s/it]\n",
            "Train - epoch:1, loss:1.2451: 100%|██████████| 167/167 [04:27<00:00,  1.45s/it]\n",
            "Train - epoch:2, loss:0.9868: 100%|██████████| 167/167 [04:27<00:00,  1.45s/it]\n",
            "Train - epoch:3, loss:0.9708: 100%|██████████| 167/167 [04:27<00:00,  1.45s/it]\n",
            "Train - epoch:4, loss:0.9062: 100%|██████████| 167/167 [04:27<00:00,  1.45s/it]"
          ],
          "name": "stderr"
        },
        {
          "output_type": "stream",
          "text": [
            "\n",
            "Validation - epoch:4, acc:0.6139\n"
          ],
          "name": "stdout"
        },
        {
          "output_type": "stream",
          "text": [
            "\n"
          ],
          "name": "stderr"
        }
      ]
    },
    {
      "cell_type": "markdown",
      "metadata": {
        "id": "56tng1vQ6Mmh",
        "colab_type": "text"
      },
      "source": [
        "### Combination 3\n",
        "\n",
        "Idea:\n",
        "* I noticed that the loss for the previous two combinations was lower than the original CLR run. However, the accuracy wasn't nearly as good. Maybe the network is overfitting on the training set just slighly. Let's add in dropout.\n",
        "\n",
        "Results:\n",
        "* It seems that adding dropout helped increase the accuracy by 4 percentage points.\n"
      ]
    },
    {
      "cell_type": "code",
      "metadata": {
        "id": "hLUHkR456N6g",
        "colab_type": "code",
        "colab": {
          "base_uri": "https://localhost:8080/",
          "height": 170
        },
        "outputId": "fbb0bc9b-ac63-4ca2-cb40-c6f236fcd5f0"
      },
      "source": [
        "try:\n",
        "  cbn3 = train(activation=nn.ELU, batch_norm=True, label_smoothing=False, clr=True, dropout=True, init_orthogonal=True)\n",
        "except:\n",
        "  __ITB__()"
      ],
      "execution_count": 19,
      "outputs": [
        {
          "output_type": "stream",
          "text": [
            "Files already downloaded and verified\n",
            "Files already downloaded and verified\n"
          ],
          "name": "stdout"
        },
        {
          "output_type": "stream",
          "text": [
            "Train - epoch:0, loss:2.0086: 100%|██████████| 167/167 [04:26<00:00,  1.47s/it]\n",
            "Train - epoch:1, loss:1.6540: 100%|██████████| 167/167 [04:32<00:00,  1.49s/it]\n",
            "Train - epoch:2, loss:1.5107: 100%|██████████| 167/167 [04:31<00:00,  1.48s/it]\n",
            "Train - epoch:3, loss:1.2175: 100%|██████████| 167/167 [04:31<00:00,  1.47s/it]\n",
            "Train - epoch:4, loss:1.0754: 100%|██████████| 167/167 [04:31<00:00,  1.47s/it]"
          ],
          "name": "stderr"
        },
        {
          "output_type": "stream",
          "text": [
            "\n",
            "Validation - epoch:4, acc:0.6538\n"
          ],
          "name": "stdout"
        },
        {
          "output_type": "stream",
          "text": [
            "\n"
          ],
          "name": "stderr"
        }
      ]
    },
    {
      "cell_type": "markdown",
      "metadata": {
        "id": "7ZxsUyGC63Bx",
        "colab_type": "text"
      },
      "source": [
        "### Combination 4\n",
        "Idea:\n",
        "* Thus far, we have been using SGD as the optimizer (to allow CLR to work natively in pytorch). Let's keep all the tweaks that helped improve accuracy, but remove CLR in favor of a standalone Adam optimizer.\n",
        "\n",
        "Results:\n",
        "* The higher base learning rate and max learning rate resulted in massive losses at the beginning until we got the gradients settled down.\n",
        "* Although it improved, the losses were still jumping all over the place. Adjusting the learning rate is likely a huge factor in determing the success of your model (We only have a finite amount of time to train)."
      ]
    },
    {
      "cell_type": "code",
      "metadata": {
        "id": "7Nszb51n7Ou4",
        "colab_type": "code",
        "colab": {
          "base_uri": "https://localhost:8080/",
          "height": 170
        },
        "outputId": "f2d67f71-31fe-4324-e3d0-42004ec4a745"
      },
      "source": [
        "try:\n",
        "  cbn4 = train(activation=nn.ELU, batch_norm=True, label_smoothing=False, clr=False, dropout=True, init_orthogonal=True, adam=True)\n",
        "except:\n",
        "  __ITB__()"
      ],
      "execution_count": 23,
      "outputs": [
        {
          "output_type": "stream",
          "text": [
            "Files already downloaded and verified\n",
            "Files already downloaded and verified\n"
          ],
          "name": "stdout"
        },
        {
          "output_type": "stream",
          "text": [
            "Train - epoch:0, loss:1.8142: 100%|██████████| 167/167 [04:35<00:00,  1.50s/it]\n",
            "Train - epoch:1, loss:1.6508: 100%|██████████| 167/167 [04:34<00:00,  1.49s/it]\n",
            "Train - epoch:2, loss:1.4429: 100%|██████████| 167/167 [04:35<00:00,  1.49s/it]\n",
            "Train - epoch:3, loss:1.2944: 100%|██████████| 167/167 [04:35<00:00,  1.50s/it]\n",
            "Train - epoch:4, loss:1.1345: 100%|██████████| 167/167 [04:34<00:00,  1.51s/it]"
          ],
          "name": "stderr"
        },
        {
          "output_type": "stream",
          "text": [
            "\n",
            "Validation - epoch:4, acc:0.6146\n"
          ],
          "name": "stdout"
        },
        {
          "output_type": "stream",
          "text": [
            "\n"
          ],
          "name": "stderr"
        }
      ]
    },
    {
      "cell_type": "markdown",
      "metadata": {
        "id": "RKt-RFBGFdFT",
        "colab_type": "text"
      },
      "source": [
        "### Combination 5\n",
        "Idea:\n",
        "* Increase the learning rate for Adam and use a different initialization. Maybe we simply need more time to converge or a quicker learning rate.\n",
        "\n",
        "Results:\n"
      ]
    },
    {
      "cell_type": "code",
      "metadata": {
        "id": "D7r-Y-d9Hhp0",
        "colab_type": "code",
        "colab": {
          "base_uri": "https://localhost:8080/",
          "height": 170
        },
        "outputId": "734ee011-f0bb-424c-eec2-614b4d5ca810"
      },
      "source": [
        "try:\n",
        "  cbn5 = train(activation=nn.ELU, batch_norm=True, label_smoothing=False, clr=False, dropout=True, init_orthogonal=False, adam=True, lrbase=1e-3, lrmax=5e-2)\n",
        "except:\n",
        "  __ITB__()"
      ],
      "execution_count": 26,
      "outputs": [
        {
          "output_type": "stream",
          "text": [
            "Files already downloaded and verified\n",
            "Files already downloaded and verified\n"
          ],
          "name": "stdout"
        },
        {
          "output_type": "stream",
          "text": [
            "Train - epoch:0, loss:2.3053: 100%|██████████| 167/167 [04:35<00:00,  1.49s/it]\n",
            "Train - epoch:1, loss:1.3723: 100%|██████████| 167/167 [04:34<00:00,  1.50s/it]\n",
            "Train - epoch:2, loss:1.5377: 100%|██████████| 167/167 [04:35<00:00,  1.50s/it]\n",
            "Train - epoch:3, loss:1.2626: 100%|██████████| 167/167 [04:34<00:00,  1.50s/it]\n",
            "Train - epoch:4, loss:1.1360: 100%|██████████| 167/167 [04:34<00:00,  1.50s/it]"
          ],
          "name": "stderr"
        },
        {
          "output_type": "stream",
          "text": [
            "\n",
            "Validation - epoch:4, acc:0.6608\n"
          ],
          "name": "stdout"
        },
        {
          "output_type": "stream",
          "text": [
            "\n"
          ],
          "name": "stderr"
        }
      ]
    },
    {
      "cell_type": "markdown",
      "metadata": {
        "id": "CmzT_JqfNrPg",
        "colab_type": "text"
      },
      "source": [
        "### Combination 6\n",
        "\n",
        "Idea:\n",
        "* Maybe the learning rate using SGD was a little too low and it simply couldn't converge quick enough. What if we increase the bounds of the learning rate slightly to see if we converge quicker, while still using CLR.\n",
        "\n",
        "Results:\n",
        "* "
      ]
    },
    {
      "cell_type": "code",
      "metadata": {
        "id": "OnxTqVF6OGxA",
        "colab_type": "code",
        "colab": {
          "base_uri": "https://localhost:8080/",
          "height": 170
        },
        "outputId": "27196679-014a-49bc-d70f-489dbf98cdca"
      },
      "source": [
        "try:\n",
        "  cbn6 = train(activation=nn.ELU, batch_norm=True, label_smoothing=False, clr=True, dropout=True, init_orthogonal=True, adam=False, lrbase=1e-3, lrmax=5e-2)\n",
        "except:\n",
        "  __ITB__()"
      ],
      "execution_count": 27,
      "outputs": [
        {
          "output_type": "stream",
          "text": [
            "Files already downloaded and verified\n",
            "Files already downloaded and verified\n"
          ],
          "name": "stdout"
        },
        {
          "output_type": "stream",
          "text": [
            "Train - epoch:0, loss:2.2606: 100%|██████████| 167/167 [04:31<00:00,  1.47s/it]\n",
            "Train - epoch:1, loss:1.8941: 100%|██████████| 167/167 [04:31<00:00,  1.47s/it]\n",
            "Train - epoch:2, loss:1.5508: 100%|██████████| 167/167 [04:31<00:00,  1.47s/it]\n",
            "Train - epoch:3, loss:1.3968: 100%|██████████| 167/167 [04:31<00:00,  1.48s/it]\n",
            "Train - epoch:4, loss:1.3752: 100%|██████████| 167/167 [04:31<00:00,  1.47s/it]"
          ],
          "name": "stderr"
        },
        {
          "output_type": "stream",
          "text": [
            "\n",
            "Validation - epoch:4, acc:0.5264\n"
          ],
          "name": "stdout"
        },
        {
          "output_type": "stream",
          "text": [
            "\n"
          ],
          "name": "stderr"
        }
      ]
    },
    {
      "cell_type": "markdown",
      "metadata": {
        "id": "HDRo_8DsLoCr",
        "colab_type": "text"
      },
      "source": [
        "## Conclusion\n",
        "\n",
        "When searching for the best hyper-parameters, I think a great place to start is by choosing your activation function. The activation may determine the impact on the rest of the hyper parameters that you choose to select. For example, SELU performs best when weights are initialized with Gaussian and a special kind of dropout is used (to preserve self-normalization). Thus, the hyper-parameters of batch norm, initialization, and regularization will be greatly dependent on your choice of activation function.\n",
        "\n",
        "Cyclic learning rates improve performance. However, they tend not to work all that well with adaptive optimizers. It seems that CLR should be used whenever you use SGD or anything non-adaptive. There is a trade-off here, because usually an optimizer like Adam will converge much quicker than SGD. This may require some tuning to discover which works better. Along these lines, the chosen learning rates are extremely important as well.\n",
        "\n",
        "Overall, my best set of hyper-parameters included ELU, Batch_Norm, Label_Smoothing, Adam Optimizer, Dropout, and Xavier initialization.\n",
        "Compared to the baseline performance, the best hyper-parameter combination jumped over 30 percentage points. There was also nearly a 50 percentage point difference between the best hyper-parameter combination and the worst hyper-parameter combination. Are hyper-parameters important? I think so!"
      ]
    }
  ]
}
